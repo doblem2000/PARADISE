{
 "cells": [
  {
   "cell_type": "code",
   "execution_count": 1,
   "metadata": {},
   "outputs": [],
   "source": [
    "import os\n",
    "import os.path\n",
    "import numpy as np\n",
    "from PIL import Image\n",
    "from torchvision import transforms\n",
    "import torch\n",
    "from typing import List, Union, Tuple, Any\n",
    "from striprtf.striprtf import rtf_to_text\n",
    "import albumentations\n",
    "import cv2, os, argparse, glob, PIL, tqdm\n",
    "from torch.utils.data import DataLoader\n",
    "from tqdm import tqdm"
   ]
  },
  {
   "cell_type": "code",
   "execution_count": 2,
   "metadata": {},
   "outputs": [],
   "source": [
    "import os\n",
    "import os.path\n",
    "import numpy as np\n",
    "from PIL import Image\n",
    "from torchvision import transforms\n",
    "import torch\n",
    "from typing import List, Union, Tuple, Any\n",
    "from striprtf.striprtf import rtf_to_text\n",
    "import albumentations\n",
    "\n",
    "\n",
    "class VideoRecord(object):\n",
    "    \"\"\"\n",
    "    Helper class for class VideoFrameDataset. This class\n",
    "    represents a video sample's metadata.\n",
    "\n",
    "    Args:\n",
    "        root_datapath: the system path to the root folder of the videos.\n",
    "        row: A list with four or more elements where\n",
    "             1) The first element is the path to the video sample's frames excluding\n",
    "             the root_datapath prefix\n",
    "             2) The second element is the starting frame id of the video\n",
    "             3) The third element is the inclusive ending frame id of the video\n",
    "             4) The fourth element is the label index.\n",
    "             5) any following elements are labels in the case of multi-label classification\n",
    "    \"\"\"\n",
    "    def __init__(self, row, root_datapath):\n",
    "        self._data = row\n",
    "        self._path = os.path.join(root_datapath, row[0])\n",
    "\n",
    "    @property\n",
    "    def path(self) -> str:\n",
    "        return self._path\n",
    "\n",
    "    @property\n",
    "    def num_frames(self) -> int:\n",
    "        return self.end_frame - self.start_frame + 1  # +1 because end frame is inclusive\n",
    "\n",
    "    @property\n",
    "    def start_frame(self) -> int:\n",
    "        return int(self._data[1])\n",
    "\n",
    "    @property\n",
    "    def end_frame(self) -> int:\n",
    "        return int(self._data[2])\n",
    "\n",
    "    @property\n",
    "    def label(self) -> Union[int, List[int]]:\n",
    "        # just one label_id\n",
    "        if len(self._data) == 4:\n",
    "            return int(self._data[3])\n",
    "        # sample associated with multiple labels\n",
    "        else:\n",
    "            return [int(label_id) for label_id in self._data[3:]]\n",
    "\n",
    "\n",
    "class VideoFrameDataset(torch.utils.data.Dataset):\n",
    "    r\"\"\"\n",
    "    A highly efficient and adaptable dataset class for videos.\n",
    "    Instead of loading every frame of a video,\n",
    "    loads x RGB frames of a video (sparse temporal sampling) and evenly\n",
    "    chooses those frames from start to end of the video, returning\n",
    "    a list of x PIL images or ``FRAMES x CHANNELS x HEIGHT x WIDTH``\n",
    "    tensors.\n",
    "\n",
    "    More specifically, the frame range [START_FRAME, END_FRAME] is divided into NUM_SEGMENTS\n",
    "    segments and FRAMES_PER_SEGMENT consecutive frames are taken from each segment.\n",
    "\n",
    "    Note:\n",
    "        A demonstration of using this class can be seen\n",
    "        in ``demo.py``\n",
    "        https://github.com/RaivoKoot/Video-Dataset-Loading-Pytorch\n",
    "\n",
    "    Note:\n",
    "        This dataset broadly corresponds to the frame sampling technique\n",
    "        introduced in ``Temporal Segment Networks`` at ECCV2016\n",
    "        https://arxiv.org/abs/1608.00859.\n",
    "\n",
    "    Args:\n",
    "        root_path: The root path in which video folders lie.\n",
    "                   this is ROOT_DATA from the description above.\n",
    "        num_segments: The number of segments the video should\n",
    "                      be divided into to sample frames from.\n",
    "        frames_per_segment: The number of frames that should\n",
    "                            be loaded per segment. For each segment's\n",
    "                            frame-range, a random start index or the\n",
    "                            center is chosen, from which frames_per_segment\n",
    "                            consecutive frames are loaded.\n",
    "        imagefile_template: The image filename template that video frame files\n",
    "                            have inside of their video folders as described above.\n",
    "        transform: Transform pipeline that receives a list of numpy images/frames.\n",
    "        test_mode: If True, frames are taken from the center of each\n",
    "                   segment, instead of a random location in each segment.\n",
    "\n",
    "    \"\"\"\n",
    "    def __init__(self,\n",
    "                 root_path: str,\n",
    "                 num_segments: int = 3, # Possiamo adattare il modo per scegliere i frame dei video. Non si scelgono tutti i frami di un video in una rete.\n",
    "                 frames_per_segment: int = 1, # Cambiando num_segments e frames_per_segment cambiamo il modo per scegliere i frame. NOTA: Ad ogni epoca scegliamo dei frame casuali per addestrare la rete. Dopo tante epoche probabilmente abbiamo preso tutti (o quasi) i frame del video.\n",
    "                 # Prendo tre segmenti da un frame\n",
    "                 imagefile_template: str='{:05d}.jpg', # è il pattern per i nomi del frame.\n",
    "                 transform=None, # Sono tutte le augmentation e process che vogliamo applicare ai dati.\n",
    "                 totensor=True, #\n",
    "                 test_mode: bool = False): # Durante il training ha senso che prendiamo dei frame casuali dai segmenti -> test_mode = False. Ma durante la validation non ha senso cambiare il frame selezionato per valutare la loss -> test_mode = True.\n",
    "        super(VideoFrameDataset, self).__init__()\n",
    "\n",
    "        # Settiamo le variabili\n",
    "        self.root_path = root_path\n",
    "        self.num_segments = num_segments\n",
    "        self.frames_per_segment = frames_per_segment\n",
    "        self.imagefile_template = imagefile_template\n",
    "        self.test_mode = test_mode\n",
    "\n",
    "        if transform is None:\n",
    "            self.transform = None\n",
    "        else:\n",
    "            additional_targets = {}\n",
    "            for i in range(self.num_segments * self.frames_per_segment - 1):\n",
    "                additional_targets[\"image%d\" % i] = \"image\"\n",
    "            self.transform = albumentations.Compose([transform],\n",
    "                                                    additional_targets=additional_targets,\n",
    "                                                    p=1)\n",
    "        self.totensor = totensor\n",
    "        self.totensor_transform = ImglistOrdictToTensor() # Applica toTensor ad un set di frame.\n",
    "\n",
    "        self._parse_annotationfile() # Assegna le annotazioni ad ogni video\n",
    "        self._sanity_check_samples() # Contorlla che le annotazioni ad ogni video sono corrette\n",
    "\n",
    "    def _load_image(self, directory: str, idx: int) -> Image.Image:\n",
    "        return np.asarray(Image.open(os.path.join(directory, self.imagefile_template.format(idx))).convert('RGB'))\n",
    "\n",
    "    def _parse_annotationfile(self):\n",
    "        self.video_list = []\n",
    "        for class_name in os.listdir(self.root_path):\n",
    "            for video_name in os.listdir(os.path.join(self.root_path, class_name)):\n",
    "                frames_dir = os.path.join(self.root_path, class_name, video_name)\n",
    "                if os.path.isdir(frames_dir):\n",
    "                    frame_path = os.path.join(class_name, video_name)\n",
    "                    end_frame = len(os.listdir(frames_dir))\n",
    "\n",
    "                    # PARTE PIù IMPORTANTE. Questo codice ci permette di ottenere una corrispondenza fra video e annotation.\n",
    "                    annotation_path = frames_dir\\\n",
    "                        .replace(\"\\\\\", \"/\") \\\n",
    "                        .replace(\"FRAMES/\", \"GT/\") \\\n",
    "                        .replace(\".mp4\", \".rtf\")\n",
    "\n",
    "                    with open(annotation_path, 'r') as file:\n",
    "                        text = rtf_to_text(file.read())\n",
    "                    if len(text):\n",
    "                        label = 1\n",
    "                        start_frame = int(text.split(\",\")[0])\n",
    "                        if start_frame == 0:\n",
    "                          start_frame = 1\n",
    "                    else:\n",
    "                        label = 0\n",
    "                        start_frame = 1\n",
    "\n",
    "                    self.video_list.append(VideoRecord( # Creo l'oggetto VideoRecord. Se nel training ho dei video con il fuoco ci sono frame che non hanno fuoco. Per evitare questo settiamo un frame iniziale dal quale inizia il fuoco e quindi dobbiamo campionare solo dopo questo frame -> è meglio scartare questi frame.\n",
    "                        [frame_path, start_frame, end_frame, label],\n",
    "                        self.root_path))\n",
    "\n",
    "    def _sanity_check_samples(self):\n",
    "        for record in self.video_list:\n",
    "            if record.num_frames <= 0 or record.start_frame == record.end_frame:\n",
    "                print(f\"\\nDataset Warning: video {record.path} seems to have zero RGB frames on disk!\\n\")\n",
    "\n",
    "            elif record.num_frames < (self.num_segments * self.frames_per_segment):\n",
    "                print(f\"\\nDataset Warning: video {record.path} has {record.num_frames} frames \"\n",
    "                      f\"but the dataloader is set up to load \"\n",
    "                      f\"(num_segments={self.num_segments})*(frames_per_segment={self.frames_per_segment})\"\n",
    "                      f\"={self.num_segments * self.frames_per_segment} frames. Dataloader will throw an \"\n",
    "                      f\"error when trying to load this video.\\n\")\n",
    "\n",
    "    def _get_start_indices(self, record: VideoRecord) -> 'np.ndarray[int]':\n",
    "        \"\"\"\n",
    "        For each segment, choose a start index from where frames\n",
    "        are to be loaded from.\n",
    "\n",
    "        Args:\n",
    "            record: VideoRecord denoting a video sample.\n",
    "        Returns:\n",
    "            List of indices of where the frames of each\n",
    "            segment are to be loaded from.\n",
    "        \"\"\"\n",
    "        # choose start indices that are perfectly evenly spread across the video frames.\n",
    "        if self.test_mode:\n",
    "            distance_between_indices = (record.num_frames - self.frames_per_segment + 1) / float(self.num_segments)\n",
    "\n",
    "            start_indices = np.array([int(distance_between_indices / 2.0 + distance_between_indices * x)\n",
    "                                      for x in range(self.num_segments)])\n",
    "        # randomly sample start indices that are approximately evenly spread across the video frames.\n",
    "        else:\n",
    "            max_valid_start_index = (record.num_frames - self.frames_per_segment + 1) // self.num_segments\n",
    "\n",
    "            start_indices = np.multiply(list(range(self.num_segments)), max_valid_start_index) + \\\n",
    "                      np.random.randint(max_valid_start_index, size=self.num_segments)\n",
    "\n",
    "        return start_indices\n",
    "\n",
    "    def __getitem__(self, idx: int) -> Union[\n",
    "        Tuple[List[Image.Image], Union[int, List[int]]],\n",
    "        Tuple['torch.Tensor[num_frames, channels, height, width]', Union[int, List[int]]],\n",
    "        Tuple[Any, Union[int, List[int]]],\n",
    "        ]:\n",
    "        \"\"\"\n",
    "        For video with id idx, loads self.NUM_SEGMENTS * self.FRAMES_PER_SEGMENT\n",
    "        frames from evenly chosen locations across the video.\n",
    "\n",
    "        Args:\n",
    "            idx: Video sample index.\n",
    "        Returns:\n",
    "            A tuple of (video, label). Label is either a single\n",
    "            integer or a list of integers in the case of multiple labels.\n",
    "            Video is either 1) a list of PIL images if no transform is used\n",
    "            2) a batch of shape (NUM_IMAGES x CHANNELS x HEIGHT x WIDTH) in the range [0,1]\n",
    "            if the transform \"ImglistToTensor\" is used\n",
    "            3) or anything else if a custom transform is used.\n",
    "        \"\"\"\n",
    "        record: VideoRecord = self.video_list[idx]\n",
    "\n",
    "        frame_start_indices: 'np.ndarray[int]' = self._get_start_indices(record)\n",
    "\n",
    "        return self._get(record, frame_start_indices)\n",
    "\n",
    "    def _get(self, record: VideoRecord, frame_start_indices: 'np.ndarray[int]') -> Union[\n",
    "        Tuple[List[Image.Image], Union[int, List[int]]],\n",
    "        Tuple['torch.Tensor[num_frames, channels, height, width]', Union[int, List[int]]],\n",
    "        Tuple[Any, Union[int, List[int]]],\n",
    "        ]:\n",
    "        \"\"\"\n",
    "        Loads the frames of a video at the corresponding\n",
    "        indices.\n",
    "\n",
    "        Args:\n",
    "            record: VideoRecord denoting a video sample.\n",
    "            frame_start_indices: Indices from which to load consecutive frames from.\n",
    "        Returns:\n",
    "            A tuple of (video, label). Label is either a single\n",
    "            integer or a list of integers in the case of multiple labels.\n",
    "            Video is either 1) a list of PIL images if no transform is used\n",
    "            2) a batch of shape (NUM_IMAGES x CHANNELS x HEIGHT x WIDTH) in the range [0,1]\n",
    "            if the transform \"ImglistToTensor\" is used\n",
    "            3) or anything else if a custom transform is used.\n",
    "        \"\"\"\n",
    "\n",
    "        frame_start_indices = frame_start_indices + record.start_frame\n",
    "        images = list()\n",
    "\n",
    "        # from each start_index, load self.frames_per_segment\n",
    "        # consecutive frames\n",
    "        for start_index in frame_start_indices:\n",
    "            frame_index = int(start_index)\n",
    "\n",
    "            # load self.frames_per_segment consecutive frames\n",
    "            for _ in range(self.frames_per_segment):\n",
    "                image = self._load_image(record.path, frame_index)\n",
    "                images.append(image)\n",
    "\n",
    "                if frame_index < record.end_frame:\n",
    "                    frame_index += 1\n",
    "\n",
    "        if self.transform is not None:\n",
    "            transform_input = {\"image\": images[0]}\n",
    "            for i, image in enumerate(images[1:]):\n",
    "                transform_input[\"image%d\" % i] = image\n",
    "            images = self.transform(**transform_input)\n",
    "\n",
    "        if self.totensor:\n",
    "            images = self.totensor_transform(images)\n",
    "        return images, record.label\n",
    "\n",
    "    def __len__(self):\n",
    "        return len(self.video_list)\n",
    "\n",
    "\n",
    "class ImglistOrdictToTensor(torch.nn.Module):\n",
    "    \"\"\"\n",
    "    Converts a list or a dict of numpy images to a torch.FloatTensor\n",
    "    of shape (NUM_IMAGES x CHANNELS x HEIGHT x WIDTH).\n",
    "    Can be used as first transform for ``VideoFrameDataset``.\n",
    "    \"\"\"\n",
    "    @staticmethod\n",
    "    def forward(img_list_or_dict):\n",
    "        \"\"\"\n",
    "        Converts each numpy image in a list or a dict to\n",
    "        a torch Tensor and stacks them into a single tensor.\n",
    "\n",
    "        Args:\n",
    "            img_list_or_dict: list or dict of numpy images.\n",
    "        Returns:\n",
    "            tensor of size ``NUM_IMAGES x CHANNELS x HEIGHT x WIDTH``\n",
    "        \"\"\"\n",
    "        if isinstance(img_list_or_dict, list):\n",
    "            return torch.stack([transforms.functional.to_tensor(img)\n",
    "                                for img in img_list_or_dict])\n",
    "        else:\n",
    "            return torch.stack([transforms.functional.to_tensor(img_list_or_dict[k])\n",
    "                                for k in img_list_or_dict.keys()])\n"
   ]
  },
  {
   "cell_type": "code",
   "execution_count": 3,
   "metadata": {},
   "outputs": [
    {
     "name": "stdout",
     "output_type": "stream",
     "text": [
      "<__main__.VideoFrameDataset object at 0x7f46b2664400> \n",
      "elements: 249\n",
      "first element data torch.Size([3, 3, 224, 224]) tensor(-2.1008) tensor(2.6226) tensor(-0.9235) tensor(0.8918) \n",
      "label 0\n",
      "<__main__.VideoFrameDataset object at 0x7f46b2667430> \n",
      "elements: 63\n",
      "first element data torch.Size([3, 3, 224, 224]) tensor(-1.9638) tensor(1.2385) tensor(-0.5446) tensor(0.7627) \n",
      "label 0\n"
     ]
    }
   ],
   "source": [
    "# Preprocessing and augmentation\n",
    "preprocessing = albumentations.Sequential([\n",
    "    albumentations.Resize(height=224, width=224, always_apply=True), # Facciamo la resize. Può succedere un pò di distorsione ma non è un problema.\n",
    "    albumentations.Normalize(mean=[0.485, 0.456, 0.406],\n",
    "                                std=[0.229, 0.224, 0.225],\n",
    "                                max_pixel_value=255.,\n",
    "                                always_apply=True),\n",
    "])\n",
    "\n",
    "augmentation = albumentations.OneOf([\n",
    "    albumentations.HorizontalFlip(p=1.),\n",
    "    ], p=.5)\n",
    "\n",
    "# Dataset for training\n",
    "train_dataset = VideoFrameDataset(root_path=\"FRAMES/TRAINING_SET/\",\n",
    "                            num_segments=3,\n",
    "                            frames_per_segment=1,\n",
    "                            transform=albumentations.Compose([\n",
    "                                preprocessing,\n",
    "                                augmentation],\n",
    "                                p=1.,\n",
    "                            )\n",
    "                            )\n",
    "# Dataset for validation\n",
    "validation_dataset = VideoFrameDataset(root_path=\"FRAMES/VALIDATION_SET/\",\n",
    "                            num_segments=3,\n",
    "                            frames_per_segment=1,\n",
    "                            transform=albumentations.Compose([\n",
    "                                preprocessing],\n",
    "                                p=1.,)\n",
    "                            )\n",
    "\n",
    "\n",
    "\n",
    "\n",
    "print(train_dataset, \"\\nelements:\", len(train_dataset))\n",
    "X, y = train_dataset[0] # A tuple of (video, label). video: (NUM_IMAGES x CHANNELS x HEIGHT x WIDTH)\n",
    "\n",
    "print('first element data', X.shape, X.min(), X.max(), X.mean(), X.std(), '\\nlabel', y)\n",
    "\n",
    "print(validation_dataset, \"\\nelements:\", len(validation_dataset))\n",
    "X, y = validation_dataset[0] # A tuple of (video, label). video: (NUM_IMAGES x CHANNELS x HEIGHT x WIDTH)\n",
    "\n",
    "print('first element data', X.shape, X.min(), X.max(), X.mean(), X.std(), '\\nlabel', y)\n",
    "\n"
   ]
  },
  {
   "cell_type": "code",
   "execution_count": 4,
   "metadata": {},
   "outputs": [
    {
     "name": "stdout",
     "output_type": "stream",
     "text": [
      "<torch.utils.data.dataloader.DataLoader object at 0x7f46b2666380> \n",
      "batches: 249\n"
     ]
    },
    {
     "name": "stderr",
     "output_type": "stream",
     "text": [
      "  6%|▌         | 14/249 [00:02<00:34,  6.85it/s]"
     ]
    },
    {
     "name": "stdout",
     "output_type": "stream",
     "text": [
      "batch data torch.Size([1, 3, 3, 224, 224]) tensor(-1.3815) tensor(2.0823) tensor(0.4796) tensor(0.8932) \n",
      "label tensor([1])\n",
      "batch data torch.Size([1, 3, 3, 224, 224]) tensor(-2.0837) tensor(2.6400) tensor(0.9410) tensor(0.9645) \n",
      "label tensor([1])\n",
      "batch data torch.Size([1, 3, 3, 224, 224]) tensor(-2.1179) tensor(2.6400) tensor(-0.0617) tensor(0.9945) \n",
      "label tensor([1])\n",
      "batch data torch.Size([1, 3, 3, 224, 224]) tensor(-1.9809) tensor(2.4134) tensor(-0.1486) tensor(1.3176) \n",
      "label tensor([1])\n",
      "batch data torch.Size([1, 3, 3, 224, 224]) tensor(-2.0323) tensor(2.6400) tensor(0.4251) tensor(1.2356) \n",
      "label tensor([0])\n",
      "batch data torch.Size([1, 3, 3, 224, 224]) tensor(-2.1179) tensor(2.6400) tensor(-0.4173) tensor(1.1688) \n",
      "label tensor([1])\n",
      "batch data torch.Size([1, 3, 3, 224, 224]) tensor(-2.1179) tensor(2.6400) tensor(0.4569) tensor(1.1545) \n",
      "label tensor([1])\n",
      "batch data torch.Size([1, 3, 3, 224, 224]) tensor(-2.1179) tensor(2.6226) tensor(0.1153) tensor(0.6730) \n",
      "label tensor([1])\n",
      "batch data torch.Size([1, 3, 3, 224, 224]) tensor(-2.1179) tensor(2.6400) tensor(0.1612) tensor(0.9585) \n",
      "label tensor([1])\n",
      "batch data torch.Size([1, 3, 3, 224, 224]) tensor(-2.1179) tensor(2.4286) tensor(0.3381) tensor(1.1841) \n",
      "label tensor([1])\n",
      "batch data torch.Size([1, 3, 3, 224, 224]) tensor(-2.1179) tensor(2.6400) tensor(0.4938) tensor(1.1663) \n",
      "label tensor([1])\n",
      "batch data torch.Size([1, 3, 3, 224, 224]) tensor(-1.9809) tensor(1.1759) tensor(-0.5278) tensor(0.7683) \n",
      "label tensor([0])\n",
      "batch data torch.Size([1, 3, 3, 224, 224]) tensor(-2.1179) tensor(2.6400) tensor(-0.1575) tensor(0.8486) \n",
      "label tensor([1])\n",
      "batch data torch.Size([1, 3, 3, 224, 224]) tensor(-2.1179) tensor(2.6400) tensor(-0.1741) tensor(1.2120) \n",
      "label tensor([0])\n",
      "batch data torch.Size([1, 3, 3, 224, 224]) tensor(-2.1179) tensor(1.5125) tensor(-1.4711) tensor(0.5628) \n",
      "label tensor([0])\n",
      "batch data torch.Size([1, 3, 3, 224, 224]) tensor(-1.9295) tensor(2.1868) tensor(-0.0924) tensor(1.1891) \n",
      "label tensor([1])\n",
      "batch data torch.Size([1, 3, 3, 224, 224]) tensor(-2.1179) tensor(2.6400) tensor(-0.1705) tensor(1.1391) \n",
      "label tensor([1])\n",
      "batch data torch.Size([1, 3, 3, 224, 224]) tensor(-2.0494) tensor(2.6400) tensor(-0.8663) tensor(0.8049) \n",
      "label tensor([0])\n",
      "batch data torch.Size([1, 3, 3, 224, 224]) tensor(-2.1008) tensor(1.7337) tensor(-0.7118) tensor(1.0738) \n",
      "label tensor([1])\n",
      "batch data torch.Size([1, 3, 3, 224, 224]) tensor(-2.0323) tensor(2.1346) tensor(-0.2066) tensor(1.2888) \n",
      "label tensor([1])\n",
      "batch data torch.Size([1, 3, 3, 224, 224]) tensor(-2.0323) tensor(2.6400) tensor(-0.3475) tensor(1.5382) \n",
      "label tensor([0])\n",
      "batch data torch.Size([1, 3, 3, 224, 224]) tensor(-2.1179) tensor(2.6400) tensor(-0.0584) tensor(1.0507) \n",
      "label tensor([1])\n",
      "batch data torch.Size([1, 3, 3, 224, 224]) tensor(-2.1179) tensor(1.7860) tensor(-0.2882) tensor(1.1200) \n",
      "label tensor([1])\n",
      "batch data torch.Size([1, 3, 3, 224, 224]) tensor(-2.1179) tensor(2.6400) tensor(0.0315) tensor(0.9414) \n",
      "label tensor([1])\n"
     ]
    },
    {
     "name": "stderr",
     "output_type": "stream",
     "text": [
      " 15%|█▍        | 37/249 [00:03<00:09, 22.34it/s]"
     ]
    },
    {
     "name": "stdout",
     "output_type": "stream",
     "text": [
      "batch data torch.Size([1, 3, 3, 224, 224]) tensor(-1.9638) tensor(2.6400) tensor(0.0277) tensor(1.4476) \n",
      "label tensor([0])\n",
      "batch data torch.Size([1, 3, 3, 224, 224]) tensor(-1.9809) tensor(2.6400) tensor(0.0060) tensor(1.4518) \n",
      "label tensor([0])\n",
      "batch data torch.Size([1, 3, 3, 224, 224]) tensor(-2.1179) tensor(2.6400) tensor(-0.2079) tensor(1.2464) \n",
      "label tensor([1])\n",
      "batch data torch.Size([1, 3, 3, 224, 224]) tensor(-2.1179) tensor(2.6400) tensor(-1.2404) tensor(0.8556) \n",
      "label tensor([1])\n",
      "batch data torch.Size([1, 3, 3, 224, 224]) tensor(-2.1179) tensor(2.6400) tensor(0.1219) tensor(1.0294) \n",
      "label tensor([1])\n",
      "batch data torch.Size([1, 3, 3, 224, 224]) tensor(-2.0837) tensor(2.6400) tensor(-0.3703) tensor(1.1194) \n",
      "label tensor([0])\n",
      "batch data torch.Size([1, 3, 3, 224, 224]) tensor(-2.0152) tensor(2.4483) tensor(-0.3039) tensor(1.2971) \n",
      "label tensor([1])\n",
      "batch data torch.Size([1, 3, 3, 224, 224]) tensor(-2.1179) tensor(2.6400) tensor(-0.1148) tensor(1.1607) \n",
      "label tensor([0])\n",
      "batch data torch.Size([1, 3, 3, 224, 224]) tensor(-2.1179) tensor(2.6400) tensor(1.0715) tensor(0.6979) \n",
      "label tensor([1])\n",
      "batch data torch.Size([1, 3, 3, 224, 224]) tensor(-2.1179) tensor(2.6400) tensor(-0.5741) tensor(0.8765) \n",
      "label tensor([1])\n",
      "batch data torch.Size([1, 3, 3, 224, 224]) tensor(-2.1179) tensor(2.6400) tensor(0.1675) tensor(1.0353) \n",
      "label tensor([1])\n",
      "batch data torch.Size([1, 3, 3, 224, 224]) tensor(-2.1179) tensor(2.6400) tensor(-0.0816) tensor(1.0570) \n",
      "label tensor([0])\n",
      "batch data torch.Size([1, 3, 3, 224, 224]) tensor(-1.9638) tensor(2.2914) tensor(0.0028) tensor(1.3075) \n",
      "label tensor([1])\n",
      "batch data torch.Size([1, 3, 3, 224, 224]) tensor(-1.9124) tensor(2.5877) tensor(0.1127) tensor(1.3416) \n",
      "label tensor([1])\n",
      "batch data torch.Size([1, 3, 3, 224, 224]) tensor(-1.9638) tensor(2.3437) tensor(0.0405) tensor(1.2430) \n",
      "label tensor([1])\n",
      "batch data torch.Size([1, 3, 3, 224, 224]) tensor(-1.9809) tensor(1.2108) tensor(-0.5092) tensor(0.7878) \n",
      "label tensor([0])\n",
      "batch data torch.Size([1, 3, 3, 224, 224]) tensor(-2.1179) tensor(2.6400) tensor(0.1306) tensor(1.0329) \n",
      "label tensor([1])\n",
      "batch data torch.Size([1, 3, 3, 224, 224]) tensor(-2.1179) tensor(2.6400) tensor(0.4690) tensor(1.2612) \n",
      "label tensor([0])\n",
      "batch data torch.Size([1, 3, 3, 224, 224]) tensor(-1.9980) tensor(2.5354) tensor(-0.1644) tensor(1.3206) \n",
      "label tensor([1])\n",
      "batch data torch.Size([1, 3, 3, 224, 224]) tensor(-1.9809) tensor(1.8383) tensor(-0.1094) tensor(1.0982) \n",
      "label tensor([1])\n",
      "batch data torch.Size([1, 3, 3, 224, 224]) tensor(-2.1179) tensor(2.6400) tensor(-1.3067) tensor(1.0150) \n",
      "label tensor([0])\n",
      "batch data torch.Size([1, 3, 3, 224, 224]) tensor(-2.1179) tensor(2.6400) tensor(0.3308) tensor(1.0271) \n",
      "label tensor([1])\n"
     ]
    },
    {
     "name": "stderr",
     "output_type": "stream",
     "text": [
      " 24%|██▍       | 61/249 [00:03<00:04, 44.65it/s]"
     ]
    },
    {
     "name": "stdout",
     "output_type": "stream",
     "text": [
      "batch data torch.Size([1, 3, 3, 224, 224]) tensor(-2.1179) tensor(2.6400) tensor(0.1682) tensor(1.0074) \n",
      "label tensor([1])\n",
      "batch data torch.Size([1, 3, 3, 224, 224]) tensor(-1.9295) tensor(2.3437) tensor(0.1086) tensor(1.1963) \n",
      "label tensor([1])\n",
      "batch data torch.Size([1, 3, 3, 224, 224]) tensor(-2.1179) tensor(2.6400) tensor(0.4977) tensor(1.0876) \n",
      "label tensor([0])\n",
      "batch data torch.Size([1, 3, 3, 224, 224]) tensor(-1.8268) tensor(2.1975) tensor(-0.2287) tensor(0.7296) \n",
      "label tensor([0])\n",
      "batch data torch.Size([1, 3, 3, 224, 224]) tensor(-2.0323) tensor(1.2805) tensor(-0.5733) tensor(0.8585) \n",
      "label tensor([1])\n",
      "batch data torch.Size([1, 3, 3, 224, 224]) tensor(-1.8610) tensor(2.1975) tensor(-0.2560) tensor(0.7441) \n",
      "label tensor([0])\n",
      "batch data torch.Size([1, 3, 3, 224, 224]) tensor(-1.9295) tensor(1.6153) tensor(-0.4565) tensor(0.7809) \n",
      "label tensor([0])\n",
      "batch data torch.Size([1, 3, 3, 224, 224]) tensor(-2.1179) tensor(2.6400) tensor(-1.7502) tensor(0.6603) \n",
      "label tensor([0])\n",
      "batch data torch.Size([1, 3, 3, 224, 224]) tensor(-2.0665) tensor(2.6051) tensor(-0.5343) tensor(1.1892) \n",
      "label tensor([1])\n",
      "batch data torch.Size([1, 3, 3, 224, 224]) tensor(-1.7696) tensor(2.2147) tensor(-0.1797) tensor(0.7357) \n",
      "label tensor([0])\n",
      "batch data torch.Size([1, 3, 3, 224, 224]) tensor(-2.1179) tensor(2.6400) tensor(-1.5388) tensor(1.0877) \n",
      "label tensor([1])\n",
      "batch data torch.Size([1, 3, 3, 224, 224]) tensor(-1.9638) tensor(2.5877) tensor(-0.1021) tensor(1.3130) \n",
      "label tensor([0])\n",
      "batch data torch.Size([1, 3, 3, 224, 224]) tensor(-2.0152) tensor(2.5703) tensor(0.1411) tensor(1.3605) \n",
      "label tensor([1])\n",
      "batch data torch.Size([1, 3, 3, 224, 224]) tensor(-1.9809) tensor(2.3263) tensor(-0.1226) tensor(1.3064) \n",
      "label tensor([1])\n",
      "batch data torch.Size([1, 3, 3, 224, 224]) tensor(-1.9809) tensor(1.7337) tensor(-0.2027) tensor(1.0481) \n",
      "label tensor([1])\n",
      "batch data torch.Size([1, 3, 3, 224, 224]) tensor(-2.1179) tensor(2.6400) tensor(0.1160) tensor(1.0510) \n",
      "label tensor([1])\n",
      "batch data torch.Size([1, 3, 3, 224, 224]) tensor(-2.1179) tensor(2.6400) tensor(-0.1421) tensor(1.0659) \n",
      "label tensor([1])\n",
      "batch data torch.Size([1, 3, 3, 224, 224]) tensor(-2.1179) tensor(2.6400) tensor(-0.1194) tensor(0.9220) \n",
      "label tensor([1])\n",
      "batch data torch.Size([1, 3, 3, 224, 224]) tensor(-2.1008) tensor(2.6400) tensor(0.0376) tensor(0.9655) \n",
      "label tensor([1])\n",
      "batch data torch.Size([1, 3, 3, 224, 224]) tensor(-2.1179) tensor(2.6400) tensor(-0.0206) tensor(1.0068) \n",
      "label tensor([1])\n"
     ]
    },
    {
     "name": "stderr",
     "output_type": "stream",
     "text": [
      " 33%|███▎      | 82/249 [00:03<00:02, 57.42it/s]"
     ]
    },
    {
     "name": "stdout",
     "output_type": "stream",
     "text": [
      "batch data torch.Size([1, 3, 3, 224, 224]) tensor(-2.1179) tensor(2.6400) tensor(0.2243) tensor(1.3092) \n",
      "label tensor([1])\n",
      "batch data torch.Size([1, 3, 3, 224, 224]) tensor(-2.1179) tensor(2.6400) tensor(-0.2745) tensor(1.2096) \n",
      "label tensor([0])\n",
      "batch data torch.Size([1, 3, 3, 224, 224]) tensor(-2.1179) tensor(2.6400) tensor(0.1246) tensor(0.9779) \n",
      "label tensor([1])\n",
      "batch data torch.Size([1, 3, 3, 224, 224]) tensor(-2.0152) tensor(2.2391) tensor(-0.1600) tensor(1.3154) \n",
      "label tensor([1])\n",
      "batch data torch.Size([1, 3, 3, 224, 224]) tensor(-1.9124) tensor(2.4308) tensor(0.0677) tensor(1.2867) \n",
      "label tensor([1])\n",
      "batch data torch.Size([1, 3, 3, 224, 224]) tensor(-2.0665) tensor(1.7180) tensor(-0.5170) tensor(0.8307) \n",
      "label tensor([1])\n",
      "batch data torch.Size([1, 3, 3, 224, 224]) tensor(-2.1179) tensor(2.6400) tensor(-0.3845) tensor(1.1520) \n",
      "label tensor([1])\n",
      "batch data torch.Size([1, 3, 3, 224, 224]) tensor(-2.1179) tensor(2.6400) tensor(0.3634) tensor(1.0904) \n",
      "label tensor([1])\n",
      "batch data torch.Size([1, 3, 3, 224, 224]) tensor(-2.1179) tensor(2.6400) tensor(-0.0758) tensor(0.9963) \n",
      "label tensor([1])\n",
      "batch data torch.Size([1, 3, 3, 224, 224]) tensor(-2.1179) tensor(2.6400) tensor(0.1504) tensor(1.0046) \n",
      "label tensor([1])\n",
      "batch data torch.Size([1, 3, 3, 224, 224]) tensor(-1.8610) tensor(2.5703) tensor(0.1734) tensor(1.3497) \n",
      "label tensor([1])\n",
      "batch data torch.Size([1, 3, 3, 224, 224]) tensor(-2.1179) tensor(2.6400) tensor(0.1325) tensor(0.9534) \n",
      "label tensor([1])\n",
      "batch data torch.Size([1, 3, 3, 224, 224]) tensor(-2.1179) tensor(2.6400) tensor(0.2765) tensor(0.8263) \n",
      "label tensor([0])\n",
      "batch data torch.Size([1, 3, 3, 224, 224]) tensor(-2.1179) tensor(2.6400) tensor(0.1253) tensor(1.3605) \n",
      "label tensor([1])\n",
      "batch data torch.Size([1, 3, 3, 224, 224]) tensor(-2.1179) tensor(2.6400) tensor(0.0128) tensor(0.9882) \n",
      "label tensor([0])\n",
      "batch data torch.Size([1, 3, 3, 224, 224]) tensor(-2.1179) tensor(2.6400) tensor(-0.8089) tensor(0.9674) \n",
      "label tensor([1])\n",
      "batch data torch.Size([1, 3, 3, 224, 224]) tensor(-2.1179) tensor(2.6400) tensor(-0.1498) tensor(0.9882) \n",
      "label tensor([1])\n"
     ]
    },
    {
     "name": "stderr",
     "output_type": "stream",
     "text": [
      " 37%|███▋      | 92/249 [00:03<00:02, 62.68it/s]"
     ]
    },
    {
     "name": "stdout",
     "output_type": "stream",
     "text": [
      "batch data torch.Size([1, 3, 3, 224, 224]) tensor(-2.1179) tensor(2.6400) tensor(-0.1793) tensor(0.9785) \n",
      "label tensor([1])\n",
      "batch data torch.Size([1, 3, 3, 224, 224]) tensor(-2.1179) tensor(2.6400) tensor(0.0772) tensor(1.0257) \n",
      "label tensor([1])\n",
      "batch data torch.Size([1, 3, 3, 224, 224]) tensor(-1.9467) tensor(1.5125) tensor(-0.5179) tensor(0.7661) \n",
      "label tensor([1])\n",
      "batch data torch.Size([1, 3, 3, 224, 224]) tensor(-2.1008) tensor(2.0300) tensor(-0.2738) tensor(1.2277) \n",
      "label tensor([1])\n",
      "batch data torch.Size([1, 3, 3, 224, 224]) tensor(-2.1179) tensor(2.6400) tensor(-0.2561) tensor(1.2396) \n",
      "label tensor([0])\n",
      "batch data torch.Size([1, 3, 3, 224, 224]) tensor(-2.1008) tensor(2.6400) tensor(0.6058) tensor(1.4376) \n",
      "label tensor([1])\n",
      "batch data torch.Size([1, 3, 3, 224, 224]) tensor(-1.8610) tensor(2.1633) tensor(-0.3205) tensor(0.7794) \n",
      "label tensor([0])\n",
      "batch data torch.Size([1, 3, 3, 224, 224]) tensor(-2.1179) tensor(2.6400) tensor(-0.4032) tensor(1.4412) \n",
      "label tensor([1])\n",
      "batch data torch.Size([1, 3, 3, 224, 224]) tensor(-1.6213) tensor(1.2980) tensor(-0.2065) tensor(0.6739) \n",
      "label tensor([0])\n",
      "batch data torch.Size([1, 3, 3, 224, 224]) tensor(-2.1179) tensor(2.6051) tensor(0.0155) tensor(0.9144) \n",
      "label tensor([1])\n",
      "batch data torch.Size([1, 3, 3, 224, 224]) tensor(-2.1179) tensor(2.6400) tensor(0.0984) tensor(0.9865) \n",
      "label tensor([1])\n",
      "batch data torch.Size([1, 3, 3, 224, 224]) tensor(-2.1179) tensor(2.6400) tensor(0.2024) tensor(0.7696) \n",
      "label tensor([0])\n",
      "batch data torch.Size([1, 3, 3, 224, 224]) tensor(-2.1179) tensor(2.6400) tensor(0.1476) tensor(0.9996) \n",
      "label tensor([1])\n",
      "batch data torch.Size([1, 3, 3, 224, 224]) tensor(-2.1179) tensor(1.2631) tensor(-1.1031) tensor(0.8386) \n",
      "label tensor([0])\n",
      "batch data torch.Size([1, 3, 3, 224, 224]) tensor(-1.9295) tensor(2.6400) tensor(-0.0356) tensor(1.4181) \n",
      "label tensor([0])\n",
      "batch data torch.Size([1, 3, 3, 224, 224]) tensor(-1.9295) tensor(1.5639) tensor(-0.5360) tensor(0.7600) \n",
      "label tensor([0])\n",
      "batch data torch.Size([1, 3, 3, 224, 224]) tensor(-2.1179) tensor(2.6400) tensor(-0.6331) tensor(1.1653) \n",
      "label tensor([1])\n"
     ]
    },
    {
     "name": "stderr",
     "output_type": "stream",
     "text": [
      " 45%|████▌     | 113/249 [00:03<00:01, 78.43it/s]"
     ]
    },
    {
     "name": "stdout",
     "output_type": "stream",
     "text": [
      "batch data torch.Size([1, 3, 3, 224, 224]) tensor(-2.1008) tensor(1.8208) tensor(-0.7566) tensor(0.8713) \n",
      "label tensor([0])\n",
      "batch data torch.Size([1, 3, 3, 224, 224]) tensor(-2.1179) tensor(2.6400) tensor(-0.1663) tensor(1.0091) \n",
      "label tensor([1])\n",
      "batch data torch.Size([1, 3, 3, 224, 224]) tensor(-2.1179) tensor(2.6400) tensor(0.5340) tensor(1.1723) \n",
      "label tensor([1])\n",
      "batch data torch.Size([1, 3, 3, 224, 224]) tensor(-2.0323) tensor(2.2043) tensor(-0.1855) tensor(1.3054) \n",
      "label tensor([1])\n",
      "batch data torch.Size([1, 3, 3, 224, 224]) tensor(-2.0182) tensor(2.6400) tensor(0.1699) tensor(0.8184) \n",
      "label tensor([1])\n",
      "batch data torch.Size([1, 3, 3, 224, 224]) tensor(-1.8953) tensor(2.0125) tensor(-0.0061) tensor(1.0983) \n",
      "label tensor([1])\n",
      "batch data torch.Size([1, 3, 3, 224, 224]) tensor(-1.9467) tensor(2.1346) tensor(-0.0103) tensor(1.1903) \n",
      "label tensor([1])\n",
      "batch data torch.Size([1, 3, 3, 224, 224]) tensor(-2.0152) tensor(2.6400) tensor(0.1616) tensor(1.4597) \n",
      "label tensor([1])\n",
      "batch data torch.Size([1, 3, 3, 224, 224]) tensor(-1.9980) tensor(1.2980) tensor(-0.6084) tensor(0.8311) \n",
      "label tensor([1])\n",
      "batch data torch.Size([1, 3, 3, 224, 224]) tensor(-2.1179) tensor(2.6400) tensor(1.3354) tensor(0.6828) \n",
      "label tensor([1])\n",
      "batch data torch.Size([1, 3, 3, 224, 224]) tensor(-1.9124) tensor(1.5594) tensor(0.0408) tensor(0.8530) \n",
      "label tensor([1])\n",
      "batch data torch.Size([1, 3, 3, 224, 224]) tensor(-1.7206) tensor(2.6400) tensor(0.3598) tensor(1.0686) \n",
      "label tensor([1])\n",
      "batch data torch.Size([1, 3, 3, 224, 224]) tensor(-2.0494) tensor(2.6400) tensor(-0.1420) tensor(0.8168) \n",
      "label tensor([1])\n",
      "batch data torch.Size([1, 3, 3, 224, 224]) tensor(-1.9809) tensor(2.0648) tensor(-0.0290) tensor(1.2020) \n",
      "label tensor([1])\n",
      "batch data torch.Size([1, 3, 3, 224, 224]) tensor(-2.1179) tensor(2.6400) tensor(-1.2132) tensor(0.7826) \n",
      "label tensor([1])\n",
      "batch data torch.Size([1, 3, 3, 224, 224]) tensor(-1.8097) tensor(2.6400) tensor(0.5899) tensor(1.3229) \n",
      "label tensor([1])\n",
      "batch data torch.Size([1, 3, 3, 224, 224]) tensor(-2.1179) tensor(2.6400) tensor(-0.3784) tensor(1.2183) \n",
      "label tensor([0])\n",
      "batch data torch.Size([1, 3, 3, 224, 224]) tensor(-2.1179) tensor(2.5703) tensor(0.0589) tensor(1.3170) \n",
      "label tensor([0])\n",
      "batch data torch.Size([1, 3, 3, 224, 224]) tensor(-1.8953) tensor(2.1975) tensor(-0.2899) tensor(0.7645) \n",
      "label tensor([0])\n",
      "batch data torch.Size([1, 3, 3, 224, 224]) tensor(-2.1179) tensor(2.6400) tensor(-0.5565) tensor(1.1904) \n",
      "label tensor([1])\n"
     ]
    },
    {
     "name": "stderr",
     "output_type": "stream",
     "text": [
      " 54%|█████▍    | 135/249 [00:04<00:01, 87.12it/s]"
     ]
    },
    {
     "name": "stdout",
     "output_type": "stream",
     "text": [
      "batch data torch.Size([1, 3, 3, 224, 224]) tensor(-1.9295) tensor(2.5703) tensor(0.1055) tensor(1.3144) \n",
      "label tensor([1])\n",
      "batch data torch.Size([1, 3, 3, 224, 224]) tensor(-1.7925) tensor(1.5420) tensor(-0.0237) tensor(0.7307) \n",
      "label tensor([1])\n",
      "batch data torch.Size([1, 3, 3, 224, 224]) tensor(-2.1179) tensor(2.6400) tensor(-0.8695) tensor(1.4935) \n",
      "label tensor([1])\n",
      "batch data torch.Size([1, 3, 3, 224, 224]) tensor(-2.1179) tensor(2.6400) tensor(-0.0395) tensor(0.9053) \n",
      "label tensor([1])\n",
      "batch data torch.Size([1, 3, 3, 224, 224]) tensor(-2.1179) tensor(2.6400) tensor(0.5518) tensor(1.1853) \n",
      "label tensor([1])\n",
      "batch data torch.Size([1, 3, 3, 224, 224]) tensor(-2.1179) tensor(2.6400) tensor(0.0572) tensor(0.8183) \n",
      "label tensor([0])\n",
      "batch data torch.Size([1, 3, 3, 224, 224]) tensor(-2.1179) tensor(2.6400) tensor(-0.1789) tensor(1.0338) \n",
      "label tensor([1])\n",
      "batch data torch.Size([1, 3, 3, 224, 224]) tensor(-2.1179) tensor(2.6400) tensor(-1.1622) tensor(0.7483) \n",
      "label tensor([1])\n",
      "batch data torch.Size([1, 3, 3, 224, 224]) tensor(-2.1179) tensor(2.3088) tensor(0.0174) tensor(1.2615) \n",
      "label tensor([0])\n",
      "batch data torch.Size([1, 3, 3, 224, 224]) tensor(-2.0323) tensor(2.5529) tensor(-0.2516) tensor(1.2792) \n",
      "label tensor([0])\n",
      "batch data torch.Size([1, 3, 3, 224, 224]) tensor(-2.0837) tensor(2.6400) tensor(0.5385) tensor(0.9935) \n",
      "label tensor([1])\n",
      "batch data torch.Size([1, 3, 3, 224, 224]) tensor(-1.9467) tensor(2.6400) tensor(-0.0840) tensor(1.4446) \n",
      "label tensor([0])\n",
      "batch data torch.Size([1, 3, 3, 224, 224]) tensor(-2.1008) tensor(2.6400) tensor(-0.2604) tensor(0.8729) \n",
      "label tensor([1])\n",
      "batch data torch.Size([1, 3, 3, 224, 224]) tensor(-2.1008) tensor(2.6400) tensor(0.6601) tensor(1.1160) \n",
      "label tensor([1])\n",
      "batch data torch.Size([1, 3, 3, 224, 224]) tensor(-2.1179) tensor(2.6400) tensor(0.1330) tensor(1.0502) \n",
      "label tensor([1])\n",
      "batch data torch.Size([1, 3, 3, 224, 224]) tensor(-2.1179) tensor(2.6226) tensor(0.0422) tensor(1.2106) \n",
      "label tensor([1])\n",
      "batch data torch.Size([1, 3, 3, 224, 224]) tensor(-2.1179) tensor(2.6400) tensor(0.1643) tensor(0.9767) \n",
      "label tensor([1])\n",
      "batch data torch.Size([1, 3, 3, 224, 224]) tensor(-1.9467) tensor(1.6495) tensor(-0.4512) tensor(0.7872) \n",
      "label tensor([0])\n",
      "batch data torch.Size([1, 3, 3, 224, 224]) tensor(-2.1179) tensor(1.3755) tensor(-1.1607) tensor(0.7434) \n",
      "label tensor([1])\n",
      "batch data torch.Size([1, 3, 3, 224, 224]) tensor(-1.8953) tensor(2.6400) tensor(-0.0183) tensor(1.4047) \n",
      "label tensor([0])\n",
      "batch data torch.Size([1, 3, 3, 224, 224]) tensor(-2.1179) tensor(2.6400) tensor(-0.0044) tensor(0.9551) \n",
      "label tensor([1])\n",
      "batch data torch.Size([1, 3, 3, 224, 224]) tensor(-2.1008) tensor(2.6400) tensor(-0.5444) tensor(1.0373) \n",
      "label tensor([1])\n",
      "batch data torch.Size([1, 3, 3, 224, 224]) tensor(-2.1179) tensor(2.6400) tensor(0.0622) tensor(0.7196) \n",
      "label tensor([0])\n",
      "batch data torch.Size([1, 3, 3, 224, 224]) tensor(-1.9809) tensor(1.3584) tensor(-0.5860) tensor(0.7821) \n",
      "label tensor([0])\n",
      "batch data torch.Size([1, 3, 3, 224, 224]) tensor(-1.9467) tensor(1.7009) "
     ]
    },
    {
     "name": "stderr",
     "output_type": "stream",
     "text": [
      " 64%|██████▍   | 160/249 [00:04<00:00, 101.75it/s]"
     ]
    },
    {
     "name": "stdout",
     "output_type": "stream",
     "text": [
      "tensor(-0.4790) tensor(0.8096) \n",
      "label tensor([1])\n",
      "batch data torch.Size([1, 3, 3, 224, 224]) tensor(-2.1179) tensor(2.6400) tensor(-0.1466) tensor(1.1967) \n",
      "label tensor([1])\n",
      "batch data torch.Size([1, 3, 3, 224, 224]) tensor(-1.9467) tensor(2.6400) tensor(0.0470) tensor(1.4313) \n",
      "label tensor([0])\n",
      "batch data torch.Size([1, 3, 3, 224, 224]) tensor(-1.8953) tensor(2.6400) tensor(1.1377) tensor(0.6929) \n",
      "label tensor([1])\n",
      "batch data torch.Size([1, 3, 3, 224, 224]) tensor(-1.7925) tensor(2.6400) tensor(0.4507) tensor(1.3674) \n",
      "label tensor([1])\n",
      "batch data torch.Size([1, 3, 3, 224, 224]) tensor(-2.1008) tensor(2.6400) tensor(0.9433) tensor(0.9819) \n",
      "label tensor([1])\n",
      "batch data torch.Size([1, 3, 3, 224, 224]) tensor(-1.9809) tensor(1.8731) tensor(-0.1081) tensor(1.1461) \n",
      "label tensor([1])\n",
      "batch data torch.Size([1, 3, 3, 224, 224]) tensor(-2.1179) tensor(2.6400) tensor(-0.0677) tensor(1.0209) \n",
      "label tensor([1])\n",
      "batch data torch.Size([1, 3, 3, 224, 224]) tensor(-1.9980) tensor(2.6051) tensor(-0.0607) tensor(1.3467) \n",
      "label tensor([0])\n",
      "batch data torch.Size([1, 3, 3, 224, 224]) tensor(-2.1008) tensor(2.5703) tensor(0.1040) tensor(1.4560) \n",
      "label tensor([0])\n",
      "batch data torch.Size([1, 3, 3, 224, 224]) tensor(-1.8044) tensor(2.6400) tensor(0.4430) tensor(1.3781) \n",
      "label tensor([1])\n",
      "batch data torch.Size([1, 3, 3, 224, 224]) tensor(-2.1179) tensor(2.6400) tensor(-0.2407) tensor(1.3504) \n",
      "label tensor([0])\n",
      "batch data torch.Size([1, 3, 3, 224, 224]) tensor(-2.1179) tensor(2.6400) tensor(0.1766) tensor(0.9917) \n",
      "label tensor([1])\n",
      "batch data torch.Size([1, 3, 3, 224, 224]) tensor(-2.1179) tensor(2.6400) tensor(0.1960) tensor(0.7221) \n",
      "label tensor([1])\n",
      "batch data torch.Size([1, 3, 3, 224, 224]) tensor(-1.7583) tensor(2.1975) tensor(-0.2057) tensor(0.7315) \n",
      "label tensor([0])\n",
      "batch data torch.Size([1, 3, 3, 224, 224]) tensor(-2.1179) tensor(2.6400) tensor(0.5340) tensor(1.1644) \n",
      "label tensor([1])\n",
      "batch data torch.Size([1, 3, 3, 224, 224]) tensor(-2.1179) tensor(2.6400) tensor(0.1186) tensor(1.0412) \n",
      "label tensor([1])\n",
      "batch data torch.Size([1, 3, 3, 224, 224]) tensor(-2.1179) tensor(2.6400) tensor(0.1121) tensor(0.9731) \n",
      "label tensor([1])\n",
      "batch data torch.Size([1, 3, 3, 224, 224]) tensor(-1.8439) tensor(2.6051) tensor(0.4487) tensor(1.3937) \n",
      "label tensor([1])\n",
      "batch data torch.Size([1, 3, 3, 224, 224]) tensor(-2.1179) tensor(2.6400) tensor(-0.7110) tensor(1.1776) \n",
      "label tensor([0])\n"
     ]
    },
    {
     "name": "stderr",
     "output_type": "stream",
     "text": [
      " 73%|███████▎  | 183/249 [00:04<00:00, 100.60it/s]"
     ]
    },
    {
     "name": "stdout",
     "output_type": "stream",
     "text": [
      "batch data torch.Size([1, 3, 3, 224, 224]) tensor(-2.1179) tensor(2.6051) tensor(-0.2227) tensor(0.7293) \n",
      "label tensor([0])\n",
      "batch data torch.Size([1, 3, 3, 224, 224]) tensor(-2.1179) tensor(2.6400) tensor(-0.5756) tensor(0.9995) \n",
      "label tensor([1])\n",
      "batch data torch.Size([1, 3, 3, 224, 224]) tensor(-2.1179) tensor(2.6400) tensor(-0.0008) tensor(1.2088) \n",
      "label tensor([1])\n",
      "batch data torch.Size([1, 3, 3, 224, 224]) tensor(-2.1179) tensor(2.6400) tensor(-0.1674) tensor(1.1567) \n",
      "label tensor([1])\n",
      "batch data torch.Size([1, 3, 3, 224, 224]) tensor(-2.1179) tensor(2.6400) tensor(-0.1641) tensor(1.1515) \n",
      "label tensor([0])\n",
      "batch data torch.Size([1, 3, 3, 224, 224]) tensor(-1.9124) tensor(2.5354) tensor(0.1409) tensor(1.3691) \n",
      "label tensor([1])\n",
      "batch data torch.Size([1, 3, 3, 224, 224]) tensor(-2.1179) tensor(2.6400) tensor(-0.0895) tensor(1.1079) \n",
      "label tensor([1])\n",
      "batch data torch.Size([1, 3, 3, 224, 224]) tensor(-2.1179) tensor(2.6400) tensor(-0.0926) tensor(1.0928) \n",
      "label tensor([1])\n",
      "batch data torch.Size([1, 3, 3, 224, 224]) tensor(-1.9638) tensor(2.0092) tensor(-0.5136) tensor(0.8364) \n",
      "label tensor([0])\n",
      "batch data torch.Size([1, 3, 3, 224, 224]) tensor(-1.4500) tensor(2.1171) tensor(0.4840) tensor(0.8892) \n",
      "label tensor([1])\n",
      "batch data torch.Size([1, 3, 3, 224, 224]) tensor(-1.9295) tensor(1.8208) tensor(-0.1672) tensor(1.0856) \n",
      "label tensor([1])\n",
      "batch data torch.Size([1, 3, 3, 224, 224]) tensor(-2.1179) tensor(2.6400) tensor(0.2647) tensor(1.3654) \n",
      "label tensor([0])\n",
      "batch data torch.Size([1, 3, 3, 224, 224]) tensor(-1.9467) tensor(1.9951) tensor(-0.0625) tensor(1.1370) \n",
      "label tensor([1])\n",
      "batch data torch.Size([1, 3, 3, 224, 224]) tensor(-2.1179) tensor(2.6400) tensor(-0.8379) tensor(0.9801) \n",
      "label tensor([1])\n",
      "batch data torch.Size([1, 3, 3, 224, 224]) tensor(-1.8782) tensor(2.6400) tensor(0.2907) tensor(1.3831) \n",
      "label tensor([1])\n",
      "batch data torch.Size([1, 3, 3, 224, 224]) tensor(-2.1179) tensor(1.8731) tensor(-0.2746) tensor(1.1256) \n",
      "label tensor([1])\n",
      "batch data torch.Size([1, 3, 3, 224, 224]) tensor(-1.9295) tensor(2.1290) tensor(-0.3591) tensor(0.7945) \n",
      "label tensor([0])\n",
      "batch data torch.Size([1, 3, 3, 224, 224]) tensor(-2.1179) tensor(2.6400) tensor(-0.0123) tensor(1.1373) \n",
      "label tensor([1])\n",
      "batch data torch.Size([1, 3, 3, 224, 224]) tensor(-2.1179) tensor(2.6400) tensor(-0.0006) tensor(1.2074) \n",
      "label tensor([1])\n",
      "batch data torch.Size([1, 3, 3, 224, 224]) tensor(-1.9638) tensor(1.6667) tensor(-0.4926) tensor(0.8176) \n",
      "label tensor([1])\n",
      "batch data torch.Size([1, 3, 3, 224, 224]) tensor(-1.9809) tensor(2.6400) tensor(1.8856) tensor(0.8020) \n",
      "label tensor([1])\n",
      "batch data torch.Size([1, 3, 3, 224, 224]) tensor(-2.0152) tensor(2.6400) tensor(-0.0589) tensor(1.5089) \n",
      "label tensor([0])\n",
      "batch data torch.Size([1, 3, 3, 224, 224]) tensor(-1.7696) tensor(2.1975) tensor(-0.1924) tensor(0.7331) \n",
      "label tensor([0])\n",
      "batch data torch.Size([1, 3, 3, 224, 224]) tensor(-2.1179) tensor(2.6400) tensor(-0.1300) tensor(1.0449) \n",
      "label tensor([1])\n"
     ]
    },
    {
     "name": "stderr",
     "output_type": "stream",
     "text": [
      " 84%|████████▎ | 208/249 [00:04<00:00, 110.07it/s]"
     ]
    },
    {
     "name": "stdout",
     "output_type": "stream",
     "text": [
      "batch data torch.Size([1, 3, 3, 224, 224]) tensor(-2.1179) tensor(2.6400) tensor(-0.6334) tensor(1.1151) \n",
      "label tensor([0])\n",
      "batch data torch.Size([1, 3, 3, 224, 224]) tensor(-2.1179) tensor(2.3437) tensor(0.1840) tensor(1.3919) \n",
      "label tensor([0])\n",
      "batch data torch.Size([1, 3, 3, 224, 224]) tensor(-2.1008) tensor(2.4286) tensor(-0.3855) tensor(0.7555) \n",
      "label tensor([1])\n",
      "batch data torch.Size([1, 3, 3, 224, 224]) tensor(-2.1179) tensor(2.6400) tensor(-0.4588) tensor(1.1618) \n",
      "label tensor([1])\n",
      "batch data torch.Size([1, 3, 3, 224, 224]) tensor(-2.1179) tensor(2.5877) tensor(-0.0301) tensor(0.6035) \n",
      "label tensor([1])\n",
      "batch data torch.Size([1, 3, 3, 224, 224]) tensor(-2.0837) tensor(1.3851) tensor(-0.8494) tensor(0.9971) \n",
      "label tensor([1])\n",
      "batch data torch.Size([1, 3, 3, 224, 224]) tensor(-1.9809) tensor(1.7180) tensor(-0.4824) tensor(0.8298) \n",
      "label tensor([1])\n",
      "batch data torch.Size([1, 3, 3, 224, 224]) tensor(-2.1008) tensor(1.1585) tensor(-0.9449) tensor(0.8835) \n",
      "label tensor([1])\n",
      "batch data torch.Size([1, 3, 3, 224, 224]) tensor(-2.1179) tensor(2.6400) tensor(-0.3144) tensor(0.9683) \n",
      "label tensor([1])\n",
      "batch data torch.Size([1, 3, 3, 224, 224]) tensor(-2.1179) tensor(2.6400) tensor(-0.2542) tensor(1.2307) \n",
      "label tensor([1])\n",
      "batch data torch.Size([1, 3, 3, 224, 224]) tensor(-1.9295) tensor(2.6400) tensor(0.0394) tensor(1.4472) \n",
      "label tensor([0])\n",
      "batch data torch.Size([1, 3, 3, 224, 224]) tensor(-1.8953) tensor(2.6051) tensor(0.1268) tensor(1.3543) \n",
      "label tensor([1])\n",
      "batch data torch.Size([1, 3, 3, 224, 224]) tensor(-2.1179) tensor(2.6400) tensor(-0.0105) tensor(1.2210) \n",
      "label tensor([1])\n",
      "batch data torch.Size([1, 3, 3, 224, 224]) tensor(-2.1179) tensor(2.6400) tensor(0.3545) tensor(1.5401) \n",
      "label tensor([0])\n",
      "batch data torch.Size([1, 3, 3, 224, 224]) tensor(-1.7696) tensor(2.1462) tensor(-0.1792) tensor(0.7268) \n",
      "label tensor([0])\n",
      "batch data torch.Size([1, 3, 3, 224, 224]) tensor(-2.1179) tensor(2.6400) tensor(0.1830) tensor(1.3080) \n",
      "label tensor([1])\n",
      "batch data torch.Size([1, 3, 3, 224, 224]) tensor(-2.0323) tensor(2.3263) tensor(-0.4078) tensor(1.2592) \n",
      "label tensor([1])\n",
      "batch data torch.Size([1, 3, 3, 224, 224]) tensor(-2.1179) tensor(2.6400) tensor(0.1656) tensor(0.9896) \n",
      "label tensor([1])\n",
      "batch data torch.Size([1, 3, 3, 224, 224]) tensor(-2.1179) tensor(2.5354) tensor(0.1233) tensor(0.7124) \n",
      "label tensor([1])\n",
      "batch data torch.Size([1, 3, 3, 224, 224]) tensor(-1.8044) tensor(2.1462) tensor(-0.1781) tensor(0.7315) \n",
      "label tensor([0])\n",
      "batch data torch.Size([1, 3, 3, 224, 224]) tensor(-2.0494) tensor(2.6400) tensor(0.2957) tensor(0.8537) \n",
      "label tensor([1])\n",
      "batch data torch.Size([1, 3, 3, 224, 224]) tensor(-2.1179) tensor(2.6400) tensor(0.1186) tensor(1.0707) \n",
      "label tensor([0])\n",
      "batch data torch.Size([1, 3, 3, 224, 224]) tensor(-1.9295) tensor(2.6400) tensor(0.0576) tensor(1.4594) \n",
      "label tensor([0])\n",
      "batch data torch.Size([1, 3, 3, 224, 224]) tensor(-1.9809) tensor(2.6400) tensor(0.0419) tensor(1.4202) \n",
      "label tensor([0])\n",
      "batch data torch.Size([1, 3, 3, 224, 224]) tensor(-1.9467) "
     ]
    },
    {
     "name": "stderr",
     "output_type": "stream",
     "text": [
      " 93%|█████████▎| 232/249 [00:04<00:00, 109.70it/s]"
     ]
    },
    {
     "name": "stdout",
     "output_type": "stream",
     "text": [
      "tensor(2.0777) tensor(-0.4282) tensor(0.8184) \n",
      "label tensor([0])\n",
      "batch data torch.Size([1, 3, 3, 224, 224]) tensor(-1.9638) tensor(2.0125) tensor(-0.0145) tensor(1.1892) \n",
      "label tensor([1])\n",
      "batch data torch.Size([1, 3, 3, 224, 224]) tensor(-2.0837) tensor(2.6400) tensor(0.4020) tensor(0.8422) \n",
      "label tensor([0])\n",
      "batch data torch.Size([1, 3, 3, 224, 224]) tensor(-1.8782) tensor(2.5703) tensor(0.1845) tensor(1.3243) \n",
      "label tensor([1])\n",
      "batch data torch.Size([1, 3, 3, 224, 224]) tensor(-2.0152) tensor(1.3154) tensor(-0.5675) tensor(0.8859) \n",
      "label tensor([1])\n",
      "batch data torch.Size([1, 3, 3, 224, 224]) tensor(-2.0152) tensor(1.2108) tensor(-0.5315) tensor(0.9341) \n",
      "label tensor([1])\n",
      "batch data torch.Size([1, 3, 3, 224, 224]) tensor(-2.1179) tensor(2.6226) tensor(0.1282) tensor(0.6669) \n",
      "label tensor([1])\n",
      "batch data torch.Size([1, 3, 3, 224, 224]) tensor(-2.1179) tensor(2.6400) tensor(-0.1355) tensor(0.9996) \n",
      "label tensor([1])\n",
      "batch data torch.Size([1, 3, 3, 224, 224]) tensor(-1.9467) tensor(2.6226) tensor(-0.1679) tensor(1.3068) \n",
      "label tensor([0])\n",
      "batch data torch.Size([1, 3, 3, 224, 224]) tensor(-1.5185) tensor(1.8208) tensor(0.1365) tensor(0.6225) \n",
      "label tensor([1])\n",
      "batch data torch.Size([1, 3, 3, 224, 224]) tensor(-2.0323) tensor(2.3786) tensor(-0.3582) tensor(1.2790) \n",
      "label tensor([1])\n",
      "batch data torch.Size([1, 3, 3, 224, 224]) tensor(-1.9980) tensor(2.3960) tensor(-0.2377) tensor(1.3159) \n",
      "label tensor([1])\n",
      "batch data torch.Size([1, 3, 3, 224, 224]) tensor(-2.1179) tensor(2.6400) tensor(0.1089) tensor(0.9633) \n",
      "label tensor([1])\n",
      "batch data torch.Size([1, 3, 3, 224, 224]) tensor(-1.8044) tensor(2.6400) tensor(0.4328) tensor(1.1368) \n",
      "label tensor([1])\n",
      "batch data torch.Size([1, 3, 3, 224, 224]) tensor(-1.8439) tensor(2.6400) tensor(0.5695) tensor(1.3309) \n",
      "label tensor([1])\n",
      "batch data torch.Size([1, 3, 3, 224, 224]) tensor(-2.0323) tensor(1.4722) tensor(-0.4555) tensor(1.0054) \n",
      "label tensor([1])\n",
      "batch data torch.Size([1, 3, 3, 224, 224]) tensor(-2.1179) tensor(2.6400) tensor(-0.3574) tensor(1.1032) \n",
      "label tensor([1])\n",
      "batch data torch.Size([1, 3, 3, 224, 224]) tensor(-1.9467) tensor(2.6226) tensor(-0.0270) tensor(1.3613) \n",
      "label tensor([0])\n",
      "batch data torch.Size([1, 3, 3, 224, 224]) tensor(-1.8097) tensor(2.6226) tensor(0.4481) tensor(1.3724) \n",
      "label tensor([1])\n",
      "batch data torch.Size([1, 3, 3, 224, 224]) tensor(-1.9638) tensor(2.6400) tensor(0.0856) tensor(1.4168) \n",
      "label tensor([0])\n"
     ]
    },
    {
     "name": "stderr",
     "output_type": "stream",
     "text": [
      " 98%|█████████▊| 244/249 [00:05<00:00, 93.08it/s] "
     ]
    },
    {
     "name": "stdout",
     "output_type": "stream",
     "text": [
      "batch data torch.Size([1, 3, 3, 224, 224]) tensor(-2.1179) tensor(2.6400) tensor(0.1247) tensor(1.0301) \n",
      "label tensor([1])\n",
      "batch data torch.Size([1, 3, 3, 224, 224]) tensor(-1.7240) tensor(2.0648) tensor(-0.0499) tensor(1.0321) \n",
      "label tensor([1])\n",
      "batch data torch.Size([1, 3, 3, 224, 224]) tensor(-2.1179) tensor(2.6400) tensor(-0.3121) tensor(0.9257) \n",
      "label tensor([1])\n",
      "batch data torch.Size([1, 3, 3, 224, 224]) tensor(-2.1008) tensor(2.6226) tensor(-0.8185) tensor(0.9369) \n",
      "label tensor([0])\n",
      "batch data torch.Size([1, 3, 3, 224, 224]) tensor(-2.1179) tensor(2.6400) tensor(0.1152) tensor(0.9780) \n",
      "label tensor([1])\n",
      "batch data torch.Size([1, 3, 3, 224, 224]) tensor(-2.1179) tensor(2.6400) tensor(0.1285) tensor(1.0338) \n",
      "label tensor([1])\n",
      "batch data torch.Size([1, 3, 3, 224, 224]) tensor(-2.1179) tensor(2.6400) tensor(0.2623) tensor(1.4476) \n",
      "label tensor([1])\n",
      "batch data torch.Size([1, 3, 3, 224, 224]) tensor(-1.9980) tensor(2.5703) tensor(-0.1772) tensor(1.2857) \n",
      "label tensor([0])\n",
      "batch data torch.Size([1, 3, 3, 224, 224]) tensor(-2.0837) tensor(2.6400) tensor(-0.0988) tensor(0.8748) \n",
      "label tensor([0])\n",
      "batch data torch.Size([1, 3, 3, 224, 224]) tensor(-2.1179) tensor(2.6400) tensor(-1.1600) tensor(0.8314) \n",
      "label tensor([1])\n",
      "batch data torch.Size([1, 3, 3, 224, 224]) tensor(-1.9638) tensor(2.6400) tensor(0.0068) tensor(1.3985) \n",
      "label tensor([0])\n",
      "batch data torch.Size([1, 3, 3, 224, 224]) tensor(-2.0665) tensor(1.9951) tensor(-0.2531) tensor(1.2520) \n",
      "label tensor([1])\n",
      "batch data torch.Size([1, 3, 3, 224, 224]) tensor(-2.0837) tensor(2.2489) tensor(-0.1476) tensor(0.7646) \n",
      "label tensor([1])\n",
      "batch data torch.Size([1, 3, 3, 224, 224]) tensor(-1.9832) tensor(2.6400) tensor(-0.4651) tensor(1.0729) \n",
      "label tensor([0])\n",
      "batch data torch.Size([1, 3, 3, 224, 224]) tensor(-2.1179) tensor(2.6400) tensor(-0.1639) tensor(1.2590) \n",
      "label tensor([1])\n",
      "batch data torch.Size([1, 3, 3, 224, 224]) tensor(-2.1008) tensor(2.4286) "
     ]
    },
    {
     "name": "stderr",
     "output_type": "stream",
     "text": [
      "100%|██████████| 249/249 [00:05<00:00, 48.07it/s]"
     ]
    },
    {
     "name": "stdout",
     "output_type": "stream",
     "text": [
      "tensor(-0.8399) tensor(0.8379) \n",
      "label tensor([1])\n",
      "batch data torch.Size([1, 3, 3, 224, 224]) tensor(-2.0494) tensor(2.3761) tensor(-0.4625) tensor(1.2339) \n",
      "label tensor([1])\n"
     ]
    },
    {
     "name": "stderr",
     "output_type": "stream",
     "text": [
      "\n"
     ]
    }
   ],
   "source": [
    "\n",
    "#dataloader_train = DataLoader(train_dataset, shuffle=True,batch_size=2, num_workers=4, pin_memory=True)\n",
    "#dataloader_validation = DataLoader(validation_dataset, shuffle=True,batch_size=2, num_workers=4, pin_memory=True)\n",
    "dataloader_train = DataLoader(train_dataset, shuffle=True,\n",
    "                              batch_size=1, num_workers=1, pin_memory=True)\n",
    "print(dataloader_train, \"\\nbatches:\", len(dataloader_train))\n",
    "\n",
    "\n",
    "\n",
    "\n",
    "for X, y in tqdm(dataloader_train):\n",
    "  #counter +=1\n",
    "  print('batch data', X.shape, X.min(), X.max(), X.mean(), X.std(), '\\nlabel', y)"
   ]
  },
  {
   "cell_type": "code",
   "execution_count": 5,
   "metadata": {},
   "outputs": [
    {
     "name": "stdout",
     "output_type": "stream",
     "text": [
      "<torch.utils.data.dataloader.DataLoader object at 0x7f46b2666380> \n",
      "batches: 63\n"
     ]
    }
   ],
   "source": [
    "dataloader_validation = DataLoader(validation_dataset, shuffle=True,\n",
    "                              batch_size=1, num_workers=1, pin_memory=True)\n",
    "print(dataloader_train, \"\\nbatches:\", len(dataloader_validation))"
   ]
  },
  {
   "cell_type": "code",
   "execution_count": 6,
   "metadata": {},
   "outputs": [
    {
     "name": "stdout",
     "output_type": "stream",
     "text": [
      "MobileNetV2(\n",
      "  (features): Sequential(\n",
      "    (0): Conv2dNormActivation(\n",
      "      (0): Conv2d(3, 32, kernel_size=(3, 3), stride=(2, 2), padding=(1, 1), bias=False)\n",
      "      (1): BatchNorm2d(32, eps=1e-05, momentum=0.1, affine=True, track_running_stats=True)\n",
      "      (2): ReLU6(inplace=True)\n",
      "    )\n",
      "    (1): InvertedResidual(\n",
      "      (conv): Sequential(\n",
      "        (0): Conv2dNormActivation(\n",
      "          (0): Conv2d(32, 32, kernel_size=(3, 3), stride=(1, 1), padding=(1, 1), groups=32, bias=False)\n",
      "          (1): BatchNorm2d(32, eps=1e-05, momentum=0.1, affine=True, track_running_stats=True)\n",
      "          (2): ReLU6(inplace=True)\n",
      "        )\n",
      "        (1): Conv2d(32, 16, kernel_size=(1, 1), stride=(1, 1), bias=False)\n",
      "        (2): BatchNorm2d(16, eps=1e-05, momentum=0.1, affine=True, track_running_stats=True)\n",
      "      )\n",
      "    )\n",
      "    (2): InvertedResidual(\n",
      "      (conv): Sequential(\n",
      "        (0): Conv2dNormActivation(\n",
      "          (0): Conv2d(16, 96, kernel_size=(1, 1), stride=(1, 1), bias=False)\n",
      "          (1): BatchNorm2d(96, eps=1e-05, momentum=0.1, affine=True, track_running_stats=True)\n",
      "          (2): ReLU6(inplace=True)\n",
      "        )\n",
      "        (1): Conv2dNormActivation(\n",
      "          (0): Conv2d(96, 96, kernel_size=(3, 3), stride=(2, 2), padding=(1, 1), groups=96, bias=False)\n",
      "          (1): BatchNorm2d(96, eps=1e-05, momentum=0.1, affine=True, track_running_stats=True)\n",
      "          (2): ReLU6(inplace=True)\n",
      "        )\n",
      "        (2): Conv2d(96, 24, kernel_size=(1, 1), stride=(1, 1), bias=False)\n",
      "        (3): BatchNorm2d(24, eps=1e-05, momentum=0.1, affine=True, track_running_stats=True)\n",
      "      )\n",
      "    )\n",
      "    (3): InvertedResidual(\n",
      "      (conv): Sequential(\n",
      "        (0): Conv2dNormActivation(\n",
      "          (0): Conv2d(24, 144, kernel_size=(1, 1), stride=(1, 1), bias=False)\n",
      "          (1): BatchNorm2d(144, eps=1e-05, momentum=0.1, affine=True, track_running_stats=True)\n",
      "          (2): ReLU6(inplace=True)\n",
      "        )\n",
      "        (1): Conv2dNormActivation(\n",
      "          (0): Conv2d(144, 144, kernel_size=(3, 3), stride=(1, 1), padding=(1, 1), groups=144, bias=False)\n",
      "          (1): BatchNorm2d(144, eps=1e-05, momentum=0.1, affine=True, track_running_stats=True)\n",
      "          (2): ReLU6(inplace=True)\n",
      "        )\n",
      "        (2): Conv2d(144, 24, kernel_size=(1, 1), stride=(1, 1), bias=False)\n",
      "        (3): BatchNorm2d(24, eps=1e-05, momentum=0.1, affine=True, track_running_stats=True)\n",
      "      )\n",
      "    )\n",
      "    (4): InvertedResidual(\n",
      "      (conv): Sequential(\n",
      "        (0): Conv2dNormActivation(\n",
      "          (0): Conv2d(24, 144, kernel_size=(1, 1), stride=(1, 1), bias=False)\n",
      "          (1): BatchNorm2d(144, eps=1e-05, momentum=0.1, affine=True, track_running_stats=True)\n",
      "          (2): ReLU6(inplace=True)\n",
      "        )\n",
      "        (1): Conv2dNormActivation(\n",
      "          (0): Conv2d(144, 144, kernel_size=(3, 3), stride=(2, 2), padding=(1, 1), groups=144, bias=False)\n",
      "          (1): BatchNorm2d(144, eps=1e-05, momentum=0.1, affine=True, track_running_stats=True)\n",
      "          (2): ReLU6(inplace=True)\n",
      "        )\n",
      "        (2): Conv2d(144, 32, kernel_size=(1, 1), stride=(1, 1), bias=False)\n",
      "        (3): BatchNorm2d(32, eps=1e-05, momentum=0.1, affine=True, track_running_stats=True)\n",
      "      )\n",
      "    )\n",
      "    (5): InvertedResidual(\n",
      "      (conv): Sequential(\n",
      "        (0): Conv2dNormActivation(\n",
      "          (0): Conv2d(32, 192, kernel_size=(1, 1), stride=(1, 1), bias=False)\n",
      "          (1): BatchNorm2d(192, eps=1e-05, momentum=0.1, affine=True, track_running_stats=True)\n",
      "          (2): ReLU6(inplace=True)\n",
      "        )\n",
      "        (1): Conv2dNormActivation(\n",
      "          (0): Conv2d(192, 192, kernel_size=(3, 3), stride=(1, 1), padding=(1, 1), groups=192, bias=False)\n",
      "          (1): BatchNorm2d(192, eps=1e-05, momentum=0.1, affine=True, track_running_stats=True)\n",
      "          (2): ReLU6(inplace=True)\n",
      "        )\n",
      "        (2): Conv2d(192, 32, kernel_size=(1, 1), stride=(1, 1), bias=False)\n",
      "        (3): BatchNorm2d(32, eps=1e-05, momentum=0.1, affine=True, track_running_stats=True)\n",
      "      )\n",
      "    )\n",
      "    (6): InvertedResidual(\n",
      "      (conv): Sequential(\n",
      "        (0): Conv2dNormActivation(\n",
      "          (0): Conv2d(32, 192, kernel_size=(1, 1), stride=(1, 1), bias=False)\n",
      "          (1): BatchNorm2d(192, eps=1e-05, momentum=0.1, affine=True, track_running_stats=True)\n",
      "          (2): ReLU6(inplace=True)\n",
      "        )\n",
      "        (1): Conv2dNormActivation(\n",
      "          (0): Conv2d(192, 192, kernel_size=(3, 3), stride=(1, 1), padding=(1, 1), groups=192, bias=False)\n",
      "          (1): BatchNorm2d(192, eps=1e-05, momentum=0.1, affine=True, track_running_stats=True)\n",
      "          (2): ReLU6(inplace=True)\n",
      "        )\n",
      "        (2): Conv2d(192, 32, kernel_size=(1, 1), stride=(1, 1), bias=False)\n",
      "        (3): BatchNorm2d(32, eps=1e-05, momentum=0.1, affine=True, track_running_stats=True)\n",
      "      )\n",
      "    )\n",
      "    (7): InvertedResidual(\n",
      "      (conv): Sequential(\n",
      "        (0): Conv2dNormActivation(\n",
      "          (0): Conv2d(32, 192, kernel_size=(1, 1), stride=(1, 1), bias=False)\n",
      "          (1): BatchNorm2d(192, eps=1e-05, momentum=0.1, affine=True, track_running_stats=True)\n",
      "          (2): ReLU6(inplace=True)\n",
      "        )\n",
      "        (1): Conv2dNormActivation(\n",
      "          (0): Conv2d(192, 192, kernel_size=(3, 3), stride=(2, 2), padding=(1, 1), groups=192, bias=False)\n",
      "          (1): BatchNorm2d(192, eps=1e-05, momentum=0.1, affine=True, track_running_stats=True)\n",
      "          (2): ReLU6(inplace=True)\n",
      "        )\n",
      "        (2): Conv2d(192, 64, kernel_size=(1, 1), stride=(1, 1), bias=False)\n",
      "        (3): BatchNorm2d(64, eps=1e-05, momentum=0.1, affine=True, track_running_stats=True)\n",
      "      )\n",
      "    )\n",
      "    (8): InvertedResidual(\n",
      "      (conv): Sequential(\n",
      "        (0): Conv2dNormActivation(\n",
      "          (0): Conv2d(64, 384, kernel_size=(1, 1), stride=(1, 1), bias=False)\n",
      "          (1): BatchNorm2d(384, eps=1e-05, momentum=0.1, affine=True, track_running_stats=True)\n",
      "          (2): ReLU6(inplace=True)\n",
      "        )\n",
      "        (1): Conv2dNormActivation(\n",
      "          (0): Conv2d(384, 384, kernel_size=(3, 3), stride=(1, 1), padding=(1, 1), groups=384, bias=False)\n",
      "          (1): BatchNorm2d(384, eps=1e-05, momentum=0.1, affine=True, track_running_stats=True)\n",
      "          (2): ReLU6(inplace=True)\n",
      "        )\n",
      "        (2): Conv2d(384, 64, kernel_size=(1, 1), stride=(1, 1), bias=False)\n",
      "        (3): BatchNorm2d(64, eps=1e-05, momentum=0.1, affine=True, track_running_stats=True)\n",
      "      )\n",
      "    )\n",
      "    (9): InvertedResidual(\n",
      "      (conv): Sequential(\n",
      "        (0): Conv2dNormActivation(\n",
      "          (0): Conv2d(64, 384, kernel_size=(1, 1), stride=(1, 1), bias=False)\n",
      "          (1): BatchNorm2d(384, eps=1e-05, momentum=0.1, affine=True, track_running_stats=True)\n",
      "          (2): ReLU6(inplace=True)\n",
      "        )\n",
      "        (1): Conv2dNormActivation(\n",
      "          (0): Conv2d(384, 384, kernel_size=(3, 3), stride=(1, 1), padding=(1, 1), groups=384, bias=False)\n",
      "          (1): BatchNorm2d(384, eps=1e-05, momentum=0.1, affine=True, track_running_stats=True)\n",
      "          (2): ReLU6(inplace=True)\n",
      "        )\n",
      "        (2): Conv2d(384, 64, kernel_size=(1, 1), stride=(1, 1), bias=False)\n",
      "        (3): BatchNorm2d(64, eps=1e-05, momentum=0.1, affine=True, track_running_stats=True)\n",
      "      )\n",
      "    )\n",
      "    (10): InvertedResidual(\n",
      "      (conv): Sequential(\n",
      "        (0): Conv2dNormActivation(\n",
      "          (0): Conv2d(64, 384, kernel_size=(1, 1), stride=(1, 1), bias=False)\n",
      "          (1): BatchNorm2d(384, eps=1e-05, momentum=0.1, affine=True, track_running_stats=True)\n",
      "          (2): ReLU6(inplace=True)\n",
      "        )\n",
      "        (1): Conv2dNormActivation(\n",
      "          (0): Conv2d(384, 384, kernel_size=(3, 3), stride=(1, 1), padding=(1, 1), groups=384, bias=False)\n",
      "          (1): BatchNorm2d(384, eps=1e-05, momentum=0.1, affine=True, track_running_stats=True)\n",
      "          (2): ReLU6(inplace=True)\n",
      "        )\n",
      "        (2): Conv2d(384, 64, kernel_size=(1, 1), stride=(1, 1), bias=False)\n",
      "        (3): BatchNorm2d(64, eps=1e-05, momentum=0.1, affine=True, track_running_stats=True)\n",
      "      )\n",
      "    )\n",
      "    (11): InvertedResidual(\n",
      "      (conv): Sequential(\n",
      "        (0): Conv2dNormActivation(\n",
      "          (0): Conv2d(64, 384, kernel_size=(1, 1), stride=(1, 1), bias=False)\n",
      "          (1): BatchNorm2d(384, eps=1e-05, momentum=0.1, affine=True, track_running_stats=True)\n",
      "          (2): ReLU6(inplace=True)\n",
      "        )\n",
      "        (1): Conv2dNormActivation(\n",
      "          (0): Conv2d(384, 384, kernel_size=(3, 3), stride=(1, 1), padding=(1, 1), groups=384, bias=False)\n",
      "          (1): BatchNorm2d(384, eps=1e-05, momentum=0.1, affine=True, track_running_stats=True)\n",
      "          (2): ReLU6(inplace=True)\n",
      "        )\n",
      "        (2): Conv2d(384, 96, kernel_size=(1, 1), stride=(1, 1), bias=False)\n",
      "        (3): BatchNorm2d(96, eps=1e-05, momentum=0.1, affine=True, track_running_stats=True)\n",
      "      )\n",
      "    )\n",
      "    (12): InvertedResidual(\n",
      "      (conv): Sequential(\n",
      "        (0): Conv2dNormActivation(\n",
      "          (0): Conv2d(96, 576, kernel_size=(1, 1), stride=(1, 1), bias=False)\n",
      "          (1): BatchNorm2d(576, eps=1e-05, momentum=0.1, affine=True, track_running_stats=True)\n",
      "          (2): ReLU6(inplace=True)\n",
      "        )\n",
      "        (1): Conv2dNormActivation(\n",
      "          (0): Conv2d(576, 576, kernel_size=(3, 3), stride=(1, 1), padding=(1, 1), groups=576, bias=False)\n",
      "          (1): BatchNorm2d(576, eps=1e-05, momentum=0.1, affine=True, track_running_stats=True)\n",
      "          (2): ReLU6(inplace=True)\n",
      "        )\n",
      "        (2): Conv2d(576, 96, kernel_size=(1, 1), stride=(1, 1), bias=False)\n",
      "        (3): BatchNorm2d(96, eps=1e-05, momentum=0.1, affine=True, track_running_stats=True)\n",
      "      )\n",
      "    )\n",
      "    (13): InvertedResidual(\n",
      "      (conv): Sequential(\n",
      "        (0): Conv2dNormActivation(\n",
      "          (0): Conv2d(96, 576, kernel_size=(1, 1), stride=(1, 1), bias=False)\n",
      "          (1): BatchNorm2d(576, eps=1e-05, momentum=0.1, affine=True, track_running_stats=True)\n",
      "          (2): ReLU6(inplace=True)\n",
      "        )\n",
      "        (1): Conv2dNormActivation(\n",
      "          (0): Conv2d(576, 576, kernel_size=(3, 3), stride=(1, 1), padding=(1, 1), groups=576, bias=False)\n",
      "          (1): BatchNorm2d(576, eps=1e-05, momentum=0.1, affine=True, track_running_stats=True)\n",
      "          (2): ReLU6(inplace=True)\n",
      "        )\n",
      "        (2): Conv2d(576, 96, kernel_size=(1, 1), stride=(1, 1), bias=False)\n",
      "        (3): BatchNorm2d(96, eps=1e-05, momentum=0.1, affine=True, track_running_stats=True)\n",
      "      )\n",
      "    )\n",
      "    (14): InvertedResidual(\n",
      "      (conv): Sequential(\n",
      "        (0): Conv2dNormActivation(\n",
      "          (0): Conv2d(96, 576, kernel_size=(1, 1), stride=(1, 1), bias=False)\n",
      "          (1): BatchNorm2d(576, eps=1e-05, momentum=0.1, affine=True, track_running_stats=True)\n",
      "          (2): ReLU6(inplace=True)\n",
      "        )\n",
      "        (1): Conv2dNormActivation(\n",
      "          (0): Conv2d(576, 576, kernel_size=(3, 3), stride=(2, 2), padding=(1, 1), groups=576, bias=False)\n",
      "          (1): BatchNorm2d(576, eps=1e-05, momentum=0.1, affine=True, track_running_stats=True)\n",
      "          (2): ReLU6(inplace=True)\n",
      "        )\n",
      "        (2): Conv2d(576, 160, kernel_size=(1, 1), stride=(1, 1), bias=False)\n",
      "        (3): BatchNorm2d(160, eps=1e-05, momentum=0.1, affine=True, track_running_stats=True)\n",
      "      )\n",
      "    )\n",
      "    (15): InvertedResidual(\n",
      "      (conv): Sequential(\n",
      "        (0): Conv2dNormActivation(\n",
      "          (0): Conv2d(160, 960, kernel_size=(1, 1), stride=(1, 1), bias=False)\n",
      "          (1): BatchNorm2d(960, eps=1e-05, momentum=0.1, affine=True, track_running_stats=True)\n",
      "          (2): ReLU6(inplace=True)\n",
      "        )\n",
      "        (1): Conv2dNormActivation(\n",
      "          (0): Conv2d(960, 960, kernel_size=(3, 3), stride=(1, 1), padding=(1, 1), groups=960, bias=False)\n",
      "          (1): BatchNorm2d(960, eps=1e-05, momentum=0.1, affine=True, track_running_stats=True)\n",
      "          (2): ReLU6(inplace=True)\n",
      "        )\n",
      "        (2): Conv2d(960, 160, kernel_size=(1, 1), stride=(1, 1), bias=False)\n",
      "        (3): BatchNorm2d(160, eps=1e-05, momentum=0.1, affine=True, track_running_stats=True)\n",
      "      )\n",
      "    )\n",
      "    (16): InvertedResidual(\n",
      "      (conv): Sequential(\n",
      "        (0): Conv2dNormActivation(\n",
      "          (0): Conv2d(160, 960, kernel_size=(1, 1), stride=(1, 1), bias=False)\n",
      "          (1): BatchNorm2d(960, eps=1e-05, momentum=0.1, affine=True, track_running_stats=True)\n",
      "          (2): ReLU6(inplace=True)\n",
      "        )\n",
      "        (1): Conv2dNormActivation(\n",
      "          (0): Conv2d(960, 960, kernel_size=(3, 3), stride=(1, 1), padding=(1, 1), groups=960, bias=False)\n",
      "          (1): BatchNorm2d(960, eps=1e-05, momentum=0.1, affine=True, track_running_stats=True)\n",
      "          (2): ReLU6(inplace=True)\n",
      "        )\n",
      "        (2): Conv2d(960, 160, kernel_size=(1, 1), stride=(1, 1), bias=False)\n",
      "        (3): BatchNorm2d(160, eps=1e-05, momentum=0.1, affine=True, track_running_stats=True)\n",
      "      )\n",
      "    )\n",
      "    (17): InvertedResidual(\n",
      "      (conv): Sequential(\n",
      "        (0): Conv2dNormActivation(\n",
      "          (0): Conv2d(160, 960, kernel_size=(1, 1), stride=(1, 1), bias=False)\n",
      "          (1): BatchNorm2d(960, eps=1e-05, momentum=0.1, affine=True, track_running_stats=True)\n",
      "          (2): ReLU6(inplace=True)\n",
      "        )\n",
      "        (1): Conv2dNormActivation(\n",
      "          (0): Conv2d(960, 960, kernel_size=(3, 3), stride=(1, 1), padding=(1, 1), groups=960, bias=False)\n",
      "          (1): BatchNorm2d(960, eps=1e-05, momentum=0.1, affine=True, track_running_stats=True)\n",
      "          (2): ReLU6(inplace=True)\n",
      "        )\n",
      "        (2): Conv2d(960, 320, kernel_size=(1, 1), stride=(1, 1), bias=False)\n",
      "        (3): BatchNorm2d(320, eps=1e-05, momentum=0.1, affine=True, track_running_stats=True)\n",
      "      )\n",
      "    )\n",
      "    (18): Conv2dNormActivation(\n",
      "      (0): Conv2d(320, 1280, kernel_size=(1, 1), stride=(1, 1), bias=False)\n",
      "      (1): BatchNorm2d(1280, eps=1e-05, momentum=0.1, affine=True, track_running_stats=True)\n",
      "      (2): ReLU6(inplace=True)\n",
      "    )\n",
      "  )\n",
      "  (classifier): Sequential(\n",
      "    (0): Dropout(p=0.2, inplace=False)\n",
      "    (1): Linear(in_features=1280, out_features=1000, bias=True)\n",
      "  )\n",
      ")\n"
     ]
    },
    {
     "name": "stderr",
     "output_type": "stream",
     "text": [
      "Using cache found in /home/michele/.cache/torch/hub/pytorch_vision_v0.10.0\n",
      "/home/michele/.local/lib/python3.10/site-packages/torchvision/models/_utils.py:208: UserWarning: The parameter 'pretrained' is deprecated since 0.13 and may be removed in the future, please use 'weights' instead.\n",
      "  warnings.warn(\n",
      "/home/michele/.local/lib/python3.10/site-packages/torchvision/models/_utils.py:223: UserWarning: Arguments other than a weight enum or `None` for 'weights' are deprecated since 0.13 and may be removed in the future. The current behavior is equivalent to passing `weights=MobileNet_V2_Weights.IMAGENET1K_V1`. You can also use `weights=MobileNet_V2_Weights.DEFAULT` to get the most up-to-date weights.\n",
      "  warnings.warn(msg)\n"
     ]
    }
   ],
   "source": [
    "from torch.nn import Linear\n",
    "def build_MobileNet(num_outputs=1):\n",
    "  model = torch.hub.load('pytorch/vision:v0.10.0', 'mobilenet_v2', pretrained=True)\n",
    "  model.eval()\n",
    "\n",
    "  #model.classifier[6] = Linear(4096, num_outputs)\n",
    "  return model\n",
    "\n",
    "model = build_MobileNet(1)\n",
    "print(model)"
   ]
  },
  {
   "cell_type": "code",
   "execution_count": 7,
   "metadata": {},
   "outputs": [
    {
     "name": "stderr",
     "output_type": "stream",
     "text": [
      "Using cache found in /home/michele/.cache/torch/hub/pytorch_vision_v0.10.0\n"
     ]
    },
    {
     "data": {
      "text/plain": [
       "MobileNetV2(\n",
       "  (features): Sequential(\n",
       "    (0): Conv2dNormActivation(\n",
       "      (0): Conv2d(3, 32, kernel_size=(3, 3), stride=(2, 2), padding=(1, 1), bias=False)\n",
       "      (1): BatchNorm2d(32, eps=1e-05, momentum=0.1, affine=True, track_running_stats=True)\n",
       "      (2): ReLU6(inplace=True)\n",
       "    )\n",
       "    (1): InvertedResidual(\n",
       "      (conv): Sequential(\n",
       "        (0): Conv2dNormActivation(\n",
       "          (0): Conv2d(32, 32, kernel_size=(3, 3), stride=(1, 1), padding=(1, 1), groups=32, bias=False)\n",
       "          (1): BatchNorm2d(32, eps=1e-05, momentum=0.1, affine=True, track_running_stats=True)\n",
       "          (2): ReLU6(inplace=True)\n",
       "        )\n",
       "        (1): Conv2d(32, 16, kernel_size=(1, 1), stride=(1, 1), bias=False)\n",
       "        (2): BatchNorm2d(16, eps=1e-05, momentum=0.1, affine=True, track_running_stats=True)\n",
       "      )\n",
       "    )\n",
       "    (2): InvertedResidual(\n",
       "      (conv): Sequential(\n",
       "        (0): Conv2dNormActivation(\n",
       "          (0): Conv2d(16, 96, kernel_size=(1, 1), stride=(1, 1), bias=False)\n",
       "          (1): BatchNorm2d(96, eps=1e-05, momentum=0.1, affine=True, track_running_stats=True)\n",
       "          (2): ReLU6(inplace=True)\n",
       "        )\n",
       "        (1): Conv2dNormActivation(\n",
       "          (0): Conv2d(96, 96, kernel_size=(3, 3), stride=(2, 2), padding=(1, 1), groups=96, bias=False)\n",
       "          (1): BatchNorm2d(96, eps=1e-05, momentum=0.1, affine=True, track_running_stats=True)\n",
       "          (2): ReLU6(inplace=True)\n",
       "        )\n",
       "        (2): Conv2d(96, 24, kernel_size=(1, 1), stride=(1, 1), bias=False)\n",
       "        (3): BatchNorm2d(24, eps=1e-05, momentum=0.1, affine=True, track_running_stats=True)\n",
       "      )\n",
       "    )\n",
       "    (3): InvertedResidual(\n",
       "      (conv): Sequential(\n",
       "        (0): Conv2dNormActivation(\n",
       "          (0): Conv2d(24, 144, kernel_size=(1, 1), stride=(1, 1), bias=False)\n",
       "          (1): BatchNorm2d(144, eps=1e-05, momentum=0.1, affine=True, track_running_stats=True)\n",
       "          (2): ReLU6(inplace=True)\n",
       "        )\n",
       "        (1): Conv2dNormActivation(\n",
       "          (0): Conv2d(144, 144, kernel_size=(3, 3), stride=(1, 1), padding=(1, 1), groups=144, bias=False)\n",
       "          (1): BatchNorm2d(144, eps=1e-05, momentum=0.1, affine=True, track_running_stats=True)\n",
       "          (2): ReLU6(inplace=True)\n",
       "        )\n",
       "        (2): Conv2d(144, 24, kernel_size=(1, 1), stride=(1, 1), bias=False)\n",
       "        (3): BatchNorm2d(24, eps=1e-05, momentum=0.1, affine=True, track_running_stats=True)\n",
       "      )\n",
       "    )\n",
       "    (4): InvertedResidual(\n",
       "      (conv): Sequential(\n",
       "        (0): Conv2dNormActivation(\n",
       "          (0): Conv2d(24, 144, kernel_size=(1, 1), stride=(1, 1), bias=False)\n",
       "          (1): BatchNorm2d(144, eps=1e-05, momentum=0.1, affine=True, track_running_stats=True)\n",
       "          (2): ReLU6(inplace=True)\n",
       "        )\n",
       "        (1): Conv2dNormActivation(\n",
       "          (0): Conv2d(144, 144, kernel_size=(3, 3), stride=(2, 2), padding=(1, 1), groups=144, bias=False)\n",
       "          (1): BatchNorm2d(144, eps=1e-05, momentum=0.1, affine=True, track_running_stats=True)\n",
       "          (2): ReLU6(inplace=True)\n",
       "        )\n",
       "        (2): Conv2d(144, 32, kernel_size=(1, 1), stride=(1, 1), bias=False)\n",
       "        (3): BatchNorm2d(32, eps=1e-05, momentum=0.1, affine=True, track_running_stats=True)\n",
       "      )\n",
       "    )\n",
       "    (5): InvertedResidual(\n",
       "      (conv): Sequential(\n",
       "        (0): Conv2dNormActivation(\n",
       "          (0): Conv2d(32, 192, kernel_size=(1, 1), stride=(1, 1), bias=False)\n",
       "          (1): BatchNorm2d(192, eps=1e-05, momentum=0.1, affine=True, track_running_stats=True)\n",
       "          (2): ReLU6(inplace=True)\n",
       "        )\n",
       "        (1): Conv2dNormActivation(\n",
       "          (0): Conv2d(192, 192, kernel_size=(3, 3), stride=(1, 1), padding=(1, 1), groups=192, bias=False)\n",
       "          (1): BatchNorm2d(192, eps=1e-05, momentum=0.1, affine=True, track_running_stats=True)\n",
       "          (2): ReLU6(inplace=True)\n",
       "        )\n",
       "        (2): Conv2d(192, 32, kernel_size=(1, 1), stride=(1, 1), bias=False)\n",
       "        (3): BatchNorm2d(32, eps=1e-05, momentum=0.1, affine=True, track_running_stats=True)\n",
       "      )\n",
       "    )\n",
       "    (6): InvertedResidual(\n",
       "      (conv): Sequential(\n",
       "        (0): Conv2dNormActivation(\n",
       "          (0): Conv2d(32, 192, kernel_size=(1, 1), stride=(1, 1), bias=False)\n",
       "          (1): BatchNorm2d(192, eps=1e-05, momentum=0.1, affine=True, track_running_stats=True)\n",
       "          (2): ReLU6(inplace=True)\n",
       "        )\n",
       "        (1): Conv2dNormActivation(\n",
       "          (0): Conv2d(192, 192, kernel_size=(3, 3), stride=(1, 1), padding=(1, 1), groups=192, bias=False)\n",
       "          (1): BatchNorm2d(192, eps=1e-05, momentum=0.1, affine=True, track_running_stats=True)\n",
       "          (2): ReLU6(inplace=True)\n",
       "        )\n",
       "        (2): Conv2d(192, 32, kernel_size=(1, 1), stride=(1, 1), bias=False)\n",
       "        (3): BatchNorm2d(32, eps=1e-05, momentum=0.1, affine=True, track_running_stats=True)\n",
       "      )\n",
       "    )\n",
       "    (7): InvertedResidual(\n",
       "      (conv): Sequential(\n",
       "        (0): Conv2dNormActivation(\n",
       "          (0): Conv2d(32, 192, kernel_size=(1, 1), stride=(1, 1), bias=False)\n",
       "          (1): BatchNorm2d(192, eps=1e-05, momentum=0.1, affine=True, track_running_stats=True)\n",
       "          (2): ReLU6(inplace=True)\n",
       "        )\n",
       "        (1): Conv2dNormActivation(\n",
       "          (0): Conv2d(192, 192, kernel_size=(3, 3), stride=(2, 2), padding=(1, 1), groups=192, bias=False)\n",
       "          (1): BatchNorm2d(192, eps=1e-05, momentum=0.1, affine=True, track_running_stats=True)\n",
       "          (2): ReLU6(inplace=True)\n",
       "        )\n",
       "        (2): Conv2d(192, 64, kernel_size=(1, 1), stride=(1, 1), bias=False)\n",
       "        (3): BatchNorm2d(64, eps=1e-05, momentum=0.1, affine=True, track_running_stats=True)\n",
       "      )\n",
       "    )\n",
       "    (8): InvertedResidual(\n",
       "      (conv): Sequential(\n",
       "        (0): Conv2dNormActivation(\n",
       "          (0): Conv2d(64, 384, kernel_size=(1, 1), stride=(1, 1), bias=False)\n",
       "          (1): BatchNorm2d(384, eps=1e-05, momentum=0.1, affine=True, track_running_stats=True)\n",
       "          (2): ReLU6(inplace=True)\n",
       "        )\n",
       "        (1): Conv2dNormActivation(\n",
       "          (0): Conv2d(384, 384, kernel_size=(3, 3), stride=(1, 1), padding=(1, 1), groups=384, bias=False)\n",
       "          (1): BatchNorm2d(384, eps=1e-05, momentum=0.1, affine=True, track_running_stats=True)\n",
       "          (2): ReLU6(inplace=True)\n",
       "        )\n",
       "        (2): Conv2d(384, 64, kernel_size=(1, 1), stride=(1, 1), bias=False)\n",
       "        (3): BatchNorm2d(64, eps=1e-05, momentum=0.1, affine=True, track_running_stats=True)\n",
       "      )\n",
       "    )\n",
       "    (9): InvertedResidual(\n",
       "      (conv): Sequential(\n",
       "        (0): Conv2dNormActivation(\n",
       "          (0): Conv2d(64, 384, kernel_size=(1, 1), stride=(1, 1), bias=False)\n",
       "          (1): BatchNorm2d(384, eps=1e-05, momentum=0.1, affine=True, track_running_stats=True)\n",
       "          (2): ReLU6(inplace=True)\n",
       "        )\n",
       "        (1): Conv2dNormActivation(\n",
       "          (0): Conv2d(384, 384, kernel_size=(3, 3), stride=(1, 1), padding=(1, 1), groups=384, bias=False)\n",
       "          (1): BatchNorm2d(384, eps=1e-05, momentum=0.1, affine=True, track_running_stats=True)\n",
       "          (2): ReLU6(inplace=True)\n",
       "        )\n",
       "        (2): Conv2d(384, 64, kernel_size=(1, 1), stride=(1, 1), bias=False)\n",
       "        (3): BatchNorm2d(64, eps=1e-05, momentum=0.1, affine=True, track_running_stats=True)\n",
       "      )\n",
       "    )\n",
       "    (10): InvertedResidual(\n",
       "      (conv): Sequential(\n",
       "        (0): Conv2dNormActivation(\n",
       "          (0): Conv2d(64, 384, kernel_size=(1, 1), stride=(1, 1), bias=False)\n",
       "          (1): BatchNorm2d(384, eps=1e-05, momentum=0.1, affine=True, track_running_stats=True)\n",
       "          (2): ReLU6(inplace=True)\n",
       "        )\n",
       "        (1): Conv2dNormActivation(\n",
       "          (0): Conv2d(384, 384, kernel_size=(3, 3), stride=(1, 1), padding=(1, 1), groups=384, bias=False)\n",
       "          (1): BatchNorm2d(384, eps=1e-05, momentum=0.1, affine=True, track_running_stats=True)\n",
       "          (2): ReLU6(inplace=True)\n",
       "        )\n",
       "        (2): Conv2d(384, 64, kernel_size=(1, 1), stride=(1, 1), bias=False)\n",
       "        (3): BatchNorm2d(64, eps=1e-05, momentum=0.1, affine=True, track_running_stats=True)\n",
       "      )\n",
       "    )\n",
       "    (11): InvertedResidual(\n",
       "      (conv): Sequential(\n",
       "        (0): Conv2dNormActivation(\n",
       "          (0): Conv2d(64, 384, kernel_size=(1, 1), stride=(1, 1), bias=False)\n",
       "          (1): BatchNorm2d(384, eps=1e-05, momentum=0.1, affine=True, track_running_stats=True)\n",
       "          (2): ReLU6(inplace=True)\n",
       "        )\n",
       "        (1): Conv2dNormActivation(\n",
       "          (0): Conv2d(384, 384, kernel_size=(3, 3), stride=(1, 1), padding=(1, 1), groups=384, bias=False)\n",
       "          (1): BatchNorm2d(384, eps=1e-05, momentum=0.1, affine=True, track_running_stats=True)\n",
       "          (2): ReLU6(inplace=True)\n",
       "        )\n",
       "        (2): Conv2d(384, 96, kernel_size=(1, 1), stride=(1, 1), bias=False)\n",
       "        (3): BatchNorm2d(96, eps=1e-05, momentum=0.1, affine=True, track_running_stats=True)\n",
       "      )\n",
       "    )\n",
       "    (12): InvertedResidual(\n",
       "      (conv): Sequential(\n",
       "        (0): Conv2dNormActivation(\n",
       "          (0): Conv2d(96, 576, kernel_size=(1, 1), stride=(1, 1), bias=False)\n",
       "          (1): BatchNorm2d(576, eps=1e-05, momentum=0.1, affine=True, track_running_stats=True)\n",
       "          (2): ReLU6(inplace=True)\n",
       "        )\n",
       "        (1): Conv2dNormActivation(\n",
       "          (0): Conv2d(576, 576, kernel_size=(3, 3), stride=(1, 1), padding=(1, 1), groups=576, bias=False)\n",
       "          (1): BatchNorm2d(576, eps=1e-05, momentum=0.1, affine=True, track_running_stats=True)\n",
       "          (2): ReLU6(inplace=True)\n",
       "        )\n",
       "        (2): Conv2d(576, 96, kernel_size=(1, 1), stride=(1, 1), bias=False)\n",
       "        (3): BatchNorm2d(96, eps=1e-05, momentum=0.1, affine=True, track_running_stats=True)\n",
       "      )\n",
       "    )\n",
       "    (13): InvertedResidual(\n",
       "      (conv): Sequential(\n",
       "        (0): Conv2dNormActivation(\n",
       "          (0): Conv2d(96, 576, kernel_size=(1, 1), stride=(1, 1), bias=False)\n",
       "          (1): BatchNorm2d(576, eps=1e-05, momentum=0.1, affine=True, track_running_stats=True)\n",
       "          (2): ReLU6(inplace=True)\n",
       "        )\n",
       "        (1): Conv2dNormActivation(\n",
       "          (0): Conv2d(576, 576, kernel_size=(3, 3), stride=(1, 1), padding=(1, 1), groups=576, bias=False)\n",
       "          (1): BatchNorm2d(576, eps=1e-05, momentum=0.1, affine=True, track_running_stats=True)\n",
       "          (2): ReLU6(inplace=True)\n",
       "        )\n",
       "        (2): Conv2d(576, 96, kernel_size=(1, 1), stride=(1, 1), bias=False)\n",
       "        (3): BatchNorm2d(96, eps=1e-05, momentum=0.1, affine=True, track_running_stats=True)\n",
       "      )\n",
       "    )\n",
       "    (14): InvertedResidual(\n",
       "      (conv): Sequential(\n",
       "        (0): Conv2dNormActivation(\n",
       "          (0): Conv2d(96, 576, kernel_size=(1, 1), stride=(1, 1), bias=False)\n",
       "          (1): BatchNorm2d(576, eps=1e-05, momentum=0.1, affine=True, track_running_stats=True)\n",
       "          (2): ReLU6(inplace=True)\n",
       "        )\n",
       "        (1): Conv2dNormActivation(\n",
       "          (0): Conv2d(576, 576, kernel_size=(3, 3), stride=(2, 2), padding=(1, 1), groups=576, bias=False)\n",
       "          (1): BatchNorm2d(576, eps=1e-05, momentum=0.1, affine=True, track_running_stats=True)\n",
       "          (2): ReLU6(inplace=True)\n",
       "        )\n",
       "        (2): Conv2d(576, 160, kernel_size=(1, 1), stride=(1, 1), bias=False)\n",
       "        (3): BatchNorm2d(160, eps=1e-05, momentum=0.1, affine=True, track_running_stats=True)\n",
       "      )\n",
       "    )\n",
       "    (15): InvertedResidual(\n",
       "      (conv): Sequential(\n",
       "        (0): Conv2dNormActivation(\n",
       "          (0): Conv2d(160, 960, kernel_size=(1, 1), stride=(1, 1), bias=False)\n",
       "          (1): BatchNorm2d(960, eps=1e-05, momentum=0.1, affine=True, track_running_stats=True)\n",
       "          (2): ReLU6(inplace=True)\n",
       "        )\n",
       "        (1): Conv2dNormActivation(\n",
       "          (0): Conv2d(960, 960, kernel_size=(3, 3), stride=(1, 1), padding=(1, 1), groups=960, bias=False)\n",
       "          (1): BatchNorm2d(960, eps=1e-05, momentum=0.1, affine=True, track_running_stats=True)\n",
       "          (2): ReLU6(inplace=True)\n",
       "        )\n",
       "        (2): Conv2d(960, 160, kernel_size=(1, 1), stride=(1, 1), bias=False)\n",
       "        (3): BatchNorm2d(160, eps=1e-05, momentum=0.1, affine=True, track_running_stats=True)\n",
       "      )\n",
       "    )\n",
       "    (16): InvertedResidual(\n",
       "      (conv): Sequential(\n",
       "        (0): Conv2dNormActivation(\n",
       "          (0): Conv2d(160, 960, kernel_size=(1, 1), stride=(1, 1), bias=False)\n",
       "          (1): BatchNorm2d(960, eps=1e-05, momentum=0.1, affine=True, track_running_stats=True)\n",
       "          (2): ReLU6(inplace=True)\n",
       "        )\n",
       "        (1): Conv2dNormActivation(\n",
       "          (0): Conv2d(960, 960, kernel_size=(3, 3), stride=(1, 1), padding=(1, 1), groups=960, bias=False)\n",
       "          (1): BatchNorm2d(960, eps=1e-05, momentum=0.1, affine=True, track_running_stats=True)\n",
       "          (2): ReLU6(inplace=True)\n",
       "        )\n",
       "        (2): Conv2d(960, 160, kernel_size=(1, 1), stride=(1, 1), bias=False)\n",
       "        (3): BatchNorm2d(160, eps=1e-05, momentum=0.1, affine=True, track_running_stats=True)\n",
       "      )\n",
       "    )\n",
       "    (17): InvertedResidual(\n",
       "      (conv): Sequential(\n",
       "        (0): Conv2dNormActivation(\n",
       "          (0): Conv2d(160, 960, kernel_size=(1, 1), stride=(1, 1), bias=False)\n",
       "          (1): BatchNorm2d(960, eps=1e-05, momentum=0.1, affine=True, track_running_stats=True)\n",
       "          (2): ReLU6(inplace=True)\n",
       "        )\n",
       "        (1): Conv2dNormActivation(\n",
       "          (0): Conv2d(960, 960, kernel_size=(3, 3), stride=(1, 1), padding=(1, 1), groups=960, bias=False)\n",
       "          (1): BatchNorm2d(960, eps=1e-05, momentum=0.1, affine=True, track_running_stats=True)\n",
       "          (2): ReLU6(inplace=True)\n",
       "        )\n",
       "        (2): Conv2d(960, 320, kernel_size=(1, 1), stride=(1, 1), bias=False)\n",
       "        (3): BatchNorm2d(320, eps=1e-05, momentum=0.1, affine=True, track_running_stats=True)\n",
       "      )\n",
       "    )\n",
       "    (18): Conv2dNormActivation(\n",
       "      (0): Conv2d(320, 1280, kernel_size=(1, 1), stride=(1, 1), bias=False)\n",
       "      (1): BatchNorm2d(1280, eps=1e-05, momentum=0.1, affine=True, track_running_stats=True)\n",
       "      (2): ReLU6(inplace=True)\n",
       "    )\n",
       "  )\n",
       "  (classifier): Sequential(\n",
       "    (0): Dropout(p=0.2, inplace=False)\n",
       "    (1): Linear(in_features=1280, out_features=1, bias=True)\n",
       "  )\n",
       ")"
      ]
     },
     "execution_count": 7,
     "metadata": {},
     "output_type": "execute_result"
    }
   ],
   "source": [
    "#modello con sostituzione di ultimo layer con 2 output\n",
    "from torch.nn import Linear,Sequential,Dropout \n",
    "def build_MobileNet(num_outputs=1): \n",
    "  model = torch.hub.load('pytorch/vision:v0.10.0', 'mobilenet_v2', pretrained=True) \n",
    "  model.classifier = Sequential(Dropout(p=0.2, inplace=False),Linear(in_features=1280, out_features=num_outputs, bias=True)) \n",
    "  return model \n",
    " \n",
    " \n",
    "model = build_MobileNet(1) \n",
    "model.eval()"
   ]
  },
  {
   "cell_type": "code",
   "execution_count": 8,
   "metadata": {},
   "outputs": [],
   "source": [
    "from torch.utils.tensorboard import SummaryWriter\n",
    "from tensorboard import notebook\n",
    "\n",
    "def start_tensorboard(log_dir):\n",
    "  writer = SummaryWriter(os.path.join(\"runs\", log_dir))\n",
    "\n",
    "  # run tensorboard in background\n",
    "  ! killall tensorboard\n",
    "  %load_ext tensorboard\n",
    "  %tensorboard --logdir ./runs\n",
    "\n",
    "  notebook.list() # View open TensorBoard instances\n",
    "\n",
    "  return writer"
   ]
  },
  {
   "cell_type": "code",
   "execution_count": 9,
   "metadata": {},
   "outputs": [],
   "source": [
    "from torchvision.utils import make_grid\n",
    "from tqdm import tqdm\n",
    "\n",
    "def one_epoch(model, lossFunction, output_activation, optimizer, train_loader, val_loader, writer, epoch_num):\n",
    "  model.cuda()\n",
    "  model.train()\n",
    "\n",
    "  i_start = epoch_num * len(train_loader)\n",
    "  for i, (X, y) in tqdm(enumerate(train_loader), desc=\"epoch {} - train\".format(epoch_num)):\n",
    "    (batch_size, frames, channels, width, height) = X.shape\n",
    "    #print(\"\\nprima: \",X.shape)\n",
    "    #print(\"y: \",y)\n",
    "\n",
    "    X = X.view(-1,channels, width, height)\n",
    "    y = y.repeat(3)#.float()\n",
    "    #print(\"dopo: \",X.shape)\n",
    "    #print(\"y: \",y)\n",
    "\n",
    "    if i == 0:\n",
    "      writer.add_image('first_batch', make_grid(X))\n",
    "\n",
    "    X = X.cuda()\n",
    "    y = y.cuda().float()\n",
    "\n",
    "    optimizer.zero_grad()\n",
    "\n",
    "    o = model(X)\n",
    "    o = output_activation(o).squeeze()\n",
    "    l = lossFunction(o, y)\n",
    "\n",
    "\n",
    "    l.backward()\n",
    "    optimizer.step()\n",
    "\n",
    "    acc = ((o.detach() > .5) == y.detach()).float().mean()\n",
    "\n",
    "    print(\"- batch loss and accuracy : {:.7f}\\t{:.4f}\".format(l.detach().item(), acc))\n",
    "    writer.add_scalar('train/loss', l.detach().item(), i_start+i)\n",
    "    writer.add_scalar('train/acc', acc, i_start+i)\n",
    "\n",
    "  model.eval()\n",
    "  with torch.no_grad():\n",
    "    val_loss = []\n",
    "    val_corr_pred = []\n",
    "    for X, y in tqdm(val_loader, desc=\"epoch {} - validation\".format(epoch_num)):\n",
    "      (batch_size, frames, channels, width, height) = X.shape\n",
    "      X = X.view(-1,channels, width, height)\n",
    "      y = y.repeat(3)#.float()\n",
    "\n",
    "      X = X.cuda()\n",
    "      y = y.cuda().float()  \n",
    "      \n",
    "      o = model(X)\n",
    "      o = output_activation(o).squeeze()\n",
    "      val_loss.append(lossFunction(o, y))\n",
    "      val_corr_pred.append((o > .5) == y)\n",
    "\n",
    "    val_loss = torch.stack(val_loss).mean().item()\n",
    "    val_accuracy = torch.concatenate(val_corr_pred).float().mean().item()\n",
    "\n",
    "    print(\"Validation loss and accuracy : {:.7f}\\t{:.4f}\".format(val_loss, val_accuracy))\n",
    "    writer.add_scalar('val/loss', val_loss, i_start+i)\n",
    "    writer.add_scalar('val/acc', val_accuracy, i_start+i)\n",
    "  return val_loss, val_accuracy"
   ]
  },
  {
   "cell_type": "code",
   "execution_count": 10,
   "metadata": {},
   "outputs": [
    {
     "name": "stdout",
     "output_type": "stream",
     "text": [
      "tensorboard: no process found\n"
     ]
    },
    {
     "data": {
      "text/html": [
       "\n",
       "      <iframe id=\"tensorboard-frame-820a39b44f086ed0\" width=\"100%\" height=\"800\" frameborder=\"0\">\n",
       "      </iframe>\n",
       "      <script>\n",
       "        (function() {\n",
       "          const frame = document.getElementById(\"tensorboard-frame-820a39b44f086ed0\");\n",
       "          const url = new URL(\"/\", window.location);\n",
       "          const port = 6006;\n",
       "          if (port) {\n",
       "            url.port = port;\n",
       "          }\n",
       "          frame.src = url;\n",
       "        })();\n",
       "      </script>\n",
       "    "
      ],
      "text/plain": [
       "<IPython.core.display.HTML object>"
      ]
     },
     "metadata": {},
     "output_type": "display_data"
    },
    {
     "name": "stdout",
     "output_type": "stream",
     "text": [
      "Known TensorBoard instances:\n",
      "  - port 6006: logdir ./runs (started 0:00:00 ago; pid 1030)\n"
     ]
    }
   ],
   "source": [
    "from torch.nn import BCELoss, CrossEntropyLoss, Sigmoid, Softmax\n",
    "\n",
    "# learning parameters\n",
    "lossFunction, output_activation = BCELoss(), Sigmoid()\n",
    "#batch_size = 512\n",
    "lr = .001\n",
    "momentum = .9\n",
    "lambda_reg = 0\n",
    "\n",
    "epochs = 200\n",
    "early_stopping_patience = 40\n",
    "\n",
    "# network parameters\n",
    "for param in model.parameters():\n",
    "  param.requires_grad = False\n",
    "for param in model.classifier.parameters():\n",
    "  param.requires_grad = True\n",
    "optimizer = torch.optim.SGD(model.classifier.parameters(),\n",
    "                          lr=lr,\n",
    "                          weight_decay=lambda_reg,\n",
    "                          momentum=momentum)\n",
    "\n",
    "# create output directory and logger\n",
    "experiment_name = \"MobileNet_finetuning\"\n",
    "import os\n",
    "dirs = os.listdir()\n",
    "\n",
    "if experiment_name not in dirs:\n",
    "  os.makedirs(experiment_name)\n",
    "writer = start_tensorboard(experiment_name)"
   ]
  },
  {
   "cell_type": "code",
   "execution_count": 11,
   "metadata": {},
   "outputs": [
    {
     "name": "stdout",
     "output_type": "stream",
     "text": [
      "EPOCH 0\n"
     ]
    },
    {
     "name": "stderr",
     "output_type": "stream",
     "text": [
      "epoch 0 - train: 4it [00:03,  1.32it/s]"
     ]
    },
    {
     "name": "stdout",
     "output_type": "stream",
     "text": [
      "- batch loss and accuracy : 0.6977233\t0.6667\n",
      "- batch loss and accuracy : 0.6548787\t0.6667\n",
      "- batch loss and accuracy : 0.4368637\t1.0000\n",
      "- batch loss and accuracy : 0.3744050\t1.0000\n",
      "- batch loss and accuracy : 0.2170565\t1.0000\n"
     ]
    },
    {
     "name": "stderr",
     "output_type": "stream",
     "text": [
      "epoch 0 - train: 15it [00:04,  7.65it/s]"
     ]
    },
    {
     "name": "stdout",
     "output_type": "stream",
     "text": [
      "- batch loss and accuracy : 2.3216534\t0.0000\n",
      "- batch loss and accuracy : 0.0994324\t1.0000\n",
      "- batch loss and accuracy : 0.1201925\t1.0000\n",
      "- batch loss and accuracy : 0.0880023\t1.0000\n",
      "- batch loss and accuracy : 2.8026600\t0.0000\n",
      "- batch loss and accuracy : 0.0763984\t1.0000\n",
      "- batch loss and accuracy : 0.0846164\t1.0000\n",
      "- batch loss and accuracy : 0.0925733\t1.0000\n",
      "- batch loss and accuracy : 0.1203619\t1.0000\n",
      "- batch loss and accuracy : 0.1042407\t1.0000\n",
      "- batch loss and accuracy : 2.5702586\t0.0000\n",
      "- batch loss and accuracy : 2.1608191\t0.0000\n",
      "- batch loss and accuracy : 1.7225213\t0.0000\n",
      "- batch loss and accuracy : 0.4074740\t1.0000\n"
     ]
    },
    {
     "name": "stderr",
     "output_type": "stream",
     "text": [
      "epoch 0 - train: 29it [00:04, 18.80it/s]"
     ]
    },
    {
     "name": "stdout",
     "output_type": "stream",
     "text": [
      "- batch loss and accuracy : 0.7830491\t0.3333\n",
      "- batch loss and accuracy : 0.9159979\t0.0000\n",
      "- batch loss and accuracy : 0.9939477\t0.0000\n",
      "- batch loss and accuracy : 0.5041215\t1.0000\n",
      "- batch loss and accuracy : 0.9413007\t0.0000\n",
      "- batch loss and accuracy : 0.5978662\t1.0000\n",
      "- batch loss and accuracy : 0.8048084\t0.0000\n",
      "- batch loss and accuracy : 0.6678401\t0.6667\n",
      "- batch loss and accuracy : 0.8591142\t0.0000\n",
      "- batch loss and accuracy : 0.9158084\t0.0000\n",
      "- batch loss and accuracy : 0.9560381\t0.0000\n",
      "- batch loss and accuracy : 0.6247373\t1.0000\n",
      "- batch loss and accuracy : 0.9075513\t0.0000\n",
      "- batch loss and accuracy : 0.4207326\t1.0000\n",
      "- batch loss and accuracy : 1.1987047\t0.0000\n"
     ]
    },
    {
     "name": "stderr",
     "output_type": "stream",
     "text": [
      "epoch 0 - train: 45it [00:04, 34.78it/s]"
     ]
    },
    {
     "name": "stdout",
     "output_type": "stream",
     "text": [
      "- batch loss and accuracy : 1.2380772\t0.0000\n",
      "- batch loss and accuracy : 1.0669078\t0.0000\n",
      "- batch loss and accuracy : 0.9714882\t0.0000\n",
      "- batch loss and accuracy : 0.5868777\t1.0000\n",
      "- batch loss and accuracy : 0.2622918\t1.0000\n",
      "- batch loss and accuracy : 0.1527353\t1.0000\n",
      "- batch loss and accuracy : 0.0697080\t1.0000\n",
      "- batch loss and accuracy : 0.0472669\t1.0000\n",
      "- batch loss and accuracy : 0.0179296\t1.0000\n",
      "- batch loss and accuracy : 0.0114307\t1.0000\n",
      "- batch loss and accuracy : 0.0079647\t1.0000\n",
      "- batch loss and accuracy : 0.0059892\t1.0000\n",
      "- batch loss and accuracy : 0.0045833\t1.0000\n",
      "- batch loss and accuracy : 0.0024675\t1.0000\n",
      "- batch loss and accuracy : 6.3295937\t0.0000\n",
      "- batch loss and accuracy : 6.3496933\t0.0000\n"
     ]
    },
    {
     "name": "stderr",
     "output_type": "stream",
     "text": [
      "epoch 0 - train: 64it [00:04, 54.73it/s]"
     ]
    },
    {
     "name": "stdout",
     "output_type": "stream",
     "text": [
      "- batch loss and accuracy : 5.9842749\t0.0000\n",
      "- batch loss and accuracy : 0.0035220\t1.0000\n",
      "- batch loss and accuracy : 4.9647331\t0.0000\n",
      "- batch loss and accuracy : 3.7369485\t0.0000\n",
      "- batch loss and accuracy : 0.0664073\t1.0000\n",
      "- batch loss and accuracy : 0.2500150\t1.0000\n",
      "- batch loss and accuracy : 0.3819171\t1.0000\n",
      "- batch loss and accuracy : 0.5526044\t1.0000\n",
      "- batch loss and accuracy : 1.4116896\t0.0000\n",
      "- batch loss and accuracy : 0.2274271\t1.0000\n",
      "- batch loss and accuracy : 1.8820350\t0.0000\n",
      "- batch loss and accuracy : 1.9962004\t0.0000\n",
      "- batch loss and accuracy : 1.9345264\t0.0000\n",
      "- batch loss and accuracy : 1.4488077\t0.0000\n",
      "- batch loss and accuracy : 1.0283126\t0.0000\n",
      "- batch loss and accuracy : 0.4399949\t1.0000\n",
      "- batch loss and accuracy : 1.5765885\t0.0000\n",
      "- batch loss and accuracy : 2.0527751\t0.0000\n"
     ]
    },
    {
     "name": "stderr",
     "output_type": "stream",
     "text": [
      "epoch 0 - train: 82it [00:05, 63.68it/s]"
     ]
    },
    {
     "name": "stdout",
     "output_type": "stream",
     "text": [
      "- batch loss and accuracy : 0.1115757\t1.0000\n",
      "- batch loss and accuracy : 0.1001916\t1.0000\n",
      "- batch loss and accuracy : 2.6927781\t0.0000\n",
      "- batch loss and accuracy : 0.0737158\t1.0000\n",
      "- batch loss and accuracy : 0.1115031\t1.0000\n",
      "- batch loss and accuracy : 2.3433261\t0.0000\n",
      "- batch loss and accuracy : 0.1368811\t1.0000\n",
      "- batch loss and accuracy : 0.1852751\t1.0000\n",
      "- batch loss and accuracy : 0.2527485\t1.0000\n",
      "- batch loss and accuracy : 1.6312331\t0.0000\n",
      "- batch loss and accuracy : 1.3484859\t0.0000\n",
      "- batch loss and accuracy : 0.6400909\t0.6667\n",
      "- batch loss and accuracy : 0.6614650\t0.6667\n",
      "- batch loss and accuracy : 0.4734442\t1.0000\n",
      "- batch loss and accuracy : 1.4047184\t0.0000\n"
     ]
    },
    {
     "name": "stderr",
     "output_type": "stream",
     "text": [
      "epoch 0 - train: 102it [00:05, 76.09it/s]"
     ]
    },
    {
     "name": "stdout",
     "output_type": "stream",
     "text": [
      "- batch loss and accuracy : 0.2302695\t1.0000\n",
      "- batch loss and accuracy : 1.9533613\t0.0000\n",
      "- batch loss and accuracy : 2.1560068\t0.0000\n",
      "- batch loss and accuracy : 0.2042443\t1.0000\n",
      "- batch loss and accuracy : 1.4486682\t0.0000\n",
      "- batch loss and accuracy : 0.3831870\t1.0000\n",
      "- batch loss and accuracy : 0.9333133\t0.0000\n",
      "- batch loss and accuracy : 0.5893669\t1.0000\n",
      "- batch loss and accuracy : 0.4173753\t1.0000\n",
      "- batch loss and accuracy : 0.2430311\t1.0000\n",
      "- batch loss and accuracy : 0.1385248\t1.0000\n",
      "- batch loss and accuracy : 0.0597287\t1.0000\n",
      "- batch loss and accuracy : 0.0376721\t1.0000\n",
      "- batch loss and accuracy : 4.0280991\t0.0000\n",
      "- batch loss and accuracy : 0.0176734\t1.0000\n",
      "- batch loss and accuracy : 4.5669994\t0.0000\n",
      "- batch loss and accuracy : 4.0344977\t0.0000\n",
      "- batch loss and accuracy : 3.5137603\t0.0000\n",
      "- batch loss and accuracy : 0.0579864\t1.0000\n"
     ]
    },
    {
     "name": "stderr",
     "output_type": "stream",
     "text": [
      "epoch 0 - train: 111it [00:05, 78.08it/s]"
     ]
    },
    {
     "name": "stdout",
     "output_type": "stream",
     "text": [
      "- batch loss and accuracy : 2.0551052\t0.0000\n",
      "- batch loss and accuracy : 1.3635114\t0.0000\n",
      "- batch loss and accuracy : 0.7582316\t0.3333\n",
      "- batch loss and accuracy : 0.2599931\t1.0000\n",
      "- batch loss and accuracy : 1.9431293\t0.0000\n",
      "- batch loss and accuracy : 0.0942826\t1.0000\n",
      "- batch loss and accuracy : 2.6802368\t0.0000\n",
      "- batch loss and accuracy : 2.8640945\t0.0000\n",
      "- batch loss and accuracy : 2.6308217\t0.0000\n",
      "- batch loss and accuracy : 2.0203533\t0.0000\n",
      "- batch loss and accuracy : 1.3325449\t0.0000\n",
      "- batch loss and accuracy : 0.5674835\t1.0000\n",
      "- batch loss and accuracy : 1.5198209\t0.0000\n",
      "- batch loss and accuracy : 2.1348739\t0.0000\n",
      "- batch loss and accuracy : 2.1100843\t0.0000\n",
      "- batch loss and accuracy : 0.1192927\t1.0000\n",
      "- batch loss and accuracy : 0.1237246\t1.0000\n",
      "- batch loss and accuracy : 0.0996818\t1.0000\n",
      "- batch loss and accuracy : 2.4716992\t0.0000\n"
     ]
    },
    {
     "name": "stderr",
     "output_type": "stream",
     "text": [
      "epoch 0 - train: 131it [00:05, 85.72it/s]"
     ]
    },
    {
     "name": "stdout",
     "output_type": "stream",
     "text": [
      "- batch loss and accuracy : 0.1115788\t1.0000\n",
      "- batch loss and accuracy : 2.0464401\t0.0000\n",
      "- batch loss and accuracy : 0.1939335\t1.0000\n",
      "- batch loss and accuracy : 0.3209744\t1.0000\n",
      "- batch loss and accuracy : 0.4260900\t1.0000\n",
      "- batch loss and accuracy : 0.3825451\t1.0000\n",
      "- batch loss and accuracy : 0.3683586\t1.0000\n",
      "- batch loss and accuracy : 0.3630093\t1.0000\n",
      "- batch loss and accuracy : 0.3639891\t1.0000\n",
      "- batch loss and accuracy : 1.6352823\t0.0000\n",
      "- batch loss and accuracy : 0.2248481\t1.0000\n",
      "- batch loss and accuracy : 1.7307576\t0.0000\n",
      "- batch loss and accuracy : 0.2735997\t1.0000\n",
      "- batch loss and accuracy : 0.3049638\t1.0000\n",
      "- batch loss and accuracy : 1.4719636\t0.0000\n",
      "- batch loss and accuracy : 0.4470239\t1.0000\n",
      "- batch loss and accuracy : 0.5100054\t1.0000\n",
      "- batch loss and accuracy : 0.4483181\t1.0000\n"
     ]
    },
    {
     "name": "stderr",
     "output_type": "stream",
     "text": [
      "epoch 0 - train: 149it [00:05, 85.74it/s]"
     ]
    },
    {
     "name": "stdout",
     "output_type": "stream",
     "text": [
      "- batch loss and accuracy : 0.4045567\t1.0000\n",
      "- batch loss and accuracy : 0.3080226\t1.0000\n",
      "- batch loss and accuracy : 0.2435060\t1.0000\n",
      "- batch loss and accuracy : 1.8738456\t0.0000\n",
      "- batch loss and accuracy : 0.1576701\t1.0000\n",
      "- batch loss and accuracy : 2.1302581\t0.0000\n",
      "- batch loss and accuracy : 0.1595330\t1.0000\n",
      "- batch loss and accuracy : 0.2370382\t1.0000\n",
      "- batch loss and accuracy : 1.4800553\t0.0000\n",
      "- batch loss and accuracy : 0.3431810\t1.0000\n",
      "- batch loss and accuracy : 0.4609940\t1.0000\n",
      "- batch loss and accuracy : 1.0630244\t0.0000\n",
      "- batch loss and accuracy : 0.5346521\t1.0000\n",
      "- batch loss and accuracy : 0.5408378\t1.0000\n",
      "- batch loss and accuracy : 0.5769738\t0.6667\n",
      "- batch loss and accuracy : 0.9185562\t0.3333\n",
      "- batch loss and accuracy : 0.5550869\t1.0000\n",
      "- batch loss and accuracy : 0.4026818\t1.0000\n"
     ]
    },
    {
     "name": "stderr",
     "output_type": "stream",
     "text": [
      "epoch 0 - train: 169it [00:06, 90.70it/s]"
     ]
    },
    {
     "name": "stdout",
     "output_type": "stream",
     "text": [
      "- batch loss and accuracy : 0.4142278\t1.0000\n",
      "- batch loss and accuracy : 0.2713579\t1.0000\n",
      "- batch loss and accuracy : 1.8754539\t0.0000\n",
      "- batch loss and accuracy : 1.7676833\t0.0000\n",
      "- batch loss and accuracy : 1.5380745\t0.0000\n",
      "- batch loss and accuracy : 0.3357325\t1.0000\n",
      "- batch loss and accuracy : 0.5323446\t1.0000\n",
      "- batch loss and accuracy : 0.5653281\t1.0000\n",
      "- batch loss and accuracy : 0.6286141\t1.0000\n",
      "- batch loss and accuracy : 0.5514364\t1.0000\n",
      "- batch loss and accuracy : 0.4238836\t1.0000\n",
      "- batch loss and accuracy : 1.1710682\t0.0000\n",
      "- batch loss and accuracy : 0.2500355\t1.0000\n",
      "- batch loss and accuracy : 0.2492129\t1.0000\n",
      "- batch loss and accuracy : 0.1952851\t1.0000\n",
      "- batch loss and accuracy : 0.1650993\t1.0000\n",
      "- batch loss and accuracy : 0.1150598\t1.0000\n",
      "- batch loss and accuracy : 0.0917297\t1.0000\n",
      "- batch loss and accuracy : 0.0723435\t1.0000\n",
      "- batch loss and accuracy : 0.0541731\t1.0000\n",
      "- batch loss and accuracy : 0.0346726\t1.0000\n",
      "- batch loss and accuracy : 0.0219270\t1.0000\n"
     ]
    },
    {
     "name": "stderr",
     "output_type": "stream",
     "text": [
      "epoch 0 - train: 191it [00:06, 98.62it/s]"
     ]
    },
    {
     "name": "stdout",
     "output_type": "stream",
     "text": [
      "- batch loss and accuracy : 3.8548124\t0.0000\n",
      "- batch loss and accuracy : 0.0235164\t1.0000\n",
      "- batch loss and accuracy : 0.0299499\t1.0000\n",
      "- batch loss and accuracy : 0.0242368\t1.0000\n",
      "- batch loss and accuracy : 3.5072067\t0.0000\n",
      "- batch loss and accuracy : 0.0416948\t1.0000\n",
      "- batch loss and accuracy : 0.0752456\t1.0000\n",
      "- batch loss and accuracy : 0.0888748\t1.0000\n",
      "- batch loss and accuracy : 0.1034949\t1.0000\n",
      "- batch loss and accuracy : 0.1306665\t1.0000\n",
      "- batch loss and accuracy : 0.1200936\t1.0000\n",
      "- batch loss and accuracy : 0.1350751\t1.0000\n",
      "- batch loss and accuracy : 0.1428522\t1.0000\n",
      "- batch loss and accuracy : 0.1216066\t1.0000\n",
      "- batch loss and accuracy : 0.1529689\t1.0000\n",
      "- batch loss and accuracy : 0.1058141\t1.0000\n",
      "- batch loss and accuracy : 0.1036216\t1.0000\n",
      "- batch loss and accuracy : 0.0844206\t1.0000\n",
      "- batch loss and accuracy : 0.0817109\t1.0000\n",
      "- batch loss and accuracy : 0.0576924\t1.0000\n"
     ]
    },
    {
     "name": "stderr",
     "output_type": "stream",
     "text": [
      "epoch 0 - train: 211it [00:06, 96.38it/s]"
     ]
    },
    {
     "name": "stdout",
     "output_type": "stream",
     "text": [
      "- batch loss and accuracy : 3.0322483\t0.0000\n",
      "- batch loss and accuracy : 2.9945781\t0.0000\n",
      "- batch loss and accuracy : 2.4386997\t0.0000\n",
      "- batch loss and accuracy : 1.7051904\t0.0000\n",
      "- batch loss and accuracy : 0.4253122\t1.0000\n",
      "- batch loss and accuracy : 0.8181073\t0.3333\n",
      "- batch loss and accuracy : 1.0829594\t0.0000\n",
      "- batch loss and accuracy : 0.3050661\t1.0000\n",
      "- batch loss and accuracy : 1.5756795\t0.0000\n",
      "- batch loss and accuracy : 0.2779080\t1.0000\n",
      "- batch loss and accuracy : 1.5355811\t0.0000\n",
      "- batch loss and accuracy : 1.4099687\t0.0000\n",
      "- batch loss and accuracy : 0.9920160\t0.0000\n",
      "- batch loss and accuracy : 0.6417596\t0.6667\n",
      "- batch loss and accuracy : 0.4354460\t1.0000\n",
      "- batch loss and accuracy : 0.2704892\t1.0000\n",
      "- batch loss and accuracy : 0.1816315\t1.0000\n",
      "- batch loss and accuracy : 0.0925756\t1.0000\n",
      "- batch loss and accuracy : 0.0595609\t1.0000\n",
      "- batch loss and accuracy : 0.0378749\t1.0000\n"
     ]
    },
    {
     "name": "stderr",
     "output_type": "stream",
     "text": [
      "epoch 0 - train: 231it [00:06, 95.84it/s]"
     ]
    },
    {
     "name": "stdout",
     "output_type": "stream",
     "text": [
      "- batch loss and accuracy : 0.0265513\t1.0000\n",
      "- batch loss and accuracy : 4.1896601\t0.0000\n",
      "- batch loss and accuracy : 0.0179524\t1.0000\n",
      "- batch loss and accuracy : 4.1084166\t0.0000\n",
      "- batch loss and accuracy : 4.0635986\t0.0000\n",
      "- batch loss and accuracy : 0.0375077\t1.0000\n",
      "- batch loss and accuracy : 0.0702049\t1.0000\n",
      "- batch loss and accuracy : 0.0997349\t1.0000\n",
      "- batch loss and accuracy : 0.1485224\t1.0000\n",
      "- batch loss and accuracy : 1.5494311\t0.0000\n",
      "- batch loss and accuracy : 0.3672626\t1.0000\n",
      "- batch loss and accuracy : 0.4969026\t1.0000\n",
      "- batch loss and accuracy : 0.7973183\t0.0000\n",
      "- batch loss and accuracy : 0.7311472\t0.0000\n",
      "- batch loss and accuracy : 1.0154804\t0.0000\n",
      "- batch loss and accuracy : 0.8829899\t0.0000\n",
      "- batch loss and accuracy : 0.7593646\t0.3333\n",
      "- batch loss and accuracy : 0.6294615\t0.6667\n",
      "- batch loss and accuracy : 0.5645553\t1.0000\n",
      "- batch loss and accuracy : 0.4737706\t1.0000\n"
     ]
    },
    {
     "name": "stderr",
     "output_type": "stream",
     "text": [
      "epoch 0 - train: 249it [00:06, 36.41it/s]\n"
     ]
    },
    {
     "name": "stdout",
     "output_type": "stream",
     "text": [
      "- batch loss and accuracy : 0.2826628\t1.0000\n",
      "- batch loss and accuracy : 0.1965403\t1.0000\n",
      "- batch loss and accuracy : 0.1142668\t1.0000\n",
      "- batch loss and accuracy : 0.0724105\t1.0000\n",
      "- batch loss and accuracy : 0.0360829\t1.0000\n",
      "- batch loss and accuracy : 3.5409107\t0.0000\n",
      "- batch loss and accuracy : 3.7568202\t0.0000\n",
      "- batch loss and accuracy : 3.4497471\t0.0000\n",
      "- batch loss and accuracy : 2.7447810\t0.0000\n",
      "- batch loss and accuracy : 1.8689420\t0.0000\n"
     ]
    },
    {
     "name": "stderr",
     "output_type": "stream",
     "text": [
      "epoch 0 - validation: 100%|██████████| 63/63 [00:00<00:00, 113.16it/s]"
     ]
    },
    {
     "name": "stdout",
     "output_type": "stream",
     "text": [
      "Validation loss and accuracy : 0.6278745\t0.6931\n",
      "- saved best model: val_loss = 0.627874493598938 val_accuracy = 0.6931216716766357\n",
      "EPOCH 1\n"
     ]
    },
    {
     "name": "stderr",
     "output_type": "stream",
     "text": [
      "\n",
      "epoch 1 - train: 5it [00:00, 48.74it/s]"
     ]
    },
    {
     "name": "stdout",
     "output_type": "stream",
     "text": [
      "- batch loss and accuracy : 0.9728958\t0.0000\n",
      "- batch loss and accuracy : 0.4212377\t1.0000\n",
      "- batch loss and accuracy : 2.2403505\t0.0000\n",
      "- batch loss and accuracy : 0.0657304\t1.0000\n",
      "- batch loss and accuracy : 0.0332202\t1.0000\n",
      "- batch loss and accuracy : 4.0464144\t0.0000\n",
      "- batch loss and accuracy : 0.0132988\t1.0000\n",
      "- batch loss and accuracy : 4.7314157\t0.0000\n"
     ]
    },
    {
     "name": "stderr",
     "output_type": "stream",
     "text": [
      "epoch 1 - train: 15it [00:00, 75.54it/s]"
     ]
    },
    {
     "name": "stdout",
     "output_type": "stream",
     "text": [
      "- batch loss and accuracy : 4.3730764\t0.0000\n",
      "- batch loss and accuracy : 0.0227841\t1.0000\n",
      "- batch loss and accuracy : 0.0349329\t1.0000\n",
      "- batch loss and accuracy : 3.1410847\t0.0000\n",
      "- batch loss and accuracy : 2.6208982\t0.0000\n",
      "- batch loss and accuracy : 0.1962110\t1.0000\n",
      "- batch loss and accuracy : 1.1492833\t0.0000\n",
      "- batch loss and accuracy : 0.6578166\t0.6667\n",
      "- batch loss and accuracy : 0.2544367\t1.0000\n",
      "- batch loss and accuracy : 0.0903898\t1.0000\n",
      "- batch loss and accuracy : 0.0330423\t1.0000\n",
      "- batch loss and accuracy : 0.0148686\t1.0000\n"
     ]
    },
    {
     "name": "stderr",
     "output_type": "stream",
     "text": [
      "epoch 1 - train: 25it [00:00, 83.19it/s]"
     ]
    },
    {
     "name": "stdout",
     "output_type": "stream",
     "text": [
      "- batch loss and accuracy : 0.0070045\t1.0000\n",
      "- batch loss and accuracy : 0.0042964\t1.0000\n",
      "- batch loss and accuracy : 0.0017393\t1.0000\n",
      "- batch loss and accuracy : 0.0009916\t1.0000\n",
      "- batch loss and accuracy : 0.0005475\t1.0000\n",
      "- batch loss and accuracy : 0.0005916\t1.0000\n",
      "- batch loss and accuracy : 0.0003204\t1.0000\n"
     ]
    },
    {
     "name": "stderr",
     "output_type": "stream",
     "text": [
      "epoch 1 - train: 34it [00:00, 85.64it/s]"
     ]
    },
    {
     "name": "stdout",
     "output_type": "stream",
     "text": [
      "- batch loss and accuracy : 0.0001842\t1.0000\n",
      "- batch loss and accuracy : 0.0001178\t1.0000\n",
      "- batch loss and accuracy : 9.4944954\t0.0000\n",
      "- batch loss and accuracy : 9.0916195\t0.0000\n",
      "- batch loss and accuracy : 0.0001756\t1.0000\n",
      "- batch loss and accuracy : 0.0002641\t1.0000\n",
      "- batch loss and accuracy : 0.0003394\t1.0000\n",
      "- batch loss and accuracy : 0.0005329\t1.0000\n",
      "- batch loss and accuracy : 0.0007606\t1.0000\n",
      "- batch loss and accuracy : 7.4859629\t0.0000\n",
      "- batch loss and accuracy : 0.0013173\t1.0000\n",
      "- batch loss and accuracy : 6.0687370\t0.0000\n"
     ]
    },
    {
     "name": "stderr",
     "output_type": "stream",
     "text": [
      "epoch 1 - train: 44it [00:00, 89.82it/s]"
     ]
    },
    {
     "name": "stdout",
     "output_type": "stream",
     "text": [
      "- batch loss and accuracy : 0.0059768\t1.0000\n",
      "- batch loss and accuracy : 4.5994806\t0.0000\n",
      "- batch loss and accuracy : 0.0315330\t1.0000\n",
      "- batch loss and accuracy : 2.7150679\t0.0000\n",
      "- batch loss and accuracy : 1.6579859\t0.0000\n",
      "- batch loss and accuracy : 0.5971107\t0.6667\n",
      "- batch loss and accuracy : 1.3148279\t0.0000\n"
     ]
    },
    {
     "name": "stderr",
     "output_type": "stream",
     "text": [
      "epoch 1 - train: 54it [00:00, 90.51it/s]"
     ]
    },
    {
     "name": "stdout",
     "output_type": "stream",
     "text": [
      "- batch loss and accuracy : 1.8654246\t0.0000\n",
      "- batch loss and accuracy : 2.2923152\t0.0000\n",
      "- batch loss and accuracy : 2.1230743\t0.0000\n",
      "- batch loss and accuracy : 1.8804954\t0.0000\n",
      "- batch loss and accuracy : 1.2986760\t0.0000\n",
      "- batch loss and accuracy : 0.7905382\t0.3333\n",
      "- batch loss and accuracy : 0.3776412\t1.0000\n",
      "- batch loss and accuracy : 0.1572525\t1.0000\n",
      "- batch loss and accuracy : 2.8768234\t0.0000\n",
      "- batch loss and accuracy : 0.0397373\t1.0000\n",
      "- batch loss and accuracy : 0.0217571\t1.0000\n",
      "- batch loss and accuracy : 0.0174356\t1.0000\n"
     ]
    },
    {
     "name": "stderr",
     "output_type": "stream",
     "text": [
      "epoch 1 - train: 64it [00:00, 90.97it/s]"
     ]
    },
    {
     "name": "stdout",
     "output_type": "stream",
     "text": [
      "- batch loss and accuracy : 0.0135759\t1.0000\n",
      "- batch loss and accuracy : 0.0088675\t1.0000\n",
      "- batch loss and accuracy : 4.9211483\t0.0000\n",
      "- batch loss and accuracy : 0.0058896\t1.0000\n",
      "- batch loss and accuracy : 4.9056273\t0.0000\n",
      "- batch loss and accuracy : 4.6462984\t0.0000\n",
      "- batch loss and accuracy : 0.0259423\t1.0000\n"
     ]
    },
    {
     "name": "stderr",
     "output_type": "stream",
     "text": [
      "epoch 1 - train: 75it [00:00, 94.80it/s]"
     ]
    },
    {
     "name": "stdout",
     "output_type": "stream",
     "text": [
      "- batch loss and accuracy : 0.0383624\t1.0000\n",
      "- batch loss and accuracy : 0.0854596\t1.0000\n",
      "- batch loss and accuracy : 2.1394126\t0.0000\n",
      "- batch loss and accuracy : 1.5229120\t0.0000\n",
      "- batch loss and accuracy : 0.5446043\t0.6667\n",
      "- batch loss and accuracy : 0.8068471\t0.0000\n",
      "- batch loss and accuracy : 1.1433883\t0.0000\n",
      "- batch loss and accuracy : 0.3442901\t1.0000\n",
      "- batch loss and accuracy : 1.2133906\t0.0000\n",
      "- batch loss and accuracy : 1.2470336\t0.0000\n",
      "- batch loss and accuracy : 0.3682937\t1.0000\n",
      "- batch loss and accuracy : 0.5208938\t1.0000\n",
      "- batch loss and accuracy : 0.5329939\t0.6667\n",
      "- batch loss and accuracy : 1.0858406\t0.0000\n"
     ]
    },
    {
     "name": "stderr",
     "output_type": "stream",
     "text": [
      "epoch 1 - train: 85it [00:00, 93.62it/s]"
     ]
    },
    {
     "name": "stdout",
     "output_type": "stream",
     "text": [
      "- batch loss and accuracy : 1.1014497\t0.0000\n",
      "- batch loss and accuracy : 0.5551722\t0.6667\n",
      "- batch loss and accuracy : 0.7414023\t0.0000\n",
      "- batch loss and accuracy : 0.7798511\t0.0000\n",
      "- batch loss and accuracy : 0.7876867\t0.3333\n",
      "- batch loss and accuracy : 0.7015785\t0.3333\n"
     ]
    },
    {
     "name": "stderr",
     "output_type": "stream",
     "text": [
      "epoch 1 - train: 95it [00:01, 94.09it/s]"
     ]
    },
    {
     "name": "stdout",
     "output_type": "stream",
     "text": [
      "- batch loss and accuracy : 0.6990205\t0.3333\n",
      "- batch loss and accuracy : 0.6439222\t0.6667\n",
      "- batch loss and accuracy : 0.8706659\t0.3333\n",
      "- batch loss and accuracy : 1.0558145\t0.0000\n",
      "- batch loss and accuracy : 0.7854654\t0.0000\n",
      "- batch loss and accuracy : 0.6024392\t0.6667\n",
      "- batch loss and accuracy : 1.2023966\t0.0000\n",
      "- batch loss and accuracy : 0.3441222\t1.0000\n",
      "- batch loss and accuracy : 0.2765322\t1.0000\n",
      "- batch loss and accuracy : 1.7636518\t0.0000\n",
      "- batch loss and accuracy : 1.8025639\t0.0000\n",
      "- batch loss and accuracy : 1.8783611\t0.0000\n",
      "- batch loss and accuracy : 0.3714485\t1.0000\n"
     ]
    },
    {
     "name": "stderr",
     "output_type": "stream",
     "text": [
      "epoch 1 - train: 106it [00:01, 98.16it/s]"
     ]
    },
    {
     "name": "stdout",
     "output_type": "stream",
     "text": [
      "- batch loss and accuracy : 0.5882883\t1.0000\n",
      "- batch loss and accuracy : 0.5252084\t0.6667\n",
      "- batch loss and accuracy : 0.5604962\t1.0000\n",
      "- batch loss and accuracy : 0.6419796\t0.6667\n",
      "- batch loss and accuracy : 0.4623105\t1.0000\n",
      "- batch loss and accuracy : 0.3310276\t1.0000\n",
      "- batch loss and accuracy : 1.9052629\t0.0000\n",
      "- batch loss and accuracy : 1.8930715\t0.0000\n"
     ]
    },
    {
     "name": "stderr",
     "output_type": "stream",
     "text": [
      "epoch 1 - train: 116it [00:01, 97.51it/s]"
     ]
    },
    {
     "name": "stdout",
     "output_type": "stream",
     "text": [
      "- batch loss and accuracy : 0.2422279\t1.0000\n",
      "- batch loss and accuracy : 0.2733591\t1.0000\n",
      "- batch loss and accuracy : 0.2573495\t1.0000\n",
      "- batch loss and accuracy : 1.5119547\t0.0000\n",
      "- batch loss and accuracy : 0.3529628\t1.0000\n",
      "- batch loss and accuracy : 0.2793921\t1.0000\n",
      "- batch loss and accuracy : 1.3334998\t0.0000\n",
      "- batch loss and accuracy : 0.3874494\t1.0000\n",
      "- batch loss and accuracy : 1.0796292\t0.0000\n",
      "- batch loss and accuracy : 0.5702446\t0.6667\n",
      "- batch loss and accuracy : 0.8695025\t0.0000\n",
      "- batch loss and accuracy : 0.9546863\t0.0000\n",
      "- batch loss and accuracy : 0.5427341\t0.6667\n",
      "- batch loss and accuracy : 1.0626392\t0.0000\n",
      "- batch loss and accuracy : 1.0302463\t0.0000\n",
      "- batch loss and accuracy : 0.8452718\t0.0000\n",
      "- batch loss and accuracy : 0.6386217\t0.6667\n",
      "- batch loss and accuracy : 0.9948568\t0.0000\n"
     ]
    },
    {
     "name": "stderr",
     "output_type": "stream",
     "text": [
      "epoch 1 - train: 126it [00:01, 91.85it/s]"
     ]
    },
    {
     "name": "stdout",
     "output_type": "stream",
     "text": [
      "- batch loss and accuracy : 0.3767447\t1.0000\n",
      "- batch loss and accuracy : 1.6910565\t0.0000\n",
      "- batch loss and accuracy : 0.2132547\t1.0000\n",
      "- batch loss and accuracy : 1.7649336\t0.0000\n",
      "- batch loss and accuracy : 0.2294170\t1.0000\n",
      "- batch loss and accuracy : 0.2556768\t1.0000\n",
      "- batch loss and accuracy : 0.2639043\t1.0000\n",
      "- batch loss and accuracy : 0.2504137\t1.0000\n",
      "- batch loss and accuracy : 0.2059414\t1.0000\n",
      "- batch loss and accuracy : 1.6406417\t0.0000\n",
      "- batch loss and accuracy : 0.1904357\t1.0000\n"
     ]
    },
    {
     "name": "stderr",
     "output_type": "stream",
     "text": [
      "epoch 1 - train: 136it [00:01, 89.76it/s]"
     ]
    },
    {
     "name": "stdout",
     "output_type": "stream",
     "text": [
      "- batch loss and accuracy : 0.2470924\t1.0000\n",
      "- batch loss and accuracy : 0.2028897\t1.0000\n",
      "- batch loss and accuracy : 1.7229450\t0.0000\n",
      "- batch loss and accuracy : 1.6332626\t0.0000\n",
      "- batch loss and accuracy : 1.2242217\t0.0000\n"
     ]
    },
    {
     "name": "stderr",
     "output_type": "stream",
     "text": [
      "epoch 1 - train: 146it [00:01, 82.74it/s]"
     ]
    },
    {
     "name": "stdout",
     "output_type": "stream",
     "text": [
      "- batch loss and accuracy : 0.8199830\t0.3333\n",
      "- batch loss and accuracy : 0.4000913\t1.0000\n",
      "- batch loss and accuracy : 1.7071590\t0.0000\n",
      "- batch loss and accuracy : 0.1222514\t1.0000\n",
      "- batch loss and accuracy : 0.0950011\t1.0000\n",
      "- batch loss and accuracy : 3.1588724\t0.0000\n",
      "- batch loss and accuracy : 3.0178628\t0.0000\n",
      "- batch loss and accuracy : 2.7941120\t0.0000\n",
      "- batch loss and accuracy : 2.1868472\t0.0000\n",
      "- batch loss and accuracy : 0.2944754\t1.0000\n"
     ]
    },
    {
     "name": "stderr",
     "output_type": "stream",
     "text": [
      "epoch 1 - train: 155it [00:01, 84.08it/s]"
     ]
    },
    {
     "name": "stdout",
     "output_type": "stream",
     "text": [
      "- batch loss and accuracy : 0.4516050\t1.0000\n",
      "- batch loss and accuracy : 0.6859571\t0.6667\n",
      "- batch loss and accuracy : 0.9909820\t0.0000\n",
      "- batch loss and accuracy : 1.1281443\t0.0000\n",
      "- batch loss and accuracy : 0.3107512\t1.0000\n",
      "- batch loss and accuracy : 0.2572944\t1.0000\n",
      "- batch loss and accuracy : 0.2457461\t1.0000\n"
     ]
    },
    {
     "name": "stderr",
     "output_type": "stream",
     "text": [
      "epoch 1 - train: 164it [00:01, 85.50it/s]"
     ]
    },
    {
     "name": "stdout",
     "output_type": "stream",
     "text": [
      "- batch loss and accuracy : 0.1497628\t1.0000\n",
      "- batch loss and accuracy : 0.1182543\t1.0000\n",
      "- batch loss and accuracy : 2.3538985\t0.0000\n",
      "- batch loss and accuracy : 2.3593469\t0.0000\n",
      "- batch loss and accuracy : 0.1506458\t1.0000\n",
      "- batch loss and accuracy : 0.2009094\t1.0000\n",
      "- batch loss and accuracy : 1.5823448\t0.0000\n",
      "- batch loss and accuracy : 0.4276596\t1.0000\n",
      "- batch loss and accuracy : 0.4378716\t1.0000\n",
      "- batch loss and accuracy : 0.5589196\t1.0000\n",
      "- batch loss and accuracy : 0.5695622\t1.0000\n",
      "- batch loss and accuracy : 1.2177348\t0.0000\n"
     ]
    },
    {
     "name": "stderr",
     "output_type": "stream",
     "text": [
      "epoch 1 - train: 173it [00:01, 85.76it/s]"
     ]
    },
    {
     "name": "stdout",
     "output_type": "stream",
     "text": [
      "- batch loss and accuracy : 0.3878263\t1.0000\n",
      "- batch loss and accuracy : 0.4262369\t1.0000\n",
      "- batch loss and accuracy : 0.3816846\t1.0000\n",
      "- batch loss and accuracy : 1.1724455\t0.0000\n",
      "- batch loss and accuracy : 0.3437417\t1.0000\n",
      "- batch loss and accuracy : 0.3056634\t1.0000\n",
      "- batch loss and accuracy : 0.2180900\t1.0000\n"
     ]
    },
    {
     "name": "stderr",
     "output_type": "stream",
     "text": [
      "epoch 1 - train: 182it [00:02, 83.70it/s]"
     ]
    },
    {
     "name": "stdout",
     "output_type": "stream",
     "text": [
      "- batch loss and accuracy : 0.2092939\t1.0000\n",
      "- batch loss and accuracy : 0.1998109\t1.0000\n",
      "- batch loss and accuracy : 0.0893584\t1.0000\n",
      "- batch loss and accuracy : 0.0827006\t1.0000\n",
      "- batch loss and accuracy : 0.0610638\t1.0000\n",
      "- batch loss and accuracy : 3.1953626\t0.0000\n",
      "- batch loss and accuracy : 2.8225093\t0.0000\n",
      "- batch loss and accuracy : 0.0857519\t1.0000\n",
      "- batch loss and accuracy : 0.1682574\t1.0000\n",
      "- batch loss and accuracy : 0.1651781\t1.0000\n",
      "- batch loss and accuracy : 1.7173933\t0.0000\n"
     ]
    },
    {
     "name": "stderr",
     "output_type": "stream",
     "text": [
      "epoch 1 - train: 193it [00:02, 90.30it/s]"
     ]
    },
    {
     "name": "stdout",
     "output_type": "stream",
     "text": [
      "- batch loss and accuracy : 0.3008860\t1.0000\n",
      "- batch loss and accuracy : 1.1950688\t0.0000\n",
      "- batch loss and accuracy : 0.5080666\t1.0000\n",
      "- batch loss and accuracy : 0.6115165\t0.6667\n",
      "- batch loss and accuracy : 0.6691827\t0.6667\n",
      "- batch loss and accuracy : 0.6197461\t1.0000\n",
      "- batch loss and accuracy : 0.8415985\t0.3333\n",
      "- batch loss and accuracy : 0.8323505\t0.3333\n",
      "- batch loss and accuracy : 0.6187661\t0.6667\n"
     ]
    },
    {
     "name": "stderr",
     "output_type": "stream",
     "text": [
      "epoch 1 - train: 205it [00:02, 96.70it/s]"
     ]
    },
    {
     "name": "stdout",
     "output_type": "stream",
     "text": [
      "- batch loss and accuracy : 0.4394914\t1.0000\n",
      "- batch loss and accuracy : 0.3186263\t1.0000\n",
      "- batch loss and accuracy : 1.7668467\t0.0000\n",
      "- batch loss and accuracy : 0.1459075\t1.0000\n",
      "- batch loss and accuracy : 0.0907405\t1.0000\n",
      "- batch loss and accuracy : 0.0917215\t1.0000\n",
      "- batch loss and accuracy : 0.0578753\t1.0000\n",
      "- batch loss and accuracy : 0.0580177\t1.0000\n",
      "- batch loss and accuracy : 0.0447121\t1.0000\n",
      "- batch loss and accuracy : 0.0347594\t1.0000\n",
      "- batch loss and accuracy : 3.6497397\t0.0000\n",
      "- batch loss and accuracy : 3.4882848\t0.0000\n",
      "- batch loss and accuracy : 0.0537290\t1.0000\n",
      "- batch loss and accuracy : 0.0601790\t1.0000\n"
     ]
    },
    {
     "name": "stderr",
     "output_type": "stream",
     "text": [
      "epoch 1 - train: 216it [00:02, 99.23it/s]"
     ]
    },
    {
     "name": "stdout",
     "output_type": "stream",
     "text": [
      "- batch loss and accuracy : 0.1241160\t1.0000\n",
      "- batch loss and accuracy : 0.1795114\t1.0000\n",
      "- batch loss and accuracy : 0.1946589\t1.0000\n",
      "- batch loss and accuracy : 1.6918650\t0.0000\n",
      "- batch loss and accuracy : 0.2774747\t1.0000\n",
      "- batch loss and accuracy : 1.4803159\t0.0000\n",
      "- batch loss and accuracy : 0.5176155\t1.0000\n",
      "- batch loss and accuracy : 0.7118060\t0.6667\n",
      "- batch loss and accuracy : 0.8574478\t0.0000\n"
     ]
    },
    {
     "name": "stderr",
     "output_type": "stream",
     "text": [
      "epoch 1 - train: 226it [00:02, 95.21it/s]"
     ]
    },
    {
     "name": "stdout",
     "output_type": "stream",
     "text": [
      "- batch loss and accuracy : 0.7601382\t0.3333\n",
      "- batch loss and accuracy : 0.5739450\t1.0000\n",
      "- batch loss and accuracy : 0.3681169\t1.0000\n",
      "- batch loss and accuracy : 1.3109071\t0.0000\n",
      "- batch loss and accuracy : 0.2304083\t1.0000\n",
      "- batch loss and accuracy : 0.1822030\t1.0000\n",
      "- batch loss and accuracy : 0.1543071\t1.0000\n",
      "- batch loss and accuracy : 0.1269883\t1.0000\n",
      "- batch loss and accuracy : 0.0854244\t1.0000\n",
      "- batch loss and accuracy : 0.0761457\t1.0000\n",
      "- batch loss and accuracy : 0.0513566\t1.0000\n"
     ]
    },
    {
     "name": "stderr",
     "output_type": "stream",
     "text": [
      "epoch 1 - train: 237it [00:02, 98.13it/s]"
     ]
    },
    {
     "name": "stdout",
     "output_type": "stream",
     "text": [
      "- batch loss and accuracy : 0.0411448\t1.0000\n",
      "- batch loss and accuracy : 0.0246150\t1.0000\n",
      "- batch loss and accuracy : 0.0232860\t1.0000\n",
      "- batch loss and accuracy : 0.0210818\t1.0000\n",
      "- batch loss and accuracy : 4.1866193\t0.0000\n",
      "- batch loss and accuracy : 0.0154232\t1.0000\n",
      "- batch loss and accuracy : 0.0231199\t1.0000\n",
      "- batch loss and accuracy : 0.0215214\t1.0000\n"
     ]
    },
    {
     "name": "stderr",
     "output_type": "stream",
     "text": [
      "epoch 1 - train: 247it [00:02, 96.38it/s]"
     ]
    },
    {
     "name": "stdout",
     "output_type": "stream",
     "text": [
      "- batch loss and accuracy : 0.0284179\t1.0000\n",
      "- batch loss and accuracy : 3.8065021\t0.0000\n",
      "- batch loss and accuracy : 0.0337328\t1.0000\n",
      "- batch loss and accuracy : 0.0423978\t1.0000\n",
      "- batch loss and accuracy : 0.0681230\t1.0000\n",
      "- batch loss and accuracy : 0.0691735\t1.0000\n",
      "- batch loss and accuracy : 0.1194478\t1.0000\n",
      "- batch loss and accuracy : 0.1348847\t1.0000\n",
      "- batch loss and accuracy : 0.1613865\t1.0000\n",
      "- batch loss and accuracy : 0.1519426\t1.0000\n",
      "- batch loss and accuracy : 1.8862708\t0.0000\n"
     ]
    },
    {
     "name": "stderr",
     "output_type": "stream",
     "text": [
      "epoch 1 - train: 249it [00:02, 90.34it/s]\n",
      "epoch 1 - validation: 100%|██████████| 63/63 [00:00<00:00, 110.41it/s]"
     ]
    },
    {
     "name": "stdout",
     "output_type": "stream",
     "text": [
      "Validation loss and accuracy : 0.6598843\t0.7143\n",
      "EPOCH 2\n"
     ]
    },
    {
     "name": "stderr",
     "output_type": "stream",
     "text": [
      "\n",
      "epoch 2 - train: 5it [00:00, 46.45it/s]"
     ]
    },
    {
     "name": "stdout",
     "output_type": "stream",
     "text": [
      "- batch loss and accuracy : 0.1595954\t1.0000\n",
      "- batch loss and accuracy : 0.2259392\t1.0000\n",
      "- batch loss and accuracy : 1.5166135\t0.0000\n",
      "- batch loss and accuracy : 1.3688544\t0.0000\n",
      "- batch loss and accuracy : 0.4542025\t1.0000\n",
      "- batch loss and accuracy : 0.6279833\t1.0000\n",
      "- batch loss and accuracy : 0.6597025\t0.6667\n",
      "- batch loss and accuracy : 0.6349593\t0.6667\n",
      "- batch loss and accuracy : 0.9778904\t0.0000\n",
      "- batch loss and accuracy : 0.9322933\t0.0000\n",
      "- batch loss and accuracy : 0.6330466\t0.6667\n",
      "- batch loss and accuracy : 0.5182768\t1.0000\n"
     ]
    },
    {
     "name": "stderr",
     "output_type": "stream",
     "text": [
      "epoch 2 - train: 15it [00:00, 76.27it/s]"
     ]
    },
    {
     "name": "stdout",
     "output_type": "stream",
     "text": [
      "- batch loss and accuracy : 1.0958545\t0.0000\n",
      "- batch loss and accuracy : 1.4121374\t0.0000\n",
      "- batch loss and accuracy : 0.3808027\t1.0000\n",
      "- batch loss and accuracy : 1.2343278\t0.0000\n",
      "- batch loss and accuracy : 1.0689396\t0.0000\n",
      "- batch loss and accuracy : 0.5730173\t1.0000\n",
      "- batch loss and accuracy : 0.7926644\t0.0000\n",
      "- batch loss and accuracy : 0.7640964\t0.3333\n",
      "- batch loss and accuracy : 1.0095875\t0.0000\n",
      "- batch loss and accuracy : 1.0652201\t0.0000\n"
     ]
    },
    {
     "name": "stderr",
     "output_type": "stream",
     "text": [
      "epoch 2 - train: 27it [00:00, 94.81it/s]"
     ]
    },
    {
     "name": "stdout",
     "output_type": "stream",
     "text": [
      "- batch loss and accuracy : 0.7715673\t0.3333\n",
      "- batch loss and accuracy : 0.7779194\t0.0000\n",
      "- batch loss and accuracy : 0.9149116\t0.0000\n",
      "- batch loss and accuracy : 0.6950159\t0.6667\n",
      "- batch loss and accuracy : 0.5648107\t0.6667\n",
      "- batch loss and accuracy : 0.9730472\t0.0000\n",
      "- batch loss and accuracy : 1.2678661\t0.0000\n",
      "- batch loss and accuracy : 1.0325375\t0.0000\n",
      "- batch loss and accuracy : 0.9044371\t0.0000\n",
      "- batch loss and accuracy : 0.5860940\t0.6667\n",
      "- batch loss and accuracy : 0.2857679\t1.0000\n",
      "- batch loss and accuracy : 1.7807071\t0.0000\n",
      "- batch loss and accuracy : 2.0468016\t0.0000\n"
     ]
    },
    {
     "name": "stderr",
     "output_type": "stream",
     "text": [
      "epoch 2 - train: 37it [00:00, 96.29it/s]"
     ]
    },
    {
     "name": "stdout",
     "output_type": "stream",
     "text": [
      "- batch loss and accuracy : 2.1719069\t0.0000\n",
      "- batch loss and accuracy : 1.7313635\t0.0000\n",
      "- batch loss and accuracy : 0.3620629\t1.0000\n",
      "- batch loss and accuracy : 0.8897473\t0.0000\n",
      "- batch loss and accuracy : 0.6471672\t0.6667\n",
      "- batch loss and accuracy : 0.3144047\t1.0000\n",
      "- batch loss and accuracy : 0.1787394\t1.0000\n",
      "- batch loss and accuracy : 0.0966680\t1.0000\n",
      "- batch loss and accuracy : 0.0507502\t1.0000\n"
     ]
    },
    {
     "name": "stderr",
     "output_type": "stream",
     "text": [
      "epoch 2 - train: 48it [00:00, 99.09it/s]"
     ]
    },
    {
     "name": "stdout",
     "output_type": "stream",
     "text": [
      "- batch loss and accuracy : 0.0293374\t1.0000\n",
      "- batch loss and accuracy : 0.0138061\t1.0000\n",
      "- batch loss and accuracy : 0.0089958\t1.0000\n",
      "- batch loss and accuracy : 0.0085751\t1.0000\n",
      "- batch loss and accuracy : 0.0037623\t1.0000\n",
      "- batch loss and accuracy : 0.0018459\t1.0000\n",
      "- batch loss and accuracy : 0.0012710\t1.0000\n",
      "- batch loss and accuracy : 0.0010856\t1.0000\n",
      "- batch loss and accuracy : 0.0010520\t1.0000\n",
      "- batch loss and accuracy : 7.2589407\t0.0000\n"
     ]
    },
    {
     "name": "stderr",
     "output_type": "stream",
     "text": [
      "epoch 2 - train: 58it [00:00, 95.02it/s]"
     ]
    },
    {
     "name": "stdout",
     "output_type": "stream",
     "text": [
      "- batch loss and accuracy : 0.0004254\t1.0000\n",
      "- batch loss and accuracy : 0.0007459\t1.0000\n",
      "- batch loss and accuracy : 0.0006824\t1.0000\n",
      "- batch loss and accuracy : 0.0012049\t1.0000\n",
      "- batch loss and accuracy : 0.0009284\t1.0000\n",
      "- batch loss and accuracy : 6.7828879\t0.0000\n",
      "- batch loss and accuracy : 0.0016725\t1.0000\n",
      "- batch loss and accuracy : 0.0026333\t1.0000\n",
      "- batch loss and accuracy : 5.5428576\t0.0000\n",
      "- batch loss and accuracy : 5.0805826\t0.0000\n"
     ]
    },
    {
     "name": "stderr",
     "output_type": "stream",
     "text": [
      "epoch 2 - train: 69it [00:00, 99.55it/s]"
     ]
    },
    {
     "name": "stdout",
     "output_type": "stream",
     "text": [
      "- batch loss and accuracy : 3.9493213\t0.0000\n",
      "- batch loss and accuracy : 0.0581398\t1.0000\n",
      "- batch loss and accuracy : 2.0870523\t0.0000\n",
      "- batch loss and accuracy : 0.5542693\t0.6667\n",
      "- batch loss and accuracy : 0.4341515\t1.0000\n",
      "- batch loss and accuracy : 1.7404892\t0.0000\n",
      "- batch loss and accuracy : 2.4797781\t0.0000\n",
      "- batch loss and accuracy : 2.4497113\t0.0000\n",
      "- batch loss and accuracy : 0.0679995\t1.0000\n",
      "- batch loss and accuracy : 2.6124859\t0.0000\n",
      "- batch loss and accuracy : 2.2319489\t0.0000\n",
      "- batch loss and accuracy : 1.5080794\t0.0000\n",
      "- batch loss and accuracy : 0.8920953\t0.3333\n"
     ]
    },
    {
     "name": "stderr",
     "output_type": "stream",
     "text": [
      "epoch 2 - train: 80it [00:00, 100.37it/s]"
     ]
    },
    {
     "name": "stdout",
     "output_type": "stream",
     "text": [
      "- batch loss and accuracy : 0.4543396\t1.0000\n",
      "- batch loss and accuracy : 0.1796237\t1.0000\n",
      "- batch loss and accuracy : 0.0767747\t1.0000\n",
      "- batch loss and accuracy : 0.0469654\t1.0000\n",
      "- batch loss and accuracy : 0.0126142\t1.0000\n",
      "- batch loss and accuracy : 0.0060520\t1.0000\n",
      "- batch loss and accuracy : 0.0032794\t1.0000\n",
      "- batch loss and accuracy : 0.0020596\t1.0000\n"
     ]
    },
    {
     "name": "stderr",
     "output_type": "stream",
     "text": [
      "epoch 2 - train: 91it [00:00, 95.75it/s] "
     ]
    },
    {
     "name": "stdout",
     "output_type": "stream",
     "text": [
      "- batch loss and accuracy : 7.0710001\t0.0000\n",
      "- batch loss and accuracy : 0.0007733\t1.0000\n",
      "- batch loss and accuracy : 7.1696129\t0.0000\n",
      "- batch loss and accuracy : 0.0013571\t1.0000\n",
      "- batch loss and accuracy : 0.0012560\t1.0000\n",
      "- batch loss and accuracy : 6.6207919\t0.0000\n",
      "- batch loss and accuracy : 0.0045470\t1.0000\n",
      "- batch loss and accuracy : 0.0053248\t1.0000\n",
      "- batch loss and accuracy : 5.3571749\t0.0000\n",
      "- batch loss and accuracy : 4.4534397\t0.0000\n",
      "- batch loss and accuracy : 0.0383600\t1.0000\n"
     ]
    },
    {
     "name": "stderr",
     "output_type": "stream",
     "text": [
      "epoch 2 - train: 101it [00:01, 90.45it/s]"
     ]
    },
    {
     "name": "stdout",
     "output_type": "stream",
     "text": [
      "- batch loss and accuracy : 2.6546893\t0.0000\n",
      "- batch loss and accuracy : 0.2741751\t1.0000\n",
      "- batch loss and accuracy : 0.6732537\t0.6667\n",
      "- batch loss and accuracy : 0.4653919\t1.0000\n",
      "- batch loss and accuracy : 1.5810379\t0.0000\n"
     ]
    },
    {
     "name": "stderr",
     "output_type": "stream",
     "text": [
      "epoch 2 - train: 111it [00:01, 88.43it/s]"
     ]
    },
    {
     "name": "stdout",
     "output_type": "stream",
     "text": [
      "- batch loss and accuracy : 0.1591009\t1.0000\n",
      "- batch loss and accuracy : 2.1859713\t0.0000\n",
      "- batch loss and accuracy : 0.1254111\t1.0000\n",
      "- batch loss and accuracy : 2.3274355\t0.0000\n",
      "- batch loss and accuracy : 1.8720391\t0.0000\n",
      "- batch loss and accuracy : 1.5778127\t0.0000\n",
      "- batch loss and accuracy : 1.0785826\t0.0000\n",
      "- batch loss and accuracy : 0.9051870\t0.3333\n",
      "- batch loss and accuracy : 0.3186039\t1.0000\n",
      "- batch loss and accuracy : 0.1658867\t1.0000\n",
      "- batch loss and accuracy : 0.1000038\t1.0000\n",
      "- batch loss and accuracy : 0.0589810\t1.0000\n",
      "- batch loss and accuracy : 0.0331474\t1.0000\n"
     ]
    },
    {
     "name": "stderr",
     "output_type": "stream",
     "text": [
      "epoch 2 - train: 120it [00:01, 87.73it/s]"
     ]
    },
    {
     "name": "stdout",
     "output_type": "stream",
     "text": [
      "- batch loss and accuracy : 3.9192829\t0.0000\n",
      "- batch loss and accuracy : 4.0522394\t0.0000\n",
      "- batch loss and accuracy : 0.0197290\t1.0000\n",
      "- batch loss and accuracy : 0.0248782\t1.0000\n",
      "- batch loss and accuracy : 0.0417272\t1.0000\n",
      "- batch loss and accuracy : 3.4408405\t0.0000\n"
     ]
    },
    {
     "name": "stderr",
     "output_type": "stream",
     "text": [
      "epoch 2 - train: 129it [00:01, 86.00it/s]"
     ]
    },
    {
     "name": "stdout",
     "output_type": "stream",
     "text": [
      "- batch loss and accuracy : 0.0647470\t1.0000\n",
      "- batch loss and accuracy : 2.5062809\t0.0000\n",
      "- batch loss and accuracy : 0.2174743\t1.0000\n",
      "- batch loss and accuracy : 0.2820586\t1.0000\n",
      "- batch loss and accuracy : 0.3254521\t1.0000\n",
      "- batch loss and accuracy : 0.8855124\t0.3333\n",
      "- batch loss and accuracy : 0.8070447\t0.3333\n",
      "- batch loss and accuracy : 0.7747170\t0.3333\n",
      "- batch loss and accuracy : 0.5890076\t0.6667\n",
      "- batch loss and accuracy : 0.9643295\t0.0000\n",
      "- batch loss and accuracy : 0.6773422\t0.3333\n",
      "- batch loss and accuracy : 0.7210522\t0.6667\n",
      "- batch loss and accuracy : 0.4785561\t0.6667\n",
      "- batch loss and accuracy : 0.2672930\t1.0000\n",
      "- batch loss and accuracy : 0.1703295\t1.0000\n",
      "- batch loss and accuracy : 1.8381612\t0.0000\n",
      "- batch loss and accuracy : 0.1192127\t1.0000\n",
      "- batch loss and accuracy : 2.4307938\t0.0000\n",
      "- batch loss and accuracy : 0.1350105\t1.0000\n"
     ]
    },
    {
     "name": "stderr",
     "output_type": "stream",
     "text": [
      "epoch 2 - train: 150it [00:01, 93.06it/s]"
     ]
    },
    {
     "name": "stdout",
     "output_type": "stream",
     "text": [
      "- batch loss and accuracy : 0.1210760\t1.0000\n",
      "- batch loss and accuracy : 0.1016928\t1.0000\n",
      "- batch loss and accuracy : 0.1076297\t1.0000\n",
      "- batch loss and accuracy : 2.2080503\t0.0000\n",
      "- batch loss and accuracy : 1.9432249\t0.0000\n",
      "- batch loss and accuracy : 0.2667038\t1.0000\n",
      "- batch loss and accuracy : 0.4114669\t1.0000\n",
      "- batch loss and accuracy : 0.7721193\t0.6667\n",
      "- batch loss and accuracy : 0.6639540\t0.6667\n",
      "- batch loss and accuracy : 1.0621361\t0.0000\n",
      "- batch loss and accuracy : 1.0116498\t0.0000\n",
      "- batch loss and accuracy : 1.2461433\t0.0000\n",
      "- batch loss and accuracy : 0.5887626\t0.6667\n",
      "- batch loss and accuracy : 0.5575830\t0.6667\n",
      "- batch loss and accuracy : 0.5158319\t1.0000\n",
      "- batch loss and accuracy : 1.0165466\t0.0000\n",
      "- batch loss and accuracy : 0.3791114\t1.0000\n",
      "- batch loss and accuracy : 1.1950749\t0.0000\n",
      "- batch loss and accuracy : 0.3894004\t1.0000\n",
      "- batch loss and accuracy : 0.9765961\t0.0000\n"
     ]
    },
    {
     "name": "stderr",
     "output_type": "stream",
     "text": [
      "epoch 2 - train: 170it [00:01, 90.36it/s]"
     ]
    },
    {
     "name": "stdout",
     "output_type": "stream",
     "text": [
      "- batch loss and accuracy : 0.8738127\t0.0000\n",
      "- batch loss and accuracy : 0.6805569\t0.6667\n",
      "- batch loss and accuracy : 0.6303182\t0.6667\n",
      "- batch loss and accuracy : 0.5604405\t0.6667\n",
      "- batch loss and accuracy : 0.2530681\t1.0000\n",
      "- batch loss and accuracy : 0.1866861\t1.0000\n",
      "- batch loss and accuracy : 2.0968194\t0.0000\n",
      "- batch loss and accuracy : 0.0957289\t1.0000\n",
      "- batch loss and accuracy : 2.8124149\t0.0000\n",
      "- batch loss and accuracy : 2.3054621\t0.0000\n",
      "- batch loss and accuracy : 0.1981382\t1.0000\n",
      "- batch loss and accuracy : 0.1975690\t1.0000\n",
      "- batch loss and accuracy : 0.2471929\t1.0000\n",
      "- batch loss and accuracy : 0.3197448\t1.0000\n",
      "- batch loss and accuracy : 1.2601622\t0.0000\n",
      "- batch loss and accuracy : 0.4176941\t1.0000\n"
     ]
    },
    {
     "name": "stderr",
     "output_type": "stream",
     "text": [
      "epoch 2 - train: 180it [00:01, 85.39it/s]"
     ]
    },
    {
     "name": "stdout",
     "output_type": "stream",
     "text": [
      "- batch loss and accuracy : 0.4906774\t1.0000\n",
      "- batch loss and accuracy : 0.5432935\t1.0000\n",
      "- batch loss and accuracy : 0.4873897\t1.0000\n",
      "- batch loss and accuracy : 1.2045735\t0.0000\n",
      "- batch loss and accuracy : 0.3691888\t1.0000\n",
      "- batch loss and accuracy : 0.2507335\t1.0000\n",
      "- batch loss and accuracy : 0.3267893\t1.0000\n",
      "- batch loss and accuracy : 0.2414476\t1.0000\n",
      "- batch loss and accuracy : 0.1420824\t1.0000\n",
      "- batch loss and accuracy : 2.1440990\t0.0000\n",
      "- batch loss and accuracy : 0.1213784\t1.0000\n",
      "- batch loss and accuracy : 0.1227668\t1.0000\n"
     ]
    },
    {
     "name": "stderr",
     "output_type": "stream",
     "text": [
      "epoch 2 - train: 189it [00:02, 83.32it/s]"
     ]
    },
    {
     "name": "stdout",
     "output_type": "stream",
     "text": [
      "- batch loss and accuracy : 0.1439207\t1.0000\n",
      "- batch loss and accuracy : 0.0772851\t1.0000\n",
      "- batch loss and accuracy : 2.6600003\t0.0000\n",
      "- batch loss and accuracy : 2.1492515\t0.0000\n",
      "- batch loss and accuracy : 0.1989023\t1.0000\n"
     ]
    },
    {
     "name": "stderr",
     "output_type": "stream",
     "text": [
      "epoch 2 - train: 198it [00:02, 84.76it/s]"
     ]
    },
    {
     "name": "stdout",
     "output_type": "stream",
     "text": [
      "- batch loss and accuracy : 0.3051674\t1.0000\n",
      "- batch loss and accuracy : 1.1502407\t0.0000\n",
      "- batch loss and accuracy : 0.5143943\t1.0000\n",
      "- batch loss and accuracy : 0.6689073\t0.6667\n",
      "- batch loss and accuracy : 0.8331388\t0.3333\n",
      "- batch loss and accuracy : 0.4481185\t1.0000\n",
      "- batch loss and accuracy : 1.1380188\t0.0000\n",
      "- batch loss and accuracy : 1.0175948\t0.0000\n",
      "- batch loss and accuracy : 0.3403868\t1.0000\n",
      "- batch loss and accuracy : 0.9978931\t0.0000\n",
      "- batch loss and accuracy : 0.7739286\t0.0000\n",
      "- batch loss and accuracy : 0.6721780\t0.6667\n",
      "- batch loss and accuracy : 0.3442325\t1.0000\n"
     ]
    },
    {
     "name": "stderr",
     "output_type": "stream",
     "text": [
      "epoch 2 - train: 207it [00:02, 85.55it/s]"
     ]
    },
    {
     "name": "stdout",
     "output_type": "stream",
     "text": [
      "- batch loss and accuracy : 0.2137940\t1.0000\n",
      "- batch loss and accuracy : 2.2946148\t0.0000\n",
      "- batch loss and accuracy : 2.4229794\t0.0000\n",
      "- batch loss and accuracy : 0.1237382\t1.0000\n",
      "- batch loss and accuracy : 2.3330350\t0.0000\n"
     ]
    },
    {
     "name": "stderr",
     "output_type": "stream",
     "text": [
      "epoch 2 - train: 216it [00:02, 85.59it/s]"
     ]
    },
    {
     "name": "stdout",
     "output_type": "stream",
     "text": [
      "- batch loss and accuracy : 0.1176722\t1.0000\n",
      "- batch loss and accuracy : 0.2022355\t1.0000\n",
      "- batch loss and accuracy : 0.1732249\t1.0000\n",
      "- batch loss and accuracy : 0.2623233\t1.0000\n",
      "- batch loss and accuracy : 0.3456956\t1.0000\n",
      "- batch loss and accuracy : 1.3794715\t0.0000\n",
      "- batch loss and accuracy : 1.4176176\t0.0000\n",
      "- batch loss and accuracy : 1.1402440\t0.0000\n",
      "- batch loss and accuracy : 0.6456686\t1.0000\n",
      "- batch loss and accuracy : 0.9509490\t0.0000\n",
      "- batch loss and accuracy : 0.4127036\t1.0000\n",
      "- batch loss and accuracy : 1.1227269\t0.0000\n",
      "- batch loss and accuracy : 1.2979827\t0.0000\n"
     ]
    },
    {
     "name": "stderr",
     "output_type": "stream",
     "text": [
      "epoch 2 - train: 225it [00:02, 86.05it/s]"
     ]
    },
    {
     "name": "stdout",
     "output_type": "stream",
     "text": [
      "- batch loss and accuracy : 1.2625542\t0.0000\n",
      "- batch loss and accuracy : 0.8098989\t0.3333\n",
      "- batch loss and accuracy : 0.5668222\t0.6667\n",
      "- batch loss and accuracy : 0.2741722\t1.0000\n",
      "- batch loss and accuracy : 0.1388594\t1.0000\n"
     ]
    },
    {
     "name": "stderr",
     "output_type": "stream",
     "text": [
      "epoch 2 - train: 234it [00:02, 85.20it/s]"
     ]
    },
    {
     "name": "stdout",
     "output_type": "stream",
     "text": [
      "- batch loss and accuracy : 0.0599687\t1.0000\n",
      "- batch loss and accuracy : 3.4319129\t0.0000\n",
      "- batch loss and accuracy : 0.0314615\t1.0000\n",
      "- batch loss and accuracy : 0.0299279\t1.0000\n",
      "- batch loss and accuracy : 0.0214520\t1.0000\n",
      "- batch loss and accuracy : 0.0167687\t1.0000\n",
      "- batch loss and accuracy : 0.0153904\t1.0000\n",
      "- batch loss and accuracy : 0.0094947\t1.0000\n",
      "- batch loss and accuracy : 0.0092363\t1.0000\n",
      "- batch loss and accuracy : 0.0081612\t1.0000\n",
      "- batch loss and accuracy : 5.0408363\t0.0000\n",
      "- batch loss and accuracy : 0.0128667\t1.0000\n",
      "- batch loss and accuracy : 0.0101163\t1.0000\n"
     ]
    },
    {
     "name": "stderr",
     "output_type": "stream",
     "text": [
      "epoch 2 - train: 244it [00:02, 88.63it/s]"
     ]
    },
    {
     "name": "stdout",
     "output_type": "stream",
     "text": [
      "- batch loss and accuracy : 0.0113213\t1.0000\n",
      "- batch loss and accuracy : 0.0171614\t1.0000\n",
      "- batch loss and accuracy : 0.0243019\t1.0000\n",
      "- batch loss and accuracy : 0.0173808\t1.0000\n",
      "- batch loss and accuracy : 0.0221649\t1.0000\n",
      "- batch loss and accuracy : 0.0185727\t1.0000\n"
     ]
    },
    {
     "name": "stderr",
     "output_type": "stream",
     "text": [
      "epoch 2 - train: 249it [00:02, 88.65it/s]\n"
     ]
    },
    {
     "name": "stdout",
     "output_type": "stream",
     "text": [
      "- batch loss and accuracy : 3.7083271\t0.0000\n",
      "- batch loss and accuracy : 0.0429583\t1.0000\n"
     ]
    },
    {
     "name": "stderr",
     "output_type": "stream",
     "text": [
      "epoch 2 - validation: 100%|██████████| 63/63 [00:00<00:00, 100.45it/s]"
     ]
    },
    {
     "name": "stdout",
     "output_type": "stream",
     "text": [
      "Validation loss and accuracy : 0.8971793\t0.7143\n",
      "EPOCH 3\n"
     ]
    },
    {
     "name": "stderr",
     "output_type": "stream",
     "text": [
      "\n",
      "epoch 3 - train: 6it [00:00, 52.52it/s]"
     ]
    },
    {
     "name": "stdout",
     "output_type": "stream",
     "text": [
      "- batch loss and accuracy : 0.0419328\t1.0000\n",
      "- batch loss and accuracy : 0.0723753\t1.0000\n",
      "- batch loss and accuracy : 0.1152294\t1.0000\n",
      "- batch loss and accuracy : 0.1129770\t1.0000\n",
      "- batch loss and accuracy : 0.0993154\t1.0000\n",
      "- batch loss and accuracy : 2.1164172\t0.0000\n",
      "- batch loss and accuracy : 0.1894369\t1.0000\n",
      "- batch loss and accuracy : 0.2147977\t1.0000\n",
      "- batch loss and accuracy : 0.2667762\t1.0000\n",
      "- batch loss and accuracy : 1.2733859\t0.0000\n",
      "- batch loss and accuracy : 1.1735694\t0.0000\n"
     ]
    },
    {
     "name": "stderr",
     "output_type": "stream",
     "text": [
      "epoch 3 - train: 15it [00:00, 71.85it/s]"
     ]
    },
    {
     "name": "stdout",
     "output_type": "stream",
     "text": [
      "- batch loss and accuracy : 0.6520795\t0.6667\n",
      "- batch loss and accuracy : 0.8633515\t0.3333\n",
      "- batch loss and accuracy : 0.7977983\t0.0000\n",
      "- batch loss and accuracy : 0.7623544\t0.3333\n",
      "- batch loss and accuracy : 0.6441054\t0.6667\n",
      "- batch loss and accuracy : 0.4300115\t1.0000\n",
      "- batch loss and accuracy : 0.3166252\t1.0000\n"
     ]
    },
    {
     "name": "stderr",
     "output_type": "stream",
     "text": [
      "epoch 3 - train: 24it [00:00, 78.85it/s]"
     ]
    },
    {
     "name": "stdout",
     "output_type": "stream",
     "text": [
      "- batch loss and accuracy : 1.9055641\t0.0000\n",
      "- batch loss and accuracy : 0.1405879\t1.0000\n",
      "- batch loss and accuracy : 0.1188641\t1.0000\n",
      "- batch loss and accuracy : 0.1203296\t1.0000\n",
      "- batch loss and accuracy : 2.9007194\t0.0000\n",
      "- batch loss and accuracy : 2.4789999\t0.0000\n",
      "- batch loss and accuracy : 0.1287547\t1.0000\n",
      "- batch loss and accuracy : 0.1766408\t1.0000\n",
      "- batch loss and accuracy : 0.1957262\t1.0000\n",
      "- batch loss and accuracy : 0.2586406\t1.0000\n",
      "- batch loss and accuracy : 1.5079370\t0.0000\n"
     ]
    },
    {
     "name": "stderr",
     "output_type": "stream",
     "text": [
      "epoch 3 - train: 33it [00:00, 82.25it/s]"
     ]
    },
    {
     "name": "stdout",
     "output_type": "stream",
     "text": [
      "- batch loss and accuracy : 0.3353446\t1.0000\n",
      "- batch loss and accuracy : 0.3725825\t1.0000\n",
      "- batch loss and accuracy : 0.4762470\t1.0000\n",
      "- batch loss and accuracy : 0.4208324\t1.0000\n",
      "- batch loss and accuracy : 0.2905979\t1.0000\n",
      "- batch loss and accuracy : 0.2554300\t1.0000\n",
      "- batch loss and accuracy : 0.1791311\t1.0000\n"
     ]
    },
    {
     "name": "stderr",
     "output_type": "stream",
     "text": [
      "epoch 3 - train: 42it [00:00, 83.72it/s]"
     ]
    },
    {
     "name": "stdout",
     "output_type": "stream",
     "text": [
      "- batch loss and accuracy : 0.1810900\t1.0000\n",
      "- batch loss and accuracy : 0.1318037\t1.0000\n",
      "- batch loss and accuracy : 0.0691483\t1.0000\n",
      "- batch loss and accuracy : 0.0591509\t1.0000\n",
      "- batch loss and accuracy : 0.0487852\t1.0000\n",
      "- batch loss and accuracy : 0.0292963\t1.0000\n",
      "- batch loss and accuracy : 0.0198891\t1.0000\n",
      "- batch loss and accuracy : 0.0149423\t1.0000\n",
      "- batch loss and accuracy : 4.3530693\t0.0000\n",
      "- batch loss and accuracy : 0.0124195\t1.0000\n",
      "- batch loss and accuracy : 4.3660326\t0.0000\n"
     ]
    },
    {
     "name": "stderr",
     "output_type": "stream",
     "text": [
      "epoch 3 - train: 51it [00:00, 85.01it/s]"
     ]
    },
    {
     "name": "stdout",
     "output_type": "stream",
     "text": [
      "- batch loss and accuracy : 4.2513371\t0.0000\n",
      "- batch loss and accuracy : 0.0572309\t1.0000\n",
      "- batch loss and accuracy : 2.4142494\t0.0000\n",
      "- batch loss and accuracy : 1.9327550\t0.0000\n",
      "- batch loss and accuracy : 0.6589596\t0.6667\n",
      "- batch loss and accuracy : 0.9470091\t0.3333\n",
      "- batch loss and accuracy : 0.3318872\t1.0000\n",
      "- batch loss and accuracy : 2.2015667\t0.0000\n"
     ]
    },
    {
     "name": "stderr",
     "output_type": "stream",
     "text": [
      "epoch 3 - train: 62it [00:00, 92.62it/s]"
     ]
    },
    {
     "name": "stdout",
     "output_type": "stream",
     "text": [
      "- batch loss and accuracy : 1.9515207\t0.0000\n",
      "- batch loss and accuracy : 2.0836427\t0.0000\n",
      "- batch loss and accuracy : 1.8710997\t0.0000\n",
      "- batch loss and accuracy : 0.3934717\t1.0000\n",
      "- batch loss and accuracy : 0.8123592\t0.3333\n",
      "- batch loss and accuracy : 0.5205289\t1.0000\n",
      "- batch loss and accuracy : 0.2637127\t1.0000\n",
      "- batch loss and accuracy : 2.1608028\t0.0000\n",
      "- batch loss and accuracy : 0.0856860\t1.0000\n",
      "- batch loss and accuracy : 0.0687380\t1.0000\n",
      "- batch loss and accuracy : 3.1012211\t0.0000\n",
      "- batch loss and accuracy : 0.0604548\t1.0000\n",
      "- batch loss and accuracy : 3.0276260\t0.0000\n",
      "- batch loss and accuracy : 0.1079421\t1.0000\n"
     ]
    },
    {
     "name": "stderr",
     "output_type": "stream",
     "text": [
      "epoch 3 - train: 74it [00:00, 98.87it/s]"
     ]
    },
    {
     "name": "stdout",
     "output_type": "stream",
     "text": [
      "- batch loss and accuracy : 0.1184381\t1.0000\n",
      "- batch loss and accuracy : 0.1515898\t1.0000\n",
      "- batch loss and accuracy : 0.1451190\t1.0000\n",
      "- batch loss and accuracy : 0.2190389\t1.0000\n",
      "- batch loss and accuracy : 2.1147411\t0.0000\n",
      "- batch loss and accuracy : 1.8868917\t0.0000\n",
      "- batch loss and accuracy : 1.2505927\t0.0000\n",
      "- batch loss and accuracy : 0.6092311\t1.0000\n"
     ]
    },
    {
     "name": "stderr",
     "output_type": "stream",
     "text": [
      "epoch 3 - train: 84it [00:00, 85.92it/s]"
     ]
    },
    {
     "name": "stdout",
     "output_type": "stream",
     "text": [
      "- batch loss and accuracy : 0.8651788\t0.0000\n",
      "- batch loss and accuracy : 0.3791358\t1.0000\n",
      "- batch loss and accuracy : 1.6409396\t0.0000\n",
      "- batch loss and accuracy : 1.3797379\t0.0000\n",
      "- batch loss and accuracy : 1.0335540\t0.3333\n",
      "- batch loss and accuracy : 0.9030964\t0.0000\n",
      "- batch loss and accuracy : 0.6321241\t0.6667\n",
      "- batch loss and accuracy : 0.2902145\t1.0000\n",
      "- batch loss and accuracy : 0.1489225\t1.0000\n",
      "- batch loss and accuracy : 0.0902218\t1.0000\n",
      "- batch loss and accuracy : 0.0690701\t1.0000\n",
      "- batch loss and accuracy : 0.0250784\t1.0000\n",
      "- batch loss and accuracy : 0.0152946\t1.0000\n"
     ]
    },
    {
     "name": "stderr",
     "output_type": "stream",
     "text": [
      "epoch 3 - train: 93it [00:01, 82.12it/s]"
     ]
    },
    {
     "name": "stdout",
     "output_type": "stream",
     "text": [
      "- batch loss and accuracy : 4.6691303\t0.0000\n",
      "- batch loss and accuracy : 0.0094289\t1.0000\n",
      "- batch loss and accuracy : 5.0137706\t0.0000\n",
      "- batch loss and accuracy : 0.0115924\t1.0000\n",
      "- batch loss and accuracy : 0.0115203\t1.0000\n",
      "- batch loss and accuracy : 0.0122570\t1.0000\n",
      "- batch loss and accuracy : 0.0169013\t1.0000\n",
      "- batch loss and accuracy : 4.1791220\t0.0000\n",
      "- batch loss and accuracy : 0.0393268\t1.0000\n",
      "- batch loss and accuracy : 0.0593120\t1.0000\n",
      "- batch loss and accuracy : 0.0731609\t1.0000\n"
     ]
    },
    {
     "name": "stderr",
     "output_type": "stream",
     "text": [
      "epoch 3 - train: 102it [00:01, 80.32it/s]"
     ]
    },
    {
     "name": "stdout",
     "output_type": "stream",
     "text": [
      "- batch loss and accuracy : 0.1367293\t1.0000\n",
      "- batch loss and accuracy : 0.1195816\t1.0000\n",
      "- batch loss and accuracy : 0.0945078\t1.0000\n",
      "- batch loss and accuracy : 0.1267091\t1.0000\n",
      "- batch loss and accuracy : 1.8666160\t0.0000\n"
     ]
    },
    {
     "name": "stderr",
     "output_type": "stream",
     "text": [
      "epoch 3 - train: 111it [00:01, 79.92it/s]"
     ]
    },
    {
     "name": "stdout",
     "output_type": "stream",
     "text": [
      "- batch loss and accuracy : 0.2036966\t1.0000\n",
      "- batch loss and accuracy : 0.3235122\t1.0000\n",
      "- batch loss and accuracy : 0.3120167\t1.0000\n",
      "- batch loss and accuracy : 0.3804946\t1.0000\n",
      "- batch loss and accuracy : 0.4186761\t1.0000\n",
      "- batch loss and accuracy : 0.3341085\t1.0000\n",
      "- batch loss and accuracy : 0.1363169\t1.0000\n",
      "- batch loss and accuracy : 2.0618424\t0.0000\n",
      "- batch loss and accuracy : 0.1412987\t1.0000\n",
      "- batch loss and accuracy : 0.1641567\t1.0000\n",
      "- batch loss and accuracy : 0.1387521\t1.0000\n"
     ]
    },
    {
     "name": "stderr",
     "output_type": "stream",
     "text": [
      "epoch 3 - train: 120it [00:01, 79.10it/s]"
     ]
    },
    {
     "name": "stdout",
     "output_type": "stream",
     "text": [
      "- batch loss and accuracy : 0.1402378\t1.0000\n",
      "- batch loss and accuracy : 2.3105912\t0.0000\n",
      "- batch loss and accuracy : 1.6751660\t0.0000\n",
      "- batch loss and accuracy : 0.2353816\t1.0000\n",
      "- batch loss and accuracy : 1.2276303\t0.0000\n"
     ]
    },
    {
     "name": "stderr",
     "output_type": "stream",
     "text": [
      "epoch 3 - train: 128it [00:01, 72.80it/s]"
     ]
    },
    {
     "name": "stdout",
     "output_type": "stream",
     "text": [
      "- batch loss and accuracy : 0.9565861\t0.0000\n",
      "- batch loss and accuracy : 0.9154148\t0.0000\n",
      "- batch loss and accuracy : 0.8758368\t0.0000\n",
      "- batch loss and accuracy : 0.2869626\t1.0000\n",
      "- batch loss and accuracy : 1.5739560\t0.0000\n",
      "- batch loss and accuracy : 0.3487932\t1.0000\n",
      "- batch loss and accuracy : 1.3050870\t0.0000\n",
      "- batch loss and accuracy : 0.4685214\t1.0000\n",
      "- batch loss and accuracy : 1.2795362\t0.0000\n",
      "- batch loss and accuracy : 1.0393350\t0.0000\n",
      "- batch loss and accuracy : 0.7772890\t0.3333\n",
      "- batch loss and accuracy : 1.0658153\t0.0000\n",
      "- batch loss and accuracy : 1.1244109\t0.0000\n",
      "- batch loss and accuracy : 1.3511941\t0.0000\n"
     ]
    },
    {
     "name": "stderr",
     "output_type": "stream",
     "text": [
      "epoch 3 - train: 146it [00:01, 75.49it/s]"
     ]
    },
    {
     "name": "stdout",
     "output_type": "stream",
     "text": [
      "- batch loss and accuracy : 0.3407416\t1.0000\n",
      "- batch loss and accuracy : 1.0064014\t0.0000\n",
      "- batch loss and accuracy : 0.3102638\t1.0000\n",
      "- batch loss and accuracy : 0.3997074\t1.0000\n",
      "- batch loss and accuracy : 1.0091076\t0.0000\n",
      "- batch loss and accuracy : 0.5119213\t1.0000\n",
      "- batch loss and accuracy : 0.6080095\t0.6667\n",
      "- batch loss and accuracy : 0.6595941\t0.3333\n",
      "- batch loss and accuracy : 0.6088550\t1.0000\n",
      "- batch loss and accuracy : 0.6474632\t1.0000\n",
      "- batch loss and accuracy : 0.8394383\t0.0000\n",
      "- batch loss and accuracy : 0.5819231\t0.6667\n",
      "- batch loss and accuracy : 0.5407420\t0.6667\n",
      "- batch loss and accuracy : 0.3968630\t1.0000\n",
      "- batch loss and accuracy : 0.2745140\t1.0000\n",
      "- batch loss and accuracy : 1.7555422\t0.0000\n"
     ]
    },
    {
     "name": "stderr",
     "output_type": "stream",
     "text": [
      "epoch 3 - train: 164it [00:02, 80.76it/s]"
     ]
    },
    {
     "name": "stdout",
     "output_type": "stream",
     "text": [
      "- batch loss and accuracy : 0.1503309\t1.0000\n",
      "- batch loss and accuracy : 1.8268826\t0.0000\n",
      "- batch loss and accuracy : 0.2167920\t1.0000\n",
      "- batch loss and accuracy : 0.2159748\t1.0000\n",
      "- batch loss and accuracy : 0.1982360\t1.0000\n",
      "- batch loss and accuracy : 0.1835583\t1.0000\n",
      "- batch loss and accuracy : 0.1430377\t1.0000\n",
      "- batch loss and accuracy : 1.8745880\t0.0000\n",
      "- batch loss and accuracy : 0.1698630\t1.0000\n",
      "- batch loss and accuracy : 1.6418130\t0.0000\n",
      "- batch loss and accuracy : 0.3365816\t1.0000\n",
      "- batch loss and accuracy : 1.0890888\t0.0000\n",
      "- batch loss and accuracy : 0.5376956\t1.0000\n",
      "- batch loss and accuracy : 0.6357217\t0.6667\n",
      "- batch loss and accuracy : 0.5729241\t0.6667\n",
      "- batch loss and accuracy : 0.8716472\t0.0000\n",
      "- batch loss and accuracy : 0.5509560\t0.6667\n",
      "- batch loss and accuracy : 0.6098294\t1.0000\n",
      "- batch loss and accuracy : 0.4805054\t1.0000\n"
     ]
    },
    {
     "name": "stderr",
     "output_type": "stream",
     "text": [
      "epoch 3 - train: 184it [00:02, 88.44it/s]"
     ]
    },
    {
     "name": "stdout",
     "output_type": "stream",
     "text": [
      "- batch loss and accuracy : 0.4516918\t1.0000\n",
      "- batch loss and accuracy : 0.3622449\t1.0000\n",
      "- batch loss and accuracy : 0.2083666\t1.0000\n",
      "- batch loss and accuracy : 0.1146433\t1.0000\n",
      "- batch loss and accuracy : 0.0946698\t1.0000\n",
      "- batch loss and accuracy : 0.0556509\t1.0000\n",
      "- batch loss and accuracy : 0.0316873\t1.0000\n",
      "- batch loss and accuracy : 4.0901880\t0.0000\n",
      "- batch loss and accuracy : 3.8677616\t0.0000\n",
      "- batch loss and accuracy : 4.0339408\t0.0000\n",
      "- batch loss and accuracy : 0.0559744\t1.0000\n",
      "- batch loss and accuracy : 2.4145508\t0.0000\n",
      "- batch loss and accuracy : 1.7035892\t0.0000\n",
      "- batch loss and accuracy : 0.4576008\t1.0000\n",
      "- batch loss and accuracy : 0.8933061\t0.0000\n",
      "- batch loss and accuracy : 1.2484086\t0.0000\n",
      "- batch loss and accuracy : 1.2264745\t0.0000\n",
      "- batch loss and accuracy : 0.3132758\t1.0000\n",
      "- batch loss and accuracy : 0.3595390\t1.0000\n",
      "- batch loss and accuracy : 0.2223444\t1.0000\n",
      "- batch loss and accuracy : 1.3642254\t0.0000\n"
     ]
    },
    {
     "name": "stderr",
     "output_type": "stream",
     "text": [
      "epoch 3 - train: 208it [00:02, 98.52it/s]"
     ]
    },
    {
     "name": "stdout",
     "output_type": "stream",
     "text": [
      "- batch loss and accuracy : 1.4410800\t0.0000\n",
      "- batch loss and accuracy : 0.2651515\t1.0000\n",
      "- batch loss and accuracy : 1.0495232\t0.0000\n",
      "- batch loss and accuracy : 0.5430017\t1.0000\n",
      "- batch loss and accuracy : 0.6944499\t0.6667\n",
      "- batch loss and accuracy : 0.4781424\t1.0000\n",
      "- batch loss and accuracy : 0.3877782\t1.0000\n",
      "- batch loss and accuracy : 0.2911116\t1.0000\n",
      "- batch loss and accuracy : 0.0973692\t1.0000\n",
      "- batch loss and accuracy : 0.0774561\t1.0000\n",
      "- batch loss and accuracy : 3.1925488\t0.0000\n",
      "- batch loss and accuracy : 0.0326645\t1.0000\n",
      "- batch loss and accuracy : 0.0250901\t1.0000\n",
      "- batch loss and accuracy : 0.0251276\t1.0000\n",
      "- batch loss and accuracy : 3.6982589\t0.0000\n",
      "- batch loss and accuracy : 0.0262697\t1.0000\n",
      "- batch loss and accuracy : 0.0330887\t1.0000\n",
      "- batch loss and accuracy : 3.1603079\t0.0000\n",
      "- batch loss and accuracy : 0.0609492\t1.0000\n",
      "- batch loss and accuracy : 2.2731097\t0.0000\n",
      "- batch loss and accuracy : 0.2455566\t1.0000\n"
     ]
    },
    {
     "name": "stderr",
     "output_type": "stream",
     "text": [
      "epoch 3 - train: 228it [00:02, 97.23it/s]"
     ]
    },
    {
     "name": "stdout",
     "output_type": "stream",
     "text": [
      "- batch loss and accuracy : 1.3829403\t0.0000\n",
      "- batch loss and accuracy : 0.8836087\t0.6667\n",
      "- batch loss and accuracy : 1.1657898\t0.0000\n",
      "- batch loss and accuracy : 1.3593519\t0.0000\n",
      "- batch loss and accuracy : 1.6277335\t0.0000\n",
      "- batch loss and accuracy : 1.3908374\t0.0000\n",
      "- batch loss and accuracy : 1.3753399\t0.0000\n",
      "- batch loss and accuracy : 0.8972453\t0.0000\n",
      "- batch loss and accuracy : 0.5730931\t0.6667\n",
      "- batch loss and accuracy : 0.2680637\t1.0000\n",
      "- batch loss and accuracy : 1.9962863\t0.0000\n",
      "- batch loss and accuracy : 2.1687329\t0.0000\n",
      "- batch loss and accuracy : 0.1301015\t1.0000\n",
      "- batch loss and accuracy : 0.0700541\t1.0000\n",
      "- batch loss and accuracy : 2.8454788\t0.0000\n",
      "- batch loss and accuracy : 2.3972983\t0.0000\n",
      "- batch loss and accuracy : 0.1288464\t1.0000\n",
      "- batch loss and accuracy : 0.2271935\t1.0000\n",
      "- batch loss and accuracy : 1.2835763\t0.0000\n",
      "- batch loss and accuracy : 0.9206142\t0.3333\n"
     ]
    },
    {
     "name": "stderr",
     "output_type": "stream",
     "text": [
      "epoch 3 - train: 248it [00:02, 96.81it/s]"
     ]
    },
    {
     "name": "stdout",
     "output_type": "stream",
     "text": [
      "- batch loss and accuracy : 0.8634739\t0.3333\n",
      "- batch loss and accuracy : 0.3692757\t1.0000\n",
      "- batch loss and accuracy : 1.4766698\t0.0000\n",
      "- batch loss and accuracy : 1.6783626\t0.0000\n",
      "- batch loss and accuracy : 0.3220255\t1.0000\n",
      "- batch loss and accuracy : 1.6287885\t0.0000\n",
      "- batch loss and accuracy : 0.3895229\t1.0000\n",
      "- batch loss and accuracy : 1.0342681\t0.0000\n",
      "- batch loss and accuracy : 0.5233471\t1.0000\n",
      "- batch loss and accuracy : 0.8611097\t0.0000\n",
      "- batch loss and accuracy : 0.5295224\t1.0000\n",
      "- batch loss and accuracy : 1.0556326\t0.0000\n",
      "- batch loss and accuracy : 0.3814059\t1.0000\n",
      "- batch loss and accuracy : 0.2109172\t1.0000\n",
      "- batch loss and accuracy : 1.8522635\t0.0000\n",
      "- batch loss and accuracy : 1.7227774\t0.0000\n"
     ]
    },
    {
     "name": "stderr",
     "output_type": "stream",
     "text": [
      "epoch 3 - train: 249it [00:02, 85.48it/s]\n",
      "epoch 3 - validation: 100%|██████████| 63/63 [00:00<00:00, 105.55it/s]\n"
     ]
    },
    {
     "name": "stdout",
     "output_type": "stream",
     "text": [
      "Validation loss and accuracy : 0.6171570\t0.7143\n",
      "- saved best model: val_loss = 0.6171570420265198 val_accuracy = 0.714285671710968\n",
      "EPOCH 4\n"
     ]
    },
    {
     "name": "stderr",
     "output_type": "stream",
     "text": [
      "epoch 4 - train: 5it [00:00, 43.92it/s]"
     ]
    },
    {
     "name": "stdout",
     "output_type": "stream",
     "text": [
      "- batch loss and accuracy : 0.2052153\t1.0000\n",
      "- batch loss and accuracy : 0.2714993\t1.0000\n",
      "- batch loss and accuracy : 0.2794445\t1.0000\n",
      "- batch loss and accuracy : 0.2080638\t1.0000\n",
      "- batch loss and accuracy : 0.2304913\t1.0000\n",
      "- batch loss and accuracy : 1.3648891\t0.0000\n",
      "- batch loss and accuracy : 0.2309266\t1.0000\n"
     ]
    },
    {
     "name": "stderr",
     "output_type": "stream",
     "text": [
      "epoch 4 - train: 14it [00:00, 69.44it/s]"
     ]
    },
    {
     "name": "stdout",
     "output_type": "stream",
     "text": [
      "- batch loss and accuracy : 0.3486433\t1.0000\n",
      "- batch loss and accuracy : 0.2903518\t1.0000\n",
      "- batch loss and accuracy : 1.7633485\t0.0000\n",
      "- batch loss and accuracy : 1.6310529\t0.0000\n",
      "- batch loss and accuracy : 0.4166767\t1.0000\n",
      "- batch loss and accuracy : 1.1169548\t0.0000\n",
      "- batch loss and accuracy : 0.5881304\t0.6667\n",
      "- batch loss and accuracy : 0.6561403\t0.3333\n",
      "- batch loss and accuracy : 0.6866280\t0.6667\n",
      "- batch loss and accuracy : 0.8992395\t0.3333\n",
      "- batch loss and accuracy : 0.8879263\t0.0000\n"
     ]
    },
    {
     "name": "stderr",
     "output_type": "stream",
     "text": [
      "epoch 4 - train: 23it [00:00, 77.22it/s]"
     ]
    },
    {
     "name": "stdout",
     "output_type": "stream",
     "text": [
      "- batch loss and accuracy : 1.0087843\t0.0000\n",
      "- batch loss and accuracy : 0.6024787\t1.0000\n",
      "- batch loss and accuracy : 0.8382450\t0.0000\n",
      "- batch loss and accuracy : 0.2942217\t1.0000\n",
      "- batch loss and accuracy : 0.3147932\t1.0000\n",
      "- batch loss and accuracy : 0.1528416\t1.0000\n",
      "- batch loss and accuracy : 0.0881282\t1.0000\n",
      "- batch loss and accuracy : 2.8807659\t0.0000\n"
     ]
    },
    {
     "name": "stderr",
     "output_type": "stream",
     "text": [
      "epoch 4 - train: 33it [00:00, 82.82it/s]"
     ]
    },
    {
     "name": "stdout",
     "output_type": "stream",
     "text": [
      "- batch loss and accuracy : 2.7366891\t0.0000\n",
      "- batch loss and accuracy : 2.4534547\t0.0000\n",
      "- batch loss and accuracy : 0.2016463\t1.0000\n",
      "- batch loss and accuracy : 0.3147725\t1.0000\n",
      "- batch loss and accuracy : 0.9401991\t0.0000\n",
      "- batch loss and accuracy : 0.7850365\t0.3333\n",
      "- batch loss and accuracy : 0.8045291\t0.3333\n",
      "- batch loss and accuracy : 1.0571027\t0.0000\n",
      "- batch loss and accuracy : 1.1302476\t0.0000\n",
      "- batch loss and accuracy : 0.3858702\t1.0000\n"
     ]
    },
    {
     "name": "stderr",
     "output_type": "stream",
     "text": [
      "epoch 4 - train: 42it [00:00, 79.56it/s]"
     ]
    },
    {
     "name": "stdout",
     "output_type": "stream",
     "text": [
      "- batch loss and accuracy : 0.2992743\t1.0000\n",
      "- batch loss and accuracy : 1.2345364\t0.0000\n",
      "- batch loss and accuracy : 1.1725683\t0.0000\n",
      "- batch loss and accuracy : 0.8427917\t0.3333\n",
      "- batch loss and accuracy : 0.7277788\t0.3333\n",
      "- batch loss and accuracy : 0.3693528\t1.0000\n"
     ]
    },
    {
     "name": "stderr",
     "output_type": "stream",
     "text": [
      "epoch 4 - train: 51it [00:00, 80.00it/s]"
     ]
    },
    {
     "name": "stdout",
     "output_type": "stream",
     "text": [
      "- batch loss and accuracy : 0.2428135\t1.0000\n",
      "- batch loss and accuracy : 0.1179633\t1.0000\n",
      "- batch loss and accuracy : 3.0389555\t0.0000\n",
      "- batch loss and accuracy : 3.1582017\t0.0000\n",
      "- batch loss and accuracy : 3.4132094\t0.0000\n",
      "- batch loss and accuracy : 2.8470016\t0.0000\n",
      "- batch loss and accuracy : 2.0867901\t0.0000\n",
      "- batch loss and accuracy : 0.2895698\t1.0000\n",
      "- batch loss and accuracy : 0.3417282\t1.0000\n",
      "- batch loss and accuracy : 0.7374074\t0.6667\n",
      "- batch loss and accuracy : 0.5009829\t0.6667\n",
      "- batch loss and accuracy : 0.3334582\t1.0000\n",
      "- batch loss and accuracy : 0.2538376\t1.0000\n",
      "- batch loss and accuracy : 0.1207036\t1.0000\n",
      "- batch loss and accuracy : 2.7266376\t0.0000\n",
      "- batch loss and accuracy : 0.0975079\t1.0000\n",
      "- batch loss and accuracy : 2.5980737\t0.0000\n"
     ]
    },
    {
     "name": "stderr",
     "output_type": "stream",
     "text": [
      "epoch 4 - train: 70it [00:00, 85.11it/s]"
     ]
    },
    {
     "name": "stdout",
     "output_type": "stream",
     "text": [
      "- batch loss and accuracy : 0.0649986\t1.0000\n",
      "- batch loss and accuracy : 0.1074675\t1.0000\n",
      "- batch loss and accuracy : 2.4984024\t0.0000\n",
      "- batch loss and accuracy : 1.9676850\t0.0000\n",
      "- batch loss and accuracy : 0.2066045\t1.0000\n",
      "- batch loss and accuracy : 1.2054412\t0.0000\n",
      "- batch loss and accuracy : 0.7185261\t0.6667\n",
      "- batch loss and accuracy : 0.5156097\t1.0000\n",
      "- batch loss and accuracy : 0.2875164\t1.0000\n",
      "- batch loss and accuracy : 0.1999300\t1.0000\n",
      "- batch loss and accuracy : 0.0847582\t1.0000\n",
      "- batch loss and accuracy : 0.0656418\t1.0000\n",
      "- batch loss and accuracy : 0.0266968\t1.0000\n",
      "- batch loss and accuracy : 0.0211495\t1.0000\n",
      "- batch loss and accuracy : 4.4862223\t0.0000\n",
      "- batch loss and accuracy : 0.0097118\t1.0000\n",
      "- batch loss and accuracy : 0.0133883\t1.0000\n",
      "- batch loss and accuracy : 0.0106219\t1.0000\n",
      "- batch loss and accuracy : 0.0133574\t1.0000\n"
     ]
    },
    {
     "name": "stderr",
     "output_type": "stream",
     "text": [
      "epoch 4 - train: 88it [00:01, 85.29it/s]"
     ]
    },
    {
     "name": "stdout",
     "output_type": "stream",
     "text": [
      "- batch loss and accuracy : 0.0141456\t1.0000\n",
      "- batch loss and accuracy : 0.0067584\t1.0000\n",
      "- batch loss and accuracy : 0.0080016\t1.0000\n",
      "- batch loss and accuracy : 0.0081273\t1.0000\n",
      "- batch loss and accuracy : 0.0084856\t1.0000\n",
      "- batch loss and accuracy : 0.0052695\t1.0000\n",
      "- batch loss and accuracy : 0.0045912\t1.0000\n",
      "- batch loss and accuracy : 0.0041682\t1.0000\n",
      "- batch loss and accuracy : 5.2245936\t0.0000\n",
      "- batch loss and accuracy : 0.0091968\t1.0000\n",
      "- batch loss and accuracy : 0.0121364\t1.0000\n",
      "- batch loss and accuracy : 4.2556038\t0.0000\n",
      "- batch loss and accuracy : 0.0150289\t1.0000\n",
      "- batch loss and accuracy : 0.0319314\t1.0000\n",
      "- batch loss and accuracy : 0.0617787\t1.0000\n",
      "- batch loss and accuracy : 2.4260156\t0.0000\n",
      "- batch loss and accuracy : 1.9919043\t0.0000\n",
      "- batch loss and accuracy : 1.0586265\t0.0000\n"
     ]
    },
    {
     "name": "stderr",
     "output_type": "stream",
     "text": [
      "epoch 4 - train: 98it [00:01, 87.90it/s]"
     ]
    },
    {
     "name": "stdout",
     "output_type": "stream",
     "text": [
      "- batch loss and accuracy : 0.8235189\t0.0000\n",
      "- batch loss and accuracy : 1.5562520\t0.0000\n",
      "- batch loss and accuracy : 1.9314933\t0.0000\n",
      "- batch loss and accuracy : 1.7330010\t0.0000\n",
      "- batch loss and accuracy : 1.4107503\t0.0000\n",
      "- batch loss and accuracy : 0.4374208\t1.0000\n",
      "- batch loss and accuracy : 0.4490379\t1.0000\n",
      "- batch loss and accuracy : 0.7546246\t0.0000\n",
      "- batch loss and accuracy : 0.6169413\t1.0000\n"
     ]
    },
    {
     "name": "stderr",
     "output_type": "stream",
     "text": [
      "epoch 4 - train: 107it [00:01, 83.20it/s]"
     ]
    },
    {
     "name": "stdout",
     "output_type": "stream",
     "text": [
      "- batch loss and accuracy : 1.1041254\t0.3333\n",
      "- batch loss and accuracy : 0.4639266\t1.0000\n",
      "- batch loss and accuracy : 0.2941287\t1.0000\n",
      "- batch loss and accuracy : 0.1828524\t1.0000\n",
      "- batch loss and accuracy : 1.4319189\t0.0000\n",
      "- batch loss and accuracy : 0.1683992\t1.0000\n",
      "- batch loss and accuracy : 0.1400512\t1.0000\n",
      "- batch loss and accuracy : 2.3322504\t0.0000\n"
     ]
    },
    {
     "name": "stderr",
     "output_type": "stream",
     "text": [
      "epoch 4 - train: 116it [00:01, 84.21it/s]"
     ]
    },
    {
     "name": "stdout",
     "output_type": "stream",
     "text": [
      "- batch loss and accuracy : 0.1626576\t1.0000\n",
      "- batch loss and accuracy : 1.6857389\t0.0000\n",
      "- batch loss and accuracy : 0.1738276\t1.0000\n",
      "- batch loss and accuracy : 1.4978862\t0.0000\n",
      "- batch loss and accuracy : 0.3957072\t1.0000\n",
      "- batch loss and accuracy : 1.0150571\t0.0000\n",
      "- batch loss and accuracy : 0.8881438\t0.3333\n",
      "- batch loss and accuracy : 1.2121261\t0.0000\n",
      "- batch loss and accuracy : 0.9705285\t0.0000\n"
     ]
    },
    {
     "name": "stderr",
     "output_type": "stream",
     "text": [
      "epoch 4 - train: 125it [00:01, 84.31it/s]"
     ]
    },
    {
     "name": "stdout",
     "output_type": "stream",
     "text": [
      "- batch loss and accuracy : 1.0083842\t0.0000\n",
      "- batch loss and accuracy : 0.6280295\t1.0000\n",
      "- batch loss and accuracy : 0.7754966\t0.3333\n",
      "- batch loss and accuracy : 0.6594064\t0.3333\n",
      "- batch loss and accuracy : 1.0493282\t0.0000\n",
      "- batch loss and accuracy : 0.9973337\t0.3333\n",
      "- batch loss and accuracy : 0.6636004\t0.6667\n",
      "- batch loss and accuracy : 0.4858717\t1.0000\n",
      "- batch loss and accuracy : 0.7396752\t0.6667\n"
     ]
    },
    {
     "name": "stderr",
     "output_type": "stream",
     "text": [
      "epoch 4 - train: 134it [00:01, 82.19it/s]"
     ]
    },
    {
     "name": "stdout",
     "output_type": "stream",
     "text": [
      "- batch loss and accuracy : 0.9433236\t0.3333\n",
      "- batch loss and accuracy : 0.6912100\t0.3333\n",
      "- batch loss and accuracy : 0.5910959\t0.6667\n",
      "- batch loss and accuracy : 1.0059185\t0.0000\n",
      "- batch loss and accuracy : 0.4514715\t1.0000\n",
      "- batch loss and accuracy : 1.2446558\t0.0000\n",
      "- batch loss and accuracy : 0.3552008\t1.0000\n",
      "- batch loss and accuracy : 0.3721683\t1.0000\n",
      "- batch loss and accuracy : 0.3229989\t1.0000\n"
     ]
    },
    {
     "name": "stderr",
     "output_type": "stream",
     "text": [
      "epoch 4 - train: 143it [00:01, 84.11it/s]"
     ]
    },
    {
     "name": "stdout",
     "output_type": "stream",
     "text": [
      "- batch loss and accuracy : 1.6552494\t0.0000\n",
      "- batch loss and accuracy : 0.2533422\t1.0000\n",
      "- batch loss and accuracy : 0.1804498\t1.0000\n",
      "- batch loss and accuracy : 0.1948969\t1.0000\n",
      "- batch loss and accuracy : 1.6159576\t0.0000\n",
      "- batch loss and accuracy : 0.1879745\t1.0000\n",
      "- batch loss and accuracy : 1.6265609\t0.0000\n",
      "- batch loss and accuracy : 0.3222807\t1.0000\n",
      "- batch loss and accuracy : 0.3034143\t1.0000\n"
     ]
    },
    {
     "name": "stderr",
     "output_type": "stream",
     "text": [
      "epoch 4 - train: 153it [00:01, 87.08it/s]"
     ]
    },
    {
     "name": "stdout",
     "output_type": "stream",
     "text": [
      "- batch loss and accuracy : 0.3574470\t1.0000\n",
      "- batch loss and accuracy : 0.9623410\t0.0000\n",
      "- batch loss and accuracy : 0.8831891\t0.0000\n",
      "- batch loss and accuracy : 0.6562080\t0.6667\n",
      "- batch loss and accuracy : 0.6821889\t0.6667\n",
      "- batch loss and accuracy : 0.6290716\t0.6667\n",
      "- batch loss and accuracy : 0.6033953\t1.0000\n",
      "- batch loss and accuracy : 0.9195916\t0.0000\n",
      "- batch loss and accuracy : 1.1623766\t0.0000\n"
     ]
    },
    {
     "name": "stderr",
     "output_type": "stream",
     "text": [
      "epoch 4 - train: 163it [00:01, 88.85it/s]"
     ]
    },
    {
     "name": "stdout",
     "output_type": "stream",
     "text": [
      "- batch loss and accuracy : 0.5212964\t1.0000\n",
      "- batch loss and accuracy : 1.0587653\t0.3333\n",
      "- batch loss and accuracy : 0.7257433\t0.3333\n",
      "- batch loss and accuracy : 0.7385508\t0.3333\n",
      "- batch loss and accuracy : 0.6565101\t0.3333\n",
      "- batch loss and accuracy : 0.9301639\t0.0000\n",
      "- batch loss and accuracy : 1.0345414\t0.0000\n",
      "- batch loss and accuracy : 1.1626641\t0.0000\n",
      "- batch loss and accuracy : 0.6897218\t0.3333\n",
      "- batch loss and accuracy : 0.8043609\t0.3333\n"
     ]
    },
    {
     "name": "stderr",
     "output_type": "stream",
     "text": [
      "epoch 4 - train: 172it [00:02, 85.81it/s]"
     ]
    },
    {
     "name": "stdout",
     "output_type": "stream",
     "text": [
      "- batch loss and accuracy : 0.4414506\t1.0000\n",
      "- batch loss and accuracy : 1.5015134\t0.0000\n",
      "- batch loss and accuracy : 0.3961459\t1.0000\n",
      "- batch loss and accuracy : 0.3438177\t1.0000\n",
      "- batch loss and accuracy : 0.2179502\t1.0000\n",
      "- batch loss and accuracy : 0.1345363\t1.0000\n",
      "- batch loss and accuracy : 0.1079445\t1.0000\n"
     ]
    },
    {
     "name": "stderr",
     "output_type": "stream",
     "text": [
      "epoch 4 - train: 181it [00:02, 85.10it/s]"
     ]
    },
    {
     "name": "stdout",
     "output_type": "stream",
     "text": [
      "- batch loss and accuracy : 0.0862317\t1.0000\n",
      "- batch loss and accuracy : 0.0790681\t1.0000\n",
      "- batch loss and accuracy : 0.0607445\t1.0000\n",
      "- batch loss and accuracy : 0.0409857\t1.0000\n",
      "- batch loss and accuracy : 0.0332267\t1.0000\n",
      "- batch loss and accuracy : 3.8492904\t0.0000\n",
      "- batch loss and accuracy : 0.0426275\t1.0000\n",
      "- batch loss and accuracy : 3.4889355\t0.0000\n",
      "- batch loss and accuracy : 0.0640467\t1.0000\n"
     ]
    },
    {
     "name": "stderr",
     "output_type": "stream",
     "text": [
      "epoch 4 - train: 190it [00:02, 81.74it/s]"
     ]
    },
    {
     "name": "stdout",
     "output_type": "stream",
     "text": [
      "- batch loss and accuracy : 0.0612151\t1.0000\n",
      "- batch loss and accuracy : 0.0836217\t1.0000\n",
      "- batch loss and accuracy : 2.3849072\t0.0000\n",
      "- batch loss and accuracy : 0.1592237\t1.0000\n",
      "- batch loss and accuracy : 0.2898140\t1.0000\n",
      "- batch loss and accuracy : 0.2810649\t1.0000\n",
      "- batch loss and accuracy : 1.2549109\t0.0000\n",
      "- batch loss and accuracy : 0.5671597\t1.0000\n"
     ]
    },
    {
     "name": "stderr",
     "output_type": "stream",
     "text": [
      "epoch 4 - train: 199it [00:02, 82.82it/s]"
     ]
    },
    {
     "name": "stdout",
     "output_type": "stream",
     "text": [
      "- batch loss and accuracy : 0.6358526\t0.6667\n",
      "- batch loss and accuracy : 0.5703702\t0.6667\n",
      "- batch loss and accuracy : 0.6527594\t0.6667\n",
      "- batch loss and accuracy : 0.4365529\t1.0000\n",
      "- batch loss and accuracy : 0.3520063\t1.0000\n",
      "- batch loss and accuracy : 0.2644341\t1.0000\n",
      "- batch loss and accuracy : 0.2018897\t1.0000\n",
      "- batch loss and accuracy : 0.0869505\t1.0000\n",
      "- batch loss and accuracy : 0.0555850\t1.0000\n"
     ]
    },
    {
     "name": "stderr",
     "output_type": "stream",
     "text": [
      "epoch 4 - train: 210it [00:02, 88.65it/s]"
     ]
    },
    {
     "name": "stdout",
     "output_type": "stream",
     "text": [
      "- batch loss and accuracy : 0.0327360\t1.0000\n",
      "- batch loss and accuracy : 0.0212674\t1.0000\n",
      "- batch loss and accuracy : 0.0249876\t1.0000\n",
      "- batch loss and accuracy : 0.0124995\t1.0000\n",
      "- batch loss and accuracy : 0.0086606\t1.0000\n",
      "- batch loss and accuracy : 0.0070019\t1.0000\n",
      "- batch loss and accuracy : 0.0062154\t1.0000\n",
      "- batch loss and accuracy : 0.0054708\t1.0000\n",
      "- batch loss and accuracy : 5.7518234\t0.0000\n",
      "- batch loss and accuracy : 0.0039873\t1.0000\n"
     ]
    },
    {
     "name": "stderr",
     "output_type": "stream",
     "text": [
      "epoch 4 - train: 219it [00:02, 87.85it/s]"
     ]
    },
    {
     "name": "stdout",
     "output_type": "stream",
     "text": [
      "- batch loss and accuracy : 0.0056758\t1.0000\n",
      "- batch loss and accuracy : 0.0043049\t1.0000\n",
      "- batch loss and accuracy : 0.0053120\t1.0000\n",
      "- batch loss and accuracy : 0.0067692\t1.0000\n",
      "- batch loss and accuracy : 4.8472281\t0.0000\n",
      "- batch loss and accuracy : 0.0123685\t1.0000\n",
      "- batch loss and accuracy : 0.0179467\t1.0000\n",
      "- batch loss and accuracy : 0.0333419\t1.0000\n",
      "- batch loss and accuracy : 3.6795127\t0.0000\n",
      "- batch loss and accuracy : 3.2067938\t0.0000\n"
     ]
    },
    {
     "name": "stderr",
     "output_type": "stream",
     "text": [
      "epoch 4 - train: 229it [00:02, 91.28it/s]"
     ]
    },
    {
     "name": "stdout",
     "output_type": "stream",
     "text": [
      "- batch loss and accuracy : 0.1935735\t1.0000\n",
      "- batch loss and accuracy : 0.1588761\t1.0000\n",
      "- batch loss and accuracy : 0.4586110\t1.0000\n",
      "- batch loss and accuracy : 0.6375421\t1.0000\n",
      "- batch loss and accuracy : 0.6944336\t0.3333\n",
      "- batch loss and accuracy : 0.6278416\t0.6667\n",
      "- batch loss and accuracy : 0.6199574\t0.6667\n",
      "- batch loss and accuracy : 0.5283796\t1.0000\n",
      "- batch loss and accuracy : 0.3865362\t1.0000\n"
     ]
    },
    {
     "name": "stderr",
     "output_type": "stream",
     "text": [
      "epoch 4 - train: 239it [00:02, 89.16it/s]"
     ]
    },
    {
     "name": "stdout",
     "output_type": "stream",
     "text": [
      "- batch loss and accuracy : 1.3063792\t0.0000\n",
      "- batch loss and accuracy : 1.7309387\t0.0000\n",
      "- batch loss and accuracy : 0.1872386\t1.0000\n",
      "- batch loss and accuracy : 0.2873456\t1.0000\n",
      "- batch loss and accuracy : 1.6577528\t0.0000\n",
      "- batch loss and accuracy : 0.3803600\t1.0000\n",
      "- batch loss and accuracy : 0.3452915\t1.0000\n",
      "- batch loss and accuracy : 1.3171840\t0.0000\n",
      "- batch loss and accuracy : 0.4641548\t1.0000\n",
      "- batch loss and accuracy : 0.3529301\t1.0000\n"
     ]
    },
    {
     "name": "stderr",
     "output_type": "stream",
     "text": [
      "epoch 4 - train: 249it [00:02, 91.21it/s]"
     ]
    },
    {
     "name": "stdout",
     "output_type": "stream",
     "text": [
      "- batch loss and accuracy : 0.5409986\t1.0000\n",
      "- batch loss and accuracy : 0.2860463\t1.0000\n",
      "- batch loss and accuracy : 0.4077761\t1.0000\n",
      "- batch loss and accuracy : 1.6326911\t0.0000\n",
      "- batch loss and accuracy : 0.2994416\t1.0000\n",
      "- batch loss and accuracy : 0.1947940\t1.0000\n",
      "- batch loss and accuracy : 0.1866655\t1.0000\n",
      "- batch loss and accuracy : 1.9548500\t0.0000\n",
      "- batch loss and accuracy : 1.8511455\t0.0000\n"
     ]
    },
    {
     "name": "stderr",
     "output_type": "stream",
     "text": [
      "epoch 4 - train: 249it [00:02, 84.12it/s]\n",
      "epoch 4 - validation: 100%|██████████| 63/63 [00:00<00:00, 113.08it/s]"
     ]
    },
    {
     "name": "stdout",
     "output_type": "stream",
     "text": [
      "Validation loss and accuracy : 0.6120654\t0.6984\n",
      "- saved best model: val_loss = 0.6120654344558716 val_accuracy = 0.6984126567840576\n",
      "EPOCH 5\n"
     ]
    },
    {
     "name": "stderr",
     "output_type": "stream",
     "text": [
      "\n",
      "epoch 5 - train: 8it [00:00, 75.07it/s]"
     ]
    },
    {
     "name": "stdout",
     "output_type": "stream",
     "text": [
      "- batch loss and accuracy : 0.2576279\t1.0000\n",
      "- batch loss and accuracy : 1.2126023\t0.0000\n",
      "- batch loss and accuracy : 0.6096575\t0.6667\n",
      "- batch loss and accuracy : 0.6567535\t0.6667\n",
      "- batch loss and accuracy : 0.5870992\t0.6667\n",
      "- batch loss and accuracy : 0.5932185\t1.0000\n",
      "- batch loss and accuracy : 0.6791320\t0.6667\n",
      "- batch loss and accuracy : 0.3976622\t1.0000\n",
      "- batch loss and accuracy : 0.2679306\t1.0000\n",
      "- batch loss and accuracy : 0.2209653\t1.0000\n",
      "- batch loss and accuracy : 0.0620553\t1.0000\n",
      "- batch loss and accuracy : 2.8954859\t0.0000\n"
     ]
    },
    {
     "name": "stderr",
     "output_type": "stream",
     "text": [
      "epoch 5 - train: 18it [00:00, 87.63it/s]"
     ]
    },
    {
     "name": "stdout",
     "output_type": "stream",
     "text": [
      "- batch loss and accuracy : 0.0666143\t1.0000\n",
      "- batch loss and accuracy : 2.9687986\t0.0000\n",
      "- batch loss and accuracy : 0.0554131\t1.0000\n",
      "- batch loss and accuracy : 0.0805839\t1.0000\n",
      "- batch loss and accuracy : 0.0773711\t1.0000\n",
      "- batch loss and accuracy : 0.0864625\t1.0000\n",
      "- batch loss and accuracy : 0.1726198\t1.0000\n",
      "- batch loss and accuracy : 0.1488319\t1.0000\n"
     ]
    },
    {
     "name": "stderr",
     "output_type": "stream",
     "text": [
      "epoch 5 - train: 28it [00:00, 92.13it/s]"
     ]
    },
    {
     "name": "stdout",
     "output_type": "stream",
     "text": [
      "- batch loss and accuracy : 0.0900988\t1.0000\n",
      "- batch loss and accuracy : 0.0937381\t1.0000\n",
      "- batch loss and accuracy : 2.4526982\t0.0000\n",
      "- batch loss and accuracy : 2.3185699\t0.0000\n",
      "- batch loss and accuracy : 0.1889931\t1.0000\n",
      "- batch loss and accuracy : 0.2802182\t1.0000\n",
      "- batch loss and accuracy : 0.3668596\t1.0000\n",
      "- batch loss and accuracy : 0.3402722\t1.0000\n",
      "- batch loss and accuracy : 1.3091543\t0.0000\n",
      "- batch loss and accuracy : 0.5692049\t0.6667\n",
      "- batch loss and accuracy : 0.8802198\t0.0000\n",
      "- batch loss and accuracy : 0.6872398\t0.3333\n",
      "- batch loss and accuracy : 0.7193784\t0.6667\n"
     ]
    },
    {
     "name": "stderr",
     "output_type": "stream",
     "text": [
      "epoch 5 - train: 39it [00:00, 98.56it/s]"
     ]
    },
    {
     "name": "stdout",
     "output_type": "stream",
     "text": [
      "- batch loss and accuracy : 0.6617734\t0.6667\n",
      "- batch loss and accuracy : 0.5750703\t1.0000\n",
      "- batch loss and accuracy : 0.4868967\t1.0000\n",
      "- batch loss and accuracy : 1.6515349\t0.0000\n",
      "- batch loss and accuracy : 0.1819551\t1.0000\n",
      "- batch loss and accuracy : 0.2181758\t1.0000\n",
      "- batch loss and accuracy : 0.1881048\t1.0000\n",
      "- batch loss and accuracy : 2.1966112\t0.0000\n",
      "- batch loss and accuracy : 0.1425613\t1.0000\n"
     ]
    },
    {
     "name": "stderr",
     "output_type": "stream",
     "text": [
      "epoch 5 - train: 49it [00:00, 98.16it/s]"
     ]
    },
    {
     "name": "stdout",
     "output_type": "stream",
     "text": [
      "- batch loss and accuracy : 0.1672288\t1.0000\n",
      "- batch loss and accuracy : 0.1465519\t1.0000\n",
      "- batch loss and accuracy : 2.0150099\t0.0000\n",
      "- batch loss and accuracy : 0.2035520\t1.0000\n",
      "- batch loss and accuracy : 0.1973060\t1.0000\n",
      "- batch loss and accuracy : 0.2017037\t1.0000\n",
      "- batch loss and accuracy : 0.1722944\t1.0000\n",
      "- batch loss and accuracy : 1.9676607\t0.0000\n",
      "- batch loss and accuracy : 1.9557867\t0.0000\n",
      "- batch loss and accuracy : 1.2189093\t0.0000\n",
      "- batch loss and accuracy : 0.5681983\t0.6667\n"
     ]
    },
    {
     "name": "stderr",
     "output_type": "stream",
     "text": [
      "epoch 5 - train: 59it [00:00, 98.08it/s]"
     ]
    },
    {
     "name": "stdout",
     "output_type": "stream",
     "text": [
      "- batch loss and accuracy : 0.8725317\t0.0000\n",
      "- batch loss and accuracy : 0.4262824\t1.0000\n",
      "- batch loss and accuracy : 1.1702579\t0.0000\n",
      "- batch loss and accuracy : 1.4439094\t0.0000\n",
      "- batch loss and accuracy : 0.3346224\t1.0000\n",
      "- batch loss and accuracy : 0.4131501\t1.0000\n",
      "- batch loss and accuracy : 0.9687704\t0.0000\n",
      "- batch loss and accuracy : 0.8991286\t0.0000\n",
      "- batch loss and accuracy : 0.7717366\t0.3333\n",
      "- batch loss and accuracy : 1.0849555\t0.0000\n"
     ]
    },
    {
     "name": "stderr",
     "output_type": "stream",
     "text": [
      "epoch 5 - train: 70it [00:00, 101.61it/s]"
     ]
    },
    {
     "name": "stdout",
     "output_type": "stream",
     "text": [
      "- batch loss and accuracy : 0.4884408\t0.6667\n",
      "- batch loss and accuracy : 0.3379723\t1.0000\n",
      "- batch loss and accuracy : 0.1844770\t1.0000\n",
      "- batch loss and accuracy : 2.0785146\t0.0000\n",
      "- batch loss and accuracy : 0.1116648\t1.0000\n",
      "- batch loss and accuracy : 1.7177414\t0.0000\n",
      "- batch loss and accuracy : 0.1366529\t1.0000\n",
      "- batch loss and accuracy : 0.1728286\t1.0000\n",
      "- batch loss and accuracy : 0.1664518\t1.0000\n",
      "- batch loss and accuracy : 0.1502410\t1.0000\n",
      "- batch loss and accuracy : 0.1692863\t1.0000\n",
      "- batch loss and accuracy : 0.1632688\t1.0000\n"
     ]
    },
    {
     "name": "stderr",
     "output_type": "stream",
     "text": [
      "epoch 5 - train: 81it [00:00, 102.65it/s]"
     ]
    },
    {
     "name": "stdout",
     "output_type": "stream",
     "text": [
      "- batch loss and accuracy : 2.5221539\t0.0000\n",
      "- batch loss and accuracy : 2.1496196\t0.0000\n",
      "- batch loss and accuracy : 0.2254486\t1.0000\n",
      "- batch loss and accuracy : 1.2800375\t0.0000\n",
      "- batch loss and accuracy : 0.4189194\t1.0000\n",
      "- batch loss and accuracy : 0.8874536\t0.0000\n",
      "- batch loss and accuracy : 0.8415457\t0.0000\n",
      "- batch loss and accuracy : 0.7167145\t0.3333\n",
      "- batch loss and accuracy : 0.4982914\t1.0000\n",
      "- batch loss and accuracy : 1.2357924\t0.3333\n"
     ]
    },
    {
     "name": "stderr",
     "output_type": "stream",
     "text": [
      "epoch 5 - train: 92it [00:00, 99.57it/s] "
     ]
    },
    {
     "name": "stdout",
     "output_type": "stream",
     "text": [
      "- batch loss and accuracy : 0.8989319\t0.0000\n",
      "- batch loss and accuracy : 0.8531394\t0.3333\n",
      "- batch loss and accuracy : 0.7706255\t0.3333\n",
      "- batch loss and accuracy : 0.5632852\t0.6667\n",
      "- batch loss and accuracy : 0.4169912\t1.0000\n",
      "- batch loss and accuracy : 0.4145291\t0.6667\n",
      "- batch loss and accuracy : 0.2623298\t1.0000\n",
      "- batch loss and accuracy : 1.9954355\t0.0000\n",
      "- batch loss and accuracy : 0.1177594\t1.0000\n",
      "- batch loss and accuracy : 0.0678498\t1.0000\n"
     ]
    },
    {
     "name": "stderr",
     "output_type": "stream",
     "text": [
      "epoch 5 - train: 102it [00:01, 95.20it/s]"
     ]
    },
    {
     "name": "stdout",
     "output_type": "stream",
     "text": [
      "- batch loss and accuracy : 0.0819108\t1.0000\n",
      "- batch loss and accuracy : 0.0885377\t1.0000\n",
      "- batch loss and accuracy : 2.9354653\t0.0000\n",
      "- batch loss and accuracy : 2.8731430\t0.0000\n",
      "- batch loss and accuracy : 0.0773120\t1.0000\n",
      "- batch loss and accuracy : 0.1400668\t1.0000\n",
      "- batch loss and accuracy : 0.1847878\t1.0000\n",
      "- batch loss and accuracy : 0.2992147\t1.0000\n"
     ]
    },
    {
     "name": "stderr",
     "output_type": "stream",
     "text": [
      "epoch 5 - train: 112it [00:01, 91.10it/s]"
     ]
    },
    {
     "name": "stdout",
     "output_type": "stream",
     "text": [
      "- batch loss and accuracy : 1.1255704\t0.0000\n",
      "- batch loss and accuracy : 0.3376813\t1.0000\n",
      "- batch loss and accuracy : 0.8527109\t0.3333\n",
      "- batch loss and accuracy : 0.7311590\t0.3333\n",
      "- batch loss and accuracy : 0.8233120\t0.3333\n",
      "- batch loss and accuracy : 0.5975730\t0.6667\n",
      "- batch loss and accuracy : 0.3896712\t1.0000\n",
      "- batch loss and accuracy : 1.6820469\t0.0000\n",
      "- batch loss and accuracy : 1.6554539\t0.0000\n",
      "- batch loss and accuracy : 1.8619001\t0.0000\n",
      "- batch loss and accuracy : 0.2634619\t1.0000\n",
      "- batch loss and accuracy : 0.8426858\t0.0000\n",
      "- batch loss and accuracy : 1.0954719\t0.0000\n",
      "- batch loss and accuracy : 0.8119102\t0.3333\n",
      "- batch loss and accuracy : 0.3632161\t1.0000\n",
      "- batch loss and accuracy : 0.2605574\t1.0000\n",
      "- batch loss and accuracy : 0.2656451\t1.0000\n",
      "- batch loss and accuracy : 0.0902692\t1.0000\n",
      "- batch loss and accuracy : 0.0759175\t1.0000\n",
      "- batch loss and accuracy : 3.1428459\t0.0000\n"
     ]
    },
    {
     "name": "stderr",
     "output_type": "stream",
     "text": [
      "epoch 5 - train: 134it [00:01, 96.31it/s]"
     ]
    },
    {
     "name": "stdout",
     "output_type": "stream",
     "text": [
      "- batch loss and accuracy : 0.0426078\t1.0000\n",
      "- batch loss and accuracy : 0.0270101\t1.0000\n",
      "- batch loss and accuracy : 3.6087246\t0.0000\n",
      "- batch loss and accuracy : 3.2272968\t0.0000\n",
      "- batch loss and accuracy : 0.0700070\t1.0000\n",
      "- batch loss and accuracy : 2.0800235\t0.0000\n",
      "- batch loss and accuracy : 0.1701520\t1.0000\n",
      "- batch loss and accuracy : 0.4033506\t1.0000\n",
      "- batch loss and accuracy : 0.7028810\t0.6667\n",
      "- batch loss and accuracy : 0.7341470\t0.6667\n",
      "- batch loss and accuracy : 0.7480245\t0.3333\n",
      "- batch loss and accuracy : 0.6185683\t0.6667\n",
      "- batch loss and accuracy : 0.4700088\t1.0000\n",
      "- batch loss and accuracy : 0.4392777\t1.0000\n",
      "- batch loss and accuracy : 0.2333125\t1.0000\n",
      "- batch loss and accuracy : 0.1681357\t1.0000\n",
      "- batch loss and accuracy : 0.0703035\t1.0000\n",
      "- batch loss and accuracy : 2.9333076\t0.0000\n",
      "- batch loss and accuracy : 3.1593864\t0.0000\n",
      "- batch loss and accuracy : 3.0433731\t0.0000\n",
      "- batch loss and accuracy : 2.3446891\t0.0000\n"
     ]
    },
    {
     "name": "stderr",
     "output_type": "stream",
     "text": [
      "epoch 5 - train: 156it [00:01, 100.96it/s]"
     ]
    },
    {
     "name": "stdout",
     "output_type": "stream",
     "text": [
      "- batch loss and accuracy : 1.6303732\t0.0000\n",
      "- batch loss and accuracy : 0.5388991\t1.0000\n",
      "- batch loss and accuracy : 0.9560672\t0.0000\n",
      "- batch loss and accuracy : 0.4248293\t1.0000\n",
      "- batch loss and accuracy : 1.8725088\t0.0000\n",
      "- batch loss and accuracy : 2.0227218\t0.0000\n",
      "- batch loss and accuracy : 1.9189439\t0.0000\n",
      "- batch loss and accuracy : 1.7385409\t0.0000\n",
      "- batch loss and accuracy : 0.8211035\t0.6667\n",
      "- batch loss and accuracy : 0.5398628\t1.0000\n",
      "- batch loss and accuracy : 0.3265820\t1.0000\n",
      "- batch loss and accuracy : 0.1051848\t1.0000\n",
      "- batch loss and accuracy : 0.0536716\t1.0000\n",
      "- batch loss and accuracy : 0.0274065\t1.0000\n",
      "- batch loss and accuracy : 0.0154677\t1.0000\n",
      "- batch loss and accuracy : 0.0086858\t1.0000\n",
      "- batch loss and accuracy : 0.0036050\t1.0000\n",
      "- batch loss and accuracy : 0.0046560\t1.0000\n",
      "- batch loss and accuracy : 6.4648886\t0.0000\n",
      "- batch loss and accuracy : 0.0020244\t1.0000\n",
      "- batch loss and accuracy : 6.7126141\t0.0000\n",
      "- batch loss and accuracy : 5.9435287\t0.0000\n"
     ]
    },
    {
     "name": "stderr",
     "output_type": "stream",
     "text": [
      "epoch 5 - train: 168it [00:01, 103.10it/s]"
     ]
    },
    {
     "name": "stdout",
     "output_type": "stream",
     "text": [
      "- batch loss and accuracy : 5.5198679\t0.0000\n",
      "- batch loss and accuracy : 0.0086578\t1.0000\n",
      "- batch loss and accuracy : 0.0334350\t1.0000\n",
      "- batch loss and accuracy : 2.6655841\t0.0000\n",
      "- batch loss and accuracy : 2.3903742\t0.0000\n",
      "- batch loss and accuracy : 0.3906384\t0.6667\n",
      "- batch loss and accuracy : 0.5568914\t1.0000\n",
      "- batch loss and accuracy : 0.3771018\t1.0000\n",
      "- batch loss and accuracy : 1.5452837\t0.0000\n",
      "- batch loss and accuracy : 2.2752810\t0.0000\n",
      "- batch loss and accuracy : 1.9940623\t0.0000\n"
     ]
    },
    {
     "name": "stderr",
     "output_type": "stream",
     "text": [
      "epoch 5 - train: 179it [00:01, 99.86it/s] "
     ]
    },
    {
     "name": "stdout",
     "output_type": "stream",
     "text": [
      "- batch loss and accuracy : 0.1250957\t1.0000\n",
      "- batch loss and accuracy : 1.8913720\t0.0000\n",
      "- batch loss and accuracy : 1.5894880\t0.0000\n",
      "- batch loss and accuracy : 0.8046110\t0.3333\n",
      "- batch loss and accuracy : 0.6115485\t0.6667\n",
      "- batch loss and accuracy : 0.2482744\t1.0000\n",
      "- batch loss and accuracy : 2.1635957\t0.0000\n",
      "- batch loss and accuracy : 2.7652614\t0.0000\n"
     ]
    },
    {
     "name": "stderr",
     "output_type": "stream",
     "text": [
      "epoch 5 - train: 190it [00:01, 99.84it/s]"
     ]
    },
    {
     "name": "stdout",
     "output_type": "stream",
     "text": [
      "- batch loss and accuracy : 0.0629684\t1.0000\n",
      "- batch loss and accuracy : 0.0617987\t1.0000\n",
      "- batch loss and accuracy : 0.0572498\t1.0000\n",
      "- batch loss and accuracy : 0.0427949\t1.0000\n",
      "- batch loss and accuracy : 3.4725823\t0.0000\n",
      "- batch loss and accuracy : 0.0631568\t1.0000\n",
      "- batch loss and accuracy : 0.0451129\t1.0000\n",
      "- batch loss and accuracy : 2.6236219\t0.0000\n",
      "- batch loss and accuracy : 0.0765782\t1.0000\n",
      "- batch loss and accuracy : 0.1338705\t1.0000\n",
      "- batch loss and accuracy : 0.2233494\t1.0000\n",
      "- batch loss and accuracy : 0.2497380\t1.0000\n"
     ]
    },
    {
     "name": "stderr",
     "output_type": "stream",
     "text": [
      "epoch 5 - train: 201it [00:02, 97.24it/s]"
     ]
    },
    {
     "name": "stdout",
     "output_type": "stream",
     "text": [
      "- batch loss and accuracy : 0.1971940\t1.0000\n",
      "- batch loss and accuracy : 1.4319366\t0.0000\n",
      "- batch loss and accuracy : 0.3137435\t1.0000\n",
      "- batch loss and accuracy : 0.2398468\t1.0000\n",
      "- batch loss and accuracy : 0.3696153\t1.0000\n",
      "- batch loss and accuracy : 0.5013797\t0.6667\n",
      "- batch loss and accuracy : 0.2780048\t1.0000\n",
      "- batch loss and accuracy : 0.2446995\t1.0000\n"
     ]
    },
    {
     "name": "stderr",
     "output_type": "stream",
     "text": [
      "epoch 5 - train: 213it [00:02, 100.85it/s]"
     ]
    },
    {
     "name": "stdout",
     "output_type": "stream",
     "text": [
      "- batch loss and accuracy : 0.2311400\t1.0000\n",
      "- batch loss and accuracy : 1.9219861\t0.0000\n",
      "- batch loss and accuracy : 0.1429321\t1.0000\n",
      "- batch loss and accuracy : 2.0000827\t0.0000\n",
      "- batch loss and accuracy : 1.8352455\t0.0000\n",
      "- batch loss and accuracy : 0.2954140\t1.0000\n",
      "- batch loss and accuracy : 0.4284848\t1.0000\n",
      "- batch loss and accuracy : 0.6928055\t0.6667\n",
      "- batch loss and accuracy : 0.6567305\t0.6667\n",
      "- batch loss and accuracy : 0.7502427\t0.6667\n",
      "- batch loss and accuracy : 0.5547991\t1.0000\n",
      "- batch loss and accuracy : 0.4932676\t0.6667\n",
      "- batch loss and accuracy : 0.4402048\t1.0000\n",
      "- batch loss and accuracy : 1.1637636\t0.0000\n"
     ]
    },
    {
     "name": "stderr",
     "output_type": "stream",
     "text": [
      "epoch 5 - train: 225it [00:02, 105.20it/s]"
     ]
    },
    {
     "name": "stdout",
     "output_type": "stream",
     "text": [
      "- batch loss and accuracy : 0.2839506\t1.0000\n",
      "- batch loss and accuracy : 0.2330287\t1.0000\n",
      "- batch loss and accuracy : 0.2575866\t1.0000\n",
      "- batch loss and accuracy : 2.1048360\t0.0000\n",
      "- batch loss and accuracy : 1.6852798\t0.0000\n",
      "- batch loss and accuracy : 0.1776252\t1.0000\n",
      "- batch loss and accuracy : 0.3127990\t1.0000\n",
      "- batch loss and accuracy : 0.3316774\t1.0000\n",
      "- batch loss and accuracy : 0.4201460\t0.6667\n"
     ]
    },
    {
     "name": "stderr",
     "output_type": "stream",
     "text": [
      "epoch 5 - train: 236it [00:02, 103.73it/s]"
     ]
    },
    {
     "name": "stdout",
     "output_type": "stream",
     "text": [
      "- batch loss and accuracy : 0.3099334\t1.0000\n",
      "- batch loss and accuracy : 0.3110301\t1.0000\n",
      "- batch loss and accuracy : 0.2409919\t1.0000\n",
      "- batch loss and accuracy : 0.1560354\t1.0000\n",
      "- batch loss and accuracy : 1.8686273\t0.0000\n",
      "- batch loss and accuracy : 1.8673978\t0.0000\n",
      "- batch loss and accuracy : 0.2000811\t1.0000\n",
      "- batch loss and accuracy : 1.8023081\t0.0000\n",
      "- batch loss and accuracy : 1.5001491\t0.0000\n",
      "- batch loss and accuracy : 0.5974598\t0.6667\n",
      "- batch loss and accuracy : 0.6039687\t0.6667\n",
      "- batch loss and accuracy : 1.0247345\t0.0000\n"
     ]
    },
    {
     "name": "stderr",
     "output_type": "stream",
     "text": [
      "epoch 5 - train: 247it [00:02, 102.22it/s]"
     ]
    },
    {
     "name": "stdout",
     "output_type": "stream",
     "text": [
      "- batch loss and accuracy : 0.3028193\t1.0000\n",
      "- batch loss and accuracy : 0.1735857\t1.0000\n",
      "- batch loss and accuracy : 0.1685162\t1.0000\n",
      "- batch loss and accuracy : 0.1670103\t1.0000\n",
      "- batch loss and accuracy : 0.0542097\t1.0000\n",
      "- batch loss and accuracy : 3.1969385\t0.0000\n",
      "- batch loss and accuracy : 3.0138535\t0.0000\n",
      "- batch loss and accuracy : 2.5602603\t0.0000\n",
      "- batch loss and accuracy : 2.2069454\t0.0000\n"
     ]
    },
    {
     "name": "stderr",
     "output_type": "stream",
     "text": [
      "epoch 5 - train: 249it [00:02, 98.38it/s] \n",
      "epoch 5 - validation: 100%|██████████| 63/63 [00:00<00:00, 119.25it/s]"
     ]
    },
    {
     "name": "stdout",
     "output_type": "stream",
     "text": [
      "Validation loss and accuracy : 1.5354106\t0.2857\n",
      "EPOCH 6\n"
     ]
    },
    {
     "name": "stderr",
     "output_type": "stream",
     "text": [
      "\n",
      "epoch 6 - train: 8it [00:00, 75.76it/s]"
     ]
    },
    {
     "name": "stdout",
     "output_type": "stream",
     "text": [
      "- batch loss and accuracy : 0.3327160\t1.0000\n",
      "- batch loss and accuracy : 0.5345050\t1.0000\n",
      "- batch loss and accuracy : 0.6237658\t0.6667\n",
      "- batch loss and accuracy : 0.2806129\t1.0000\n",
      "- batch loss and accuracy : 1.6425607\t0.0000\n",
      "- batch loss and accuracy : 0.2239523\t1.0000\n",
      "- batch loss and accuracy : 0.1951215\t1.0000\n",
      "- batch loss and accuracy : 0.0956929\t1.0000\n",
      "- batch loss and accuracy : 0.0396248\t1.0000\n",
      "- batch loss and accuracy : 0.0544689\t1.0000\n",
      "- batch loss and accuracy : 3.3822134\t0.0000\n",
      "- batch loss and accuracy : 3.6237838\t0.0000\n",
      "- batch loss and accuracy : 0.0704576\t1.0000\n",
      "- batch loss and accuracy : 0.0800613\t1.0000\n",
      "- batch loss and accuracy : 0.1068015\t1.0000\n",
      "- batch loss and accuracy : 0.1636361\t1.0000\n"
     ]
    },
    {
     "name": "stderr",
     "output_type": "stream",
     "text": [
      "epoch 6 - train: 19it [00:00, 94.88it/s]"
     ]
    },
    {
     "name": "stdout",
     "output_type": "stream",
     "text": [
      "- batch loss and accuracy : 1.4559516\t0.0000\n",
      "- batch loss and accuracy : 1.3574321\t0.0000\n",
      "- batch loss and accuracy : 0.6330276\t0.3333\n",
      "- batch loss and accuracy : 0.5032993\t0.6667\n",
      "- batch loss and accuracy : 0.6268943\t0.6667\n",
      "- batch loss and accuracy : 0.7319100\t0.6667\n"
     ]
    },
    {
     "name": "stderr",
     "output_type": "stream",
     "text": [
      "epoch 6 - train: 29it [00:00, 95.91it/s]"
     ]
    },
    {
     "name": "stdout",
     "output_type": "stream",
     "text": [
      "- batch loss and accuracy : 0.4298868\t1.0000\n",
      "- batch loss and accuracy : 0.3657835\t1.0000\n",
      "- batch loss and accuracy : 1.5028191\t0.0000\n",
      "- batch loss and accuracy : 1.3697906\t0.0000\n",
      "- batch loss and accuracy : 1.0297530\t0.0000\n",
      "- batch loss and accuracy : 0.9741334\t0.3333\n",
      "- batch loss and accuracy : 0.5503776\t1.0000\n",
      "- batch loss and accuracy : 0.5104720\t1.0000\n",
      "- batch loss and accuracy : 0.3251790\t1.0000\n",
      "- batch loss and accuracy : 0.1622409\t1.0000\n",
      "- batch loss and accuracy : 2.1814952\t0.0000\n",
      "- batch loss and accuracy : 0.0840646\t1.0000\n",
      "- batch loss and accuracy : 0.0727216\t1.0000\n",
      "- batch loss and accuracy : 3.0201383\t0.0000\n"
     ]
    },
    {
     "name": "stderr",
     "output_type": "stream",
     "text": [
      "epoch 6 - train: 39it [00:00, 96.96it/s]"
     ]
    },
    {
     "name": "stdout",
     "output_type": "stream",
     "text": [
      "- batch loss and accuracy : 2.8461871\t0.0000\n",
      "- batch loss and accuracy : 0.0988901\t1.0000\n",
      "- batch loss and accuracy : 1.8791625\t0.0000\n",
      "- batch loss and accuracy : 0.2777286\t1.0000\n",
      "- batch loss and accuracy : 1.2596157\t0.0000\n",
      "- batch loss and accuracy : 0.7059760\t0.3333\n"
     ]
    },
    {
     "name": "stderr",
     "output_type": "stream",
     "text": [
      "epoch 6 - train: 49it [00:00, 97.79it/s]"
     ]
    },
    {
     "name": "stdout",
     "output_type": "stream",
     "text": [
      "- batch loss and accuracy : 1.2696172\t0.0000\n",
      "- batch loss and accuracy : 1.5163116\t0.0000\n",
      "- batch loss and accuracy : 1.8239965\t0.0000\n",
      "- batch loss and accuracy : 1.8464382\t0.0000\n",
      "- batch loss and accuracy : 1.5491823\t0.0000\n",
      "- batch loss and accuracy : 0.9110615\t0.0000\n",
      "- batch loss and accuracy : 0.8813297\t0.3333\n",
      "- batch loss and accuracy : 0.3123034\t1.0000\n",
      "- batch loss and accuracy : 0.2366440\t1.0000\n",
      "- batch loss and accuracy : 0.1365944\t1.0000\n",
      "- batch loss and accuracy : 0.0571232\t1.0000\n",
      "- batch loss and accuracy : 0.0429442\t1.0000\n",
      "- batch loss and accuracy : 0.0236244\t1.0000\n",
      "- batch loss and accuracy : 0.0163172\t1.0000\n",
      "- batch loss and accuracy : 0.0098405\t1.0000\n",
      "- batch loss and accuracy : 0.0067315\t1.0000\n"
     ]
    },
    {
     "name": "stderr",
     "output_type": "stream",
     "text": [
      "epoch 6 - train: 60it [00:00, 101.02it/s]"
     ]
    },
    {
     "name": "stdout",
     "output_type": "stream",
     "text": [
      "- batch loss and accuracy : 0.0057148\t1.0000\n",
      "- batch loss and accuracy : 0.0030007\t1.0000\n",
      "- batch loss and accuracy : 0.0028645\t1.0000\n",
      "- batch loss and accuracy : 0.0017279\t1.0000\n",
      "- batch loss and accuracy : 6.9565463\t0.0000\n",
      "- batch loss and accuracy : 6.6392565\t0.0000\n"
     ]
    },
    {
     "name": "stderr",
     "output_type": "stream",
     "text": [
      "epoch 6 - train: 71it [00:00, 102.57it/s]"
     ]
    },
    {
     "name": "stdout",
     "output_type": "stream",
     "text": [
      "- batch loss and accuracy : 0.0020710\t1.0000\n",
      "- batch loss and accuracy : 0.0053460\t1.0000\n",
      "- batch loss and accuracy : 0.0105915\t1.0000\n",
      "- batch loss and accuracy : 0.0103310\t1.0000\n",
      "- batch loss and accuracy : 4.0842638\t0.0000\n",
      "- batch loss and accuracy : 0.0331037\t1.0000\n",
      "- batch loss and accuracy : 2.8117790\t0.0000\n",
      "- batch loss and accuracy : 0.1011653\t1.0000\n",
      "- batch loss and accuracy : 0.2898296\t1.0000\n",
      "- batch loss and accuracy : 0.3771018\t1.0000\n",
      "- batch loss and accuracy : 1.1305171\t0.3333\n",
      "- batch loss and accuracy : 0.8125725\t0.3333\n",
      "- batch loss and accuracy : 1.5378463\t0.0000\n",
      "- batch loss and accuracy : 1.2846012\t0.3333\n",
      "- batch loss and accuracy : 1.7642044\t0.0000\n",
      "- batch loss and accuracy : 1.4884362\t0.0000\n"
     ]
    },
    {
     "name": "stderr",
     "output_type": "stream",
     "text": [
      "epoch 6 - train: 82it [00:00, 102.67it/s]"
     ]
    },
    {
     "name": "stdout",
     "output_type": "stream",
     "text": [
      "- batch loss and accuracy : 1.1409873\t0.0000\n",
      "- batch loss and accuracy : 0.8739762\t0.3333\n",
      "- batch loss and accuracy : 0.4967124\t0.6667\n",
      "- batch loss and accuracy : 1.2919683\t0.0000\n",
      "- batch loss and accuracy : 0.3613159\t1.0000\n"
     ]
    },
    {
     "name": "stderr",
     "output_type": "stream",
     "text": [
      "epoch 6 - train: 94it [00:00, 105.32it/s]"
     ]
    },
    {
     "name": "stdout",
     "output_type": "stream",
     "text": [
      "- batch loss and accuracy : 0.2125421\t1.0000\n",
      "- batch loss and accuracy : 1.6854346\t0.0000\n",
      "- batch loss and accuracy : 0.1807152\t1.0000\n",
      "- batch loss and accuracy : 0.1886998\t1.0000\n",
      "- batch loss and accuracy : 1.9720936\t0.0000\n",
      "- batch loss and accuracy : 0.1728896\t1.0000\n",
      "- batch loss and accuracy : 0.2342432\t1.0000\n",
      "- batch loss and accuracy : 0.2335846\t1.0000\n",
      "- batch loss and accuracy : 0.1954256\t1.0000\n",
      "- batch loss and accuracy : 0.1642081\t1.0000\n",
      "- batch loss and accuracy : 0.1350804\t1.0000\n",
      "- batch loss and accuracy : 0.1310627\t1.0000\n",
      "- batch loss and accuracy : 2.4686201\t0.0000\n",
      "- batch loss and accuracy : 2.0403552\t0.0000\n",
      "- batch loss and accuracy : 1.5163921\t0.0000\n",
      "- batch loss and accuracy : 0.3120337\t1.0000\n",
      "- batch loss and accuracy : 1.1081405\t0.0000\n"
     ]
    },
    {
     "name": "stderr",
     "output_type": "stream",
     "text": [
      "epoch 6 - train: 105it [00:01, 103.13it/s]"
     ]
    },
    {
     "name": "stdout",
     "output_type": "stream",
     "text": [
      "- batch loss and accuracy : 0.4783704\t1.0000\n",
      "- batch loss and accuracy : 1.4986820\t0.0000\n",
      "- batch loss and accuracy : 1.6878059\t0.0000\n",
      "- batch loss and accuracy : 0.1877334\t1.0000\n",
      "- batch loss and accuracy : 1.7274404\t0.0000\n"
     ]
    },
    {
     "name": "stderr",
     "output_type": "stream",
     "text": [
      "epoch 6 - train: 118it [00:01, 109.34it/s]"
     ]
    },
    {
     "name": "stdout",
     "output_type": "stream",
     "text": [
      "- batch loss and accuracy : 1.5582060\t0.0000\n",
      "- batch loss and accuracy : 1.0950301\t0.0000\n",
      "- batch loss and accuracy : 0.6253945\t0.3333\n",
      "- batch loss and accuracy : 0.7441573\t0.3333\n",
      "- batch loss and accuracy : 1.0823722\t0.0000\n",
      "- batch loss and accuracy : 0.3099968\t1.0000\n",
      "- batch loss and accuracy : 0.3126296\t1.0000\n",
      "- batch loss and accuracy : 0.2041739\t1.0000\n",
      "- batch loss and accuracy : 0.1216091\t1.0000\n",
      "- batch loss and accuracy : 0.0775769\t1.0000\n",
      "- batch loss and accuracy : 0.0564505\t1.0000\n",
      "- batch loss and accuracy : 0.0482936\t1.0000\n",
      "- batch loss and accuracy : 3.5226912\t0.0000\n",
      "- batch loss and accuracy : 0.0232055\t1.0000\n",
      "- batch loss and accuracy : 0.0308831\t1.0000\n",
      "- batch loss and accuracy : 3.2746220\t0.0000\n",
      "- batch loss and accuracy : 0.0507478\t1.0000\n",
      "- batch loss and accuracy : 0.0527775\t1.0000\n"
     ]
    },
    {
     "name": "stderr",
     "output_type": "stream",
     "text": [
      "epoch 6 - train: 130it [00:01, 110.63it/s]"
     ]
    },
    {
     "name": "stdout",
     "output_type": "stream",
     "text": [
      "- batch loss and accuracy : 0.0544519\t1.0000\n",
      "- batch loss and accuracy : 0.1160461\t1.0000\n",
      "- batch loss and accuracy : 2.8409638\t0.0000\n",
      "- batch loss and accuracy : 0.1729618\t1.0000\n",
      "- batch loss and accuracy : 0.2279500\t1.0000\n",
      "- batch loss and accuracy : 0.2230192\t1.0000\n",
      "- batch loss and accuracy : 0.2444888\t1.0000\n"
     ]
    },
    {
     "name": "stderr",
     "output_type": "stream",
     "text": [
      "epoch 6 - train: 142it [00:01, 110.10it/s]"
     ]
    },
    {
     "name": "stdout",
     "output_type": "stream",
     "text": [
      "- batch loss and accuracy : 0.3944899\t1.0000\n",
      "- batch loss and accuracy : 1.3286557\t0.0000\n",
      "- batch loss and accuracy : 1.1100696\t0.0000\n",
      "- batch loss and accuracy : 1.0373702\t0.0000\n",
      "- batch loss and accuracy : 0.8071908\t0.0000\n",
      "- batch loss and accuracy : 0.9719390\t0.0000\n",
      "- batch loss and accuracy : 1.0779731\t0.0000\n",
      "- batch loss and accuracy : 0.5310385\t1.0000\n",
      "- batch loss and accuracy : 0.9625859\t0.0000\n",
      "- batch loss and accuracy : 0.8967988\t0.0000\n",
      "- batch loss and accuracy : 0.5726391\t0.6667\n",
      "- batch loss and accuracy : 1.1408274\t0.0000\n",
      "- batch loss and accuracy : 0.4734430\t1.0000\n",
      "- batch loss and accuracy : 1.4628332\t0.0000\n"
     ]
    },
    {
     "name": "stderr",
     "output_type": "stream",
     "text": [
      "epoch 6 - train: 154it [00:01, 107.94it/s]"
     ]
    },
    {
     "name": "stdout",
     "output_type": "stream",
     "text": [
      "- batch loss and accuracy : 0.2352147\t1.0000\n",
      "- batch loss and accuracy : 0.2146769\t1.0000\n",
      "- batch loss and accuracy : 0.1656777\t1.0000\n",
      "- batch loss and accuracy : 0.2208005\t1.0000\n",
      "- batch loss and accuracy : 0.1306406\t1.0000\n",
      "- batch loss and accuracy : 0.1699434\t1.0000\n",
      "- batch loss and accuracy : 0.1119443\t1.0000\n",
      "- batch loss and accuracy : 2.6575851\t0.0000\n"
     ]
    },
    {
     "name": "stderr",
     "output_type": "stream",
     "text": [
      "epoch 6 - train: 165it [00:01, 103.12it/s]"
     ]
    },
    {
     "name": "stdout",
     "output_type": "stream",
     "text": [
      "- batch loss and accuracy : 0.0708115\t1.0000\n",
      "- batch loss and accuracy : 0.0993735\t1.0000\n",
      "- batch loss and accuracy : 0.0756128\t1.0000\n",
      "- batch loss and accuracy : 0.0673537\t1.0000\n",
      "- batch loss and accuracy : 3.0287299\t0.0000\n",
      "- batch loss and accuracy : 0.1179766\t1.0000\n",
      "- batch loss and accuracy : 2.6375902\t0.0000\n",
      "- batch loss and accuracy : 0.1750237\t1.0000\n",
      "- batch loss and accuracy : 0.3222303\t1.0000\n",
      "- batch loss and accuracy : 1.3319113\t0.0000\n",
      "- batch loss and accuracy : 0.5531926\t1.0000\n",
      "- batch loss and accuracy : 0.9749279\t0.3333\n",
      "- batch loss and accuracy : 0.6717824\t0.6667\n",
      "- batch loss and accuracy : 0.8372745\t0.3333\n",
      "- batch loss and accuracy : 0.4612732\t1.0000\n",
      "- batch loss and accuracy : 0.9880061\t0.0000\n",
      "- batch loss and accuracy : 1.0703692\t0.0000\n",
      "- batch loss and accuracy : 0.6346173\t0.6667\n",
      "- batch loss and accuracy : 0.6995063\t0.6667\n",
      "- batch loss and accuracy : 0.2653117\t1.0000\n",
      "- batch loss and accuracy : 0.2757105\t1.0000\n",
      "- batch loss and accuracy : 2.3118513\t0.0000\n"
     ]
    },
    {
     "name": "stderr",
     "output_type": "stream",
     "text": [
      "epoch 6 - train: 188it [00:01, 105.40it/s]"
     ]
    },
    {
     "name": "stdout",
     "output_type": "stream",
     "text": [
      "- batch loss and accuracy : 0.0674874\t1.0000\n",
      "- batch loss and accuracy : 0.0623869\t1.0000\n",
      "- batch loss and accuracy : 0.0437149\t1.0000\n",
      "- batch loss and accuracy : 0.0472894\t1.0000\n",
      "- batch loss and accuracy : 0.0316846\t1.0000\n",
      "- batch loss and accuracy : 3.5390563\t0.0000\n",
      "- batch loss and accuracy : 0.0314940\t1.0000\n",
      "- batch loss and accuracy : 0.0380470\t1.0000\n",
      "- batch loss and accuracy : 0.0502762\t1.0000\n",
      "- batch loss and accuracy : 0.0435258\t1.0000\n",
      "- batch loss and accuracy : 0.0357932\t1.0000\n",
      "- batch loss and accuracy : 2.8642993\t0.0000\n",
      "- batch loss and accuracy : 2.9603543\t0.0000\n",
      "- batch loss and accuracy : 1.8644952\t0.0000\n",
      "- batch loss and accuracy : 1.5331501\t0.0000\n",
      "- batch loss and accuracy : 0.8890423\t0.3333\n",
      "- batch loss and accuracy : 1.5354548\t0.0000\n",
      "- batch loss and accuracy : 0.2035889\t1.0000\n",
      "- batch loss and accuracy : 2.5065463\t0.0000\n"
     ]
    },
    {
     "name": "stderr",
     "output_type": "stream",
     "text": [
      "epoch 6 - train: 211it [00:02, 105.14it/s]"
     ]
    },
    {
     "name": "stdout",
     "output_type": "stream",
     "text": [
      "- batch loss and accuracy : 3.0729702\t0.0000\n",
      "- batch loss and accuracy : 3.2497983\t0.0000\n",
      "- batch loss and accuracy : 2.9938991\t0.0000\n",
      "- batch loss and accuracy : 1.7758048\t0.0000\n",
      "- batch loss and accuracy : 1.2394691\t0.0000\n",
      "- batch loss and accuracy : 0.9293872\t0.3333\n",
      "- batch loss and accuracy : 0.2981015\t1.0000\n",
      "- batch loss and accuracy : 0.1102283\t1.0000\n",
      "- batch loss and accuracy : 2.7979422\t0.0000\n",
      "- batch loss and accuracy : 0.0237820\t1.0000\n",
      "- batch loss and accuracy : 4.3798761\t0.0000\n",
      "- batch loss and accuracy : 0.0103760\t1.0000\n",
      "- batch loss and accuracy : 4.6537247\t0.0000\n",
      "- batch loss and accuracy : 0.0116074\t1.0000\n",
      "- batch loss and accuracy : 0.0150221\t1.0000\n",
      "- batch loss and accuracy : 0.0129527\t1.0000\n",
      "- batch loss and accuracy : 0.0300124\t1.0000\n",
      "- batch loss and accuracy : 4.2012625\t0.0000\n",
      "- batch loss and accuracy : 3.6210439\t0.0000\n",
      "- batch loss and accuracy : 0.0972616\t1.0000\n",
      "- batch loss and accuracy : 0.2058254\t1.0000\n",
      "- batch loss and accuracy : 0.1925260\t1.0000\n",
      "- batch loss and accuracy : 0.3629565\t1.0000\n",
      "- batch loss and accuracy : 0.5882448\t0.6667\n"
     ]
    },
    {
     "name": "stderr",
     "output_type": "stream",
     "text": [
      "epoch 6 - train: 236it [00:02, 112.82it/s]"
     ]
    },
    {
     "name": "stdout",
     "output_type": "stream",
     "text": [
      "- batch loss and accuracy : 0.4160703\t1.0000\n",
      "- batch loss and accuracy : 0.5129639\t1.0000\n",
      "- batch loss and accuracy : 0.3823295\t1.0000\n",
      "- batch loss and accuracy : 0.3838148\t1.0000\n",
      "- batch loss and accuracy : 1.4935373\t0.0000\n",
      "- batch loss and accuracy : 0.2544405\t1.0000\n",
      "- batch loss and accuracy : 0.2147503\t1.0000\n",
      "- batch loss and accuracy : 0.2566232\t1.0000\n",
      "- batch loss and accuracy : 0.1686660\t1.0000\n",
      "- batch loss and accuracy : 2.2500129\t0.0000\n",
      "- batch loss and accuracy : 2.1593530\t0.0000\n",
      "- batch loss and accuracy : 2.0609233\t0.0000\n",
      "- batch loss and accuracy : 0.2556807\t1.0000\n",
      "- batch loss and accuracy : 0.5126024\t1.0000\n",
      "- batch loss and accuracy : 0.9344425\t0.3333\n",
      "- batch loss and accuracy : 0.4989153\t0.6667\n",
      "- batch loss and accuracy : 1.6063818\t0.0000\n",
      "- batch loss and accuracy : 1.4510260\t0.0000\n",
      "- batch loss and accuracy : 1.4337597\t0.0000\n",
      "- batch loss and accuracy : 1.2865018\t0.0000\n",
      "- batch loss and accuracy : 1.0954970\t0.3333\n",
      "- batch loss and accuracy : 1.3073881\t0.0000\n",
      "- batch loss and accuracy : 0.3334434\t1.0000\n",
      "- batch loss and accuracy : 0.2391149\t1.0000\n"
     ]
    },
    {
     "name": "stderr",
     "output_type": "stream",
     "text": [
      "epoch 6 - train: 249it [00:02, 104.38it/s]\n"
     ]
    },
    {
     "name": "stdout",
     "output_type": "stream",
     "text": [
      "- batch loss and accuracy : 2.1100488\t0.0000\n",
      "- batch loss and accuracy : 0.1330165\t1.0000\n",
      "- batch loss and accuracy : 2.6920586\t0.0000\n",
      "- batch loss and accuracy : 0.1392948\t1.0000\n",
      "- batch loss and accuracy : 1.9293900\t0.0000\n",
      "- batch loss and accuracy : 1.5917876\t0.0000\n"
     ]
    },
    {
     "name": "stderr",
     "output_type": "stream",
     "text": [
      "epoch 6 - validation: 100%|██████████| 63/63 [00:00<00:00, 115.62it/s]"
     ]
    },
    {
     "name": "stdout",
     "output_type": "stream",
     "text": [
      "Validation loss and accuracy : 0.5933926\t0.7249\n",
      "- saved best model: val_loss = 0.593392550945282 val_accuracy = 0.7248677015304565\n",
      "EPOCH 7\n"
     ]
    },
    {
     "name": "stderr",
     "output_type": "stream",
     "text": [
      "\n",
      "epoch 7 - train: 5it [00:00, 45.11it/s]"
     ]
    },
    {
     "name": "stdout",
     "output_type": "stream",
     "text": [
      "- batch loss and accuracy : 0.3232902\t1.0000\n",
      "- batch loss and accuracy : 0.4781961\t1.0000\n",
      "- batch loss and accuracy : 0.7908058\t0.3333\n",
      "- batch loss and accuracy : 1.2622619\t0.0000\n",
      "- batch loss and accuracy : 1.0977045\t0.3333\n",
      "- batch loss and accuracy : 0.9267383\t0.3333\n",
      "- batch loss and accuracy : 0.5130445\t0.6667\n",
      "- batch loss and accuracy : 0.6329600\t0.6667\n"
     ]
    },
    {
     "name": "stderr",
     "output_type": "stream",
     "text": [
      "epoch 7 - train: 16it [00:00, 77.59it/s]"
     ]
    },
    {
     "name": "stdout",
     "output_type": "stream",
     "text": [
      "- batch loss and accuracy : 0.7350577\t0.6667\n",
      "- batch loss and accuracy : 0.4939387\t1.0000\n",
      "- batch loss and accuracy : 0.3181247\t1.0000\n",
      "- batch loss and accuracy : 0.2109376\t1.0000\n",
      "- batch loss and accuracy : 0.1376570\t1.0000\n",
      "- batch loss and accuracy : 0.0704584\t1.0000\n",
      "- batch loss and accuracy : 2.9472747\t0.0000\n",
      "- batch loss and accuracy : 0.0306761\t1.0000\n",
      "- batch loss and accuracy : 3.3120687\t0.0000\n",
      "- batch loss and accuracy : 0.0341685\t1.0000\n",
      "- batch loss and accuracy : 3.2648354\t0.0000\n",
      "- batch loss and accuracy : 2.7579589\t0.0000\n",
      "- batch loss and accuracy : 0.1474433\t1.0000\n"
     ]
    },
    {
     "name": "stderr",
     "output_type": "stream",
     "text": [
      "epoch 7 - train: 28it [00:00, 90.55it/s]"
     ]
    },
    {
     "name": "stdout",
     "output_type": "stream",
     "text": [
      "- batch loss and accuracy : 0.2801009\t1.0000\n",
      "- batch loss and accuracy : 0.4863901\t1.0000\n",
      "- batch loss and accuracy : 0.6855599\t0.6667\n",
      "- batch loss and accuracy : 0.6063313\t0.6667\n",
      "- batch loss and accuracy : 0.7059712\t0.3333\n",
      "- batch loss and accuracy : 0.5129826\t1.0000\n",
      "- batch loss and accuracy : 0.4696835\t0.6667\n",
      "- batch loss and accuracy : 0.2643695\t1.0000\n"
     ]
    },
    {
     "name": "stderr",
     "output_type": "stream",
     "text": [
      "epoch 7 - train: 39it [00:00, 97.11it/s]"
     ]
    },
    {
     "name": "stdout",
     "output_type": "stream",
     "text": [
      "- batch loss and accuracy : 0.2703027\t1.0000\n",
      "- batch loss and accuracy : 0.1177123\t1.0000\n",
      "- batch loss and accuracy : 2.5341537\t0.0000\n",
      "- batch loss and accuracy : 0.0386799\t1.0000\n",
      "- batch loss and accuracy : 3.2635007\t0.0000\n",
      "- batch loss and accuracy : 0.0991134\t1.0000\n",
      "- batch loss and accuracy : 3.0953655\t0.0000\n",
      "- batch loss and accuracy : 0.1528637\t1.0000\n",
      "- batch loss and accuracy : 0.1796877\t1.0000\n",
      "- batch loss and accuracy : 1.4112091\t0.0000\n",
      "- batch loss and accuracy : 0.3259111\t1.0000\n",
      "- batch loss and accuracy : 0.6017321\t0.6667\n"
     ]
    },
    {
     "name": "stderr",
     "output_type": "stream",
     "text": [
      "epoch 7 - train: 50it [00:00, 101.13it/s]"
     ]
    },
    {
     "name": "stdout",
     "output_type": "stream",
     "text": [
      "- batch loss and accuracy : 0.6147474\t0.6667\n",
      "- batch loss and accuracy : 0.5777015\t0.6667\n",
      "- batch loss and accuracy : 1.1401346\t0.3333\n",
      "- batch loss and accuracy : 1.1802599\t0.0000\n",
      "- batch loss and accuracy : 0.6708698\t0.3333\n",
      "- batch loss and accuracy : 0.7881974\t0.0000\n",
      "- batch loss and accuracy : 0.5110079\t1.0000\n",
      "- batch loss and accuracy : 1.1963423\t0.0000\n",
      "- batch loss and accuracy : 0.7896788\t0.3333\n",
      "- batch loss and accuracy : 0.8195959\t0.3333\n",
      "- batch loss and accuracy : 1.1116123\t0.3333\n"
     ]
    },
    {
     "name": "stderr",
     "output_type": "stream",
     "text": [
      "epoch 7 - train: 61it [00:00, 103.27it/s]"
     ]
    },
    {
     "name": "stdout",
     "output_type": "stream",
     "text": [
      "- batch loss and accuracy : 0.6585716\t0.3333\n",
      "- batch loss and accuracy : 0.5916080\t0.6667\n",
      "- batch loss and accuracy : 0.9488835\t0.3333\n",
      "- batch loss and accuracy : 1.0292865\t0.0000\n",
      "- batch loss and accuracy : 0.4678954\t0.6667\n",
      "- batch loss and accuracy : 0.7425878\t0.3333\n",
      "- batch loss and accuracy : 0.8136947\t0.3333\n",
      "- batch loss and accuracy : 0.4076946\t1.0000\n",
      "- batch loss and accuracy : 0.3145580\t1.0000\n",
      "- batch loss and accuracy : 1.6289177\t0.0000\n",
      "- batch loss and accuracy : 0.3876686\t1.0000\n",
      "- batch loss and accuracy : 0.1635043\t1.0000\n",
      "- batch loss and accuracy : 0.1197203\t1.0000\n"
     ]
    },
    {
     "name": "stderr",
     "output_type": "stream",
     "text": [
      "epoch 7 - train: 74it [00:00, 110.72it/s]"
     ]
    },
    {
     "name": "stdout",
     "output_type": "stream",
     "text": [
      "- batch loss and accuracy : 0.1222068\t1.0000\n",
      "- batch loss and accuracy : 0.0896400\t1.0000\n",
      "- batch loss and accuracy : 0.0718628\t1.0000\n",
      "- batch loss and accuracy : 0.0466043\t1.0000\n",
      "- batch loss and accuracy : 2.9720278\t0.0000\n",
      "- batch loss and accuracy : 3.0900297\t0.0000\n",
      "- batch loss and accuracy : 0.0787292\t1.0000\n",
      "- batch loss and accuracy : 2.4239535\t0.0000\n",
      "- batch loss and accuracy : 0.1180034\t1.0000\n",
      "- batch loss and accuracy : 1.3106382\t0.0000\n",
      "- batch loss and accuracy : 0.4306737\t1.0000\n"
     ]
    },
    {
     "name": "stderr",
     "output_type": "stream",
     "text": [
      "epoch 7 - train: 86it [00:00, 111.45it/s]"
     ]
    },
    {
     "name": "stdout",
     "output_type": "stream",
     "text": [
      "- batch loss and accuracy : 0.7341825\t0.3333\n",
      "- batch loss and accuracy : 1.0272212\t0.0000\n",
      "- batch loss and accuracy : 0.8687842\t0.3333\n",
      "- batch loss and accuracy : 0.5199569\t1.0000\n",
      "- batch loss and accuracy : 0.6864080\t0.6667\n",
      "- batch loss and accuracy : 0.5738594\t0.6667\n",
      "- batch loss and accuracy : 0.8359914\t0.3333\n",
      "- batch loss and accuracy : 0.4614331\t1.0000\n",
      "- batch loss and accuracy : 0.4691826\t1.0000\n",
      "- batch loss and accuracy : 0.3558835\t1.0000\n",
      "- batch loss and accuracy : 1.5397518\t0.0000\n",
      "- batch loss and accuracy : 1.5442426\t0.0000\n"
     ]
    },
    {
     "name": "stderr",
     "output_type": "stream",
     "text": [
      "epoch 7 - train: 98it [00:00, 108.77it/s]"
     ]
    },
    {
     "name": "stdout",
     "output_type": "stream",
     "text": [
      "- batch loss and accuracy : 0.2512252\t1.0000\n",
      "- batch loss and accuracy : 0.3337335\t1.0000\n",
      "- batch loss and accuracy : 1.4234529\t0.0000\n",
      "- batch loss and accuracy : 0.3117009\t1.0000\n",
      "- batch loss and accuracy : 1.1071837\t0.0000\n",
      "- batch loss and accuracy : 0.4210149\t1.0000\n",
      "- batch loss and accuracy : 1.0915122\t0.0000\n",
      "- batch loss and accuracy : 0.8242084\t0.6667\n",
      "- batch loss and accuracy : 0.9836289\t0.3333\n",
      "- batch loss and accuracy : 0.4823980\t1.0000\n"
     ]
    },
    {
     "name": "stderr",
     "output_type": "stream",
     "text": [
      "epoch 7 - train: 110it [00:01, 110.12it/s]"
     ]
    },
    {
     "name": "stdout",
     "output_type": "stream",
     "text": [
      "- batch loss and accuracy : 0.9890525\t0.0000\n",
      "- batch loss and accuracy : 0.6969147\t0.6667\n",
      "- batch loss and accuracy : 0.7849879\t0.3333\n",
      "- batch loss and accuracy : 0.6459316\t0.6667\n",
      "- batch loss and accuracy : 0.5433924\t1.0000\n",
      "- batch loss and accuracy : 0.2908695\t1.0000\n",
      "- batch loss and accuracy : 0.2971093\t1.0000\n",
      "- batch loss and accuracy : 1.6528510\t0.0000\n",
      "- batch loss and accuracy : 1.9846678\t0.0000\n",
      "- batch loss and accuracy : 0.1421375\t1.0000\n",
      "- batch loss and accuracy : 0.1742738\t1.0000\n",
      "- batch loss and accuracy : 1.4786142\t0.0000\n",
      "- batch loss and accuracy : 0.2128019\t1.0000\n",
      "- batch loss and accuracy : 0.2456095\t1.0000\n",
      "- batch loss and accuracy : 0.3715064\t1.0000\n",
      "- batch loss and accuracy : 0.3178106\t1.0000\n",
      "- batch loss and accuracy : 0.2618796\t1.0000\n",
      "- batch loss and accuracy : 0.1896984\t1.0000\n",
      "- batch loss and accuracy : 0.1477972\t1.0000\n",
      "- batch loss and accuracy : 0.1851039\t1.0000\n",
      "- batch loss and accuracy : 2.3080134\t0.0000\n",
      "- batch loss and accuracy : 2.2375717\t0.0000\n"
     ]
    },
    {
     "name": "stderr",
     "output_type": "stream",
     "text": [
      "epoch 7 - train: 122it [00:01, 105.05it/s]"
     ]
    },
    {
     "name": "stdout",
     "output_type": "stream",
     "text": [
      "- batch loss and accuracy : 2.1219900\t0.0000\n",
      "- batch loss and accuracy : 1.2955976\t0.0000\n",
      "- batch loss and accuracy : 0.4234473\t1.0000\n",
      "- batch loss and accuracy : 0.8019460\t0.3333\n",
      "- batch loss and accuracy : 1.1473563\t0.0000\n",
      "- batch loss and accuracy : 0.9075266\t0.0000\n",
      "- batch loss and accuracy : 0.3376246\t1.0000\n",
      "- batch loss and accuracy : 0.9803199\t0.0000\n",
      "- batch loss and accuracy : 0.4386851\t1.0000\n",
      "- batch loss and accuracy : 1.0295318\t0.0000\n",
      "- batch loss and accuracy : 0.7294017\t0.3333\n",
      "- batch loss and accuracy : 0.8459627\t0.6667\n"
     ]
    },
    {
     "name": "stderr",
     "output_type": "stream",
     "text": [
      "epoch 7 - train: 133it [00:01, 105.42it/s]"
     ]
    },
    {
     "name": "stdout",
     "output_type": "stream",
     "text": [
      "- batch loss and accuracy : 0.4358505\t1.0000\n",
      "- batch loss and accuracy : 0.3246925\t1.0000\n",
      "- batch loss and accuracy : 0.2041695\t1.0000\n",
      "- batch loss and accuracy : 0.1621948\t1.0000\n",
      "- batch loss and accuracy : 2.2762151\t0.0000\n",
      "- batch loss and accuracy : 0.0945456\t1.0000\n",
      "- batch loss and accuracy : 0.0868220\t1.0000\n",
      "- batch loss and accuracy : 0.1192590\t1.0000\n",
      "- batch loss and accuracy : 0.0739231\t1.0000\n",
      "- batch loss and accuracy : 0.0727831\t1.0000\n"
     ]
    },
    {
     "name": "stderr",
     "output_type": "stream",
     "text": [
      "epoch 7 - train: 144it [00:01, 104.94it/s]"
     ]
    },
    {
     "name": "stdout",
     "output_type": "stream",
     "text": [
      "- batch loss and accuracy : 2.7988205\t0.0000\n",
      "- batch loss and accuracy : 0.1129303\t1.0000\n",
      "- batch loss and accuracy : 2.4020481\t0.0000\n",
      "- batch loss and accuracy : 0.1189094\t1.0000\n",
      "- batch loss and accuracy : 0.1681485\t1.0000\n",
      "- batch loss and accuracy : 0.2000287\t1.0000\n",
      "- batch loss and accuracy : 0.3966007\t1.0000\n",
      "- batch loss and accuracy : 1.5600284\t0.0000\n",
      "- batch loss and accuracy : 0.4752036\t1.0000\n",
      "- batch loss and accuracy : 0.4320077\t1.0000\n"
     ]
    },
    {
     "name": "stderr",
     "output_type": "stream",
     "text": [
      "epoch 7 - train: 155it [00:01, 99.48it/s] "
     ]
    },
    {
     "name": "stdout",
     "output_type": "stream",
     "text": [
      "- batch loss and accuracy : 0.5058285\t1.0000\n",
      "- batch loss and accuracy : 0.5650610\t0.6667\n",
      "- batch loss and accuracy : 0.2524293\t1.0000\n",
      "- batch loss and accuracy : 0.1586049\t1.0000\n",
      "- batch loss and accuracy : 1.9702181\t0.0000\n",
      "- batch loss and accuracy : 0.2243354\t1.0000\n",
      "- batch loss and accuracy : 0.1521448\t1.0000\n",
      "- batch loss and accuracy : 0.1259412\t1.0000\n",
      "- batch loss and accuracy : 0.1421827\t1.0000\n"
     ]
    },
    {
     "name": "stderr",
     "output_type": "stream",
     "text": [
      "epoch 7 - train: 166it [00:01, 100.37it/s]"
     ]
    },
    {
     "name": "stdout",
     "output_type": "stream",
     "text": [
      "- batch loss and accuracy : 2.6189799\t0.0000\n",
      "- batch loss and accuracy : 2.3728881\t0.0000\n",
      "- batch loss and accuracy : 1.4546959\t0.0000\n",
      "- batch loss and accuracy : 0.4758107\t1.0000\n",
      "- batch loss and accuracy : 0.9338710\t0.3333\n",
      "- batch loss and accuracy : 0.6970772\t0.6667\n",
      "- batch loss and accuracy : 1.7578591\t0.0000\n",
      "- batch loss and accuracy : 1.4023082\t0.3333\n",
      "- batch loss and accuracy : 0.1546676\t1.0000\n",
      "- batch loss and accuracy : 1.6557255\t0.0000\n",
      "- batch loss and accuracy : 0.2392892\t1.0000\n",
      "- batch loss and accuracy : 1.9113898\t0.0000\n"
     ]
    },
    {
     "name": "stderr",
     "output_type": "stream",
     "text": [
      "epoch 7 - train: 177it [00:01, 101.33it/s]"
     ]
    },
    {
     "name": "stdout",
     "output_type": "stream",
     "text": [
      "- batch loss and accuracy : 1.2969368\t0.0000\n",
      "- batch loss and accuracy : 0.9813846\t0.0000\n",
      "- batch loss and accuracy : 0.5955895\t0.3333\n",
      "- batch loss and accuracy : 1.4069227\t0.0000\n",
      "- batch loss and accuracy : 0.2443914\t1.0000\n",
      "- batch loss and accuracy : 0.1393686\t1.0000\n",
      "- batch loss and accuracy : 0.1161495\t1.0000\n",
      "- batch loss and accuracy : 0.0492079\t1.0000\n",
      "- batch loss and accuracy : 0.0255863\t1.0000\n",
      "- batch loss and accuracy : 0.0241956\t1.0000\n",
      "- batch loss and accuracy : 0.0184129\t1.0000\n"
     ]
    },
    {
     "name": "stderr",
     "output_type": "stream",
     "text": [
      "epoch 7 - train: 190it [00:01, 107.62it/s]"
     ]
    },
    {
     "name": "stdout",
     "output_type": "stream",
     "text": [
      "- batch loss and accuracy : 4.2391400\t0.0000\n",
      "- batch loss and accuracy : 4.6578674\t0.0000\n",
      "- batch loss and accuracy : 0.0166791\t1.0000\n",
      "- batch loss and accuracy : 0.0216479\t1.0000\n",
      "- batch loss and accuracy : 3.5659404\t0.0000\n",
      "- batch loss and accuracy : 0.0721611\t1.0000\n",
      "- batch loss and accuracy : 0.0875903\t1.0000\n",
      "- batch loss and accuracy : 2.1028192\t0.0000\n",
      "- batch loss and accuracy : 1.3942385\t0.0000\n",
      "- batch loss and accuracy : 0.6696632\t0.6667\n",
      "- batch loss and accuracy : 1.0921868\t0.0000\n",
      "- batch loss and accuracy : 1.2696434\t0.0000\n",
      "- batch loss and accuracy : 1.2181935\t0.0000\n",
      "- batch loss and accuracy : 0.4431066\t1.0000\n"
     ]
    },
    {
     "name": "stderr",
     "output_type": "stream",
     "text": [
      "epoch 7 - train: 202it [00:01, 109.60it/s]"
     ]
    },
    {
     "name": "stdout",
     "output_type": "stream",
     "text": [
      "- batch loss and accuracy : 0.9608709\t0.3333\n",
      "- batch loss and accuracy : 0.8543996\t0.3333\n",
      "- batch loss and accuracy : 0.5385153\t0.6667\n",
      "- batch loss and accuracy : 0.4302364\t1.0000\n",
      "- batch loss and accuracy : 0.3202577\t1.0000\n",
      "- batch loss and accuracy : 0.0825989\t1.0000\n",
      "- batch loss and accuracy : 0.0938083\t1.0000\n",
      "- batch loss and accuracy : 0.0528691\t1.0000\n",
      "- batch loss and accuracy : 0.0229558\t1.0000\n",
      "- batch loss and accuracy : 4.3630118\t0.0000\n"
     ]
    },
    {
     "name": "stderr",
     "output_type": "stream",
     "text": [
      "epoch 7 - train: 215it [00:02, 115.33it/s]"
     ]
    },
    {
     "name": "stdout",
     "output_type": "stream",
     "text": [
      "- batch loss and accuracy : 0.0148293\t1.0000\n",
      "- batch loss and accuracy : 0.0102889\t1.0000\n",
      "- batch loss and accuracy : 0.0126263\t1.0000\n",
      "- batch loss and accuracy : 4.8854747\t0.0000\n",
      "- batch loss and accuracy : 4.6604385\t0.0000\n",
      "- batch loss and accuracy : 0.0191871\t1.0000\n",
      "- batch loss and accuracy : 3.0677824\t0.0000\n",
      "- batch loss and accuracy : 2.3897195\t0.0000\n",
      "- batch loss and accuracy : 0.2902970\t1.0000\n",
      "- batch loss and accuracy : 0.5051163\t0.6667\n",
      "- batch loss and accuracy : 1.1279302\t0.0000\n",
      "- batch loss and accuracy : 1.0922704\t0.0000\n",
      "- batch loss and accuracy : 0.3193845\t1.0000\n"
     ]
    },
    {
     "name": "stderr",
     "output_type": "stream",
     "text": [
      "epoch 7 - train: 227it [00:02, 106.14it/s]"
     ]
    },
    {
     "name": "stdout",
     "output_type": "stream",
     "text": [
      "- batch loss and accuracy : 0.3764500\t1.0000\n",
      "- batch loss and accuracy : 0.2618790\t1.0000\n",
      "- batch loss and accuracy : 0.3198460\t1.0000\n",
      "- batch loss and accuracy : 0.1077591\t1.0000\n",
      "- batch loss and accuracy : 2.4578586\t0.0000\n",
      "- batch loss and accuracy : 2.2811677\t0.0000\n",
      "- batch loss and accuracy : 2.4139183\t0.0000\n",
      "- batch loss and accuracy : 1.5181675\t0.0000\n"
     ]
    },
    {
     "name": "stderr",
     "output_type": "stream",
     "text": [
      "epoch 7 - train: 238it [00:02, 103.76it/s]"
     ]
    },
    {
     "name": "stdout",
     "output_type": "stream",
     "text": [
      "- batch loss and accuracy : 1.2587999\t0.0000\n",
      "- batch loss and accuracy : 0.4845985\t1.0000\n",
      "- batch loss and accuracy : 0.1336884\t1.0000\n",
      "- batch loss and accuracy : 2.8051167\t0.0000\n",
      "- batch loss and accuracy : 0.0629543\t1.0000\n",
      "- batch loss and accuracy : 3.5671020\t0.0000\n",
      "- batch loss and accuracy : 0.0194669\t1.0000\n",
      "- batch loss and accuracy : 0.0212884\t1.0000\n",
      "- batch loss and accuracy : 0.0224052\t1.0000\n",
      "- batch loss and accuracy : 0.0169194\t1.0000\n",
      "- batch loss and accuracy : 0.0075995\t1.0000\n",
      "- batch loss and accuracy : 0.0091213\t1.0000\n"
     ]
    },
    {
     "name": "stderr",
     "output_type": "stream",
     "text": [
      "epoch 7 - train: 249it [00:02, 103.35it/s]\n"
     ]
    },
    {
     "name": "stdout",
     "output_type": "stream",
     "text": [
      "- batch loss and accuracy : 4.5208349\t0.0000\n",
      "- batch loss and accuracy : 4.3845968\t0.0000\n",
      "- batch loss and accuracy : 0.0332331\t1.0000\n",
      "- batch loss and accuracy : 0.0398319\t1.0000\n",
      "- batch loss and accuracy : 0.0812030\t1.0000\n",
      "- batch loss and accuracy : 0.1550887\t1.0000\n",
      "- batch loss and accuracy : 0.0970723\t1.0000\n",
      "- batch loss and accuracy : 1.6881784\t0.0000\n"
     ]
    },
    {
     "name": "stderr",
     "output_type": "stream",
     "text": [
      "epoch 7 - validation: 100%|██████████| 63/63 [00:00<00:00, 130.60it/s]\n"
     ]
    },
    {
     "name": "stdout",
     "output_type": "stream",
     "text": [
      "Validation loss and accuracy : 0.5667931\t0.7196\n",
      "- saved best model: val_loss = 0.5667930841445923 val_accuracy = 0.7195767164230347\n",
      "EPOCH 8\n"
     ]
    },
    {
     "name": "stderr",
     "output_type": "stream",
     "text": [
      "epoch 8 - train: 4it [00:00, 38.84it/s]"
     ]
    },
    {
     "name": "stdout",
     "output_type": "stream",
     "text": [
      "- batch loss and accuracy : 0.3308840\t1.0000\n",
      "- batch loss and accuracy : 0.5246379\t1.0000\n",
      "- batch loss and accuracy : 0.9220597\t0.3333\n",
      "- batch loss and accuracy : 0.8046216\t0.3333\n",
      "- batch loss and accuracy : 0.7523148\t0.3333\n",
      "- batch loss and accuracy : 1.0397801\t0.0000\n",
      "- batch loss and accuracy : 0.3222478\t1.0000\n",
      "- batch loss and accuracy : 1.1390090\t0.0000\n",
      "- batch loss and accuracy : 0.4962896\t1.0000\n"
     ]
    },
    {
     "name": "stderr",
     "output_type": "stream",
     "text": [
      "epoch 8 - train: 17it [00:00, 87.52it/s]"
     ]
    },
    {
     "name": "stdout",
     "output_type": "stream",
     "text": [
      "- batch loss and accuracy : 0.4007761\t1.0000\n",
      "- batch loss and accuracy : 0.2652637\t1.0000\n",
      "- batch loss and accuracy : 1.6395161\t0.0000\n",
      "- batch loss and accuracy : 1.3364127\t0.0000\n",
      "- batch loss and accuracy : 0.4071015\t1.0000\n",
      "- batch loss and accuracy : 1.1467659\t0.0000\n",
      "- batch loss and accuracy : 0.8530631\t0.3333\n",
      "- batch loss and accuracy : 0.4101875\t1.0000\n",
      "- batch loss and accuracy : 0.4020186\t1.0000\n",
      "- batch loss and accuracy : 0.1338520\t1.0000\n",
      "- batch loss and accuracy : 0.0904576\t1.0000\n",
      "- batch loss and accuracy : 0.0402897\t1.0000\n",
      "- batch loss and accuracy : 0.0215220\t1.0000\n",
      "- batch loss and accuracy : 0.0153695\t1.0000\n"
     ]
    },
    {
     "name": "stderr",
     "output_type": "stream",
     "text": [
      "epoch 8 - train: 28it [00:00, 95.40it/s]"
     ]
    },
    {
     "name": "stdout",
     "output_type": "stream",
     "text": [
      "- batch loss and accuracy : 0.0084557\t1.0000\n",
      "- batch loss and accuracy : 0.0043920\t1.0000\n",
      "- batch loss and accuracy : 0.0039114\t1.0000\n",
      "- batch loss and accuracy : 0.0026554\t1.0000\n",
      "- batch loss and accuracy : 6.5741978\t0.0000\n",
      "- batch loss and accuracy : 0.0014909\t1.0000\n",
      "- batch loss and accuracy : 6.4040236\t0.0000\n",
      "- batch loss and accuracy : 0.0024166\t1.0000\n"
     ]
    },
    {
     "name": "stderr",
     "output_type": "stream",
     "text": [
      "epoch 8 - train: 40it [00:00, 96.60it/s]"
     ]
    },
    {
     "name": "stdout",
     "output_type": "stream",
     "text": [
      "- batch loss and accuracy : 0.0096312\t1.0000\n",
      "- batch loss and accuracy : 0.0082447\t1.0000\n",
      "- batch loss and accuracy : 0.0090631\t1.0000\n",
      "- batch loss and accuracy : 0.0110039\t1.0000\n",
      "- batch loss and accuracy : 0.0101216\t1.0000\n",
      "- batch loss and accuracy : 0.0232803\t1.0000\n",
      "- batch loss and accuracy : 0.0222864\t1.0000\n",
      "- batch loss and accuracy : 3.5341001\t0.0000\n",
      "- batch loss and accuracy : 3.3120513\t0.0000\n",
      "- batch loss and accuracy : 0.0616928\t1.0000\n",
      "- batch loss and accuracy : 0.1711885\t1.0000\n",
      "- batch loss and accuracy : 1.4850706\t0.0000\n",
      "- batch loss and accuracy : 0.5589032\t0.6667\n",
      "- batch loss and accuracy : 0.7778298\t0.3333\n"
     ]
    },
    {
     "name": "stderr",
     "output_type": "stream",
     "text": [
      "epoch 8 - train: 51it [00:00, 100.95it/s]"
     ]
    },
    {
     "name": "stdout",
     "output_type": "stream",
     "text": [
      "- batch loss and accuracy : 0.8193828\t0.6667\n",
      "- batch loss and accuracy : 0.8754267\t0.0000\n",
      "- batch loss and accuracy : 0.8534921\t0.3333\n",
      "- batch loss and accuracy : 0.7879801\t0.0000\n",
      "- batch loss and accuracy : 0.4353918\t1.0000\n",
      "- batch loss and accuracy : 0.3144000\t1.0000\n",
      "- batch loss and accuracy : 0.1183983\t1.0000\n",
      "- batch loss and accuracy : 0.1127054\t1.0000\n"
     ]
    },
    {
     "name": "stderr",
     "output_type": "stream",
     "text": [
      "epoch 8 - train: 63it [00:00, 106.41it/s]"
     ]
    },
    {
     "name": "stdout",
     "output_type": "stream",
     "text": [
      "- batch loss and accuracy : 0.0497753\t1.0000\n",
      "- batch loss and accuracy : 3.7887306\t0.0000\n",
      "- batch loss and accuracy : 0.0245884\t1.0000\n",
      "- batch loss and accuracy : 0.0296304\t1.0000\n",
      "- batch loss and accuracy : 3.3012207\t0.0000\n",
      "- batch loss and accuracy : 0.0335079\t1.0000\n",
      "- batch loss and accuracy : 0.0343384\t1.0000\n",
      "- batch loss and accuracy : 0.0403343\t1.0000\n",
      "- batch loss and accuracy : 2.9349983\t0.0000\n",
      "- batch loss and accuracy : 2.1680884\t0.0000\n",
      "- batch loss and accuracy : 1.9445742\t0.0000\n",
      "- batch loss and accuracy : 0.3413795\t1.0000\n",
      "- batch loss and accuracy : 0.6997917\t0.3333\n",
      "- batch loss and accuracy : 1.1107625\t0.3333\n",
      "- batch loss and accuracy : 1.2017546\t0.0000\n",
      "- batch loss and accuracy : 1.1636510\t0.0000\n"
     ]
    },
    {
     "name": "stderr",
     "output_type": "stream",
     "text": [
      "epoch 8 - train: 74it [00:00, 107.12it/s]"
     ]
    },
    {
     "name": "stdout",
     "output_type": "stream",
     "text": [
      "- batch loss and accuracy : 0.9510043\t0.0000\n",
      "- batch loss and accuracy : 0.7020161\t0.3333\n",
      "- batch loss and accuracy : 0.4609633\t0.6667\n",
      "- batch loss and accuracy : 0.2242347\t1.0000\n",
      "- batch loss and accuracy : 0.1181256\t1.0000\n",
      "- batch loss and accuracy : 0.0454668\t1.0000\n",
      "- batch loss and accuracy : 0.0609534\t1.0000\n"
     ]
    },
    {
     "name": "stderr",
     "output_type": "stream",
     "text": [
      "epoch 8 - train: 86it [00:00, 108.68it/s]"
     ]
    },
    {
     "name": "stdout",
     "output_type": "stream",
     "text": [
      "- batch loss and accuracy : 3.6283052\t0.0000\n",
      "- batch loss and accuracy : 0.0253640\t1.0000\n",
      "- batch loss and accuracy : 0.0195014\t1.0000\n",
      "- batch loss and accuracy : 4.2885494\t0.0000\n",
      "- batch loss and accuracy : 0.0262980\t1.0000\n",
      "- batch loss and accuracy : 0.0159062\t1.0000\n",
      "- batch loss and accuracy : 3.6088855\t0.0000\n",
      "- batch loss and accuracy : 0.0543715\t1.0000\n",
      "- batch loss and accuracy : 0.1101106\t1.0000\n",
      "- batch loss and accuracy : 0.0905687\t1.0000\n",
      "- batch loss and accuracy : 0.1983671\t1.0000\n",
      "- batch loss and accuracy : 0.1349041\t1.0000\n",
      "- batch loss and accuracy : 0.1988029\t1.0000\n",
      "- batch loss and accuracy : 0.1444062\t1.0000\n",
      "- batch loss and accuracy : 1.9058447\t0.0000\n"
     ]
    },
    {
     "name": "stderr",
     "output_type": "stream",
     "text": [
      "epoch 8 - train: 98it [00:00, 110.79it/s]"
     ]
    },
    {
     "name": "stdout",
     "output_type": "stream",
     "text": [
      "- batch loss and accuracy : 0.2522406\t1.0000\n",
      "- batch loss and accuracy : 0.2849550\t1.0000\n",
      "- batch loss and accuracy : 0.3445147\t1.0000\n",
      "- batch loss and accuracy : 0.2921153\t1.0000\n",
      "- batch loss and accuracy : 0.2205419\t1.0000\n",
      "- batch loss and accuracy : 0.3321165\t1.0000\n",
      "- batch loss and accuracy : 0.2092865\t1.0000\n",
      "- batch loss and accuracy : 0.1793685\t1.0000\n",
      "- batch loss and accuracy : 0.0945374\t1.0000\n"
     ]
    },
    {
     "name": "stderr",
     "output_type": "stream",
     "text": [
      "epoch 8 - train: 110it [00:01, 110.21it/s]"
     ]
    },
    {
     "name": "stdout",
     "output_type": "stream",
     "text": [
      "- batch loss and accuracy : 2.9215736\t0.0000\n",
      "- batch loss and accuracy : 0.0906398\t1.0000\n",
      "- batch loss and accuracy : 0.0772589\t1.0000\n",
      "- batch loss and accuracy : 0.0904417\t1.0000\n",
      "- batch loss and accuracy : 0.1153083\t1.0000\n",
      "- batch loss and accuracy : 0.0776737\t1.0000\n",
      "- batch loss and accuracy : 2.4200978\t0.0000\n",
      "- batch loss and accuracy : 0.0826952\t1.0000\n",
      "- batch loss and accuracy : 2.0194440\t0.0000\n",
      "- batch loss and accuracy : 0.1791248\t1.0000\n",
      "- batch loss and accuracy : 0.2776584\t1.0000\n",
      "- batch loss and accuracy : 1.2329211\t0.0000\n",
      "- batch loss and accuracy : 0.5411655\t0.6667\n",
      "- batch loss and accuracy : 0.8937405\t0.3333\n",
      "- batch loss and accuracy : 0.9094257\t0.3333\n"
     ]
    },
    {
     "name": "stderr",
     "output_type": "stream",
     "text": [
      "epoch 8 - train: 123it [00:01, 113.86it/s]"
     ]
    },
    {
     "name": "stdout",
     "output_type": "stream",
     "text": [
      "- batch loss and accuracy : 0.4671509\t0.6667\n",
      "- batch loss and accuracy : 1.2571306\t0.0000\n",
      "- batch loss and accuracy : 0.3831298\t0.6667\n",
      "- batch loss and accuracy : 1.0712298\t0.0000\n",
      "- batch loss and accuracy : 0.4617653\t1.0000\n",
      "- batch loss and accuracy : 1.3029619\t0.0000\n",
      "- batch loss and accuracy : 1.0549903\t0.0000\n",
      "- batch loss and accuracy : 0.8706639\t0.3333\n",
      "- batch loss and accuracy : 0.8632702\t0.3333\n"
     ]
    },
    {
     "name": "stderr",
     "output_type": "stream",
     "text": [
      "epoch 8 - train: 135it [00:01, 109.99it/s]"
     ]
    },
    {
     "name": "stdout",
     "output_type": "stream",
     "text": [
      "- batch loss and accuracy : 0.3961757\t1.0000\n",
      "- batch loss and accuracy : 0.2181224\t1.0000\n",
      "- batch loss and accuracy : 1.8771958\t0.0000\n",
      "- batch loss and accuracy : 1.7051141\t0.0000\n",
      "- batch loss and accuracy : 1.3715043\t0.0000\n",
      "- batch loss and accuracy : 0.3773906\t1.0000\n",
      "- batch loss and accuracy : 0.4451398\t1.0000\n",
      "- batch loss and accuracy : 0.5183456\t1.0000\n",
      "- batch loss and accuracy : 0.3840707\t1.0000\n",
      "- batch loss and accuracy : 0.3407902\t1.0000\n",
      "- batch loss and accuracy : 0.2760031\t1.0000\n",
      "- batch loss and accuracy : 1.6135325\t0.0000\n",
      "- batch loss and accuracy : 0.1706739\t1.0000\n",
      "- batch loss and accuracy : 1.8790104\t0.0000\n",
      "- batch loss and accuracy : 0.2899579\t1.0000\n",
      "- batch loss and accuracy : 0.2522906\t1.0000\n",
      "- batch loss and accuracy : 1.2181304\t0.0000\n",
      "- batch loss and accuracy : 0.3506829\t1.0000\n",
      "- batch loss and accuracy : 0.8442081\t0.3333\n",
      "- batch loss and accuracy : 0.7874368\t0.0000\n",
      "- batch loss and accuracy : 0.6246555\t1.0000\n",
      "- batch loss and accuracy : 0.9164569\t0.3333\n"
     ]
    },
    {
     "name": "stderr",
     "output_type": "stream",
     "text": [
      "epoch 8 - train: 159it [00:01, 107.28it/s]"
     ]
    },
    {
     "name": "stdout",
     "output_type": "stream",
     "text": [
      "- batch loss and accuracy : 0.4220645\t1.0000\n",
      "- batch loss and accuracy : 0.3487341\t1.0000\n",
      "- batch loss and accuracy : 0.3599819\t1.0000\n",
      "- batch loss and accuracy : 0.3337590\t1.0000\n",
      "- batch loss and accuracy : 0.2612984\t1.0000\n",
      "- batch loss and accuracy : 0.1880523\t1.0000\n",
      "- batch loss and accuracy : 2.5908325\t0.0000\n",
      "- batch loss and accuracy : 0.0930700\t1.0000\n",
      "- batch loss and accuracy : 2.6832142\t0.0000\n",
      "- batch loss and accuracy : 2.5200496\t0.0000\n",
      "- batch loss and accuracy : 1.6433516\t0.0000\n",
      "- batch loss and accuracy : 1.5147698\t0.0000\n",
      "- batch loss and accuracy : 0.9300861\t0.0000\n",
      "- batch loss and accuracy : 0.5110018\t1.0000\n",
      "- batch loss and accuracy : 1.5214924\t0.0000\n",
      "- batch loss and accuracy : 0.1505622\t1.0000\n",
      "- batch loss and accuracy : 2.0056455\t0.0000\n",
      "- batch loss and accuracy : 0.1282758\t1.0000\n",
      "- batch loss and accuracy : 0.1281895\t1.0000\n"
     ]
    },
    {
     "name": "stderr",
     "output_type": "stream",
     "text": [
      "epoch 8 - train: 170it [00:01, 101.11it/s]"
     ]
    },
    {
     "name": "stdout",
     "output_type": "stream",
     "text": [
      "- batch loss and accuracy : 2.3691063\t0.0000\n",
      "- batch loss and accuracy : 2.3570800\t0.0000\n",
      "- batch loss and accuracy : 0.2436027\t1.0000\n",
      "- batch loss and accuracy : 0.2872418\t1.0000\n",
      "- batch loss and accuracy : 1.4565448\t0.0000\n",
      "- batch loss and accuracy : 0.5762175\t1.0000\n",
      "- batch loss and accuracy : 0.7172181\t0.3333\n",
      "- batch loss and accuracy : 0.6900167\t0.3333\n",
      "- batch loss and accuracy : 0.5697180\t0.6667\n",
      "- batch loss and accuracy : 0.5635187\t0.6667\n",
      "- batch loss and accuracy : 0.3481519\t1.0000\n",
      "- batch loss and accuracy : 0.7634206\t0.3333\n",
      "- batch loss and accuracy : 0.9924557\t0.0000\n",
      "- batch loss and accuracy : 0.8214290\t0.3333\n"
     ]
    },
    {
     "name": "stderr",
     "output_type": "stream",
     "text": [
      "epoch 8 - train: 181it [00:01, 103.15it/s]"
     ]
    },
    {
     "name": "stdout",
     "output_type": "stream",
     "text": [
      "- batch loss and accuracy : 0.7273182\t0.6667\n",
      "- batch loss and accuracy : 0.7227968\t0.3333\n",
      "- batch loss and accuracy : 0.7874411\t0.3333\n",
      "- batch loss and accuracy : 0.3638156\t1.0000\n",
      "- batch loss and accuracy : 0.2254428\t1.0000\n",
      "- batch loss and accuracy : 0.1451388\t1.0000\n",
      "- batch loss and accuracy : 2.2791533\t0.0000\n"
     ]
    },
    {
     "name": "stderr",
     "output_type": "stream",
     "text": [
      "epoch 8 - train: 192it [00:01, 102.85it/s]"
     ]
    },
    {
     "name": "stdout",
     "output_type": "stream",
     "text": [
      "- batch loss and accuracy : 2.8153687\t0.0000\n",
      "- batch loss and accuracy : 0.0601962\t1.0000\n",
      "- batch loss and accuracy : 0.0740350\t1.0000\n",
      "- batch loss and accuracy : 0.1396507\t1.0000\n",
      "- batch loss and accuracy : 0.1303741\t1.0000\n",
      "- batch loss and accuracy : 0.0610624\t1.0000\n",
      "- batch loss and accuracy : 0.1151337\t1.0000\n",
      "- batch loss and accuracy : 0.1065250\t1.0000\n",
      "- batch loss and accuracy : 0.1307891\t1.0000\n",
      "- batch loss and accuracy : 0.1157292\t1.0000\n",
      "- batch loss and accuracy : 0.0798755\t1.0000\n",
      "- batch loss and accuracy : 0.0555805\t1.0000\n",
      "- batch loss and accuracy : 2.6293476\t0.0000\n",
      "- batch loss and accuracy : 0.0965281\t1.0000\n",
      "- batch loss and accuracy : 2.2005630\t0.0000\n",
      "- batch loss and accuracy : 2.1506958\t0.0000\n"
     ]
    },
    {
     "name": "stderr",
     "output_type": "stream",
     "text": [
      "epoch 8 - train: 203it [00:01, 104.46it/s]"
     ]
    },
    {
     "name": "stdout",
     "output_type": "stream",
     "text": [
      "- batch loss and accuracy : 0.2632447\t1.0000\n",
      "- batch loss and accuracy : 0.4894201\t1.0000\n",
      "- batch loss and accuracy : 0.5358521\t1.0000\n",
      "- batch loss and accuracy : 1.0292087\t0.0000\n",
      "- batch loss and accuracy : 0.5642625\t1.0000\n",
      "- batch loss and accuracy : 0.3776257\t1.0000\n"
     ]
    },
    {
     "name": "stderr",
     "output_type": "stream",
     "text": [
      "epoch 8 - train: 215it [00:02, 106.80it/s]"
     ]
    },
    {
     "name": "stdout",
     "output_type": "stream",
     "text": [
      "- batch loss and accuracy : 1.6195272\t0.0000\n",
      "- batch loss and accuracy : 1.9435670\t0.0000\n",
      "- batch loss and accuracy : 1.3066785\t0.0000\n",
      "- batch loss and accuracy : 0.4376943\t1.0000\n",
      "- batch loss and accuracy : 0.9123594\t0.0000\n",
      "- batch loss and accuracy : 0.9109134\t0.3333\n",
      "- batch loss and accuracy : 0.9460268\t0.3333\n",
      "- batch loss and accuracy : 1.0507019\t0.0000\n",
      "- batch loss and accuracy : 0.6921885\t0.3333\n",
      "- batch loss and accuracy : 0.3351049\t1.0000\n",
      "- batch loss and accuracy : 0.3476180\t1.0000\n",
      "- batch loss and accuracy : 1.5274479\t0.0000\n",
      "- batch loss and accuracy : 0.2079085\t1.0000\n",
      "- batch loss and accuracy : 0.2244570\t1.0000\n",
      "- batch loss and accuracy : 1.9903497\t0.0000\n",
      "- batch loss and accuracy : 1.8862541\t0.0000\n"
     ]
    },
    {
     "name": "stderr",
     "output_type": "stream",
     "text": [
      "epoch 8 - train: 226it [00:02, 103.64it/s]"
     ]
    },
    {
     "name": "stdout",
     "output_type": "stream",
     "text": [
      "- batch loss and accuracy : 0.3318222\t1.0000\n",
      "- batch loss and accuracy : 0.9950032\t0.0000\n",
      "- batch loss and accuracy : 0.7689714\t0.3333\n",
      "- batch loss and accuracy : 0.7424819\t0.6667\n",
      "- batch loss and accuracy : 0.8286066\t0.3333\n",
      "- batch loss and accuracy : 0.5861330\t0.6667\n"
     ]
    },
    {
     "name": "stderr",
     "output_type": "stream",
     "text": [
      "epoch 8 - train: 237it [00:02, 105.40it/s]"
     ]
    },
    {
     "name": "stdout",
     "output_type": "stream",
     "text": [
      "- batch loss and accuracy : 0.7049687\t0.3333\n",
      "- batch loss and accuracy : 0.4116084\t1.0000\n",
      "- batch loss and accuracy : 0.2623615\t1.0000\n",
      "- batch loss and accuracy : 0.1326441\t1.0000\n",
      "- batch loss and accuracy : 0.0560078\t1.0000\n",
      "- batch loss and accuracy : 2.7549343\t0.0000\n",
      "- batch loss and accuracy : 0.0601741\t1.0000\n",
      "- batch loss and accuracy : 0.0557128\t1.0000\n",
      "- batch loss and accuracy : 3.6936433\t0.0000\n",
      "- batch loss and accuracy : 2.8812776\t0.0000\n",
      "- batch loss and accuracy : 0.0722521\t1.0000\n",
      "- batch loss and accuracy : 0.1075680\t1.0000\n",
      "- batch loss and accuracy : 0.1533308\t1.0000\n",
      "- batch loss and accuracy : 1.7908721\t0.0000\n",
      "- batch loss and accuracy : 0.3647493\t1.0000\n",
      "- batch loss and accuracy : 0.5578806\t0.6667\n",
      "- batch loss and accuracy : 0.5146682\t1.0000\n"
     ]
    },
    {
     "name": "stderr",
     "output_type": "stream",
     "text": [
      "epoch 8 - train: 249it [00:02, 103.53it/s]\n"
     ]
    },
    {
     "name": "stdout",
     "output_type": "stream",
     "text": [
      "- batch loss and accuracy : 0.7227591\t0.3333\n",
      "- batch loss and accuracy : 0.9592439\t0.3333\n"
     ]
    },
    {
     "name": "stderr",
     "output_type": "stream",
     "text": [
      "epoch 8 - validation: 100%|██████████| 63/63 [00:00<00:00, 121.84it/s]"
     ]
    },
    {
     "name": "stdout",
     "output_type": "stream",
     "text": [
      "Validation loss and accuracy : 0.6973959\t0.5450\n",
      "EPOCH 9\n"
     ]
    },
    {
     "name": "stderr",
     "output_type": "stream",
     "text": [
      "\n",
      "epoch 9 - train: 9it [00:00, 85.46it/s]"
     ]
    },
    {
     "name": "stdout",
     "output_type": "stream",
     "text": [
      "- batch loss and accuracy : 0.7184430\t0.3333\n",
      "- batch loss and accuracy : 0.6701349\t0.6667\n",
      "- batch loss and accuracy : 0.7256098\t0.3333\n",
      "- batch loss and accuracy : 0.4746507\t1.0000\n",
      "- batch loss and accuracy : 2.1671534\t0.0000\n",
      "- batch loss and accuracy : 1.9481876\t0.0000\n",
      "- batch loss and accuracy : 1.6547923\t0.0000\n",
      "- batch loss and accuracy : 0.3264119\t1.0000\n",
      "- batch loss and accuracy : 0.3324816\t1.0000\n",
      "- batch loss and accuracy : 0.5484681\t0.6667\n",
      "- batch loss and accuracy : 0.5287707\t0.6667\n",
      "- batch loss and accuracy : 0.1916091\t1.0000\n",
      "- batch loss and accuracy : 0.2718658\t1.0000\n",
      "- batch loss and accuracy : 1.3098571\t0.0000\n",
      "- batch loss and accuracy : 0.1875091\t1.0000\n",
      "- batch loss and accuracy : 0.1333673\t1.0000\n",
      "- batch loss and accuracy : 1.7177706\t0.0000\n"
     ]
    },
    {
     "name": "stderr",
     "output_type": "stream",
     "text": [
      "epoch 9 - train: 21it [00:00, 100.89it/s]"
     ]
    },
    {
     "name": "stdout",
     "output_type": "stream",
     "text": [
      "- batch loss and accuracy : 0.2105136\t1.0000\n",
      "- batch loss and accuracy : 1.6484345\t0.0000\n",
      "- batch loss and accuracy : 1.4125781\t0.3333\n",
      "- batch loss and accuracy : 0.5348060\t0.6667\n",
      "- batch loss and accuracy : 0.9305009\t0.6667\n",
      "- batch loss and accuracy : 0.7749544\t0.3333\n"
     ]
    },
    {
     "name": "stderr",
     "output_type": "stream",
     "text": [
      "epoch 9 - train: 33it [00:00, 104.67it/s]"
     ]
    },
    {
     "name": "stdout",
     "output_type": "stream",
     "text": [
      "- batch loss and accuracy : 0.6995263\t0.6667\n",
      "- batch loss and accuracy : 0.9826505\t0.3333\n",
      "- batch loss and accuracy : 0.7220659\t0.3333\n",
      "- batch loss and accuracy : 0.6331882\t0.6667\n",
      "- batch loss and accuracy : 0.4841167\t1.0000\n",
      "- batch loss and accuracy : 0.3793033\t1.0000\n",
      "- batch loss and accuracy : 1.7887057\t0.0000\n",
      "- batch loss and accuracy : 0.1745115\t1.0000\n",
      "- batch loss and accuracy : 2.1352715\t0.0000\n",
      "- batch loss and accuracy : 0.1584210\t1.0000\n",
      "- batch loss and accuracy : 0.1590663\t1.0000\n",
      "- batch loss and accuracy : 0.1709097\t1.0000\n",
      "- batch loss and accuracy : 1.9192953\t0.0000\n",
      "- batch loss and accuracy : 0.2201610\t1.0000\n",
      "- batch loss and accuracy : 0.1978866\t1.0000\n",
      "- batch loss and accuracy : 0.2289369\t1.0000\n"
     ]
    },
    {
     "name": "stderr",
     "output_type": "stream",
     "text": [
      "epoch 9 - train: 44it [00:00, 106.61it/s]"
     ]
    },
    {
     "name": "stdout",
     "output_type": "stream",
     "text": [
      "- batch loss and accuracy : 0.1982795\t1.0000\n",
      "- batch loss and accuracy : 0.1668641\t1.0000\n",
      "- batch loss and accuracy : 0.1713375\t1.0000\n",
      "- batch loss and accuracy : 0.1381957\t1.0000\n",
      "- batch loss and accuracy : 1.9003515\t0.0000\n",
      "- batch loss and accuracy : 0.1271079\t1.0000\n",
      "- batch loss and accuracy : 0.1918145\t1.0000\n"
     ]
    },
    {
     "name": "stderr",
     "output_type": "stream",
     "text": [
      "epoch 9 - train: 56it [00:00, 109.18it/s]"
     ]
    },
    {
     "name": "stdout",
     "output_type": "stream",
     "text": [
      "- batch loss and accuracy : 0.1399899\t1.0000\n",
      "- batch loss and accuracy : 0.1908760\t1.0000\n",
      "- batch loss and accuracy : 0.1884331\t1.0000\n",
      "- batch loss and accuracy : 0.1096900\t1.0000\n",
      "- batch loss and accuracy : 2.5682220\t0.0000\n",
      "- batch loss and accuracy : 0.1520250\t1.0000\n",
      "- batch loss and accuracy : 0.0862313\t1.0000\n",
      "- batch loss and accuracy : 0.1409501\t1.0000\n",
      "- batch loss and accuracy : 0.1333791\t1.0000\n",
      "- batch loss and accuracy : 0.1297232\t1.0000\n",
      "- batch loss and accuracy : 2.1352711\t0.0000\n",
      "- batch loss and accuracy : 0.2109225\t1.0000\n",
      "- batch loss and accuracy : 1.9212626\t0.0000\n",
      "- batch loss and accuracy : 0.2665350\t1.0000\n",
      "- batch loss and accuracy : 0.4095627\t1.0000\n",
      "- batch loss and accuracy : 1.3156350\t0.0000\n",
      "- batch loss and accuracy : 0.7751314\t0.3333\n",
      "- batch loss and accuracy : 0.7199194\t0.3333\n"
     ]
    },
    {
     "name": "stderr",
     "output_type": "stream",
     "text": [
      "epoch 9 - train: 68it [00:00, 111.92it/s]"
     ]
    },
    {
     "name": "stdout",
     "output_type": "stream",
     "text": [
      "- batch loss and accuracy : 0.8945645\t0.0000\n",
      "- batch loss and accuracy : 0.4802946\t1.0000\n",
      "- batch loss and accuracy : 1.3486710\t0.0000\n",
      "- batch loss and accuracy : 1.1810284\t0.0000\n",
      "- batch loss and accuracy : 0.5482115\t1.0000\n"
     ]
    },
    {
     "name": "stderr",
     "output_type": "stream",
     "text": [
      "epoch 9 - train: 80it [00:00, 109.33it/s]"
     ]
    },
    {
     "name": "stdout",
     "output_type": "stream",
     "text": [
      "- batch loss and accuracy : 0.9661233\t0.3333\n",
      "- batch loss and accuracy : 0.7974517\t0.3333\n",
      "- batch loss and accuracy : 0.6537430\t0.6667\n",
      "- batch loss and accuracy : 0.9249676\t0.0000\n",
      "- batch loss and accuracy : 0.6492981\t0.6667\n",
      "- batch loss and accuracy : 0.4362133\t0.6667\n",
      "- batch loss and accuracy : 0.4099409\t1.0000\n",
      "- batch loss and accuracy : 1.6628449\t0.0000\n",
      "- batch loss and accuracy : 0.3514499\t1.0000\n",
      "- batch loss and accuracy : 0.1973943\t1.0000\n",
      "- batch loss and accuracy : 0.2406738\t1.0000\n",
      "- batch loss and accuracy : 0.1320534\t1.0000\n",
      "- batch loss and accuracy : 0.0630384\t1.0000\n",
      "- batch loss and accuracy : 0.0559650\t1.0000\n",
      "- batch loss and accuracy : 0.1150372\t1.0000\n",
      "- batch loss and accuracy : 0.0878663\t1.0000\n",
      "- batch loss and accuracy : 0.0466833\t1.0000\n",
      "- batch loss and accuracy : 0.0333077\t1.0000\n",
      "- batch loss and accuracy : 0.0335589\t1.0000\n",
      "- batch loss and accuracy : 0.0282456\t1.0000\n"
     ]
    },
    {
     "name": "stderr",
     "output_type": "stream",
     "text": [
      "epoch 9 - train: 102it [00:00, 100.05it/s]"
     ]
    },
    {
     "name": "stdout",
     "output_type": "stream",
     "text": [
      "- batch loss and accuracy : 0.0138932\t1.0000\n",
      "- batch loss and accuracy : 0.0125747\t1.0000\n",
      "- batch loss and accuracy : 4.3102422\t0.0000\n",
      "- batch loss and accuracy : 0.0150843\t1.0000\n",
      "- batch loss and accuracy : 4.2570753\t0.0000\n",
      "- batch loss and accuracy : 0.0358835\t1.0000\n",
      "- batch loss and accuracy : 0.0405253\t1.0000\n",
      "- batch loss and accuracy : 0.0533925\t1.0000\n",
      "- batch loss and accuracy : 0.0924960\t1.0000\n",
      "- batch loss and accuracy : 0.1228606\t1.0000\n",
      "- batch loss and accuracy : 0.1228756\t1.0000\n",
      "- batch loss and accuracy : 0.2286734\t1.0000\n",
      "- batch loss and accuracy : 1.8942746\t0.0000\n",
      "- batch loss and accuracy : 0.1955809\t1.0000\n",
      "- batch loss and accuracy : 1.8461020\t0.0000\n",
      "- batch loss and accuracy : 0.5245294\t1.0000\n",
      "- batch loss and accuracy : 0.5125724\t1.0000\n",
      "- batch loss and accuracy : 0.8359753\t0.3333\n",
      "- batch loss and accuracy : 0.8075950\t0.3333\n",
      "- batch loss and accuracy : 0.9691209\t0.0000\n",
      "- batch loss and accuracy : 0.4410584\t1.0000\n"
     ]
    },
    {
     "name": "stderr",
     "output_type": "stream",
     "text": [
      "epoch 9 - train: 125it [00:01, 102.73it/s]"
     ]
    },
    {
     "name": "stdout",
     "output_type": "stream",
     "text": [
      "- batch loss and accuracy : 0.3450131\t1.0000\n",
      "- batch loss and accuracy : 0.2153203\t1.0000\n",
      "- batch loss and accuracy : 1.9533786\t0.0000\n",
      "- batch loss and accuracy : 2.1532183\t0.0000\n",
      "- batch loss and accuracy : 1.8748355\t0.0000\n",
      "- batch loss and accuracy : 1.4651394\t0.0000\n",
      "- batch loss and accuracy : 1.1309674\t0.3333\n",
      "- batch loss and accuracy : 0.4979820\t1.0000\n",
      "- batch loss and accuracy : 0.2997654\t1.0000\n",
      "- batch loss and accuracy : 0.1190095\t1.0000\n",
      "- batch loss and accuracy : 3.3935843\t0.0000\n",
      "- batch loss and accuracy : 0.0350123\t1.0000\n",
      "- batch loss and accuracy : 4.1877146\t0.0000\n",
      "- batch loss and accuracy : 4.0983543\t0.0000\n",
      "- batch loss and accuracy : 4.0523639\t0.0000\n",
      "- batch loss and accuracy : 0.0238016\t1.0000\n",
      "- batch loss and accuracy : 0.0750156\t1.0000\n",
      "- batch loss and accuracy : 0.1225848\t1.0000\n",
      "- batch loss and accuracy : 0.2511898\t1.0000\n",
      "- batch loss and accuracy : 1.7859190\t0.0000\n",
      "- batch loss and accuracy : 0.4510863\t1.0000\n"
     ]
    },
    {
     "name": "stderr",
     "output_type": "stream",
     "text": [
      "epoch 9 - train: 148it [00:01, 102.57it/s]"
     ]
    },
    {
     "name": "stdout",
     "output_type": "stream",
     "text": [
      "- batch loss and accuracy : 0.4605734\t1.0000\n",
      "- batch loss and accuracy : 0.4602382\t1.0000\n",
      "- batch loss and accuracy : 0.6758091\t0.6667\n",
      "- batch loss and accuracy : 0.4645982\t1.0000\n",
      "- batch loss and accuracy : 0.9050111\t0.0000\n",
      "- batch loss and accuracy : 1.0759337\t0.0000\n",
      "- batch loss and accuracy : 0.7951525\t0.3333\n",
      "- batch loss and accuracy : 0.6801293\t0.6667\n",
      "- batch loss and accuracy : 0.9633331\t0.3333\n",
      "- batch loss and accuracy : 1.2568361\t0.0000\n",
      "- batch loss and accuracy : 0.3168104\t1.0000\n",
      "- batch loss and accuracy : 1.2592366\t0.0000\n",
      "- batch loss and accuracy : 0.3797858\t1.0000\n",
      "- batch loss and accuracy : 0.2425647\t1.0000\n",
      "- batch loss and accuracy : 0.3818882\t1.0000\n",
      "- batch loss and accuracy : 1.0897622\t0.0000\n",
      "- batch loss and accuracy : 1.2543696\t0.0000\n",
      "- batch loss and accuracy : 1.0183489\t0.3333\n",
      "- batch loss and accuracy : 0.7700120\t0.3333\n",
      "- batch loss and accuracy : 0.2572649\t1.0000\n",
      "- batch loss and accuracy : 0.2839944\t1.0000\n",
      "- batch loss and accuracy : 2.3427997\t0.0000\n"
     ]
    },
    {
     "name": "stderr",
     "output_type": "stream",
     "text": [
      "epoch 9 - train: 170it [00:01, 104.44it/s]"
     ]
    },
    {
     "name": "stdout",
     "output_type": "stream",
     "text": [
      "- batch loss and accuracy : 0.1579459\t1.0000\n",
      "- batch loss and accuracy : 0.0580439\t1.0000\n",
      "- batch loss and accuracy : 0.0381529\t1.0000\n",
      "- batch loss and accuracy : 3.6385846\t0.0000\n",
      "- batch loss and accuracy : 0.0677238\t1.0000\n",
      "- batch loss and accuracy : 0.0348078\t1.0000\n",
      "- batch loss and accuracy : 0.0308792\t1.0000\n",
      "- batch loss and accuracy : 2.9988470\t0.0000\n",
      "- batch loss and accuracy : 0.0558662\t1.0000\n",
      "- batch loss and accuracy : 0.0836923\t1.0000\n",
      "- batch loss and accuracy : 1.8458583\t0.0000\n",
      "- batch loss and accuracy : 2.3611028\t0.0000\n",
      "- batch loss and accuracy : 0.2939589\t1.0000\n",
      "- batch loss and accuracy : 0.5329546\t0.6667\n",
      "- batch loss and accuracy : 0.8140707\t0.3333\n",
      "- batch loss and accuracy : 0.6022137\t0.6667\n",
      "- batch loss and accuracy : 1.0801311\t0.0000\n",
      "- batch loss and accuracy : 0.3498896\t1.0000\n",
      "- batch loss and accuracy : 0.4008306\t1.0000\n",
      "- batch loss and accuracy : 1.1561556\t0.0000\n",
      "- batch loss and accuracy : 0.3974446\t0.6667\n",
      "- batch loss and accuracy : 0.2141133\t1.0000\n"
     ]
    },
    {
     "name": "stderr",
     "output_type": "stream",
     "text": [
      "epoch 9 - train: 181it [00:01, 101.48it/s]"
     ]
    },
    {
     "name": "stdout",
     "output_type": "stream",
     "text": [
      "- batch loss and accuracy : 1.8347437\t0.0000\n",
      "- batch loss and accuracy : 0.2306556\t1.0000\n",
      "- batch loss and accuracy : 1.2820156\t0.0000\n",
      "- batch loss and accuracy : 1.1362152\t0.0000\n",
      "- batch loss and accuracy : 0.7731108\t0.3333\n",
      "- batch loss and accuracy : 0.6805355\t0.6667\n",
      "- batch loss and accuracy : 0.5174004\t1.0000\n",
      "- batch loss and accuracy : 0.2678851\t1.0000\n",
      "- batch loss and accuracy : 0.1537853\t1.0000\n",
      "- batch loss and accuracy : 0.1478767\t1.0000\n",
      "- batch loss and accuracy : 0.0683130\t1.0000\n",
      "- batch loss and accuracy : 2.7678375\t0.0000\n",
      "- batch loss and accuracy : 0.0318509\t1.0000\n",
      "- batch loss and accuracy : 3.5343952\t0.0000\n",
      "- batch loss and accuracy : 0.0374855\t1.0000\n"
     ]
    },
    {
     "name": "stderr",
     "output_type": "stream",
     "text": [
      "epoch 9 - train: 192it [00:01, 99.93it/s] "
     ]
    },
    {
     "name": "stdout",
     "output_type": "stream",
     "text": [
      "- batch loss and accuracy : 3.3082976\t0.0000\n",
      "- batch loss and accuracy : 0.0526995\t1.0000\n",
      "- batch loss and accuracy : 0.1380989\t1.0000\n",
      "- batch loss and accuracy : 1.8109649\t0.0000\n",
      "- batch loss and accuracy : 0.2694453\t1.0000\n"
     ]
    },
    {
     "name": "stderr",
     "output_type": "stream",
     "text": [
      "epoch 9 - train: 204it [00:01, 103.78it/s]"
     ]
    },
    {
     "name": "stdout",
     "output_type": "stream",
     "text": [
      "- batch loss and accuracy : 0.4902462\t1.0000\n",
      "- batch loss and accuracy : 0.4646582\t0.6667\n",
      "- batch loss and accuracy : 0.7759684\t0.3333\n",
      "- batch loss and accuracy : 0.5469976\t1.0000\n",
      "- batch loss and accuracy : 1.0764639\t0.0000\n",
      "- batch loss and accuracy : 0.7411709\t0.3333\n",
      "- batch loss and accuracy : 0.6095750\t0.6667\n",
      "- batch loss and accuracy : 0.5611578\t1.0000\n",
      "- batch loss and accuracy : 0.5608433\t1.0000\n",
      "- batch loss and accuracy : 0.7662169\t0.3333\n",
      "- batch loss and accuracy : 1.1890025\t0.0000\n",
      "- batch loss and accuracy : 0.6534016\t0.6667\n",
      "- batch loss and accuracy : 0.8531153\t0.3333\n",
      "- batch loss and accuracy : 0.4171435\t1.0000\n",
      "- batch loss and accuracy : 0.4782699\t0.6667\n",
      "- batch loss and accuracy : 1.4452617\t0.0000\n",
      "- batch loss and accuracy : 0.2288356\t1.0000\n",
      "- batch loss and accuracy : 1.8372129\t0.0000\n"
     ]
    },
    {
     "name": "stderr",
     "output_type": "stream",
     "text": [
      "epoch 9 - train: 216it [00:02, 107.72it/s]"
     ]
    },
    {
     "name": "stdout",
     "output_type": "stream",
     "text": [
      "- batch loss and accuracy : 1.5146079\t0.0000\n",
      "- batch loss and accuracy : 0.3723173\t1.0000\n",
      "- batch loss and accuracy : 0.6525022\t0.6667\n",
      "- batch loss and accuracy : 0.3656673\t1.0000\n"
     ]
    },
    {
     "name": "stderr",
     "output_type": "stream",
     "text": [
      "epoch 9 - train: 227it [00:02, 102.45it/s]"
     ]
    },
    {
     "name": "stdout",
     "output_type": "stream",
     "text": [
      "- batch loss and accuracy : 0.4084351\t1.0000\n",
      "- batch loss and accuracy : 0.4203848\t1.0000\n",
      "- batch loss and accuracy : 0.9392692\t0.0000\n",
      "- batch loss and accuracy : 0.3097084\t1.0000\n",
      "- batch loss and accuracy : 0.3825123\t1.0000\n",
      "- batch loss and accuracy : 0.1952842\t1.0000\n",
      "- batch loss and accuracy : 0.2124753\t1.0000\n",
      "- batch loss and accuracy : 0.1303270\t1.0000\n",
      "- batch loss and accuracy : 2.7352989\t0.0000\n",
      "- batch loss and accuracy : 0.0865574\t1.0000\n",
      "- batch loss and accuracy : 0.1369282\t1.0000\n",
      "- batch loss and accuracy : 0.1077127\t1.0000\n",
      "- batch loss and accuracy : 0.1063326\t1.0000\n",
      "- batch loss and accuracy : 2.4190557\t0.0000\n",
      "- batch loss and accuracy : 2.4451215\t0.0000\n",
      "- batch loss and accuracy : 0.2615769\t1.0000\n",
      "- batch loss and accuracy : 1.5318874\t0.0000\n"
     ]
    },
    {
     "name": "stderr",
     "output_type": "stream",
     "text": [
      "epoch 9 - train: 239it [00:02, 106.86it/s]"
     ]
    },
    {
     "name": "stdout",
     "output_type": "stream",
     "text": [
      "- batch loss and accuracy : 0.4270537\t1.0000\n",
      "- batch loss and accuracy : 0.4946657\t0.6667\n",
      "- batch loss and accuracy : 0.7726601\t0.3333\n",
      "- batch loss and accuracy : 1.1264677\t0.0000\n",
      "- batch loss and accuracy : 0.8814422\t0.3333\n"
     ]
    },
    {
     "name": "stderr",
     "output_type": "stream",
     "text": [
      "epoch 9 - train: 249it [00:02, 103.50it/s]\n"
     ]
    },
    {
     "name": "stdout",
     "output_type": "stream",
     "text": [
      "- batch loss and accuracy : 0.6298370\t0.6667\n",
      "- batch loss and accuracy : 0.4608082\t0.6667\n",
      "- batch loss and accuracy : 0.1863355\t1.0000\n",
      "- batch loss and accuracy : 0.0954409\t1.0000\n",
      "- batch loss and accuracy : 0.0895861\t1.0000\n",
      "- batch loss and accuracy : 0.0608721\t1.0000\n",
      "- batch loss and accuracy : 3.9706874\t0.0000\n",
      "- batch loss and accuracy : 3.8225696\t0.0000\n",
      "- batch loss and accuracy : 3.4402380\t0.0000\n",
      "- batch loss and accuracy : 0.0876158\t1.0000\n"
     ]
    },
    {
     "name": "stderr",
     "output_type": "stream",
     "text": [
      "epoch 9 - validation: 100%|██████████| 63/63 [00:00<00:00, 123.07it/s]"
     ]
    },
    {
     "name": "stdout",
     "output_type": "stream",
     "text": [
      "Validation loss and accuracy : 0.6964474\t0.7143\n",
      "EPOCH 10\n"
     ]
    },
    {
     "name": "stderr",
     "output_type": "stream",
     "text": [
      "\n",
      "epoch 10 - train: 9it [00:00, 84.60it/s]"
     ]
    },
    {
     "name": "stdout",
     "output_type": "stream",
     "text": [
      "- batch loss and accuracy : 0.1004131\t1.0000\n",
      "- batch loss and accuracy : 0.1425767\t1.0000\n",
      "- batch loss and accuracy : 0.2298769\t1.0000\n",
      "- batch loss and accuracy : 0.1736069\t1.0000\n",
      "- batch loss and accuracy : 0.3285064\t1.0000\n",
      "- batch loss and accuracy : 0.2752806\t1.0000\n",
      "- batch loss and accuracy : 0.4011262\t0.6667\n",
      "- batch loss and accuracy : 0.2789083\t1.0000\n",
      "- batch loss and accuracy : 1.6665157\t0.0000\n",
      "- batch loss and accuracy : 0.2055787\t1.0000\n",
      "- batch loss and accuracy : 0.1680207\t1.0000\n",
      "- batch loss and accuracy : 0.1837394\t1.0000\n",
      "- batch loss and accuracy : 0.1658757\t1.0000\n",
      "- batch loss and accuracy : 0.1758759\t1.0000\n",
      "- batch loss and accuracy : 2.0629320\t0.0000\n",
      "- batch loss and accuracy : 2.1763573\t0.0000\n",
      "- batch loss and accuracy : 0.1747994\t1.0000\n",
      "- batch loss and accuracy : 0.2190744\t1.0000\n"
     ]
    },
    {
     "name": "stderr",
     "output_type": "stream",
     "text": [
      "epoch 10 - train: 22it [00:00, 104.57it/s]"
     ]
    },
    {
     "name": "stdout",
     "output_type": "stream",
     "text": [
      "- batch loss and accuracy : 0.3841142\t1.0000\n",
      "- batch loss and accuracy : 0.4254402\t1.0000\n",
      "- batch loss and accuracy : 0.9530174\t0.0000\n",
      "- batch loss and accuracy : 0.9913251\t0.0000\n",
      "- batch loss and accuracy : 0.4381737\t1.0000\n",
      "- batch loss and accuracy : 0.6011323\t1.0000\n"
     ]
    },
    {
     "name": "stderr",
     "output_type": "stream",
     "text": [
      "epoch 10 - train: 34it [00:00, 108.60it/s]"
     ]
    },
    {
     "name": "stdout",
     "output_type": "stream",
     "text": [
      "- batch loss and accuracy : 1.1905880\t0.3333\n",
      "- batch loss and accuracy : 0.8783659\t0.0000\n",
      "- batch loss and accuracy : 0.9948348\t0.0000\n",
      "- batch loss and accuracy : 0.5271684\t0.6667\n",
      "- batch loss and accuracy : 0.6446642\t0.6667\n",
      "- batch loss and accuracy : 0.3715578\t1.0000\n",
      "- batch loss and accuracy : 0.1830674\t1.0000\n",
      "- batch loss and accuracy : 0.1343606\t1.0000\n",
      "- batch loss and accuracy : 0.0996605\t1.0000\n",
      "- batch loss and accuracy : 0.0283769\t1.0000\n",
      "- batch loss and accuracy : 0.0190281\t1.0000\n",
      "- batch loss and accuracy : 4.0846739\t0.0000\n",
      "- batch loss and accuracy : 0.0133454\t1.0000\n",
      "- batch loss and accuracy : 0.0078383\t1.0000\n",
      "- batch loss and accuracy : 0.0156335\t1.0000\n",
      "- batch loss and accuracy : 4.6200495\t0.0000\n",
      "- batch loss and accuracy : 4.2519083\t0.0000\n"
     ]
    },
    {
     "name": "stderr",
     "output_type": "stream",
     "text": [
      "epoch 10 - train: 45it [00:00, 108.42it/s]"
     ]
    },
    {
     "name": "stdout",
     "output_type": "stream",
     "text": [
      "- batch loss and accuracy : 0.0217856\t1.0000\n",
      "- batch loss and accuracy : 0.0428031\t1.0000\n",
      "- batch loss and accuracy : 2.8148985\t0.0000\n",
      "- batch loss and accuracy : 0.1912013\t1.0000\n",
      "- batch loss and accuracy : 0.3080060\t1.0000\n"
     ]
    },
    {
     "name": "stderr",
     "output_type": "stream",
     "text": [
      "epoch 10 - train: 56it [00:00, 105.67it/s]"
     ]
    },
    {
     "name": "stdout",
     "output_type": "stream",
     "text": [
      "- batch loss and accuracy : 0.4243601\t1.0000\n",
      "- batch loss and accuracy : 0.9582750\t0.3333\n",
      "- batch loss and accuracy : 0.5905871\t0.6667\n",
      "- batch loss and accuracy : 0.9244107\t0.0000\n",
      "- batch loss and accuracy : 1.0565181\t0.0000\n",
      "- batch loss and accuracy : 0.6557761\t0.6667\n",
      "- batch loss and accuracy : 0.8538563\t0.3333\n",
      "- batch loss and accuracy : 0.6733850\t0.3333\n",
      "- batch loss and accuracy : 0.4208989\t1.0000\n",
      "- batch loss and accuracy : 0.4011644\t1.0000\n",
      "- batch loss and accuracy : 0.2355326\t1.0000\n",
      "- batch loss and accuracy : 2.3336811\t0.0000\n",
      "- batch loss and accuracy : 2.2621043\t0.0000\n",
      "- batch loss and accuracy : 0.1581849\t1.0000\n",
      "- batch loss and accuracy : 1.9455731\t0.0000\n",
      "- batch loss and accuracy : 0.2848643\t1.0000\n",
      "- batch loss and accuracy : 1.5378120\t0.0000\n",
      "- batch loss and accuracy : 0.4960952\t0.6667\n",
      "- batch loss and accuracy : 0.7773087\t0.3333\n",
      "- batch loss and accuracy : 0.4729690\t1.0000\n"
     ]
    },
    {
     "name": "stderr",
     "output_type": "stream",
     "text": [
      "epoch 10 - train: 79it [00:00, 103.09it/s]"
     ]
    },
    {
     "name": "stdout",
     "output_type": "stream",
     "text": [
      "- batch loss and accuracy : 1.1181110\t0.0000\n",
      "- batch loss and accuracy : 0.7119245\t0.3333\n",
      "- batch loss and accuracy : 0.5662643\t0.6667\n",
      "- batch loss and accuracy : 0.5693350\t0.6667\n",
      "- batch loss and accuracy : 0.4684380\t0.6667\n",
      "- batch loss and accuracy : 1.5128918\t0.0000\n",
      "- batch loss and accuracy : 1.3129104\t0.0000\n",
      "- batch loss and accuracy : 0.3179154\t1.0000\n",
      "- batch loss and accuracy : 0.3445128\t1.0000\n",
      "- batch loss and accuracy : 0.3176056\t1.0000\n",
      "- batch loss and accuracy : 0.3657227\t1.0000\n",
      "- batch loss and accuracy : 1.2435858\t0.0000\n",
      "- batch loss and accuracy : 0.2982901\t1.0000\n",
      "- batch loss and accuracy : 0.3485657\t1.0000\n",
      "- batch loss and accuracy : 0.3064539\t1.0000\n",
      "- batch loss and accuracy : 1.7517116\t0.0000\n",
      "- batch loss and accuracy : 0.2028265\t1.0000\n",
      "- batch loss and accuracy : 0.2662455\t1.0000\n",
      "- batch loss and accuracy : 0.2157418\t1.0000\n",
      "- batch loss and accuracy : 0.2128235\t1.0000\n",
      "- batch loss and accuracy : 0.1768086\t1.0000\n",
      "- batch loss and accuracy : 0.1820644\t1.0000\n",
      "- batch loss and accuracy : 0.0939198\t1.0000\n"
     ]
    },
    {
     "name": "stderr",
     "output_type": "stream",
     "text": [
      "epoch 10 - train: 102it [00:00, 107.35it/s]"
     ]
    },
    {
     "name": "stdout",
     "output_type": "stream",
     "text": [
      "- batch loss and accuracy : 0.1074436\t1.0000\n",
      "- batch loss and accuracy : 3.1151829\t0.0000\n",
      "- batch loss and accuracy : 3.1907566\t0.0000\n",
      "- batch loss and accuracy : 0.1201923\t1.0000\n",
      "- batch loss and accuracy : 2.0248041\t0.0000\n",
      "- batch loss and accuracy : 1.6840996\t0.0000\n",
      "- batch loss and accuracy : 0.6013439\t0.6667\n",
      "- batch loss and accuracy : 0.6008395\t0.3333\n",
      "- batch loss and accuracy : 1.1792549\t0.0000\n",
      "- batch loss and accuracy : 0.1856759\t1.0000\n",
      "- batch loss and accuracy : 1.8748544\t0.0000\n",
      "- batch loss and accuracy : 2.1292458\t0.0000\n",
      "- batch loss and accuracy : 0.2127229\t1.0000\n",
      "- batch loss and accuracy : 0.2635126\t1.0000\n",
      "- batch loss and accuracy : 1.6600533\t0.0000\n",
      "- batch loss and accuracy : 0.4517657\t1.0000\n",
      "- batch loss and accuracy : 1.5461941\t0.0000\n",
      "- batch loss and accuracy : 0.6566188\t0.6667\n",
      "- batch loss and accuracy : 0.6717429\t0.6667\n",
      "- batch loss and accuracy : 0.8520724\t0.3333\n",
      "- batch loss and accuracy : 0.8104906\t0.3333\n",
      "- batch loss and accuracy : 0.5563774\t1.0000\n",
      "- batch loss and accuracy : 1.1519651\t0.0000\n"
     ]
    },
    {
     "name": "stderr",
     "output_type": "stream",
     "text": [
      "epoch 10 - train: 125it [00:01, 108.61it/s]"
     ]
    },
    {
     "name": "stdout",
     "output_type": "stream",
     "text": [
      "- batch loss and accuracy : 0.2304960\t1.0000\n",
      "- batch loss and accuracy : 1.8190529\t0.0000\n",
      "- batch loss and accuracy : 0.2464772\t1.0000\n",
      "- batch loss and accuracy : 1.8902454\t0.0000\n",
      "- batch loss and accuracy : 0.4423352\t1.0000\n",
      "- batch loss and accuracy : 0.3094422\t1.0000\n",
      "- batch loss and accuracy : 0.4184783\t1.0000\n",
      "- batch loss and accuracy : 1.4713652\t0.0000\n",
      "- batch loss and accuracy : 0.4056060\t1.0000\n",
      "- batch loss and accuracy : 0.3721147\t1.0000\n",
      "- batch loss and accuracy : 0.4020270\t1.0000\n",
      "- batch loss and accuracy : 1.3449829\t0.0000\n",
      "- batch loss and accuracy : 0.2543690\t1.0000\n",
      "- batch loss and accuracy : 0.4258648\t1.0000\n",
      "- batch loss and accuracy : 0.3710965\t1.0000\n",
      "- batch loss and accuracy : 0.2101674\t1.0000\n",
      "- batch loss and accuracy : 0.2155235\t1.0000\n",
      "- batch loss and accuracy : 0.2056879\t1.0000\n",
      "- batch loss and accuracy : 0.1205158\t1.0000\n",
      "- batch loss and accuracy : 0.0856014\t1.0000\n",
      "- batch loss and accuracy : 0.0664738\t1.0000\n",
      "- batch loss and accuracy : 0.0613424\t1.0000\n",
      "- batch loss and accuracy : 0.0323254\t1.0000\n"
     ]
    },
    {
     "name": "stderr",
     "output_type": "stream",
     "text": [
      "epoch 10 - train: 149it [00:01, 109.54it/s]"
     ]
    },
    {
     "name": "stdout",
     "output_type": "stream",
     "text": [
      "- batch loss and accuracy : 0.0338554\t1.0000\n",
      "- batch loss and accuracy : 0.0196691\t1.0000\n",
      "- batch loss and accuracy : 0.0147063\t1.0000\n",
      "- batch loss and accuracy : 0.0144964\t1.0000\n",
      "- batch loss and accuracy : 4.8792319\t0.0000\n",
      "- batch loss and accuracy : 0.0113484\t1.0000\n",
      "- batch loss and accuracy : 0.0174034\t1.0000\n",
      "- batch loss and accuracy : 0.0129944\t1.0000\n",
      "- batch loss and accuracy : 0.0191900\t1.0000\n",
      "- batch loss and accuracy : 0.0203505\t1.0000\n",
      "- batch loss and accuracy : 0.0159367\t1.0000\n",
      "- batch loss and accuracy : 3.7604167\t0.0000\n",
      "- batch loss and accuracy : 0.0257741\t1.0000\n",
      "- batch loss and accuracy : 0.0366898\t1.0000\n",
      "- batch loss and accuracy : 0.0602356\t1.0000\n",
      "- batch loss and accuracy : 0.0919900\t1.0000\n",
      "- batch loss and accuracy : 0.0990322\t1.0000\n",
      "- batch loss and accuracy : 0.0615536\t1.0000\n",
      "- batch loss and accuracy : 0.1219455\t1.0000\n",
      "- batch loss and accuracy : 0.1467113\t1.0000\n",
      "- batch loss and accuracy : 1.9846165\t0.0000\n",
      "- batch loss and accuracy : 0.1607322\t1.0000\n"
     ]
    },
    {
     "name": "stderr",
     "output_type": "stream",
     "text": [
      "epoch 10 - train: 172it [00:01, 109.97it/s]"
     ]
    },
    {
     "name": "stdout",
     "output_type": "stream",
     "text": [
      "- batch loss and accuracy : 0.1954066\t1.0000\n",
      "- batch loss and accuracy : 0.2524539\t1.0000\n",
      "- batch loss and accuracy : 0.1829643\t1.0000\n",
      "- batch loss and accuracy : 0.2274825\t1.0000\n",
      "- batch loss and accuracy : 1.9989884\t0.0000\n",
      "- batch loss and accuracy : 0.2603116\t1.0000\n",
      "- batch loss and accuracy : 1.3696575\t0.0000\n",
      "- batch loss and accuracy : 0.4277354\t1.0000\n",
      "- batch loss and accuracy : 0.4502352\t1.0000\n",
      "- batch loss and accuracy : 0.5681694\t0.6667\n",
      "- batch loss and accuracy : 0.7612610\t0.3333\n",
      "- batch loss and accuracy : 0.6493077\t0.6667\n",
      "- batch loss and accuracy : 0.5086120\t1.0000\n",
      "- batch loss and accuracy : 1.0625324\t0.0000\n",
      "- batch loss and accuracy : 1.2152143\t0.0000\n",
      "- batch loss and accuracy : 0.7304282\t0.6667\n",
      "- batch loss and accuracy : 0.6272817\t0.6667\n",
      "- batch loss and accuracy : 0.5416906\t0.6667\n",
      "- batch loss and accuracy : 0.3663987\t1.0000\n",
      "- batch loss and accuracy : 1.4063971\t0.0000\n",
      "- batch loss and accuracy : 0.3756648\t1.0000\n",
      "- batch loss and accuracy : 0.3454288\t1.0000\n",
      "- batch loss and accuracy : 0.2398532\t1.0000\n"
     ]
    },
    {
     "name": "stderr",
     "output_type": "stream",
     "text": [
      "epoch 10 - train: 196it [00:01, 111.58it/s]"
     ]
    },
    {
     "name": "stdout",
     "output_type": "stream",
     "text": [
      "- batch loss and accuracy : 1.5561950\t0.0000\n",
      "- batch loss and accuracy : 0.1511459\t1.0000\n",
      "- batch loss and accuracy : 0.1811207\t1.0000\n",
      "- batch loss and accuracy : 0.2472762\t1.0000\n",
      "- batch loss and accuracy : 0.1797616\t1.0000\n",
      "- batch loss and accuracy : 0.1026466\t1.0000\n",
      "- batch loss and accuracy : 2.5739222\t0.0000\n",
      "- batch loss and accuracy : 0.2131910\t1.0000\n",
      "- batch loss and accuracy : 0.1263397\t1.0000\n",
      "- batch loss and accuracy : 0.2136391\t1.0000\n",
      "- batch loss and accuracy : 0.1456961\t1.0000\n",
      "- batch loss and accuracy : 2.1275918\t0.0000\n",
      "- batch loss and accuracy : 2.0777776\t0.0000\n",
      "- batch loss and accuracy : 0.2454249\t1.0000\n",
      "- batch loss and accuracy : 1.6953772\t0.0000\n",
      "- batch loss and accuracy : 0.6177893\t0.6667\n",
      "- batch loss and accuracy : 0.7121172\t0.6667\n",
      "- batch loss and accuracy : 1.0782924\t0.0000\n",
      "- batch loss and accuracy : 0.4085660\t0.6667\n",
      "- batch loss and accuracy : 0.3605500\t1.0000\n",
      "- batch loss and accuracy : 1.7656908\t0.0000\n",
      "- batch loss and accuracy : 1.7155638\t0.0000\n",
      "- batch loss and accuracy : 0.2496006\t1.0000\n",
      "- batch loss and accuracy : 0.3067393\t1.0000\n"
     ]
    },
    {
     "name": "stderr",
     "output_type": "stream",
     "text": [
      "epoch 10 - train: 220it [00:02, 110.36it/s]"
     ]
    },
    {
     "name": "stdout",
     "output_type": "stream",
     "text": [
      "- batch loss and accuracy : 0.2779211\t1.0000\n",
      "- batch loss and accuracy : 1.6386762\t0.0000\n",
      "- batch loss and accuracy : 0.2573452\t1.0000\n",
      "- batch loss and accuracy : 1.2303618\t0.0000\n",
      "- batch loss and accuracy : 1.1046011\t0.0000\n",
      "- batch loss and accuracy : 0.7786574\t0.3333\n",
      "- batch loss and accuracy : 0.4155900\t1.0000\n",
      "- batch loss and accuracy : 0.2344926\t1.0000\n",
      "- batch loss and accuracy : 0.1377072\t1.0000\n",
      "- batch loss and accuracy : 0.0498216\t1.0000\n",
      "- batch loss and accuracy : 2.8841910\t0.0000\n",
      "- batch loss and accuracy : 3.6691310\t0.0000\n",
      "- batch loss and accuracy : 0.0252686\t1.0000\n",
      "- batch loss and accuracy : 3.0549297\t0.0000\n",
      "- batch loss and accuracy : 3.3096185\t0.0000\n",
      "- batch loss and accuracy : 0.0809484\t1.0000\n",
      "- batch loss and accuracy : 0.1581211\t1.0000\n",
      "- batch loss and accuracy : 0.2742696\t1.0000\n",
      "- batch loss and accuracy : 1.3771595\t0.0000\n",
      "- batch loss and accuracy : 0.5787650\t1.0000\n",
      "- batch loss and accuracy : 0.8570230\t0.6667\n",
      "- batch loss and accuracy : 0.7557120\t0.6667\n"
     ]
    },
    {
     "name": "stderr",
     "output_type": "stream",
     "text": [
      "epoch 10 - train: 244it [00:02, 110.67it/s]"
     ]
    },
    {
     "name": "stdout",
     "output_type": "stream",
     "text": [
      "- batch loss and accuracy : 0.5411354\t1.0000\n",
      "- batch loss and accuracy : 0.9337912\t0.0000\n",
      "- batch loss and accuracy : 0.4583642\t1.0000\n",
      "- batch loss and accuracy : 0.8129368\t0.3333\n",
      "- batch loss and accuracy : 1.1025611\t0.0000\n",
      "- batch loss and accuracy : 0.7750931\t0.3333\n",
      "- batch loss and accuracy : 0.7388713\t0.3333\n",
      "- batch loss and accuracy : 0.6733484\t0.3333\n",
      "- batch loss and accuracy : 1.0326202\t0.0000\n",
      "- batch loss and accuracy : 0.8836984\t0.0000\n",
      "- batch loss and accuracy : 0.6678990\t0.3333\n",
      "- batch loss and accuracy : 0.8927975\t0.0000\n",
      "- batch loss and accuracy : 0.4151357\t1.0000\n",
      "- batch loss and accuracy : 0.4437699\t1.0000\n",
      "- batch loss and accuracy : 1.7732553\t0.0000\n",
      "- batch loss and accuracy : 1.3559965\t0.0000\n",
      "- batch loss and accuracy : 1.1826879\t0.0000\n",
      "- batch loss and accuracy : 0.4289724\t1.0000\n",
      "- batch loss and accuracy : 0.4031307\t1.0000\n",
      "- batch loss and accuracy : 0.3453535\t1.0000\n",
      "- batch loss and accuracy : 1.1532600\t0.0000\n",
      "- batch loss and accuracy : 1.0033140\t0.0000\n",
      "- batch loss and accuracy : 0.5012254\t0.6667\n"
     ]
    },
    {
     "name": "stderr",
     "output_type": "stream",
     "text": [
      "epoch 10 - train: 249it [00:02, 107.00it/s]\n",
      "epoch 10 - validation: 100%|██████████| 63/63 [00:00<00:00, 129.03it/s]"
     ]
    },
    {
     "name": "stdout",
     "output_type": "stream",
     "text": [
      "Validation loss and accuracy : 0.5777040\t0.7249\n",
      "EPOCH 11\n"
     ]
    },
    {
     "name": "stderr",
     "output_type": "stream",
     "text": [
      "\n",
      "epoch 11 - train: 4it [00:00, 39.13it/s]"
     ]
    },
    {
     "name": "stdout",
     "output_type": "stream",
     "text": [
      "- batch loss and accuracy : 0.2576523\t1.0000\n",
      "- batch loss and accuracy : 2.0696816\t0.0000\n",
      "- batch loss and accuracy : 0.1656691\t1.0000\n",
      "- batch loss and accuracy : 0.0974806\t1.0000\n",
      "- batch loss and accuracy : 0.0926162\t1.0000\n",
      "- batch loss and accuracy : 0.0788705\t1.0000\n",
      "- batch loss and accuracy : 2.8113830\t0.0000\n",
      "- batch loss and accuracy : 0.0663926\t1.0000\n",
      "- batch loss and accuracy : 0.0656292\t1.0000\n",
      "- batch loss and accuracy : 0.0776910\t1.0000\n",
      "- batch loss and accuracy : 0.0792065\t1.0000\n",
      "- batch loss and accuracy : 2.6105065\t0.0000\n",
      "- batch loss and accuracy : 0.0836867\t1.0000\n"
     ]
    },
    {
     "name": "stderr",
     "output_type": "stream",
     "text": [
      "epoch 11 - train: 16it [00:00, 85.67it/s]"
     ]
    },
    {
     "name": "stdout",
     "output_type": "stream",
     "text": [
      "- batch loss and accuracy : 0.1517719\t1.0000\n",
      "- batch loss and accuracy : 0.2033462\t1.0000\n",
      "- batch loss and accuracy : 1.8290638\t0.0000\n",
      "- batch loss and accuracy : 1.5247558\t0.0000\n",
      "- batch loss and accuracy : 0.3850401\t1.0000\n",
      "- batch loss and accuracy : 0.7901903\t0.0000\n",
      "- batch loss and accuracy : 0.4613695\t0.6667\n",
      "- batch loss and accuracy : 1.3666210\t0.0000\n",
      "- batch loss and accuracy : 0.2672728\t1.0000\n",
      "- batch loss and accuracy : 1.9222426\t0.0000\n",
      "- batch loss and accuracy : 0.1429776\t1.0000\n",
      "- batch loss and accuracy : 1.3850589\t0.0000\n"
     ]
    },
    {
     "name": "stderr",
     "output_type": "stream",
     "text": [
      "epoch 11 - train: 27it [00:00, 96.36it/s]"
     ]
    },
    {
     "name": "stdout",
     "output_type": "stream",
     "text": [
      "- batch loss and accuracy : 0.2221524\t1.0000\n",
      "- batch loss and accuracy : 1.8843611\t0.0000\n",
      "- batch loss and accuracy : 0.2806140\t1.0000\n",
      "- batch loss and accuracy : 1.2239642\t0.0000\n",
      "- batch loss and accuracy : 1.4219640\t0.0000\n",
      "- batch loss and accuracy : 0.4837551\t1.0000\n",
      "- batch loss and accuracy : 0.2715311\t1.0000\n",
      "- batch loss and accuracy : 0.1736823\t1.0000\n",
      "- batch loss and accuracy : 0.0949507\t1.0000\n",
      "- batch loss and accuracy : 0.0357336\t1.0000\n"
     ]
    },
    {
     "name": "stderr",
     "output_type": "stream",
     "text": [
      "epoch 11 - train: 38it [00:00, 97.02it/s]"
     ]
    },
    {
     "name": "stdout",
     "output_type": "stream",
     "text": [
      "- batch loss and accuracy : 0.0206204\t1.0000\n",
      "- batch loss and accuracy : 4.5315361\t0.0000\n",
      "- batch loss and accuracy : 0.0071725\t1.0000\n",
      "- batch loss and accuracy : 0.0061583\t1.0000\n",
      "- batch loss and accuracy : 0.0062724\t1.0000\n",
      "- batch loss and accuracy : 0.0051293\t1.0000\n",
      "- batch loss and accuracy : 5.3612347\t0.0000\n",
      "- batch loss and accuracy : 5.6313086\t0.0000\n",
      "- batch loss and accuracy : 0.0098910\t1.0000\n",
      "- batch loss and accuracy : 0.0150356\t1.0000\n"
     ]
    },
    {
     "name": "stderr",
     "output_type": "stream",
     "text": [
      "epoch 11 - train: 48it [00:00, 96.68it/s]"
     ]
    },
    {
     "name": "stdout",
     "output_type": "stream",
     "text": [
      "- batch loss and accuracy : 0.0327832\t1.0000\n",
      "- batch loss and accuracy : 0.0552773\t1.0000\n",
      "- batch loss and accuracy : 0.0690259\t1.0000\n",
      "- batch loss and accuracy : 2.8683174\t0.0000\n",
      "- batch loss and accuracy : 0.1253131\t1.0000\n",
      "- batch loss and accuracy : 0.1837861\t1.0000\n",
      "- batch loss and accuracy : 0.2119699\t1.0000\n",
      "- batch loss and accuracy : 0.3294106\t1.0000\n",
      "- batch loss and accuracy : 0.5448099\t0.3333\n",
      "- batch loss and accuracy : 0.5639713\t1.0000\n",
      "- batch loss and accuracy : 0.3399712\t1.0000\n",
      "- batch loss and accuracy : 1.1297543\t0.0000\n"
     ]
    },
    {
     "name": "stderr",
     "output_type": "stream",
     "text": [
      "epoch 11 - train: 61it [00:00, 106.36it/s]"
     ]
    },
    {
     "name": "stdout",
     "output_type": "stream",
     "text": [
      "- batch loss and accuracy : 0.3968380\t1.0000\n",
      "- batch loss and accuracy : 1.5626354\t0.0000\n",
      "- batch loss and accuracy : 1.1617863\t0.0000\n",
      "- batch loss and accuracy : 0.5785932\t1.0000\n",
      "- batch loss and accuracy : 0.5437100\t1.0000\n",
      "- batch loss and accuracy : 0.7444352\t0.6667\n",
      "- batch loss and accuracy : 0.4620609\t1.0000\n",
      "- batch loss and accuracy : 1.1231307\t0.0000\n",
      "- batch loss and accuracy : 0.5260255\t1.0000\n",
      "- batch loss and accuracy : 1.0113342\t0.0000\n",
      "- batch loss and accuracy : 0.5511830\t0.6667\n",
      "- batch loss and accuracy : 0.4351798\t0.6667\n"
     ]
    },
    {
     "name": "stderr",
     "output_type": "stream",
     "text": [
      "epoch 11 - train: 72it [00:00, 101.95it/s]"
     ]
    },
    {
     "name": "stdout",
     "output_type": "stream",
     "text": [
      "- batch loss and accuracy : 0.4431605\t1.0000\n",
      "- batch loss and accuracy : 1.4825084\t0.0000\n",
      "- batch loss and accuracy : 1.6599913\t0.0000\n",
      "- batch loss and accuracy : 1.2702682\t0.0000\n",
      "- batch loss and accuracy : 0.5745286\t1.0000\n",
      "- batch loss and accuracy : 0.5329942\t1.0000\n",
      "- batch loss and accuracy : 0.8731086\t0.3333\n",
      "- batch loss and accuracy : 0.5943891\t1.0000\n",
      "- batch loss and accuracy : 1.1304910\t0.0000\n"
     ]
    },
    {
     "name": "stderr",
     "output_type": "stream",
     "text": [
      "epoch 11 - train: 84it [00:00, 106.03it/s]"
     ]
    },
    {
     "name": "stdout",
     "output_type": "stream",
     "text": [
      "- batch loss and accuracy : 0.7571989\t0.0000\n",
      "- batch loss and accuracy : 0.9645193\t0.0000\n",
      "- batch loss and accuracy : 1.0021906\t0.3333\n",
      "- batch loss and accuracy : 0.7169266\t0.3333\n",
      "- batch loss and accuracy : 1.2937415\t0.0000\n",
      "- batch loss and accuracy : 0.3369327\t1.0000\n",
      "- batch loss and accuracy : 0.2400232\t1.0000\n",
      "- batch loss and accuracy : 0.1676750\t1.0000\n",
      "- batch loss and accuracy : 1.4053905\t0.0000\n",
      "- batch loss and accuracy : 0.3417726\t1.0000\n",
      "- batch loss and accuracy : 0.3153650\t1.0000\n"
     ]
    },
    {
     "name": "stderr",
     "output_type": "stream",
     "text": [
      "epoch 11 - train: 95it [00:00, 104.88it/s]"
     ]
    },
    {
     "name": "stdout",
     "output_type": "stream",
     "text": [
      "- batch loss and accuracy : 0.2564800\t1.0000\n",
      "- batch loss and accuracy : 0.3294520\t1.0000\n",
      "- batch loss and accuracy : 0.1555645\t1.0000\n",
      "- batch loss and accuracy : 0.0985678\t1.0000\n",
      "- batch loss and accuracy : 0.0951180\t1.0000\n",
      "- batch loss and accuracy : 0.0632779\t1.0000\n",
      "- batch loss and accuracy : 3.3670108\t0.0000\n",
      "- batch loss and accuracy : 2.9487939\t0.0000\n",
      "- batch loss and accuracy : 0.0981638\t1.0000\n",
      "- batch loss and accuracy : 2.4345384\t0.0000\n"
     ]
    },
    {
     "name": "stderr",
     "output_type": "stream",
     "text": [
      "epoch 11 - train: 106it [00:01, 103.27it/s]"
     ]
    },
    {
     "name": "stdout",
     "output_type": "stream",
     "text": [
      "- batch loss and accuracy : 0.1754870\t1.0000\n",
      "- batch loss and accuracy : 1.6267097\t0.0000\n",
      "- batch loss and accuracy : 1.1203531\t0.0000\n",
      "- batch loss and accuracy : 1.1542134\t0.3333\n",
      "- batch loss and accuracy : 1.4903209\t0.0000\n",
      "- batch loss and accuracy : 1.7236722\t0.0000\n",
      "- batch loss and accuracy : 1.6050768\t0.0000\n",
      "- batch loss and accuracy : 0.2000560\t1.0000\n",
      "- batch loss and accuracy : 0.3714299\t1.0000\n",
      "- batch loss and accuracy : 1.1652346\t0.3333\n",
      "- batch loss and accuracy : 0.3610403\t1.0000\n"
     ]
    },
    {
     "name": "stderr",
     "output_type": "stream",
     "text": [
      "epoch 11 - train: 117it [00:01, 104.86it/s]"
     ]
    },
    {
     "name": "stdout",
     "output_type": "stream",
     "text": [
      "- batch loss and accuracy : 0.9788939\t0.3333\n",
      "- batch loss and accuracy : 0.5379759\t0.6667\n",
      "- batch loss and accuracy : 0.4620769\t1.0000\n",
      "- batch loss and accuracy : 0.3624613\t1.0000\n",
      "- batch loss and accuracy : 0.2085984\t1.0000\n",
      "- batch loss and accuracy : 2.5348234\t0.0000\n",
      "- batch loss and accuracy : 0.0621885\t1.0000\n",
      "- batch loss and accuracy : 0.0525161\t1.0000\n",
      "- batch loss and accuracy : 3.1670139\t0.0000\n",
      "- batch loss and accuracy : 3.2555778\t0.0000\n",
      "- batch loss and accuracy : 0.0589093\t1.0000\n",
      "- batch loss and accuracy : 0.0976419\t1.0000\n"
     ]
    },
    {
     "name": "stderr",
     "output_type": "stream",
     "text": [
      "epoch 11 - train: 128it [00:01, 105.16it/s]"
     ]
    },
    {
     "name": "stdout",
     "output_type": "stream",
     "text": [
      "- batch loss and accuracy : 0.1769101\t1.0000\n",
      "- batch loss and accuracy : 0.1964337\t1.0000\n",
      "- batch loss and accuracy : 1.2675579\t0.0000\n",
      "- batch loss and accuracy : 0.3150943\t1.0000\n",
      "- batch loss and accuracy : 1.1581383\t0.0000\n",
      "- batch loss and accuracy : 0.4760140\t1.0000\n",
      "- batch loss and accuracy : 0.7590735\t0.3333\n",
      "- batch loss and accuracy : 0.4394348\t1.0000\n",
      "- batch loss and accuracy : 0.8420129\t0.3333\n",
      "- batch loss and accuracy : 0.8595005\t0.3333\n",
      "- batch loss and accuracy : 0.7427539\t0.3333\n",
      "- batch loss and accuracy : 0.5051455\t1.0000\n"
     ]
    },
    {
     "name": "stderr",
     "output_type": "stream",
     "text": [
      "epoch 11 - train: 140it [00:01, 108.58it/s]"
     ]
    },
    {
     "name": "stdout",
     "output_type": "stream",
     "text": [
      "- batch loss and accuracy : 1.3166962\t0.0000\n",
      "- batch loss and accuracy : 0.3846555\t1.0000\n",
      "- batch loss and accuracy : 0.2506834\t1.0000\n",
      "- batch loss and accuracy : 0.2345097\t1.0000\n",
      "- batch loss and accuracy : 0.1210132\t1.0000\n",
      "- batch loss and accuracy : 2.4219875\t0.0000\n",
      "- batch loss and accuracy : 2.6185257\t0.0000\n",
      "- batch loss and accuracy : 2.3569629\t0.0000\n",
      "- batch loss and accuracy : 0.2826352\t1.0000\n",
      "- batch loss and accuracy : 0.9078631\t0.0000\n"
     ]
    },
    {
     "name": "stderr",
     "output_type": "stream",
     "text": [
      "epoch 11 - train: 151it [00:01, 106.67it/s]"
     ]
    },
    {
     "name": "stdout",
     "output_type": "stream",
     "text": [
      "- batch loss and accuracy : 0.6606883\t0.3333\n",
      "- batch loss and accuracy : 0.9909439\t0.3333\n",
      "- batch loss and accuracy : 1.0968871\t0.0000\n",
      "- batch loss and accuracy : 1.2411522\t0.0000\n",
      "- batch loss and accuracy : 1.3736895\t0.0000\n",
      "- batch loss and accuracy : 0.9846133\t0.0000\n",
      "- batch loss and accuracy : 0.7460362\t0.3333\n",
      "- batch loss and accuracy : 0.8882580\t0.6667\n",
      "- batch loss and accuracy : 0.2427199\t1.0000\n",
      "- batch loss and accuracy : 0.1960042\t1.0000\n",
      "- batch loss and accuracy : 0.1062826\t1.0000\n",
      "- batch loss and accuracy : 2.3072503\t0.0000\n"
     ]
    },
    {
     "name": "stderr",
     "output_type": "stream",
     "text": [
      "epoch 11 - train: 163it [00:01, 108.76it/s]"
     ]
    },
    {
     "name": "stdout",
     "output_type": "stream",
     "text": [
      "- batch loss and accuracy : 0.0924387\t1.0000\n",
      "- batch loss and accuracy : 2.4317985\t0.0000\n",
      "- batch loss and accuracy : 0.0688837\t1.0000\n",
      "- batch loss and accuracy : 2.1361423\t0.0000\n",
      "- batch loss and accuracy : 0.1663976\t1.0000\n",
      "- batch loss and accuracy : 1.4603270\t0.0000\n",
      "- batch loss and accuracy : 1.3045830\t0.0000\n",
      "- batch loss and accuracy : 0.7220224\t0.6667\n",
      "- batch loss and accuracy : 1.0658125\t0.0000\n",
      "- batch loss and accuracy : 1.1444788\t0.0000\n",
      "- batch loss and accuracy : 1.2642462\t0.0000\n"
     ]
    },
    {
     "name": "stderr",
     "output_type": "stream",
     "text": [
      "epoch 11 - train: 174it [00:01, 108.27it/s]"
     ]
    },
    {
     "name": "stdout",
     "output_type": "stream",
     "text": [
      "- batch loss and accuracy : 0.9219057\t0.0000\n",
      "- batch loss and accuracy : 0.8757026\t0.0000\n",
      "- batch loss and accuracy : 1.0236247\t0.0000\n",
      "- batch loss and accuracy : 0.2343725\t1.0000\n",
      "- batch loss and accuracy : 0.2609057\t1.0000\n",
      "- batch loss and accuracy : 0.1810147\t1.0000\n",
      "- batch loss and accuracy : 1.9674942\t0.0000\n",
      "- batch loss and accuracy : 0.0910036\t1.0000\n",
      "- batch loss and accuracy : 2.5624177\t0.0000\n",
      "- batch loss and accuracy : 0.0877544\t1.0000\n"
     ]
    },
    {
     "name": "stderr",
     "output_type": "stream",
     "text": [
      "epoch 11 - train: 185it [00:01, 105.57it/s]"
     ]
    },
    {
     "name": "stdout",
     "output_type": "stream",
     "text": [
      "- batch loss and accuracy : 0.1668496\t1.0000\n",
      "- batch loss and accuracy : 0.2469612\t1.0000\n",
      "- batch loss and accuracy : 1.5699066\t0.0000\n",
      "- batch loss and accuracy : 0.2314595\t1.0000\n",
      "- batch loss and accuracy : 0.3823843\t1.0000\n",
      "- batch loss and accuracy : 0.2903899\t1.0000\n",
      "- batch loss and accuracy : 0.3880505\t1.0000\n",
      "- batch loss and accuracy : 0.2741120\t1.0000\n",
      "- batch loss and accuracy : 0.2871109\t1.0000\n",
      "- batch loss and accuracy : 0.2885405\t1.0000\n"
     ]
    },
    {
     "name": "stderr",
     "output_type": "stream",
     "text": [
      "epoch 11 - train: 196it [00:01, 100.92it/s]"
     ]
    },
    {
     "name": "stdout",
     "output_type": "stream",
     "text": [
      "- batch loss and accuracy : 0.1667533\t1.0000\n",
      "- batch loss and accuracy : 0.1220654\t1.0000\n",
      "- batch loss and accuracy : 2.7446709\t0.0000\n",
      "- batch loss and accuracy : 0.0744200\t1.0000\n",
      "- batch loss and accuracy : 0.0680330\t1.0000\n",
      "- batch loss and accuracy : 0.0808065\t1.0000\n",
      "- batch loss and accuracy : 0.0579340\t1.0000\n",
      "- batch loss and accuracy : 0.0562318\t1.0000\n",
      "- batch loss and accuracy : 2.4248285\t0.0000\n",
      "- batch loss and accuracy : 0.0914602\t1.0000\n",
      "- batch loss and accuracy : 0.1473924\t1.0000\n",
      "- batch loss and accuracy : 0.1007664\t1.0000\n",
      "- batch loss and accuracy : 0.1421521\t1.0000\n",
      "- batch loss and accuracy : 2.2108660\t0.0000\n",
      "- batch loss and accuracy : 1.5452852\t0.0000\n",
      "- batch loss and accuracy : 1.5125307\t0.0000\n",
      "- batch loss and accuracy : 1.1634929\t0.3333\n"
     ]
    },
    {
     "name": "stderr",
     "output_type": "stream",
     "text": [
      "epoch 11 - train: 207it [00:02, 90.45it/s] "
     ]
    },
    {
     "name": "stdout",
     "output_type": "stream",
     "text": [
      "- batch loss and accuracy : 0.6752700\t0.6667\n",
      "- batch loss and accuracy : 1.5299988\t0.0000\n",
      "- batch loss and accuracy : 1.8328999\t0.0000\n",
      "- batch loss and accuracy : 1.8092254\t0.0000\n",
      "- batch loss and accuracy : 1.6977947\t0.0000\n",
      "- batch loss and accuracy : 1.1879412\t0.0000\n",
      "- batch loss and accuracy : 0.8158410\t0.3333\n",
      "- batch loss and accuracy : 0.3807051\t1.0000\n"
     ]
    },
    {
     "name": "stderr",
     "output_type": "stream",
     "text": [
      "epoch 11 - train: 217it [00:02, 84.01it/s]"
     ]
    },
    {
     "name": "stdout",
     "output_type": "stream",
     "text": [
      "- batch loss and accuracy : 1.8192902\t0.0000\n",
      "- batch loss and accuracy : 0.0896612\t1.0000\n",
      "- batch loss and accuracy : 0.0539520\t1.0000\n",
      "- batch loss and accuracy : 0.0427378\t1.0000\n",
      "- batch loss and accuracy : 0.0234583\t1.0000\n",
      "- batch loss and accuracy : 0.0233237\t1.0000\n",
      "- batch loss and accuracy : 0.0112396\t1.0000\n"
     ]
    },
    {
     "name": "stderr",
     "output_type": "stream",
     "text": [
      "epoch 11 - train: 226it [00:02, 85.22it/s]"
     ]
    },
    {
     "name": "stdout",
     "output_type": "stream",
     "text": [
      "- batch loss and accuracy : 4.5847340\t0.0000\n",
      "- batch loss and accuracy : 4.6600981\t0.0000\n",
      "- batch loss and accuracy : 0.0208632\t1.0000\n",
      "- batch loss and accuracy : 0.0216970\t1.0000\n",
      "- batch loss and accuracy : 0.0174204\t1.0000\n",
      "- batch loss and accuracy : 3.1137435\t0.0000\n",
      "- batch loss and accuracy : 0.0786445\t1.0000\n",
      "- batch loss and accuracy : 1.9462805\t0.0000\n",
      "- batch loss and accuracy : 1.6121583\t0.0000\n",
      "- batch loss and accuracy : 0.5602064\t0.6667\n",
      "- batch loss and accuracy : 0.7859550\t0.3333\n",
      "- batch loss and accuracy : 0.3737411\t1.0000\n",
      "- batch loss and accuracy : 1.3346081\t0.0000\n"
     ]
    },
    {
     "name": "stderr",
     "output_type": "stream",
     "text": [
      "epoch 11 - train: 238it [00:02, 91.38it/s]"
     ]
    },
    {
     "name": "stdout",
     "output_type": "stream",
     "text": [
      "- batch loss and accuracy : 0.1944727\t1.0000\n",
      "- batch loss and accuracy : 0.1180225\t1.0000\n",
      "- batch loss and accuracy : 2.0848389\t0.0000\n",
      "- batch loss and accuracy : 1.9677691\t0.0000\n",
      "- batch loss and accuracy : 2.0036845\t0.0000\n",
      "- batch loss and accuracy : 1.1270701\t0.0000\n",
      "- batch loss and accuracy : 0.7374080\t0.3333\n",
      "- batch loss and accuracy : 0.3659749\t1.0000\n"
     ]
    },
    {
     "name": "stderr",
     "output_type": "stream",
     "text": [
      "epoch 11 - train: 249it [00:02, 97.69it/s]\n"
     ]
    },
    {
     "name": "stdout",
     "output_type": "stream",
     "text": [
      "- batch loss and accuracy : 0.2240607\t1.0000\n",
      "- batch loss and accuracy : 0.0581583\t1.0000\n",
      "- batch loss and accuracy : 3.5426369\t0.0000\n",
      "- batch loss and accuracy : 4.4030342\t0.0000\n",
      "- batch loss and accuracy : 0.0259137\t1.0000\n",
      "- batch loss and accuracy : 4.1520171\t0.0000\n",
      "- batch loss and accuracy : 0.0286783\t1.0000\n",
      "- batch loss and accuracy : 0.0402263\t1.0000\n",
      "- batch loss and accuracy : 0.0488782\t1.0000\n"
     ]
    },
    {
     "name": "stderr",
     "output_type": "stream",
     "text": [
      "epoch 11 - validation: 100%|██████████| 63/63 [00:00<00:00, 127.41it/s]"
     ]
    },
    {
     "name": "stdout",
     "output_type": "stream",
     "text": [
      "Validation loss and accuracy : 0.8228094\t0.7143\n",
      "EPOCH 12\n"
     ]
    },
    {
     "name": "stderr",
     "output_type": "stream",
     "text": [
      "\n",
      "epoch 12 - train: 8it [00:00, 76.44it/s]"
     ]
    },
    {
     "name": "stdout",
     "output_type": "stream",
     "text": [
      "- batch loss and accuracy : 0.0489370\t1.0000\n",
      "- batch loss and accuracy : 0.0653672\t1.0000\n",
      "- batch loss and accuracy : 0.1354192\t1.0000\n",
      "- batch loss and accuracy : 2.8748856\t0.0000\n",
      "- batch loss and accuracy : 0.1717912\t1.0000\n",
      "- batch loss and accuracy : 0.1309159\t1.0000\n",
      "- batch loss and accuracy : 0.2123534\t1.0000\n",
      "- batch loss and accuracy : 0.2417498\t1.0000\n",
      "- batch loss and accuracy : 0.1815392\t1.0000\n",
      "- batch loss and accuracy : 0.3162579\t1.0000\n",
      "- batch loss and accuracy : 1.9681963\t0.0000\n",
      "- batch loss and accuracy : 0.2496842\t1.0000\n",
      "- batch loss and accuracy : 0.3141847\t1.0000\n",
      "- batch loss and accuracy : 0.3000032\t1.0000\n",
      "- batch loss and accuracy : 0.1858169\t1.0000\n",
      "- batch loss and accuracy : 0.1743900\t1.0000\n",
      "- batch loss and accuracy : 2.3217082\t0.0000\n"
     ]
    },
    {
     "name": "stderr",
     "output_type": "stream",
     "text": [
      "epoch 12 - train: 20it [00:00, 101.23it/s]"
     ]
    },
    {
     "name": "stdout",
     "output_type": "stream",
     "text": [
      "- batch loss and accuracy : 0.2755814\t1.0000\n",
      "- batch loss and accuracy : 0.1998018\t1.0000\n",
      "- batch loss and accuracy : 1.7808404\t0.0000\n",
      "- batch loss and accuracy : 0.2522650\t1.0000\n",
      "- batch loss and accuracy : 0.3242734\t1.0000\n",
      "- batch loss and accuracy : 1.5753578\t0.0000\n"
     ]
    },
    {
     "name": "stderr",
     "output_type": "stream",
     "text": [
      "epoch 12 - train: 32it [00:00, 105.01it/s]"
     ]
    },
    {
     "name": "stdout",
     "output_type": "stream",
     "text": [
      "- batch loss and accuracy : 0.4656661\t1.0000\n",
      "- batch loss and accuracy : 0.9795200\t0.0000\n",
      "- batch loss and accuracy : 0.6630209\t0.6667\n",
      "- batch loss and accuracy : 0.6319326\t1.0000\n",
      "- batch loss and accuracy : 0.6054460\t0.6667\n",
      "- batch loss and accuracy : 1.1127186\t0.0000\n",
      "- batch loss and accuracy : 0.5465956\t0.6667\n",
      "- batch loss and accuracy : 0.4396225\t1.0000\n",
      "- batch loss and accuracy : 0.4663002\t1.0000\n",
      "- batch loss and accuracy : 0.5686932\t0.3333\n",
      "- batch loss and accuracy : 0.2960597\t1.0000\n",
      "- batch loss and accuracy : 1.7740858\t0.0000\n",
      "- batch loss and accuracy : 1.8720136\t0.0000\n",
      "- batch loss and accuracy : 1.6718496\t0.0000\n",
      "- batch loss and accuracy : 0.4123067\t0.6667\n",
      "- batch loss and accuracy : 0.2734499\t1.0000\n",
      "- batch loss and accuracy : 1.3441179\t0.0000\n"
     ]
    },
    {
     "name": "stderr",
     "output_type": "stream",
     "text": [
      "epoch 12 - train: 44it [00:00, 109.66it/s]"
     ]
    },
    {
     "name": "stdout",
     "output_type": "stream",
     "text": [
      "- batch loss and accuracy : 0.3668424\t1.0000\n",
      "- batch loss and accuracy : 0.8098549\t0.3333\n",
      "- batch loss and accuracy : 1.0099537\t0.0000\n",
      "- batch loss and accuracy : 1.0776178\t0.0000\n",
      "- batch loss and accuracy : 1.3972743\t0.0000\n",
      "- batch loss and accuracy : 0.6258840\t1.0000\n",
      "- batch loss and accuracy : 0.7776448\t0.3333\n"
     ]
    },
    {
     "name": "stderr",
     "output_type": "stream",
     "text": [
      "epoch 12 - train: 55it [00:00, 106.51it/s]"
     ]
    },
    {
     "name": "stdout",
     "output_type": "stream",
     "text": [
      "- batch loss and accuracy : 0.6132848\t0.6667\n",
      "- batch loss and accuracy : 0.3702599\t1.0000\n",
      "- batch loss and accuracy : 1.0751632\t0.0000\n",
      "- batch loss and accuracy : 1.1583595\t0.0000\n",
      "- batch loss and accuracy : 0.8953953\t0.3333\n",
      "- batch loss and accuracy : 1.0554518\t0.0000\n",
      "- batch loss and accuracy : 0.6432037\t0.6667\n",
      "- batch loss and accuracy : 0.2587973\t1.0000\n",
      "- batch loss and accuracy : 0.2214656\t1.0000\n",
      "- batch loss and accuracy : 0.0757010\t1.0000\n",
      "- batch loss and accuracy : 3.1733656\t0.0000\n",
      "- batch loss and accuracy : 0.0650357\t1.0000\n",
      "- batch loss and accuracy : 0.0301794\t1.0000\n",
      "- batch loss and accuracy : 0.0194598\t1.0000\n",
      "- batch loss and accuracy : 0.0257373\t1.0000\n"
     ]
    },
    {
     "name": "stderr",
     "output_type": "stream",
     "text": [
      "epoch 12 - train: 67it [00:00, 108.57it/s]"
     ]
    },
    {
     "name": "stdout",
     "output_type": "stream",
     "text": [
      "- batch loss and accuracy : 0.0077755\t1.0000\n",
      "- batch loss and accuracy : 0.0111830\t1.0000\n",
      "- batch loss and accuracy : 0.0067386\t1.0000\n",
      "- batch loss and accuracy : 4.7493663\t0.0000\n",
      "- batch loss and accuracy : 4.6003265\t0.0000\n",
      "- batch loss and accuracy : 0.0134186\t1.0000\n",
      "- batch loss and accuracy : 4.0232410\t0.0000\n"
     ]
    },
    {
     "name": "stderr",
     "output_type": "stream",
     "text": [
      "epoch 12 - train: 78it [00:00, 105.57it/s]"
     ]
    },
    {
     "name": "stdout",
     "output_type": "stream",
     "text": [
      "- batch loss and accuracy : 0.0664233\t1.0000\n",
      "- batch loss and accuracy : 2.0717990\t0.0000\n",
      "- batch loss and accuracy : 1.6292132\t0.0000\n",
      "- batch loss and accuracy : 0.6751875\t0.3333\n",
      "- batch loss and accuracy : 1.6313314\t0.0000\n",
      "- batch loss and accuracy : 2.0118654\t0.0000\n",
      "- batch loss and accuracy : 0.1147448\t1.0000\n",
      "- batch loss and accuracy : 0.0758784\t1.0000\n",
      "- batch loss and accuracy : 0.0496467\t1.0000\n",
      "- batch loss and accuracy : 3.6169298\t0.0000\n",
      "- batch loss and accuracy : 3.8371608\t0.0000\n",
      "- batch loss and accuracy : 3.3267572\t0.0000\n",
      "- batch loss and accuracy : 0.0766207\t1.0000\n",
      "- batch loss and accuracy : 1.9700594\t0.0000\n",
      "- batch loss and accuracy : 1.0588373\t0.0000\n"
     ]
    },
    {
     "name": "stderr",
     "output_type": "stream",
     "text": [
      "epoch 12 - train: 89it [00:00, 106.22it/s]"
     ]
    },
    {
     "name": "stdout",
     "output_type": "stream",
     "text": [
      "- batch loss and accuracy : 0.7646306\t0.0000\n",
      "- batch loss and accuracy : 0.2623554\t1.0000\n",
      "- batch loss and accuracy : 0.0829567\t1.0000\n",
      "- batch loss and accuracy : 0.0582564\t1.0000\n",
      "- batch loss and accuracy : 0.0255233\t1.0000\n",
      "- batch loss and accuracy : 0.0091038\t1.0000\n"
     ]
    },
    {
     "name": "stderr",
     "output_type": "stream",
     "text": [
      "epoch 12 - train: 100it [00:00, 98.60it/s]"
     ]
    },
    {
     "name": "stdout",
     "output_type": "stream",
     "text": [
      "- batch loss and accuracy : 5.6772585\t0.0000\n",
      "- batch loss and accuracy : 0.0039875\t1.0000\n",
      "- batch loss and accuracy : 0.0037457\t1.0000\n",
      "- batch loss and accuracy : 0.0022363\t1.0000\n",
      "- batch loss and accuracy : 0.0018414\t1.0000\n",
      "- batch loss and accuracy : 0.0022846\t1.0000\n",
      "- batch loss and accuracy : 0.0010658\t1.0000\n",
      "- batch loss and accuracy : 0.0008584\t1.0000\n",
      "- batch loss and accuracy : 0.0007523\t1.0000\n",
      "- batch loss and accuracy : 7.8301120\t0.0000\n",
      "- batch loss and accuracy : 0.0005345\t1.0000\n",
      "- batch loss and accuracy : 0.0011294\t1.0000\n",
      "- batch loss and accuracy : 0.0009475\t1.0000\n",
      "- batch loss and accuracy : 0.0015437\t1.0000\n",
      "- batch loss and accuracy : 6.1242232\t0.0000\n",
      "- batch loss and accuracy : 5.9495640\t0.0000\n",
      "- batch loss and accuracy : 0.0094440\t1.0000\n",
      "- batch loss and accuracy : 0.0160265\t1.0000\n",
      "- batch loss and accuracy : 0.0233247\t1.0000\n",
      "- batch loss and accuracy : 3.1368339\t0.0000\n",
      "- batch loss and accuracy : 2.3424802\t0.0000\n"
     ]
    },
    {
     "name": "stderr",
     "output_type": "stream",
     "text": [
      "epoch 12 - train: 123it [00:01, 104.68it/s]"
     ]
    },
    {
     "name": "stdout",
     "output_type": "stream",
     "text": [
      "- batch loss and accuracy : 0.3500878\t1.0000\n",
      "- batch loss and accuracy : 0.8556494\t0.0000\n",
      "- batch loss and accuracy : 0.9284697\t0.0000\n",
      "- batch loss and accuracy : 0.5039195\t1.0000\n",
      "- batch loss and accuracy : 1.6197180\t0.0000\n",
      "- batch loss and accuracy : 1.6004332\t0.0000\n",
      "- batch loss and accuracy : 0.3043559\t1.0000\n",
      "- batch loss and accuracy : 0.3136917\t1.0000\n",
      "- batch loss and accuracy : 1.2637577\t0.0000\n",
      "- batch loss and accuracy : 1.6500634\t0.0000\n",
      "- batch loss and accuracy : 0.6633822\t0.6667\n",
      "- batch loss and accuracy : 0.5870791\t0.3333\n",
      "- batch loss and accuracy : 0.3435050\t1.0000\n",
      "- batch loss and accuracy : 1.9787606\t0.0000\n",
      "- batch loss and accuracy : 0.1047264\t1.0000\n",
      "- batch loss and accuracy : 0.0455547\t1.0000\n",
      "- batch loss and accuracy : 2.9650517\t0.0000\n",
      "- batch loss and accuracy : 0.0718045\t1.0000\n",
      "- batch loss and accuracy : 0.0526640\t1.0000\n",
      "- batch loss and accuracy : 0.0563712\t1.0000\n",
      "- batch loss and accuracy : 0.0421666\t1.0000\n",
      "- batch loss and accuracy : 3.1172988\t0.0000\n"
     ]
    },
    {
     "name": "stderr",
     "output_type": "stream",
     "text": [
      "epoch 12 - train: 147it [00:01, 109.96it/s]"
     ]
    },
    {
     "name": "stdout",
     "output_type": "stream",
     "text": [
      "- batch loss and accuracy : 3.2028804\t0.0000\n",
      "- batch loss and accuracy : 0.1367450\t1.0000\n",
      "- batch loss and accuracy : 0.2067492\t1.0000\n",
      "- batch loss and accuracy : 1.4631418\t0.0000\n",
      "- batch loss and accuracy : 0.5318385\t0.6667\n",
      "- batch loss and accuracy : 0.6695163\t0.6667\n",
      "- batch loss and accuracy : 0.5851221\t1.0000\n",
      "- batch loss and accuracy : 0.6824784\t0.6667\n",
      "- batch loss and accuracy : 0.9631307\t0.0000\n",
      "- batch loss and accuracy : 0.5690336\t1.0000\n",
      "- batch loss and accuracy : 0.4748525\t0.6667\n",
      "- batch loss and accuracy : 0.7767088\t0.3333\n",
      "- batch loss and accuracy : 1.0536994\t0.0000\n",
      "- batch loss and accuracy : 0.9745242\t0.3333\n",
      "- batch loss and accuracy : 0.7574562\t0.6667\n",
      "- batch loss and accuracy : 0.6682487\t0.6667\n",
      "- batch loss and accuracy : 0.4765036\t1.0000\n",
      "- batch loss and accuracy : 0.3501824\t1.0000\n",
      "- batch loss and accuracy : 0.1665552\t1.0000\n",
      "- batch loss and accuracy : 0.1910814\t1.0000\n",
      "- batch loss and accuracy : 0.0785525\t1.0000\n",
      "- batch loss and accuracy : 0.0675869\t1.0000\n",
      "- batch loss and accuracy : 3.2278640\t0.0000\n",
      "- batch loss and accuracy : 0.0339592\t1.0000\n"
     ]
    },
    {
     "name": "stderr",
     "output_type": "stream",
     "text": [
      "epoch 12 - train: 171it [00:01, 111.62it/s]"
     ]
    },
    {
     "name": "stdout",
     "output_type": "stream",
     "text": [
      "- batch loss and accuracy : 0.0301164\t1.0000\n",
      "- batch loss and accuracy : 0.0247923\t1.0000\n",
      "- batch loss and accuracy : 0.0109142\t1.0000\n",
      "- batch loss and accuracy : 0.0269486\t1.0000\n",
      "- batch loss and accuracy : 4.0888691\t0.0000\n",
      "- batch loss and accuracy : 0.0366250\t1.0000\n",
      "- batch loss and accuracy : 0.0441578\t1.0000\n",
      "- batch loss and accuracy : 0.0443556\t1.0000\n",
      "- batch loss and accuracy : 0.0861534\t1.0000\n",
      "- batch loss and accuracy : 0.0508130\t1.0000\n",
      "- batch loss and accuracy : 0.0680569\t1.0000\n",
      "- batch loss and accuracy : 2.5394669\t0.0000\n",
      "- batch loss and accuracy : 0.1615570\t1.0000\n",
      "- batch loss and accuracy : 0.1555988\t1.0000\n",
      "- batch loss and accuracy : 0.1115051\t1.0000\n",
      "- batch loss and accuracy : 1.4619131\t0.0000\n",
      "- batch loss and accuracy : 1.6302675\t0.0000\n",
      "- batch loss and accuracy : 1.0898373\t0.0000\n",
      "- batch loss and accuracy : 0.9743663\t0.3333\n",
      "- batch loss and accuracy : 1.6066693\t0.0000\n",
      "- batch loss and accuracy : 0.1493375\t1.0000\n",
      "- batch loss and accuracy : 2.4810882\t0.0000\n",
      "- batch loss and accuracy : 2.6857097\t0.0000\n",
      "- batch loss and accuracy : 0.1321817\t1.0000\n",
      "- batch loss and accuracy : 2.7957296\t0.0000\n"
     ]
    },
    {
     "name": "stderr",
     "output_type": "stream",
     "text": [
      "epoch 12 - train: 195it [00:01, 114.73it/s]"
     ]
    },
    {
     "name": "stdout",
     "output_type": "stream",
     "text": [
      "- batch loss and accuracy : 2.4279087\t0.0000\n",
      "- batch loss and accuracy : 0.2932744\t1.0000\n",
      "- batch loss and accuracy : 0.8078518\t0.6667\n",
      "- batch loss and accuracy : 0.8813343\t0.3333\n",
      "- batch loss and accuracy : 0.2497297\t1.0000\n",
      "- batch loss and accuracy : 0.1670340\t1.0000\n",
      "- batch loss and accuracy : 0.0857280\t1.0000\n",
      "- batch loss and accuracy : 0.0387250\t1.0000\n",
      "- batch loss and accuracy : 0.0309507\t1.0000\n",
      "- batch loss and accuracy : 0.0097266\t1.0000\n",
      "- batch loss and accuracy : 4.8837147\t0.0000\n",
      "- batch loss and accuracy : 0.0061446\t1.0000\n",
      "- batch loss and accuracy : 0.0069809\t1.0000\n",
      "- batch loss and accuracy : 0.0035860\t1.0000\n",
      "- batch loss and accuracy : 5.7635193\t0.0000\n",
      "- batch loss and accuracy : 0.0047977\t1.0000\n",
      "- batch loss and accuracy : 0.0047186\t1.0000\n",
      "- batch loss and accuracy : 0.0087371\t1.0000\n",
      "- batch loss and accuracy : 0.0108884\t1.0000\n",
      "- batch loss and accuracy : 4.7158623\t0.0000\n",
      "- batch loss and accuracy : 0.0169571\t1.0000\n",
      "- batch loss and accuracy : 3.9141204\t0.0000\n",
      "- batch loss and accuracy : 0.0590368\t1.0000\n"
     ]
    },
    {
     "name": "stderr",
     "output_type": "stream",
     "text": [
      "epoch 12 - train: 207it [00:01, 114.08it/s]"
     ]
    },
    {
     "name": "stdout",
     "output_type": "stream",
     "text": [
      "- batch loss and accuracy : 0.0950518\t1.0000\n",
      "- batch loss and accuracy : 0.1462354\t1.0000\n",
      "- batch loss and accuracy : 0.1622371\t1.0000\n",
      "- batch loss and accuracy : 0.2977017\t1.0000\n",
      "- batch loss and accuracy : 0.3219080\t1.0000\n",
      "- batch loss and accuracy : 0.8911961\t0.3333\n",
      "- batch loss and accuracy : 0.7673293\t0.3333\n",
      "- batch loss and accuracy : 0.8942537\t0.0000\n",
      "- batch loss and accuracy : 0.4686334\t1.0000\n",
      "- batch loss and accuracy : 0.5165480\t0.6667\n",
      "- batch loss and accuracy : 0.3908675\t1.0000\n",
      "- batch loss and accuracy : 0.2336453\t1.0000\n",
      "- batch loss and accuracy : 0.0990135\t1.0000\n",
      "- batch loss and accuracy : 0.0655895\t1.0000\n"
     ]
    },
    {
     "name": "stderr",
     "output_type": "stream",
     "text": [
      "epoch 12 - train: 219it [00:02, 110.25it/s]"
     ]
    },
    {
     "name": "stdout",
     "output_type": "stream",
     "text": [
      "- batch loss and accuracy : 0.0592769\t1.0000\n",
      "- batch loss and accuracy : 0.0228857\t1.0000\n",
      "- batch loss and accuracy : 3.9784265\t0.0000\n",
      "- batch loss and accuracy : 4.4335914\t0.0000\n",
      "- batch loss and accuracy : 3.2405105\t0.0000\n",
      "- batch loss and accuracy : 3.4238014\t0.0000\n",
      "- batch loss and accuracy : 2.5752292\t0.0000\n",
      "- batch loss and accuracy : 0.3053104\t1.0000\n",
      "- batch loss and accuracy : 0.5864759\t0.6667\n"
     ]
    },
    {
     "name": "stderr",
     "output_type": "stream",
     "text": [
      "epoch 12 - train: 231it [00:02, 111.85it/s]"
     ]
    },
    {
     "name": "stdout",
     "output_type": "stream",
     "text": [
      "- batch loss and accuracy : 0.2447194\t1.0000\n",
      "- batch loss and accuracy : 0.1608864\t1.0000\n",
      "- batch loss and accuracy : 0.0613506\t1.0000\n",
      "- batch loss and accuracy : 0.0261764\t1.0000\n",
      "- batch loss and accuracy : 4.7189636\t0.0000\n",
      "- batch loss and accuracy : 0.0044096\t1.0000\n",
      "- batch loss and accuracy : 5.6568618\t0.0000\n",
      "- batch loss and accuracy : 5.2221174\t0.0000\n",
      "- batch loss and accuracy : 0.0083316\t1.0000\n",
      "- batch loss and accuracy : 0.0169037\t1.0000\n",
      "- batch loss and accuracy : 0.0161199\t1.0000\n",
      "- batch loss and accuracy : 0.0257475\t1.0000\n",
      "- batch loss and accuracy : 0.0422071\t1.0000\n",
      "- batch loss and accuracy : 0.0236167\t1.0000\n"
     ]
    },
    {
     "name": "stderr",
     "output_type": "stream",
     "text": [
      "epoch 12 - train: 243it [00:02, 108.48it/s]"
     ]
    },
    {
     "name": "stdout",
     "output_type": "stream",
     "text": [
      "- batch loss and accuracy : 0.0226791\t1.0000\n",
      "- batch loss and accuracy : 0.0603964\t1.0000\n",
      "- batch loss and accuracy : 2.7031467\t0.0000\n",
      "- batch loss and accuracy : 0.0610968\t1.0000\n",
      "- batch loss and accuracy : 0.1534139\t1.0000\n",
      "- batch loss and accuracy : 1.7544551\t0.0000\n",
      "- batch loss and accuracy : 0.3872922\t1.0000\n"
     ]
    },
    {
     "name": "stderr",
     "output_type": "stream",
     "text": [
      "epoch 12 - train: 249it [00:02, 107.03it/s]\n",
      "epoch 12 - validation: 100%|██████████| 63/63 [00:00<00:00, 128.61it/s]"
     ]
    },
    {
     "name": "stdout",
     "output_type": "stream",
     "text": [
      "Validation loss and accuracy : 0.5891151\t0.6984\n",
      "EPOCH 13\n"
     ]
    },
    {
     "name": "stderr",
     "output_type": "stream",
     "text": [
      "\n",
      "epoch 13 - train: 9it [00:00, 85.09it/s]"
     ]
    },
    {
     "name": "stdout",
     "output_type": "stream",
     "text": [
      "- batch loss and accuracy : 0.1684084\t1.0000\n",
      "- batch loss and accuracy : 0.3506263\t1.0000\n",
      "- batch loss and accuracy : 0.8192732\t0.3333\n",
      "- batch loss and accuracy : 0.7821226\t0.6667\n",
      "- batch loss and accuracy : 0.8625835\t0.0000\n",
      "- batch loss and accuracy : 1.1218607\t0.0000\n",
      "- batch loss and accuracy : 0.4237495\t0.6667\n",
      "- batch loss and accuracy : 1.3067707\t0.0000\n",
      "- batch loss and accuracy : 0.8409359\t0.0000\n",
      "- batch loss and accuracy : 0.7171595\t0.3333\n",
      "- batch loss and accuracy : 0.6067359\t0.6667\n",
      "- batch loss and accuracy : 1.5422435\t0.0000\n",
      "- batch loss and accuracy : 0.2218917\t1.0000\n",
      "- batch loss and accuracy : 0.1501075\t1.0000\n",
      "- batch loss and accuracy : 0.1678323\t1.0000\n",
      "- batch loss and accuracy : 0.0802915\t1.0000\n",
      "- batch loss and accuracy : 0.1000529\t1.0000\n"
     ]
    },
    {
     "name": "stderr",
     "output_type": "stream",
     "text": [
      "epoch 13 - train: 20it [00:00, 99.30it/s]"
     ]
    },
    {
     "name": "stdout",
     "output_type": "stream",
     "text": [
      "- batch loss and accuracy : 3.0953026\t0.0000\n",
      "- batch loss and accuracy : 0.0409262\t1.0000\n",
      "- batch loss and accuracy : 0.0357582\t1.0000\n",
      "- batch loss and accuracy : 3.2969589\t0.0000\n",
      "- batch loss and accuracy : 0.0687893\t1.0000\n"
     ]
    },
    {
     "name": "stderr",
     "output_type": "stream",
     "text": [
      "epoch 13 - train: 30it [00:00, 97.10it/s]"
     ]
    },
    {
     "name": "stdout",
     "output_type": "stream",
     "text": [
      "- batch loss and accuracy : 2.4562201\t0.0000\n",
      "- batch loss and accuracy : 0.2335045\t1.0000\n",
      "- batch loss and accuracy : 0.3156912\t1.0000\n",
      "- batch loss and accuracy : 0.3035372\t1.0000\n",
      "- batch loss and accuracy : 0.4315808\t1.0000\n",
      "- batch loss and accuracy : 0.3278413\t1.0000\n",
      "- batch loss and accuracy : 1.1034966\t0.0000\n",
      "- batch loss and accuracy : 1.4114431\t0.0000\n",
      "- batch loss and accuracy : 0.6556370\t0.6667\n",
      "- batch loss and accuracy : 0.6685925\t0.6667\n",
      "- batch loss and accuracy : 0.5948701\t1.0000\n",
      "- batch loss and accuracy : 0.7243145\t0.6667\n",
      "- batch loss and accuracy : 0.5693296\t0.6667\n",
      "- batch loss and accuracy : 0.9730954\t0.3333\n",
      "- batch loss and accuracy : 0.4508716\t1.0000\n",
      "- batch loss and accuracy : 0.9237454\t0.0000\n",
      "- batch loss and accuracy : 0.8015871\t0.0000\n"
     ]
    },
    {
     "name": "stderr",
     "output_type": "stream",
     "text": [
      "epoch 13 - train: 42it [00:00, 105.90it/s]"
     ]
    },
    {
     "name": "stdout",
     "output_type": "stream",
     "text": [
      "- batch loss and accuracy : 0.5040421\t0.6667\n",
      "- batch loss and accuracy : 0.4060252\t1.0000\n",
      "- batch loss and accuracy : 0.2979366\t1.0000\n",
      "- batch loss and accuracy : 0.2698864\t1.0000\n",
      "- batch loss and accuracy : 2.2281244\t0.0000\n",
      "- batch loss and accuracy : 0.0878612\t1.0000\n",
      "- batch loss and accuracy : 0.0579291\t1.0000\n"
     ]
    },
    {
     "name": "stderr",
     "output_type": "stream",
     "text": [
      "epoch 13 - train: 53it [00:00, 102.91it/s]"
     ]
    },
    {
     "name": "stdout",
     "output_type": "stream",
     "text": [
      "- batch loss and accuracy : 0.0526259\t1.0000\n",
      "- batch loss and accuracy : 0.0544801\t1.0000\n",
      "- batch loss and accuracy : 2.9517303\t0.0000\n",
      "- batch loss and accuracy : 0.0377651\t1.0000\n",
      "- batch loss and accuracy : 2.8030443\t0.0000\n",
      "- batch loss and accuracy : 2.5385175\t0.0000\n",
      "- batch loss and accuracy : 2.0237358\t0.0000\n",
      "- batch loss and accuracy : 0.3437431\t1.0000\n",
      "- batch loss and accuracy : 0.6594346\t0.6667\n",
      "- batch loss and accuracy : 0.9657760\t0.0000\n",
      "- batch loss and accuracy : 0.4546915\t1.0000\n",
      "- batch loss and accuracy : 1.5166826\t0.0000\n",
      "- batch loss and accuracy : 1.4827722\t0.0000\n",
      "- batch loss and accuracy : 1.2372277\t0.0000\n",
      "- batch loss and accuracy : 0.7690996\t0.3333\n"
     ]
    },
    {
     "name": "stderr",
     "output_type": "stream",
     "text": [
      "epoch 13 - train: 65it [00:00, 107.72it/s]"
     ]
    },
    {
     "name": "stdout",
     "output_type": "stream",
     "text": [
      "- batch loss and accuracy : 0.5997646\t0.6667\n",
      "- batch loss and accuracy : 0.3505441\t1.0000\n",
      "- batch loss and accuracy : 1.4032582\t0.0000\n",
      "- batch loss and accuracy : 0.1444996\t1.0000\n",
      "- batch loss and accuracy : 0.0854031\t1.0000\n",
      "- batch loss and accuracy : 0.0831255\t1.0000\n",
      "- batch loss and accuracy : 3.3564651\t0.0000\n"
     ]
    },
    {
     "name": "stderr",
     "output_type": "stream",
     "text": [
      "epoch 13 - train: 76it [00:00, 107.47it/s]"
     ]
    },
    {
     "name": "stdout",
     "output_type": "stream",
     "text": [
      "- batch loss and accuracy : 0.0401262\t1.0000\n",
      "- batch loss and accuracy : 0.0347680\t1.0000\n",
      "- batch loss and accuracy : 3.1214409\t0.0000\n",
      "- batch loss and accuracy : 0.0613006\t1.0000\n",
      "- batch loss and accuracy : 0.0603226\t1.0000\n",
      "- batch loss and accuracy : 0.1374648\t1.0000\n",
      "- batch loss and accuracy : 0.0984085\t1.0000\n",
      "- batch loss and accuracy : 0.1111678\t1.0000\n",
      "- batch loss and accuracy : 0.1355524\t1.0000\n",
      "- batch loss and accuracy : 0.1281480\t1.0000\n",
      "- batch loss and accuracy : 0.0611630\t1.0000\n",
      "- batch loss and accuracy : 2.3141522\t0.0000\n",
      "- batch loss and accuracy : 0.1428262\t1.0000\n",
      "- batch loss and accuracy : 0.1584647\t1.0000\n",
      "- batch loss and accuracy : 0.1259038\t1.0000\n",
      "- batch loss and accuracy : 0.2317947\t1.0000\n",
      "- batch loss and accuracy : 1.9047174\t0.0000\n"
     ]
    },
    {
     "name": "stderr",
     "output_type": "stream",
     "text": [
      "epoch 13 - train: 88it [00:00, 109.58it/s]"
     ]
    },
    {
     "name": "stdout",
     "output_type": "stream",
     "text": [
      "- batch loss and accuracy : 0.2777154\t1.0000\n",
      "- batch loss and accuracy : 1.2736111\t0.0000\n",
      "- batch loss and accuracy : 1.3503531\t0.0000\n",
      "- batch loss and accuracy : 0.6675248\t0.3333\n",
      "- batch loss and accuracy : 1.1173109\t0.3333\n",
      "- batch loss and accuracy : 0.2007298\t1.0000\n"
     ]
    },
    {
     "name": "stderr",
     "output_type": "stream",
     "text": [
      "epoch 13 - train: 99it [00:00, 108.64it/s]"
     ]
    },
    {
     "name": "stdout",
     "output_type": "stream",
     "text": [
      "- batch loss and accuracy : 0.2993872\t1.0000\n",
      "- batch loss and accuracy : 0.1341681\t1.0000\n",
      "- batch loss and accuracy : 2.7622850\t0.0000\n",
      "- batch loss and accuracy : 0.0625049\t1.0000\n",
      "- batch loss and accuracy : 2.5584123\t0.0000\n",
      "- batch loss and accuracy : 2.3997273\t0.0000\n",
      "- batch loss and accuracy : 2.3815713\t0.0000\n",
      "- batch loss and accuracy : 0.2662063\t1.0000\n",
      "- batch loss and accuracy : 1.2853397\t0.0000\n",
      "- batch loss and accuracy : 0.7989129\t0.3333\n",
      "- batch loss and accuracy : 1.0718539\t0.0000\n",
      "- batch loss and accuracy : 0.3898495\t1.0000\n",
      "- batch loss and accuracy : 0.1752637\t1.0000\n",
      "- batch loss and accuracy : 0.1814230\t1.0000\n",
      "- batch loss and accuracy : 0.1506866\t1.0000\n",
      "- batch loss and accuracy : 2.4134135\t0.0000\n"
     ]
    },
    {
     "name": "stderr",
     "output_type": "stream",
     "text": [
      "epoch 13 - train: 110it [00:01, 105.31it/s]"
     ]
    },
    {
     "name": "stdout",
     "output_type": "stream",
     "text": [
      "- batch loss and accuracy : 0.0834392\t1.0000\n",
      "- batch loss and accuracy : 0.0829139\t1.0000\n",
      "- batch loss and accuracy : 0.0590094\t1.0000\n",
      "- batch loss and accuracy : 0.0563955\t1.0000\n",
      "- batch loss and accuracy : 0.0491866\t1.0000\n"
     ]
    },
    {
     "name": "stderr",
     "output_type": "stream",
     "text": [
      "epoch 13 - train: 122it [00:01, 109.44it/s]"
     ]
    },
    {
     "name": "stdout",
     "output_type": "stream",
     "text": [
      "- batch loss and accuracy : 0.0566988\t1.0000\n",
      "- batch loss and accuracy : 0.0351060\t1.0000\n",
      "- batch loss and accuracy : 0.0263855\t1.0000\n",
      "- batch loss and accuracy : 0.0326162\t1.0000\n",
      "- batch loss and accuracy : 3.6201169\t0.0000\n",
      "- batch loss and accuracy : 3.3081765\t0.0000\n",
      "- batch loss and accuracy : 0.0433795\t1.0000\n",
      "- batch loss and accuracy : 0.0761161\t1.0000\n",
      "- batch loss and accuracy : 1.7266910\t0.0000\n",
      "- batch loss and accuracy : 1.6043103\t0.0000\n",
      "- batch loss and accuracy : 0.5049816\t1.0000\n",
      "- batch loss and accuracy : 0.7392662\t0.3333\n",
      "- batch loss and accuracy : 1.1477144\t0.3333\n",
      "- batch loss and accuracy : 1.4149036\t0.0000\n",
      "- batch loss and accuracy : 0.7916286\t0.3333\n",
      "- batch loss and accuracy : 1.1164298\t0.0000\n",
      "- batch loss and accuracy : 0.8398728\t0.3333\n",
      "- batch loss and accuracy : 1.0119808\t0.3333\n"
     ]
    },
    {
     "name": "stderr",
     "output_type": "stream",
     "text": [
      "epoch 13 - train: 135it [00:01, 111.97it/s]"
     ]
    },
    {
     "name": "stdout",
     "output_type": "stream",
     "text": [
      "- batch loss and accuracy : 0.2166641\t1.0000\n",
      "- batch loss and accuracy : 0.2408817\t1.0000\n",
      "- batch loss and accuracy : 0.1083860\t1.0000\n",
      "- batch loss and accuracy : 0.0600610\t1.0000\n",
      "- batch loss and accuracy : 0.0451523\t1.0000\n",
      "- batch loss and accuracy : 3.6218729\t0.0000\n",
      "- batch loss and accuracy : 0.0379577\t1.0000\n"
     ]
    },
    {
     "name": "stderr",
     "output_type": "stream",
     "text": [
      "epoch 13 - train: 147it [00:01, 110.93it/s]"
     ]
    },
    {
     "name": "stdout",
     "output_type": "stream",
     "text": [
      "- batch loss and accuracy : 0.0301461\t1.0000\n",
      "- batch loss and accuracy : 3.1102085\t0.0000\n",
      "- batch loss and accuracy : 0.0542689\t1.0000\n",
      "- batch loss and accuracy : 0.0425572\t1.0000\n",
      "- batch loss and accuracy : 2.5282247\t0.0000\n",
      "- batch loss and accuracy : 0.1845073\t1.0000\n",
      "- batch loss and accuracy : 0.2892992\t1.0000\n",
      "- batch loss and accuracy : 0.1920141\t1.0000\n",
      "- batch loss and accuracy : 0.1964845\t1.0000\n",
      "- batch loss and accuracy : 1.1808819\t0.0000\n",
      "- batch loss and accuracy : 0.4121984\t1.0000\n",
      "- batch loss and accuracy : 0.9554638\t0.3333\n",
      "- batch loss and accuracy : 0.6549541\t0.6667\n",
      "- batch loss and accuracy : 0.7345713\t0.6667\n",
      "- batch loss and accuracy : 0.4680061\t1.0000\n",
      "- batch loss and accuracy : 0.7221353\t0.3333\n"
     ]
    },
    {
     "name": "stderr",
     "output_type": "stream",
     "text": [
      "epoch 13 - train: 159it [00:01, 111.96it/s]"
     ]
    },
    {
     "name": "stdout",
     "output_type": "stream",
     "text": [
      "- batch loss and accuracy : 0.8967955\t0.3333\n",
      "- batch loss and accuracy : 0.5400679\t0.6667\n",
      "- batch loss and accuracy : 0.9448852\t0.3333\n",
      "- batch loss and accuracy : 0.5272638\t1.0000\n",
      "- batch loss and accuracy : 0.4036963\t1.0000\n",
      "- batch loss and accuracy : 0.1967706\t1.0000\n",
      "- batch loss and accuracy : 1.9108839\t0.0000\n"
     ]
    },
    {
     "name": "stderr",
     "output_type": "stream",
     "text": [
      "epoch 13 - train: 171it [00:01, 106.64it/s]"
     ]
    },
    {
     "name": "stdout",
     "output_type": "stream",
     "text": [
      "- batch loss and accuracy : 0.1178230\t1.0000\n",
      "- batch loss and accuracy : 2.3045249\t0.0000\n",
      "- batch loss and accuracy : 2.1859574\t0.0000\n",
      "- batch loss and accuracy : 0.2582132\t1.0000\n",
      "- batch loss and accuracy : 1.4358084\t0.0000\n",
      "- batch loss and accuracy : 0.3802413\t1.0000\n",
      "- batch loss and accuracy : 0.8119504\t0.3333\n",
      "- batch loss and accuracy : 0.7162642\t0.3333\n",
      "- batch loss and accuracy : 1.2263534\t0.0000\n",
      "- batch loss and accuracy : 1.4259447\t0.0000\n",
      "- batch loss and accuracy : 1.0932112\t0.0000\n",
      "- batch loss and accuracy : 0.7017909\t0.6667\n",
      "- batch loss and accuracy : 0.3565273\t1.0000\n",
      "- batch loss and accuracy : 0.3123616\t1.0000\n",
      "- batch loss and accuracy : 2.5732532\t0.0000\n",
      "- batch loss and accuracy : 0.0910739\t1.0000\n",
      "- batch loss and accuracy : 2.5813167\t0.0000\n",
      "- batch loss and accuracy : 0.0961638\t1.0000\n",
      "- batch loss and accuracy : 0.1115047\t1.0000\n",
      "- batch loss and accuracy : 2.4800782\t0.0000\n",
      "- batch loss and accuracy : 0.1338247\t1.0000\n"
     ]
    },
    {
     "name": "stderr",
     "output_type": "stream",
     "text": [
      "epoch 13 - train: 194it [00:01, 108.16it/s]"
     ]
    },
    {
     "name": "stdout",
     "output_type": "stream",
     "text": [
      "- batch loss and accuracy : 1.8632507\t0.0000\n",
      "- batch loss and accuracy : 1.2401896\t0.0000\n",
      "- batch loss and accuracy : 1.0157589\t0.0000\n",
      "- batch loss and accuracy : 0.7367109\t0.3333\n",
      "- batch loss and accuracy : 1.1677225\t0.0000\n",
      "- batch loss and accuracy : 1.5986112\t0.0000\n",
      "- batch loss and accuracy : 1.5266645\t0.0000\n",
      "- batch loss and accuracy : 1.6045661\t0.0000\n",
      "- batch loss and accuracy : 0.4335151\t1.0000\n",
      "- batch loss and accuracy : 0.7994733\t0.3333\n",
      "- batch loss and accuracy : 0.9105780\t0.3333\n",
      "- batch loss and accuracy : 1.0318081\t0.3333\n",
      "- batch loss and accuracy : 1.2625964\t0.0000\n",
      "- batch loss and accuracy : 1.2659798\t0.3333\n",
      "- batch loss and accuracy : 0.8405614\t0.3333\n",
      "- batch loss and accuracy : 0.8073150\t0.3333\n",
      "- batch loss and accuracy : 0.7181944\t0.6667\n",
      "- batch loss and accuracy : 1.1357816\t0.0000\n",
      "- batch loss and accuracy : 0.6743135\t0.6667\n",
      "- batch loss and accuracy : 0.7401168\t0.3333\n",
      "- batch loss and accuracy : 0.5198661\t0.6667\n"
     ]
    },
    {
     "name": "stderr",
     "output_type": "stream",
     "text": [
      "epoch 13 - train: 217it [00:02, 107.30it/s]"
     ]
    },
    {
     "name": "stdout",
     "output_type": "stream",
     "text": [
      "- batch loss and accuracy : 0.3344809\t1.0000\n",
      "- batch loss and accuracy : 1.3228626\t0.0000\n",
      "- batch loss and accuracy : 0.2334213\t1.0000\n",
      "- batch loss and accuracy : 0.1450148\t1.0000\n",
      "- batch loss and accuracy : 0.0671084\t1.0000\n",
      "- batch loss and accuracy : 0.0686675\t1.0000\n",
      "- batch loss and accuracy : 0.0494778\t1.0000\n",
      "- batch loss and accuracy : 0.0485753\t1.0000\n",
      "- batch loss and accuracy : 0.0324234\t1.0000\n",
      "- batch loss and accuracy : 0.0386971\t1.0000\n",
      "- batch loss and accuracy : 4.1287813\t0.0000\n",
      "- batch loss and accuracy : 0.0127167\t1.0000\n",
      "- batch loss and accuracy : 0.0282803\t1.0000\n",
      "- batch loss and accuracy : 3.5601566\t0.0000\n",
      "- batch loss and accuracy : 0.0537231\t1.0000\n",
      "- batch loss and accuracy : 0.0533038\t1.0000\n",
      "- batch loss and accuracy : 2.8938828\t0.0000\n",
      "- batch loss and accuracy : 0.1654162\t1.0000\n",
      "- batch loss and accuracy : 1.8304447\t0.0000\n",
      "- batch loss and accuracy : 0.4712247\t1.0000\n",
      "- batch loss and accuracy : 0.8418449\t0.3333\n",
      "- batch loss and accuracy : 0.8426666\t0.0000\n",
      "- batch loss and accuracy : 1.4226608\t0.0000\n",
      "- batch loss and accuracy : 0.3653319\t1.0000\n"
     ]
    },
    {
     "name": "stderr",
     "output_type": "stream",
     "text": [
      "epoch 13 - train: 240it [00:02, 108.38it/s]"
     ]
    },
    {
     "name": "stdout",
     "output_type": "stream",
     "text": [
      "- batch loss and accuracy : 1.6498001\t0.0000\n",
      "- batch loss and accuracy : 1.1709230\t0.0000\n",
      "- batch loss and accuracy : 1.0187364\t0.0000\n",
      "- batch loss and accuracy : 0.7019644\t0.3333\n",
      "- batch loss and accuracy : 0.6000077\t0.6667\n",
      "- batch loss and accuracy : 0.2391614\t1.0000\n",
      "- batch loss and accuracy : 0.1021382\t1.0000\n",
      "- batch loss and accuracy : 2.5467501\t0.0000\n",
      "- batch loss and accuracy : 0.0687757\t1.0000\n",
      "- batch loss and accuracy : 0.0235792\t1.0000\n",
      "- batch loss and accuracy : 0.0294298\t1.0000\n",
      "- batch loss and accuracy : 0.0181809\t1.0000\n",
      "- batch loss and accuracy : 0.0172337\t1.0000\n",
      "- batch loss and accuracy : 0.0153862\t1.0000\n",
      "- batch loss and accuracy : 0.0124209\t1.0000\n",
      "- batch loss and accuracy : 5.1109304\t0.0000\n",
      "- batch loss and accuracy : 4.5311980\t0.0000\n",
      "- batch loss and accuracy : 0.0187222\t1.0000\n",
      "- batch loss and accuracy : 0.0488476\t1.0000\n",
      "- batch loss and accuracy : 0.0337337\t1.0000\n",
      "- batch loss and accuracy : 2.8866491\t0.0000\n",
      "- batch loss and accuracy : 0.1055075\t1.0000\n",
      "- batch loss and accuracy : 1.6594223\t0.0000\n"
     ]
    },
    {
     "name": "stderr",
     "output_type": "stream",
     "text": [
      "epoch 13 - train: 249it [00:02, 106.54it/s]\n",
      "epoch 13 - validation: 100%|██████████| 63/63 [00:00<00:00, 124.55it/s]"
     ]
    },
    {
     "name": "stdout",
     "output_type": "stream",
     "text": [
      "Validation loss and accuracy : 0.5827676\t0.6825\n",
      "EPOCH 14\n"
     ]
    },
    {
     "name": "stderr",
     "output_type": "stream",
     "text": [
      "\n",
      "epoch 14 - train: 6it [00:00, 50.29it/s]"
     ]
    },
    {
     "name": "stdout",
     "output_type": "stream",
     "text": [
      "- batch loss and accuracy : 0.9951785\t0.0000\n",
      "- batch loss and accuracy : 0.7630178\t0.3333\n",
      "- batch loss and accuracy : 1.1071796\t0.0000\n",
      "- batch loss and accuracy : 0.3317488\t1.0000\n",
      "- batch loss and accuracy : 1.0978551\t0.0000\n",
      "- batch loss and accuracy : 0.2602499\t1.0000\n",
      "- batch loss and accuracy : 1.9848270\t0.0000\n",
      "- batch loss and accuracy : 2.2265244\t0.0000\n",
      "- batch loss and accuracy : 0.2289858\t1.0000\n",
      "- batch loss and accuracy : 0.3108500\t1.0000\n",
      "- batch loss and accuracy : 0.9803512\t0.3333\n",
      "- batch loss and accuracy : 0.4469539\t1.0000\n"
     ]
    },
    {
     "name": "stderr",
     "output_type": "stream",
     "text": [
      "epoch 14 - train: 17it [00:00, 82.57it/s]"
     ]
    },
    {
     "name": "stdout",
     "output_type": "stream",
     "text": [
      "- batch loss and accuracy : 0.7138945\t0.3333\n",
      "- batch loss and accuracy : 0.7224480\t0.6667\n",
      "- batch loss and accuracy : 0.4458209\t1.0000\n",
      "- batch loss and accuracy : 1.7257974\t0.0000\n",
      "- batch loss and accuracy : 0.1148901\t1.0000\n",
      "- batch loss and accuracy : 2.1596661\t0.0000\n",
      "- batch loss and accuracy : 0.1233196\t1.0000\n",
      "- batch loss and accuracy : 0.1884593\t1.0000\n",
      "- batch loss and accuracy : 0.1438341\t1.0000\n"
     ]
    },
    {
     "name": "stderr",
     "output_type": "stream",
     "text": [
      "epoch 14 - train: 28it [00:00, 88.58it/s]"
     ]
    },
    {
     "name": "stdout",
     "output_type": "stream",
     "text": [
      "- batch loss and accuracy : 0.2506499\t1.0000\n",
      "- batch loss and accuracy : 0.0896984\t1.0000\n",
      "- batch loss and accuracy : 0.1335586\t1.0000\n",
      "- batch loss and accuracy : 0.0811814\t1.0000\n",
      "- batch loss and accuracy : 0.0641549\t1.0000\n",
      "- batch loss and accuracy : 0.0433179\t1.0000\n",
      "- batch loss and accuracy : 0.0643898\t1.0000\n",
      "- batch loss and accuracy : 0.0378433\t1.0000\n",
      "- batch loss and accuracy : 0.0489278\t1.0000\n",
      "- batch loss and accuracy : 0.0334780\t1.0000\n",
      "- batch loss and accuracy : 0.0321090\t1.0000\n",
      "- batch loss and accuracy : 0.0162322\t1.0000\n",
      "- batch loss and accuracy : 0.0178372\t1.0000\n"
     ]
    },
    {
     "name": "stderr",
     "output_type": "stream",
     "text": [
      "epoch 14 - train: 41it [00:00, 101.26it/s]"
     ]
    },
    {
     "name": "stdout",
     "output_type": "stream",
     "text": [
      "- batch loss and accuracy : 0.0151535\t1.0000\n",
      "- batch loss and accuracy : 0.0114421\t1.0000\n",
      "- batch loss and accuracy : 0.0070317\t1.0000\n",
      "- batch loss and accuracy : 0.0103168\t1.0000\n",
      "- batch loss and accuracy : 4.8692431\t0.0000\n",
      "- batch loss and accuracy : 0.0114161\t1.0000\n",
      "- batch loss and accuracy : 4.2025375\t0.0000\n",
      "- batch loss and accuracy : 0.0250157\t1.0000\n",
      "- batch loss and accuracy : 0.0462865\t1.0000\n"
     ]
    },
    {
     "name": "stderr",
     "output_type": "stream",
     "text": [
      "epoch 14 - train: 52it [00:00, 101.03it/s]"
     ]
    },
    {
     "name": "stdout",
     "output_type": "stream",
     "text": [
      "- batch loss and accuracy : 0.0525764\t1.0000\n",
      "- batch loss and accuracy : 0.0917932\t1.0000\n",
      "- batch loss and accuracy : 0.0817441\t1.0000\n",
      "- batch loss and accuracy : 0.1307669\t1.0000\n",
      "- batch loss and accuracy : 0.1823065\t1.0000\n",
      "- batch loss and accuracy : 0.2277854\t1.0000\n",
      "- batch loss and accuracy : 0.2167088\t1.0000\n",
      "- batch loss and accuracy : 0.1984216\t1.0000\n",
      "- batch loss and accuracy : 0.1370542\t1.0000\n",
      "- batch loss and accuracy : 0.1731163\t1.0000\n",
      "- batch loss and accuracy : 2.3188143\t0.0000\n",
      "- batch loss and accuracy : 0.1826877\t1.0000\n",
      "- batch loss and accuracy : 0.1500343\t1.0000\n"
     ]
    },
    {
     "name": "stderr",
     "output_type": "stream",
     "text": [
      "epoch 14 - train: 63it [00:00, 102.37it/s]"
     ]
    },
    {
     "name": "stdout",
     "output_type": "stream",
     "text": [
      "- batch loss and accuracy : 0.1577524\t1.0000\n",
      "- batch loss and accuracy : 0.1057598\t1.0000\n",
      "- batch loss and accuracy : 0.2137960\t1.0000\n",
      "- batch loss and accuracy : 0.0967723\t1.0000\n",
      "- batch loss and accuracy : 0.1149128\t1.0000\n",
      "- batch loss and accuracy : 0.1173458\t1.0000\n",
      "- batch loss and accuracy : 2.8950887\t0.0000\n",
      "- batch loss and accuracy : 0.0562304\t1.0000\n"
     ]
    },
    {
     "name": "stderr",
     "output_type": "stream",
     "text": [
      "epoch 14 - train: 75it [00:00, 106.44it/s]"
     ]
    },
    {
     "name": "stdout",
     "output_type": "stream",
     "text": [
      "- batch loss and accuracy : 0.1055609\t1.0000\n",
      "- batch loss and accuracy : 0.0811316\t1.0000\n",
      "- batch loss and accuracy : 0.1331262\t1.0000\n",
      "- batch loss and accuracy : 2.3668172\t0.0000\n",
      "- batch loss and accuracy : 0.1912697\t1.0000\n",
      "- batch loss and accuracy : 0.1546960\t1.0000\n",
      "- batch loss and accuracy : 0.1942435\t1.0000\n",
      "- batch loss and accuracy : 0.2456964\t1.0000\n",
      "- batch loss and accuracy : 1.8632805\t0.0000\n",
      "- batch loss and accuracy : 0.2759708\t1.0000\n",
      "- batch loss and accuracy : 0.3683709\t0.6667\n",
      "- batch loss and accuracy : 0.2501853\t1.0000\n",
      "- batch loss and accuracy : 1.0634135\t0.0000\n",
      "- batch loss and accuracy : 0.3603275\t1.0000\n",
      "- batch loss and accuracy : 0.3451216\t1.0000\n"
     ]
    },
    {
     "name": "stderr",
     "output_type": "stream",
     "text": [
      "epoch 14 - train: 88it [00:00, 109.78it/s]"
     ]
    },
    {
     "name": "stdout",
     "output_type": "stream",
     "text": [
      "- batch loss and accuracy : 0.4560890\t1.0000\n",
      "- batch loss and accuracy : 0.2490062\t1.0000\n",
      "- batch loss and accuracy : 0.3011761\t1.0000\n",
      "- batch loss and accuracy : 0.4681160\t1.0000\n",
      "- batch loss and accuracy : 2.2517905\t0.0000\n",
      "- batch loss and accuracy : 0.1936031\t1.0000\n",
      "- batch loss and accuracy : 2.3511503\t0.0000\n",
      "- batch loss and accuracy : 0.1696381\t1.0000\n",
      "- batch loss and accuracy : 0.2134629\t1.0000\n"
     ]
    },
    {
     "name": "stderr",
     "output_type": "stream",
     "text": [
      "epoch 14 - train: 99it [00:00, 107.89it/s]"
     ]
    },
    {
     "name": "stdout",
     "output_type": "stream",
     "text": [
      "- batch loss and accuracy : 0.1260179\t1.0000\n",
      "- batch loss and accuracy : 1.7824910\t0.0000\n",
      "- batch loss and accuracy : 1.5459015\t0.0000\n",
      "- batch loss and accuracy : 0.2914059\t1.0000\n",
      "- batch loss and accuracy : 0.8570474\t0.3333\n",
      "- batch loss and accuracy : 0.6443471\t0.6667\n",
      "- batch loss and accuracy : 1.5982502\t0.0000\n",
      "- batch loss and accuracy : 0.2599367\t1.0000\n",
      "- batch loss and accuracy : 0.1516568\t1.0000\n",
      "- batch loss and accuracy : 0.1153932\t1.0000\n",
      "- batch loss and accuracy : 0.0623988\t1.0000\n",
      "- batch loss and accuracy : 3.1908033\t0.0000\n",
      "- batch loss and accuracy : 2.9030952\t0.0000\n",
      "- batch loss and accuracy : 0.0738589\t1.0000\n",
      "- batch loss and accuracy : 0.0982634\t1.0000\n",
      "- batch loss and accuracy : 2.2087936\t0.0000\n",
      "- batch loss and accuracy : 1.6845369\t0.0000\n",
      "- batch loss and accuracy : 1.1250120\t0.3333\n",
      "- batch loss and accuracy : 0.5075545\t1.0000\n",
      "- batch loss and accuracy : 1.3872287\t0.0000\n",
      "- batch loss and accuracy : 0.4521726\t1.0000\n"
     ]
    },
    {
     "name": "stderr",
     "output_type": "stream",
     "text": [
      "epoch 14 - train: 122it [00:01, 106.27it/s]"
     ]
    },
    {
     "name": "stdout",
     "output_type": "stream",
     "text": [
      "- batch loss and accuracy : 0.1657073\t1.0000\n",
      "- batch loss and accuracy : 0.1003770\t1.0000\n",
      "- batch loss and accuracy : 0.0973715\t1.0000\n",
      "- batch loss and accuracy : 0.0831500\t1.0000\n",
      "- batch loss and accuracy : 0.0638608\t1.0000\n",
      "- batch loss and accuracy : 0.0282061\t1.0000\n",
      "- batch loss and accuracy : 0.0213249\t1.0000\n",
      "- batch loss and accuracy : 0.0166098\t1.0000\n",
      "- batch loss and accuracy : 4.9024968\t0.0000\n",
      "- batch loss and accuracy : 4.6963329\t0.0000\n",
      "- batch loss and accuracy : 0.0169501\t1.0000\n",
      "- batch loss and accuracy : 0.0242481\t1.0000\n",
      "- batch loss and accuracy : 0.0514558\t1.0000\n",
      "- batch loss and accuracy : 0.0365510\t1.0000\n",
      "- batch loss and accuracy : 3.0199344\t0.0000\n",
      "- batch loss and accuracy : 0.1580848\t1.0000\n",
      "- batch loss and accuracy : 1.9891748\t0.0000\n",
      "- batch loss and accuracy : 0.3094850\t1.0000\n",
      "- batch loss and accuracy : 0.7522321\t0.6667\n",
      "- batch loss and accuracy : 0.6034794\t0.6667\n",
      "- batch loss and accuracy : 0.6132028\t1.0000\n",
      "- batch loss and accuracy : 0.6328142\t0.3333\n",
      "- batch loss and accuracy : 0.6937925\t0.3333\n"
     ]
    },
    {
     "name": "stderr",
     "output_type": "stream",
     "text": [
      "epoch 14 - train: 134it [00:01, 108.46it/s]"
     ]
    },
    {
     "name": "stdout",
     "output_type": "stream",
     "text": [
      "- batch loss and accuracy : 1.0125873\t0.3333\n",
      "- batch loss and accuracy : 0.3521538\t1.0000\n",
      "- batch loss and accuracy : 1.3286855\t0.0000\n",
      "- batch loss and accuracy : 0.3983867\t1.0000\n",
      "- batch loss and accuracy : 0.4112449\t1.0000\n",
      "- batch loss and accuracy : 0.2231820\t1.0000\n",
      "- batch loss and accuracy : 0.3146003\t1.0000\n",
      "- batch loss and accuracy : 0.2400115\t1.0000\n",
      "- batch loss and accuracy : 1.7235129\t0.0000\n",
      "- batch loss and accuracy : 0.1124319\t1.0000\n",
      "- batch loss and accuracy : 1.9596266\t0.0000\n",
      "- batch loss and accuracy : 1.8411529\t0.0000\n",
      "- batch loss and accuracy : 1.5730593\t0.0000\n"
     ]
    },
    {
     "name": "stderr",
     "output_type": "stream",
     "text": [
      "epoch 14 - train: 146it [00:01, 108.99it/s]"
     ]
    },
    {
     "name": "stdout",
     "output_type": "stream",
     "text": [
      "- batch loss and accuracy : 0.9487804\t0.3333\n",
      "- batch loss and accuracy : 1.1515545\t0.0000\n",
      "- batch loss and accuracy : 0.1822686\t1.0000\n",
      "- batch loss and accuracy : 1.8841151\t0.0000\n",
      "- batch loss and accuracy : 0.1529379\t1.0000\n",
      "- batch loss and accuracy : 2.5338597\t0.0000\n",
      "- batch loss and accuracy : 0.0682021\t1.0000\n",
      "- batch loss and accuracy : 0.1530241\t1.0000\n",
      "- batch loss and accuracy : 2.4387312\t0.0000\n",
      "- batch loss and accuracy : 1.8733199\t0.0000\n",
      "- batch loss and accuracy : 1.6345131\t0.0000\n"
     ]
    },
    {
     "name": "stderr",
     "output_type": "stream",
     "text": [
      "epoch 14 - train: 158it [00:01, 111.24it/s]"
     ]
    },
    {
     "name": "stdout",
     "output_type": "stream",
     "text": [
      "- batch loss and accuracy : 0.4736858\t1.0000\n",
      "- batch loss and accuracy : 0.4298091\t1.0000\n",
      "- batch loss and accuracy : 0.9124047\t0.0000\n",
      "- batch loss and accuracy : 1.7917316\t0.0000\n",
      "- batch loss and accuracy : 1.9748981\t0.0000\n",
      "- batch loss and accuracy : 1.2471039\t0.0000\n",
      "- batch loss and accuracy : 0.4738824\t1.0000\n",
      "- batch loss and accuracy : 0.8179349\t0.0000\n",
      "- batch loss and accuracy : 0.7130655\t0.3333\n",
      "- batch loss and accuracy : 0.8338771\t0.0000\n",
      "- batch loss and accuracy : 1.0807629\t0.0000\n",
      "- batch loss and accuracy : 0.8341995\t0.3333\n",
      "- batch loss and accuracy : 1.0066525\t0.0000\n",
      "- batch loss and accuracy : 0.4558534\t1.0000\n"
     ]
    },
    {
     "name": "stderr",
     "output_type": "stream",
     "text": [
      "epoch 14 - train: 171it [00:01, 115.51it/s]"
     ]
    },
    {
     "name": "stdout",
     "output_type": "stream",
     "text": [
      "- batch loss and accuracy : 0.2138575\t1.0000\n",
      "- batch loss and accuracy : 0.1634214\t1.0000\n",
      "- batch loss and accuracy : 2.9279666\t0.0000\n",
      "- batch loss and accuracy : 0.0694629\t1.0000\n",
      "- batch loss and accuracy : 0.0538740\t1.0000\n",
      "- batch loss and accuracy : 0.0268411\t1.0000\n",
      "- batch loss and accuracy : 0.0256584\t1.0000\n",
      "- batch loss and accuracy : 0.0241998\t1.0000\n",
      "- batch loss and accuracy : 0.0131097\t1.0000\n",
      "- batch loss and accuracy : 4.5042343\t0.0000\n"
     ]
    },
    {
     "name": "stderr",
     "output_type": "stream",
     "text": [
      "epoch 14 - train: 183it [00:01, 114.56it/s]"
     ]
    },
    {
     "name": "stdout",
     "output_type": "stream",
     "text": [
      "- batch loss and accuracy : 0.0222312\t1.0000\n",
      "- batch loss and accuracy : 0.0159396\t1.0000\n",
      "- batch loss and accuracy : 0.0357922\t1.0000\n",
      "- batch loss and accuracy : 3.8608799\t0.0000\n",
      "- batch loss and accuracy : 0.0541410\t1.0000\n",
      "- batch loss and accuracy : 0.0546454\t1.0000\n",
      "- batch loss and accuracy : 2.7071447\t0.0000\n",
      "- batch loss and accuracy : 2.1442115\t0.0000\n",
      "- batch loss and accuracy : 0.2770442\t1.0000\n",
      "- batch loss and accuracy : 0.4785221\t1.0000\n",
      "- batch loss and accuracy : 0.8911190\t0.0000\n",
      "- batch loss and accuracy : 0.9696571\t0.0000\n",
      "- batch loss and accuracy : 0.1987968\t1.0000\n",
      "- batch loss and accuracy : 2.0348351\t0.0000\n"
     ]
    },
    {
     "name": "stderr",
     "output_type": "stream",
     "text": [
      "epoch 14 - train: 195it [00:01, 114.00it/s]"
     ]
    },
    {
     "name": "stdout",
     "output_type": "stream",
     "text": [
      "- batch loss and accuracy : 1.6047535\t0.0000\n",
      "- batch loss and accuracy : 0.2067948\t1.0000\n",
      "- batch loss and accuracy : 1.4852092\t0.0000\n",
      "- batch loss and accuracy : 1.3554575\t0.0000\n",
      "- batch loss and accuracy : 0.4141953\t1.0000\n",
      "- batch loss and accuracy : 0.8993944\t0.0000\n",
      "- batch loss and accuracy : 0.6720261\t0.6667\n",
      "- batch loss and accuracy : 0.4088350\t1.0000\n",
      "- batch loss and accuracy : 0.2641664\t1.0000\n"
     ]
    },
    {
     "name": "stderr",
     "output_type": "stream",
     "text": [
      "epoch 14 - train: 207it [00:01, 113.37it/s]"
     ]
    },
    {
     "name": "stdout",
     "output_type": "stream",
     "text": [
      "- batch loss and accuracy : 1.8502750\t0.0000\n",
      "- batch loss and accuracy : 1.8332472\t0.0000\n",
      "- batch loss and accuracy : 0.2153506\t1.0000\n",
      "- batch loss and accuracy : 1.6981914\t0.0000\n",
      "- batch loss and accuracy : 1.5942934\t0.0000\n",
      "- batch loss and accuracy : 0.6678478\t0.6667\n",
      "- batch loss and accuracy : 0.6935704\t0.6667\n",
      "- batch loss and accuracy : 0.5612506\t0.6667\n",
      "- batch loss and accuracy : 2.0657644\t0.0000\n",
      "- batch loss and accuracy : 1.9295480\t0.0000\n",
      "- batch loss and accuracy : 1.2734610\t0.0000\n",
      "- batch loss and accuracy : 1.2805648\t0.0000\n"
     ]
    },
    {
     "name": "stderr",
     "output_type": "stream",
     "text": [
      "epoch 14 - train: 219it [00:02, 106.82it/s]"
     ]
    },
    {
     "name": "stdout",
     "output_type": "stream",
     "text": [
      "- batch loss and accuracy : 1.2963471\t0.0000\n",
      "- batch loss and accuracy : 0.8351979\t0.3333\n",
      "- batch loss and accuracy : 1.0324891\t0.0000\n",
      "- batch loss and accuracy : 1.3539891\t0.0000\n",
      "- batch loss and accuracy : 0.3914595\t1.0000\n",
      "- batch loss and accuracy : 0.3650239\t1.0000\n",
      "- batch loss and accuracy : 0.1649403\t1.0000\n",
      "- batch loss and accuracy : 0.2041393\t1.0000\n"
     ]
    },
    {
     "name": "stderr",
     "output_type": "stream",
     "text": [
      "epoch 14 - train: 230it [00:02, 106.21it/s]"
     ]
    },
    {
     "name": "stdout",
     "output_type": "stream",
     "text": [
      "- batch loss and accuracy : 0.2609422\t1.0000\n",
      "- batch loss and accuracy : 0.1289765\t1.0000\n",
      "- batch loss and accuracy : 2.1924081\t0.0000\n",
      "- batch loss and accuracy : 0.0946310\t1.0000\n",
      "- batch loss and accuracy : 0.0996935\t1.0000\n",
      "- batch loss and accuracy : 0.0794630\t1.0000\n",
      "- batch loss and accuracy : 0.0913201\t1.0000\n",
      "- batch loss and accuracy : 0.1214118\t1.0000\n",
      "- batch loss and accuracy : 0.1102720\t1.0000\n",
      "- batch loss and accuracy : 2.5902882\t0.0000\n",
      "- batch loss and accuracy : 2.4925787\t0.0000\n",
      "- batch loss and accuracy : 0.1161998\t1.0000\n",
      "- batch loss and accuracy : 0.1905096\t1.0000\n",
      "- batch loss and accuracy : 0.3388156\t1.0000\n",
      "- batch loss and accuracy : 1.3245747\t0.0000\n"
     ]
    },
    {
     "name": "stderr",
     "output_type": "stream",
     "text": [
      "epoch 14 - train: 241it [00:02, 104.72it/s]"
     ]
    },
    {
     "name": "stdout",
     "output_type": "stream",
     "text": [
      "- batch loss and accuracy : 0.3629365\t1.0000\n",
      "- batch loss and accuracy : 0.6585963\t0.6667\n",
      "- batch loss and accuracy : 0.8327252\t0.3333\n",
      "- batch loss and accuracy : 0.6198126\t1.0000\n",
      "- batch loss and accuracy : 0.5762644\t1.0000\n",
      "- batch loss and accuracy : 0.6068408\t0.6667\n",
      "- batch loss and accuracy : 1.0590703\t0.3333\n"
     ]
    },
    {
     "name": "stderr",
     "output_type": "stream",
     "text": [
      "epoch 14 - train: 249it [00:02, 104.76it/s]\n"
     ]
    },
    {
     "name": "stdout",
     "output_type": "stream",
     "text": [
      "- batch loss and accuracy : 0.8075747\t0.0000\n",
      "- batch loss and accuracy : 0.5792748\t0.6667\n",
      "- batch loss and accuracy : 0.2752802\t1.0000\n",
      "- batch loss and accuracy : 0.2612368\t1.0000\n"
     ]
    },
    {
     "name": "stderr",
     "output_type": "stream",
     "text": [
      "epoch 14 - validation: 100%|██████████| 63/63 [00:00<00:00, 122.34it/s]"
     ]
    },
    {
     "name": "stdout",
     "output_type": "stream",
     "text": [
      "Validation loss and accuracy : 0.7575560\t0.7143\n",
      "EPOCH 15\n"
     ]
    },
    {
     "name": "stderr",
     "output_type": "stream",
     "text": [
      "\n",
      "epoch 15 - train: 7it [00:00, 66.11it/s]"
     ]
    },
    {
     "name": "stdout",
     "output_type": "stream",
     "text": [
      "- batch loss and accuracy : 0.1378755\t1.0000\n",
      "- batch loss and accuracy : 0.0787883\t1.0000\n",
      "- batch loss and accuracy : 0.0899555\t1.0000\n",
      "- batch loss and accuracy : 3.0034711\t0.0000\n",
      "- batch loss and accuracy : 0.0299988\t1.0000\n",
      "- batch loss and accuracy : 0.0566357\t1.0000\n",
      "- batch loss and accuracy : 0.0253122\t1.0000\n",
      "- batch loss and accuracy : 0.0230343\t1.0000\n",
      "- batch loss and accuracy : 3.5212259\t0.0000\n",
      "- batch loss and accuracy : 0.0556835\t1.0000\n",
      "- batch loss and accuracy : 0.0271523\t1.0000\n",
      "- batch loss and accuracy : 0.0728656\t1.0000\n",
      "- batch loss and accuracy : 0.0420556\t1.0000\n",
      "- batch loss and accuracy : 0.0844751\t1.0000\n",
      "- batch loss and accuracy : 3.3445337\t0.0000\n"
     ]
    },
    {
     "name": "stderr",
     "output_type": "stream",
     "text": [
      "epoch 15 - train: 20it [00:00, 96.90it/s]"
     ]
    },
    {
     "name": "stdout",
     "output_type": "stream",
     "text": [
      "- batch loss and accuracy : 0.0684396\t1.0000\n",
      "- batch loss and accuracy : 0.1490619\t1.0000\n",
      "- batch loss and accuracy : 2.2559583\t0.0000\n",
      "- batch loss and accuracy : 1.9381045\t0.0000\n",
      "- batch loss and accuracy : 0.3272796\t1.0000\n",
      "- batch loss and accuracy : 0.8441529\t0.3333\n",
      "- batch loss and accuracy : 0.3196121\t1.0000\n",
      "- batch loss and accuracy : 1.2948411\t0.0000\n"
     ]
    },
    {
     "name": "stderr",
     "output_type": "stream",
     "text": [
      "epoch 15 - train: 32it [00:00, 101.99it/s]"
     ]
    },
    {
     "name": "stdout",
     "output_type": "stream",
     "text": [
      "- batch loss and accuracy : 0.2756833\t1.0000\n",
      "- batch loss and accuracy : 0.2981706\t1.0000\n",
      "- batch loss and accuracy : 1.6397351\t0.0000\n",
      "- batch loss and accuracy : 0.2898670\t1.0000\n",
      "- batch loss and accuracy : 0.1790842\t1.0000\n",
      "- batch loss and accuracy : 2.2508667\t0.0000\n",
      "- batch loss and accuracy : 1.3006492\t0.0000\n",
      "- batch loss and accuracy : 1.2349007\t0.0000\n",
      "- batch loss and accuracy : 0.5745537\t0.3333\n",
      "- batch loss and accuracy : 0.6237251\t0.6667\n",
      "- batch loss and accuracy : 1.6269350\t0.0000\n",
      "- batch loss and accuracy : 1.3809030\t0.0000\n",
      "- batch loss and accuracy : 2.3032577\t0.0000\n",
      "- batch loss and accuracy : 0.2498470\t1.0000\n",
      "- batch loss and accuracy : 0.1920734\t1.0000\n"
     ]
    },
    {
     "name": "stderr",
     "output_type": "stream",
     "text": [
      "epoch 15 - train: 45it [00:00, 110.69it/s]"
     ]
    },
    {
     "name": "stdout",
     "output_type": "stream",
     "text": [
      "- batch loss and accuracy : 1.8480198\t0.0000\n",
      "- batch loss and accuracy : 1.7931217\t0.0000\n",
      "- batch loss and accuracy : 0.9528868\t0.3333\n",
      "- batch loss and accuracy : 0.5977543\t0.6667\n",
      "- batch loss and accuracy : 0.9885618\t0.0000\n",
      "- batch loss and accuracy : 0.3161412\t1.0000\n",
      "- batch loss and accuracy : 2.0415764\t0.0000\n",
      "- batch loss and accuracy : 2.2917099\t0.0000\n",
      "- batch loss and accuracy : 0.1819135\t1.0000\n",
      "- batch loss and accuracy : 2.0955398\t0.0000\n"
     ]
    },
    {
     "name": "stderr",
     "output_type": "stream",
     "text": [
      "epoch 15 - train: 57it [00:00, 111.60it/s]"
     ]
    },
    {
     "name": "stdout",
     "output_type": "stream",
     "text": [
      "- batch loss and accuracy : 1.3779066\t0.0000\n",
      "- batch loss and accuracy : 1.2579892\t0.0000\n",
      "- batch loss and accuracy : 0.6350410\t0.6667\n",
      "- batch loss and accuracy : 0.2921372\t1.0000\n",
      "- batch loss and accuracy : 2.0417051\t0.0000\n",
      "- batch loss and accuracy : 0.0778459\t1.0000\n",
      "- batch loss and accuracy : 0.0796057\t1.0000\n",
      "- batch loss and accuracy : 0.0555637\t1.0000\n",
      "- batch loss and accuracy : 0.0325928\t1.0000\n",
      "- batch loss and accuracy : 3.9550338\t0.0000\n",
      "- batch loss and accuracy : 0.0219705\t1.0000\n",
      "- batch loss and accuracy : 0.0195810\t1.0000\n",
      "- batch loss and accuracy : 4.1037655\t0.0000\n"
     ]
    },
    {
     "name": "stderr",
     "output_type": "stream",
     "text": [
      "epoch 15 - train: 69it [00:00, 104.69it/s]"
     ]
    },
    {
     "name": "stdout",
     "output_type": "stream",
     "text": [
      "- batch loss and accuracy : 4.0100613\t0.0000\n",
      "- batch loss and accuracy : 0.0598035\t1.0000\n",
      "- batch loss and accuracy : 0.0838518\t1.0000\n",
      "- batch loss and accuracy : 0.1139020\t1.0000\n",
      "- batch loss and accuracy : 0.1296317\t1.0000\n",
      "- batch loss and accuracy : 0.4018676\t1.0000\n",
      "- batch loss and accuracy : 0.3022122\t1.0000\n",
      "- batch loss and accuracy : 0.3436179\t1.0000\n"
     ]
    },
    {
     "name": "stderr",
     "output_type": "stream",
     "text": [
      "epoch 15 - train: 81it [00:00, 108.00it/s]"
     ]
    },
    {
     "name": "stdout",
     "output_type": "stream",
     "text": [
      "- batch loss and accuracy : 0.3687292\t1.0000\n",
      "- batch loss and accuracy : 1.3823230\t0.0000\n",
      "- batch loss and accuracy : 0.2530478\t1.0000\n",
      "- batch loss and accuracy : 0.3195107\t1.0000\n",
      "- batch loss and accuracy : 0.1985264\t1.0000\n",
      "- batch loss and accuracy : 0.2919175\t1.0000\n",
      "- batch loss and accuracy : 0.1524493\t1.0000\n",
      "- batch loss and accuracy : 1.4543340\t0.0000\n",
      "- batch loss and accuracy : 1.9379451\t0.0000\n",
      "- batch loss and accuracy : 0.2272452\t1.0000\n",
      "- batch loss and accuracy : 1.0020933\t0.0000\n",
      "- batch loss and accuracy : 0.5904571\t1.0000\n",
      "- batch loss and accuracy : 0.4060266\t1.0000\n",
      "- batch loss and accuracy : 0.8896316\t0.0000\n",
      "- batch loss and accuracy : 0.6613714\t0.6667\n",
      "- batch loss and accuracy : 0.7419395\t0.3333\n",
      "- batch loss and accuracy : 0.8361865\t0.3333\n",
      "- batch loss and accuracy : 0.6792307\t0.6667\n",
      "- batch loss and accuracy : 0.7755392\t0.0000\n",
      "- batch loss and accuracy : 0.3082131\t1.0000\n",
      "- batch loss and accuracy : 0.2954733\t1.0000\n",
      "- batch loss and accuracy : 0.3491147\t1.0000\n"
     ]
    },
    {
     "name": "stderr",
     "output_type": "stream",
     "text": [
      "epoch 15 - train: 104it [00:00, 107.80it/s]"
     ]
    },
    {
     "name": "stdout",
     "output_type": "stream",
     "text": [
      "- batch loss and accuracy : 1.8193235\t0.0000\n",
      "- batch loss and accuracy : 0.1279383\t1.0000\n",
      "- batch loss and accuracy : 0.1084038\t1.0000\n",
      "- batch loss and accuracy : 0.0962320\t1.0000\n",
      "- batch loss and accuracy : 0.1253771\t1.0000\n",
      "- batch loss and accuracy : 0.1230989\t1.0000\n",
      "- batch loss and accuracy : 0.0776716\t1.0000\n",
      "- batch loss and accuracy : 3.4708805\t0.0000\n",
      "- batch loss and accuracy : 0.0506849\t1.0000\n",
      "- batch loss and accuracy : 0.0550032\t1.0000\n",
      "- batch loss and accuracy : 0.0546298\t1.0000\n",
      "- batch loss and accuracy : 0.0500057\t1.0000\n",
      "- batch loss and accuracy : 0.0746796\t1.0000\n",
      "- batch loss and accuracy : 3.2632570\t0.0000\n",
      "- batch loss and accuracy : 0.0883003\t1.0000\n",
      "- batch loss and accuracy : 2.6727197\t0.0000\n",
      "- batch loss and accuracy : 0.2381626\t1.0000\n",
      "- batch loss and accuracy : 0.2705249\t1.0000\n",
      "- batch loss and accuracy : 0.6757926\t0.3333\n",
      "- batch loss and accuracy : 0.6474564\t0.6667\n",
      "- batch loss and accuracy : 0.8535162\t0.0000\n",
      "- batch loss and accuracy : 0.7250547\t0.3333\n",
      "- batch loss and accuracy : 0.8020614\t0.3333\n"
     ]
    },
    {
     "name": "stderr",
     "output_type": "stream",
     "text": [
      "epoch 15 - train: 129it [00:01, 115.54it/s]"
     ]
    },
    {
     "name": "stdout",
     "output_type": "stream",
     "text": [
      "- batch loss and accuracy : 0.5378530\t0.6667\n",
      "- batch loss and accuracy : 0.8667893\t0.0000\n",
      "- batch loss and accuracy : 0.9358915\t0.0000\n",
      "- batch loss and accuracy : 0.4536931\t0.6667\n",
      "- batch loss and accuracy : 0.5704163\t1.0000\n",
      "- batch loss and accuracy : 0.5616127\t0.6667\n",
      "- batch loss and accuracy : 1.3071347\t0.0000\n",
      "- batch loss and accuracy : 0.2812282\t1.0000\n",
      "- batch loss and accuracy : 0.1763520\t1.0000\n",
      "- batch loss and accuracy : 2.2385008\t0.0000\n",
      "- batch loss and accuracy : 0.1499534\t1.0000\n",
      "- batch loss and accuracy : 1.7543466\t0.0000\n",
      "- batch loss and accuracy : 0.2041924\t1.0000\n",
      "- batch loss and accuracy : 0.3234878\t1.0000\n",
      "- batch loss and accuracy : 0.2650176\t1.0000\n",
      "- batch loss and accuracy : 0.3404990\t1.0000\n",
      "- batch loss and accuracy : 0.3286416\t1.0000\n",
      "- batch loss and accuracy : 0.2581452\t1.0000\n",
      "- batch loss and accuracy : 0.2369471\t1.0000\n",
      "- batch loss and accuracy : 0.1607436\t1.0000\n",
      "- batch loss and accuracy : 0.1100297\t1.0000\n",
      "- batch loss and accuracy : 0.1201345\t1.0000\n",
      "- batch loss and accuracy : 2.6996047\t0.0000\n",
      "- batch loss and accuracy : 2.7118306\t0.0000\n",
      "- batch loss and accuracy : 2.5168865\t0.0000\n"
     ]
    },
    {
     "name": "stderr",
     "output_type": "stream",
     "text": [
      "epoch 15 - train: 141it [00:01, 113.57it/s]"
     ]
    },
    {
     "name": "stdout",
     "output_type": "stream",
     "text": [
      "- batch loss and accuracy : 0.1859670\t1.0000\n",
      "- batch loss and accuracy : 0.1982139\t1.0000\n",
      "- batch loss and accuracy : 1.2526841\t0.0000\n",
      "- batch loss and accuracy : 0.6042858\t0.6667\n",
      "- batch loss and accuracy : 0.5791346\t1.0000\n",
      "- batch loss and accuracy : 0.3627746\t1.0000\n",
      "- batch loss and accuracy : 1.5193090\t0.0000\n",
      "- batch loss and accuracy : 2.2971320\t0.0000\n",
      "- batch loss and accuracy : 1.9267892\t0.0000\n",
      "- batch loss and accuracy : 1.4791045\t0.0000\n",
      "- batch loss and accuracy : 0.4528345\t1.0000\n",
      "- batch loss and accuracy : 1.0247569\t0.3333\n"
     ]
    },
    {
     "name": "stderr",
     "output_type": "stream",
     "text": [
      "epoch 15 - train: 153it [00:01, 106.14it/s]"
     ]
    },
    {
     "name": "stdout",
     "output_type": "stream",
     "text": [
      "- batch loss and accuracy : 0.8595448\t0.3333\n",
      "- batch loss and accuracy : 1.2113242\t0.0000\n",
      "- batch loss and accuracy : 0.2239175\t1.0000\n",
      "- batch loss and accuracy : 0.4100408\t1.0000\n",
      "- batch loss and accuracy : 1.6731260\t0.0000\n",
      "- batch loss and accuracy : 1.8210572\t0.0000\n",
      "- batch loss and accuracy : 1.0680976\t0.0000\n",
      "- batch loss and accuracy : 0.4672878\t0.6667\n",
      "- batch loss and accuracy : 0.8720577\t0.3333\n"
     ]
    },
    {
     "name": "stderr",
     "output_type": "stream",
     "text": [
      "epoch 15 - train: 166it [00:01, 111.61it/s]"
     ]
    },
    {
     "name": "stdout",
     "output_type": "stream",
     "text": [
      "- batch loss and accuracy : 0.5103180\t0.6667\n",
      "- batch loss and accuracy : 0.6311297\t0.6667\n",
      "- batch loss and accuracy : 0.9133759\t0.3333\n",
      "- batch loss and accuracy : 1.0061541\t0.0000\n",
      "- batch loss and accuracy : 0.7531134\t0.3333\n",
      "- batch loss and accuracy : 0.6738099\t0.6667\n",
      "- batch loss and accuracy : 0.3668885\t1.0000\n",
      "- batch loss and accuracy : 0.1521910\t1.0000\n",
      "- batch loss and accuracy : 0.1159548\t1.0000\n",
      "- batch loss and accuracy : 0.0655746\t1.0000\n",
      "- batch loss and accuracy : 0.0337566\t1.0000\n",
      "- batch loss and accuracy : 0.0194977\t1.0000\n",
      "- batch loss and accuracy : 0.0133598\t1.0000\n",
      "- batch loss and accuracy : 0.0125457\t1.0000\n",
      "- batch loss and accuracy : 0.0054331\t1.0000\n"
     ]
    },
    {
     "name": "stderr",
     "output_type": "stream",
     "text": [
      "epoch 15 - train: 178it [00:01, 107.93it/s]"
     ]
    },
    {
     "name": "stdout",
     "output_type": "stream",
     "text": [
      "- batch loss and accuracy : 0.0045397\t1.0000\n",
      "- batch loss and accuracy : 0.0026632\t1.0000\n",
      "- batch loss and accuracy : 0.0036762\t1.0000\n",
      "- batch loss and accuracy : 0.0015879\t1.0000\n",
      "- batch loss and accuracy : 0.0010616\t1.0000\n",
      "- batch loss and accuracy : 0.0015171\t1.0000\n"
     ]
    },
    {
     "name": "stderr",
     "output_type": "stream",
     "text": [
      "epoch 15 - train: 190it [00:01, 109.51it/s]"
     ]
    },
    {
     "name": "stdout",
     "output_type": "stream",
     "text": [
      "- batch loss and accuracy : 0.0019688\t1.0000\n",
      "- batch loss and accuracy : 6.8746314\t0.0000\n",
      "- batch loss and accuracy : 0.0011192\t1.0000\n",
      "- batch loss and accuracy : 0.0006934\t1.0000\n",
      "- batch loss and accuracy : 0.0007608\t1.0000\n",
      "- batch loss and accuracy : 0.0017898\t1.0000\n",
      "- batch loss and accuracy : 6.6006331\t0.0000\n",
      "- batch loss and accuracy : 0.0025145\t1.0000\n",
      "- batch loss and accuracy : 0.0032981\t1.0000\n",
      "- batch loss and accuracy : 0.0075607\t1.0000\n",
      "- batch loss and accuracy : 0.0168784\t1.0000\n",
      "- batch loss and accuracy : 0.0103813\t1.0000\n",
      "- batch loss and accuracy : 0.0121220\t1.0000\n",
      "- batch loss and accuracy : 3.7602985\t0.0000\n",
      "- batch loss and accuracy : 0.0415951\t1.0000\n",
      "- batch loss and accuracy : 0.0269874\t1.0000\n",
      "- batch loss and accuracy : 0.0798064\t1.0000\n"
     ]
    },
    {
     "name": "stderr",
     "output_type": "stream",
     "text": [
      "epoch 15 - train: 202it [00:01, 110.83it/s]"
     ]
    },
    {
     "name": "stdout",
     "output_type": "stream",
     "text": [
      "- batch loss and accuracy : 0.1094260\t1.0000\n",
      "- batch loss and accuracy : 2.3868489\t0.0000\n",
      "- batch loss and accuracy : 0.5708605\t0.6667\n",
      "- batch loss and accuracy : 1.2320926\t0.0000\n",
      "- batch loss and accuracy : 0.6063294\t0.6667\n",
      "- batch loss and accuracy : 0.7022885\t0.6667\n",
      "- batch loss and accuracy : 0.6304197\t0.6667\n"
     ]
    },
    {
     "name": "stderr",
     "output_type": "stream",
     "text": [
      "epoch 15 - train: 214it [00:01, 112.69it/s]"
     ]
    },
    {
     "name": "stdout",
     "output_type": "stream",
     "text": [
      "- batch loss and accuracy : 1.5562071\t0.0000\n",
      "- batch loss and accuracy : 0.2603330\t1.0000\n",
      "- batch loss and accuracy : 1.8919382\t0.0000\n",
      "- batch loss and accuracy : 1.7736706\t0.0000\n",
      "- batch loss and accuracy : 0.2112285\t1.0000\n",
      "- batch loss and accuracy : 1.6918085\t0.0000\n",
      "- batch loss and accuracy : 1.6393719\t0.0000\n",
      "- batch loss and accuracy : 0.4560159\t1.0000\n",
      "- batch loss and accuracy : 0.5913996\t1.0000\n",
      "- batch loss and accuracy : 0.4870251\t0.6667\n",
      "- batch loss and accuracy : 0.1893753\t1.0000\n",
      "- batch loss and accuracy : 0.1298399\t1.0000\n",
      "- batch loss and accuracy : 2.9885387\t0.0000\n",
      "- batch loss and accuracy : 0.0580321\t1.0000\n",
      "- batch loss and accuracy : 2.9341905\t0.0000\n",
      "- batch loss and accuracy : 0.0344680\t1.0000\n",
      "- batch loss and accuracy : 0.0467858\t1.0000\n"
     ]
    },
    {
     "name": "stderr",
     "output_type": "stream",
     "text": [
      "epoch 15 - train: 226it [00:02, 111.54it/s]"
     ]
    },
    {
     "name": "stdout",
     "output_type": "stream",
     "text": [
      "- batch loss and accuracy : 0.0481537\t1.0000\n",
      "- batch loss and accuracy : 0.0598721\t1.0000\n",
      "- batch loss and accuracy : 0.0578445\t1.0000\n",
      "- batch loss and accuracy : 0.0824845\t1.0000\n",
      "- batch loss and accuracy : 0.0854103\t1.0000\n",
      "- batch loss and accuracy : 0.0539357\t1.0000\n",
      "- batch loss and accuracy : 3.4337566\t0.0000\n"
     ]
    },
    {
     "name": "stderr",
     "output_type": "stream",
     "text": [
      "epoch 15 - train: 238it [00:02, 113.52it/s]"
     ]
    },
    {
     "name": "stdout",
     "output_type": "stream",
     "text": [
      "- batch loss and accuracy : 2.5781953\t0.0000\n",
      "- batch loss and accuracy : 2.2088685\t0.0000\n",
      "- batch loss and accuracy : 0.2726999\t1.0000\n",
      "- batch loss and accuracy : 0.4933655\t1.0000\n",
      "- batch loss and accuracy : 0.7354606\t0.6667\n",
      "- batch loss and accuracy : 0.7025986\t0.3333\n",
      "- batch loss and accuracy : 0.7884254\t0.0000\n",
      "- batch loss and accuracy : 0.5275773\t0.6667\n",
      "- batch loss and accuracy : 0.6224390\t0.6667\n",
      "- batch loss and accuracy : 1.2833529\t0.0000\n",
      "- batch loss and accuracy : 1.3716486\t0.3333\n",
      "- batch loss and accuracy : 1.1294260\t0.0000\n",
      "- batch loss and accuracy : 0.5539520\t0.6667\n",
      "- batch loss and accuracy : 0.7994441\t0.3333\n",
      "- batch loss and accuracy : 0.4442818\t1.0000\n",
      "- batch loss and accuracy : 0.2639686\t1.0000\n"
     ]
    },
    {
     "name": "stderr",
     "output_type": "stream",
     "text": [
      "epoch 15 - train: 249it [00:02, 108.49it/s]\n"
     ]
    },
    {
     "name": "stdout",
     "output_type": "stream",
     "text": [
      "- batch loss and accuracy : 0.2566251\t1.0000\n",
      "- batch loss and accuracy : 2.0351532\t0.0000\n",
      "- batch loss and accuracy : 2.0254221\t0.0000\n",
      "- batch loss and accuracy : 0.1491307\t1.0000\n"
     ]
    },
    {
     "name": "stderr",
     "output_type": "stream",
     "text": [
      "epoch 15 - validation: 100%|██████████| 63/63 [00:00<00:00, 129.47it/s]"
     ]
    },
    {
     "name": "stdout",
     "output_type": "stream",
     "text": [
      "Validation loss and accuracy : 1.6565484\t0.2857\n",
      "EPOCH 16\n"
     ]
    },
    {
     "name": "stderr",
     "output_type": "stream",
     "text": [
      "\n",
      "epoch 16 - train: 6it [00:00, 56.93it/s]"
     ]
    },
    {
     "name": "stdout",
     "output_type": "stream",
     "text": [
      "- batch loss and accuracy : 2.1564610\t0.0000\n",
      "- batch loss and accuracy : 0.2682619\t1.0000\n",
      "- batch loss and accuracy : 2.0954244\t0.0000\n",
      "- batch loss and accuracy : 1.0601304\t0.0000\n",
      "- batch loss and accuracy : 0.6055606\t1.0000\n",
      "- batch loss and accuracy : 1.2802795\t0.3333\n",
      "- batch loss and accuracy : 1.7416462\t0.0000\n",
      "- batch loss and accuracy : 0.1900529\t1.0000\n",
      "- batch loss and accuracy : 0.0945062\t1.0000\n",
      "- batch loss and accuracy : 0.1251057\t1.0000\n",
      "- batch loss and accuracy : 0.0845624\t1.0000\n",
      "- batch loss and accuracy : 0.1010288\t1.0000\n",
      "- batch loss and accuracy : 0.0554808\t1.0000\n",
      "- batch loss and accuracy : 3.0870073\t0.0000\n",
      "- batch loss and accuracy : 0.0711697\t1.0000\n"
     ]
    },
    {
     "name": "stderr",
     "output_type": "stream",
     "text": [
      "epoch 16 - train: 19it [00:00, 96.19it/s]"
     ]
    },
    {
     "name": "stdout",
     "output_type": "stream",
     "text": [
      "- batch loss and accuracy : 0.0439263\t1.0000\n",
      "- batch loss and accuracy : 0.0365528\t1.0000\n",
      "- batch loss and accuracy : 0.0801663\t1.0000\n",
      "- batch loss and accuracy : 2.5869017\t0.0000\n",
      "- batch loss and accuracy : 0.0546474\t1.0000\n",
      "- batch loss and accuracy : 0.0936649\t1.0000\n",
      "- batch loss and accuracy : 0.1624801\t1.0000\n",
      "- batch loss and accuracy : 0.1787566\t1.0000\n",
      "- batch loss and accuracy : 2.0343492\t0.0000\n",
      "- batch loss and accuracy : 0.2442480\t1.0000\n"
     ]
    },
    {
     "name": "stderr",
     "output_type": "stream",
     "text": [
      "epoch 16 - train: 30it [00:00, 99.98it/s]"
     ]
    },
    {
     "name": "stdout",
     "output_type": "stream",
     "text": [
      "- batch loss and accuracy : 0.3114471\t1.0000\n",
      "- batch loss and accuracy : 0.2901033\t1.0000\n",
      "- batch loss and accuracy : 0.2619377\t1.0000\n",
      "- batch loss and accuracy : 0.4707110\t0.6667\n",
      "- batch loss and accuracy : 1.6803831\t0.0000\n",
      "- batch loss and accuracy : 0.3713430\t1.0000\n",
      "- batch loss and accuracy : 0.3013819\t1.0000\n",
      "- batch loss and accuracy : 0.2294931\t1.0000\n",
      "- batch loss and accuracy : 0.2956178\t1.0000\n",
      "- batch loss and accuracy : 0.2701580\t1.0000\n",
      "- batch loss and accuracy : 0.1848625\t1.0000\n"
     ]
    },
    {
     "name": "stderr",
     "output_type": "stream",
     "text": [
      "epoch 16 - train: 41it [00:00, 100.07it/s]"
     ]
    },
    {
     "name": "stdout",
     "output_type": "stream",
     "text": [
      "- batch loss and accuracy : 2.4282761\t0.0000\n",
      "- batch loss and accuracy : 2.2125220\t0.0000\n",
      "- batch loss and accuracy : 0.1935909\t1.0000\n",
      "- batch loss and accuracy : 0.2566505\t1.0000\n",
      "- batch loss and accuracy : 1.3878273\t0.0000\n",
      "- batch loss and accuracy : 0.3429196\t1.0000\n",
      "- batch loss and accuracy : 0.4495222\t0.6667\n",
      "- batch loss and accuracy : 0.7430749\t0.6667\n",
      "- batch loss and accuracy : 0.5718517\t0.3333\n",
      "- batch loss and accuracy : 0.7045881\t0.6667\n"
     ]
    },
    {
     "name": "stderr",
     "output_type": "stream",
     "text": [
      "epoch 16 - train: 53it [00:00, 106.86it/s]"
     ]
    },
    {
     "name": "stdout",
     "output_type": "stream",
     "text": [
      "- batch loss and accuracy : 0.8603768\t0.3333\n",
      "- batch loss and accuracy : 0.6362756\t0.6667\n",
      "- batch loss and accuracy : 1.0554955\t0.0000\n",
      "- batch loss and accuracy : 0.2859305\t1.0000\n",
      "- batch loss and accuracy : 0.3303281\t1.0000\n",
      "- batch loss and accuracy : 0.1825636\t1.0000\n",
      "- batch loss and accuracy : 0.2153801\t1.0000\n",
      "- batch loss and accuracy : 2.3076048\t0.0000\n",
      "- batch loss and accuracy : 0.1055483\t1.0000\n",
      "- batch loss and accuracy : 2.5682983\t0.0000\n",
      "- batch loss and accuracy : 0.1484574\t1.0000\n",
      "- batch loss and accuracy : 0.2970506\t1.0000\n",
      "- batch loss and accuracy : 0.2643097\t1.0000\n",
      "- batch loss and accuracy : 1.7838569\t0.0000\n"
     ]
    },
    {
     "name": "stderr",
     "output_type": "stream",
     "text": [
      "epoch 16 - train: 65it [00:00, 108.32it/s]"
     ]
    },
    {
     "name": "stdout",
     "output_type": "stream",
     "text": [
      "- batch loss and accuracy : 0.1085700\t1.0000\n",
      "- batch loss and accuracy : 0.2591100\t1.0000\n",
      "- batch loss and accuracy : 0.2877770\t1.0000\n",
      "- batch loss and accuracy : 1.1202338\t0.0000\n",
      "- batch loss and accuracy : 0.6863065\t0.3333\n",
      "- batch loss and accuracy : 1.0316315\t0.3333\n",
      "- batch loss and accuracy : 0.9597281\t0.3333\n",
      "- batch loss and accuracy : 0.5231205\t1.0000\n",
      "- batch loss and accuracy : 0.9238214\t0.3333\n",
      "- batch loss and accuracy : 0.5567292\t0.6667\n",
      "- batch loss and accuracy : 0.9615178\t0.6667\n"
     ]
    },
    {
     "name": "stderr",
     "output_type": "stream",
     "text": [
      "epoch 16 - train: 77it [00:00, 109.65it/s]"
     ]
    },
    {
     "name": "stdout",
     "output_type": "stream",
     "text": [
      "- batch loss and accuracy : 0.6773844\t0.3333\n",
      "- batch loss and accuracy : 0.7321489\t0.6667\n",
      "- batch loss and accuracy : 0.4919488\t1.0000\n",
      "- batch loss and accuracy : 1.2821492\t0.0000\n",
      "- batch loss and accuracy : 0.2846088\t1.0000\n",
      "- batch loss and accuracy : 0.4225486\t1.0000\n",
      "- batch loss and accuracy : 1.9811382\t0.0000\n",
      "- batch loss and accuracy : 0.2063604\t1.0000\n",
      "- batch loss and accuracy : 0.2450968\t1.0000\n",
      "- batch loss and accuracy : 0.3240780\t1.0000\n",
      "- batch loss and accuracy : 1.9947927\t0.0000\n",
      "- batch loss and accuracy : 0.1901821\t1.0000\n"
     ]
    },
    {
     "name": "stderr",
     "output_type": "stream",
     "text": [
      "epoch 16 - train: 89it [00:00, 112.08it/s]"
     ]
    },
    {
     "name": "stdout",
     "output_type": "stream",
     "text": [
      "- batch loss and accuracy : 0.3171248\t1.0000\n",
      "- batch loss and accuracy : 0.2087708\t1.0000\n",
      "- batch loss and accuracy : 1.5511086\t0.0000\n",
      "- batch loss and accuracy : 0.1790452\t1.0000\n",
      "- batch loss and accuracy : 0.3325967\t1.0000\n",
      "- batch loss and accuracy : 0.2602837\t1.0000\n",
      "- batch loss and accuracy : 1.8025215\t0.0000\n",
      "- batch loss and accuracy : 1.3475040\t0.0000\n",
      "- batch loss and accuracy : 1.3487610\t0.0000\n",
      "- batch loss and accuracy : 0.6007779\t0.6667\n",
      "- batch loss and accuracy : 0.8166959\t0.3333\n"
     ]
    },
    {
     "name": "stderr",
     "output_type": "stream",
     "text": [
      "epoch 16 - train: 101it [00:00, 108.42it/s]"
     ]
    },
    {
     "name": "stdout",
     "output_type": "stream",
     "text": [
      "- batch loss and accuracy : 1.2650989\t0.3333\n",
      "- batch loss and accuracy : 1.3245223\t0.0000\n",
      "- batch loss and accuracy : 1.3130411\t0.0000\n",
      "- batch loss and accuracy : 1.1474605\t0.3333\n",
      "- batch loss and accuracy : 0.8897964\t0.3333\n",
      "- batch loss and accuracy : 0.4551440\t1.0000\n",
      "- batch loss and accuracy : 0.3511837\t1.0000\n",
      "- batch loss and accuracy : 0.1948791\t1.0000\n",
      "- batch loss and accuracy : 0.0626695\t1.0000\n",
      "- batch loss and accuracy : 0.0556991\t1.0000\n",
      "- batch loss and accuracy : 3.7787824\t0.0000\n"
     ]
    },
    {
     "name": "stderr",
     "output_type": "stream",
     "text": [
      "epoch 16 - train: 112it [00:01, 107.19it/s]"
     ]
    },
    {
     "name": "stdout",
     "output_type": "stream",
     "text": [
      "- batch loss and accuracy : 0.0162306\t1.0000\n",
      "- batch loss and accuracy : 4.3615165\t0.0000\n",
      "- batch loss and accuracy : 0.0201418\t1.0000\n",
      "- batch loss and accuracy : 4.2798920\t0.0000\n",
      "- batch loss and accuracy : 0.0324372\t1.0000\n",
      "- batch loss and accuracy : 0.0478973\t1.0000\n",
      "- batch loss and accuracy : 0.0719016\t1.0000\n",
      "- batch loss and accuracy : 1.8319992\t0.0000\n",
      "- batch loss and accuracy : 1.6116579\t0.0000\n",
      "- batch loss and accuracy : 0.3441569\t1.0000\n",
      "- batch loss and accuracy : 0.7688465\t0.3333\n"
     ]
    },
    {
     "name": "stderr",
     "output_type": "stream",
     "text": [
      "epoch 16 - train: 124it [00:01, 110.23it/s]"
     ]
    },
    {
     "name": "stdout",
     "output_type": "stream",
     "text": [
      "- batch loss and accuracy : 0.7275929\t0.6667\n",
      "- batch loss and accuracy : 0.4111058\t1.0000\n",
      "- batch loss and accuracy : 1.2129261\t0.3333\n",
      "- batch loss and accuracy : 0.4080824\t1.0000\n",
      "- batch loss and accuracy : 1.1571994\t0.0000\n",
      "- batch loss and accuracy : 0.4177561\t1.0000\n",
      "- batch loss and accuracy : 1.2755542\t0.0000\n",
      "- batch loss and accuracy : 0.9007485\t0.0000\n",
      "- batch loss and accuracy : 0.7599047\t0.6667\n",
      "- batch loss and accuracy : 0.4335696\t1.0000\n",
      "- batch loss and accuracy : 1.4004582\t0.0000\n",
      "- batch loss and accuracy : 0.3160789\t1.0000\n"
     ]
    },
    {
     "name": "stderr",
     "output_type": "stream",
     "text": [
      "epoch 16 - train: 136it [00:01, 107.77it/s]"
     ]
    },
    {
     "name": "stdout",
     "output_type": "stream",
     "text": [
      "- batch loss and accuracy : 0.1646264\t1.0000\n",
      "- batch loss and accuracy : 0.0777099\t1.0000\n",
      "- batch loss and accuracy : 2.5298884\t0.0000\n",
      "- batch loss and accuracy : 0.0602525\t1.0000\n",
      "- batch loss and accuracy : 0.0659930\t1.0000\n",
      "- batch loss and accuracy : 2.5892344\t0.0000\n",
      "- batch loss and accuracy : 0.0649890\t1.0000\n",
      "- batch loss and accuracy : 2.2201929\t0.0000\n",
      "- batch loss and accuracy : 1.6796187\t0.0000\n",
      "- batch loss and accuracy : 0.2205002\t1.0000\n",
      "- batch loss and accuracy : 0.5272279\t1.0000\n"
     ]
    },
    {
     "name": "stderr",
     "output_type": "stream",
     "text": [
      "epoch 16 - train: 148it [00:01, 109.77it/s]"
     ]
    },
    {
     "name": "stdout",
     "output_type": "stream",
     "text": [
      "- batch loss and accuracy : 0.5954396\t0.6667\n",
      "- batch loss and accuracy : 0.5990465\t0.6667\n",
      "- batch loss and accuracy : 0.6809232\t0.6667\n",
      "- batch loss and accuracy : 0.8179768\t0.3333\n",
      "- batch loss and accuracy : 0.6133596\t1.0000\n",
      "- batch loss and accuracy : 0.5576209\t1.0000\n",
      "- batch loss and accuracy : 0.3961751\t1.0000\n",
      "- batch loss and accuracy : 0.2410808\t1.0000\n",
      "- batch loss and accuracy : 1.8852305\t0.0000\n",
      "- batch loss and accuracy : 1.6851200\t0.0000\n",
      "- batch loss and accuracy : 0.2239552\t1.0000\n",
      "- batch loss and accuracy : 0.2766638\t1.0000\n",
      "- batch loss and accuracy : 0.2381709\t1.0000\n"
     ]
    },
    {
     "name": "stderr",
     "output_type": "stream",
     "text": [
      "epoch 16 - train: 160it [00:01, 111.19it/s]"
     ]
    },
    {
     "name": "stdout",
     "output_type": "stream",
     "text": [
      "- batch loss and accuracy : 0.2765512\t1.0000\n",
      "- batch loss and accuracy : 0.2076511\t1.0000\n",
      "- batch loss and accuracy : 1.6228342\t0.0000\n",
      "- batch loss and accuracy : 1.7067506\t0.0000\n",
      "- batch loss and accuracy : 1.4227648\t0.0000\n",
      "- batch loss and accuracy : 0.6715279\t0.6667\n",
      "- batch loss and accuracy : 0.6528209\t0.6667\n",
      "- batch loss and accuracy : 1.0612705\t0.3333\n",
      "- batch loss and accuracy : 0.3813921\t1.0000\n",
      "- batch loss and accuracy : 1.1575466\t0.0000\n"
     ]
    },
    {
     "name": "stderr",
     "output_type": "stream",
     "text": [
      "epoch 16 - train: 172it [00:01, 106.24it/s]"
     ]
    },
    {
     "name": "stdout",
     "output_type": "stream",
     "text": [
      "- batch loss and accuracy : 0.3310059\t1.0000\n",
      "- batch loss and accuracy : 0.2400161\t1.0000\n",
      "- batch loss and accuracy : 0.2038904\t1.0000\n",
      "- batch loss and accuracy : 0.1466415\t1.0000\n",
      "- batch loss and accuracy : 0.0843876\t1.0000\n",
      "- batch loss and accuracy : 0.1134818\t1.0000\n",
      "- batch loss and accuracy : 0.1004990\t1.0000\n",
      "- batch loss and accuracy : 0.0475687\t1.0000\n",
      "- batch loss and accuracy : 0.0352817\t1.0000\n",
      "- batch loss and accuracy : 3.1680560\t0.0000\n"
     ]
    },
    {
     "name": "stderr",
     "output_type": "stream",
     "text": [
      "epoch 16 - train: 183it [00:01, 103.74it/s]"
     ]
    },
    {
     "name": "stdout",
     "output_type": "stream",
     "text": [
      "- batch loss and accuracy : 0.0236706\t1.0000\n",
      "- batch loss and accuracy : 0.0348796\t1.0000\n",
      "- batch loss and accuracy : 0.0432509\t1.0000\n",
      "- batch loss and accuracy : 0.0409476\t1.0000\n",
      "- batch loss and accuracy : 2.7158151\t0.0000\n",
      "- batch loss and accuracy : 0.0914245\t1.0000\n",
      "- batch loss and accuracy : 0.1097763\t1.0000\n",
      "- batch loss and accuracy : 0.0621401\t1.0000\n",
      "- batch loss and accuracy : 0.1275091\t1.0000\n",
      "- batch loss and accuracy : 0.1752956\t1.0000\n",
      "- batch loss and accuracy : 0.0753751\t1.0000\n",
      "- batch loss and accuracy : 0.1024321\t1.0000\n",
      "- batch loss and accuracy : 1.9650453\t0.0000\n",
      "- batch loss and accuracy : 2.0019259\t0.0000\n",
      "- batch loss and accuracy : 1.0497050\t0.0000\n",
      "- batch loss and accuracy : 0.6577787\t0.6667\n",
      "- batch loss and accuracy : 0.6301147\t0.6667\n",
      "- batch loss and accuracy : 0.9894941\t0.3333\n",
      "- batch loss and accuracy : 1.7878731\t0.0000\n",
      "- batch loss and accuracy : 1.9200249\t0.0000\n",
      "- batch loss and accuracy : 1.1481577\t0.0000\n",
      "- batch loss and accuracy : 1.1266383\t0.0000\n"
     ]
    },
    {
     "name": "stderr",
     "output_type": "stream",
     "text": [
      "epoch 16 - train: 206it [00:01, 105.90it/s]"
     ]
    },
    {
     "name": "stdout",
     "output_type": "stream",
     "text": [
      "- batch loss and accuracy : 0.4182795\t1.0000\n",
      "- batch loss and accuracy : 0.2928928\t1.0000\n",
      "- batch loss and accuracy : 0.1826917\t1.0000\n",
      "- batch loss and accuracy : 2.6803269\t0.0000\n",
      "- batch loss and accuracy : 0.0572973\t1.0000\n",
      "- batch loss and accuracy : 3.4543061\t0.0000\n",
      "- batch loss and accuracy : 0.0633560\t1.0000\n",
      "- batch loss and accuracy : 3.7341106\t0.0000\n",
      "- batch loss and accuracy : 0.0976350\t1.0000\n",
      "- batch loss and accuracy : 0.0931591\t1.0000\n",
      "- batch loss and accuracy : 0.1064666\t1.0000\n",
      "- batch loss and accuracy : 0.1149982\t1.0000\n",
      "- batch loss and accuracy : 2.0346179\t0.0000\n",
      "- batch loss and accuracy : 0.0937877\t1.0000\n",
      "- batch loss and accuracy : 1.1956253\t0.0000\n",
      "- batch loss and accuracy : 0.3687405\t1.0000\n",
      "- batch loss and accuracy : 0.7309477\t0.6667\n",
      "- batch loss and accuracy : 0.5924833\t1.0000\n",
      "- batch loss and accuracy : 0.6279296\t0.6667\n",
      "- batch loss and accuracy : 0.6520270\t0.6667\n",
      "- batch loss and accuracy : 0.6775605\t0.6667\n"
     ]
    },
    {
     "name": "stderr",
     "output_type": "stream",
     "text": [
      "epoch 16 - train: 217it [00:02, 103.57it/s]"
     ]
    },
    {
     "name": "stdout",
     "output_type": "stream",
     "text": [
      "- batch loss and accuracy : 0.6982986\t0.6667\n",
      "- batch loss and accuracy : 0.4868216\t0.6667\n",
      "- batch loss and accuracy : 1.1490955\t0.0000\n",
      "- batch loss and accuracy : 0.6698749\t0.6667\n",
      "- batch loss and accuracy : 0.6047283\t0.6667\n",
      "- batch loss and accuracy : 0.4507845\t1.0000\n",
      "- batch loss and accuracy : 0.2269464\t1.0000\n",
      "- batch loss and accuracy : 2.1317167\t0.0000\n",
      "- batch loss and accuracy : 0.1837111\t1.0000\n",
      "- batch loss and accuracy : 0.1570267\t1.0000\n",
      "- batch loss and accuracy : 2.6940985\t0.0000\n",
      "- batch loss and accuracy : 0.1500189\t1.0000\n"
     ]
    },
    {
     "name": "stderr",
     "output_type": "stream",
     "text": [
      "epoch 16 - train: 229it [00:02, 106.07it/s]"
     ]
    },
    {
     "name": "stdout",
     "output_type": "stream",
     "text": [
      "- batch loss and accuracy : 0.1638386\t1.0000\n",
      "- batch loss and accuracy : 0.1086976\t1.0000\n",
      "- batch loss and accuracy : 0.1241392\t1.0000\n",
      "- batch loss and accuracy : 0.0761321\t1.0000\n",
      "- batch loss and accuracy : 0.0612969\t1.0000\n",
      "- batch loss and accuracy : 3.1381392\t0.0000\n",
      "- batch loss and accuracy : 2.4239166\t0.0000\n"
     ]
    },
    {
     "name": "stderr",
     "output_type": "stream",
     "text": [
      "epoch 16 - train: 240it [00:02, 96.13it/s] "
     ]
    },
    {
     "name": "stdout",
     "output_type": "stream",
     "text": [
      "- batch loss and accuracy : 1.7058685\t0.0000\n",
      "- batch loss and accuracy : 0.2118363\t1.0000\n",
      "- batch loss and accuracy : 1.1668791\t0.3333\n",
      "- batch loss and accuracy : 1.0095468\t0.3333\n",
      "- batch loss and accuracy : 1.1925211\t0.0000\n",
      "- batch loss and accuracy : 1.4452450\t0.0000\n",
      "- batch loss and accuracy : 0.4035177\t1.0000\n",
      "- batch loss and accuracy : 1.2371686\t0.0000\n",
      "- batch loss and accuracy : 1.0604471\t0.3333\n",
      "- batch loss and accuracy : 0.5805589\t0.6667\n",
      "- batch loss and accuracy : 0.4211578\t1.0000\n"
     ]
    },
    {
     "name": "stderr",
     "output_type": "stream",
     "text": [
      "epoch 16 - train: 249it [00:02, 103.19it/s]\n"
     ]
    },
    {
     "name": "stdout",
     "output_type": "stream",
     "text": [
      "- batch loss and accuracy : 0.4818073\t1.0000\n",
      "- batch loss and accuracy : 0.1806932\t1.0000\n",
      "- batch loss and accuracy : 0.1270912\t1.0000\n",
      "- batch loss and accuracy : 3.0877635\t0.0000\n"
     ]
    },
    {
     "name": "stderr",
     "output_type": "stream",
     "text": [
      "epoch 16 - validation: 100%|██████████| 63/63 [00:00<00:00, 126.88it/s]"
     ]
    },
    {
     "name": "stdout",
     "output_type": "stream",
     "text": [
      "Validation loss and accuracy : 1.0357802\t0.7143\n",
      "EPOCH 17\n"
     ]
    },
    {
     "name": "stderr",
     "output_type": "stream",
     "text": [
      "\n",
      "epoch 17 - train: 6it [00:00, 55.49it/s]"
     ]
    },
    {
     "name": "stdout",
     "output_type": "stream",
     "text": [
      "- batch loss and accuracy : 0.0407605\t1.0000\n",
      "- batch loss and accuracy : 0.0319109\t1.0000\n",
      "- batch loss and accuracy : 0.0255772\t1.0000\n",
      "- batch loss and accuracy : 3.8832664\t0.0000\n",
      "- batch loss and accuracy : 3.8493600\t0.0000\n",
      "- batch loss and accuracy : 0.0302189\t1.0000\n",
      "- batch loss and accuracy : 2.8623075\t0.0000\n",
      "- batch loss and accuracy : 0.1248232\t1.0000\n",
      "- batch loss and accuracy : 1.9774387\t0.0000\n",
      "- batch loss and accuracy : 0.6873948\t0.3333\n",
      "- batch loss and accuracy : 0.8145274\t0.6667\n"
     ]
    },
    {
     "name": "stderr",
     "output_type": "stream",
     "text": [
      "epoch 17 - train: 14it [00:00, 69.40it/s]"
     ]
    },
    {
     "name": "stdout",
     "output_type": "stream",
     "text": [
      "- batch loss and accuracy : 1.1714076\t0.0000\n",
      "- batch loss and accuracy : 0.8483097\t0.3333\n",
      "- batch loss and accuracy : 1.1487610\t0.0000\n",
      "- batch loss and accuracy : 0.7886359\t0.6667\n",
      "- batch loss and accuracy : 0.5733163\t0.6667\n",
      "- batch loss and accuracy : 0.2676072\t1.0000\n",
      "- batch loss and accuracy : 0.2130198\t1.0000\n",
      "- batch loss and accuracy : 2.3893294\t0.0000\n",
      "- batch loss and accuracy : 0.0627740\t1.0000\n"
     ]
    },
    {
     "name": "stderr",
     "output_type": "stream",
     "text": [
      "epoch 17 - train: 25it [00:00, 84.52it/s]"
     ]
    },
    {
     "name": "stdout",
     "output_type": "stream",
     "text": [
      "- batch loss and accuracy : 3.2626724\t0.0000\n",
      "- batch loss and accuracy : 0.0615508\t1.0000\n",
      "- batch loss and accuracy : 0.0953139\t1.0000\n",
      "- batch loss and accuracy : 2.7805567\t0.0000\n",
      "- batch loss and accuracy : 0.0878019\t1.0000\n",
      "- batch loss and accuracy : 0.1098054\t1.0000\n",
      "- batch loss and accuracy : 0.1121738\t1.0000\n",
      "- batch loss and accuracy : 1.7985539\t0.3333\n",
      "- batch loss and accuracy : 1.4569132\t0.0000\n",
      "- batch loss and accuracy : 1.2187793\t0.0000\n",
      "- batch loss and accuracy : 0.9587299\t0.3333\n",
      "- batch loss and accuracy : 0.6080549\t0.6667\n"
     ]
    },
    {
     "name": "stderr",
     "output_type": "stream",
     "text": [
      "epoch 17 - train: 35it [00:00, 90.22it/s]"
     ]
    },
    {
     "name": "stdout",
     "output_type": "stream",
     "text": [
      "- batch loss and accuracy : 0.2322769\t1.0000\n",
      "- batch loss and accuracy : 1.9331445\t0.0000\n",
      "- batch loss and accuracy : 0.1081561\t1.0000\n",
      "- batch loss and accuracy : 2.9503231\t0.0000\n",
      "- batch loss and accuracy : 0.1205843\t1.0000\n",
      "- batch loss and accuracy : 0.0959425\t1.0000\n",
      "- batch loss and accuracy : 2.5913711\t0.0000\n"
     ]
    },
    {
     "name": "stderr",
     "output_type": "stream",
     "text": [
      "epoch 17 - train: 45it [00:00, 88.18it/s]"
     ]
    },
    {
     "name": "stdout",
     "output_type": "stream",
     "text": [
      "- batch loss and accuracy : 0.1168562\t1.0000\n",
      "- batch loss and accuracy : 1.9171976\t0.0000\n",
      "- batch loss and accuracy : 0.1950874\t1.0000\n",
      "- batch loss and accuracy : 0.4448150\t1.0000\n",
      "- batch loss and accuracy : 0.8630700\t0.3333\n",
      "- batch loss and accuracy : 0.8110988\t0.0000\n",
      "- batch loss and accuracy : 0.5570418\t1.0000\n",
      "- batch loss and accuracy : 0.3923905\t1.0000\n",
      "- batch loss and accuracy : 1.8755945\t0.0000\n",
      "- batch loss and accuracy : 0.1292097\t1.0000\n",
      "- batch loss and accuracy : 0.0619665\t1.0000\n",
      "- batch loss and accuracy : 0.0534071\t1.0000\n"
     ]
    },
    {
     "name": "stderr",
     "output_type": "stream",
     "text": [
      "epoch 17 - train: 56it [00:00, 93.25it/s]"
     ]
    },
    {
     "name": "stdout",
     "output_type": "stream",
     "text": [
      "- batch loss and accuracy : 0.0537580\t1.0000\n",
      "- batch loss and accuracy : 0.0230505\t1.0000\n",
      "- batch loss and accuracy : 0.0179786\t1.0000\n",
      "- batch loss and accuracy : 4.3349648\t0.0000\n",
      "- batch loss and accuracy : 4.1796246\t0.0000\n",
      "- batch loss and accuracy : 0.0184069\t1.0000\n",
      "- batch loss and accuracy : 3.4001665\t0.0000\n",
      "- batch loss and accuracy : 0.0823600\t1.0000\n",
      "- batch loss and accuracy : 0.2661224\t1.0000\n"
     ]
    },
    {
     "name": "stderr",
     "output_type": "stream",
     "text": [
      "epoch 17 - train: 67it [00:00, 91.68it/s]"
     ]
    },
    {
     "name": "stdout",
     "output_type": "stream",
     "text": [
      "- batch loss and accuracy : 0.2634841\t1.0000\n",
      "- batch loss and accuracy : 1.1039885\t0.3333\n",
      "- batch loss and accuracy : 0.7388752\t0.6667\n",
      "- batch loss and accuracy : 0.5488316\t1.0000\n",
      "- batch loss and accuracy : 1.1590672\t0.0000\n",
      "- batch loss and accuracy : 1.1597376\t0.0000\n",
      "- batch loss and accuracy : 0.1159446\t1.0000\n",
      "- batch loss and accuracy : 2.2192473\t0.0000\n",
      "- batch loss and accuracy : 1.4659488\t0.0000\n",
      "- batch loss and accuracy : 1.6465901\t0.0000\n"
     ]
    },
    {
     "name": "stderr",
     "output_type": "stream",
     "text": [
      "epoch 17 - train: 77it [00:00, 90.74it/s]"
     ]
    },
    {
     "name": "stdout",
     "output_type": "stream",
     "text": [
      "- batch loss and accuracy : 1.1655226\t0.3333\n",
      "- batch loss and accuracy : 0.9912477\t0.0000\n",
      "- batch loss and accuracy : 0.3732451\t0.6667\n",
      "- batch loss and accuracy : 0.2204156\t1.0000\n",
      "- batch loss and accuracy : 0.1765853\t1.0000\n",
      "- batch loss and accuracy : 0.1130663\t1.0000\n",
      "- batch loss and accuracy : 3.3429432\t0.0000\n"
     ]
    },
    {
     "name": "stderr",
     "output_type": "stream",
     "text": [
      "epoch 17 - train: 89it [00:00, 97.63it/s]"
     ]
    },
    {
     "name": "stdout",
     "output_type": "stream",
     "text": [
      "- batch loss and accuracy : 3.7417657\t0.0000\n",
      "- batch loss and accuracy : 0.0480573\t1.0000\n",
      "- batch loss and accuracy : 2.8673301\t0.0000\n",
      "- batch loss and accuracy : 0.0837313\t1.0000\n",
      "- batch loss and accuracy : 2.0726078\t0.0000\n",
      "- batch loss and accuracy : 1.5934014\t0.0000\n",
      "- batch loss and accuracy : 0.4586585\t0.6667\n",
      "- batch loss and accuracy : 0.6586692\t0.6667\n",
      "- batch loss and accuracy : 1.5857257\t0.0000\n",
      "- batch loss and accuracy : 1.7020247\t0.0000\n",
      "- batch loss and accuracy : 0.1436668\t1.0000\n",
      "- batch loss and accuracy : 0.2244837\t1.0000\n",
      "- batch loss and accuracy : 2.0306172\t0.0000\n",
      "- batch loss and accuracy : 1.5626249\t0.0000\n",
      "- batch loss and accuracy : 1.6543961\t0.0000\n"
     ]
    },
    {
     "name": "stderr",
     "output_type": "stream",
     "text": [
      "epoch 17 - train: 100it [00:01, 100.09it/s]"
     ]
    },
    {
     "name": "stdout",
     "output_type": "stream",
     "text": [
      "- batch loss and accuracy : 0.4379956\t1.0000\n",
      "- batch loss and accuracy : 0.4891036\t1.0000\n",
      "- batch loss and accuracy : 0.5995294\t0.6667\n",
      "- batch loss and accuracy : 0.7689412\t0.3333\n",
      "- batch loss and accuracy : 0.6327513\t0.6667\n",
      "- batch loss and accuracy : 0.3706480\t1.0000\n",
      "- batch loss and accuracy : 0.2377439\t1.0000\n",
      "- batch loss and accuracy : 0.1406244\t1.0000\n"
     ]
    },
    {
     "name": "stderr",
     "output_type": "stream",
     "text": [
      "epoch 17 - train: 111it [00:01, 100.91it/s]"
     ]
    },
    {
     "name": "stdout",
     "output_type": "stream",
     "text": [
      "- batch loss and accuracy : 2.4139822\t0.0000\n",
      "- batch loss and accuracy : 2.3895564\t0.0000\n",
      "- batch loss and accuracy : 0.0985533\t1.0000\n",
      "- batch loss and accuracy : 2.0319891\t0.0000\n",
      "- batch loss and accuracy : 1.7657301\t0.0000\n",
      "- batch loss and accuracy : 0.4978516\t0.6667\n",
      "- batch loss and accuracy : 0.6006547\t0.6667\n",
      "- batch loss and accuracy : 0.8513206\t0.6667\n",
      "- batch loss and accuracy : 1.2806405\t0.0000\n",
      "- batch loss and accuracy : 1.0591819\t0.3333\n",
      "- batch loss and accuracy : 0.4459004\t0.6667\n",
      "- batch loss and accuracy : 1.2582045\t0.0000\n",
      "- batch loss and accuracy : 0.9783146\t0.0000\n",
      "- batch loss and accuracy : 0.5970587\t0.6667\n",
      "- batch loss and accuracy : 0.7017059\t0.3333\n",
      "- batch loss and accuracy : 0.8650374\t0.0000\n",
      "- batch loss and accuracy : 0.2430234\t1.0000\n",
      "- batch loss and accuracy : 1.7519262\t0.0000\n",
      "- batch loss and accuracy : 0.0833133\t1.0000\n",
      "- batch loss and accuracy : 1.7236209\t0.0000\n",
      "- batch loss and accuracy : 2.4228704\t0.0000\n"
     ]
    },
    {
     "name": "stderr",
     "output_type": "stream",
     "text": [
      "epoch 17 - train: 133it [00:01, 101.62it/s]"
     ]
    },
    {
     "name": "stdout",
     "output_type": "stream",
     "text": [
      "- batch loss and accuracy : 0.2303472\t1.0000\n",
      "- batch loss and accuracy : 0.3448589\t1.0000\n",
      "- batch loss and accuracy : 0.2942408\t1.0000\n",
      "- batch loss and accuracy : 0.3761977\t1.0000\n",
      "- batch loss and accuracy : 0.4510288\t1.0000\n",
      "- batch loss and accuracy : 0.4315747\t0.6667\n",
      "- batch loss and accuracy : 1.2046969\t0.0000\n",
      "- batch loss and accuracy : 1.1123179\t0.0000\n",
      "- batch loss and accuracy : 0.4169617\t1.0000\n",
      "- batch loss and accuracy : 0.3577721\t1.0000\n",
      "- batch loss and accuracy : 0.4976147\t1.0000\n",
      "- batch loss and accuracy : 0.9756432\t0.3333\n",
      "- batch loss and accuracy : 0.4745989\t0.6667\n",
      "- batch loss and accuracy : 0.4505659\t0.6667\n",
      "- batch loss and accuracy : 0.5198861\t0.6667\n",
      "- batch loss and accuracy : 1.2402843\t0.0000\n",
      "- batch loss and accuracy : 0.2843591\t1.0000\n",
      "- batch loss and accuracy : 0.2969945\t1.0000\n",
      "- batch loss and accuracy : 1.7072452\t0.0000\n",
      "- batch loss and accuracy : 0.2742014\t1.0000\n",
      "- batch loss and accuracy : 0.1817575\t1.0000\n",
      "- batch loss and accuracy : 1.5261793\t0.0000\n"
     ]
    },
    {
     "name": "stderr",
     "output_type": "stream",
     "text": [
      "epoch 17 - train: 155it [00:01, 102.53it/s]"
     ]
    },
    {
     "name": "stdout",
     "output_type": "stream",
     "text": [
      "- batch loss and accuracy : 0.2977984\t1.0000\n",
      "- batch loss and accuracy : 1.1422017\t0.0000\n",
      "- batch loss and accuracy : 0.5286680\t1.0000\n",
      "- batch loss and accuracy : 0.6980282\t0.6667\n",
      "- batch loss and accuracy : 0.5184923\t1.0000\n",
      "- batch loss and accuracy : 0.3280031\t1.0000\n",
      "- batch loss and accuracy : 1.3944433\t0.0000\n",
      "- batch loss and accuracy : 0.5754045\t0.6667\n",
      "- batch loss and accuracy : 0.4468228\t1.0000\n",
      "- batch loss and accuracy : 0.3246198\t1.0000\n",
      "- batch loss and accuracy : 0.3691439\t1.0000\n",
      "- batch loss and accuracy : 0.1707517\t1.0000\n",
      "- batch loss and accuracy : 0.2331229\t1.0000\n",
      "- batch loss and accuracy : 0.0645390\t1.0000\n",
      "- batch loss and accuracy : 2.8343968\t0.0000\n",
      "- batch loss and accuracy : 0.0512861\t1.0000\n",
      "- batch loss and accuracy : 0.0788037\t1.0000\n",
      "- batch loss and accuracy : 0.0377584\t1.0000\n",
      "- batch loss and accuracy : 0.0281647\t1.0000\n",
      "- batch loss and accuracy : 3.7415371\t0.0000\n",
      "- batch loss and accuracy : 0.0813516\t1.0000\n",
      "- batch loss and accuracy : 0.0643840\t1.0000\n"
     ]
    },
    {
     "name": "stderr",
     "output_type": "stream",
     "text": [
      "epoch 17 - train: 167it [00:01, 103.94it/s]"
     ]
    },
    {
     "name": "stdout",
     "output_type": "stream",
     "text": [
      "- batch loss and accuracy : 0.0859513\t1.0000\n",
      "- batch loss and accuracy : 0.0859047\t1.0000\n",
      "- batch loss and accuracy : 2.5052185\t0.0000\n",
      "- batch loss and accuracy : 0.1437327\t1.0000\n",
      "- batch loss and accuracy : 0.2185663\t1.0000\n",
      "- batch loss and accuracy : 0.1350588\t1.0000\n",
      "- batch loss and accuracy : 0.2789420\t1.0000\n",
      "- batch loss and accuracy : 1.2633100\t0.0000\n",
      "- batch loss and accuracy : 1.0632192\t0.0000\n",
      "- batch loss and accuracy : 1.0306749\t0.3333\n",
      "- batch loss and accuracy : 0.6120140\t1.0000\n",
      "- batch loss and accuracy : 0.2760262\t1.0000\n",
      "- batch loss and accuracy : 2.0394762\t0.0000\n"
     ]
    },
    {
     "name": "stderr",
     "output_type": "stream",
     "text": [
      "epoch 17 - train: 179it [00:01, 104.57it/s]"
     ]
    },
    {
     "name": "stdout",
     "output_type": "stream",
     "text": [
      "- batch loss and accuracy : 2.2090926\t0.0000\n",
      "- batch loss and accuracy : 0.1174090\t1.0000\n",
      "- batch loss and accuracy : 2.9599319\t0.0000\n",
      "- batch loss and accuracy : 2.1239548\t0.0000\n",
      "- batch loss and accuracy : 1.7873526\t0.0000\n",
      "- batch loss and accuracy : 1.2681620\t0.3333\n",
      "- batch loss and accuracy : 0.6459020\t0.6667\n",
      "- batch loss and accuracy : 0.2948316\t1.0000\n",
      "- batch loss and accuracy : 0.2018428\t1.0000\n"
     ]
    },
    {
     "name": "stderr",
     "output_type": "stream",
     "text": [
      "epoch 17 - train: 190it [00:01, 105.58it/s]"
     ]
    },
    {
     "name": "stdout",
     "output_type": "stream",
     "text": [
      "- batch loss and accuracy : 0.1028869\t1.0000\n",
      "- batch loss and accuracy : 0.0338657\t1.0000\n",
      "- batch loss and accuracy : 0.0359696\t1.0000\n",
      "- batch loss and accuracy : 0.0143973\t1.0000\n",
      "- batch loss and accuracy : 0.0077814\t1.0000\n",
      "- batch loss and accuracy : 0.0082772\t1.0000\n",
      "- batch loss and accuracy : 0.0062516\t1.0000\n",
      "- batch loss and accuracy : 0.0030183\t1.0000\n",
      "- batch loss and accuracy : 0.0013116\t1.0000\n",
      "- batch loss and accuracy : 0.0013245\t1.0000\n",
      "- batch loss and accuracy : 0.0009822\t1.0000\n",
      "- batch loss and accuracy : 0.0013481\t1.0000\n"
     ]
    },
    {
     "name": "stderr",
     "output_type": "stream",
     "text": [
      "epoch 17 - train: 201it [00:02, 103.52it/s]"
     ]
    },
    {
     "name": "stdout",
     "output_type": "stream",
     "text": [
      "- batch loss and accuracy : 0.0010177\t1.0000\n",
      "- batch loss and accuracy : 0.0006402\t1.0000\n",
      "- batch loss and accuracy : 0.0007551\t1.0000\n",
      "- batch loss and accuracy : 8.0111580\t0.0000\n",
      "- batch loss and accuracy : 0.0002834\t1.0000\n",
      "- batch loss and accuracy : 0.0008732\t1.0000\n",
      "- batch loss and accuracy : 7.4133072\t0.0000\n",
      "- batch loss and accuracy : 0.0008248\t1.0000\n"
     ]
    },
    {
     "name": "stderr",
     "output_type": "stream",
     "text": [
      "epoch 17 - train: 212it [00:02, 96.43it/s] "
     ]
    },
    {
     "name": "stdout",
     "output_type": "stream",
     "text": [
      "- batch loss and accuracy : 0.0015042\t1.0000\n",
      "- batch loss and accuracy : 0.0039904\t1.0000\n",
      "- batch loss and accuracy : 5.7123518\t0.0000\n",
      "- batch loss and accuracy : 0.0104581\t1.0000\n",
      "- batch loss and accuracy : 0.0166182\t1.0000\n",
      "- batch loss and accuracy : 3.9070277\t0.0000\n",
      "- batch loss and accuracy : 0.0508134\t1.0000\n",
      "- batch loss and accuracy : 2.3703113\t0.0000\n",
      "- batch loss and accuracy : 0.3566235\t1.0000\n",
      "- batch loss and accuracy : 0.9050195\t0.0000\n"
     ]
    },
    {
     "name": "stderr",
     "output_type": "stream",
     "text": [
      "epoch 17 - train: 222it [00:02, 95.66it/s]"
     ]
    },
    {
     "name": "stdout",
     "output_type": "stream",
     "text": [
      "- batch loss and accuracy : 0.7869663\t0.3333\n",
      "- batch loss and accuracy : 1.1274958\t0.0000\n",
      "- batch loss and accuracy : 1.0144012\t0.0000\n",
      "- batch loss and accuracy : 0.8557984\t0.0000\n",
      "- batch loss and accuracy : 0.7857997\t0.3333\n",
      "- batch loss and accuracy : 0.5817893\t0.6667\n",
      "- batch loss and accuracy : 0.2879691\t1.0000\n",
      "- batch loss and accuracy : 0.1474165\t1.0000\n",
      "- batch loss and accuracy : 0.1368698\t1.0000\n"
     ]
    },
    {
     "name": "stderr",
     "output_type": "stream",
     "text": [
      "epoch 17 - train: 232it [00:02, 94.89it/s]"
     ]
    },
    {
     "name": "stdout",
     "output_type": "stream",
     "text": [
      "- batch loss and accuracy : 0.1194442\t1.0000\n",
      "- batch loss and accuracy : 0.1002308\t1.0000\n",
      "- batch loss and accuracy : 0.0682906\t1.0000\n",
      "- batch loss and accuracy : 0.0502004\t1.0000\n",
      "- batch loss and accuracy : 0.0413446\t1.0000\n",
      "- batch loss and accuracy : 0.0444226\t1.0000\n",
      "- batch loss and accuracy : 0.0205990\t1.0000\n",
      "- batch loss and accuracy : 0.0138740\t1.0000\n",
      "- batch loss and accuracy : 0.0107057\t1.0000\n",
      "- batch loss and accuracy : 0.0105887\t1.0000\n"
     ]
    },
    {
     "name": "stderr",
     "output_type": "stream",
     "text": [
      "epoch 17 - train: 242it [00:02, 92.85it/s]"
     ]
    },
    {
     "name": "stdout",
     "output_type": "stream",
     "text": [
      "- batch loss and accuracy : 0.0073831\t1.0000\n",
      "- batch loss and accuracy : 0.0107068\t1.0000\n",
      "- batch loss and accuracy : 5.5948348\t0.0000\n",
      "- batch loss and accuracy : 0.0055622\t1.0000\n",
      "- batch loss and accuracy : 0.0052613\t1.0000\n",
      "- batch loss and accuracy : 0.0114981\t1.0000\n",
      "- batch loss and accuracy : 0.0071397\t1.0000\n",
      "- batch loss and accuracy : 4.4860911\t0.0000\n"
     ]
    },
    {
     "name": "stderr",
     "output_type": "stream",
     "text": [
      "epoch 17 - train: 249it [00:02, 94.08it/s]\n"
     ]
    },
    {
     "name": "stdout",
     "output_type": "stream",
     "text": [
      "- batch loss and accuracy : 0.0234151\t1.0000\n",
      "- batch loss and accuracy : 0.0345578\t1.0000\n",
      "- batch loss and accuracy : 3.1646061\t0.0000\n",
      "- batch loss and accuracy : 0.0540099\t1.0000\n",
      "- batch loss and accuracy : 0.0696051\t1.0000\n"
     ]
    },
    {
     "name": "stderr",
     "output_type": "stream",
     "text": [
      "epoch 17 - validation: 100%|██████████| 63/63 [00:00<00:00, 83.66it/s]"
     ]
    },
    {
     "name": "stdout",
     "output_type": "stream",
     "text": [
      "Validation loss and accuracy : 0.6577997\t0.7143\n",
      "EPOCH 18\n"
     ]
    },
    {
     "name": "stderr",
     "output_type": "stream",
     "text": [
      "\n",
      "epoch 18 - train: 4it [00:00, 34.63it/s]"
     ]
    },
    {
     "name": "stdout",
     "output_type": "stream",
     "text": [
      "- batch loss and accuracy : 1.9928651\t0.0000\n",
      "- batch loss and accuracy : 0.2231855\t1.0000\n",
      "- batch loss and accuracy : 0.6466222\t0.6667\n",
      "- batch loss and accuracy : 0.7601861\t0.3333\n",
      "- batch loss and accuracy : 0.9084219\t0.3333\n",
      "- batch loss and accuracy : 1.0573070\t0.0000\n"
     ]
    },
    {
     "name": "stderr",
     "output_type": "stream",
     "text": [
      "epoch 18 - train: 11it [00:00, 52.17it/s]"
     ]
    },
    {
     "name": "stdout",
     "output_type": "stream",
     "text": [
      "- batch loss and accuracy : 1.2286901\t0.0000\n",
      "- batch loss and accuracy : 0.9601927\t0.0000\n",
      "- batch loss and accuracy : 0.6353914\t1.0000\n",
      "- batch loss and accuracy : 0.5230646\t1.0000\n",
      "- batch loss and accuracy : 0.2078865\t1.0000\n",
      "- batch loss and accuracy : 0.1356572\t1.0000\n",
      "- batch loss and accuracy : 0.0868829\t1.0000\n"
     ]
    },
    {
     "name": "stderr",
     "output_type": "stream",
     "text": [
      "epoch 18 - train: 18it [00:00, 58.27it/s]"
     ]
    },
    {
     "name": "stdout",
     "output_type": "stream",
     "text": [
      "- batch loss and accuracy : 0.0646501\t1.0000\n",
      "- batch loss and accuracy : 0.0261655\t1.0000\n",
      "- batch loss and accuracy : 3.9721437\t0.0000\n",
      "- batch loss and accuracy : 3.9088445\t0.0000\n",
      "- batch loss and accuracy : 0.0214137\t1.0000\n",
      "- batch loss and accuracy : 4.1760979\t0.0000\n",
      "- batch loss and accuracy : 3.8300166\t0.0000\n"
     ]
    },
    {
     "name": "stderr",
     "output_type": "stream",
     "text": [
      "epoch 18 - train: 24it [00:00, 57.44it/s]"
     ]
    },
    {
     "name": "stdout",
     "output_type": "stream",
     "text": [
      "- batch loss and accuracy : 0.0766835\t1.0000\n",
      "- batch loss and accuracy : 0.1462241\t1.0000\n",
      "- batch loss and accuracy : 1.4625332\t0.0000\n",
      "- batch loss and accuracy : 0.4113767\t1.0000\n",
      "- batch loss and accuracy : 0.5386388\t0.6667\n",
      "- batch loss and accuracy : 0.2599149\t1.0000\n"
     ]
    },
    {
     "name": "stderr",
     "output_type": "stream",
     "text": [
      "epoch 18 - train: 31it [00:00, 61.08it/s]"
     ]
    },
    {
     "name": "stdout",
     "output_type": "stream",
     "text": [
      "- batch loss and accuracy : 2.0698013\t0.0000\n",
      "- batch loss and accuracy : 2.2883027\t0.0000\n",
      "- batch loss and accuracy : 1.8852015\t0.0000\n",
      "- batch loss and accuracy : 0.1527532\t1.0000\n",
      "- batch loss and accuracy : 1.9553771\t0.0000\n",
      "- batch loss and accuracy : 0.3665063\t0.6667\n",
      "- batch loss and accuracy : 1.0204604\t0.3333\n"
     ]
    },
    {
     "name": "stderr",
     "output_type": "stream",
     "text": [
      "epoch 18 - train: 38it [00:00, 61.35it/s]"
     ]
    },
    {
     "name": "stdout",
     "output_type": "stream",
     "text": [
      "- batch loss and accuracy : 0.7736462\t0.6667\n",
      "- batch loss and accuracy : 0.4120562\t1.0000\n",
      "- batch loss and accuracy : 0.4068763\t1.0000\n",
      "- batch loss and accuracy : 1.8194468\t0.0000\n",
      "- batch loss and accuracy : 0.3150079\t1.0000\n",
      "- batch loss and accuracy : 2.3808208\t0.0000\n",
      "- batch loss and accuracy : 0.1540688\t1.0000\n"
     ]
    },
    {
     "name": "stderr",
     "output_type": "stream",
     "text": [
      "epoch 18 - train: 45it [00:00, 62.70it/s]"
     ]
    },
    {
     "name": "stdout",
     "output_type": "stream",
     "text": [
      "- batch loss and accuracy : 1.9937999\t0.0000\n",
      "- batch loss and accuracy : 0.3037896\t1.0000\n",
      "- batch loss and accuracy : 0.3270423\t1.0000\n",
      "- batch loss and accuracy : 0.4408079\t0.6667\n",
      "- batch loss and accuracy : 0.2668335\t1.0000\n",
      "- batch loss and accuracy : 0.3580948\t1.0000\n"
     ]
    },
    {
     "name": "stderr",
     "output_type": "stream",
     "text": [
      "epoch 18 - train: 52it [00:00, 61.52it/s]"
     ]
    },
    {
     "name": "stdout",
     "output_type": "stream",
     "text": [
      "- batch loss and accuracy : 1.3243027\t0.0000\n",
      "- batch loss and accuracy : 0.3425319\t1.0000\n",
      "- batch loss and accuracy : 1.3808589\t0.3333\n",
      "- batch loss and accuracy : 0.3658711\t1.0000\n",
      "- batch loss and accuracy : 0.5029458\t1.0000\n",
      "- batch loss and accuracy : 1.3463960\t0.0000\n",
      "- batch loss and accuracy : 0.8671905\t0.3333\n"
     ]
    },
    {
     "name": "stderr",
     "output_type": "stream",
     "text": [
      "epoch 18 - train: 59it [00:00, 63.90it/s]"
     ]
    },
    {
     "name": "stdout",
     "output_type": "stream",
     "text": [
      "- batch loss and accuracy : 0.7043158\t0.6667\n",
      "- batch loss and accuracy : 1.0244458\t0.3333\n",
      "- batch loss and accuracy : 0.8186483\t0.6667\n",
      "- batch loss and accuracy : 0.5495017\t0.6667\n",
      "- batch loss and accuracy : 0.4181874\t1.0000\n",
      "- batch loss and accuracy : 1.2316922\t0.3333\n",
      "- batch loss and accuracy : 0.3087550\t1.0000\n"
     ]
    },
    {
     "name": "stderr",
     "output_type": "stream",
     "text": [
      "epoch 18 - train: 66it [00:01, 64.41it/s]"
     ]
    },
    {
     "name": "stdout",
     "output_type": "stream",
     "text": [
      "- batch loss and accuracy : 0.3230402\t1.0000\n",
      "- batch loss and accuracy : 1.8612843\t0.0000\n",
      "- batch loss and accuracy : 1.7745513\t0.0000\n",
      "- batch loss and accuracy : 1.7284458\t0.0000\n",
      "- batch loss and accuracy : 0.4166129\t1.0000\n",
      "- batch loss and accuracy : 0.7701275\t0.3333\n",
      "- batch loss and accuracy : 0.6352691\t0.3333\n"
     ]
    },
    {
     "name": "stderr",
     "output_type": "stream",
     "text": [
      "epoch 18 - train: 74it [00:01, 66.81it/s]"
     ]
    },
    {
     "name": "stdout",
     "output_type": "stream",
     "text": [
      "- batch loss and accuracy : 1.3270195\t0.3333\n",
      "- batch loss and accuracy : 1.4729284\t0.0000\n",
      "- batch loss and accuracy : 1.5911474\t0.0000\n",
      "- batch loss and accuracy : 1.1066256\t0.0000\n",
      "- batch loss and accuracy : 0.9249960\t0.3333\n",
      "- batch loss and accuracy : 0.6335447\t0.6667\n",
      "- batch loss and accuracy : 0.3324713\t1.0000\n",
      "- batch loss and accuracy : 0.2476982\t1.0000\n",
      "- batch loss and accuracy : 0.0702054\t1.0000\n"
     ]
    },
    {
     "name": "stderr",
     "output_type": "stream",
     "text": [
      "epoch 18 - train: 81it [00:01, 66.85it/s]"
     ]
    },
    {
     "name": "stdout",
     "output_type": "stream",
     "text": [
      "- batch loss and accuracy : 0.0862777\t1.0000\n",
      "- batch loss and accuracy : 0.0207525\t1.0000\n",
      "- batch loss and accuracy : 5.1171894\t0.0000\n",
      "- batch loss and accuracy : 0.0170784\t1.0000\n",
      "- batch loss and accuracy : 0.0087260\t1.0000\n",
      "- batch loss and accuracy : 0.0132995\t1.0000\n"
     ]
    },
    {
     "name": "stderr",
     "output_type": "stream",
     "text": [
      "epoch 18 - train: 89it [00:01, 70.27it/s]"
     ]
    },
    {
     "name": "stdout",
     "output_type": "stream",
     "text": [
      "- batch loss and accuracy : 0.0072124\t1.0000\n",
      "- batch loss and accuracy : 4.9509926\t0.0000\n",
      "- batch loss and accuracy : 0.0105484\t1.0000\n",
      "- batch loss and accuracy : 4.8207564\t0.0000\n",
      "- batch loss and accuracy : 3.9081335\t0.0000\n",
      "- batch loss and accuracy : 3.2705069\t0.0000\n",
      "- batch loss and accuracy : 0.1942977\t1.0000\n",
      "- batch loss and accuracy : 0.2924454\t1.0000\n",
      "- batch loss and accuracy : 0.4252809\t1.0000\n"
     ]
    },
    {
     "name": "stderr",
     "output_type": "stream",
     "text": [
      "epoch 18 - train: 97it [00:01, 69.86it/s]"
     ]
    },
    {
     "name": "stdout",
     "output_type": "stream",
     "text": [
      "- batch loss and accuracy : 0.5348341\t0.6667\n",
      "- batch loss and accuracy : 0.7204497\t0.3333\n",
      "- batch loss and accuracy : 0.9224490\t0.3333\n",
      "- batch loss and accuracy : 1.0118830\t0.3333\n",
      "- batch loss and accuracy : 0.8311563\t0.6667\n",
      "- batch loss and accuracy : 0.7278321\t0.6667\n"
     ]
    },
    {
     "name": "stderr",
     "output_type": "stream",
     "text": [
      "epoch 18 - train: 105it [00:01, 71.95it/s]"
     ]
    },
    {
     "name": "stdout",
     "output_type": "stream",
     "text": [
      "- batch loss and accuracy : 0.4944350\t1.0000\n",
      "- batch loss and accuracy : 0.1641788\t1.0000\n",
      "- batch loss and accuracy : 0.0898994\t1.0000\n",
      "- batch loss and accuracy : 0.0789671\t1.0000\n",
      "- batch loss and accuracy : 3.5538416\t0.0000\n",
      "- batch loss and accuracy : 0.0290966\t1.0000\n",
      "- batch loss and accuracy : 3.5593081\t0.0000\n",
      "- batch loss and accuracy : 0.0268443\t1.0000\n",
      "- batch loss and accuracy : 3.4962993\t0.0000\n",
      "- batch loss and accuracy : 0.0301098\t1.0000\n",
      "- batch loss and accuracy : 0.1315985\t1.0000\n",
      "- batch loss and accuracy : 2.5037117\t0.0000\n",
      "- batch loss and accuracy : 0.2941882\t1.0000\n"
     ]
    },
    {
     "name": "stderr",
     "output_type": "stream",
     "text": [
      "epoch 18 - train: 113it [00:01, 64.66it/s]"
     ]
    },
    {
     "name": "stdout",
     "output_type": "stream",
     "text": [
      "- batch loss and accuracy : 0.2945525\t1.0000\n",
      "- batch loss and accuracy : 0.2933942\t1.0000\n",
      "- batch loss and accuracy : 0.6998138\t0.6667\n",
      "- batch loss and accuracy : 0.5132056\t0.6667\n",
      "- batch loss and accuracy : 0.3914376\t1.0000\n",
      "- batch loss and accuracy : 0.5395309\t0.6667\n",
      "- batch loss and accuracy : 0.3053324\t1.0000\n",
      "- batch loss and accuracy : 1.4200481\t0.0000\n",
      "- batch loss and accuracy : 0.2570954\t1.0000\n"
     ]
    },
    {
     "name": "stderr",
     "output_type": "stream",
     "text": [
      "epoch 18 - train: 121it [00:01, 67.28it/s]"
     ]
    },
    {
     "name": "stdout",
     "output_type": "stream",
     "text": [
      "- batch loss and accuracy : 1.9906850\t0.0000\n",
      "- batch loss and accuracy : 0.2074360\t1.0000\n",
      "- batch loss and accuracy : 0.3058676\t1.0000\n",
      "- batch loss and accuracy : 0.2024828\t1.0000\n",
      "- batch loss and accuracy : 1.9670439\t0.0000\n",
      "- batch loss and accuracy : 0.2162061\t1.0000\n",
      "- batch loss and accuracy : 0.2377030\t1.0000\n"
     ]
    },
    {
     "name": "stderr",
     "output_type": "stream",
     "text": [
      "epoch 18 - train: 128it [00:01, 67.79it/s]"
     ]
    },
    {
     "name": "stdout",
     "output_type": "stream",
     "text": [
      "- batch loss and accuracy : 1.6470191\t0.0000\n",
      "- batch loss and accuracy : 1.5409467\t0.0000\n",
      "- batch loss and accuracy : 0.9332712\t0.3333\n",
      "- batch loss and accuracy : 0.8200992\t0.3333\n",
      "- batch loss and accuracy : 1.4851496\t0.0000\n",
      "- batch loss and accuracy : 1.2715296\t0.0000\n",
      "- batch loss and accuracy : 0.4855750\t0.6667\n",
      "- batch loss and accuracy : 0.3697266\t1.0000\n"
     ]
    },
    {
     "name": "stderr",
     "output_type": "stream",
     "text": [
      "epoch 18 - train: 136it [00:02, 68.41it/s]"
     ]
    },
    {
     "name": "stdout",
     "output_type": "stream",
     "text": [
      "- batch loss and accuracy : 1.0438908\t0.0000\n",
      "- batch loss and accuracy : 1.2985457\t0.0000\n",
      "- batch loss and accuracy : 1.4969597\t0.0000\n",
      "- batch loss and accuracy : 0.5819365\t1.0000\n"
     ]
    },
    {
     "name": "stderr",
     "output_type": "stream",
     "text": [
      "epoch 18 - train: 143it [00:02, 66.10it/s]"
     ]
    },
    {
     "name": "stdout",
     "output_type": "stream",
     "text": [
      "- batch loss and accuracy : 1.9689238\t0.0000\n",
      "- batch loss and accuracy : 0.1974526\t1.0000\n",
      "- batch loss and accuracy : 0.1516988\t1.0000\n",
      "- batch loss and accuracy : 0.0916366\t1.0000\n",
      "- batch loss and accuracy : 0.0645736\t1.0000\n",
      "- batch loss and accuracy : 0.0665329\t1.0000\n",
      "- batch loss and accuracy : 0.0523579\t1.0000\n",
      "- batch loss and accuracy : 0.0192890\t1.0000\n",
      "- batch loss and accuracy : 0.0261489\t1.0000\n",
      "- batch loss and accuracy : 0.0194548\t1.0000\n"
     ]
    },
    {
     "name": "stderr",
     "output_type": "stream",
     "text": [
      "epoch 18 - train: 150it [00:02, 67.16it/s]"
     ]
    },
    {
     "name": "stdout",
     "output_type": "stream",
     "text": [
      "- batch loss and accuracy : 0.0217292\t1.0000\n",
      "- batch loss and accuracy : 0.0177293\t1.0000\n",
      "- batch loss and accuracy : 0.0078785\t1.0000\n",
      "- batch loss and accuracy : 4.9791374\t0.0000\n",
      "- batch loss and accuracy : 0.0131073\t1.0000\n"
     ]
    },
    {
     "name": "stderr",
     "output_type": "stream",
     "text": [
      "epoch 18 - train: 157it [00:02, 65.74it/s]"
     ]
    },
    {
     "name": "stdout",
     "output_type": "stream",
     "text": [
      "- batch loss and accuracy : 0.0055752\t1.0000\n",
      "- batch loss and accuracy : 0.0096601\t1.0000\n",
      "- batch loss and accuracy : 0.0146646\t1.0000\n",
      "- batch loss and accuracy : 4.3498363\t0.0000\n",
      "- batch loss and accuracy : 0.0333869\t1.0000\n",
      "- batch loss and accuracy : 3.2210557\t0.0000\n",
      "- batch loss and accuracy : 0.0486733\t1.0000\n",
      "- batch loss and accuracy : 0.1398608\t1.0000\n",
      "- batch loss and accuracy : 0.0912790\t1.0000\n"
     ]
    },
    {
     "name": "stderr",
     "output_type": "stream",
     "text": [
      "epoch 18 - train: 165it [00:02, 65.87it/s]"
     ]
    },
    {
     "name": "stdout",
     "output_type": "stream",
     "text": [
      "- batch loss and accuracy : 0.2801165\t1.0000\n",
      "- batch loss and accuracy : 1.4866813\t0.0000\n",
      "- batch loss and accuracy : 0.4240566\t1.0000\n",
      "- batch loss and accuracy : 0.5980514\t0.6667\n"
     ]
    },
    {
     "name": "stderr",
     "output_type": "stream",
     "text": [
      "epoch 18 - train: 172it [00:02, 63.82it/s]"
     ]
    },
    {
     "name": "stdout",
     "output_type": "stream",
     "text": [
      "- batch loss and accuracy : 0.6331291\t0.6667\n",
      "- batch loss and accuracy : 0.8145737\t0.3333\n",
      "- batch loss and accuracy : 0.8804542\t0.0000\n",
      "- batch loss and accuracy : 0.7928247\t0.3333\n",
      "- batch loss and accuracy : 0.7704225\t0.3333\n",
      "- batch loss and accuracy : 0.8706259\t0.3333\n",
      "- batch loss and accuracy : 0.4217864\t1.0000\n",
      "- batch loss and accuracy : 0.4211029\t1.0000\n",
      "- batch loss and accuracy : 1.4897774\t0.0000\n"
     ]
    },
    {
     "name": "stderr",
     "output_type": "stream",
     "text": [
      "epoch 18 - train: 180it [00:02, 65.84it/s]"
     ]
    },
    {
     "name": "stdout",
     "output_type": "stream",
     "text": [
      "- batch loss and accuracy : 1.3156712\t0.0000\n",
      "- batch loss and accuracy : 0.3207651\t1.0000\n",
      "- batch loss and accuracy : 0.2468236\t1.0000\n",
      "- batch loss and accuracy : 0.2390908\t1.0000\n",
      "- batch loss and accuracy : 0.1807421\t1.0000\n"
     ]
    },
    {
     "name": "stderr",
     "output_type": "stream",
     "text": [
      "epoch 18 - train: 187it [00:02, 66.76it/s]"
     ]
    },
    {
     "name": "stdout",
     "output_type": "stream",
     "text": [
      "- batch loss and accuracy : 0.1737528\t1.0000\n",
      "- batch loss and accuracy : 1.8888016\t0.0000\n",
      "- batch loss and accuracy : 0.2046332\t1.0000\n",
      "- batch loss and accuracy : 0.1778758\t1.0000\n",
      "- batch loss and accuracy : 1.8319004\t0.0000\n",
      "- batch loss and accuracy : 0.2061085\t1.0000\n",
      "- batch loss and accuracy : 0.2625063\t1.0000\n",
      "- batch loss and accuracy : 1.3201735\t0.0000\n",
      "- batch loss and accuracy : 0.2873963\t1.0000\n",
      "- batch loss and accuracy : 1.0164039\t0.3333\n",
      "- batch loss and accuracy : 0.6880199\t0.6667\n",
      "- batch loss and accuracy : 0.6970874\t0.3333\n",
      "- batch loss and accuracy : 0.5946885\t0.6667\n"
     ]
    },
    {
     "name": "stderr",
     "output_type": "stream",
     "text": [
      "epoch 18 - train: 201it [00:03, 65.35it/s]"
     ]
    },
    {
     "name": "stdout",
     "output_type": "stream",
     "text": [
      "- batch loss and accuracy : 1.2189564\t0.3333\n",
      "- batch loss and accuracy : 1.5051750\t0.0000\n",
      "- batch loss and accuracy : 1.0476625\t0.0000\n",
      "- batch loss and accuracy : 0.4088811\t1.0000\n",
      "- batch loss and accuracy : 0.5697350\t0.6667\n",
      "- batch loss and accuracy : 0.9427263\t0.3333\n",
      "- batch loss and accuracy : 0.9269727\t0.0000\n",
      "- batch loss and accuracy : 0.7352442\t0.3333\n",
      "- batch loss and accuracy : 0.8799996\t0.3333\n",
      "- batch loss and accuracy : 0.6006882\t0.6667\n",
      "- batch loss and accuracy : 0.9314884\t0.0000\n",
      "- batch loss and accuracy : 0.5433667\t0.6667\n",
      "- batch loss and accuracy : 0.8011988\t0.6667\n",
      "- batch loss and accuracy : 0.4234219\t1.0000\n"
     ]
    },
    {
     "name": "stderr",
     "output_type": "stream",
     "text": [
      "epoch 18 - train: 216it [00:03, 66.59it/s]"
     ]
    },
    {
     "name": "stdout",
     "output_type": "stream",
     "text": [
      "- batch loss and accuracy : 0.4997271\t1.0000\n",
      "- batch loss and accuracy : 0.4000071\t1.0000\n",
      "- batch loss and accuracy : 0.3629814\t1.0000\n",
      "- batch loss and accuracy : 1.3663892\t0.0000\n",
      "- batch loss and accuracy : 0.3003350\t1.0000\n",
      "- batch loss and accuracy : 0.2790429\t1.0000\n",
      "- batch loss and accuracy : 0.2292638\t1.0000\n",
      "- batch loss and accuracy : 0.1779845\t1.0000\n",
      "- batch loss and accuracy : 0.2340996\t1.0000\n",
      "- batch loss and accuracy : 2.7211378\t0.0000\n",
      "- batch loss and accuracy : 2.4196653\t0.0000\n",
      "- batch loss and accuracy : 2.0271521\t0.0000\n",
      "- batch loss and accuracy : 0.3729027\t0.6667\n"
     ]
    },
    {
     "name": "stderr",
     "output_type": "stream",
     "text": [
      "epoch 18 - train: 223it [00:03, 65.41it/s]"
     ]
    },
    {
     "name": "stdout",
     "output_type": "stream",
     "text": [
      "- batch loss and accuracy : 0.3790238\t1.0000\n",
      "- batch loss and accuracy : 0.6147026\t0.6667\n",
      "- batch loss and accuracy : 0.6727611\t0.6667\n",
      "- batch loss and accuracy : 0.5072880\t1.0000\n",
      "- batch loss and accuracy : 0.2801854\t1.0000\n",
      "- batch loss and accuracy : 1.4818271\t0.0000\n",
      "- batch loss and accuracy : 1.2646334\t0.0000\n",
      "- batch loss and accuracy : 1.1326165\t0.3333\n"
     ]
    },
    {
     "name": "stderr",
     "output_type": "stream",
     "text": [
      "epoch 18 - train: 230it [00:03, 60.74it/s]"
     ]
    },
    {
     "name": "stdout",
     "output_type": "stream",
     "text": [
      "- batch loss and accuracy : 0.7830130\t0.3333\n",
      "- batch loss and accuracy : 1.1769927\t0.3333\n",
      "- batch loss and accuracy : 1.4004447\t0.0000\n",
      "- batch loss and accuracy : 1.2707365\t0.0000\n"
     ]
    },
    {
     "name": "stderr",
     "output_type": "stream",
     "text": [
      "epoch 18 - train: 237it [00:03, 61.34it/s]"
     ]
    },
    {
     "name": "stdout",
     "output_type": "stream",
     "text": [
      "- batch loss and accuracy : 0.7899561\t0.3333\n",
      "- batch loss and accuracy : 1.0353930\t0.3333\n",
      "- batch loss and accuracy : 0.7656567\t0.3333\n",
      "- batch loss and accuracy : 0.2938926\t1.0000\n",
      "- batch loss and accuracy : 0.1343320\t1.0000\n",
      "- batch loss and accuracy : 0.0786757\t1.0000\n",
      "- batch loss and accuracy : 0.0392616\t1.0000\n",
      "- batch loss and accuracy : 0.0433298\t1.0000\n"
     ]
    },
    {
     "name": "stderr",
     "output_type": "stream",
     "text": [
      "epoch 18 - train: 244it [00:03, 59.79it/s]"
     ]
    },
    {
     "name": "stdout",
     "output_type": "stream",
     "text": [
      "- batch loss and accuracy : 4.3244438\t0.0000\n",
      "- batch loss and accuracy : 0.0133088\t1.0000\n",
      "- batch loss and accuracy : 0.0182402\t1.0000\n",
      "- batch loss and accuracy : 0.0113936\t1.0000\n",
      "- batch loss and accuracy : 4.8023415\t0.0000\n"
     ]
    },
    {
     "name": "stderr",
     "output_type": "stream",
     "text": [
      "epoch 18 - train: 249it [00:03, 63.64it/s]\n"
     ]
    },
    {
     "name": "stdout",
     "output_type": "stream",
     "text": [
      "- batch loss and accuracy : 0.0069513\t1.0000\n",
      "- batch loss and accuracy : 0.0180187\t1.0000\n",
      "- batch loss and accuracy : 4.1528144\t0.0000\n",
      "- batch loss and accuracy : 3.7613525\t0.0000\n"
     ]
    },
    {
     "name": "stderr",
     "output_type": "stream",
     "text": [
      "epoch 18 - validation: 100%|██████████| 63/63 [00:00<00:00, 71.53it/s]"
     ]
    },
    {
     "name": "stdout",
     "output_type": "stream",
     "text": [
      "Validation loss and accuracy : 1.0678468\t0.7143\n",
      "EPOCH 19\n"
     ]
    },
    {
     "name": "stderr",
     "output_type": "stream",
     "text": [
      "\n",
      "epoch 19 - train: 4it [00:00, 38.21it/s]"
     ]
    },
    {
     "name": "stdout",
     "output_type": "stream",
     "text": [
      "- batch loss and accuracy : 0.1041623\t1.0000\n",
      "- batch loss and accuracy : 2.2742457\t0.0000\n",
      "- batch loss and accuracy : 0.2314952\t1.0000\n",
      "- batch loss and accuracy : 0.7885925\t0.6667\n",
      "- batch loss and accuracy : 0.7701463\t0.3333\n",
      "- batch loss and accuracy : 1.1257417\t0.0000\n",
      "- batch loss and accuracy : 1.3511137\t0.0000\n",
      "- batch loss and accuracy : 1.2122240\t0.0000\n"
     ]
    },
    {
     "name": "stderr",
     "output_type": "stream",
     "text": [
      "epoch 19 - train: 11it [00:00, 55.50it/s]"
     ]
    },
    {
     "name": "stdout",
     "output_type": "stream",
     "text": [
      "- batch loss and accuracy : 1.2819393\t0.0000\n",
      "- batch loss and accuracy : 0.3806856\t1.0000\n",
      "- batch loss and accuracy : 0.9706225\t0.3333\n",
      "- batch loss and accuracy : 0.4471425\t0.6667\n",
      "- batch loss and accuracy : 0.3837398\t0.6667\n",
      "- batch loss and accuracy : 0.2637207\t1.0000\n"
     ]
    },
    {
     "name": "stderr",
     "output_type": "stream",
     "text": [
      "epoch 19 - train: 18it [00:00, 58.27it/s]"
     ]
    },
    {
     "name": "stdout",
     "output_type": "stream",
     "text": [
      "- batch loss and accuracy : 0.1448733\t1.0000\n",
      "- batch loss and accuracy : 0.0866831\t1.0000\n",
      "- batch loss and accuracy : 0.0659137\t1.0000\n",
      "- batch loss and accuracy : 0.0365234\t1.0000\n",
      "- batch loss and accuracy : 0.0204883\t1.0000\n",
      "- batch loss and accuracy : 0.0093018\t1.0000\n",
      "- batch loss and accuracy : 4.8496599\t0.0000\n",
      "- batch loss and accuracy : 0.0059273\t1.0000\n",
      "- batch loss and accuracy : 4.9738431\t0.0000\n"
     ]
    },
    {
     "name": "stderr",
     "output_type": "stream",
     "text": [
      "epoch 19 - train: 26it [00:00, 61.63it/s]"
     ]
    },
    {
     "name": "stdout",
     "output_type": "stream",
     "text": [
      "- batch loss and accuracy : 0.0123857\t1.0000\n",
      "- batch loss and accuracy : 0.0145039\t1.0000\n",
      "- batch loss and accuracy : 0.0205287\t1.0000\n",
      "- batch loss and accuracy : 0.0194819\t1.0000\n"
     ]
    },
    {
     "name": "stderr",
     "output_type": "stream",
     "text": [
      "epoch 19 - train: 33it [00:00, 61.48it/s]"
     ]
    },
    {
     "name": "stdout",
     "output_type": "stream",
     "text": [
      "- batch loss and accuracy : 0.0211640\t1.0000\n",
      "- batch loss and accuracy : 3.2989023\t0.0000\n",
      "- batch loss and accuracy : 2.8406398\t0.0000\n",
      "- batch loss and accuracy : 0.1240854\t1.0000\n",
      "- batch loss and accuracy : 0.3310653\t1.0000\n",
      "- batch loss and accuracy : 0.3115954\t1.0000\n",
      "- batch loss and accuracy : 0.3602998\t1.0000\n",
      "- batch loss and accuracy : 0.6181135\t0.6667\n"
     ]
    },
    {
     "name": "stderr",
     "output_type": "stream",
     "text": [
      "epoch 19 - train: 40it [00:00, 61.02it/s]"
     ]
    },
    {
     "name": "stdout",
     "output_type": "stream",
     "text": [
      "- batch loss and accuracy : 0.6577667\t0.3333\n",
      "- batch loss and accuracy : 1.0536891\t0.0000\n",
      "- batch loss and accuracy : 0.6608210\t0.6667\n",
      "- batch loss and accuracy : 0.7982541\t0.3333\n",
      "- batch loss and accuracy : 0.5546373\t1.0000\n"
     ]
    },
    {
     "name": "stderr",
     "output_type": "stream",
     "text": [
      "epoch 19 - train: 47it [00:00, 61.02it/s]"
     ]
    },
    {
     "name": "stdout",
     "output_type": "stream",
     "text": [
      "- batch loss and accuracy : 0.2935562\t1.0000\n",
      "- batch loss and accuracy : 0.2158289\t1.0000\n",
      "- batch loss and accuracy : 0.0989749\t1.0000\n",
      "- batch loss and accuracy : 2.7060764\t0.0000\n",
      "- batch loss and accuracy : 0.0573231\t1.0000\n",
      "- batch loss and accuracy : 3.1464901\t0.0000\n",
      "- batch loss and accuracy : 2.8526657\t0.0000\n",
      "- batch loss and accuracy : 0.0570657\t1.0000\n",
      "- batch loss and accuracy : 0.1150359\t1.0000\n",
      "- batch loss and accuracy : 1.9696956\t0.0000\n",
      "- batch loss and accuracy : 1.4240971\t0.0000\n",
      "- batch loss and accuracy : 0.8427495\t0.3333\n",
      "- batch loss and accuracy : 1.2117281\t0.0000\n"
     ]
    },
    {
     "name": "stderr",
     "output_type": "stream",
     "text": [
      "epoch 19 - train: 62it [00:01, 64.56it/s]"
     ]
    },
    {
     "name": "stdout",
     "output_type": "stream",
     "text": [
      "- batch loss and accuracy : 1.7314317\t0.0000\n",
      "- batch loss and accuracy : 0.1501298\t1.0000\n",
      "- batch loss and accuracy : 0.1079457\t1.0000\n",
      "- batch loss and accuracy : 0.1602904\t1.0000\n",
      "- batch loss and accuracy : 0.0687868\t1.0000\n",
      "- batch loss and accuracy : 0.0574050\t1.0000\n",
      "- batch loss and accuracy : 0.0222390\t1.0000\n",
      "- batch loss and accuracy : 0.0362731\t1.0000\n",
      "- batch loss and accuracy : 0.0192348\t1.0000\n",
      "- batch loss and accuracy : 3.9706421\t0.0000\n",
      "- batch loss and accuracy : 0.0261898\t1.0000\n",
      "- batch loss and accuracy : 3.7991502\t0.0000\n",
      "- batch loss and accuracy : 0.0365968\t1.0000\n",
      "- batch loss and accuracy : 0.0625657\t1.0000\n"
     ]
    },
    {
     "name": "stderr",
     "output_type": "stream",
     "text": [
      "epoch 19 - train: 69it [00:01, 62.24it/s]"
     ]
    },
    {
     "name": "stdout",
     "output_type": "stream",
     "text": [
      "- batch loss and accuracy : 0.0818442\t1.0000\n",
      "- batch loss and accuracy : 0.1265413\t1.0000\n",
      "- batch loss and accuracy : 0.1285012\t1.0000\n",
      "- batch loss and accuracy : 0.1891024\t1.0000\n",
      "- batch loss and accuracy : 0.1586990\t1.0000\n",
      "- batch loss and accuracy : 0.1868488\t1.0000\n",
      "- batch loss and accuracy : 0.1558178\t1.0000\n"
     ]
    },
    {
     "name": "stderr",
     "output_type": "stream",
     "text": [
      "epoch 19 - train: 76it [00:01, 60.96it/s]"
     ]
    },
    {
     "name": "stdout",
     "output_type": "stream",
     "text": [
      "- batch loss and accuracy : 0.1863072\t1.0000\n",
      "- batch loss and accuracy : 2.4243197\t0.0000\n",
      "- batch loss and accuracy : 0.1633600\t1.0000\n",
      "- batch loss and accuracy : 0.2978393\t1.0000\n",
      "- batch loss and accuracy : 0.1715211\t1.0000\n"
     ]
    },
    {
     "name": "stderr",
     "output_type": "stream",
     "text": [
      "epoch 19 - train: 83it [00:01, 60.60it/s]"
     ]
    },
    {
     "name": "stdout",
     "output_type": "stream",
     "text": [
      "- batch loss and accuracy : 2.2636032\t0.0000\n",
      "- batch loss and accuracy : 0.3067112\t1.0000\n",
      "- batch loss and accuracy : 0.2031470\t1.0000\n",
      "- batch loss and accuracy : 0.2352953\t1.0000\n",
      "- batch loss and accuracy : 0.3230361\t1.0000\n",
      "- batch loss and accuracy : 1.9956160\t0.0000\n",
      "- batch loss and accuracy : 1.2436707\t0.0000\n",
      "- batch loss and accuracy : 1.1495793\t0.0000\n"
     ]
    },
    {
     "name": "stderr",
     "output_type": "stream",
     "text": [
      "epoch 19 - train: 90it [00:01, 60.97it/s]"
     ]
    },
    {
     "name": "stdout",
     "output_type": "stream",
     "text": [
      "- batch loss and accuracy : 0.3930447\t1.0000\n",
      "- batch loss and accuracy : 0.9149586\t0.6667\n",
      "- batch loss and accuracy : 1.0709789\t0.0000\n",
      "- batch loss and accuracy : 1.0449852\t0.0000\n",
      "- batch loss and accuracy : 0.5587298\t0.6667\n"
     ]
    },
    {
     "name": "stderr",
     "output_type": "stream",
     "text": [
      "epoch 19 - train: 98it [00:01, 62.22it/s]"
     ]
    },
    {
     "name": "stdout",
     "output_type": "stream",
     "text": [
      "- batch loss and accuracy : 0.9521143\t0.0000\n",
      "- batch loss and accuracy : 0.5036677\t1.0000\n",
      "- batch loss and accuracy : 0.5809378\t0.6667\n",
      "- batch loss and accuracy : 1.3543515\t0.0000\n",
      "- batch loss and accuracy : 1.0428584\t0.0000\n",
      "- batch loss and accuracy : 0.5148703\t0.6667\n",
      "- batch loss and accuracy : 0.8161764\t0.6667\n",
      "- batch loss and accuracy : 0.8600941\t0.0000\n"
     ]
    },
    {
     "name": "stderr",
     "output_type": "stream",
     "text": [
      "epoch 19 - train: 105it [00:01, 61.53it/s]"
     ]
    },
    {
     "name": "stdout",
     "output_type": "stream",
     "text": [
      "- batch loss and accuracy : 0.4463214\t1.0000\n",
      "- batch loss and accuracy : 0.2140287\t1.0000\n",
      "- batch loss and accuracy : 0.1857230\t1.0000\n",
      "- batch loss and accuracy : 0.1344041\t1.0000\n",
      "- batch loss and accuracy : 2.1977816\t0.0000\n"
     ]
    },
    {
     "name": "stderr",
     "output_type": "stream",
     "text": [
      "epoch 19 - train: 112it [00:01, 60.44it/s]"
     ]
    },
    {
     "name": "stdout",
     "output_type": "stream",
     "text": [
      "- batch loss and accuracy : 0.1173139\t1.0000\n",
      "- batch loss and accuracy : 2.1809933\t0.0000\n",
      "- batch loss and accuracy : 0.0780911\t1.0000\n",
      "- batch loss and accuracy : 0.2066695\t1.0000\n",
      "- batch loss and accuracy : 0.1075841\t1.0000\n",
      "- batch loss and accuracy : 0.1761907\t1.0000\n",
      "- batch loss and accuracy : 1.9909494\t0.0000\n",
      "- batch loss and accuracy : 0.1227146\t1.0000\n",
      "- batch loss and accuracy : 1.4441030\t0.3333\n",
      "- batch loss and accuracy : 0.3857696\t1.0000\n",
      "- batch loss and accuracy : 0.3678935\t1.0000\n",
      "- batch loss and accuracy : 0.5823703\t0.6667\n",
      "- batch loss and accuracy : 0.4124246\t1.0000\n"
     ]
    },
    {
     "name": "stderr",
     "output_type": "stream",
     "text": [
      "epoch 19 - train: 119it [00:01, 61.71it/s]"
     ]
    },
    {
     "name": "stdout",
     "output_type": "stream",
     "text": [
      "- batch loss and accuracy : 1.3162205\t0.0000\n",
      "- batch loss and accuracy : 0.3154060\t1.0000\n",
      "- batch loss and accuracy : 0.8503520\t0.0000\n",
      "- batch loss and accuracy : 0.5933536\t0.6667\n",
      "- batch loss and accuracy : 0.8600975\t0.3333\n",
      "- batch loss and accuracy : 0.7265739\t0.3333\n"
     ]
    },
    {
     "name": "stderr",
     "output_type": "stream",
     "text": [
      "epoch 19 - train: 126it [00:02, 59.16it/s]"
     ]
    },
    {
     "name": "stdout",
     "output_type": "stream",
     "text": [
      "- batch loss and accuracy : 0.7860074\t0.3333\n",
      "- batch loss and accuracy : 0.8732090\t0.6667\n",
      "- batch loss and accuracy : 0.7591804\t0.3333\n",
      "- batch loss and accuracy : 0.6364387\t0.3333\n",
      "- batch loss and accuracy : 0.8254118\t0.3333\n"
     ]
    },
    {
     "name": "stderr",
     "output_type": "stream",
     "text": [
      "epoch 19 - train: 132it [00:02, 55.15it/s]"
     ]
    },
    {
     "name": "stdout",
     "output_type": "stream",
     "text": [
      "- batch loss and accuracy : 0.5132791\t0.6667\n",
      "- batch loss and accuracy : 0.4938851\t1.0000\n",
      "- batch loss and accuracy : 0.9082984\t0.0000\n",
      "- batch loss and accuracy : 1.2329105\t0.0000\n",
      "- batch loss and accuracy : 0.3763415\t1.0000\n",
      "- batch loss and accuracy : 1.5249031\t0.0000\n"
     ]
    },
    {
     "name": "stderr",
     "output_type": "stream",
     "text": [
      "epoch 19 - train: 138it [00:02, 55.35it/s]"
     ]
    },
    {
     "name": "stdout",
     "output_type": "stream",
     "text": [
      "- batch loss and accuracy : 1.0951459\t0.0000\n",
      "- batch loss and accuracy : 0.4929930\t1.0000\n",
      "- batch loss and accuracy : 0.7599501\t0.3333\n",
      "- batch loss and accuracy : 0.5377638\t1.0000\n",
      "- batch loss and accuracy : 0.2946537\t1.0000\n"
     ]
    },
    {
     "name": "stderr",
     "output_type": "stream",
     "text": [
      "epoch 19 - train: 144it [00:02, 55.33it/s]"
     ]
    },
    {
     "name": "stdout",
     "output_type": "stream",
     "text": [
      "- batch loss and accuracy : 1.6217296\t0.0000\n",
      "- batch loss and accuracy : 0.2965209\t1.0000\n",
      "- batch loss and accuracy : 1.6744425\t0.0000\n",
      "- batch loss and accuracy : 0.1479930\t1.0000\n",
      "- batch loss and accuracy : 0.1183271\t1.0000\n",
      "- batch loss and accuracy : 2.1498640\t0.0000\n"
     ]
    },
    {
     "name": "stderr",
     "output_type": "stream",
     "text": [
      "epoch 19 - train: 150it [00:02, 53.04it/s]"
     ]
    },
    {
     "name": "stdout",
     "output_type": "stream",
     "text": [
      "- batch loss and accuracy : 0.0710782\t1.0000\n",
      "- batch loss and accuracy : 0.1576065\t1.0000\n",
      "- batch loss and accuracy : 0.2901493\t1.0000\n",
      "- batch loss and accuracy : 0.1441962\t1.0000\n",
      "- batch loss and accuracy : 0.1927402\t1.0000\n"
     ]
    },
    {
     "name": "stderr",
     "output_type": "stream",
     "text": [
      "epoch 19 - train: 157it [00:02, 55.54it/s]"
     ]
    },
    {
     "name": "stdout",
     "output_type": "stream",
     "text": [
      "- batch loss and accuracy : 2.0410748\t0.0000\n",
      "- batch loss and accuracy : 0.1739764\t1.0000\n",
      "- batch loss and accuracy : 0.2354755\t1.0000\n",
      "- batch loss and accuracy : 0.2604617\t1.0000\n",
      "- batch loss and accuracy : 0.3094502\t1.0000\n",
      "- batch loss and accuracy : 0.2004528\t1.0000\n",
      "- batch loss and accuracy : 1.6744126\t0.0000\n"
     ]
    },
    {
     "name": "stderr",
     "output_type": "stream",
     "text": [
      "epoch 19 - train: 164it [00:02, 58.04it/s]"
     ]
    },
    {
     "name": "stdout",
     "output_type": "stream",
     "text": [
      "- batch loss and accuracy : 0.1753627\t1.0000\n",
      "- batch loss and accuracy : 0.2160958\t1.0000\n",
      "- batch loss and accuracy : 1.7048653\t0.0000\n",
      "- batch loss and accuracy : 1.2733136\t0.0000\n",
      "- batch loss and accuracy : 0.3690308\t1.0000\n",
      "- batch loss and accuracy : 1.0121000\t0.6667\n"
     ]
    },
    {
     "name": "stderr",
     "output_type": "stream",
     "text": [
      "epoch 19 - train: 171it [00:02, 58.85it/s]"
     ]
    },
    {
     "name": "stdout",
     "output_type": "stream",
     "text": [
      "- batch loss and accuracy : 1.0114294\t0.0000\n",
      "- batch loss and accuracy : 0.9068944\t0.6667\n",
      "- batch loss and accuracy : 0.7622294\t0.6667\n",
      "- batch loss and accuracy : 1.1545219\t0.3333\n",
      "- batch loss and accuracy : 0.6542956\t0.6667\n",
      "- batch loss and accuracy : 0.5713666\t1.0000\n",
      "- batch loss and accuracy : 0.2772405\t1.0000\n",
      "- batch loss and accuracy : 2.5955284\t0.0000\n",
      "- batch loss and accuracy : 0.1056109\t1.0000\n",
      "- batch loss and accuracy : 0.1649441\t1.0000\n",
      "- batch loss and accuracy : 0.0738291\t1.0000\n",
      "- batch loss and accuracy : 0.1112886\t1.0000\n"
     ]
    },
    {
     "name": "stderr",
     "output_type": "stream",
     "text": [
      "epoch 19 - train: 177it [00:03, 56.89it/s]"
     ]
    },
    {
     "name": "stdout",
     "output_type": "stream",
     "text": [
      "- batch loss and accuracy : 0.0420022\t1.0000\n",
      "- batch loss and accuracy : 0.0421738\t1.0000\n",
      "- batch loss and accuracy : 0.0177023\t1.0000\n",
      "- batch loss and accuracy : 0.0186254\t1.0000\n",
      "- batch loss and accuracy : 0.0159883\t1.0000\n",
      "- batch loss and accuracy : 4.9137731\t0.0000\n",
      "- batch loss and accuracy : 0.0295761\t1.0000\n"
     ]
    },
    {
     "name": "stderr",
     "output_type": "stream",
     "text": [
      "epoch 19 - train: 184it [00:03, 58.67it/s]"
     ]
    },
    {
     "name": "stdout",
     "output_type": "stream",
     "text": [
      "- batch loss and accuracy : 4.3902555\t0.0000\n",
      "- batch loss and accuracy : 0.0178574\t1.0000\n",
      "- batch loss and accuracy : 0.0378175\t1.0000\n",
      "- batch loss and accuracy : 3.0230358\t0.0000\n",
      "- batch loss and accuracy : 0.1191728\t1.0000\n",
      "- batch loss and accuracy : 0.1638218\t1.0000\n"
     ]
    },
    {
     "name": "stderr",
     "output_type": "stream",
     "text": [
      "epoch 19 - train: 190it [00:03, 58.35it/s]"
     ]
    },
    {
     "name": "stdout",
     "output_type": "stream",
     "text": [
      "- batch loss and accuracy : 0.1712372\t1.0000\n",
      "- batch loss and accuracy : 1.7825994\t0.0000\n",
      "- batch loss and accuracy : 0.8617062\t0.0000\n",
      "- batch loss and accuracy : 0.6130813\t0.6667\n"
     ]
    },
    {
     "name": "stderr",
     "output_type": "stream",
     "text": [
      "epoch 19 - train: 196it [00:03, 54.53it/s]"
     ]
    },
    {
     "name": "stdout",
     "output_type": "stream",
     "text": [
      "- batch loss and accuracy : 0.8150816\t0.3333\n",
      "- batch loss and accuracy : 0.5782525\t0.6667\n",
      "- batch loss and accuracy : 1.0458035\t0.3333\n",
      "- batch loss and accuracy : 0.7865970\t0.6667\n",
      "- batch loss and accuracy : 0.8128538\t0.0000\n",
      "- batch loss and accuracy : 0.8521335\t0.3333\n",
      "- batch loss and accuracy : 0.6839114\t0.3333\n"
     ]
    },
    {
     "name": "stderr",
     "output_type": "stream",
     "text": [
      "epoch 19 - train: 202it [00:03, 54.92it/s]"
     ]
    },
    {
     "name": "stdout",
     "output_type": "stream",
     "text": [
      "- batch loss and accuracy : 1.2764013\t0.0000\n",
      "- batch loss and accuracy : 0.2948273\t1.0000\n",
      "- batch loss and accuracy : 0.2894658\t1.0000\n",
      "- batch loss and accuracy : 1.7385349\t0.0000\n",
      "- batch loss and accuracy : 1.7827339\t0.0000\n",
      "- batch loss and accuracy : 2.3510013\t0.0000\n"
     ]
    },
    {
     "name": "stderr",
     "output_type": "stream",
     "text": [
      "epoch 19 - train: 209it [00:03, 56.80it/s]"
     ]
    },
    {
     "name": "stdout",
     "output_type": "stream",
     "text": [
      "- batch loss and accuracy : 0.6407723\t0.6667\n",
      "- batch loss and accuracy : 0.5802755\t0.6667\n",
      "- batch loss and accuracy : 0.3102751\t1.0000\n",
      "- batch loss and accuracy : 0.7809922\t0.3333\n",
      "- batch loss and accuracy : 0.5564188\t0.6667\n",
      "- batch loss and accuracy : 0.9508116\t0.3333\n"
     ]
    },
    {
     "name": "stderr",
     "output_type": "stream",
     "text": [
      "epoch 19 - train: 215it [00:03, 53.01it/s]"
     ]
    },
    {
     "name": "stdout",
     "output_type": "stream",
     "text": [
      "- batch loss and accuracy : 0.5265437\t1.0000\n",
      "- batch loss and accuracy : 1.4029773\t0.0000\n",
      "- batch loss and accuracy : 0.3708210\t1.0000\n",
      "- batch loss and accuracy : 0.5494272\t0.3333\n"
     ]
    },
    {
     "name": "stderr",
     "output_type": "stream",
     "text": [
      "epoch 19 - train: 221it [00:03, 54.12it/s]"
     ]
    },
    {
     "name": "stdout",
     "output_type": "stream",
     "text": [
      "- batch loss and accuracy : 0.2592619\t1.0000\n",
      "- batch loss and accuracy : 1.8577332\t0.0000\n",
      "- batch loss and accuracy : 1.5441288\t0.0000\n",
      "- batch loss and accuracy : 1.2632010\t0.3333\n",
      "- batch loss and accuracy : 0.8274622\t0.6667\n",
      "- batch loss and accuracy : 0.4755084\t1.0000\n",
      "- batch loss and accuracy : 0.3316858\t1.0000\n"
     ]
    },
    {
     "name": "stderr",
     "output_type": "stream",
     "text": [
      "epoch 19 - train: 227it [00:03, 53.78it/s]"
     ]
    },
    {
     "name": "stdout",
     "output_type": "stream",
     "text": [
      "- batch loss and accuracy : 0.2076743\t1.0000\n",
      "- batch loss and accuracy : 0.1056293\t1.0000\n",
      "- batch loss and accuracy : 0.0228834\t1.0000\n",
      "- batch loss and accuracy : 0.0170559\t1.0000\n",
      "- batch loss and accuracy : 0.0070795\t1.0000\n"
     ]
    },
    {
     "name": "stderr",
     "output_type": "stream",
     "text": [
      "epoch 19 - train: 233it [00:04, 54.01it/s]"
     ]
    },
    {
     "name": "stdout",
     "output_type": "stream",
     "text": [
      "- batch loss and accuracy : 0.0039873\t1.0000\n",
      "- batch loss and accuracy : 0.0051301\t1.0000\n",
      "- batch loss and accuracy : 6.0739679\t0.0000\n",
      "- batch loss and accuracy : 0.0021236\t1.0000\n",
      "- batch loss and accuracy : 0.0017494\t1.0000\n",
      "- batch loss and accuracy : 0.0025157\t1.0000\n",
      "- batch loss and accuracy : 6.2515922\t0.0000\n"
     ]
    },
    {
     "name": "stderr",
     "output_type": "stream",
     "text": [
      "epoch 19 - train: 239it [00:04, 55.45it/s]"
     ]
    },
    {
     "name": "stdout",
     "output_type": "stream",
     "text": [
      "- batch loss and accuracy : 0.0019759\t1.0000\n",
      "- batch loss and accuracy : 0.0034726\t1.0000\n",
      "- batch loss and accuracy : 5.5727072\t0.0000\n",
      "- batch loss and accuracy : 5.0352321\t0.0000\n",
      "- batch loss and accuracy : 0.0236654\t1.0000\n",
      "- batch loss and accuracy : 0.0390941\t1.0000\n"
     ]
    },
    {
     "name": "stderr",
     "output_type": "stream",
     "text": [
      "epoch 19 - train: 246it [00:04, 59.43it/s]"
     ]
    },
    {
     "name": "stdout",
     "output_type": "stream",
     "text": [
      "- batch loss and accuracy : 0.0830524\t1.0000\n",
      "- batch loss and accuracy : 0.2154085\t1.0000\n",
      "- batch loss and accuracy : 0.3357893\t1.0000\n",
      "- batch loss and accuracy : 1.7356787\t0.0000\n",
      "- batch loss and accuracy : 0.9568831\t0.0000\n",
      "- batch loss and accuracy : 0.9217401\t0.3333\n"
     ]
    },
    {
     "name": "stderr",
     "output_type": "stream",
     "text": [
      "epoch 19 - train: 249it [00:04, 57.63it/s]\n"
     ]
    },
    {
     "name": "stdout",
     "output_type": "stream",
     "text": [
      "- batch loss and accuracy : 0.7820538\t0.3333\n",
      "- batch loss and accuracy : 1.1122428\t0.0000\n"
     ]
    },
    {
     "name": "stderr",
     "output_type": "stream",
     "text": [
      "epoch 19 - validation: 100%|██████████| 63/63 [00:00<00:00, 82.58it/s]"
     ]
    },
    {
     "name": "stdout",
     "output_type": "stream",
     "text": [
      "Validation loss and accuracy : 1.0009999\t0.3280\n",
      "EPOCH 20\n"
     ]
    },
    {
     "name": "stderr",
     "output_type": "stream",
     "text": [
      "\n",
      "epoch 20 - train: 3it [00:00, 27.68it/s]"
     ]
    },
    {
     "name": "stdout",
     "output_type": "stream",
     "text": [
      "- batch loss and accuracy : 1.1608281\t0.0000\n",
      "- batch loss and accuracy : 1.2236991\t0.3333\n",
      "- batch loss and accuracy : 0.5349569\t0.6667\n",
      "- batch loss and accuracy : 0.7850661\t0.3333\n",
      "- batch loss and accuracy : 0.8789129\t0.3333\n",
      "- batch loss and accuracy : 0.6792806\t0.3333\n",
      "- batch loss and accuracy : 0.4318576\t1.0000\n",
      "- batch loss and accuracy : 0.8129804\t0.3333\n"
     ]
    },
    {
     "name": "stderr",
     "output_type": "stream",
     "text": [
      "epoch 20 - train: 12it [00:00, 58.16it/s]"
     ]
    },
    {
     "name": "stdout",
     "output_type": "stream",
     "text": [
      "- batch loss and accuracy : 0.7293373\t0.6667\n",
      "- batch loss and accuracy : 0.4206320\t1.0000\n",
      "- batch loss and accuracy : 0.6643353\t0.6667\n",
      "- batch loss and accuracy : 0.1980729\t1.0000\n",
      "- batch loss and accuracy : 1.6377804\t0.0000\n",
      "- batch loss and accuracy : 0.2083794\t1.0000\n",
      "- batch loss and accuracy : 0.1700999\t1.0000\n",
      "- batch loss and accuracy : 0.1394922\t1.0000\n",
      "- batch loss and accuracy : 0.1350582\t1.0000\n"
     ]
    },
    {
     "name": "stderr",
     "output_type": "stream",
     "text": [
      "epoch 20 - train: 21it [00:00, 70.57it/s]"
     ]
    },
    {
     "name": "stdout",
     "output_type": "stream",
     "text": [
      "- batch loss and accuracy : 0.0535574\t1.0000\n",
      "- batch loss and accuracy : 0.1017252\t1.0000\n",
      "- batch loss and accuracy : 3.3337183\t0.0000\n",
      "- batch loss and accuracy : 0.0663040\t1.0000\n",
      "- batch loss and accuracy : 0.1157957\t1.0000\n",
      "- batch loss and accuracy : 2.8320694\t0.0000\n",
      "- batch loss and accuracy : 0.1297846\t1.0000\n"
     ]
    },
    {
     "name": "stderr",
     "output_type": "stream",
     "text": [
      "epoch 20 - train: 29it [00:00, 71.67it/s]"
     ]
    },
    {
     "name": "stdout",
     "output_type": "stream",
     "text": [
      "- batch loss and accuracy : 2.0304995\t0.0000\n",
      "- batch loss and accuracy : 0.3696412\t1.0000\n",
      "- batch loss and accuracy : 0.3042278\t1.0000\n",
      "- batch loss and accuracy : 0.6828792\t0.3333\n",
      "- batch loss and accuracy : 0.4829457\t1.0000\n",
      "- batch loss and accuracy : 0.6105052\t0.6667\n",
      "- batch loss and accuracy : 0.5278780\t0.6667\n",
      "- batch loss and accuracy : 1.3307012\t0.0000\n",
      "- batch loss and accuracy : 0.4171777\t1.0000\n"
     ]
    },
    {
     "name": "stderr",
     "output_type": "stream",
     "text": [
      "epoch 20 - train: 37it [00:00, 70.52it/s]"
     ]
    },
    {
     "name": "stdout",
     "output_type": "stream",
     "text": [
      "- batch loss and accuracy : 1.9592751\t0.0000\n",
      "- batch loss and accuracy : 0.3902914\t1.0000\n",
      "- batch loss and accuracy : 0.4094134\t1.0000\n",
      "- batch loss and accuracy : 1.2697469\t0.0000\n",
      "- batch loss and accuracy : 0.3556272\t1.0000\n",
      "- batch loss and accuracy : 0.3715252\t1.0000\n"
     ]
    },
    {
     "name": "stderr",
     "output_type": "stream",
     "text": [
      "epoch 20 - train: 45it [00:00, 72.36it/s]"
     ]
    },
    {
     "name": "stdout",
     "output_type": "stream",
     "text": [
      "- batch loss and accuracy : 1.5656008\t0.0000\n",
      "- batch loss and accuracy : 0.4702803\t1.0000\n",
      "- batch loss and accuracy : 0.3860028\t1.0000\n",
      "- batch loss and accuracy : 0.4328505\t1.0000\n",
      "- batch loss and accuracy : 1.2541921\t0.0000\n",
      "- batch loss and accuracy : 0.3221723\t1.0000\n",
      "- batch loss and accuracy : 0.4393181\t1.0000\n",
      "- batch loss and accuracy : 1.3054522\t0.3333\n"
     ]
    },
    {
     "name": "stderr",
     "output_type": "stream",
     "text": [
      "epoch 20 - train: 53it [00:00, 69.53it/s]"
     ]
    },
    {
     "name": "stdout",
     "output_type": "stream",
     "text": [
      "- batch loss and accuracy : 0.3346485\t1.0000\n",
      "- batch loss and accuracy : 1.5605953\t0.0000\n",
      "- batch loss and accuracy : 0.3891389\t1.0000\n",
      "- batch loss and accuracy : 1.0900609\t0.0000\n",
      "- batch loss and accuracy : 0.7419755\t0.3333\n",
      "- batch loss and accuracy : 0.7859331\t0.3333\n"
     ]
    },
    {
     "name": "stderr",
     "output_type": "stream",
     "text": [
      "epoch 20 - train: 61it [00:00, 71.73it/s]"
     ]
    },
    {
     "name": "stdout",
     "output_type": "stream",
     "text": [
      "- batch loss and accuracy : 0.8593400\t0.3333\n",
      "- batch loss and accuracy : 0.9725931\t0.6667\n",
      "- batch loss and accuracy : 0.8285388\t0.3333\n",
      "- batch loss and accuracy : 0.5235385\t0.6667\n",
      "- batch loss and accuracy : 0.3382926\t1.0000\n",
      "- batch loss and accuracy : 0.2499647\t1.0000\n",
      "- batch loss and accuracy : 0.1721147\t1.0000\n",
      "- batch loss and accuracy : 2.5644262\t0.0000\n",
      "- batch loss and accuracy : 0.1501751\t1.0000\n",
      "- batch loss and accuracy : 2.7177236\t0.0000\n",
      "- batch loss and accuracy : 2.1382647\t0.0000\n",
      "- batch loss and accuracy : 1.7770208\t0.0000\n",
      "- batch loss and accuracy : 0.2584959\t1.0000\n",
      "- batch loss and accuracy : 0.6519923\t0.6667\n",
      "- batch loss and accuracy : 0.7155395\t0.3333\n"
     ]
    },
    {
     "name": "stderr",
     "output_type": "stream",
     "text": [
      "epoch 20 - train: 77it [00:01, 72.64it/s]"
     ]
    },
    {
     "name": "stdout",
     "output_type": "stream",
     "text": [
      "- batch loss and accuracy : 0.6917100\t0.6667\n",
      "- batch loss and accuracy : 0.6589574\t0.6667\n",
      "- batch loss and accuracy : 1.3331084\t0.0000\n",
      "- batch loss and accuracy : 1.5846484\t0.3333\n",
      "- batch loss and accuracy : 0.3474943\t1.0000\n",
      "- batch loss and accuracy : 1.2537329\t0.0000\n",
      "- batch loss and accuracy : 1.4170747\t0.0000\n",
      "- batch loss and accuracy : 0.7209694\t0.6667\n",
      "- batch loss and accuracy : 0.6464930\t0.6667\n",
      "- batch loss and accuracy : 0.9399756\t0.0000\n",
      "- batch loss and accuracy : 0.4767098\t1.0000\n",
      "- batch loss and accuracy : 0.3324775\t1.0000\n",
      "- batch loss and accuracy : 0.2059681\t1.0000\n",
      "- batch loss and accuracy : 0.1004992\t1.0000\n",
      "- batch loss and accuracy : 1.9340862\t0.0000\n",
      "- batch loss and accuracy : 2.3633363\t0.0000\n"
     ]
    },
    {
     "name": "stderr",
     "output_type": "stream",
     "text": [
      "epoch 20 - train: 85it [00:01, 73.31it/s]"
     ]
    },
    {
     "name": "stdout",
     "output_type": "stream",
     "text": [
      "- batch loss and accuracy : 0.3014670\t1.0000\n",
      "- batch loss and accuracy : 0.1691913\t1.0000\n",
      "- batch loss and accuracy : 0.2110841\t1.0000\n",
      "- batch loss and accuracy : 0.2359813\t1.0000\n",
      "- batch loss and accuracy : 0.1879189\t1.0000\n",
      "- batch loss and accuracy : 1.4227798\t0.0000\n",
      "- batch loss and accuracy : 0.2023566\t1.0000\n",
      "- batch loss and accuracy : 0.1757364\t1.0000\n"
     ]
    },
    {
     "name": "stderr",
     "output_type": "stream",
     "text": [
      "epoch 20 - train: 93it [00:01, 71.89it/s]"
     ]
    },
    {
     "name": "stdout",
     "output_type": "stream",
     "text": [
      "- batch loss and accuracy : 1.7490604\t0.0000\n",
      "- batch loss and accuracy : 1.3165586\t0.3333\n",
      "- batch loss and accuracy : 0.5030662\t0.6667\n",
      "- batch loss and accuracy : 0.5148970\t1.0000\n",
      "- batch loss and accuracy : 0.8140118\t0.0000\n",
      "- batch loss and accuracy : 0.6111228\t0.6667\n"
     ]
    },
    {
     "name": "stderr",
     "output_type": "stream",
     "text": [
      "epoch 20 - train: 101it [00:01, 69.90it/s]"
     ]
    },
    {
     "name": "stdout",
     "output_type": "stream",
     "text": [
      "- batch loss and accuracy : 0.5110157\t0.6667\n",
      "- batch loss and accuracy : 0.4120468\t0.6667\n",
      "- batch loss and accuracy : 1.3849901\t0.0000\n",
      "- batch loss and accuracy : 0.2782018\t1.0000\n",
      "- batch loss and accuracy : 1.4878892\t0.0000\n",
      "- batch loss and accuracy : 0.3096643\t1.0000\n",
      "- batch loss and accuracy : 0.2655886\t1.0000\n",
      "- batch loss and accuracy : 0.3772011\t1.0000\n",
      "- batch loss and accuracy : 0.1924801\t1.0000\n"
     ]
    },
    {
     "name": "stderr",
     "output_type": "stream",
     "text": [
      "epoch 20 - train: 110it [00:01, 73.54it/s]"
     ]
    },
    {
     "name": "stdout",
     "output_type": "stream",
     "text": [
      "- batch loss and accuracy : 0.1580072\t1.0000\n",
      "- batch loss and accuracy : 1.7742127\t0.0000\n",
      "- batch loss and accuracy : 0.1143917\t1.0000\n",
      "- batch loss and accuracy : 0.1887717\t1.0000\n",
      "- batch loss and accuracy : 0.1186583\t1.0000\n",
      "- batch loss and accuracy : 0.2044892\t1.0000\n",
      "- batch loss and accuracy : 0.0749881\t1.0000\n"
     ]
    },
    {
     "name": "stderr",
     "output_type": "stream",
     "text": [
      "epoch 20 - train: 118it [00:01, 73.20it/s]"
     ]
    },
    {
     "name": "stdout",
     "output_type": "stream",
     "text": [
      "- batch loss and accuracy : 0.0707473\t1.0000\n",
      "- batch loss and accuracy : 0.0706645\t1.0000\n",
      "- batch loss and accuracy : 0.0661506\t1.0000\n",
      "- batch loss and accuracy : 0.0567329\t1.0000\n",
      "- batch loss and accuracy : 3.1492429\t0.0000\n",
      "- batch loss and accuracy : 2.8583264\t0.0000\n",
      "- batch loss and accuracy : 2.2731285\t0.0000\n"
     ]
    },
    {
     "name": "stderr",
     "output_type": "stream",
     "text": [
      "epoch 20 - train: 126it [00:01, 69.55it/s]"
     ]
    },
    {
     "name": "stdout",
     "output_type": "stream",
     "text": [
      "- batch loss and accuracy : 0.3356416\t0.6667\n",
      "- batch loss and accuracy : 0.4473484\t1.0000\n",
      "- batch loss and accuracy : 0.5530827\t0.6667\n",
      "- batch loss and accuracy : 1.2757437\t0.0000\n",
      "- batch loss and accuracy : 0.7714607\t0.6667\n",
      "- batch loss and accuracy : 0.6595744\t0.6667\n"
     ]
    },
    {
     "name": "stderr",
     "output_type": "stream",
     "text": [
      "epoch 20 - train: 134it [00:01, 72.00it/s]"
     ]
    },
    {
     "name": "stdout",
     "output_type": "stream",
     "text": [
      "- batch loss and accuracy : 1.6550268\t0.0000\n",
      "- batch loss and accuracy : 0.2911522\t1.0000\n",
      "- batch loss and accuracy : 0.5770630\t0.6667\n",
      "- batch loss and accuracy : 0.3985568\t0.6667\n",
      "- batch loss and accuracy : 1.8862877\t0.0000\n",
      "- batch loss and accuracy : 0.3314128\t1.0000\n",
      "- batch loss and accuracy : 0.1621298\t1.0000\n",
      "- batch loss and accuracy : 1.6486820\t0.0000\n",
      "- batch loss and accuracy : 2.0788658\t0.0000\n",
      "- batch loss and accuracy : 1.5288603\t0.0000\n"
     ]
    },
    {
     "name": "stderr",
     "output_type": "stream",
     "text": [
      "epoch 20 - train: 142it [00:02, 72.65it/s]"
     ]
    },
    {
     "name": "stdout",
     "output_type": "stream",
     "text": [
      "- batch loss and accuracy : 1.2181035\t0.0000\n",
      "- batch loss and accuracy : 0.9402140\t0.3333\n",
      "- batch loss and accuracy : 1.2395424\t0.0000\n",
      "- batch loss and accuracy : 0.1405495\t1.0000\n",
      "- batch loss and accuracy : 0.1086179\t1.0000\n",
      "- batch loss and accuracy : 0.0536634\t1.0000\n"
     ]
    },
    {
     "name": "stderr",
     "output_type": "stream",
     "text": [
      "epoch 20 - train: 150it [00:02, 68.83it/s]"
     ]
    },
    {
     "name": "stdout",
     "output_type": "stream",
     "text": [
      "- batch loss and accuracy : 0.0365824\t1.0000\n",
      "- batch loss and accuracy : 0.0192338\t1.0000\n",
      "- batch loss and accuracy : 0.0146800\t1.0000\n",
      "- batch loss and accuracy : 4.7126179\t0.0000\n",
      "- batch loss and accuracy : 0.0077525\t1.0000\n",
      "- batch loss and accuracy : 0.0065205\t1.0000\n",
      "- batch loss and accuracy : 0.0058649\t1.0000\n",
      "- batch loss and accuracy : 0.0043809\t1.0000\n",
      "- batch loss and accuracy : 0.0079005\t1.0000\n",
      "- batch loss and accuracy : 0.0071941\t1.0000\n",
      "- batch loss and accuracy : 0.0066421\t1.0000\n",
      "- batch loss and accuracy : 0.0045800\t1.0000\n",
      "- batch loss and accuracy : 5.2617335\t0.0000\n"
     ]
    },
    {
     "name": "stderr",
     "output_type": "stream",
     "text": [
      "epoch 20 - train: 164it [00:02, 65.52it/s]"
     ]
    },
    {
     "name": "stdout",
     "output_type": "stream",
     "text": [
      "- batch loss and accuracy : 0.0077492\t1.0000\n",
      "- batch loss and accuracy : 0.0133822\t1.0000\n",
      "- batch loss and accuracy : 0.0217109\t1.0000\n",
      "- batch loss and accuracy : 0.0307645\t1.0000\n",
      "- batch loss and accuracy : 3.6641612\t0.0000\n",
      "- batch loss and accuracy : 0.0344555\t1.0000\n",
      "- batch loss and accuracy : 0.0748890\t1.0000\n",
      "- batch loss and accuracy : 0.0889493\t1.0000\n",
      "- batch loss and accuracy : 1.9286479\t0.0000\n",
      "- batch loss and accuracy : 1.8980918\t0.0000\n",
      "- batch loss and accuracy : 0.8434204\t0.3333\n",
      "- batch loss and accuracy : 0.5535136\t0.6667\n",
      "- batch loss and accuracy : 1.7425760\t0.0000\n",
      "- batch loss and accuracy : 1.9575065\t0.0000\n"
     ]
    },
    {
     "name": "stderr",
     "output_type": "stream",
     "text": [
      "epoch 20 - train: 172it [00:02, 66.70it/s]"
     ]
    },
    {
     "name": "stdout",
     "output_type": "stream",
     "text": [
      "- batch loss and accuracy : 2.5968139\t0.0000\n",
      "- batch loss and accuracy : 2.6468654\t0.0000\n",
      "- batch loss and accuracy : 1.4764637\t0.0000\n",
      "- batch loss and accuracy : 1.5015490\t0.3333\n",
      "- batch loss and accuracy : 0.6299726\t0.6667\n",
      "- batch loss and accuracy : 0.8233536\t0.6667\n",
      "- batch loss and accuracy : 1.1518583\t0.0000\n",
      "- batch loss and accuracy : 0.5561391\t1.0000\n",
      "- batch loss and accuracy : 0.2990697\t1.0000\n"
     ]
    },
    {
     "name": "stderr",
     "output_type": "stream",
     "text": [
      "epoch 20 - train: 180it [00:02, 68.02it/s]"
     ]
    },
    {
     "name": "stdout",
     "output_type": "stream",
     "text": [
      "- batch loss and accuracy : 0.3929011\t0.6667\n",
      "- batch loss and accuracy : 0.2144812\t1.0000\n",
      "- batch loss and accuracy : 0.1423306\t1.0000\n",
      "- batch loss and accuracy : 0.0604384\t1.0000\n"
     ]
    },
    {
     "name": "stderr",
     "output_type": "stream",
     "text": [
      "epoch 20 - train: 187it [00:02, 64.67it/s]"
     ]
    },
    {
     "name": "stdout",
     "output_type": "stream",
     "text": [
      "- batch loss and accuracy : 0.0586386\t1.0000\n",
      "- batch loss and accuracy : 0.0428552\t1.0000\n",
      "- batch loss and accuracy : 3.4754128\t0.0000\n",
      "- batch loss and accuracy : 0.0265795\t1.0000\n",
      "- batch loss and accuracy : 0.0525885\t1.0000\n",
      "- batch loss and accuracy : 0.0210909\t1.0000\n",
      "- batch loss and accuracy : 3.8005550\t0.0000\n",
      "- batch loss and accuracy : 3.3277223\t0.0000\n",
      "- batch loss and accuracy : 2.6397624\t0.0000\n"
     ]
    },
    {
     "name": "stderr",
     "output_type": "stream",
     "text": [
      "epoch 20 - train: 194it [00:02, 65.74it/s]"
     ]
    },
    {
     "name": "stdout",
     "output_type": "stream",
     "text": [
      "- batch loss and accuracy : 0.3199774\t1.0000\n",
      "- batch loss and accuracy : 0.3368700\t1.0000\n",
      "- batch loss and accuracy : 0.3779835\t1.0000\n",
      "- batch loss and accuracy : 0.8454678\t0.6667\n"
     ]
    },
    {
     "name": "stderr",
     "output_type": "stream",
     "text": [
      "epoch 20 - train: 201it [00:02, 66.72it/s]"
     ]
    },
    {
     "name": "stdout",
     "output_type": "stream",
     "text": [
      "- batch loss and accuracy : 0.8538008\t0.3333\n",
      "- batch loss and accuracy : 0.6415631\t0.6667\n",
      "- batch loss and accuracy : 0.6678262\t0.3333\n",
      "- batch loss and accuracy : 0.3388220\t1.0000\n",
      "- batch loss and accuracy : 0.5251400\t1.0000\n",
      "- batch loss and accuracy : 0.1459030\t1.0000\n",
      "- batch loss and accuracy : 2.1515574\t0.0000\n",
      "- batch loss and accuracy : 0.1899295\t1.0000\n",
      "- batch loss and accuracy : 0.1089774\t1.0000\n",
      "- batch loss and accuracy : 0.0883021\t1.0000\n",
      "- batch loss and accuracy : 0.0745145\t1.0000\n"
     ]
    },
    {
     "name": "stderr",
     "output_type": "stream",
     "text": [
      "epoch 20 - train: 209it [00:03, 68.42it/s]"
     ]
    },
    {
     "name": "stdout",
     "output_type": "stream",
     "text": [
      "- batch loss and accuracy : 0.0438196\t1.0000\n",
      "- batch loss and accuracy : 0.0824331\t1.0000\n",
      "- batch loss and accuracy : 3.1963253\t0.0000\n",
      "- batch loss and accuracy : 0.0374246\t1.0000\n"
     ]
    },
    {
     "name": "stderr",
     "output_type": "stream",
     "text": [
      "epoch 20 - train: 216it [00:03, 66.76it/s]"
     ]
    },
    {
     "name": "stdout",
     "output_type": "stream",
     "text": [
      "- batch loss and accuracy : 0.0740301\t1.0000\n",
      "- batch loss and accuracy : 3.6660047\t0.0000\n",
      "- batch loss and accuracy : 3.3115444\t0.0000\n",
      "- batch loss and accuracy : 1.7338259\t0.0000\n",
      "- batch loss and accuracy : 1.0950618\t0.0000\n",
      "- batch loss and accuracy : 0.8544081\t0.3333\n",
      "- batch loss and accuracy : 0.2634170\t1.0000\n",
      "- batch loss and accuracy : 1.7337823\t0.0000\n",
      "- batch loss and accuracy : 2.3275952\t0.0000\n"
     ]
    },
    {
     "name": "stderr",
     "output_type": "stream",
     "text": [
      "epoch 20 - train: 223it [00:03, 66.34it/s]"
     ]
    },
    {
     "name": "stdout",
     "output_type": "stream",
     "text": [
      "- batch loss and accuracy : 0.1178320\t1.0000\n",
      "- batch loss and accuracy : 2.4105344\t0.0000\n",
      "- batch loss and accuracy : 2.1442354\t0.0000\n",
      "- batch loss and accuracy : 1.4676085\t0.0000\n",
      "- batch loss and accuracy : 0.8505418\t0.3333\n",
      "- batch loss and accuracy : 0.6059623\t0.6667\n"
     ]
    },
    {
     "name": "stderr",
     "output_type": "stream",
     "text": [
      "epoch 20 - train: 231it [00:03, 69.31it/s]"
     ]
    },
    {
     "name": "stdout",
     "output_type": "stream",
     "text": [
      "- batch loss and accuracy : 1.7646403\t0.0000\n",
      "- batch loss and accuracy : 0.1362534\t1.0000\n",
      "- batch loss and accuracy : 0.1483583\t1.0000\n",
      "- batch loss and accuracy : 3.0958498\t0.0000\n",
      "- batch loss and accuracy : 0.0441527\t1.0000\n",
      "- batch loss and accuracy : 0.0370643\t1.0000\n",
      "- batch loss and accuracy : 0.0425794\t1.0000\n",
      "- batch loss and accuracy : 0.0375397\t1.0000\n",
      "- batch loss and accuracy : 0.0224914\t1.0000\n",
      "- batch loss and accuracy : 0.0277707\t1.0000\n"
     ]
    },
    {
     "name": "stderr",
     "output_type": "stream",
     "text": [
      "epoch 20 - train: 239it [00:03, 69.01it/s]"
     ]
    },
    {
     "name": "stdout",
     "output_type": "stream",
     "text": [
      "- batch loss and accuracy : 3.9005251\t0.0000\n",
      "- batch loss and accuracy : 0.0259839\t1.0000\n",
      "- batch loss and accuracy : 3.5307071\t0.0000\n",
      "- batch loss and accuracy : 0.0927821\t1.0000\n",
      "- batch loss and accuracy : 3.5724139\t0.0000\n"
     ]
    },
    {
     "name": "stderr",
     "output_type": "stream",
     "text": [
      "epoch 20 - train: 247it [00:03, 68.08it/s]"
     ]
    },
    {
     "name": "stdout",
     "output_type": "stream",
     "text": [
      "- batch loss and accuracy : 0.1896592\t1.0000\n",
      "- batch loss and accuracy : 1.6233544\t0.0000\n",
      "- batch loss and accuracy : 0.8667321\t0.3333\n",
      "- batch loss and accuracy : 1.2412142\t0.0000\n",
      "- batch loss and accuracy : 1.2759571\t0.0000\n",
      "- batch loss and accuracy : 1.7212141\t0.0000\n",
      "- batch loss and accuracy : 0.2912222\t1.0000\n",
      "- batch loss and accuracy : 1.8377702\t0.0000\n"
     ]
    },
    {
     "name": "stderr",
     "output_type": "stream",
     "text": [
      "epoch 20 - train: 249it [00:03, 68.13it/s]\n",
      "epoch 20 - validation: 100%|██████████| 63/63 [00:00<00:00, 85.65it/s]\n"
     ]
    },
    {
     "name": "stdout",
     "output_type": "stream",
     "text": [
      "Validation loss and accuracy : 1.2790494\t0.3016\n",
      "EPOCH 21\n"
     ]
    },
    {
     "name": "stderr",
     "output_type": "stream",
     "text": [
      "epoch 21 - train: 5it [00:00, 40.26it/s]"
     ]
    },
    {
     "name": "stdout",
     "output_type": "stream",
     "text": [
      "- batch loss and accuracy : 0.1841637\t1.0000\n",
      "- batch loss and accuracy : 0.3602267\t1.0000\n",
      "- batch loss and accuracy : 1.4030108\t0.3333\n",
      "- batch loss and accuracy : 1.0339746\t0.3333\n",
      "- batch loss and accuracy : 1.0395905\t0.0000\n",
      "- batch loss and accuracy : 0.9193472\t0.3333\n",
      "- batch loss and accuracy : 0.4547095\t1.0000\n",
      "- batch loss and accuracy : 1.8147202\t0.0000\n"
     ]
    },
    {
     "name": "stderr",
     "output_type": "stream",
     "text": [
      "epoch 21 - train: 13it [00:00, 57.98it/s]"
     ]
    },
    {
     "name": "stdout",
     "output_type": "stream",
     "text": [
      "- batch loss and accuracy : 0.2287615\t1.0000\n",
      "- batch loss and accuracy : 1.5549521\t0.0000\n",
      "- batch loss and accuracy : 1.4379339\t0.0000\n",
      "- batch loss and accuracy : 0.3118929\t1.0000\n",
      "- batch loss and accuracy : 0.3103316\t1.0000\n",
      "- batch loss and accuracy : 1.1470335\t0.0000\n"
     ]
    },
    {
     "name": "stderr",
     "output_type": "stream",
     "text": [
      "epoch 21 - train: 20it [00:00, 61.78it/s]"
     ]
    },
    {
     "name": "stdout",
     "output_type": "stream",
     "text": [
      "- batch loss and accuracy : 0.5620929\t0.6667\n",
      "- batch loss and accuracy : 0.9123021\t0.3333\n",
      "- batch loss and accuracy : 0.5775405\t0.6667\n",
      "- batch loss and accuracy : 1.2346096\t0.0000\n",
      "- batch loss and accuracy : 1.2330393\t0.0000\n",
      "- batch loss and accuracy : 0.9656595\t0.3333\n",
      "- batch loss and accuracy : 0.6740497\t0.3333\n",
      "- batch loss and accuracy : 0.9749207\t0.3333\n"
     ]
    },
    {
     "name": "stderr",
     "output_type": "stream",
     "text": [
      "epoch 21 - train: 28it [00:00, 65.29it/s]"
     ]
    },
    {
     "name": "stdout",
     "output_type": "stream",
     "text": [
      "- batch loss and accuracy : 0.2916134\t1.0000\n",
      "- batch loss and accuracy : 0.2422584\t1.0000\n",
      "- batch loss and accuracy : 0.2030701\t1.0000\n",
      "- batch loss and accuracy : 2.1324751\t0.0000\n",
      "- batch loss and accuracy : 0.1146588\t1.0000\n",
      "- batch loss and accuracy : 0.1200413\t1.0000\n"
     ]
    },
    {
     "name": "stderr",
     "output_type": "stream",
     "text": [
      "epoch 21 - train: 35it [00:00, 64.31it/s]"
     ]
    },
    {
     "name": "stdout",
     "output_type": "stream",
     "text": [
      "- batch loss and accuracy : 0.1754634\t1.0000\n",
      "- batch loss and accuracy : 0.0864420\t1.0000\n",
      "- batch loss and accuracy : 0.1749484\t1.0000\n",
      "- batch loss and accuracy : 0.0671317\t1.0000\n",
      "- batch loss and accuracy : 0.0823989\t1.0000\n",
      "- batch loss and accuracy : 0.0735317\t1.0000\n",
      "- batch loss and accuracy : 0.0683956\t1.0000\n"
     ]
    },
    {
     "name": "stderr",
     "output_type": "stream",
     "text": [
      "epoch 21 - train: 42it [00:00, 65.51it/s]"
     ]
    },
    {
     "name": "stdout",
     "output_type": "stream",
     "text": [
      "- batch loss and accuracy : 0.0480681\t1.0000\n",
      "- batch loss and accuracy : 3.9074450\t0.0000\n",
      "- batch loss and accuracy : 0.0347663\t1.0000\n",
      "- batch loss and accuracy : 3.7253330\t0.0000\n",
      "- batch loss and accuracy : 2.6273592\t0.0000\n",
      "- batch loss and accuracy : 0.0993932\t1.0000\n",
      "- batch loss and accuracy : 0.2938781\t1.0000\n"
     ]
    },
    {
     "name": "stderr",
     "output_type": "stream",
     "text": [
      "epoch 21 - train: 50it [00:00, 68.30it/s]"
     ]
    },
    {
     "name": "stdout",
     "output_type": "stream",
     "text": [
      "- batch loss and accuracy : 0.4438645\t1.0000\n",
      "- batch loss and accuracy : 0.4415477\t0.6667\n",
      "- batch loss and accuracy : 0.6599627\t0.6667\n",
      "- batch loss and accuracy : 1.0784237\t0.3333\n",
      "- batch loss and accuracy : 0.8378813\t0.3333\n",
      "- batch loss and accuracy : 0.8148772\t0.3333\n",
      "- batch loss and accuracy : 0.9180849\t0.0000\n",
      "- batch loss and accuracy : 1.0427275\t0.0000\n",
      "- batch loss and accuracy : 0.4999801\t1.0000\n",
      "- batch loss and accuracy : 0.3670539\t1.0000\n",
      "- batch loss and accuracy : 1.5633950\t0.0000\n",
      "- batch loss and accuracy : 0.2752076\t1.0000\n",
      "- batch loss and accuracy : 1.4751308\t0.0000\n",
      "- batch loss and accuracy : 1.3021396\t0.0000\n"
     ]
    },
    {
     "name": "stderr",
     "output_type": "stream",
     "text": [
      "epoch 21 - train: 57it [00:00, 64.96it/s]"
     ]
    },
    {
     "name": "stdout",
     "output_type": "stream",
     "text": [
      "- batch loss and accuracy : 1.3071661\t0.0000\n",
      "- batch loss and accuracy : 1.0297270\t0.0000\n",
      "- batch loss and accuracy : 1.0195881\t0.3333\n",
      "- batch loss and accuracy : 0.1986411\t1.0000\n",
      "- batch loss and accuracy : 0.0850813\t1.0000\n",
      "- batch loss and accuracy : 2.0957522\t0.0000\n",
      "- batch loss and accuracy : 0.2096491\t1.0000\n",
      "- batch loss and accuracy : 0.1247556\t1.0000\n"
     ]
    },
    {
     "name": "stderr",
     "output_type": "stream",
     "text": [
      "epoch 21 - train: 65it [00:01, 67.63it/s]"
     ]
    },
    {
     "name": "stdout",
     "output_type": "stream",
     "text": [
      "- batch loss and accuracy : 0.1102202\t1.0000\n",
      "- batch loss and accuracy : 0.0758087\t1.0000\n",
      "- batch loss and accuracy : 0.0412658\t1.0000\n",
      "- batch loss and accuracy : 2.8771274\t0.0000\n",
      "- batch loss and accuracy : 3.3246384\t0.0000\n",
      "- batch loss and accuracy : 2.5846109\t0.0000\n"
     ]
    },
    {
     "name": "stderr",
     "output_type": "stream",
     "text": [
      "epoch 21 - train: 72it [00:01, 66.10it/s]"
     ]
    },
    {
     "name": "stdout",
     "output_type": "stream",
     "text": [
      "- batch loss and accuracy : 2.1622896\t0.0000\n",
      "- batch loss and accuracy : 0.3649139\t1.0000\n",
      "- batch loss and accuracy : 1.0250316\t0.0000\n",
      "- batch loss and accuracy : 0.9481131\t0.0000\n",
      "- batch loss and accuracy : 1.1442655\t0.0000\n",
      "- batch loss and accuracy : 0.7647724\t0.3333\n",
      "- batch loss and accuracy : 0.4901519\t1.0000\n",
      "- batch loss and accuracy : 0.9769164\t0.3333\n"
     ]
    },
    {
     "name": "stderr",
     "output_type": "stream",
     "text": [
      "epoch 21 - train: 79it [00:01, 67.16it/s]"
     ]
    },
    {
     "name": "stdout",
     "output_type": "stream",
     "text": [
      "- batch loss and accuracy : 0.9073226\t0.3333\n",
      "- batch loss and accuracy : 1.0666476\t0.3333\n",
      "- batch loss and accuracy : 0.8501882\t0.0000\n",
      "- batch loss and accuracy : 0.5206374\t0.6667\n",
      "- batch loss and accuracy : 0.8868181\t0.0000\n",
      "- batch loss and accuracy : 0.7827435\t0.6667\n",
      "- batch loss and accuracy : 0.3809102\t1.0000\n"
     ]
    },
    {
     "name": "stderr",
     "output_type": "stream",
     "text": [
      "epoch 21 - train: 87it [00:01, 69.34it/s]"
     ]
    },
    {
     "name": "stdout",
     "output_type": "stream",
     "text": [
      "- batch loss and accuracy : 0.5438424\t0.6667\n",
      "- batch loss and accuracy : 0.9413589\t0.3333\n",
      "- batch loss and accuracy : 0.6143650\t0.6667\n",
      "- batch loss and accuracy : 0.5309994\t0.6667\n",
      "- batch loss and accuracy : 0.5984497\t0.6667\n",
      "- batch loss and accuracy : 1.2036600\t0.0000\n"
     ]
    },
    {
     "name": "stderr",
     "output_type": "stream",
     "text": [
      "epoch 21 - train: 94it [00:01, 64.79it/s]"
     ]
    },
    {
     "name": "stdout",
     "output_type": "stream",
     "text": [
      "- batch loss and accuracy : 0.8272367\t0.3333\n",
      "- batch loss and accuracy : 1.0332239\t0.3333\n",
      "- batch loss and accuracy : 0.7530861\t0.6667\n",
      "- batch loss and accuracy : 0.4138576\t1.0000\n",
      "- batch loss and accuracy : 0.8218262\t0.3333\n",
      "- batch loss and accuracy : 0.4371560\t1.0000\n"
     ]
    },
    {
     "name": "stderr",
     "output_type": "stream",
     "text": [
      "epoch 21 - train: 101it [00:01, 59.91it/s]"
     ]
    },
    {
     "name": "stdout",
     "output_type": "stream",
     "text": [
      "- batch loss and accuracy : 0.3904264\t1.0000\n",
      "- batch loss and accuracy : 0.3237087\t1.0000\n",
      "- batch loss and accuracy : 0.2897591\t1.0000\n",
      "- batch loss and accuracy : 0.0929891\t1.0000\n",
      "- batch loss and accuracy : 0.0894237\t1.0000\n"
     ]
    },
    {
     "name": "stderr",
     "output_type": "stream",
     "text": [
      "epoch 21 - train: 108it [00:01, 61.18it/s]"
     ]
    },
    {
     "name": "stdout",
     "output_type": "stream",
     "text": [
      "- batch loss and accuracy : 0.0384251\t1.0000\n",
      "- batch loss and accuracy : 0.0322871\t1.0000\n",
      "- batch loss and accuracy : 0.0281749\t1.0000\n",
      "- batch loss and accuracy : 0.0157514\t1.0000\n",
      "- batch loss and accuracy : 0.0093268\t1.0000\n",
      "- batch loss and accuracy : 4.9218321\t0.0000\n",
      "- batch loss and accuracy : 5.0433092\t0.0000\n"
     ]
    },
    {
     "name": "stderr",
     "output_type": "stream",
     "text": [
      "epoch 21 - train: 115it [00:01, 61.82it/s]"
     ]
    },
    {
     "name": "stdout",
     "output_type": "stream",
     "text": [
      "- batch loss and accuracy : 0.0115300\t1.0000\n",
      "- batch loss and accuracy : 0.0226163\t1.0000\n",
      "- batch loss and accuracy : 0.0210251\t1.0000\n",
      "- batch loss and accuracy : 3.5618777\t0.0000\n",
      "- batch loss and accuracy : 0.0556291\t1.0000\n",
      "- batch loss and accuracy : 1.7164520\t0.0000\n",
      "- batch loss and accuracy : 0.1855590\t1.0000\n",
      "- batch loss and accuracy : 1.2759607\t0.0000\n",
      "- batch loss and accuracy : 0.5986410\t0.6667\n",
      "- batch loss and accuracy : 0.4770079\t1.0000\n",
      "- batch loss and accuracy : 0.2201570\t1.0000\n",
      "- batch loss and accuracy : 2.3015754\t0.0000\n",
      "- batch loss and accuracy : 2.5207405\t0.0000\n"
     ]
    },
    {
     "name": "stderr",
     "output_type": "stream",
     "text": [
      "epoch 21 - train: 122it [00:01, 59.36it/s]"
     ]
    },
    {
     "name": "stdout",
     "output_type": "stream",
     "text": [
      "- batch loss and accuracy : 0.1692813\t1.0000\n",
      "- batch loss and accuracy : 2.0223641\t0.0000\n",
      "- batch loss and accuracy : 2.3094020\t0.0000\n",
      "- batch loss and accuracy : 1.5257521\t0.0000\n",
      "- batch loss and accuracy : 1.0136940\t0.3333\n",
      "- batch loss and accuracy : 0.4361654\t1.0000\n"
     ]
    },
    {
     "name": "stderr",
     "output_type": "stream",
     "text": [
      "epoch 21 - train: 136it [00:02, 61.65it/s]"
     ]
    },
    {
     "name": "stdout",
     "output_type": "stream",
     "text": [
      "- batch loss and accuracy : 0.2431686\t1.0000\n",
      "- batch loss and accuracy : 2.5015535\t0.0000\n",
      "- batch loss and accuracy : 3.2928071\t0.0000\n",
      "- batch loss and accuracy : 3.6269920\t0.0000\n",
      "- batch loss and accuracy : 0.0352201\t1.0000\n",
      "- batch loss and accuracy : 3.1685324\t0.0000\n",
      "- batch loss and accuracy : 0.0650442\t1.0000\n",
      "- batch loss and accuracy : 0.1116794\t1.0000\n",
      "- batch loss and accuracy : 0.2224185\t1.0000\n",
      "- batch loss and accuracy : 0.3346270\t1.0000\n",
      "- batch loss and accuracy : 0.1799558\t1.0000\n",
      "- batch loss and accuracy : 0.2672364\t1.0000\n"
     ]
    },
    {
     "name": "stderr",
     "output_type": "stream",
     "text": [
      "epoch 21 - train: 143it [00:02, 60.00it/s]"
     ]
    },
    {
     "name": "stdout",
     "output_type": "stream",
     "text": [
      "- batch loss and accuracy : 0.2154577\t1.0000\n",
      "- batch loss and accuracy : 0.2407827\t1.0000\n",
      "- batch loss and accuracy : 0.1037493\t1.0000\n",
      "- batch loss and accuracy : 0.1311369\t1.0000\n",
      "- batch loss and accuracy : 2.5017183\t0.0000\n",
      "- batch loss and accuracy : 2.2990844\t0.0000\n",
      "- batch loss and accuracy : 0.1729925\t1.0000\n",
      "- batch loss and accuracy : 1.3915410\t0.0000\n"
     ]
    },
    {
     "name": "stderr",
     "output_type": "stream",
     "text": [
      "epoch 21 - train: 150it [00:02, 60.13it/s]"
     ]
    },
    {
     "name": "stdout",
     "output_type": "stream",
     "text": [
      "- batch loss and accuracy : 0.3797298\t1.0000\n",
      "- batch loss and accuracy : 0.7243962\t0.6667\n",
      "- batch loss and accuracy : 0.6888168\t0.3333\n",
      "- batch loss and accuracy : 0.6256524\t0.6667\n"
     ]
    },
    {
     "name": "stderr",
     "output_type": "stream",
     "text": [
      "epoch 21 - train: 157it [00:02, 56.22it/s]"
     ]
    },
    {
     "name": "stdout",
     "output_type": "stream",
     "text": [
      "- batch loss and accuracy : 0.7352972\t0.6667\n",
      "- batch loss and accuracy : 0.9724774\t0.3333\n",
      "- batch loss and accuracy : 0.4412743\t1.0000\n",
      "- batch loss and accuracy : 0.9963011\t0.0000\n",
      "- batch loss and accuracy : 0.6085511\t0.6667\n",
      "- batch loss and accuracy : 0.9092671\t0.0000\n",
      "- batch loss and accuracy : 0.5418839\t1.0000\n"
     ]
    },
    {
     "name": "stderr",
     "output_type": "stream",
     "text": [
      "epoch 21 - train: 163it [00:02, 55.89it/s]"
     ]
    },
    {
     "name": "stdout",
     "output_type": "stream",
     "text": [
      "- batch loss and accuracy : 0.9422002\t0.3333\n",
      "- batch loss and accuracy : 0.6019987\t1.0000\n",
      "- batch loss and accuracy : 0.3173508\t1.0000\n",
      "- batch loss and accuracy : 1.2623647\t0.0000\n"
     ]
    },
    {
     "name": "stderr",
     "output_type": "stream",
     "text": [
      "epoch 21 - train: 169it [00:02, 56.03it/s]"
     ]
    },
    {
     "name": "stdout",
     "output_type": "stream",
     "text": [
      "- batch loss and accuracy : 1.4881856\t0.0000\n",
      "- batch loss and accuracy : 0.2948121\t1.0000\n",
      "- batch loss and accuracy : 0.3862967\t1.0000\n",
      "- batch loss and accuracy : 0.3866389\t1.0000\n",
      "- batch loss and accuracy : 1.6326220\t0.0000\n",
      "- batch loss and accuracy : 0.3270240\t1.0000\n",
      "- batch loss and accuracy : 0.3401462\t1.0000\n",
      "- batch loss and accuracy : 1.5487641\t0.0000\n"
     ]
    },
    {
     "name": "stderr",
     "output_type": "stream",
     "text": [
      "epoch 21 - train: 175it [00:02, 55.91it/s]"
     ]
    },
    {
     "name": "stdout",
     "output_type": "stream",
     "text": [
      "- batch loss and accuracy : 0.4644892\t0.6667\n",
      "- batch loss and accuracy : 0.5755254\t0.6667\n",
      "- batch loss and accuracy : 0.3169219\t1.0000\n",
      "- batch loss and accuracy : 0.3613879\t1.0000\n"
     ]
    },
    {
     "name": "stderr",
     "output_type": "stream",
     "text": [
      "epoch 21 - train: 181it [00:02, 56.05it/s]"
     ]
    },
    {
     "name": "stdout",
     "output_type": "stream",
     "text": [
      "- batch loss and accuracy : 0.3070283\t1.0000\n",
      "- batch loss and accuracy : 0.3251449\t1.0000\n",
      "- batch loss and accuracy : 0.1257769\t1.0000\n",
      "- batch loss and accuracy : 0.1778623\t1.0000\n",
      "- batch loss and accuracy : 0.0567490\t1.0000\n",
      "- batch loss and accuracy : 0.0375456\t1.0000\n",
      "- batch loss and accuracy : 3.9446602\t0.0000\n",
      "- batch loss and accuracy : 0.0508349\t1.0000\n"
     ]
    },
    {
     "name": "stderr",
     "output_type": "stream",
     "text": [
      "epoch 21 - train: 187it [00:03, 56.69it/s]"
     ]
    },
    {
     "name": "stdout",
     "output_type": "stream",
     "text": [
      "- batch loss and accuracy : 0.0360070\t1.0000\n",
      "- batch loss and accuracy : 3.4355330\t0.0000\n",
      "- batch loss and accuracy : 0.0552523\t1.0000\n",
      "- batch loss and accuracy : 0.0576167\t1.0000\n"
     ]
    },
    {
     "name": "stderr",
     "output_type": "stream",
     "text": [
      "epoch 21 - train: 193it [00:03, 52.83it/s]"
     ]
    },
    {
     "name": "stdout",
     "output_type": "stream",
     "text": [
      "- batch loss and accuracy : 0.0797859\t1.0000\n",
      "- batch loss and accuracy : 2.1944523\t0.0000\n",
      "- batch loss and accuracy : 0.1278323\t1.0000\n",
      "- batch loss and accuracy : 0.1720342\t1.0000\n",
      "- batch loss and accuracy : 0.3357632\t1.0000\n",
      "- batch loss and accuracy : 0.3021267\t1.0000\n",
      "- batch loss and accuracy : 1.2755938\t0.0000\n",
      "- batch loss and accuracy : 0.3116490\t1.0000\n",
      "- batch loss and accuracy : 0.7437834\t0.3333\n",
      "- batch loss and accuracy : 0.6219930\t0.6667\n",
      "- batch loss and accuracy : 0.5370065\t0.6667\n"
     ]
    },
    {
     "name": "stderr",
     "output_type": "stream",
     "text": [
      "epoch 21 - train: 205it [00:03, 55.25it/s]"
     ]
    },
    {
     "name": "stdout",
     "output_type": "stream",
     "text": [
      "- batch loss and accuracy : 0.8706845\t0.3333\n",
      "- batch loss and accuracy : 0.5997269\t0.6667\n",
      "- batch loss and accuracy : 0.4109519\t1.0000\n",
      "- batch loss and accuracy : 0.2855055\t1.0000\n",
      "- batch loss and accuracy : 0.2703227\t1.0000\n",
      "- batch loss and accuracy : 1.9615307\t0.0000\n",
      "- batch loss and accuracy : 0.1613773\t1.0000\n",
      "- batch loss and accuracy : 0.0788727\t1.0000\n",
      "- batch loss and accuracy : 0.1013015\t1.0000\n",
      "- batch loss and accuracy : 0.0587907\t1.0000\n",
      "- batch loss and accuracy : 0.0456955\t1.0000\n",
      "- batch loss and accuracy : 0.0480547\t1.0000\n",
      "- batch loss and accuracy : 0.0306201\t1.0000\n"
     ]
    },
    {
     "name": "stderr",
     "output_type": "stream",
     "text": [
      "epoch 21 - train: 218it [00:03, 56.71it/s]"
     ]
    },
    {
     "name": "stdout",
     "output_type": "stream",
     "text": [
      "- batch loss and accuracy : 0.0242713\t1.0000\n",
      "- batch loss and accuracy : 3.4254844\t0.0000\n",
      "- batch loss and accuracy : 3.8135889\t0.0000\n",
      "- batch loss and accuracy : 0.0704704\t1.0000\n",
      "- batch loss and accuracy : 0.1274840\t1.0000\n",
      "- batch loss and accuracy : 0.1044409\t1.0000\n",
      "- batch loss and accuracy : 2.2589331\t0.0000\n",
      "- batch loss and accuracy : 0.3511487\t1.0000\n",
      "- batch loss and accuracy : 0.2945457\t1.0000\n",
      "- batch loss and accuracy : 0.8332307\t0.3333\n",
      "- batch loss and accuracy : 0.6831583\t0.6667\n"
     ]
    },
    {
     "name": "stderr",
     "output_type": "stream",
     "text": [
      "epoch 21 - train: 224it [00:03, 53.44it/s]"
     ]
    },
    {
     "name": "stdout",
     "output_type": "stream",
     "text": [
      "- batch loss and accuracy : 0.8987335\t0.3333\n",
      "- batch loss and accuracy : 0.6407783\t0.6667\n",
      "- batch loss and accuracy : 0.8268852\t0.3333\n",
      "- batch loss and accuracy : 0.6534457\t0.3333\n",
      "- batch loss and accuracy : 0.6058365\t0.6667\n",
      "- batch loss and accuracy : 0.6792895\t0.3333\n",
      "- batch loss and accuracy : 0.3390238\t1.0000\n"
     ]
    },
    {
     "name": "stderr",
     "output_type": "stream",
     "text": [
      "epoch 21 - train: 230it [00:03, 54.20it/s]"
     ]
    },
    {
     "name": "stdout",
     "output_type": "stream",
     "text": [
      "- batch loss and accuracy : 0.3580913\t1.0000\n",
      "- batch loss and accuracy : 0.2668074\t1.0000\n",
      "- batch loss and accuracy : 2.3290498\t0.0000\n",
      "- batch loss and accuracy : 0.1139935\t1.0000\n",
      "- batch loss and accuracy : 0.0873683\t1.0000\n"
     ]
    },
    {
     "name": "stderr",
     "output_type": "stream",
     "text": [
      "epoch 21 - train: 236it [00:03, 54.68it/s]"
     ]
    },
    {
     "name": "stdout",
     "output_type": "stream",
     "text": [
      "- batch loss and accuracy : 0.0810358\t1.0000\n",
      "- batch loss and accuracy : 0.0613529\t1.0000\n",
      "- batch loss and accuracy : 0.0505732\t1.0000\n",
      "- batch loss and accuracy : 0.0344660\t1.0000\n",
      "- batch loss and accuracy : 0.0416236\t1.0000\n",
      "- batch loss and accuracy : 4.4568071\t0.0000\n",
      "- batch loss and accuracy : 0.0214145\t1.0000\n"
     ]
    },
    {
     "name": "stderr",
     "output_type": "stream",
     "text": [
      "epoch 21 - train: 242it [00:04, 55.64it/s]"
     ]
    },
    {
     "name": "stdout",
     "output_type": "stream",
     "text": [
      "- batch loss and accuracy : 3.1186061\t0.0000\n",
      "- batch loss and accuracy : 0.0480648\t1.0000\n",
      "- batch loss and accuracy : 2.5534112\t0.0000\n",
      "- batch loss and accuracy : 2.0225706\t0.0000\n",
      "- batch loss and accuracy : 0.5228429\t0.6667\n",
      "- batch loss and accuracy : 0.5292034\t0.6667\n"
     ]
    },
    {
     "name": "stderr",
     "output_type": "stream",
     "text": [
      "epoch 21 - train: 249it [00:04, 59.12it/s]\n"
     ]
    },
    {
     "name": "stdout",
     "output_type": "stream",
     "text": [
      "- batch loss and accuracy : 0.5703558\t0.6667\n",
      "- batch loss and accuracy : 0.5797822\t0.6667\n"
     ]
    },
    {
     "name": "stderr",
     "output_type": "stream",
     "text": [
      "epoch 21 - validation: 100%|██████████| 63/63 [00:00<00:00, 76.61it/s]"
     ]
    },
    {
     "name": "stdout",
     "output_type": "stream",
     "text": [
      "Validation loss and accuracy : 0.9984782\t0.3333\n",
      "EPOCH 22\n"
     ]
    },
    {
     "name": "stderr",
     "output_type": "stream",
     "text": [
      "\n",
      "epoch 22 - train: 3it [00:00, 28.64it/s]"
     ]
    },
    {
     "name": "stdout",
     "output_type": "stream",
     "text": [
      "- batch loss and accuracy : 1.1174028\t0.0000\n",
      "- batch loss and accuracy : 0.3711626\t1.0000\n",
      "- batch loss and accuracy : 1.3432407\t0.0000\n",
      "- batch loss and accuracy : 1.5713649\t0.0000\n",
      "- batch loss and accuracy : 1.1649302\t0.0000\n",
      "- batch loss and accuracy : 0.4930308\t1.0000\n",
      "- batch loss and accuracy : 0.8194113\t0.3333\n",
      "- batch loss and accuracy : 0.7703699\t0.3333\n"
     ]
    },
    {
     "name": "stderr",
     "output_type": "stream",
     "text": [
      "epoch 22 - train: 11it [00:00, 56.11it/s]"
     ]
    },
    {
     "name": "stdout",
     "output_type": "stream",
     "text": [
      "- batch loss and accuracy : 0.5432640\t1.0000\n",
      "- batch loss and accuracy : 1.4370079\t0.0000\n",
      "- batch loss and accuracy : 0.2626373\t1.0000\n",
      "- batch loss and accuracy : 0.2357453\t1.0000\n",
      "- batch loss and accuracy : 0.2700934\t1.0000\n",
      "- batch loss and accuracy : 0.1162032\t1.0000\n",
      "- batch loss and accuracy : 2.6971567\t0.0000\n",
      "- batch loss and accuracy : 0.2115941\t1.0000\n"
     ]
    },
    {
     "name": "stderr",
     "output_type": "stream",
     "text": [
      "epoch 22 - train: 18it [00:00, 60.39it/s]"
     ]
    },
    {
     "name": "stdout",
     "output_type": "stream",
     "text": [
      "- batch loss and accuracy : 0.1732557\t1.0000\n",
      "- batch loss and accuracy : 0.2009875\t1.0000\n",
      "- batch loss and accuracy : 0.1652848\t1.0000\n",
      "- batch loss and accuracy : 0.1869929\t1.0000\n",
      "- batch loss and accuracy : 0.1420252\t1.0000\n",
      "- batch loss and accuracy : 0.0722679\t1.0000\n",
      "- batch loss and accuracy : 0.0637771\t1.0000\n"
     ]
    },
    {
     "name": "stderr",
     "output_type": "stream",
     "text": [
      "epoch 22 - train: 26it [00:00, 67.15it/s]"
     ]
    },
    {
     "name": "stdout",
     "output_type": "stream",
     "text": [
      "- batch loss and accuracy : 0.0570570\t1.0000\n",
      "- batch loss and accuracy : 0.0361677\t1.0000\n",
      "- batch loss and accuracy : 0.0272095\t1.0000\n",
      "- batch loss and accuracy : 4.1691332\t0.0000\n",
      "- batch loss and accuracy : 0.0258481\t1.0000\n",
      "- batch loss and accuracy : 2.9592597\t0.0000\n",
      "- batch loss and accuracy : 2.7272124\t0.0000\n"
     ]
    },
    {
     "name": "stderr",
     "output_type": "stream",
     "text": [
      "epoch 22 - train: 33it [00:00, 62.21it/s]"
     ]
    },
    {
     "name": "stdout",
     "output_type": "stream",
     "text": [
      "- batch loss and accuracy : 2.1501300\t0.0000\n",
      "- batch loss and accuracy : 0.2949014\t1.0000\n",
      "- batch loss and accuracy : 0.9034502\t0.3333\n",
      "- batch loss and accuracy : 0.8169866\t0.6667\n",
      "- batch loss and accuracy : 0.3513785\t1.0000\n",
      "- batch loss and accuracy : 2.3075986\t0.0000\n",
      "- batch loss and accuracy : 1.9907751\t0.0000\n"
     ]
    },
    {
     "name": "stderr",
     "output_type": "stream",
     "text": [
      "epoch 22 - train: 41it [00:00, 64.67it/s]"
     ]
    },
    {
     "name": "stdout",
     "output_type": "stream",
     "text": [
      "- batch loss and accuracy : 0.0799301\t1.0000\n",
      "- batch loss and accuracy : 2.2134941\t0.0000\n",
      "- batch loss and accuracy : 1.7769287\t0.0000\n",
      "- batch loss and accuracy : 1.5405951\t0.0000\n",
      "- batch loss and accuracy : 0.6530218\t0.6667\n",
      "- batch loss and accuracy : 0.9780084\t0.0000\n",
      "- batch loss and accuracy : 0.2971391\t1.0000\n"
     ]
    },
    {
     "name": "stderr",
     "output_type": "stream",
     "text": [
      "epoch 22 - train: 48it [00:00, 63.43it/s]"
     ]
    },
    {
     "name": "stdout",
     "output_type": "stream",
     "text": [
      "- batch loss and accuracy : 0.2574640\t1.0000\n",
      "- batch loss and accuracy : 2.4208579\t0.0000\n",
      "- batch loss and accuracy : 2.7197723\t0.0000\n",
      "- batch loss and accuracy : 3.0541120\t0.0000\n",
      "- batch loss and accuracy : 0.1228144\t1.0000\n",
      "- batch loss and accuracy : 1.9716516\t0.0000\n"
     ]
    },
    {
     "name": "stderr",
     "output_type": "stream",
     "text": [
      "epoch 22 - train: 56it [00:00, 66.21it/s]"
     ]
    },
    {
     "name": "stdout",
     "output_type": "stream",
     "text": [
      "- batch loss and accuracy : 1.0115709\t0.0000\n",
      "- batch loss and accuracy : 0.9426818\t0.0000\n",
      "- batch loss and accuracy : 0.8925388\t0.3333\n",
      "- batch loss and accuracy : 1.2969979\t0.0000\n",
      "- batch loss and accuracy : 2.1626854\t0.0000\n",
      "- batch loss and accuracy : 2.8020635\t0.0000\n",
      "- batch loss and accuracy : 0.1081149\t1.0000\n",
      "- batch loss and accuracy : 2.4102499\t0.0000\n"
     ]
    },
    {
     "name": "stderr",
     "output_type": "stream",
     "text": [
      "epoch 22 - train: 63it [00:01, 64.45it/s]"
     ]
    },
    {
     "name": "stdout",
     "output_type": "stream",
     "text": [
      "- batch loss and accuracy : 0.1420997\t1.0000\n",
      "- batch loss and accuracy : 2.0973196\t0.0000\n",
      "- batch loss and accuracy : 1.8428268\t0.0000\n",
      "- batch loss and accuracy : 0.9794030\t0.0000\n",
      "- batch loss and accuracy : 1.1767805\t0.0000\n",
      "- batch loss and accuracy : 1.7731314\t0.0000\n"
     ]
    },
    {
     "name": "stderr",
     "output_type": "stream",
     "text": [
      "epoch 22 - train: 71it [00:01, 67.27it/s]"
     ]
    },
    {
     "name": "stdout",
     "output_type": "stream",
     "text": [
      "- batch loss and accuracy : 0.2813618\t1.0000\n",
      "- batch loss and accuracy : 0.1326595\t1.0000\n",
      "- batch loss and accuracy : 2.0087440\t0.0000\n",
      "- batch loss and accuracy : 0.1641677\t1.0000\n",
      "- batch loss and accuracy : 0.1355723\t1.0000\n",
      "- batch loss and accuracy : 2.3633964\t0.0000\n",
      "- batch loss and accuracy : 0.1752007\t1.0000\n"
     ]
    },
    {
     "name": "stderr",
     "output_type": "stream",
     "text": [
      "epoch 22 - train: 78it [00:01, 67.81it/s]"
     ]
    },
    {
     "name": "stdout",
     "output_type": "stream",
     "text": [
      "- batch loss and accuracy : 0.2412584\t1.0000\n",
      "- batch loss and accuracy : 0.1761895\t1.0000\n",
      "- batch loss and accuracy : 0.1310649\t1.0000\n",
      "- batch loss and accuracy : 0.1833067\t1.0000\n",
      "- batch loss and accuracy : 2.0850172\t0.0000\n",
      "- batch loss and accuracy : 0.1159742\t1.0000\n",
      "- batch loss and accuracy : 1.7609800\t0.0000\n",
      "- batch loss and accuracy : 1.5793766\t0.0000\n"
     ]
    },
    {
     "name": "stderr",
     "output_type": "stream",
     "text": [
      "epoch 22 - train: 85it [00:01, 66.43it/s]"
     ]
    },
    {
     "name": "stdout",
     "output_type": "stream",
     "text": [
      "- batch loss and accuracy : 0.3702648\t1.0000\n",
      "- batch loss and accuracy : 0.7652841\t0.6667\n",
      "- batch loss and accuracy : 1.2079456\t0.0000\n",
      "- batch loss and accuracy : 0.3451657\t1.0000\n",
      "- batch loss and accuracy : 1.1234412\t0.0000\n",
      "- batch loss and accuracy : 1.5039705\t0.0000\n",
      "- batch loss and accuracy : 1.4255564\t0.0000\n",
      "- batch loss and accuracy : 1.0188226\t0.3333\n",
      "- batch loss and accuracy : 0.4833302\t0.6667\n",
      "- batch loss and accuracy : 0.5714422\t0.6667\n",
      "- batch loss and accuracy : 1.2114500\t0.3333\n",
      "- batch loss and accuracy : 0.4101517\t1.0000\n"
     ]
    },
    {
     "name": "stderr",
     "output_type": "stream",
     "text": [
      "epoch 22 - train: 92it [00:01, 62.40it/s]"
     ]
    },
    {
     "name": "stdout",
     "output_type": "stream",
     "text": [
      "- batch loss and accuracy : 0.3392885\t1.0000\n",
      "- batch loss and accuracy : 0.1445736\t1.0000\n",
      "- batch loss and accuracy : 2.4098229\t0.0000\n",
      "- batch loss and accuracy : 2.9497325\t0.0000\n",
      "- batch loss and accuracy : 0.1613889\t1.0000\n",
      "- batch loss and accuracy : 2.0188591\t0.0000\n"
     ]
    },
    {
     "name": "stderr",
     "output_type": "stream",
     "text": [
      "epoch 22 - train: 99it [00:01, 61.72it/s]"
     ]
    },
    {
     "name": "stdout",
     "output_type": "stream",
     "text": [
      "- batch loss and accuracy : 0.1633381\t1.0000\n",
      "- batch loss and accuracy : 1.0899971\t0.0000\n",
      "- batch loss and accuracy : 0.8440942\t0.0000\n",
      "- batch loss and accuracy : 1.0455531\t0.3333\n",
      "- batch loss and accuracy : 1.3332243\t0.0000\n",
      "- batch loss and accuracy : 1.5530542\t0.0000\n",
      "- batch loss and accuracy : 1.9357369\t0.0000\n"
     ]
    },
    {
     "name": "stderr",
     "output_type": "stream",
     "text": [
      "epoch 22 - train: 106it [00:01, 62.47it/s]"
     ]
    },
    {
     "name": "stdout",
     "output_type": "stream",
     "text": [
      "- batch loss and accuracy : 0.7834393\t0.6667\n",
      "- batch loss and accuracy : 0.7526220\t0.3333\n",
      "- batch loss and accuracy : 0.4283993\t0.6667\n",
      "- batch loss and accuracy : 0.2062748\t1.0000\n",
      "- batch loss and accuracy : 0.1209870\t1.0000\n",
      "- batch loss and accuracy : 0.0455196\t1.0000\n"
     ]
    },
    {
     "name": "stderr",
     "output_type": "stream",
     "text": [
      "epoch 22 - train: 113it [00:01, 63.71it/s]"
     ]
    },
    {
     "name": "stdout",
     "output_type": "stream",
     "text": [
      "- batch loss and accuracy : 3.9003081\t0.0000\n",
      "- batch loss and accuracy : 4.0888457\t0.0000\n",
      "- batch loss and accuracy : 0.0222496\t1.0000\n",
      "- batch loss and accuracy : 0.0253767\t1.0000\n",
      "- batch loss and accuracy : 0.0268338\t1.0000\n",
      "- batch loss and accuracy : 0.0491795\t1.0000\n"
     ]
    },
    {
     "name": "stderr",
     "output_type": "stream",
     "text": [
      "epoch 22 - train: 120it [00:01, 59.67it/s]"
     ]
    },
    {
     "name": "stdout",
     "output_type": "stream",
     "text": [
      "- batch loss and accuracy : 3.8487906\t0.0000\n",
      "- batch loss and accuracy : 0.0486179\t1.0000\n",
      "- batch loss and accuracy : 0.1217173\t1.0000\n",
      "- batch loss and accuracy : 0.0782901\t1.0000\n",
      "- batch loss and accuracy : 2.4166675\t0.0000\n",
      "- batch loss and accuracy : 0.1613517\t1.0000\n"
     ]
    },
    {
     "name": "stderr",
     "output_type": "stream",
     "text": [
      "epoch 22 - train: 127it [00:02, 61.83it/s]"
     ]
    },
    {
     "name": "stdout",
     "output_type": "stream",
     "text": [
      "- batch loss and accuracy : 0.1976249\t1.0000\n",
      "- batch loss and accuracy : 0.2700896\t1.0000\n",
      "- batch loss and accuracy : 0.2930130\t1.0000\n",
      "- batch loss and accuracy : 1.1299350\t0.0000\n",
      "- batch loss and accuracy : 1.3489313\t0.0000\n",
      "- batch loss and accuracy : 0.7244667\t0.6667\n",
      "- batch loss and accuracy : 1.2205747\t0.3333\n",
      "- batch loss and accuracy : 1.5913334\t0.0000\n",
      "- batch loss and accuracy : 1.6106784\t0.0000\n"
     ]
    },
    {
     "name": "stderr",
     "output_type": "stream",
     "text": [
      "epoch 22 - train: 135it [00:02, 64.61it/s]"
     ]
    },
    {
     "name": "stdout",
     "output_type": "stream",
     "text": [
      "- batch loss and accuracy : 1.4909918\t0.0000\n",
      "- batch loss and accuracy : 1.1436791\t0.3333\n",
      "- batch loss and accuracy : 0.5598933\t1.0000\n",
      "- batch loss and accuracy : 1.3851446\t0.0000\n",
      "- batch loss and accuracy : 2.1319661\t0.0000\n",
      "- batch loss and accuracy : 0.2214071\t1.0000\n"
     ]
    },
    {
     "name": "stderr",
     "output_type": "stream",
     "text": [
      "epoch 22 - train: 142it [00:02, 62.23it/s]"
     ]
    },
    {
     "name": "stdout",
     "output_type": "stream",
     "text": [
      "- batch loss and accuracy : 0.1569709\t1.0000\n",
      "- batch loss and accuracy : 0.1608782\t1.0000\n",
      "- batch loss and accuracy : 0.0770842\t1.0000\n",
      "- batch loss and accuracy : 2.3745663\t0.0000\n",
      "- batch loss and accuracy : 0.1261310\t1.0000\n",
      "- batch loss and accuracy : 0.2428568\t1.0000\n",
      "- batch loss and accuracy : 0.0922959\t1.0000\n"
     ]
    },
    {
     "name": "stderr",
     "output_type": "stream",
     "text": [
      "epoch 22 - train: 149it [00:02, 62.08it/s]"
     ]
    },
    {
     "name": "stdout",
     "output_type": "stream",
     "text": [
      "- batch loss and accuracy : 2.2107391\t0.0000\n",
      "- batch loss and accuracy : 1.9443917\t0.0000\n",
      "- batch loss and accuracy : 1.3843963\t0.0000\n",
      "- batch loss and accuracy : 0.7400076\t0.3333\n",
      "- batch loss and accuracy : 1.0313084\t0.0000\n",
      "- batch loss and accuracy : 1.0976183\t0.3333\n"
     ]
    },
    {
     "name": "stderr",
     "output_type": "stream",
     "text": [
      "epoch 22 - train: 156it [00:02, 62.83it/s]"
     ]
    },
    {
     "name": "stdout",
     "output_type": "stream",
     "text": [
      "- batch loss and accuracy : 0.3635439\t1.0000\n",
      "- batch loss and accuracy : 1.9286798\t0.0000\n",
      "- batch loss and accuracy : 0.1602252\t1.0000\n",
      "- batch loss and accuracy : 2.2553346\t0.0000\n",
      "- batch loss and accuracy : 1.7262567\t0.0000\n",
      "- batch loss and accuracy : 0.3822865\t1.0000\n",
      "- batch loss and accuracy : 0.5804725\t0.6667\n",
      "- batch loss and accuracy : 1.0496759\t0.3333\n",
      "- batch loss and accuracy : 0.7032226\t0.6667\n",
      "- batch loss and accuracy : 1.1644009\t0.3333\n",
      "- batch loss and accuracy : 0.3866720\t1.0000\n",
      "- batch loss and accuracy : 1.7242626\t0.0000\n",
      "- batch loss and accuracy : 0.3364999\t1.0000\n"
     ]
    },
    {
     "name": "stderr",
     "output_type": "stream",
     "text": [
      "epoch 22 - train: 163it [00:02, 59.77it/s]"
     ]
    },
    {
     "name": "stdout",
     "output_type": "stream",
     "text": [
      "- batch loss and accuracy : 0.2659167\t1.0000\n",
      "- batch loss and accuracy : 0.1911776\t1.0000\n",
      "- batch loss and accuracy : 0.2283056\t1.0000\n",
      "- batch loss and accuracy : 1.9967588\t0.0000\n",
      "- batch loss and accuracy : 0.1431302\t1.0000\n",
      "- batch loss and accuracy : 0.3529098\t0.6667\n"
     ]
    },
    {
     "name": "stderr",
     "output_type": "stream",
     "text": [
      "epoch 22 - train: 177it [00:02, 62.69it/s]"
     ]
    },
    {
     "name": "stdout",
     "output_type": "stream",
     "text": [
      "- batch loss and accuracy : 0.2560725\t1.0000\n",
      "- batch loss and accuracy : 0.1155556\t1.0000\n",
      "- batch loss and accuracy : 2.1263170\t0.0000\n",
      "- batch loss and accuracy : 1.8857507\t0.0000\n",
      "- batch loss and accuracy : 0.2001987\t1.0000\n",
      "- batch loss and accuracy : 0.2169885\t1.0000\n",
      "- batch loss and accuracy : 0.3546939\t1.0000\n",
      "- batch loss and accuracy : 0.3169865\t1.0000\n",
      "- batch loss and accuracy : 0.3871924\t1.0000\n",
      "- batch loss and accuracy : 0.4631782\t0.6667\n",
      "- batch loss and accuracy : 0.3242562\t1.0000\n",
      "- batch loss and accuracy : 0.2148582\t1.0000\n",
      "- batch loss and accuracy : 0.1378732\t1.0000\n",
      "- batch loss and accuracy : 0.1212131\t1.0000\n"
     ]
    },
    {
     "name": "stderr",
     "output_type": "stream",
     "text": [
      "epoch 22 - train: 191it [00:03, 64.45it/s]"
     ]
    },
    {
     "name": "stdout",
     "output_type": "stream",
     "text": [
      "- batch loss and accuracy : 0.0831675\t1.0000\n",
      "- batch loss and accuracy : 0.0397626\t1.0000\n",
      "- batch loss and accuracy : 0.0385581\t1.0000\n",
      "- batch loss and accuracy : 0.0226786\t1.0000\n",
      "- batch loss and accuracy : 4.0817480\t0.0000\n",
      "- batch loss and accuracy : 0.0189153\t1.0000\n",
      "- batch loss and accuracy : 0.0400707\t1.0000\n",
      "- batch loss and accuracy : 0.0282746\t1.0000\n",
      "- batch loss and accuracy : 0.0392985\t1.0000\n",
      "- batch loss and accuracy : 0.0315114\t1.0000\n",
      "- batch loss and accuracy : 3.4671783\t0.0000\n",
      "- batch loss and accuracy : 0.0401647\t1.0000\n",
      "- batch loss and accuracy : 0.0610746\t1.0000\n",
      "- batch loss and accuracy : 0.0804544\t1.0000\n",
      "- batch loss and accuracy : 0.0970562\t1.0000\n"
     ]
    },
    {
     "name": "stderr",
     "output_type": "stream",
     "text": [
      "epoch 22 - train: 199it [00:03, 67.03it/s]"
     ]
    },
    {
     "name": "stdout",
     "output_type": "stream",
     "text": [
      "- batch loss and accuracy : 0.0985615\t1.0000\n",
      "- batch loss and accuracy : 0.1421431\t1.0000\n",
      "- batch loss and accuracy : 0.1826885\t1.0000\n",
      "- batch loss and accuracy : 0.1314061\t1.0000\n",
      "- batch loss and accuracy : 0.1004075\t1.0000\n",
      "- batch loss and accuracy : 0.1288688\t1.0000\n",
      "- batch loss and accuracy : 2.6953974\t0.0000\n",
      "- batch loss and accuracy : 0.1151723\t1.0000\n"
     ]
    },
    {
     "name": "stderr",
     "output_type": "stream",
     "text": [
      "epoch 22 - train: 206it [00:03, 66.53it/s]"
     ]
    },
    {
     "name": "stdout",
     "output_type": "stream",
     "text": [
      "- batch loss and accuracy : 0.1141503\t1.0000\n",
      "- batch loss and accuracy : 1.9991210\t0.0000\n",
      "- batch loss and accuracy : 1.8994210\t0.0000\n",
      "- batch loss and accuracy : 0.3860393\t1.0000\n",
      "- batch loss and accuracy : 0.4774550\t1.0000\n",
      "- batch loss and accuracy : 0.4948829\t1.0000\n"
     ]
    },
    {
     "name": "stderr",
     "output_type": "stream",
     "text": [
      "epoch 22 - train: 213it [00:03, 64.96it/s]"
     ]
    },
    {
     "name": "stdout",
     "output_type": "stream",
     "text": [
      "- batch loss and accuracy : 0.5703523\t0.6667\n",
      "- batch loss and accuracy : 0.8993391\t0.3333\n",
      "- batch loss and accuracy : 1.0333904\t0.3333\n",
      "- batch loss and accuracy : 0.6873707\t0.6667\n",
      "- batch loss and accuracy : 0.7780272\t0.3333\n",
      "- batch loss and accuracy : 0.8209062\t0.3333\n",
      "- batch loss and accuracy : 0.8522776\t0.3333\n"
     ]
    },
    {
     "name": "stderr",
     "output_type": "stream",
     "text": [
      "epoch 22 - train: 220it [00:03, 61.94it/s]"
     ]
    },
    {
     "name": "stdout",
     "output_type": "stream",
     "text": [
      "- batch loss and accuracy : 0.4299451\t1.0000\n",
      "- batch loss and accuracy : 1.3911264\t0.0000\n",
      "- batch loss and accuracy : 0.3196726\t1.0000\n",
      "- batch loss and accuracy : 0.2898577\t1.0000\n",
      "- batch loss and accuracy : 0.2849848\t1.0000\n"
     ]
    },
    {
     "name": "stderr",
     "output_type": "stream",
     "text": [
      "epoch 22 - train: 227it [00:03, 58.56it/s]"
     ]
    },
    {
     "name": "stdout",
     "output_type": "stream",
     "text": [
      "- batch loss and accuracy : 0.3358478\t1.0000\n",
      "- batch loss and accuracy : 0.3055727\t1.0000\n",
      "- batch loss and accuracy : 0.2193213\t1.0000\n",
      "- batch loss and accuracy : 0.1737738\t1.0000\n",
      "- batch loss and accuracy : 0.1185602\t1.0000\n",
      "- batch loss and accuracy : 0.0658371\t1.0000\n"
     ]
    },
    {
     "name": "stderr",
     "output_type": "stream",
     "text": [
      "epoch 22 - train: 233it [00:03, 58.36it/s]"
     ]
    },
    {
     "name": "stdout",
     "output_type": "stream",
     "text": [
      "- batch loss and accuracy : 3.2168853\t0.0000\n",
      "- batch loss and accuracy : 0.0511311\t1.0000\n",
      "- batch loss and accuracy : 0.0480423\t1.0000\n",
      "- batch loss and accuracy : 0.0381002\t1.0000\n",
      "- batch loss and accuracy : 0.0360032\t1.0000\n",
      "- batch loss and accuracy : 0.0663154\t1.0000\n"
     ]
    },
    {
     "name": "stderr",
     "output_type": "stream",
     "text": [
      "epoch 22 - train: 240it [00:03, 59.13it/s]"
     ]
    },
    {
     "name": "stdout",
     "output_type": "stream",
     "text": [
      "- batch loss and accuracy : 0.0284691\t1.0000\n",
      "- batch loss and accuracy : 0.0287261\t1.0000\n",
      "- batch loss and accuracy : 3.1155620\t0.0000\n",
      "- batch loss and accuracy : 3.1874957\t0.0000\n",
      "- batch loss and accuracy : 0.0814397\t1.0000\n",
      "- batch loss and accuracy : 0.1070837\t1.0000\n",
      "- batch loss and accuracy : 1.5483015\t0.0000\n"
     ]
    },
    {
     "name": "stderr",
     "output_type": "stream",
     "text": [
      "epoch 22 - train: 247it [00:03, 59.80it/s]"
     ]
    },
    {
     "name": "stdout",
     "output_type": "stream",
     "text": [
      "- batch loss and accuracy : 0.3634080\t1.0000\n",
      "- batch loss and accuracy : 0.4157821\t1.0000\n",
      "- batch loss and accuracy : 0.6730615\t0.6667\n",
      "- batch loss and accuracy : 0.7780350\t0.3333\n",
      "- batch loss and accuracy : 0.5805273\t0.6667\n",
      "- batch loss and accuracy : 0.6748570\t0.6667\n"
     ]
    },
    {
     "name": "stderr",
     "output_type": "stream",
     "text": [
      "epoch 22 - train: 249it [00:04, 61.98it/s]\n",
      "epoch 22 - validation: 100%|██████████| 63/63 [00:00<00:00, 74.81it/s]"
     ]
    },
    {
     "name": "stdout",
     "output_type": "stream",
     "text": [
      "Validation loss and accuracy : 0.7221326\t0.5397\n",
      "EPOCH 23\n"
     ]
    },
    {
     "name": "stderr",
     "output_type": "stream",
     "text": [
      "\n",
      "epoch 23 - train: 1it [00:00,  8.54it/s]"
     ]
    },
    {
     "name": "stdout",
     "output_type": "stream",
     "text": [
      "- batch loss and accuracy : 0.6950846\t0.3333\n",
      "- batch loss and accuracy : 0.9079263\t0.0000\n",
      "- batch loss and accuracy : 0.8943757\t0.0000\n",
      "- batch loss and accuracy : 0.6429814\t0.6667\n",
      "- batch loss and accuracy : 0.6196593\t0.6667\n"
     ]
    },
    {
     "name": "stderr",
     "output_type": "stream",
     "text": [
      "epoch 23 - train: 9it [00:00, 44.57it/s]"
     ]
    },
    {
     "name": "stdout",
     "output_type": "stream",
     "text": [
      "- batch loss and accuracy : 0.6327803\t0.3333\n",
      "- batch loss and accuracy : 0.6895164\t0.6667\n",
      "- batch loss and accuracy : 0.6870715\t0.3333\n",
      "- batch loss and accuracy : 0.5637345\t0.6667\n",
      "- batch loss and accuracy : 0.4153160\t1.0000\n",
      "- batch loss and accuracy : 0.6061451\t1.0000\n",
      "- batch loss and accuracy : 0.3808758\t1.0000\n",
      "- batch loss and accuracy : 0.2432936\t1.0000\n",
      "- batch loss and accuracy : 1.9000000\t0.0000\n"
     ]
    },
    {
     "name": "stderr",
     "output_type": "stream",
     "text": [
      "epoch 23 - train: 16it [00:00, 55.00it/s]"
     ]
    },
    {
     "name": "stdout",
     "output_type": "stream",
     "text": [
      "- batch loss and accuracy : 0.1214851\t1.0000\n",
      "- batch loss and accuracy : 2.2679529\t0.0000\n",
      "- batch loss and accuracy : 0.1681599\t1.0000\n",
      "- batch loss and accuracy : 1.7515459\t0.0000\n",
      "- batch loss and accuracy : 0.2518759\t1.0000\n"
     ]
    },
    {
     "name": "stderr",
     "output_type": "stream",
     "text": [
      "epoch 23 - train: 22it [00:00, 56.76it/s]"
     ]
    },
    {
     "name": "stdout",
     "output_type": "stream",
     "text": [
      "- batch loss and accuracy : 1.8308389\t0.0000\n",
      "- batch loss and accuracy : 1.1041415\t0.3333\n",
      "- batch loss and accuracy : 0.5163239\t0.6667\n",
      "- batch loss and accuracy : 0.3028557\t1.0000\n",
      "- batch loss and accuracy : 2.1289372\t0.0000\n",
      "- batch loss and accuracy : 2.6950252\t0.0000\n",
      "- batch loss and accuracy : 3.2236104\t0.0000\n"
     ]
    },
    {
     "name": "stderr",
     "output_type": "stream",
     "text": [
      "epoch 23 - train: 28it [00:00, 56.76it/s]"
     ]
    },
    {
     "name": "stdout",
     "output_type": "stream",
     "text": [
      "- batch loss and accuracy : 0.1098745\t1.0000\n",
      "- batch loss and accuracy : 2.1534302\t0.0000\n",
      "- batch loss and accuracy : 0.3191302\t1.0000\n",
      "- batch loss and accuracy : 0.4535570\t1.0000\n",
      "- batch loss and accuracy : 1.4276383\t0.0000\n"
     ]
    },
    {
     "name": "stderr",
     "output_type": "stream",
     "text": [
      "epoch 23 - train: 34it [00:00, 56.60it/s]"
     ]
    },
    {
     "name": "stdout",
     "output_type": "stream",
     "text": [
      "- batch loss and accuracy : 0.7289061\t0.6667\n",
      "- batch loss and accuracy : 0.5469496\t0.6667\n",
      "- batch loss and accuracy : 0.9668903\t0.3333\n",
      "- batch loss and accuracy : 0.8435227\t0.3333\n",
      "- batch loss and accuracy : 0.4337383\t1.0000\n",
      "- batch loss and accuracy : 0.9337260\t0.0000\n",
      "- batch loss and accuracy : 0.7864470\t0.3333\n"
     ]
    },
    {
     "name": "stderr",
     "output_type": "stream",
     "text": [
      "epoch 23 - train: 41it [00:00, 59.34it/s]"
     ]
    },
    {
     "name": "stdout",
     "output_type": "stream",
     "text": [
      "- batch loss and accuracy : 0.8606853\t0.3333\n",
      "- batch loss and accuracy : 0.6591358\t0.6667\n",
      "- batch loss and accuracy : 0.9557666\t0.0000\n",
      "- batch loss and accuracy : 1.3620733\t0.3333\n",
      "- batch loss and accuracy : 1.1117454\t0.0000\n",
      "- batch loss and accuracy : 1.1680105\t0.0000\n"
     ]
    },
    {
     "name": "stderr",
     "output_type": "stream",
     "text": [
      "epoch 23 - train: 47it [00:00, 58.04it/s]"
     ]
    },
    {
     "name": "stdout",
     "output_type": "stream",
     "text": [
      "- batch loss and accuracy : 0.5057220\t0.6667\n",
      "- batch loss and accuracy : 0.5596826\t0.6667\n",
      "- batch loss and accuracy : 1.0394064\t0.3333\n",
      "- batch loss and accuracy : 0.9483806\t0.0000\n",
      "- batch loss and accuracy : 0.7526845\t0.3333\n",
      "- batch loss and accuracy : 0.9388799\t0.0000\n",
      "- batch loss and accuracy : 0.6088364\t0.6667\n"
     ]
    },
    {
     "name": "stderr",
     "output_type": "stream",
     "text": [
      "epoch 23 - train: 53it [00:00, 58.44it/s]"
     ]
    },
    {
     "name": "stdout",
     "output_type": "stream",
     "text": [
      "- batch loss and accuracy : 0.2000336\t1.0000\n",
      "- batch loss and accuracy : 1.8251171\t0.0000\n",
      "- batch loss and accuracy : 0.1892202\t1.0000\n",
      "- batch loss and accuracy : 0.1584344\t1.0000\n",
      "- batch loss and accuracy : 0.0516280\t1.0000\n"
     ]
    },
    {
     "name": "stderr",
     "output_type": "stream",
     "text": [
      "epoch 23 - train: 60it [00:01, 60.66it/s]"
     ]
    },
    {
     "name": "stdout",
     "output_type": "stream",
     "text": [
      "- batch loss and accuracy : 0.1070424\t1.0000\n",
      "- batch loss and accuracy : 3.3148603\t0.0000\n",
      "- batch loss and accuracy : 0.0653001\t1.0000\n",
      "- batch loss and accuracy : 0.0958162\t1.0000\n",
      "- batch loss and accuracy : 0.0722348\t1.0000\n",
      "- batch loss and accuracy : 2.7930264\t0.0000\n",
      "- batch loss and accuracy : 0.1149128\t1.0000\n",
      "- batch loss and accuracy : 1.7773676\t0.0000\n",
      "- batch loss and accuracy : 0.1547965\t1.0000\n"
     ]
    },
    {
     "name": "stderr",
     "output_type": "stream",
     "text": [
      "epoch 23 - train: 68it [00:01, 64.08it/s]"
     ]
    },
    {
     "name": "stdout",
     "output_type": "stream",
     "text": [
      "- batch loss and accuracy : 0.3024995\t1.0000\n",
      "- batch loss and accuracy : 0.2289209\t1.0000\n",
      "- batch loss and accuracy : 0.2706997\t1.0000\n",
      "- batch loss and accuracy : 1.6159004\t0.0000\n",
      "- batch loss and accuracy : 0.6370873\t0.6667\n"
     ]
    },
    {
     "name": "stderr",
     "output_type": "stream",
     "text": [
      "epoch 23 - train: 75it [00:01, 62.71it/s]"
     ]
    },
    {
     "name": "stdout",
     "output_type": "stream",
     "text": [
      "- batch loss and accuracy : 0.8012787\t0.3333\n",
      "- batch loss and accuracy : 0.7914022\t0.6667\n",
      "- batch loss and accuracy : 0.6133437\t0.6667\n",
      "- batch loss and accuracy : 0.3910978\t1.0000\n",
      "- batch loss and accuracy : 0.9344109\t0.0000\n",
      "- batch loss and accuracy : 1.0396528\t0.0000\n",
      "- batch loss and accuracy : 1.1994944\t0.0000\n",
      "- batch loss and accuracy : 0.8372706\t0.6667\n",
      "- batch loss and accuracy : 0.8307453\t0.3333\n"
     ]
    },
    {
     "name": "stderr",
     "output_type": "stream",
     "text": [
      "epoch 23 - train: 83it [00:01, 65.77it/s]"
     ]
    },
    {
     "name": "stdout",
     "output_type": "stream",
     "text": [
      "- batch loss and accuracy : 0.5715629\t0.6667\n",
      "- batch loss and accuracy : 0.2460546\t1.0000\n",
      "- batch loss and accuracy : 0.1191343\t1.0000\n",
      "- batch loss and accuracy : 0.0991176\t1.0000\n",
      "- batch loss and accuracy : 0.0560182\t1.0000\n",
      "- batch loss and accuracy : 0.0997438\t1.0000\n"
     ]
    },
    {
     "name": "stderr",
     "output_type": "stream",
     "text": [
      "epoch 23 - train: 90it [00:01, 64.32it/s]"
     ]
    },
    {
     "name": "stdout",
     "output_type": "stream",
     "text": [
      "- batch loss and accuracy : 0.0324836\t1.0000\n",
      "- batch loss and accuracy : 0.0124398\t1.0000\n",
      "- batch loss and accuracy : 4.5523000\t0.0000\n",
      "- batch loss and accuracy : 0.0117617\t1.0000\n",
      "- batch loss and accuracy : 0.0166453\t1.0000\n",
      "- batch loss and accuracy : 4.2686868\t0.0000\n",
      "- batch loss and accuracy : 0.0221241\t1.0000\n"
     ]
    },
    {
     "name": "stderr",
     "output_type": "stream",
     "text": [
      "epoch 23 - train: 97it [00:01, 63.04it/s]"
     ]
    },
    {
     "name": "stdout",
     "output_type": "stream",
     "text": [
      "- batch loss and accuracy : 0.0211663\t1.0000\n",
      "- batch loss and accuracy : 3.3701949\t0.0000\n",
      "- batch loss and accuracy : 0.0788106\t1.0000\n",
      "- batch loss and accuracy : 2.2064910\t0.0000\n",
      "- batch loss and accuracy : 0.3255212\t1.0000\n"
     ]
    },
    {
     "name": "stderr",
     "output_type": "stream",
     "text": [
      "epoch 23 - train: 104it [00:01, 60.60it/s]"
     ]
    },
    {
     "name": "stdout",
     "output_type": "stream",
     "text": [
      "- batch loss and accuracy : 0.4865356\t1.0000\n",
      "- batch loss and accuracy : 0.5947385\t0.6667\n",
      "- batch loss and accuracy : 0.7621310\t0.6667\n",
      "- batch loss and accuracy : 1.1662538\t0.0000\n",
      "- batch loss and accuracy : 0.6188989\t0.6667\n",
      "- batch loss and accuracy : 0.9216071\t0.3333\n",
      "- batch loss and accuracy : 1.0491652\t0.0000\n",
      "- batch loss and accuracy : 0.9262783\t0.3333\n",
      "- batch loss and accuracy : 0.5601920\t1.0000\n",
      "- batch loss and accuracy : 0.9490638\t0.0000\n",
      "- batch loss and accuracy : 1.1510153\t0.0000\n",
      "- batch loss and accuracy : 0.3015128\t1.0000\n",
      "- batch loss and accuracy : 0.5313100\t0.6667\n"
     ]
    },
    {
     "name": "stderr",
     "output_type": "stream",
     "text": [
      "epoch 23 - train: 118it [00:01, 62.74it/s]"
     ]
    },
    {
     "name": "stdout",
     "output_type": "stream",
     "text": [
      "- batch loss and accuracy : 0.2602063\t1.0000\n",
      "- batch loss and accuracy : 0.2783478\t1.0000\n",
      "- batch loss and accuracy : 2.2746089\t0.0000\n",
      "- batch loss and accuracy : 0.2506970\t1.0000\n",
      "- batch loss and accuracy : 0.1910265\t1.0000\n",
      "- batch loss and accuracy : 0.1353171\t1.0000\n",
      "- batch loss and accuracy : 0.1601336\t1.0000\n",
      "- batch loss and accuracy : 2.4540424\t0.0000\n",
      "- batch loss and accuracy : 0.1373762\t1.0000\n",
      "- batch loss and accuracy : 0.2216466\t1.0000\n",
      "- batch loss and accuracy : 0.1177925\t1.0000\n",
      "- batch loss and accuracy : 2.3672013\t0.0000\n",
      "- batch loss and accuracy : 1.9878891\t0.0000\n"
     ]
    },
    {
     "name": "stderr",
     "output_type": "stream",
     "text": [
      "epoch 23 - train: 125it [00:02, 61.80it/s]"
     ]
    },
    {
     "name": "stdout",
     "output_type": "stream",
     "text": [
      "- batch loss and accuracy : 0.2756040\t1.0000\n",
      "- batch loss and accuracy : 1.0846299\t0.0000\n",
      "- batch loss and accuracy : 1.0316441\t0.0000\n",
      "- batch loss and accuracy : 0.8682895\t0.3333\n",
      "- batch loss and accuracy : 0.8794209\t0.3333\n",
      "- batch loss and accuracy : 0.9615488\t0.3333\n",
      "- batch loss and accuracy : 0.7176673\t0.6667\n",
      "- batch loss and accuracy : 0.4874140\t1.0000\n",
      "- batch loss and accuracy : 0.2091728\t1.0000\n",
      "- batch loss and accuracy : 1.5085106\t0.0000\n"
     ]
    },
    {
     "name": "stderr",
     "output_type": "stream",
     "text": [
      "epoch 23 - train: 133it [00:02, 65.16it/s]"
     ]
    },
    {
     "name": "stdout",
     "output_type": "stream",
     "text": [
      "- batch loss and accuracy : 0.1354450\t1.0000\n",
      "- batch loss and accuracy : 2.5730796\t0.0000\n",
      "- batch loss and accuracy : 0.1375203\t1.0000\n",
      "- batch loss and accuracy : 0.0818678\t1.0000\n"
     ]
    },
    {
     "name": "stderr",
     "output_type": "stream",
     "text": [
      "epoch 23 - train: 140it [00:02, 64.12it/s]"
     ]
    },
    {
     "name": "stdout",
     "output_type": "stream",
     "text": [
      "- batch loss and accuracy : 0.0950034\t1.0000\n",
      "- batch loss and accuracy : 0.1869406\t1.0000\n",
      "- batch loss and accuracy : 0.0939146\t1.0000\n",
      "- batch loss and accuracy : 0.1301749\t1.0000\n",
      "- batch loss and accuracy : 2.3107929\t0.0000\n",
      "- batch loss and accuracy : 0.1171298\t1.0000\n",
      "- batch loss and accuracy : 0.1245344\t1.0000\n",
      "- batch loss and accuracy : 2.0421400\t0.0000\n",
      "- batch loss and accuracy : 0.3215940\t1.0000\n"
     ]
    },
    {
     "name": "stderr",
     "output_type": "stream",
     "text": [
      "epoch 23 - train: 147it [00:02, 63.77it/s]"
     ]
    },
    {
     "name": "stdout",
     "output_type": "stream",
     "text": [
      "- batch loss and accuracy : 0.4137608\t0.6667\n",
      "- batch loss and accuracy : 0.2036835\t1.0000\n",
      "- batch loss and accuracy : 1.6371660\t0.0000\n",
      "- batch loss and accuracy : 0.5973668\t0.6667\n"
     ]
    },
    {
     "name": "stderr",
     "output_type": "stream",
     "text": [
      "epoch 23 - train: 154it [00:02, 64.24it/s]"
     ]
    },
    {
     "name": "stdout",
     "output_type": "stream",
     "text": [
      "- batch loss and accuracy : 0.4296061\t1.0000\n",
      "- batch loss and accuracy : 0.4164125\t1.0000\n",
      "- batch loss and accuracy : 0.4289876\t1.0000\n",
      "- batch loss and accuracy : 0.2440893\t1.0000\n",
      "- batch loss and accuracy : 0.4826449\t0.6667\n",
      "- batch loss and accuracy : 0.3842174\t1.0000\n",
      "- batch loss and accuracy : 2.1733174\t0.0000\n",
      "- batch loss and accuracy : 0.1359696\t1.0000\n",
      "- batch loss and accuracy : 0.1391425\t1.0000\n"
     ]
    },
    {
     "name": "stderr",
     "output_type": "stream",
     "text": [
      "epoch 23 - train: 161it [00:02, 62.35it/s]"
     ]
    },
    {
     "name": "stdout",
     "output_type": "stream",
     "text": [
      "- batch loss and accuracy : 0.0707584\t1.0000\n",
      "- batch loss and accuracy : 2.2544999\t0.0000\n",
      "- batch loss and accuracy : 2.7929821\t0.0000\n",
      "- batch loss and accuracy : 0.1309199\t1.0000\n"
     ]
    },
    {
     "name": "stderr",
     "output_type": "stream",
     "text": [
      "epoch 23 - train: 168it [00:02, 62.39it/s]"
     ]
    },
    {
     "name": "stdout",
     "output_type": "stream",
     "text": [
      "- batch loss and accuracy : 1.5999603\t0.0000\n",
      "- batch loss and accuracy : 1.2302516\t0.3333\n",
      "- batch loss and accuracy : 0.7257349\t0.3333\n",
      "- batch loss and accuracy : 1.0035551\t0.3333\n",
      "- batch loss and accuracy : 1.2649322\t0.0000\n",
      "- batch loss and accuracy : 1.1201575\t0.0000\n",
      "- batch loss and accuracy : 1.1211354\t0.0000\n",
      "- batch loss and accuracy : 0.7922866\t0.3333\n"
     ]
    },
    {
     "name": "stderr",
     "output_type": "stream",
     "text": [
      "epoch 23 - train: 175it [00:02, 62.17it/s]"
     ]
    },
    {
     "name": "stdout",
     "output_type": "stream",
     "text": [
      "- batch loss and accuracy : 0.5015451\t0.6667\n",
      "- batch loss and accuracy : 0.3157058\t1.0000\n",
      "- batch loss and accuracy : 0.1048580\t1.0000\n",
      "- batch loss and accuracy : 0.0634879\t1.0000\n",
      "- batch loss and accuracy : 0.0299061\t1.0000\n",
      "- batch loss and accuracy : 0.0314168\t1.0000\n"
     ]
    },
    {
     "name": "stderr",
     "output_type": "stream",
     "text": [
      "epoch 23 - train: 183it [00:02, 65.25it/s]"
     ]
    },
    {
     "name": "stdout",
     "output_type": "stream",
     "text": [
      "- batch loss and accuracy : 0.0153868\t1.0000\n",
      "- batch loss and accuracy : 0.0077098\t1.0000\n",
      "- batch loss and accuracy : 0.0057959\t1.0000\n",
      "- batch loss and accuracy : 0.0034802\t1.0000\n",
      "- batch loss and accuracy : 0.0026971\t1.0000\n",
      "- batch loss and accuracy : 0.0021603\t1.0000\n",
      "- batch loss and accuracy : 0.0011997\t1.0000\n",
      "- batch loss and accuracy : 0.0013431\t1.0000\n"
     ]
    },
    {
     "name": "stderr",
     "output_type": "stream",
     "text": [
      "epoch 23 - train: 190it [00:03, 65.37it/s]"
     ]
    },
    {
     "name": "stdout",
     "output_type": "stream",
     "text": [
      "- batch loss and accuracy : 8.0399399\t0.0000\n",
      "- batch loss and accuracy : 0.0005580\t1.0000\n",
      "- batch loss and accuracy : 0.0013152\t1.0000\n",
      "- batch loss and accuracy : 0.0014485\t1.0000\n",
      "- batch loss and accuracy : 6.4994540\t0.0000\n",
      "- batch loss and accuracy : 0.0019071\t1.0000\n"
     ]
    },
    {
     "name": "stderr",
     "output_type": "stream",
     "text": [
      "epoch 23 - train: 198it [00:03, 67.80it/s]"
     ]
    },
    {
     "name": "stdout",
     "output_type": "stream",
     "text": [
      "- batch loss and accuracy : 0.0029540\t1.0000\n",
      "- batch loss and accuracy : 0.0048522\t1.0000\n",
      "- batch loss and accuracy : 5.1219993\t0.0000\n",
      "- batch loss and accuracy : 4.9723449\t0.0000\n",
      "- batch loss and accuracy : 0.0295598\t1.0000\n",
      "- batch loss and accuracy : 0.0645959\t1.0000\n",
      "- batch loss and accuracy : 0.2486793\t1.0000\n",
      "- batch loss and accuracy : 0.2180384\t1.0000\n",
      "- batch loss and accuracy : 1.1332896\t0.0000\n"
     ]
    },
    {
     "name": "stderr",
     "output_type": "stream",
     "text": [
      "epoch 23 - train: 206it [00:03, 68.06it/s]"
     ]
    },
    {
     "name": "stdout",
     "output_type": "stream",
     "text": [
      "- batch loss and accuracy : 0.6254085\t0.6667\n",
      "- batch loss and accuracy : 0.8272655\t0.3333\n",
      "- batch loss and accuracy : 1.0627812\t0.3333\n",
      "- batch loss and accuracy : 1.0052536\t0.3333\n",
      "- batch loss and accuracy : 0.6718003\t0.6667\n",
      "- batch loss and accuracy : 0.7552671\t0.6667\n"
     ]
    },
    {
     "name": "stderr",
     "output_type": "stream",
     "text": [
      "epoch 23 - train: 213it [00:03, 67.26it/s]"
     ]
    },
    {
     "name": "stdout",
     "output_type": "stream",
     "text": [
      "- batch loss and accuracy : 1.2087362\t0.3333\n",
      "- batch loss and accuracy : 0.2139565\t1.0000\n",
      "- batch loss and accuracy : 2.0855987\t0.0000\n",
      "- batch loss and accuracy : 0.3264561\t1.0000\n",
      "- batch loss and accuracy : 0.2907255\t1.0000\n",
      "- batch loss and accuracy : 0.1994195\t1.0000\n",
      "- batch loss and accuracy : 2.2549071\t0.0000\n",
      "- batch loss and accuracy : 0.2071496\t1.0000\n",
      "- batch loss and accuracy : 0.2823624\t1.0000\n",
      "- batch loss and accuracy : 1.7070835\t0.0000\n",
      "- batch loss and accuracy : 1.5535843\t0.0000\n",
      "- batch loss and accuracy : 1.4867300\t0.0000\n",
      "- batch loss and accuracy : 0.6521785\t0.3333\n"
     ]
    },
    {
     "name": "stderr",
     "output_type": "stream",
     "text": [
      "epoch 23 - train: 227it [00:03, 66.15it/s]"
     ]
    },
    {
     "name": "stdout",
     "output_type": "stream",
     "text": [
      "- batch loss and accuracy : 0.5422610\t0.6667\n",
      "- batch loss and accuracy : 1.6869144\t0.0000\n",
      "- batch loss and accuracy : 2.3915844\t0.0000\n",
      "- batch loss and accuracy : 2.8235822\t0.0000\n",
      "- batch loss and accuracy : 2.5726337\t0.0000\n",
      "- batch loss and accuracy : 2.0569379\t0.0000\n",
      "- batch loss and accuracy : 0.4161383\t1.0000\n",
      "- batch loss and accuracy : 0.7911249\t0.3333\n",
      "- batch loss and accuracy : 1.0531424\t0.3333\n",
      "- batch loss and accuracy : 0.2925698\t1.0000\n",
      "- batch loss and accuracy : 0.2696590\t1.0000\n",
      "- batch loss and accuracy : 0.1708912\t1.0000\n",
      "- batch loss and accuracy : 2.5839813\t0.0000\n",
      "- batch loss and accuracy : 2.5375521\t0.0000\n",
      "- batch loss and accuracy : 0.0729378\t1.0000\n"
     ]
    },
    {
     "name": "stderr",
     "output_type": "stream",
     "text": [
      "epoch 23 - train: 242it [00:03, 67.02it/s]"
     ]
    },
    {
     "name": "stdout",
     "output_type": "stream",
     "text": [
      "- batch loss and accuracy : 2.2826352\t0.0000\n",
      "- batch loss and accuracy : 0.1846631\t1.0000\n",
      "- batch loss and accuracy : 0.3296890\t1.0000\n",
      "- batch loss and accuracy : 0.2318789\t1.0000\n",
      "- batch loss and accuracy : 0.3925850\t1.0000\n",
      "- batch loss and accuracy : 0.3969250\t1.0000\n",
      "- batch loss and accuracy : 0.4477191\t0.6667\n",
      "- batch loss and accuracy : 0.2295544\t1.0000\n",
      "- batch loss and accuracy : 0.2559756\t1.0000\n",
      "- batch loss and accuracy : 0.1466184\t1.0000\n",
      "- batch loss and accuracy : 0.1525327\t1.0000\n",
      "- batch loss and accuracy : 2.9041669\t0.0000\n",
      "- batch loss and accuracy : 0.1309228\t1.0000\n"
     ]
    },
    {
     "name": "stderr",
     "output_type": "stream",
     "text": [
      "epoch 23 - train: 249it [00:04, 61.85it/s]\n"
     ]
    },
    {
     "name": "stdout",
     "output_type": "stream",
     "text": [
      "- batch loss and accuracy : 0.0605005\t1.0000\n",
      "- batch loss and accuracy : 0.0984101\t1.0000\n"
     ]
    },
    {
     "name": "stderr",
     "output_type": "stream",
     "text": [
      "epoch 23 - validation: 100%|██████████| 63/63 [00:00<00:00, 81.31it/s]"
     ]
    },
    {
     "name": "stdout",
     "output_type": "stream",
     "text": [
      "Validation loss and accuracy : 0.7885693\t0.7143\n",
      "EPOCH 24\n"
     ]
    },
    {
     "name": "stderr",
     "output_type": "stream",
     "text": [
      "\n",
      "epoch 24 - train: 3it [00:00, 26.67it/s]"
     ]
    },
    {
     "name": "stdout",
     "output_type": "stream",
     "text": [
      "- batch loss and accuracy : 0.0788706\t1.0000\n",
      "- batch loss and accuracy : 0.0811387\t1.0000\n",
      "- batch loss and accuracy : 0.0749241\t1.0000\n",
      "- batch loss and accuracy : 3.2215166\t0.0000\n",
      "- batch loss and accuracy : 3.2473419\t0.0000\n",
      "- batch loss and accuracy : 0.1672698\t1.0000\n",
      "- batch loss and accuracy : 0.1360269\t1.0000\n"
     ]
    },
    {
     "name": "stderr",
     "output_type": "stream",
     "text": [
      "epoch 24 - train: 12it [00:00, 58.08it/s]"
     ]
    },
    {
     "name": "stdout",
     "output_type": "stream",
     "text": [
      "- batch loss and accuracy : 0.2771334\t1.0000\n",
      "- batch loss and accuracy : 1.7530664\t0.0000\n",
      "- batch loss and accuracy : 1.3345604\t0.0000\n",
      "- batch loss and accuracy : 0.8210651\t0.3333\n",
      "- batch loss and accuracy : 0.3368250\t1.0000\n",
      "- batch loss and accuracy : 1.1908505\t0.0000\n",
      "- batch loss and accuracy : 1.6242660\t0.0000\n",
      "- batch loss and accuracy : 1.3074486\t0.3333\n",
      "- batch loss and accuracy : 1.5768160\t0.0000\n",
      "- batch loss and accuracy : 1.0682122\t0.0000\n"
     ]
    },
    {
     "name": "stderr",
     "output_type": "stream",
     "text": [
      "epoch 24 - train: 21it [00:00, 68.54it/s]"
     ]
    },
    {
     "name": "stdout",
     "output_type": "stream",
     "text": [
      "- batch loss and accuracy : 0.4670939\t1.0000\n",
      "- batch loss and accuracy : 0.3542787\t1.0000\n",
      "- batch loss and accuracy : 0.1928158\t1.0000\n",
      "- batch loss and accuracy : 0.0788021\t1.0000\n",
      "- batch loss and accuracy : 0.0420314\t1.0000\n",
      "- batch loss and accuracy : 4.5651903\t0.0000\n"
     ]
    },
    {
     "name": "stderr",
     "output_type": "stream",
     "text": [
      "epoch 24 - train: 28it [00:00, 66.88it/s]"
     ]
    },
    {
     "name": "stdout",
     "output_type": "stream",
     "text": [
      "- batch loss and accuracy : 0.0167028\t1.0000\n",
      "- batch loss and accuracy : 0.0112516\t1.0000\n",
      "- batch loss and accuracy : 4.5497503\t0.0000\n",
      "- batch loss and accuracy : 0.0119866\t1.0000\n",
      "- batch loss and accuracy : 0.0218792\t1.0000\n",
      "- batch loss and accuracy : 0.0124533\t1.0000\n",
      "- batch loss and accuracy : 0.0102030\t1.0000\n",
      "- batch loss and accuracy : 0.0148371\t1.0000\n"
     ]
    },
    {
     "name": "stderr",
     "output_type": "stream",
     "text": [
      "epoch 24 - train: 36it [00:00, 65.37it/s]"
     ]
    },
    {
     "name": "stdout",
     "output_type": "stream",
     "text": [
      "- batch loss and accuracy : 3.9949212\t0.0000\n",
      "- batch loss and accuracy : 0.0272265\t1.0000\n",
      "- batch loss and accuracy : 0.0316540\t1.0000\n",
      "- batch loss and accuracy : 3.6736269\t0.0000\n",
      "- batch loss and accuracy : 1.8919466\t0.0000\n",
      "- batch loss and accuracy : 0.1351318\t1.0000\n"
     ]
    },
    {
     "name": "stderr",
     "output_type": "stream",
     "text": [
      "epoch 24 - train: 43it [00:00, 63.52it/s]"
     ]
    },
    {
     "name": "stdout",
     "output_type": "stream",
     "text": [
      "- batch loss and accuracy : 0.3182429\t1.0000\n",
      "- batch loss and accuracy : 0.7038161\t0.6667\n",
      "- batch loss and accuracy : 0.7236441\t0.6667\n",
      "- batch loss and accuracy : 0.6580815\t0.6667\n",
      "- batch loss and accuracy : 0.7395803\t0.3333\n",
      "- batch loss and accuracy : 0.8532085\t0.6667\n",
      "- batch loss and accuracy : 0.9694835\t0.0000\n"
     ]
    },
    {
     "name": "stderr",
     "output_type": "stream",
     "text": [
      "epoch 24 - train: 50it [00:00, 62.46it/s]"
     ]
    },
    {
     "name": "stdout",
     "output_type": "stream",
     "text": [
      "- batch loss and accuracy : 0.5810585\t0.6667\n",
      "- batch loss and accuracy : 0.8453895\t0.3333\n",
      "- batch loss and accuracy : 0.3570522\t1.0000\n",
      "- batch loss and accuracy : 0.5041168\t0.6667\n",
      "- batch loss and accuracy : 0.2836704\t1.0000\n",
      "- batch loss and accuracy : 0.2017093\t1.0000\n"
     ]
    },
    {
     "name": "stderr",
     "output_type": "stream",
     "text": [
      "epoch 24 - train: 57it [00:00, 63.98it/s]"
     ]
    },
    {
     "name": "stdout",
     "output_type": "stream",
     "text": [
      "- batch loss and accuracy : 2.0855806\t0.0000\n",
      "- batch loss and accuracy : 2.3944805\t0.0000\n",
      "- batch loss and accuracy : 0.1526341\t1.0000\n",
      "- batch loss and accuracy : 0.2128162\t1.0000\n",
      "- batch loss and accuracy : 0.2093752\t1.0000\n",
      "- batch loss and accuracy : 0.2065698\t1.0000\n",
      "- batch loss and accuracy : 0.1037771\t1.0000\n"
     ]
    },
    {
     "name": "stderr",
     "output_type": "stream",
     "text": [
      "epoch 24 - train: 65it [00:01, 66.65it/s]"
     ]
    },
    {
     "name": "stdout",
     "output_type": "stream",
     "text": [
      "- batch loss and accuracy : 2.6146321\t0.0000\n",
      "- batch loss and accuracy : 0.2631481\t1.0000\n",
      "- batch loss and accuracy : 0.1664470\t1.0000\n",
      "- batch loss and accuracy : 0.2479830\t1.0000\n",
      "- batch loss and accuracy : 1.5006464\t0.0000\n",
      "- batch loss and accuracy : 1.4172220\t0.0000\n",
      "- batch loss and accuracy : 0.3543045\t1.0000\n",
      "- batch loss and accuracy : 0.3456821\t1.0000\n",
      "- batch loss and accuracy : 0.7412025\t0.6667\n",
      "- batch loss and accuracy : 0.8901293\t0.3333\n",
      "- batch loss and accuracy : 0.7090195\t0.3333\n",
      "- batch loss and accuracy : 0.4786277\t1.0000\n",
      "- batch loss and accuracy : 1.0227559\t0.3333\n",
      "- batch loss and accuracy : 0.8953885\t0.0000\n",
      "- batch loss and accuracy : 0.6831321\t0.3333\n"
     ]
    },
    {
     "name": "stderr",
     "output_type": "stream",
     "text": [
      "epoch 24 - train: 73it [00:01, 66.45it/s]"
     ]
    },
    {
     "name": "stdout",
     "output_type": "stream",
     "text": [
      "- batch loss and accuracy : 0.7438042\t0.3333\n",
      "- batch loss and accuracy : 0.8759822\t0.6667\n",
      "- batch loss and accuracy : 1.2713197\t0.0000\n",
      "- batch loss and accuracy : 0.6923229\t0.3333\n",
      "- batch loss and accuracy : 0.4587170\t1.0000\n",
      "- batch loss and accuracy : 0.6746786\t0.6667\n",
      "- batch loss and accuracy : 1.1966994\t0.0000\n"
     ]
    },
    {
     "name": "stderr",
     "output_type": "stream",
     "text": [
      "epoch 24 - train: 81it [00:01, 67.89it/s]"
     ]
    },
    {
     "name": "stdout",
     "output_type": "stream",
     "text": [
      "- batch loss and accuracy : 0.3715854\t1.0000\n",
      "- batch loss and accuracy : 1.5644903\t0.0000\n",
      "- batch loss and accuracy : 0.3679415\t1.0000\n",
      "- batch loss and accuracy : 0.9231604\t0.3333\n",
      "- batch loss and accuracy : 0.3830259\t1.0000\n",
      "- batch loss and accuracy : 1.3245058\t0.0000\n",
      "- batch loss and accuracy : 1.2260714\t0.0000\n",
      "- batch loss and accuracy : 0.5688264\t0.6667\n"
     ]
    },
    {
     "name": "stderr",
     "output_type": "stream",
     "text": [
      "epoch 24 - train: 88it [00:01, 67.59it/s]"
     ]
    },
    {
     "name": "stdout",
     "output_type": "stream",
     "text": [
      "- batch loss and accuracy : 0.7998458\t0.0000\n",
      "- batch loss and accuracy : 0.8998259\t0.3333\n",
      "- batch loss and accuracy : 0.6334040\t0.6667\n",
      "- batch loss and accuracy : 0.6863775\t0.6667\n",
      "- batch loss and accuracy : 0.6692349\t0.6667\n"
     ]
    },
    {
     "name": "stderr",
     "output_type": "stream",
     "text": [
      "epoch 24 - train: 95it [00:01, 65.32it/s]"
     ]
    },
    {
     "name": "stdout",
     "output_type": "stream",
     "text": [
      "- batch loss and accuracy : 1.1989739\t0.0000\n",
      "- batch loss and accuracy : 1.0046952\t0.0000\n",
      "- batch loss and accuracy : 0.8692901\t0.0000\n",
      "- batch loss and accuracy : 0.3574992\t1.0000\n",
      "- batch loss and accuracy : 0.5956287\t0.6667\n",
      "- batch loss and accuracy : 0.8718650\t0.3333\n",
      "- batch loss and accuracy : 0.7377257\t0.3333\n",
      "- batch loss and accuracy : 0.6861545\t0.3333\n"
     ]
    },
    {
     "name": "stderr",
     "output_type": "stream",
     "text": [
      "epoch 24 - train: 102it [00:01, 66.23it/s]"
     ]
    },
    {
     "name": "stdout",
     "output_type": "stream",
     "text": [
      "- batch loss and accuracy : 1.6018476\t0.0000\n",
      "- batch loss and accuracy : 0.3509708\t1.0000\n",
      "- batch loss and accuracy : 0.2479828\t1.0000\n",
      "- batch loss and accuracy : 0.1236945\t1.0000\n",
      "- batch loss and accuracy : 0.1150106\t1.0000\n",
      "- batch loss and accuracy : 0.0798465\t1.0000\n",
      "- batch loss and accuracy : 0.0679873\t1.0000\n"
     ]
    },
    {
     "name": "stderr",
     "output_type": "stream",
     "text": [
      "epoch 24 - train: 109it [00:01, 65.51it/s]"
     ]
    },
    {
     "name": "stdout",
     "output_type": "stream",
     "text": [
      "- batch loss and accuracy : 0.0697145\t1.0000\n",
      "- batch loss and accuracy : 0.0289563\t1.0000\n",
      "- batch loss and accuracy : 3.8412070\t0.0000\n",
      "- batch loss and accuracy : 0.0234760\t1.0000\n",
      "- batch loss and accuracy : 0.0541001\t1.0000\n",
      "- batch loss and accuracy : 3.6933646\t0.0000\n"
     ]
    },
    {
     "name": "stderr",
     "output_type": "stream",
     "text": [
      "epoch 24 - train: 116it [00:01, 63.67it/s]"
     ]
    },
    {
     "name": "stdout",
     "output_type": "stream",
     "text": [
      "- batch loss and accuracy : 3.2916226\t0.0000\n",
      "- batch loss and accuracy : 0.0883664\t1.0000\n",
      "- batch loss and accuracy : 1.5836504\t0.0000\n",
      "- batch loss and accuracy : 0.3593636\t1.0000\n",
      "- batch loss and accuracy : 0.5822576\t0.3333\n",
      "- batch loss and accuracy : 0.6498498\t0.3333\n",
      "- batch loss and accuracy : 0.5417908\t0.6667\n"
     ]
    },
    {
     "name": "stderr",
     "output_type": "stream",
     "text": [
      "epoch 24 - train: 123it [00:01, 63.44it/s]"
     ]
    },
    {
     "name": "stdout",
     "output_type": "stream",
     "text": [
      "- batch loss and accuracy : 1.5128721\t0.0000\n",
      "- batch loss and accuracy : 0.2642773\t1.0000\n",
      "- batch loss and accuracy : 2.1332443\t0.0000\n",
      "- batch loss and accuracy : 2.0669127\t0.0000\n",
      "- batch loss and accuracy : 1.6636722\t0.0000\n"
     ]
    },
    {
     "name": "stderr",
     "output_type": "stream",
     "text": [
      "epoch 24 - train: 130it [00:02, 62.37it/s]"
     ]
    },
    {
     "name": "stdout",
     "output_type": "stream",
     "text": [
      "- batch loss and accuracy : 1.5080593\t0.0000\n",
      "- batch loss and accuracy : 0.9540985\t0.0000\n",
      "- batch loss and accuracy : 1.1093462\t0.3333\n",
      "- batch loss and accuracy : 1.3718376\t0.0000\n",
      "- batch loss and accuracy : 0.1928151\t1.0000\n",
      "- batch loss and accuracy : 0.1645112\t1.0000\n",
      "- batch loss and accuracy : 0.1362289\t1.0000\n",
      "- batch loss and accuracy : 0.0602929\t1.0000\n"
     ]
    },
    {
     "name": "stderr",
     "output_type": "stream",
     "text": [
      "epoch 24 - train: 137it [00:02, 60.61it/s]"
     ]
    },
    {
     "name": "stdout",
     "output_type": "stream",
     "text": [
      "- batch loss and accuracy : 3.2434452\t0.0000\n",
      "- batch loss and accuracy : 0.0618077\t1.0000\n",
      "- batch loss and accuracy : 0.0590857\t1.0000\n",
      "- batch loss and accuracy : 2.8550434\t0.0000\n",
      "- batch loss and accuracy : 0.0836549\t1.0000\n"
     ]
    },
    {
     "name": "stderr",
     "output_type": "stream",
     "text": [
      "epoch 24 - train: 144it [00:02, 57.83it/s]"
     ]
    },
    {
     "name": "stdout",
     "output_type": "stream",
     "text": [
      "- batch loss and accuracy : 2.1271396\t0.0000\n",
      "- batch loss and accuracy : 0.2843712\t1.0000\n",
      "- batch loss and accuracy : 0.2742656\t1.0000\n",
      "- batch loss and accuracy : 1.0860927\t0.0000\n",
      "- batch loss and accuracy : 0.4782098\t0.6667\n",
      "- batch loss and accuracy : 0.7531791\t0.3333\n"
     ]
    },
    {
     "name": "stderr",
     "output_type": "stream",
     "text": [
      "epoch 24 - train: 150it [00:02, 57.99it/s]"
     ]
    },
    {
     "name": "stdout",
     "output_type": "stream",
     "text": [
      "- batch loss and accuracy : 0.8618433\t0.3333\n",
      "- batch loss and accuracy : 0.7814521\t0.3333\n",
      "- batch loss and accuracy : 0.6275474\t0.3333\n",
      "- batch loss and accuracy : 0.4810121\t0.6667\n",
      "- batch loss and accuracy : 0.1565374\t1.0000\n",
      "- batch loss and accuracy : 0.1909716\t1.0000\n",
      "- batch loss and accuracy : 0.1088742\t1.0000\n",
      "- batch loss and accuracy : 0.0573735\t1.0000\n",
      "- batch loss and accuracy : 0.0382048\t1.0000\n",
      "- batch loss and accuracy : 0.0286860\t1.0000\n",
      "- batch loss and accuracy : 0.0146738\t1.0000\n"
     ]
    },
    {
     "name": "stderr",
     "output_type": "stream",
     "text": [
      "epoch 24 - train: 156it [00:02, 54.18it/s]"
     ]
    },
    {
     "name": "stdout",
     "output_type": "stream",
     "text": [
      "- batch loss and accuracy : 0.0125638\t1.0000\n",
      "- batch loss and accuracy : 0.0120381\t1.0000\n",
      "- batch loss and accuracy : 5.6131430\t0.0000\n",
      "- batch loss and accuracy : 0.0057933\t1.0000\n",
      "- batch loss and accuracy : 0.0055914\t1.0000\n",
      "- batch loss and accuracy : 0.0050537\t1.0000\n"
     ]
    },
    {
     "name": "stderr",
     "output_type": "stream",
     "text": [
      "epoch 24 - train: 162it [00:02, 55.25it/s]"
     ]
    },
    {
     "name": "stdout",
     "output_type": "stream",
     "text": [
      "- batch loss and accuracy : 4.3651800\t0.0000\n",
      "- batch loss and accuracy : 4.5741210\t0.0000\n",
      "- batch loss and accuracy : 0.0250378\t1.0000\n",
      "- batch loss and accuracy : 3.1964788\t0.0000\n",
      "- batch loss and accuracy : 0.1195483\t1.0000\n",
      "- batch loss and accuracy : 2.3176334\t0.0000\n"
     ]
    },
    {
     "name": "stderr",
     "output_type": "stream",
     "text": [
      "epoch 24 - train: 168it [00:02, 54.19it/s]"
     ]
    },
    {
     "name": "stdout",
     "output_type": "stream",
     "text": [
      "- batch loss and accuracy : 0.7346038\t0.3333\n",
      "- batch loss and accuracy : 0.6384889\t0.6667\n",
      "- batch loss and accuracy : 0.2079414\t1.0000\n",
      "- batch loss and accuracy : 2.8088984\t0.0000\n",
      "- batch loss and accuracy : 3.5026402\t0.0000\n"
     ]
    },
    {
     "name": "stderr",
     "output_type": "stream",
     "text": [
      "epoch 24 - train: 174it [00:02, 54.65it/s]"
     ]
    },
    {
     "name": "stdout",
     "output_type": "stream",
     "text": [
      "- batch loss and accuracy : 4.0672817\t0.0000\n",
      "- batch loss and accuracy : 3.6597304\t0.0000\n",
      "- batch loss and accuracy : 3.2686405\t0.0000\n",
      "- batch loss and accuracy : 2.2683661\t0.0000\n",
      "- batch loss and accuracy : 1.5316272\t0.0000\n",
      "- batch loss and accuracy : 1.1167738\t0.3333\n"
     ]
    },
    {
     "name": "stderr",
     "output_type": "stream",
     "text": [
      "epoch 24 - train: 180it [00:02, 52.71it/s]"
     ]
    },
    {
     "name": "stdout",
     "output_type": "stream",
     "text": [
      "- batch loss and accuracy : 0.3031724\t1.0000\n",
      "- batch loss and accuracy : 0.1182877\t1.0000\n",
      "- batch loss and accuracy : 0.0389161\t1.0000\n",
      "- batch loss and accuracy : 0.0160187\t1.0000\n",
      "- batch loss and accuracy : 0.0050085\t1.0000\n"
     ]
    },
    {
     "name": "stderr",
     "output_type": "stream",
     "text": [
      "epoch 24 - train: 186it [00:03, 54.27it/s]"
     ]
    },
    {
     "name": "stdout",
     "output_type": "stream",
     "text": [
      "- batch loss and accuracy : 0.0016053\t1.0000\n",
      "- batch loss and accuracy : 0.0008034\t1.0000\n",
      "- batch loss and accuracy : 7.9894314\t0.0000\n",
      "- batch loss and accuracy : 0.0004244\t1.0000\n",
      "- batch loss and accuracy : 0.0001852\t1.0000\n",
      "- batch loss and accuracy : 0.0003083\t1.0000\n",
      "- batch loss and accuracy : 0.0001620\t1.0000\n"
     ]
    },
    {
     "name": "stderr",
     "output_type": "stream",
     "text": [
      "epoch 24 - train: 192it [00:03, 52.96it/s]"
     ]
    },
    {
     "name": "stdout",
     "output_type": "stream",
     "text": [
      "- batch loss and accuracy : 8.3974037\t0.0000\n",
      "- batch loss and accuracy : 8.3703041\t0.0000\n",
      "- batch loss and accuracy : 7.9635391\t0.0000\n",
      "- batch loss and accuracy : 0.0004656\t1.0000\n"
     ]
    },
    {
     "name": "stderr",
     "output_type": "stream",
     "text": [
      "epoch 24 - train: 198it [00:03, 52.35it/s]"
     ]
    },
    {
     "name": "stdout",
     "output_type": "stream",
     "text": [
      "- batch loss and accuracy : 6.7383094\t0.0000\n",
      "- batch loss and accuracy : 0.0053614\t1.0000\n",
      "- batch loss and accuracy : 0.0181273\t1.0000\n",
      "- batch loss and accuracy : 3.5062428\t0.0000\n",
      "- batch loss and accuracy : 0.0405516\t1.0000\n",
      "- batch loss and accuracy : 2.1423311\t0.0000\n",
      "- batch loss and accuracy : 0.9491415\t0.3333\n",
      "- batch loss and accuracy : 1.1682485\t0.0000\n"
     ]
    },
    {
     "name": "stderr",
     "output_type": "stream",
     "text": [
      "epoch 24 - train: 204it [00:03, 54.10it/s]"
     ]
    },
    {
     "name": "stdout",
     "output_type": "stream",
     "text": [
      "- batch loss and accuracy : 1.3201418\t0.0000\n",
      "- batch loss and accuracy : 2.8398271\t0.0000\n"
     ]
    },
    {
     "name": "stderr",
     "output_type": "stream",
     "text": [
      "epoch 24 - train: 210it [00:03, 48.21it/s]"
     ]
    },
    {
     "name": "stdout",
     "output_type": "stream",
     "text": [
      "- batch loss and accuracy : 0.1021069\t1.0000\n",
      "- batch loss and accuracy : 2.7634616\t0.0000\n",
      "- batch loss and accuracy : 0.0981130\t1.0000\n",
      "- batch loss and accuracy : 2.8094778\t0.0000\n",
      "- batch loss and accuracy : 0.1343494\t1.0000\n",
      "- batch loss and accuracy : 1.6827106\t0.0000\n",
      "- batch loss and accuracy : 0.3100892\t1.0000\n",
      "- batch loss and accuracy : 0.8104897\t0.3333\n",
      "- batch loss and accuracy : 0.6770785\t0.3333\n",
      "- batch loss and accuracy : 0.4896199\t0.6667\n",
      "- batch loss and accuracy : 1.5848812\t0.0000\n"
     ]
    },
    {
     "name": "stderr",
     "output_type": "stream",
     "text": [
      "epoch 24 - train: 216it [00:03, 48.44it/s]"
     ]
    },
    {
     "name": "stdout",
     "output_type": "stream",
     "text": [
      "- batch loss and accuracy : 1.6191874\t0.0000\n",
      "- batch loss and accuracy : 0.5000882\t1.0000\n",
      "- batch loss and accuracy : 1.4962635\t0.0000\n",
      "- batch loss and accuracy : 0.3614341\t1.0000\n",
      "- batch loss and accuracy : 0.7025306\t0.3333\n",
      "- batch loss and accuracy : 0.7124959\t0.3333\n"
     ]
    },
    {
     "name": "stderr",
     "output_type": "stream",
     "text": [
      "epoch 24 - train: 222it [00:03, 48.11it/s]"
     ]
    },
    {
     "name": "stdout",
     "output_type": "stream",
     "text": [
      "- batch loss and accuracy : 1.1826806\t0.0000\n",
      "- batch loss and accuracy : 0.5846912\t1.0000\n",
      "- batch loss and accuracy : 0.4301308\t1.0000\n",
      "- batch loss and accuracy : 1.2185166\t0.0000\n",
      "- batch loss and accuracy : 0.4370850\t0.6667\n"
     ]
    },
    {
     "name": "stderr",
     "output_type": "stream",
     "text": [
      "epoch 24 - train: 228it [00:03, 49.27it/s]"
     ]
    },
    {
     "name": "stdout",
     "output_type": "stream",
     "text": [
      "- batch loss and accuracy : 0.2513445\t1.0000\n",
      "- batch loss and accuracy : 0.2719836\t1.0000\n",
      "- batch loss and accuracy : 0.2010342\t1.0000\n",
      "- batch loss and accuracy : 0.1133407\t1.0000\n",
      "- batch loss and accuracy : 0.1108311\t1.0000\n",
      "- batch loss and accuracy : 0.0879071\t1.0000\n"
     ]
    },
    {
     "name": "stderr",
     "output_type": "stream",
     "text": [
      "epoch 24 - train: 234it [00:04, 51.09it/s]"
     ]
    },
    {
     "name": "stdout",
     "output_type": "stream",
     "text": [
      "- batch loss and accuracy : 2.9277191\t0.0000\n",
      "- batch loss and accuracy : 0.0790715\t1.0000\n",
      "- batch loss and accuracy : 2.7740912\t0.0000\n",
      "- batch loss and accuracy : 0.1483038\t1.0000\n",
      "- batch loss and accuracy : 0.1215419\t1.0000\n",
      "- batch loss and accuracy : 1.9550190\t0.0000\n"
     ]
    },
    {
     "name": "stderr",
     "output_type": "stream",
     "text": [
      "epoch 24 - train: 240it [00:04, 51.53it/s]"
     ]
    },
    {
     "name": "stdout",
     "output_type": "stream",
     "text": [
      "- batch loss and accuracy : 0.3167644\t1.0000\n",
      "- batch loss and accuracy : 0.3133831\t1.0000\n",
      "- batch loss and accuracy : 0.4879061\t1.0000\n",
      "- batch loss and accuracy : 0.3840717\t1.0000\n",
      "- batch loss and accuracy : 0.4789655\t0.6667\n",
      "- batch loss and accuracy : 0.4259034\t1.0000\n"
     ]
    },
    {
     "name": "stderr",
     "output_type": "stream",
     "text": [
      "epoch 24 - train: 246it [00:04, 52.11it/s]"
     ]
    },
    {
     "name": "stdout",
     "output_type": "stream",
     "text": [
      "- batch loss and accuracy : 0.1525601\t1.0000\n",
      "- batch loss and accuracy : 1.5343273\t0.0000\n",
      "- batch loss and accuracy : 1.5374544\t0.0000\n",
      "- batch loss and accuracy : 0.2817197\t1.0000\n",
      "- batch loss and accuracy : 0.2226686\t1.0000\n"
     ]
    },
    {
     "name": "stderr",
     "output_type": "stream",
     "text": [
      "epoch 24 - train: 249it [00:04, 57.38it/s]\n",
      "epoch 24 - validation: 100%|██████████| 63/63 [00:00<00:00, 79.11it/s]\n"
     ]
    },
    {
     "name": "stdout",
     "output_type": "stream",
     "text": [
      "Validation loss and accuracy : 0.5666877\t0.7143\n",
      "- saved best model: val_loss = 0.5666877031326294 val_accuracy = 0.714285671710968\n",
      "EPOCH 25\n"
     ]
    },
    {
     "name": "stderr",
     "output_type": "stream",
     "text": [
      "epoch 25 - train: 5it [00:00, 47.20it/s]"
     ]
    },
    {
     "name": "stdout",
     "output_type": "stream",
     "text": [
      "- batch loss and accuracy : 1.0442152\t0.0000\n",
      "- batch loss and accuracy : 1.0224763\t0.0000\n",
      "- batch loss and accuracy : 0.6541888\t0.6667\n",
      "- batch loss and accuracy : 0.4815732\t0.6667\n",
      "- batch loss and accuracy : 0.9001085\t0.3333\n"
     ]
    },
    {
     "name": "stderr",
     "output_type": "stream",
     "text": [
      "epoch 25 - train: 12it [00:00, 60.08it/s]"
     ]
    },
    {
     "name": "stdout",
     "output_type": "stream",
     "text": [
      "- batch loss and accuracy : 1.3216078\t0.0000\n",
      "- batch loss and accuracy : 0.9133090\t0.0000\n",
      "- batch loss and accuracy : 0.8639337\t0.3333\n",
      "- batch loss and accuracy : 0.7267892\t0.3333\n",
      "- batch loss and accuracy : 0.3613730\t1.0000\n",
      "- batch loss and accuracy : 0.2382119\t1.0000\n",
      "- batch loss and accuracy : 0.1224170\t1.0000\n",
      "- batch loss and accuracy : 0.0465607\t1.0000\n",
      "- batch loss and accuracy : 0.0373288\t1.0000\n",
      "- batch loss and accuracy : 4.3859921\t0.0000\n"
     ]
    },
    {
     "name": "stderr",
     "output_type": "stream",
     "text": [
      "epoch 25 - train: 19it [00:00, 62.78it/s]"
     ]
    },
    {
     "name": "stdout",
     "output_type": "stream",
     "text": [
      "- batch loss and accuracy : 0.0132742\t1.0000\n",
      "- batch loss and accuracy : 4.9896431\t0.0000\n",
      "- batch loss and accuracy : 0.0168916\t1.0000\n",
      "- batch loss and accuracy : 0.0196435\t1.0000\n"
     ]
    },
    {
     "name": "stderr",
     "output_type": "stream",
     "text": [
      "epoch 25 - train: 26it [00:00, 58.23it/s]"
     ]
    },
    {
     "name": "stdout",
     "output_type": "stream",
     "text": [
      "- batch loss and accuracy : 3.9508588\t0.0000\n",
      "- batch loss and accuracy : 3.1937675\t0.0000\n",
      "- batch loss and accuracy : 0.0636562\t1.0000\n",
      "- batch loss and accuracy : 2.1528139\t0.0000\n",
      "- batch loss and accuracy : 0.4383501\t0.6667\n",
      "- batch loss and accuracy : 0.8438444\t0.3333\n",
      "- batch loss and accuracy : 0.8472301\t0.3333\n",
      "- batch loss and accuracy : 0.5374848\t0.6667\n",
      "- batch loss and accuracy : 1.0729240\t0.0000\n",
      "- batch loss and accuracy : 0.2755018\t1.0000\n",
      "- batch loss and accuracy : 1.1359024\t0.0000\n"
     ]
    },
    {
     "name": "stderr",
     "output_type": "stream",
     "text": [
      "epoch 25 - train: 38it [00:00, 52.74it/s]"
     ]
    },
    {
     "name": "stdout",
     "output_type": "stream",
     "text": [
      "- batch loss and accuracy : 1.3539356\t0.0000\n",
      "- batch loss and accuracy : 1.1100087\t0.0000\n",
      "- batch loss and accuracy : 0.7311158\t0.6667\n",
      "- batch loss and accuracy : 0.9838497\t0.3333\n",
      "- batch loss and accuracy : 1.0070705\t0.0000\n",
      "- batch loss and accuracy : 0.5152559\t0.6667\n",
      "- batch loss and accuracy : 0.4903013\t1.0000\n",
      "- batch loss and accuracy : 0.4903647\t1.0000\n",
      "- batch loss and accuracy : 0.3378381\t1.0000\n",
      "- batch loss and accuracy : 0.3202747\t1.0000\n"
     ]
    },
    {
     "name": "stderr",
     "output_type": "stream",
     "text": [
      "epoch 25 - train: 44it [00:00, 51.48it/s]"
     ]
    },
    {
     "name": "stdout",
     "output_type": "stream",
     "text": [
      "- batch loss and accuracy : 0.2741826\t1.0000\n",
      "- batch loss and accuracy : 0.1140589\t1.0000\n",
      "- batch loss and accuracy : 0.1075687\t1.0000\n",
      "- batch loss and accuracy : 0.1100118\t1.0000\n",
      "- batch loss and accuracy : 0.0548984\t1.0000\n",
      "- batch loss and accuracy : 0.0375604\t1.0000\n",
      "- batch loss and accuracy : 3.8539882\t0.0000\n",
      "- batch loss and accuracy : 4.1059666\t0.0000\n",
      "- batch loss and accuracy : 0.0302677\t1.0000\n",
      "- batch loss and accuracy : 0.0406623\t1.0000\n"
     ]
    },
    {
     "name": "stderr",
     "output_type": "stream",
     "text": [
      "epoch 25 - train: 51it [00:00, 55.94it/s]"
     ]
    },
    {
     "name": "stdout",
     "output_type": "stream",
     "text": [
      "- batch loss and accuracy : 0.0622652\t1.0000\n",
      "- batch loss and accuracy : 0.0869770\t1.0000\n"
     ]
    },
    {
     "name": "stderr",
     "output_type": "stream",
     "text": [
      "epoch 25 - train: 57it [00:01, 54.11it/s]"
     ]
    },
    {
     "name": "stdout",
     "output_type": "stream",
     "text": [
      "- batch loss and accuracy : 3.1332099\t0.0000\n",
      "- batch loss and accuracy : 0.1633433\t1.0000\n",
      "- batch loss and accuracy : 0.2648431\t1.0000\n",
      "- batch loss and accuracy : 0.2132557\t1.0000\n",
      "- batch loss and accuracy : 0.3117742\t1.0000\n",
      "- batch loss and accuracy : 0.3942027\t1.0000\n",
      "- batch loss and accuracy : 1.0309143\t0.3333\n",
      "- batch loss and accuracy : 0.3200328\t1.0000\n",
      "- batch loss and accuracy : 0.3007519\t1.0000\n",
      "- batch loss and accuracy : 0.3242784\t1.0000\n"
     ]
    },
    {
     "name": "stderr",
     "output_type": "stream",
     "text": [
      "epoch 25 - train: 65it [00:01, 58.36it/s]"
     ]
    },
    {
     "name": "stdout",
     "output_type": "stream",
     "text": [
      "- batch loss and accuracy : 0.3959779\t1.0000\n",
      "- batch loss and accuracy : 0.2050415\t1.0000\n",
      "- batch loss and accuracy : 0.2113094\t1.0000\n"
     ]
    },
    {
     "name": "stderr",
     "output_type": "stream",
     "text": [
      "epoch 25 - train: 72it [00:01, 59.19it/s]"
     ]
    },
    {
     "name": "stdout",
     "output_type": "stream",
     "text": [
      "- batch loss and accuracy : 0.1211847\t1.0000\n",
      "- batch loss and accuracy : 0.1294829\t1.0000\n",
      "- batch loss and accuracy : 2.9726768\t0.0000\n",
      "- batch loss and accuracy : 0.0928204\t1.0000\n",
      "- batch loss and accuracy : 2.9806633\t0.0000\n",
      "- batch loss and accuracy : 0.1247579\t1.0000\n",
      "- batch loss and accuracy : 0.2101375\t1.0000\n",
      "- batch loss and accuracy : 2.0631790\t0.0000\n",
      "- batch loss and accuracy : 0.2576753\t1.0000\n",
      "- batch loss and accuracy : 0.4332806\t1.0000\n"
     ]
    },
    {
     "name": "stderr",
     "output_type": "stream",
     "text": [
      "epoch 25 - train: 78it [00:01, 58.76it/s]"
     ]
    },
    {
     "name": "stdout",
     "output_type": "stream",
     "text": [
      "- batch loss and accuracy : 0.3441032\t1.0000\n",
      "- batch loss and accuracy : 0.2719060\t1.0000\n",
      "- batch loss and accuracy : 0.4396886\t1.0000\n"
     ]
    },
    {
     "name": "stderr",
     "output_type": "stream",
     "text": [
      "epoch 25 - train: 85it [00:01, 61.43it/s]"
     ]
    },
    {
     "name": "stdout",
     "output_type": "stream",
     "text": [
      "- batch loss and accuracy : 1.1493587\t0.3333\n",
      "- batch loss and accuracy : 0.3455901\t1.0000\n",
      "- batch loss and accuracy : 0.3684743\t1.0000\n",
      "- batch loss and accuracy : 0.2441407\t1.0000\n",
      "- batch loss and accuracy : 0.4560540\t1.0000\n",
      "- batch loss and accuracy : 0.2195100\t1.0000\n",
      "- batch loss and accuracy : 2.0895975\t0.0000\n",
      "- batch loss and accuracy : 0.1379836\t1.0000\n",
      "- batch loss and accuracy : 2.4938838\t0.0000\n",
      "- batch loss and accuracy : 0.2456308\t1.0000\n",
      "- batch loss and accuracy : 1.5596883\t0.0000\n",
      "- batch loss and accuracy : 0.4276733\t1.0000\n"
     ]
    },
    {
     "name": "stderr",
     "output_type": "stream",
     "text": [
      "epoch 25 - train: 92it [00:01, 54.80it/s]"
     ]
    },
    {
     "name": "stdout",
     "output_type": "stream",
     "text": [
      "- batch loss and accuracy : 0.9937273\t0.0000\n",
      "- batch loss and accuracy : 0.5015986\t0.6667\n",
      "- batch loss and accuracy : 0.8131905\t0.3333\n",
      "- batch loss and accuracy : 0.2467022\t1.0000\n",
      "- batch loss and accuracy : 1.7298536\t0.0000\n",
      "- batch loss and accuracy : 1.6979164\t0.0000\n",
      "- batch loss and accuracy : 1.9356649\t0.0000\n"
     ]
    },
    {
     "name": "stderr",
     "output_type": "stream",
     "text": [
      "epoch 25 - train: 98it [00:01, 53.15it/s]"
     ]
    },
    {
     "name": "stdout",
     "output_type": "stream",
     "text": [
      "- batch loss and accuracy : 1.0654356\t0.0000\n",
      "- batch loss and accuracy : 0.6410581\t0.3333\n",
      "- batch loss and accuracy : 1.5702995\t0.0000\n"
     ]
    },
    {
     "name": "stderr",
     "output_type": "stream",
     "text": [
      "epoch 25 - train: 104it [00:01, 52.22it/s]"
     ]
    },
    {
     "name": "stdout",
     "output_type": "stream",
     "text": [
      "- batch loss and accuracy : 0.3600766\t1.0000\n",
      "- batch loss and accuracy : 0.1007603\t1.0000\n",
      "- batch loss and accuracy : 2.5047863\t0.0000\n",
      "- batch loss and accuracy : 0.0859087\t1.0000\n",
      "- batch loss and accuracy : 0.0729516\t1.0000\n",
      "- batch loss and accuracy : 0.0572411\t1.0000\n",
      "- batch loss and accuracy : 0.0394402\t1.0000\n"
     ]
    },
    {
     "name": "stderr",
     "output_type": "stream",
     "text": [
      "epoch 25 - train: 110it [00:02, 50.29it/s]"
     ]
    },
    {
     "name": "stdout",
     "output_type": "stream",
     "text": [
      "- batch loss and accuracy : 0.0446917\t1.0000\n",
      "- batch loss and accuracy : 3.2695498\t0.0000\n",
      "- batch loss and accuracy : 0.0410160\t1.0000\n"
     ]
    },
    {
     "name": "stderr",
     "output_type": "stream",
     "text": [
      "epoch 25 - train: 116it [00:02, 49.38it/s]"
     ]
    },
    {
     "name": "stdout",
     "output_type": "stream",
     "text": [
      "- batch loss and accuracy : 2.9225516\t0.0000\n",
      "- batch loss and accuracy : 2.6295061\t0.0000\n",
      "- batch loss and accuracy : 1.7112758\t0.0000\n",
      "- batch loss and accuracy : 0.4739451\t1.0000\n",
      "- batch loss and accuracy : 1.0627650\t0.3333\n",
      "- batch loss and accuracy : 0.9849917\t0.3333\n",
      "- batch loss and accuracy : 1.5505241\t0.0000\n",
      "- batch loss and accuracy : 1.0946684\t0.0000\n",
      "- batch loss and accuracy : 0.9441649\t0.0000\n",
      "- batch loss and accuracy : 0.5406511\t0.6667\n",
      "- batch loss and accuracy : 1.2988065\t0.0000\n",
      "- batch loss and accuracy : 0.5472652\t0.6667\n"
     ]
    },
    {
     "name": "stderr",
     "output_type": "stream",
     "text": [
      "epoch 25 - train: 123it [00:02, 52.95it/s]"
     ]
    },
    {
     "name": "stdout",
     "output_type": "stream",
     "text": [
      "- batch loss and accuracy : 1.7104750\t0.0000\n",
      "- batch loss and accuracy : 0.2584056\t1.0000\n",
      "- batch loss and accuracy : 1.6754062\t0.0000\n",
      "- batch loss and accuracy : 1.3853468\t0.0000\n",
      "- batch loss and accuracy : 0.2454381\t1.0000\n",
      "- batch loss and accuracy : 0.4492302\t1.0000\n"
     ]
    },
    {
     "name": "stderr",
     "output_type": "stream",
     "text": [
      "epoch 25 - train: 129it [00:02, 49.03it/s]"
     ]
    },
    {
     "name": "stdout",
     "output_type": "stream",
     "text": [
      "- batch loss and accuracy : 1.2607729\t0.3333\n",
      "- batch loss and accuracy : 0.5363002\t0.6667\n",
      "- batch loss and accuracy : 0.8392676\t0.3333\n"
     ]
    },
    {
     "name": "stderr",
     "output_type": "stream",
     "text": [
      "epoch 25 - train: 134it [00:02, 46.98it/s]"
     ]
    },
    {
     "name": "stdout",
     "output_type": "stream",
     "text": [
      "- batch loss and accuracy : 0.8170297\t0.3333\n",
      "- batch loss and accuracy : 0.8835670\t0.3333\n",
      "- batch loss and accuracy : 0.8472716\t0.3333\n",
      "- batch loss and accuracy : 0.9113714\t0.0000\n",
      "- batch loss and accuracy : 0.4446154\t1.0000\n",
      "- batch loss and accuracy : 0.9403062\t0.3333\n",
      "- batch loss and accuracy : 1.0758342\t0.0000\n"
     ]
    },
    {
     "name": "stderr",
     "output_type": "stream",
     "text": [
      "epoch 25 - train: 139it [00:02, 47.38it/s]"
     ]
    },
    {
     "name": "stdout",
     "output_type": "stream",
     "text": [
      "- batch loss and accuracy : 0.5214196\t0.6667\n",
      "- batch loss and accuracy : 1.1809978\t0.0000\n"
     ]
    },
    {
     "name": "stderr",
     "output_type": "stream",
     "text": [
      "epoch 25 - train: 144it [00:02, 46.60it/s]"
     ]
    },
    {
     "name": "stdout",
     "output_type": "stream",
     "text": [
      "- batch loss and accuracy : 0.3501908\t1.0000\n",
      "- batch loss and accuracy : 0.2736068\t1.0000\n",
      "- batch loss and accuracy : 1.7163572\t0.0000\n",
      "- batch loss and accuracy : 1.6483192\t0.0000\n",
      "- batch loss and accuracy : 0.2847912\t1.0000\n",
      "- batch loss and accuracy : 0.2401712\t1.0000\n",
      "- batch loss and accuracy : 1.7023796\t0.0000\n",
      "- batch loss and accuracy : 1.1578324\t0.3333\n"
     ]
    },
    {
     "name": "stderr",
     "output_type": "stream",
     "text": [
      "epoch 25 - train: 149it [00:02, 46.51it/s]"
     ]
    },
    {
     "name": "stdout",
     "output_type": "stream",
     "text": [
      "- batch loss and accuracy : 0.6478061\t0.6667\n",
      "- batch loss and accuracy : 0.6690445\t0.3333\n",
      "- batch loss and accuracy : 0.6452330\t0.6667\n"
     ]
    },
    {
     "name": "stderr",
     "output_type": "stream",
     "text": [
      "epoch 25 - train: 154it [00:02, 46.87it/s]"
     ]
    },
    {
     "name": "stdout",
     "output_type": "stream",
     "text": [
      "- batch loss and accuracy : 0.6958205\t0.3333\n",
      "- batch loss and accuracy : 0.6560503\t0.6667\n",
      "- batch loss and accuracy : 0.8263105\t0.3333\n",
      "- batch loss and accuracy : 0.7647567\t0.0000\n",
      "- batch loss and accuracy : 0.7120595\t0.0000\n",
      "- batch loss and accuracy : 0.4881116\t1.0000\n",
      "- batch loss and accuracy : 1.0504525\t0.0000\n",
      "- batch loss and accuracy : 0.5140307\t0.6667\n"
     ]
    },
    {
     "name": "stderr",
     "output_type": "stream",
     "text": [
      "epoch 25 - train: 160it [00:03, 49.35it/s]"
     ]
    },
    {
     "name": "stdout",
     "output_type": "stream",
     "text": [
      "- batch loss and accuracy : 1.2037058\t0.0000\n",
      "- batch loss and accuracy : 1.1304644\t0.0000\n",
      "- batch loss and accuracy : 0.8113307\t0.3333\n"
     ]
    },
    {
     "name": "stderr",
     "output_type": "stream",
     "text": [
      "epoch 25 - train: 166it [00:03, 50.87it/s]"
     ]
    },
    {
     "name": "stdout",
     "output_type": "stream",
     "text": [
      "- batch loss and accuracy : 0.8293276\t0.3333\n",
      "- batch loss and accuracy : 0.3888125\t1.0000\n",
      "- batch loss and accuracy : 1.0532951\t0.0000\n",
      "- batch loss and accuracy : 0.3926662\t1.0000\n",
      "- batch loss and accuracy : 0.2008227\t1.0000\n",
      "- batch loss and accuracy : 0.1141131\t1.0000\n",
      "- batch loss and accuracy : 0.0832675\t1.0000\n",
      "- batch loss and accuracy : 0.0717602\t1.0000\n",
      "- batch loss and accuracy : 0.0644375\t1.0000\n",
      "- batch loss and accuracy : 3.6228018\t0.0000\n"
     ]
    },
    {
     "name": "stderr",
     "output_type": "stream",
     "text": [
      "epoch 25 - train: 173it [00:03, 56.17it/s]"
     ]
    },
    {
     "name": "stdout",
     "output_type": "stream",
     "text": [
      "- batch loss and accuracy : 0.0197717\t1.0000\n",
      "- batch loss and accuracy : 0.0354283\t1.0000\n",
      "- batch loss and accuracy : 0.0311780\t1.0000\n"
     ]
    },
    {
     "name": "stderr",
     "output_type": "stream",
     "text": [
      "epoch 25 - train: 179it [00:03, 55.17it/s]"
     ]
    },
    {
     "name": "stdout",
     "output_type": "stream",
     "text": [
      "- batch loss and accuracy : 0.0233651\t1.0000\n",
      "- batch loss and accuracy : 0.0348201\t1.0000\n",
      "- batch loss and accuracy : 3.6827312\t0.0000\n",
      "- batch loss and accuracy : 0.0356341\t1.0000\n",
      "- batch loss and accuracy : 2.5972733\t0.0000\n",
      "- batch loss and accuracy : 2.5222747\t0.0000\n",
      "- batch loss and accuracy : 2.2223697\t0.0000\n",
      "- batch loss and accuracy : 0.5156856\t0.6667\n",
      "- batch loss and accuracy : 0.8675473\t0.3333\n"
     ]
    },
    {
     "name": "stderr",
     "output_type": "stream",
     "text": [
      "epoch 25 - train: 186it [00:03, 57.66it/s]"
     ]
    },
    {
     "name": "stdout",
     "output_type": "stream",
     "text": [
      "- batch loss and accuracy : 0.9964600\t0.3333\n",
      "- batch loss and accuracy : 1.5054797\t0.0000\n",
      "- batch loss and accuracy : 0.2885867\t1.0000\n"
     ]
    },
    {
     "name": "stderr",
     "output_type": "stream",
     "text": [
      "epoch 25 - train: 192it [00:03, 51.90it/s]"
     ]
    },
    {
     "name": "stdout",
     "output_type": "stream",
     "text": [
      "- batch loss and accuracy : 1.5205605\t0.0000\n",
      "- batch loss and accuracy : 1.4964185\t0.0000\n",
      "- batch loss and accuracy : 1.1650131\t0.0000\n",
      "- batch loss and accuracy : 0.7125293\t0.6667\n",
      "- batch loss and accuracy : 0.3314267\t1.0000\n",
      "- batch loss and accuracy : 0.2946891\t1.0000\n",
      "- batch loss and accuracy : 0.1575486\t1.0000\n",
      "- batch loss and accuracy : 0.0510981\t1.0000\n"
     ]
    },
    {
     "name": "stderr",
     "output_type": "stream",
     "text": [
      "epoch 25 - train: 198it [00:03, 41.74it/s]"
     ]
    },
    {
     "name": "stdout",
     "output_type": "stream",
     "text": [
      "- batch loss and accuracy : 0.0225798\t1.0000\n",
      "- batch loss and accuracy : 4.3545837\t0.0000\n",
      "- batch loss and accuracy : 0.0072275\t1.0000\n",
      "- batch loss and accuracy : 0.0077430\t1.0000\n",
      "- batch loss and accuracy : 0.0062383\t1.0000\n",
      "- batch loss and accuracy : 0.0045863\t1.0000\n"
     ]
    },
    {
     "name": "stderr",
     "output_type": "stream",
     "text": [
      "epoch 25 - train: 203it [00:03, 38.61it/s]"
     ]
    },
    {
     "name": "stdout",
     "output_type": "stream",
     "text": [
      "- batch loss and accuracy : 0.0031486\t1.0000\n",
      "- batch loss and accuracy : 0.0063941\t1.0000\n",
      "- batch loss and accuracy : 0.0053209\t1.0000\n",
      "- batch loss and accuracy : 6.4544363\t0.0000\n",
      "- batch loss and accuracy : 0.0023029\t1.0000\n",
      "- batch loss and accuracy : 0.0084560\t1.0000\n",
      "- batch loss and accuracy : 0.0083202\t1.0000\n"
     ]
    },
    {
     "name": "stderr",
     "output_type": "stream",
     "text": [
      "epoch 25 - train: 212it [00:04, 34.51it/s]"
     ]
    },
    {
     "name": "stdout",
     "output_type": "stream",
     "text": [
      "- batch loss and accuracy : 0.0140328\t1.0000\n",
      "- batch loss and accuracy : 0.0061286\t1.0000\n",
      "- batch loss and accuracy : 0.0063701\t1.0000\n",
      "- batch loss and accuracy : 0.0120962\t1.0000\n",
      "- batch loss and accuracy : 4.5082769\t0.0000\n",
      "- batch loss and accuracy : 0.0170480\t1.0000\n",
      "- batch loss and accuracy : 0.0196921\t1.0000\n"
     ]
    },
    {
     "name": "stderr",
     "output_type": "stream",
     "text": [
      "epoch 25 - train: 216it [00:04, 31.91it/s]"
     ]
    },
    {
     "name": "stdout",
     "output_type": "stream",
     "text": [
      "- batch loss and accuracy : 3.4586167\t0.0000\n",
      "- batch loss and accuracy : 0.0912594\t1.0000\n",
      "- batch loss and accuracy : 1.6310648\t0.0000\n",
      "- batch loss and accuracy : 0.1362446\t1.0000\n",
      "- batch loss and accuracy : 0.4504894\t1.0000\n"
     ]
    },
    {
     "name": "stderr",
     "output_type": "stream",
     "text": [
      "epoch 25 - train: 221it [00:04, 33.70it/s]"
     ]
    },
    {
     "name": "stdout",
     "output_type": "stream",
     "text": [
      "- batch loss and accuracy : 0.3836708\t1.0000\n",
      "- batch loss and accuracy : 0.7783253\t0.3333\n",
      "- batch loss and accuracy : 0.8497335\t0.3333\n"
     ]
    },
    {
     "name": "stderr",
     "output_type": "stream",
     "text": [
      "epoch 25 - train: 225it [00:04, 34.59it/s]"
     ]
    },
    {
     "name": "stdout",
     "output_type": "stream",
     "text": [
      "- batch loss and accuracy : 0.8963481\t0.3333\n",
      "- batch loss and accuracy : 0.5081390\t1.0000\n",
      "- batch loss and accuracy : 0.6078238\t0.6667\n",
      "- batch loss and accuracy : 1.1808231\t0.0000\n",
      "- batch loss and accuracy : 0.5008430\t1.0000\n",
      "- batch loss and accuracy : 0.3490736\t1.0000\n"
     ]
    },
    {
     "name": "stderr",
     "output_type": "stream",
     "text": [
      "epoch 25 - train: 230it [00:04, 36.53it/s]"
     ]
    },
    {
     "name": "stdout",
     "output_type": "stream",
     "text": [
      "- batch loss and accuracy : 0.2575183\t1.0000\n",
      "- batch loss and accuracy : 0.1473168\t1.0000\n"
     ]
    },
    {
     "name": "stderr",
     "output_type": "stream",
     "text": [
      "epoch 25 - train: 234it [00:04, 35.62it/s]"
     ]
    },
    {
     "name": "stdout",
     "output_type": "stream",
     "text": [
      "- batch loss and accuracy : 0.1434392\t1.0000\n",
      "- batch loss and accuracy : 0.0768118\t1.0000\n",
      "- batch loss and accuracy : 2.8424203\t0.0000\n",
      "- batch loss and accuracy : 2.9798934\t0.0000\n",
      "- batch loss and accuracy : 2.4579511\t0.0000\n",
      "- batch loss and accuracy : 2.2627158\t0.0000\n",
      "- batch loss and accuracy : 0.8867311\t0.0000\n"
     ]
    },
    {
     "name": "stderr",
     "output_type": "stream",
     "text": [
      "epoch 25 - train: 240it [00:05, 40.31it/s]"
     ]
    },
    {
     "name": "stdout",
     "output_type": "stream",
     "text": [
      "- batch loss and accuracy : 0.7084746\t0.6667\n",
      "- batch loss and accuracy : 0.1822591\t1.0000\n"
     ]
    },
    {
     "name": "stderr",
     "output_type": "stream",
     "text": [
      "epoch 25 - train: 245it [00:05, 35.76it/s]"
     ]
    },
    {
     "name": "stdout",
     "output_type": "stream",
     "text": [
      "- batch loss and accuracy : 0.1529358\t1.0000\n",
      "- batch loss and accuracy : 3.2417350\t0.0000\n",
      "- batch loss and accuracy : 3.9847703\t0.0000\n",
      "- batch loss and accuracy : 0.0137137\t1.0000\n",
      "- batch loss and accuracy : 0.0202569\t1.0000\n",
      "- batch loss and accuracy : 0.0103158\t1.0000\n",
      "- batch loss and accuracy : 0.0111685\t1.0000\n"
     ]
    },
    {
     "name": "stderr",
     "output_type": "stream",
     "text": [
      "epoch 25 - train: 249it [00:05, 46.28it/s]\n"
     ]
    },
    {
     "name": "stdout",
     "output_type": "stream",
     "text": [
      "- batch loss and accuracy : 4.2189627\t0.0000\n",
      "- batch loss and accuracy : 0.0216188\t1.0000\n"
     ]
    },
    {
     "name": "stderr",
     "output_type": "stream",
     "text": [
      "epoch 25 - validation: 100%|██████████| 63/63 [00:01<00:00, 52.13it/s]"
     ]
    },
    {
     "name": "stdout",
     "output_type": "stream",
     "text": [
      "Validation loss and accuracy : 1.4329573\t0.7143\n",
      "EPOCH 26\n"
     ]
    },
    {
     "name": "stderr",
     "output_type": "stream",
     "text": [
      "\n",
      "epoch 26 - train: 3it [00:00, 28.34it/s]"
     ]
    },
    {
     "name": "stdout",
     "output_type": "stream",
     "text": [
      "- batch loss and accuracy : 4.2858229\t0.0000\n",
      "- batch loss and accuracy : 3.2410703\t0.0000\n",
      "- batch loss and accuracy : 0.0664431\t1.0000\n",
      "- batch loss and accuracy : 0.1748408\t1.0000\n",
      "- batch loss and accuracy : 0.3225879\t1.0000\n"
     ]
    },
    {
     "name": "stderr",
     "output_type": "stream",
     "text": [
      "epoch 26 - train: 8it [00:00, 40.29it/s]"
     ]
    },
    {
     "name": "stdout",
     "output_type": "stream",
     "text": [
      "- batch loss and accuracy : 1.1880578\t0.3333\n",
      "- batch loss and accuracy : 0.8067054\t0.3333\n",
      "- batch loss and accuracy : 0.5753007\t0.6667\n",
      "- batch loss and accuracy : 0.9279242\t0.6667\n",
      "- batch loss and accuracy : 1.6185691\t0.0000\n",
      "- batch loss and accuracy : 1.2126722\t0.0000\n"
     ]
    },
    {
     "name": "stderr",
     "output_type": "stream",
     "text": [
      "epoch 26 - train: 14it [00:00, 47.61it/s]"
     ]
    },
    {
     "name": "stdout",
     "output_type": "stream",
     "text": [
      "- batch loss and accuracy : 0.5479107\t0.6667\n",
      "- batch loss and accuracy : 1.4050792\t0.0000\n",
      "- batch loss and accuracy : 0.6809090\t0.3333\n",
      "- batch loss and accuracy : 0.6684461\t0.3333\n",
      "- batch loss and accuracy : 0.4587103\t1.0000\n",
      "- batch loss and accuracy : 0.2881832\t1.0000\n"
     ]
    },
    {
     "name": "stderr",
     "output_type": "stream",
     "text": [
      "epoch 26 - train: 20it [00:00, 48.66it/s]"
     ]
    },
    {
     "name": "stdout",
     "output_type": "stream",
     "text": [
      "- batch loss and accuracy : 0.1024206\t1.0000\n",
      "- batch loss and accuracy : 3.1212063\t0.0000\n",
      "- batch loss and accuracy : 0.0288951\t1.0000\n",
      "- batch loss and accuracy : 4.2924099\t0.0000\n",
      "- batch loss and accuracy : 2.9722650\t0.0000\n"
     ]
    },
    {
     "name": "stderr",
     "output_type": "stream",
     "text": [
      "epoch 26 - train: 26it [00:00, 50.67it/s]"
     ]
    },
    {
     "name": "stdout",
     "output_type": "stream",
     "text": [
      "- batch loss and accuracy : 3.4543159\t0.0000\n",
      "- batch loss and accuracy : 0.0893183\t1.0000\n",
      "- batch loss and accuracy : 0.1580036\t1.0000\n",
      "- batch loss and accuracy : 0.2390904\t1.0000\n",
      "- batch loss and accuracy : 0.2871556\t1.0000\n",
      "- batch loss and accuracy : 0.4998761\t1.0000\n"
     ]
    },
    {
     "name": "stderr",
     "output_type": "stream",
     "text": [
      "epoch 26 - train: 32it [00:00, 51.62it/s]"
     ]
    },
    {
     "name": "stdout",
     "output_type": "stream",
     "text": [
      "- batch loss and accuracy : 0.5450464\t0.6667\n",
      "- batch loss and accuracy : 0.4001748\t1.0000\n",
      "- batch loss and accuracy : 1.2308491\t0.0000\n",
      "- batch loss and accuracy : 0.3250958\t1.0000\n",
      "- batch loss and accuracy : 0.3453674\t1.0000\n",
      "- batch loss and accuracy : 0.6243714\t0.6667\n"
     ]
    },
    {
     "name": "stderr",
     "output_type": "stream",
     "text": [
      "epoch 26 - train: 38it [00:00, 50.71it/s]"
     ]
    },
    {
     "name": "stdout",
     "output_type": "stream",
     "text": [
      "- batch loss and accuracy : 1.0385824\t0.0000\n",
      "- batch loss and accuracy : 0.4398991\t1.0000\n",
      "- batch loss and accuracy : 0.9812601\t0.3333\n",
      "- batch loss and accuracy : 0.5875471\t0.6667\n",
      "- batch loss and accuracy : 0.6710442\t0.6667\n"
     ]
    },
    {
     "name": "stderr",
     "output_type": "stream",
     "text": [
      "epoch 26 - train: 45it [00:00, 54.62it/s]"
     ]
    },
    {
     "name": "stdout",
     "output_type": "stream",
     "text": [
      "- batch loss and accuracy : 1.0554826\t0.3333\n",
      "- batch loss and accuracy : 0.6118491\t0.6667\n",
      "- batch loss and accuracy : 0.4548630\t1.0000\n",
      "- batch loss and accuracy : 1.7443216\t0.0000\n",
      "- batch loss and accuracy : 0.2066372\t1.0000\n",
      "- batch loss and accuracy : 1.3281963\t0.0000\n"
     ]
    },
    {
     "name": "stderr",
     "output_type": "stream",
     "text": [
      "epoch 26 - train: 51it [00:01, 53.04it/s]"
     ]
    },
    {
     "name": "stdout",
     "output_type": "stream",
     "text": [
      "- batch loss and accuracy : 1.2549309\t0.0000\n",
      "- batch loss and accuracy : 1.2382326\t0.0000\n",
      "- batch loss and accuracy : 0.4669600\t1.0000\n",
      "- batch loss and accuracy : 0.9315438\t0.3333\n",
      "- batch loss and accuracy : 0.4310827\t1.0000\n",
      "- batch loss and accuracy : 1.0759052\t0.0000\n",
      "- batch loss and accuracy : 0.3110401\t1.0000\n",
      "- batch loss and accuracy : 1.1334379\t0.0000\n",
      "- batch loss and accuracy : 0.9832368\t0.3333\n",
      "- batch loss and accuracy : 0.8247151\t0.0000\n",
      "- batch loss and accuracy : 0.5817317\t0.6667\n"
     ]
    },
    {
     "name": "stderr",
     "output_type": "stream",
     "text": [
      "epoch 26 - train: 57it [00:01, 53.21it/s]"
     ]
    },
    {
     "name": "stdout",
     "output_type": "stream",
     "text": [
      "- batch loss and accuracy : 1.5547427\t0.0000\n",
      "- batch loss and accuracy : 0.1829741\t1.0000\n",
      "- batch loss and accuracy : 1.7671902\t0.0000\n",
      "- batch loss and accuracy : 0.1946622\t1.0000\n",
      "- batch loss and accuracy : 0.2220831\t1.0000\n",
      "- batch loss and accuracy : 0.2830423\t1.0000\n",
      "- batch loss and accuracy : 1.9590482\t0.0000\n"
     ]
    },
    {
     "name": "stderr",
     "output_type": "stream",
     "text": [
      "epoch 26 - train: 63it [00:01, 53.71it/s]"
     ]
    },
    {
     "name": "stdout",
     "output_type": "stream",
     "text": [
      "- batch loss and accuracy : 1.5327849\t0.0000\n",
      "- batch loss and accuracy : 0.2441907\t1.0000\n",
      "- batch loss and accuracy : 1.0286181\t0.3333\n",
      "- batch loss and accuracy : 0.4889699\t1.0000\n",
      "- batch loss and accuracy : 0.7109586\t0.6667\n"
     ]
    },
    {
     "name": "stderr",
     "output_type": "stream",
     "text": [
      "epoch 26 - train: 70it [00:01, 53.32it/s]"
     ]
    },
    {
     "name": "stdout",
     "output_type": "stream",
     "text": [
      "- batch loss and accuracy : 0.7821963\t0.0000\n",
      "- batch loss and accuracy : 0.6627392\t0.6667\n",
      "- batch loss and accuracy : 0.8105558\t0.3333\n",
      "- batch loss and accuracy : 0.7157182\t0.3333\n",
      "- batch loss and accuracy : 0.6127380\t0.6667\n",
      "- batch loss and accuracy : 0.4920121\t1.0000\n",
      "- batch loss and accuracy : 0.3224118\t1.0000\n"
     ]
    },
    {
     "name": "stderr",
     "output_type": "stream",
     "text": [
      "epoch 26 - train: 76it [00:01, 54.53it/s]"
     ]
    },
    {
     "name": "stdout",
     "output_type": "stream",
     "text": [
      "- batch loss and accuracy : 1.5616968\t0.0000\n",
      "- batch loss and accuracy : 0.2502094\t1.0000\n",
      "- batch loss and accuracy : 0.1347262\t1.0000\n",
      "- batch loss and accuracy : 1.9384551\t0.0000\n"
     ]
    },
    {
     "name": "stderr",
     "output_type": "stream",
     "text": [
      "epoch 26 - train: 82it [00:01, 53.70it/s]"
     ]
    },
    {
     "name": "stdout",
     "output_type": "stream",
     "text": [
      "- batch loss and accuracy : 1.5891140\t0.0000\n",
      "- batch loss and accuracy : 1.6223449\t0.0000\n",
      "- batch loss and accuracy : 0.5181930\t1.0000\n",
      "- batch loss and accuracy : 0.8612701\t0.6667\n",
      "- batch loss and accuracy : 0.4293757\t0.6667\n",
      "- batch loss and accuracy : 1.3536174\t0.0000\n",
      "- batch loss and accuracy : 0.2164094\t1.0000\n"
     ]
    },
    {
     "name": "stderr",
     "output_type": "stream",
     "text": [
      "epoch 26 - train: 88it [00:01, 54.15it/s]"
     ]
    },
    {
     "name": "stdout",
     "output_type": "stream",
     "text": [
      "- batch loss and accuracy : 0.1462611\t1.0000\n",
      "- batch loss and accuracy : 0.1353016\t1.0000\n",
      "- batch loss and accuracy : 0.0818439\t1.0000\n",
      "- batch loss and accuracy : 3.0159519\t0.0000\n"
     ]
    },
    {
     "name": "stderr",
     "output_type": "stream",
     "text": [
      "epoch 26 - train: 94it [00:01, 53.00it/s]"
     ]
    },
    {
     "name": "stdout",
     "output_type": "stream",
     "text": [
      "- batch loss and accuracy : 0.0614598\t1.0000\n",
      "- batch loss and accuracy : 2.6511359\t0.0000\n",
      "- batch loss and accuracy : 0.0580722\t1.0000\n",
      "- batch loss and accuracy : 0.0782742\t1.0000\n",
      "- batch loss and accuracy : 0.1209310\t1.0000\n",
      "- batch loss and accuracy : 0.1715651\t1.0000\n",
      "- batch loss and accuracy : 0.2202853\t1.0000\n"
     ]
    },
    {
     "name": "stderr",
     "output_type": "stream",
     "text": [
      "epoch 26 - train: 100it [00:01, 52.93it/s]"
     ]
    },
    {
     "name": "stdout",
     "output_type": "stream",
     "text": [
      "- batch loss and accuracy : 0.1602767\t1.0000\n",
      "- batch loss and accuracy : 0.1199093\t1.0000\n",
      "- batch loss and accuracy : 0.1501229\t1.0000\n",
      "- batch loss and accuracy : 0.0903100\t1.0000\n"
     ]
    },
    {
     "name": "stderr",
     "output_type": "stream",
     "text": [
      "epoch 26 - train: 106it [00:02, 53.45it/s]"
     ]
    },
    {
     "name": "stdout",
     "output_type": "stream",
     "text": [
      "- batch loss and accuracy : 0.1041193\t1.0000\n",
      "- batch loss and accuracy : 0.1431232\t1.0000\n",
      "- batch loss and accuracy : 2.8306289\t0.0000\n",
      "- batch loss and accuracy : 0.0653843\t1.0000\n",
      "- batch loss and accuracy : 0.1082329\t1.0000\n",
      "- batch loss and accuracy : 0.1014532\t1.0000\n",
      "- batch loss and accuracy : 0.0944798\t1.0000\n",
      "- batch loss and accuracy : 0.1333070\t1.0000\n",
      "- batch loss and accuracy : 0.1663187\t1.0000\n",
      "- batch loss and accuracy : 0.1724034\t1.0000\n"
     ]
    },
    {
     "name": "stderr",
     "output_type": "stream",
     "text": [
      "epoch 26 - train: 118it [00:02, 50.56it/s]"
     ]
    },
    {
     "name": "stdout",
     "output_type": "stream",
     "text": [
      "- batch loss and accuracy : 0.0597199\t1.0000\n",
      "- batch loss and accuracy : 3.0880134\t0.0000\n",
      "- batch loss and accuracy : 2.5327535\t0.0000\n",
      "- batch loss and accuracy : 2.1886950\t0.0000\n",
      "- batch loss and accuracy : 0.3018423\t1.0000\n",
      "- batch loss and accuracy : 0.8605809\t0.0000\n",
      "- batch loss and accuracy : 0.6476967\t0.6667\n",
      "- batch loss and accuracy : 1.3596902\t0.0000\n",
      "- batch loss and accuracy : 1.0716637\t0.3333\n",
      "- batch loss and accuracy : 0.4525625\t1.0000\n",
      "- batch loss and accuracy : 0.4157383\t1.0000\n"
     ]
    },
    {
     "name": "stderr",
     "output_type": "stream",
     "text": [
      "epoch 26 - train: 131it [00:02, 54.08it/s]"
     ]
    },
    {
     "name": "stdout",
     "output_type": "stream",
     "text": [
      "- batch loss and accuracy : 1.5202825\t0.0000\n",
      "- batch loss and accuracy : 0.2879461\t1.0000\n",
      "- batch loss and accuracy : 1.5345505\t0.0000\n",
      "- batch loss and accuracy : 1.0295780\t0.3333\n",
      "- batch loss and accuracy : 1.0520558\t0.3333\n",
      "- batch loss and accuracy : 0.5604854\t0.6667\n",
      "- batch loss and accuracy : 0.4217292\t1.0000\n",
      "- batch loss and accuracy : 0.1239650\t1.0000\n",
      "- batch loss and accuracy : 0.0590216\t1.0000\n",
      "- batch loss and accuracy : 0.0519626\t1.0000\n",
      "- batch loss and accuracy : 0.0169976\t1.0000\n",
      "- batch loss and accuracy : 0.0142319\t1.0000\n",
      "- batch loss and accuracy : 0.0089607\t1.0000\n"
     ]
    },
    {
     "name": "stderr",
     "output_type": "stream",
     "text": [
      "epoch 26 - train: 143it [00:02, 54.93it/s]"
     ]
    },
    {
     "name": "stdout",
     "output_type": "stream",
     "text": [
      "- batch loss and accuracy : 0.0061688\t1.0000\n",
      "- batch loss and accuracy : 6.1121726\t0.0000\n",
      "- batch loss and accuracy : 0.0033502\t1.0000\n",
      "- batch loss and accuracy : 0.0031338\t1.0000\n",
      "- batch loss and accuracy : 0.0050324\t1.0000\n",
      "- batch loss and accuracy : 0.0036411\t1.0000\n",
      "- batch loss and accuracy : 0.0043404\t1.0000\n",
      "- batch loss and accuracy : 5.5477538\t0.0000\n",
      "- batch loss and accuracy : 0.0035451\t1.0000\n",
      "- batch loss and accuracy : 0.0090977\t1.0000\n",
      "- batch loss and accuracy : 5.0916567\t0.0000\n"
     ]
    },
    {
     "name": "stderr",
     "output_type": "stream",
     "text": [
      "epoch 26 - train: 149it [00:02, 53.69it/s]"
     ]
    },
    {
     "name": "stdout",
     "output_type": "stream",
     "text": [
      "- batch loss and accuracy : 4.1960640\t0.0000\n",
      "- batch loss and accuracy : 0.0347210\t1.0000\n",
      "- batch loss and accuracy : 3.3086958\t0.0000\n",
      "- batch loss and accuracy : 0.2088083\t1.0000\n",
      "- batch loss and accuracy : 0.4339475\t1.0000\n",
      "- batch loss and accuracy : 0.3797809\t1.0000\n",
      "- batch loss and accuracy : 0.8862473\t0.3333\n"
     ]
    },
    {
     "name": "stderr",
     "output_type": "stream",
     "text": [
      "epoch 26 - train: 155it [00:02, 51.79it/s]"
     ]
    },
    {
     "name": "stdout",
     "output_type": "stream",
     "text": [
      "- batch loss and accuracy : 0.7147369\t0.3333\n",
      "- batch loss and accuracy : 1.7044238\t0.0000\n",
      "- batch loss and accuracy : 1.6110710\t0.0000\n",
      "- batch loss and accuracy : 1.3638463\t0.0000\n"
     ]
    },
    {
     "name": "stderr",
     "output_type": "stream",
     "text": [
      "epoch 26 - train: 161it [00:03, 52.31it/s]"
     ]
    },
    {
     "name": "stdout",
     "output_type": "stream",
     "text": [
      "- batch loss and accuracy : 0.9287401\t0.3333\n",
      "- batch loss and accuracy : 0.4824238\t1.0000\n",
      "- batch loss and accuracy : 1.3185463\t0.0000\n",
      "- batch loss and accuracy : 1.9156234\t0.0000\n",
      "- batch loss and accuracy : 0.1236268\t1.0000\n",
      "- batch loss and accuracy : 2.1990666\t0.0000\n",
      "- batch loss and accuracy : 0.1882061\t1.0000\n",
      "- batch loss and accuracy : 0.1160793\t1.0000\n"
     ]
    },
    {
     "name": "stderr",
     "output_type": "stream",
     "text": [
      "epoch 26 - train: 168it [00:03, 55.16it/s]"
     ]
    },
    {
     "name": "stdout",
     "output_type": "stream",
     "text": [
      "- batch loss and accuracy : 0.1997750\t1.0000\n",
      "- batch loss and accuracy : 2.1592710\t0.0000\n",
      "- batch loss and accuracy : 0.2506792\t1.0000\n",
      "- batch loss and accuracy : 0.2650301\t1.0000\n"
     ]
    },
    {
     "name": "stderr",
     "output_type": "stream",
     "text": [
      "epoch 26 - train: 174it [00:03, 54.67it/s]"
     ]
    },
    {
     "name": "stdout",
     "output_type": "stream",
     "text": [
      "- batch loss and accuracy : 0.2442182\t1.0000\n",
      "- batch loss and accuracy : 0.2467800\t1.0000\n",
      "- batch loss and accuracy : 0.1619142\t1.0000\n",
      "- batch loss and accuracy : 0.2478313\t1.0000\n",
      "- batch loss and accuracy : 0.2511186\t1.0000\n",
      "- batch loss and accuracy : 2.1113541\t0.0000\n",
      "- batch loss and accuracy : 0.2722298\t1.0000\n"
     ]
    },
    {
     "name": "stderr",
     "output_type": "stream",
     "text": [
      "epoch 26 - train: 180it [00:03, 54.57it/s]"
     ]
    },
    {
     "name": "stdout",
     "output_type": "stream",
     "text": [
      "- batch loss and accuracy : 0.1349590\t1.0000\n",
      "- batch loss and accuracy : 1.6868899\t0.0000\n",
      "- batch loss and accuracy : 0.2299626\t1.0000\n",
      "- batch loss and accuracy : 0.1991773\t1.0000\n",
      "- batch loss and accuracy : 0.2188395\t1.0000\n"
     ]
    },
    {
     "name": "stderr",
     "output_type": "stream",
     "text": [
      "epoch 26 - train: 186it [00:03, 53.40it/s]"
     ]
    },
    {
     "name": "stdout",
     "output_type": "stream",
     "text": [
      "- batch loss and accuracy : 1.2708750\t0.0000\n",
      "- batch loss and accuracy : 0.2924834\t1.0000\n",
      "- batch loss and accuracy : 0.3169735\t1.0000\n",
      "- batch loss and accuracy : 0.3291336\t1.0000\n",
      "- batch loss and accuracy : 1.1992598\t0.0000\n",
      "- batch loss and accuracy : 0.5505728\t0.6667\n"
     ]
    },
    {
     "name": "stderr",
     "output_type": "stream",
     "text": [
      "epoch 26 - train: 192it [00:03, 53.23it/s]"
     ]
    },
    {
     "name": "stdout",
     "output_type": "stream",
     "text": [
      "- batch loss and accuracy : 1.4919490\t0.0000\n",
      "- batch loss and accuracy : 0.5220096\t0.6667\n",
      "- batch loss and accuracy : 0.5312519\t0.6667\n",
      "- batch loss and accuracy : 0.3608831\t1.0000\n",
      "- batch loss and accuracy : 0.9423706\t0.0000\n"
     ]
    },
    {
     "name": "stderr",
     "output_type": "stream",
     "text": [
      "epoch 26 - train: 198it [00:03, 53.36it/s]"
     ]
    },
    {
     "name": "stdout",
     "output_type": "stream",
     "text": [
      "- batch loss and accuracy : 0.4869289\t1.0000\n",
      "- batch loss and accuracy : 0.3749579\t0.6667\n",
      "- batch loss and accuracy : 0.8379437\t0.3333\n",
      "- batch loss and accuracy : 1.5708454\t0.0000\n",
      "- batch loss and accuracy : 1.0095400\t0.0000\n",
      "- batch loss and accuracy : 0.8619873\t0.3333\n",
      "- batch loss and accuracy : 1.0753438\t0.0000\n",
      "- batch loss and accuracy : 0.8035640\t0.3333\n",
      "- batch loss and accuracy : 0.7538233\t0.3333\n",
      "- batch loss and accuracy : 0.7807090\t0.0000\n",
      "- batch loss and accuracy : 1.1729065\t0.0000\n"
     ]
    },
    {
     "name": "stderr",
     "output_type": "stream",
     "text": [
      "epoch 26 - train: 204it [00:03, 51.82it/s]"
     ]
    },
    {
     "name": "stdout",
     "output_type": "stream",
     "text": [
      "- batch loss and accuracy : 0.3105305\t1.0000\n",
      "- batch loss and accuracy : 0.3653426\t1.0000\n",
      "- batch loss and accuracy : 0.1698185\t1.0000\n",
      "- batch loss and accuracy : 0.1916016\t1.0000\n",
      "- batch loss and accuracy : 0.0863813\t1.0000\n",
      "- batch loss and accuracy : 0.0796403\t1.0000\n"
     ]
    },
    {
     "name": "stderr",
     "output_type": "stream",
     "text": [
      "epoch 26 - train: 210it [00:04, 51.58it/s]"
     ]
    },
    {
     "name": "stdout",
     "output_type": "stream",
     "text": [
      "- batch loss and accuracy : 2.8986096\t0.0000\n",
      "- batch loss and accuracy : 0.0847920\t1.0000\n",
      "- batch loss and accuracy : 0.0520942\t1.0000\n",
      "- batch loss and accuracy : 0.0489424\t1.0000\n"
     ]
    },
    {
     "name": "stderr",
     "output_type": "stream",
     "text": [
      "epoch 26 - train: 216it [00:04, 50.57it/s]"
     ]
    },
    {
     "name": "stdout",
     "output_type": "stream",
     "text": [
      "- batch loss and accuracy : 3.6462398\t0.0000\n",
      "- batch loss and accuracy : 3.1399038\t0.0000\n",
      "- batch loss and accuracy : 0.1686414\t1.0000\n",
      "- batch loss and accuracy : 1.9842865\t0.0000\n",
      "- batch loss and accuracy : 0.2863706\t1.0000\n",
      "- batch loss and accuracy : 0.6310414\t0.6667\n"
     ]
    },
    {
     "name": "stderr",
     "output_type": "stream",
     "text": [
      "epoch 26 - train: 222it [00:04, 49.59it/s]"
     ]
    },
    {
     "name": "stdout",
     "output_type": "stream",
     "text": [
      "- batch loss and accuracy : 0.7711110\t0.3333\n",
      "- batch loss and accuracy : 0.6510290\t0.6667\n",
      "- batch loss and accuracy : 0.5470763\t1.0000\n",
      "- batch loss and accuracy : 0.8902323\t0.3333\n"
     ]
    },
    {
     "name": "stderr",
     "output_type": "stream",
     "text": [
      "epoch 26 - train: 227it [00:04, 46.37it/s]"
     ]
    },
    {
     "name": "stdout",
     "output_type": "stream",
     "text": [
      "- batch loss and accuracy : 0.6092443\t0.3333\n",
      "- batch loss and accuracy : 0.5743682\t0.6667\n",
      "- batch loss and accuracy : 0.2372032\t1.0000\n",
      "- batch loss and accuracy : 0.3420231\t1.0000\n",
      "- batch loss and accuracy : 0.2060736\t1.0000\n"
     ]
    },
    {
     "name": "stderr",
     "output_type": "stream",
     "text": [
      "epoch 26 - train: 233it [00:04, 48.73it/s]"
     ]
    },
    {
     "name": "stdout",
     "output_type": "stream",
     "text": [
      "- batch loss and accuracy : 0.1996020\t1.0000\n",
      "- batch loss and accuracy : 0.0853487\t1.0000\n",
      "- batch loss and accuracy : 0.0627839\t1.0000\n",
      "- batch loss and accuracy : 4.3521824\t0.0000\n",
      "- batch loss and accuracy : 0.0370231\t1.0000\n",
      "- batch loss and accuracy : 3.6331100\t0.0000\n"
     ]
    },
    {
     "name": "stderr",
     "output_type": "stream",
     "text": [
      "epoch 26 - train: 239it [00:04, 51.27it/s]"
     ]
    },
    {
     "name": "stdout",
     "output_type": "stream",
     "text": [
      "- batch loss and accuracy : 3.3314571\t0.0000\n",
      "- batch loss and accuracy : 0.0471072\t1.0000\n",
      "- batch loss and accuracy : 0.1391887\t1.0000\n",
      "- batch loss and accuracy : 1.9283342\t0.0000\n",
      "- batch loss and accuracy : 0.3263840\t1.0000\n",
      "- batch loss and accuracy : 1.3153601\t0.0000\n",
      "- batch loss and accuracy : 0.5745722\t0.6667\n",
      "- batch loss and accuracy : 1.4908575\t0.0000\n",
      "- batch loss and accuracy : 0.2579896\t1.0000\n",
      "- batch loss and accuracy : 1.5187531\t0.0000\n"
     ]
    },
    {
     "name": "stderr",
     "output_type": "stream",
     "text": [
      "epoch 26 - train: 245it [00:04, 47.83it/s]"
     ]
    },
    {
     "name": "stdout",
     "output_type": "stream",
     "text": [
      "- batch loss and accuracy : 1.6841526\t0.0000\n",
      "- batch loss and accuracy : 1.1253815\t0.0000\n",
      "- batch loss and accuracy : 1.0023985\t0.0000\n",
      "- batch loss and accuracy : 0.4933512\t1.0000\n",
      "- batch loss and accuracy : 1.5893712\t0.0000\n"
     ]
    },
    {
     "name": "stderr",
     "output_type": "stream",
     "text": [
      "epoch 26 - train: 249it [00:04, 51.38it/s]\n",
      "epoch 26 - validation: 100%|██████████| 63/63 [00:00<00:00, 67.64it/s]"
     ]
    },
    {
     "name": "stdout",
     "output_type": "stream",
     "text": [
      "Validation loss and accuracy : 0.6372763\t0.7143\n",
      "EPOCH 27\n"
     ]
    },
    {
     "name": "stderr",
     "output_type": "stream",
     "text": [
      "\n",
      "epoch 27 - train: 3it [00:00, 29.53it/s]"
     ]
    },
    {
     "name": "stdout",
     "output_type": "stream",
     "text": [
      "- batch loss and accuracy : 0.1414309\t1.0000\n",
      "- batch loss and accuracy : 0.1468479\t1.0000\n",
      "- batch loss and accuracy : 0.0711669\t1.0000\n",
      "- batch loss and accuracy : 3.4717739\t0.0000\n",
      "- batch loss and accuracy : 2.5370092\t0.0000\n",
      "- batch loss and accuracy : 2.7509432\t0.0000\n",
      "- batch loss and accuracy : 2.7752109\t0.0000\n"
     ]
    },
    {
     "name": "stderr",
     "output_type": "stream",
     "text": [
      "epoch 27 - train: 9it [00:00, 46.99it/s]"
     ]
    },
    {
     "name": "stdout",
     "output_type": "stream",
     "text": [
      "- batch loss and accuracy : 0.2062652\t1.0000\n",
      "- batch loss and accuracy : 0.3036221\t1.0000\n",
      "- batch loss and accuracy : 0.7447828\t0.3333\n",
      "- batch loss and accuracy : 0.4444654\t0.6667\n",
      "- batch loss and accuracy : 0.2056523\t1.0000\n"
     ]
    },
    {
     "name": "stderr",
     "output_type": "stream",
     "text": [
      "epoch 27 - train: 14it [00:00, 44.87it/s]"
     ]
    },
    {
     "name": "stdout",
     "output_type": "stream",
     "text": [
      "- batch loss and accuracy : 0.1218876\t1.0000\n",
      "- batch loss and accuracy : 2.4832587\t0.0000\n",
      "- batch loss and accuracy : 3.6927395\t0.0000\n",
      "- batch loss and accuracy : 3.1241899\t0.0000\n"
     ]
    },
    {
     "name": "stderr",
     "output_type": "stream",
     "text": [
      "epoch 27 - train: 19it [00:00, 46.27it/s]"
     ]
    },
    {
     "name": "stdout",
     "output_type": "stream",
     "text": [
      "- batch loss and accuracy : 2.2642536\t0.0000\n",
      "- batch loss and accuracy : 2.3386984\t0.0000\n",
      "- batch loss and accuracy : 1.1571717\t0.3333\n",
      "- batch loss and accuracy : 0.7279417\t0.6667\n",
      "- batch loss and accuracy : 0.1877803\t1.0000\n",
      "- batch loss and accuracy : 0.1800223\t1.0000\n",
      "- batch loss and accuracy : 3.3031490\t0.0000\n",
      "- batch loss and accuracy : 0.0234729\t1.0000\n"
     ]
    },
    {
     "name": "stderr",
     "output_type": "stream",
     "text": [
      "epoch 27 - train: 26it [00:00, 52.36it/s]"
     ]
    },
    {
     "name": "stdout",
     "output_type": "stream",
     "text": [
      "- batch loss and accuracy : 4.1531501\t0.0000\n",
      "- batch loss and accuracy : 4.2808428\t0.0000\n",
      "- batch loss and accuracy : 0.0098738\t1.0000\n",
      "- batch loss and accuracy : 0.0185861\t1.0000\n"
     ]
    },
    {
     "name": "stderr",
     "output_type": "stream",
     "text": [
      "epoch 27 - train: 32it [00:00, 53.10it/s]"
     ]
    },
    {
     "name": "stdout",
     "output_type": "stream",
     "text": [
      "- batch loss and accuracy : 3.8800216\t0.0000\n",
      "- batch loss and accuracy : 0.0295949\t1.0000\n",
      "- batch loss and accuracy : 3.2397704\t0.0000\n",
      "- batch loss and accuracy : 2.7401276\t0.0000\n",
      "- batch loss and accuracy : 0.2947507\t1.0000\n",
      "- batch loss and accuracy : 0.4188119\t1.0000\n",
      "- batch loss and accuracy : 0.7359337\t0.6667\n",
      "- batch loss and accuracy : 0.4743173\t1.0000\n",
      "- batch loss and accuracy : 1.2982258\t0.3333\n"
     ]
    },
    {
     "name": "stderr",
     "output_type": "stream",
     "text": [
      "epoch 27 - train: 39it [00:00, 56.87it/s]"
     ]
    },
    {
     "name": "stdout",
     "output_type": "stream",
     "text": [
      "- batch loss and accuracy : 1.3628089\t0.0000\n",
      "- batch loss and accuracy : 1.6340227\t0.0000\n",
      "- batch loss and accuracy : 0.4017126\t1.0000\n",
      "- batch loss and accuracy : 0.8412943\t0.3333\n",
      "- batch loss and accuracy : 0.8289994\t0.3333\n"
     ]
    },
    {
     "name": "stderr",
     "output_type": "stream",
     "text": [
      "epoch 27 - train: 46it [00:00, 59.28it/s]"
     ]
    },
    {
     "name": "stdout",
     "output_type": "stream",
     "text": [
      "- batch loss and accuracy : 0.5710138\t0.6667\n",
      "- batch loss and accuracy : 0.2431309\t1.0000\n",
      "- batch loss and accuracy : 2.2842784\t0.0000\n",
      "- batch loss and accuracy : 0.0985530\t1.0000\n",
      "- batch loss and accuracy : 0.0829055\t1.0000\n",
      "- batch loss and accuracy : 0.0911888\t1.0000\n",
      "- batch loss and accuracy : 0.0476891\t1.0000\n",
      "- batch loss and accuracy : 0.0746313\t1.0000\n"
     ]
    },
    {
     "name": "stderr",
     "output_type": "stream",
     "text": [
      "epoch 27 - train: 52it [00:00, 56.09it/s]"
     ]
    },
    {
     "name": "stdout",
     "output_type": "stream",
     "text": [
      "- batch loss and accuracy : 0.0400635\t1.0000\n",
      "- batch loss and accuracy : 3.9389873\t0.0000\n",
      "- batch loss and accuracy : 3.7967038\t0.0000\n",
      "- batch loss and accuracy : 3.4597969\t0.0000\n"
     ]
    },
    {
     "name": "stderr",
     "output_type": "stream",
     "text": [
      "epoch 27 - train: 58it [00:01, 54.49it/s]"
     ]
    },
    {
     "name": "stdout",
     "output_type": "stream",
     "text": [
      "- batch loss and accuracy : 2.3624811\t0.0000\n",
      "- batch loss and accuracy : 1.7574010\t0.0000\n",
      "- batch loss and accuracy : 0.9115736\t0.3333\n",
      "- batch loss and accuracy : 1.2483895\t0.0000\n",
      "- batch loss and accuracy : 1.7136949\t0.0000\n",
      "- batch loss and accuracy : 1.7103999\t0.0000\n",
      "- batch loss and accuracy : 1.8299264\t0.0000\n",
      "- batch loss and accuracy : 0.3937072\t0.6667\n"
     ]
    },
    {
     "name": "stderr",
     "output_type": "stream",
     "text": [
      "epoch 27 - train: 65it [00:01, 57.54it/s]"
     ]
    },
    {
     "name": "stdout",
     "output_type": "stream",
     "text": [
      "- batch loss and accuracy : 1.0985100\t0.0000\n",
      "- batch loss and accuracy : 0.6173201\t0.6667\n",
      "- batch loss and accuracy : 0.5269586\t0.6667\n",
      "- batch loss and accuracy : 0.6467678\t0.6667\n"
     ]
    },
    {
     "name": "stderr",
     "output_type": "stream",
     "text": [
      "epoch 27 - train: 71it [00:01, 53.46it/s]"
     ]
    },
    {
     "name": "stdout",
     "output_type": "stream",
     "text": [
      "- batch loss and accuracy : 0.6947974\t0.6667\n",
      "- batch loss and accuracy : 1.1514332\t0.3333\n",
      "- batch loss and accuracy : 0.9401480\t0.0000\n",
      "- batch loss and accuracy : 0.6849618\t0.6667\n",
      "- batch loss and accuracy : 0.8082511\t0.0000\n",
      "- batch loss and accuracy : 0.4769580\t1.0000\n",
      "- batch loss and accuracy : 0.4763045\t1.0000\n",
      "- batch loss and accuracy : 0.1097781\t1.0000\n",
      "- batch loss and accuracy : 0.0859685\t1.0000\n"
     ]
    },
    {
     "name": "stderr",
     "output_type": "stream",
     "text": [
      "epoch 27 - train: 83it [00:01, 51.93it/s]"
     ]
    },
    {
     "name": "stdout",
     "output_type": "stream",
     "text": [
      "- batch loss and accuracy : 0.0491530\t1.0000\n",
      "- batch loss and accuracy : 3.9762239\t0.0000\n",
      "- batch loss and accuracy : 0.0200689\t1.0000\n",
      "- batch loss and accuracy : 0.0138443\t1.0000\n",
      "- batch loss and accuracy : 4.5232944\t0.0000\n",
      "- batch loss and accuracy : 4.4710798\t0.0000\n",
      "- batch loss and accuracy : 0.0630950\t1.0000\n",
      "- batch loss and accuracy : 0.0326622\t1.0000\n",
      "- batch loss and accuracy : 0.1138678\t1.0000\n",
      "- batch loss and accuracy : 0.1157355\t1.0000\n",
      "- batch loss and accuracy : 0.1051516\t1.0000\n"
     ]
    },
    {
     "name": "stderr",
     "output_type": "stream",
     "text": [
      "epoch 27 - train: 90it [00:01, 53.93it/s]"
     ]
    },
    {
     "name": "stdout",
     "output_type": "stream",
     "text": [
      "- batch loss and accuracy : 0.1130421\t1.0000\n",
      "- batch loss and accuracy : 0.2052231\t1.0000\n",
      "- batch loss and accuracy : 0.0850025\t1.0000\n",
      "- batch loss and accuracy : 1.7418144\t0.0000\n",
      "- batch loss and accuracy : 1.6857755\t0.0000\n",
      "- batch loss and accuracy : 0.2607678\t1.0000\n",
      "- batch loss and accuracy : 0.4503901\t1.0000\n",
      "- batch loss and accuracy : 0.8272982\t0.3333\n",
      "- batch loss and accuracy : 0.7857273\t0.6667\n"
     ]
    },
    {
     "name": "stderr",
     "output_type": "stream",
     "text": [
      "epoch 27 - train: 96it [00:01, 54.44it/s]"
     ]
    },
    {
     "name": "stdout",
     "output_type": "stream",
     "text": [
      "- batch loss and accuracy : 0.9637883\t0.0000\n",
      "- batch loss and accuracy : 0.9981135\t0.3333\n",
      "- batch loss and accuracy : 0.9019062\t0.0000\n"
     ]
    },
    {
     "name": "stderr",
     "output_type": "stream",
     "text": [
      "epoch 27 - train: 102it [00:01, 52.99it/s]"
     ]
    },
    {
     "name": "stdout",
     "output_type": "stream",
     "text": [
      "- batch loss and accuracy : 0.5428358\t0.6667\n",
      "- batch loss and accuracy : 0.3736580\t0.6667\n",
      "- batch loss and accuracy : 0.2090716\t1.0000\n",
      "- batch loss and accuracy : 0.1641044\t1.0000\n",
      "- batch loss and accuracy : 0.0464045\t1.0000\n",
      "- batch loss and accuracy : 3.2857804\t0.0000\n",
      "- batch loss and accuracy : 0.0361988\t1.0000\n"
     ]
    },
    {
     "name": "stderr",
     "output_type": "stream",
     "text": [
      "epoch 27 - train: 108it [00:02, 51.77it/s]"
     ]
    },
    {
     "name": "stdout",
     "output_type": "stream",
     "text": [
      "- batch loss and accuracy : 0.0735296\t1.0000\n",
      "- batch loss and accuracy : 0.0432389\t1.0000\n",
      "- batch loss and accuracy : 0.0174858\t1.0000\n",
      "- batch loss and accuracy : 0.0231907\t1.0000\n"
     ]
    },
    {
     "name": "stderr",
     "output_type": "stream",
     "text": [
      "epoch 27 - train: 114it [00:02, 48.78it/s]"
     ]
    },
    {
     "name": "stdout",
     "output_type": "stream",
     "text": [
      "- batch loss and accuracy : 3.9144733\t0.0000\n",
      "- batch loss and accuracy : 0.0242707\t1.0000\n",
      "- batch loss and accuracy : 0.0372192\t1.0000\n",
      "- batch loss and accuracy : 0.0364193\t1.0000\n",
      "- batch loss and accuracy : 3.8404055\t0.0000\n",
      "- batch loss and accuracy : 2.7478786\t0.0000\n",
      "- batch loss and accuracy : 0.1911401\t1.0000\n",
      "- batch loss and accuracy : 1.7268337\t0.0000\n",
      "- batch loss and accuracy : 0.8704939\t0.0000\n"
     ]
    },
    {
     "name": "stderr",
     "output_type": "stream",
     "text": [
      "epoch 27 - train: 119it [00:02, 46.48it/s]"
     ]
    },
    {
     "name": "stdout",
     "output_type": "stream",
     "text": [
      "- batch loss and accuracy : 0.8475742\t0.0000\n",
      "- batch loss and accuracy : 1.3497151\t0.0000\n",
      "- batch loss and accuracy : 1.3835907\t0.0000\n",
      "- batch loss and accuracy : 1.6389617\t0.0000\n"
     ]
    },
    {
     "name": "stderr",
     "output_type": "stream",
     "text": [
      "epoch 27 - train: 124it [00:02, 40.93it/s]"
     ]
    },
    {
     "name": "stdout",
     "output_type": "stream",
     "text": [
      "- batch loss and accuracy : 1.5359571\t0.0000\n",
      "- batch loss and accuracy : 0.9588482\t0.0000\n",
      "- batch loss and accuracy : 0.5850325\t0.6667\n"
     ]
    },
    {
     "name": "stderr",
     "output_type": "stream",
     "text": [
      "epoch 27 - train: 129it [00:02, 40.19it/s]"
     ]
    },
    {
     "name": "stdout",
     "output_type": "stream",
     "text": [
      "- batch loss and accuracy : 0.8468981\t0.6667\n",
      "- batch loss and accuracy : 0.3084036\t1.0000\n",
      "- batch loss and accuracy : 0.3837959\t1.0000\n",
      "- batch loss and accuracy : 0.3852761\t1.0000\n",
      "- batch loss and accuracy : 0.1873148\t1.0000\n",
      "- batch loss and accuracy : 2.3840861\t0.0000\n",
      "- batch loss and accuracy : 2.4183898\t0.0000\n",
      "- batch loss and accuracy : 0.1396942\t1.0000\n"
     ]
    },
    {
     "name": "stderr",
     "output_type": "stream",
     "text": [
      "epoch 27 - train: 134it [00:02, 38.31it/s]"
     ]
    },
    {
     "name": "stdout",
     "output_type": "stream",
     "text": [
      "- batch loss and accuracy : 0.2381624\t1.0000\n",
      "- batch loss and accuracy : 1.8132700\t0.0000\n",
      "- batch loss and accuracy : 0.2548148\t1.0000\n",
      "- batch loss and accuracy : 1.7407396\t0.0000\n"
     ]
    },
    {
     "name": "stderr",
     "output_type": "stream",
     "text": [
      "epoch 27 - train: 138it [00:02, 37.57it/s]"
     ]
    },
    {
     "name": "stdout",
     "output_type": "stream",
     "text": [
      "- batch loss and accuracy : 0.4263768\t1.0000\n",
      "- batch loss and accuracy : 0.6460668\t0.6667\n",
      "- batch loss and accuracy : 0.9941255\t0.3333\n",
      "- batch loss and accuracy : 1.1112499\t0.3333\n",
      "- batch loss and accuracy : 0.9058677\t0.3333\n"
     ]
    },
    {
     "name": "stderr",
     "output_type": "stream",
     "text": [
      "epoch 27 - train: 143it [00:02, 40.27it/s]"
     ]
    },
    {
     "name": "stdout",
     "output_type": "stream",
     "text": [
      "- batch loss and accuracy : 0.3854485\t1.0000\n",
      "- batch loss and accuracy : 1.6311659\t0.0000\n",
      "- batch loss and accuracy : 1.4868646\t0.0000\n",
      "- batch loss and accuracy : 1.8524847\t0.0000\n",
      "- batch loss and accuracy : 0.3228493\t1.0000\n",
      "- batch loss and accuracy : 0.5160614\t0.6667\n"
     ]
    },
    {
     "name": "stderr",
     "output_type": "stream",
     "text": [
      "epoch 27 - train: 149it [00:03, 43.60it/s]"
     ]
    },
    {
     "name": "stdout",
     "output_type": "stream",
     "text": [
      "- batch loss and accuracy : 0.4368222\t0.6667\n",
      "- batch loss and accuracy : 1.2454545\t0.0000\n",
      "- batch loss and accuracy : 0.4324309\t1.0000\n",
      "- batch loss and accuracy : 0.5984898\t0.6667\n",
      "- batch loss and accuracy : 1.1792659\t0.0000\n"
     ]
    },
    {
     "name": "stderr",
     "output_type": "stream",
     "text": [
      "epoch 27 - train: 155it [00:03, 47.58it/s]"
     ]
    },
    {
     "name": "stdout",
     "output_type": "stream",
     "text": [
      "- batch loss and accuracy : 0.8278539\t0.6667\n",
      "- batch loss and accuracy : 0.5823247\t0.6667\n",
      "- batch loss and accuracy : 0.7438857\t0.3333\n",
      "- batch loss and accuracy : 0.4596302\t1.0000\n",
      "- batch loss and accuracy : 0.5294793\t1.0000\n",
      "- batch loss and accuracy : 1.4691696\t0.0000\n",
      "- batch loss and accuracy : 0.4148244\t0.6667\n"
     ]
    },
    {
     "name": "stderr",
     "output_type": "stream",
     "text": [
      "epoch 27 - train: 161it [00:03, 48.52it/s]"
     ]
    },
    {
     "name": "stdout",
     "output_type": "stream",
     "text": [
      "- batch loss and accuracy : 0.3155313\t1.0000\n",
      "- batch loss and accuracy : 0.4399064\t0.6667\n",
      "- batch loss and accuracy : 0.1535816\t1.0000\n",
      "- batch loss and accuracy : 0.2683599\t1.0000\n"
     ]
    },
    {
     "name": "stderr",
     "output_type": "stream",
     "text": [
      "epoch 27 - train: 166it [00:03, 47.65it/s]"
     ]
    },
    {
     "name": "stdout",
     "output_type": "stream",
     "text": [
      "- batch loss and accuracy : 0.1306673\t1.0000\n",
      "- batch loss and accuracy : 0.1178012\t1.0000\n",
      "- batch loss and accuracy : 0.0969021\t1.0000\n",
      "- batch loss and accuracy : 0.0580722\t1.0000\n",
      "- batch loss and accuracy : 0.0367428\t1.0000\n"
     ]
    },
    {
     "name": "stderr",
     "output_type": "stream",
     "text": [
      "epoch 27 - train: 171it [00:03, 44.85it/s]"
     ]
    },
    {
     "name": "stdout",
     "output_type": "stream",
     "text": [
      "- batch loss and accuracy : 0.0302552\t1.0000\n",
      "- batch loss and accuracy : 4.2093902\t0.0000\n",
      "- batch loss and accuracy : 0.0188097\t1.0000\n",
      "- batch loss and accuracy : 0.0181567\t1.0000\n"
     ]
    },
    {
     "name": "stderr",
     "output_type": "stream",
     "text": [
      "epoch 27 - train: 176it [00:03, 45.69it/s]"
     ]
    },
    {
     "name": "stdout",
     "output_type": "stream",
     "text": [
      "- batch loss and accuracy : 3.5115345\t0.0000\n",
      "- batch loss and accuracy : 0.0314400\t1.0000\n",
      "- batch loss and accuracy : 0.0418997\t1.0000\n",
      "- batch loss and accuracy : 3.0548878\t0.0000\n",
      "- batch loss and accuracy : 0.1504262\t1.0000\n",
      "- batch loss and accuracy : 1.5621147\t0.0000\n",
      "- batch loss and accuracy : 0.4838873\t1.0000\n"
     ]
    },
    {
     "name": "stderr",
     "output_type": "stream",
     "text": [
      "epoch 27 - train: 181it [00:03, 46.77it/s]"
     ]
    },
    {
     "name": "stdout",
     "output_type": "stream",
     "text": [
      "- batch loss and accuracy : 0.6930505\t0.6667\n",
      "- batch loss and accuracy : 0.6606133\t0.6667\n",
      "- batch loss and accuracy : 0.3455727\t1.0000\n",
      "- batch loss and accuracy : 0.7417151\t0.3333\n"
     ]
    },
    {
     "name": "stderr",
     "output_type": "stream",
     "text": [
      "epoch 27 - train: 187it [00:03, 47.94it/s]"
     ]
    },
    {
     "name": "stdout",
     "output_type": "stream",
     "text": [
      "- batch loss and accuracy : 1.3017206\t0.0000\n",
      "- batch loss and accuracy : 1.4263406\t0.0000\n",
      "- batch loss and accuracy : 1.0151416\t0.0000\n",
      "- batch loss and accuracy : 1.0621361\t0.0000\n",
      "- batch loss and accuracy : 0.6778833\t0.3333\n",
      "- batch loss and accuracy : 0.4593205\t0.6667\n",
      "- batch loss and accuracy : 0.2017451\t1.0000\n"
     ]
    },
    {
     "name": "stderr",
     "output_type": "stream",
     "text": [
      "epoch 27 - train: 193it [00:03, 51.09it/s]"
     ]
    },
    {
     "name": "stdout",
     "output_type": "stream",
     "text": [
      "- batch loss and accuracy : 2.3778362\t0.0000\n",
      "- batch loss and accuracy : 0.0612513\t1.0000\n",
      "- batch loss and accuracy : 2.7033191\t0.0000\n",
      "- batch loss and accuracy : 3.0568559\t0.0000\n",
      "- batch loss and accuracy : 0.0696308\t1.0000\n"
     ]
    },
    {
     "name": "stderr",
     "output_type": "stream",
     "text": [
      "epoch 27 - train: 200it [00:04, 51.63it/s]"
     ]
    },
    {
     "name": "stdout",
     "output_type": "stream",
     "text": [
      "- batch loss and accuracy : 0.0763571\t1.0000\n",
      "- batch loss and accuracy : 0.2349924\t1.0000\n",
      "- batch loss and accuracy : 2.2694190\t0.0000\n",
      "- batch loss and accuracy : 0.3062914\t1.0000\n",
      "- batch loss and accuracy : 0.3623716\t1.0000\n",
      "- batch loss and accuracy : 1.1058145\t0.3333\n",
      "- batch loss and accuracy : 0.4430013\t0.6667\n"
     ]
    },
    {
     "name": "stderr",
     "output_type": "stream",
     "text": [
      "epoch 27 - train: 206it [00:04, 52.94it/s]"
     ]
    },
    {
     "name": "stdout",
     "output_type": "stream",
     "text": [
      "- batch loss and accuracy : 0.6349882\t0.6667\n",
      "- batch loss and accuracy : 0.9622149\t0.3333\n",
      "- batch loss and accuracy : 0.9577495\t0.0000\n",
      "- batch loss and accuracy : 0.8166205\t0.3333\n"
     ]
    },
    {
     "name": "stderr",
     "output_type": "stream",
     "text": [
      "epoch 27 - train: 212it [00:04, 52.79it/s]"
     ]
    },
    {
     "name": "stdout",
     "output_type": "stream",
     "text": [
      "- batch loss and accuracy : 0.9618829\t0.3333\n",
      "- batch loss and accuracy : 0.5849026\t1.0000\n",
      "- batch loss and accuracy : 0.8531402\t0.3333\n",
      "- batch loss and accuracy : 0.9462077\t0.3333\n",
      "- batch loss and accuracy : 1.1321528\t0.0000\n",
      "- batch loss and accuracy : 0.3456648\t1.0000\n",
      "- batch loss and accuracy : 1.5310600\t0.0000\n"
     ]
    },
    {
     "name": "stderr",
     "output_type": "stream",
     "text": [
      "epoch 27 - train: 218it [00:04, 52.61it/s]"
     ]
    },
    {
     "name": "stdout",
     "output_type": "stream",
     "text": [
      "- batch loss and accuracy : 0.5916881\t0.6667\n",
      "- batch loss and accuracy : 0.5515326\t0.6667\n",
      "- batch loss and accuracy : 0.5923489\t1.0000\n",
      "- batch loss and accuracy : 1.1256613\t0.0000\n"
     ]
    },
    {
     "name": "stderr",
     "output_type": "stream",
     "text": [
      "epoch 27 - train: 224it [00:04, 49.87it/s]"
     ]
    },
    {
     "name": "stdout",
     "output_type": "stream",
     "text": [
      "- batch loss and accuracy : 0.5316196\t0.6667\n",
      "- batch loss and accuracy : 0.3986087\t1.0000\n",
      "- batch loss and accuracy : 0.4643872\t0.6667\n",
      "- batch loss and accuracy : 0.3843567\t1.0000\n",
      "- batch loss and accuracy : 0.1880414\t1.0000\n",
      "- batch loss and accuracy : 0.1924640\t1.0000\n",
      "- batch loss and accuracy : 0.0757091\t1.0000\n",
      "- batch loss and accuracy : 0.0471139\t1.0000\n",
      "- batch loss and accuracy : 0.0168242\t1.0000\n",
      "- batch loss and accuracy : 0.0220949\t1.0000\n",
      "- batch loss and accuracy : 0.0199195\t1.0000\n"
     ]
    },
    {
     "name": "stderr",
     "output_type": "stream",
     "text": [
      "epoch 27 - train: 236it [00:04, 54.19it/s]"
     ]
    },
    {
     "name": "stdout",
     "output_type": "stream",
     "text": [
      "- batch loss and accuracy : 0.0172218\t1.0000\n",
      "- batch loss and accuracy : 0.0106466\t1.0000\n",
      "- batch loss and accuracy : 0.0054447\t1.0000\n",
      "- batch loss and accuracy : 0.0051362\t1.0000\n",
      "- batch loss and accuracy : 5.2485647\t0.0000\n",
      "- batch loss and accuracy : 5.1765347\t0.0000\n",
      "- batch loss and accuracy : 0.0103048\t1.0000\n",
      "- batch loss and accuracy : 0.0134386\t1.0000\n",
      "- batch loss and accuracy : 0.0103412\t1.0000\n",
      "- batch loss and accuracy : 3.5056520\t0.0000\n",
      "- batch loss and accuracy : 2.7794988\t0.0000\n"
     ]
    },
    {
     "name": "stderr",
     "output_type": "stream",
     "text": [
      "epoch 27 - train: 249it [00:05, 56.39it/s]"
     ]
    },
    {
     "name": "stdout",
     "output_type": "stream",
     "text": [
      "- batch loss and accuracy : 1.9706004\t0.0000\n",
      "- batch loss and accuracy : 0.4750925\t1.0000\n",
      "- batch loss and accuracy : 0.9896973\t0.0000\n",
      "- batch loss and accuracy : 1.4342906\t0.0000\n",
      "- batch loss and accuracy : 1.1733205\t0.0000\n",
      "- batch loss and accuracy : 0.3138270\t1.0000\n",
      "- batch loss and accuracy : 1.4115008\t0.0000\n",
      "- batch loss and accuracy : 1.3862284\t0.0000\n",
      "- batch loss and accuracy : 1.1109154\t0.3333\n"
     ]
    },
    {
     "name": "stderr",
     "output_type": "stream",
     "text": [
      "epoch 27 - train: 249it [00:05, 49.36it/s]\n",
      "epoch 27 - validation: 100%|██████████| 63/63 [00:00<00:00, 73.54it/s]"
     ]
    },
    {
     "name": "stdout",
     "output_type": "stream",
     "text": [
      "Validation loss and accuracy : 0.6227967\t0.6402\n",
      "EPOCH 28\n"
     ]
    },
    {
     "name": "stderr",
     "output_type": "stream",
     "text": [
      "\n",
      "epoch 28 - train: 2it [00:00, 18.16it/s]"
     ]
    },
    {
     "name": "stdout",
     "output_type": "stream",
     "text": [
      "- batch loss and accuracy : 0.4263470\t1.0000\n",
      "- batch loss and accuracy : 0.3289837\t0.6667\n",
      "- batch loss and accuracy : 0.2008670\t1.0000\n",
      "- batch loss and accuracy : 0.1140632\t1.0000\n",
      "- batch loss and accuracy : 0.0971048\t1.0000\n",
      "- batch loss and accuracy : 3.4840105\t0.0000\n"
     ]
    },
    {
     "name": "stderr",
     "output_type": "stream",
     "text": [
      "epoch 28 - train: 10it [00:00, 50.44it/s]"
     ]
    },
    {
     "name": "stdout",
     "output_type": "stream",
     "text": [
      "- batch loss and accuracy : 3.8741112\t0.0000\n",
      "- batch loss and accuracy : 0.0189124\t1.0000\n",
      "- batch loss and accuracy : 0.0280788\t1.0000\n",
      "- batch loss and accuracy : 3.6454425\t0.0000\n",
      "- batch loss and accuracy : 3.1390944\t0.0000\n",
      "- batch loss and accuracy : 2.3007507\t0.0000\n",
      "- batch loss and accuracy : 1.8556942\t0.0000\n",
      "- batch loss and accuracy : 1.0215273\t0.3333\n",
      "- batch loss and accuracy : 1.2480909\t0.0000\n"
     ]
    },
    {
     "name": "stderr",
     "output_type": "stream",
     "text": [
      "epoch 28 - train: 17it [00:00, 58.90it/s]"
     ]
    },
    {
     "name": "stdout",
     "output_type": "stream",
     "text": [
      "- batch loss and accuracy : 0.1518798\t1.0000\n",
      "- batch loss and accuracy : 1.9578365\t0.0000\n",
      "- batch loss and accuracy : 2.0594831\t0.0000\n",
      "- batch loss and accuracy : 2.5582819\t0.0000\n",
      "- batch loss and accuracy : 2.0805590\t0.0000\n"
     ]
    },
    {
     "name": "stderr",
     "output_type": "stream",
     "text": [
      "epoch 28 - train: 24it [00:00, 60.83it/s]"
     ]
    },
    {
     "name": "stdout",
     "output_type": "stream",
     "text": [
      "- batch loss and accuracy : 0.5726154\t0.6667\n",
      "- batch loss and accuracy : 0.8588877\t0.0000\n",
      "- batch loss and accuracy : 0.5664337\t0.6667\n",
      "- batch loss and accuracy : 0.3523858\t1.0000\n",
      "- batch loss and accuracy : 0.1262639\t1.0000\n",
      "- batch loss and accuracy : 0.0507309\t1.0000\n",
      "- batch loss and accuracy : 0.0235678\t1.0000\n",
      "- batch loss and accuracy : 0.0244568\t1.0000\n"
     ]
    },
    {
     "name": "stderr",
     "output_type": "stream",
     "text": [
      "epoch 28 - train: 31it [00:00, 60.05it/s]"
     ]
    },
    {
     "name": "stdout",
     "output_type": "stream",
     "text": [
      "- batch loss and accuracy : 5.1085773\t0.0000\n",
      "- batch loss and accuracy : 0.0064287\t1.0000\n",
      "- batch loss and accuracy : 5.1722450\t0.0000\n",
      "- batch loss and accuracy : 4.3140826\t0.0000\n",
      "- batch loss and accuracy : 0.0129518\t1.0000\n"
     ]
    },
    {
     "name": "stderr",
     "output_type": "stream",
     "text": [
      "epoch 28 - train: 38it [00:00, 57.78it/s]"
     ]
    },
    {
     "name": "stdout",
     "output_type": "stream",
     "text": [
      "- batch loss and accuracy : 0.0214540\t1.0000\n",
      "- batch loss and accuracy : 3.6808307\t0.0000\n",
      "- batch loss and accuracy : 0.1138514\t1.0000\n",
      "- batch loss and accuracy : 1.7335671\t0.0000\n",
      "- batch loss and accuracy : 0.3644248\t1.0000\n",
      "- batch loss and accuracy : 0.8497641\t0.3333\n",
      "- batch loss and accuracy : 0.5861423\t0.6667\n"
     ]
    },
    {
     "name": "stderr",
     "output_type": "stream",
     "text": [
      "epoch 28 - train: 44it [00:00, 58.19it/s]"
     ]
    },
    {
     "name": "stdout",
     "output_type": "stream",
     "text": [
      "- batch loss and accuracy : 1.3151922\t0.0000\n",
      "- batch loss and accuracy : 1.6737374\t0.0000\n",
      "- batch loss and accuracy : 2.1919715\t0.0000\n",
      "- batch loss and accuracy : 2.2783027\t0.0000\n",
      "- batch loss and accuracy : 0.2427205\t1.0000\n",
      "- batch loss and accuracy : 0.2082897\t1.0000\n"
     ]
    },
    {
     "name": "stderr",
     "output_type": "stream",
     "text": [
      "epoch 28 - train: 50it [00:00, 57.66it/s]"
     ]
    },
    {
     "name": "stdout",
     "output_type": "stream",
     "text": [
      "- batch loss and accuracy : 1.2664531\t0.0000\n",
      "- batch loss and accuracy : 1.0518594\t0.0000\n",
      "- batch loss and accuracy : 0.6631178\t0.6667\n",
      "- batch loss and accuracy : 0.4273202\t1.0000\n",
      "- batch loss and accuracy : 0.2552845\t1.0000\n",
      "- batch loss and accuracy : 2.3485749\t0.0000\n",
      "- batch loss and accuracy : 0.0497617\t1.0000\n"
     ]
    },
    {
     "name": "stderr",
     "output_type": "stream",
     "text": [
      "epoch 28 - train: 57it [00:00, 59.08it/s]"
     ]
    },
    {
     "name": "stdout",
     "output_type": "stream",
     "text": [
      "- batch loss and accuracy : 3.5919809\t0.0000\n",
      "- batch loss and accuracy : 3.1717937\t0.0000\n",
      "- batch loss and accuracy : 0.0463510\t1.0000\n",
      "- batch loss and accuracy : 0.0468335\t1.0000\n",
      "- batch loss and accuracy : 0.1077228\t1.0000\n",
      "- batch loss and accuracy : 0.1418127\t1.0000\n"
     ]
    },
    {
     "name": "stderr",
     "output_type": "stream",
     "text": [
      "epoch 28 - train: 63it [00:01, 58.19it/s]"
     ]
    },
    {
     "name": "stdout",
     "output_type": "stream",
     "text": [
      "- batch loss and accuracy : 0.1289288\t1.0000\n",
      "- batch loss and accuracy : 1.8071764\t0.0000\n",
      "- batch loss and accuracy : 1.5995314\t0.0000\n",
      "- batch loss and accuracy : 0.3587490\t1.0000\n",
      "- batch loss and accuracy : 0.6187304\t0.6667\n"
     ]
    },
    {
     "name": "stderr",
     "output_type": "stream",
     "text": [
      "epoch 28 - train: 69it [00:01, 55.50it/s]"
     ]
    },
    {
     "name": "stdout",
     "output_type": "stream",
     "text": [
      "- batch loss and accuracy : 0.5715687\t1.0000\n",
      "- batch loss and accuracy : 0.8031365\t0.6667\n",
      "- batch loss and accuracy : 0.5840322\t0.6667\n",
      "- batch loss and accuracy : 0.8130853\t0.3333\n",
      "- batch loss and accuracy : 0.2628189\t1.0000\n",
      "- batch loss and accuracy : 0.2411551\t1.0000\n"
     ]
    },
    {
     "name": "stderr",
     "output_type": "stream",
     "text": [
      "epoch 28 - train: 75it [00:01, 54.86it/s]"
     ]
    },
    {
     "name": "stdout",
     "output_type": "stream",
     "text": [
      "- batch loss and accuracy : 0.1327899\t1.0000\n",
      "- batch loss and accuracy : 2.5033338\t0.0000\n",
      "- batch loss and accuracy : 2.6268175\t0.0000\n",
      "- batch loss and accuracy : 0.0907978\t1.0000\n",
      "- batch loss and accuracy : 0.1149436\t1.0000\n",
      "- batch loss and accuracy : 0.1360298\t1.0000\n"
     ]
    },
    {
     "name": "stderr",
     "output_type": "stream",
     "text": [
      "epoch 28 - train: 82it [00:01, 57.72it/s]"
     ]
    },
    {
     "name": "stdout",
     "output_type": "stream",
     "text": [
      "- batch loss and accuracy : 2.3015897\t0.0000\n",
      "- batch loss and accuracy : 0.1530797\t1.0000\n",
      "- batch loss and accuracy : 1.3043045\t0.0000\n",
      "- batch loss and accuracy : 1.5741199\t0.0000\n",
      "- batch loss and accuracy : 0.5293814\t1.0000\n",
      "- batch loss and accuracy : 0.8635861\t0.0000\n"
     ]
    },
    {
     "name": "stderr",
     "output_type": "stream",
     "text": [
      "epoch 28 - train: 88it [00:01, 56.49it/s]"
     ]
    },
    {
     "name": "stdout",
     "output_type": "stream",
     "text": [
      "- batch loss and accuracy : 1.3904480\t0.0000\n",
      "- batch loss and accuracy : 1.0356065\t0.3333\n",
      "- batch loss and accuracy : 0.5612828\t0.6667\n",
      "- batch loss and accuracy : 0.7558748\t0.6667\n",
      "- batch loss and accuracy : 1.1325521\t0.0000\n",
      "- batch loss and accuracy : 0.8926247\t0.3333\n",
      "- batch loss and accuracy : 0.3000010\t1.0000\n",
      "- batch loss and accuracy : 0.1857809\t1.0000\n",
      "- batch loss and accuracy : 1.4673193\t0.0000\n",
      "- batch loss and accuracy : 0.1703723\t1.0000\n",
      "- batch loss and accuracy : 0.3269432\t1.0000\n"
     ]
    },
    {
     "name": "stderr",
     "output_type": "stream",
     "text": [
      "epoch 28 - train: 94it [00:01, 51.84it/s]"
     ]
    },
    {
     "name": "stdout",
     "output_type": "stream",
     "text": [
      "- batch loss and accuracy : 0.2379925\t1.0000\n",
      "- batch loss and accuracy : 1.6999563\t0.0000\n",
      "- batch loss and accuracy : 1.6904047\t0.0000\n",
      "- batch loss and accuracy : 2.1557965\t0.0000\n"
     ]
    },
    {
     "name": "stderr",
     "output_type": "stream",
     "text": [
      "epoch 28 - train: 100it [00:01, 50.11it/s]"
     ]
    },
    {
     "name": "stdout",
     "output_type": "stream",
     "text": [
      "- batch loss and accuracy : 0.4369687\t1.0000\n",
      "- batch loss and accuracy : 1.0214279\t0.0000\n",
      "- batch loss and accuracy : 0.8165714\t0.3333\n",
      "- batch loss and accuracy : 1.1823028\t0.0000\n",
      "- batch loss and accuracy : 1.2468858\t0.0000\n",
      "- batch loss and accuracy : 1.4426520\t0.0000\n",
      "- batch loss and accuracy : 0.6809388\t0.6667\n"
     ]
    },
    {
     "name": "stderr",
     "output_type": "stream",
     "text": [
      "epoch 28 - train: 106it [00:01, 52.59it/s]"
     ]
    },
    {
     "name": "stdout",
     "output_type": "stream",
     "text": [
      "- batch loss and accuracy : 0.4624658\t0.6667\n",
      "- batch loss and accuracy : 1.0882281\t0.3333\n",
      "- batch loss and accuracy : 1.2916878\t0.0000\n",
      "- batch loss and accuracy : 1.5607517\t0.0000\n",
      "- batch loss and accuracy : 0.2714488\t1.0000\n"
     ]
    },
    {
     "name": "stderr",
     "output_type": "stream",
     "text": [
      "epoch 28 - train: 112it [00:02, 53.14it/s]"
     ]
    },
    {
     "name": "stdout",
     "output_type": "stream",
     "text": [
      "- batch loss and accuracy : 1.1498225\t0.0000\n",
      "- batch loss and accuracy : 0.4987397\t0.6667\n",
      "- batch loss and accuracy : 0.3134822\t1.0000\n",
      "- batch loss and accuracy : 0.4502607\t1.0000\n",
      "- batch loss and accuracy : 0.4943870\t1.0000\n",
      "- batch loss and accuracy : 0.9965128\t0.3333\n",
      "- batch loss and accuracy : 0.6249305\t0.6667\n"
     ]
    },
    {
     "name": "stderr",
     "output_type": "stream",
     "text": [
      "epoch 28 - train: 118it [00:02, 51.22it/s]"
     ]
    },
    {
     "name": "stdout",
     "output_type": "stream",
     "text": [
      "- batch loss and accuracy : 0.8336350\t0.3333\n",
      "- batch loss and accuracy : 1.0682489\t0.0000\n",
      "- batch loss and accuracy : 0.2999021\t1.0000\n"
     ]
    },
    {
     "name": "stderr",
     "output_type": "stream",
     "text": [
      "epoch 28 - train: 124it [00:02, 52.27it/s]"
     ]
    },
    {
     "name": "stdout",
     "output_type": "stream",
     "text": [
      "- batch loss and accuracy : 0.2319105\t1.0000\n",
      "- batch loss and accuracy : 1.6277579\t0.0000\n",
      "- batch loss and accuracy : 1.2404602\t0.0000\n",
      "- batch loss and accuracy : 0.5137550\t1.0000\n",
      "- batch loss and accuracy : 0.6706538\t0.3333\n",
      "- batch loss and accuracy : 0.3697473\t1.0000\n",
      "- batch loss and accuracy : 0.5548546\t0.6667\n"
     ]
    },
    {
     "name": "stderr",
     "output_type": "stream",
     "text": [
      "epoch 28 - train: 130it [00:02, 50.93it/s]"
     ]
    },
    {
     "name": "stdout",
     "output_type": "stream",
     "text": [
      "- batch loss and accuracy : 0.5783992\t0.6667\n",
      "- batch loss and accuracy : 0.2723143\t1.0000\n",
      "- batch loss and accuracy : 1.3254887\t0.0000\n",
      "- batch loss and accuracy : 1.9633987\t0.0000\n"
     ]
    },
    {
     "name": "stderr",
     "output_type": "stream",
     "text": [
      "epoch 28 - train: 136it [00:02, 52.09it/s]"
     ]
    },
    {
     "name": "stdout",
     "output_type": "stream",
     "text": [
      "- batch loss and accuracy : 1.3992246\t0.0000\n",
      "- batch loss and accuracy : 0.4281326\t1.0000\n",
      "- batch loss and accuracy : 0.5216154\t0.6667\n",
      "- batch loss and accuracy : 0.5236061\t1.0000\n",
      "- batch loss and accuracy : 0.5180719\t0.6667\n",
      "- batch loss and accuracy : 0.5206628\t0.6667\n",
      "- batch loss and accuracy : 0.3354259\t1.0000\n",
      "- batch loss and accuracy : 0.1408413\t1.0000\n",
      "- batch loss and accuracy : 0.3036449\t1.0000\n",
      "- batch loss and accuracy : 2.0652616\t0.0000\n",
      "- batch loss and accuracy : 0.1514389\t1.0000\n",
      "- batch loss and accuracy : 2.5714133\t0.0000\n"
     ]
    },
    {
     "name": "stderr",
     "output_type": "stream",
     "text": [
      "epoch 28 - train: 148it [00:02, 53.83it/s]"
     ]
    },
    {
     "name": "stdout",
     "output_type": "stream",
     "text": [
      "- batch loss and accuracy : 2.5416727\t0.0000\n",
      "- batch loss and accuracy : 0.1386872\t1.0000\n",
      "- batch loss and accuracy : 0.1696612\t1.0000\n",
      "- batch loss and accuracy : 0.9739701\t0.0000\n",
      "- batch loss and accuracy : 0.5415161\t1.0000\n",
      "- batch loss and accuracy : 0.6013254\t0.6667\n",
      "- batch loss and accuracy : 0.6961174\t0.3333\n",
      "- batch loss and accuracy : 0.8066735\t0.6667\n",
      "- batch loss and accuracy : 0.5937821\t0.6667\n",
      "- batch loss and accuracy : 1.2873975\t0.0000\n",
      "- batch loss and accuracy : 1.1407106\t0.0000\n"
     ]
    },
    {
     "name": "stderr",
     "output_type": "stream",
     "text": [
      "epoch 28 - train: 161it [00:02, 54.97it/s]"
     ]
    },
    {
     "name": "stdout",
     "output_type": "stream",
     "text": [
      "- batch loss and accuracy : 0.9264690\t0.0000\n",
      "- batch loss and accuracy : 0.5939531\t0.6667\n",
      "- batch loss and accuracy : 0.5766438\t1.0000\n",
      "- batch loss and accuracy : 0.8222330\t0.3333\n",
      "- batch loss and accuracy : 0.9349246\t0.0000\n",
      "- batch loss and accuracy : 0.3919031\t0.6667\n",
      "- batch loss and accuracy : 0.3770851\t0.6667\n",
      "- batch loss and accuracy : 0.1320113\t1.0000\n",
      "- batch loss and accuracy : 0.1807804\t1.0000\n",
      "- batch loss and accuracy : 0.0597648\t1.0000\n",
      "- batch loss and accuracy : 0.0631248\t1.0000\n",
      "- batch loss and accuracy : 3.5277252\t0.0000\n",
      "- batch loss and accuracy : 0.0305538\t1.0000\n"
     ]
    },
    {
     "name": "stderr",
     "output_type": "stream",
     "text": [
      "epoch 28 - train: 167it [00:03, 55.83it/s]"
     ]
    },
    {
     "name": "stdout",
     "output_type": "stream",
     "text": [
      "- batch loss and accuracy : 0.0413828\t1.0000\n",
      "- batch loss and accuracy : 0.0201719\t1.0000\n",
      "- batch loss and accuracy : 3.6186674\t0.0000\n",
      "- batch loss and accuracy : 0.0407783\t1.0000\n",
      "- batch loss and accuracy : 3.9749274\t0.0000\n",
      "- batch loss and accuracy : 2.4437835\t0.0000\n"
     ]
    },
    {
     "name": "stderr",
     "output_type": "stream",
     "text": [
      "epoch 28 - train: 173it [00:03, 52.66it/s]"
     ]
    },
    {
     "name": "stdout",
     "output_type": "stream",
     "text": [
      "- batch loss and accuracy : 0.1309830\t1.0000\n",
      "- batch loss and accuracy : 1.6909862\t0.0000\n",
      "- batch loss and accuracy : 0.4987378\t1.0000\n",
      "- batch loss and accuracy : 1.0630646\t0.0000\n",
      "- batch loss and accuracy : 1.0891570\t0.3333\n"
     ]
    },
    {
     "name": "stderr",
     "output_type": "stream",
     "text": [
      "epoch 28 - train: 179it [00:03, 53.71it/s]"
     ]
    },
    {
     "name": "stdout",
     "output_type": "stream",
     "text": [
      "- batch loss and accuracy : 1.7650340\t0.0000\n",
      "- batch loss and accuracy : 0.4512316\t1.0000\n",
      "- batch loss and accuracy : 1.4595227\t0.0000\n",
      "- batch loss and accuracy : 0.8949541\t0.0000\n",
      "- batch loss and accuracy : 0.7918940\t0.3333\n",
      "- batch loss and accuracy : 0.3599816\t1.0000\n",
      "- batch loss and accuracy : 0.1917885\t1.0000\n"
     ]
    },
    {
     "name": "stderr",
     "output_type": "stream",
     "text": [
      "epoch 28 - train: 185it [00:03, 54.46it/s]"
     ]
    },
    {
     "name": "stdout",
     "output_type": "stream",
     "text": [
      "- batch loss and accuracy : 0.1345522\t1.0000\n",
      "- batch loss and accuracy : 0.0811121\t1.0000\n",
      "- batch loss and accuracy : 0.0201620\t1.0000\n",
      "- batch loss and accuracy : 4.1349783\t0.0000\n"
     ]
    },
    {
     "name": "stderr",
     "output_type": "stream",
     "text": [
      "epoch 28 - train: 191it [00:03, 53.70it/s]"
     ]
    },
    {
     "name": "stdout",
     "output_type": "stream",
     "text": [
      "- batch loss and accuracy : 0.0090669\t1.0000\n",
      "- batch loss and accuracy : 4.0186257\t0.0000\n",
      "- batch loss and accuracy : 0.0219938\t1.0000\n",
      "- batch loss and accuracy : 0.0226027\t1.0000\n",
      "- batch loss and accuracy : 0.0403051\t1.0000\n",
      "- batch loss and accuracy : 0.0410864\t1.0000\n",
      "- batch loss and accuracy : 0.0338354\t1.0000\n"
     ]
    },
    {
     "name": "stderr",
     "output_type": "stream",
     "text": [
      "epoch 28 - train: 197it [00:03, 54.06it/s]"
     ]
    },
    {
     "name": "stdout",
     "output_type": "stream",
     "text": [
      "- batch loss and accuracy : 0.0364006\t1.0000\n",
      "- batch loss and accuracy : 2.8574016\t0.0000\n",
      "- batch loss and accuracy : 0.0583075\t1.0000\n",
      "- batch loss and accuracy : 0.0876610\t1.0000\n",
      "- batch loss and accuracy : 0.0903183\t1.0000\n"
     ]
    },
    {
     "name": "stderr",
     "output_type": "stream",
     "text": [
      "epoch 28 - train: 203it [00:03, 54.27it/s]"
     ]
    },
    {
     "name": "stdout",
     "output_type": "stream",
     "text": [
      "- batch loss and accuracy : 0.1276078\t1.0000\n",
      "- batch loss and accuracy : 0.1667693\t1.0000\n",
      "- batch loss and accuracy : 0.1493566\t1.0000\n",
      "- batch loss and accuracy : 0.1270949\t1.0000\n",
      "- batch loss and accuracy : 0.2170008\t1.0000\n",
      "- batch loss and accuracy : 0.1875838\t1.0000\n",
      "- batch loss and accuracy : 0.1733005\t1.0000\n"
     ]
    },
    {
     "name": "stderr",
     "output_type": "stream",
     "text": [
      "epoch 28 - train: 210it [00:03, 57.51it/s]"
     ]
    },
    {
     "name": "stdout",
     "output_type": "stream",
     "text": [
      "- batch loss and accuracy : 0.0865122\t1.0000\n",
      "- batch loss and accuracy : 2.8080735\t0.0000\n",
      "- batch loss and accuracy : 2.5693767\t0.0000\n",
      "- batch loss and accuracy : 0.1330847\t1.0000\n",
      "- batch loss and accuracy : 1.7236733\t0.0000\n"
     ]
    },
    {
     "name": "stderr",
     "output_type": "stream",
     "text": [
      "epoch 28 - train: 216it [00:03, 52.08it/s]"
     ]
    },
    {
     "name": "stdout",
     "output_type": "stream",
     "text": [
      "- batch loss and accuracy : 0.3285255\t1.0000\n",
      "- batch loss and accuracy : 0.6941022\t0.3333\n",
      "- batch loss and accuracy : 0.6797966\t0.3333\n",
      "- batch loss and accuracy : 1.3585644\t0.0000\n",
      "- batch loss and accuracy : 1.3106972\t0.0000\n"
     ]
    },
    {
     "name": "stderr",
     "output_type": "stream",
     "text": [
      "epoch 28 - train: 222it [00:04, 52.05it/s]"
     ]
    },
    {
     "name": "stdout",
     "output_type": "stream",
     "text": [
      "- batch loss and accuracy : 1.5295362\t0.0000\n",
      "- batch loss and accuracy : 1.2112679\t0.0000\n",
      "- batch loss and accuracy : 1.3067898\t0.0000\n",
      "- batch loss and accuracy : 0.9201435\t0.6667\n",
      "- batch loss and accuracy : 0.3421829\t1.0000\n",
      "- batch loss and accuracy : 1.5882972\t0.0000\n",
      "- batch loss and accuracy : 1.7350464\t0.0000\n",
      "- batch loss and accuracy : 2.4457889\t0.0000\n",
      "- batch loss and accuracy : 0.1544960\t1.0000\n",
      "- batch loss and accuracy : 1.7170777\t0.0000\n",
      "- batch loss and accuracy : 0.2874205\t1.0000\n"
     ]
    },
    {
     "name": "stderr",
     "output_type": "stream",
     "text": [
      "epoch 28 - train: 229it [00:04, 53.31it/s]"
     ]
    },
    {
     "name": "stdout",
     "output_type": "stream",
     "text": [
      "- batch loss and accuracy : 0.5054051\t0.6667\n",
      "- batch loss and accuracy : 0.3573899\t1.0000\n",
      "- batch loss and accuracy : 0.3970791\t1.0000\n",
      "- batch loss and accuracy : 1.2675261\t0.0000\n",
      "- batch loss and accuracy : 1.0599375\t0.3333\n"
     ]
    },
    {
     "name": "stderr",
     "output_type": "stream",
     "text": [
      "epoch 28 - train: 235it [00:04, 50.54it/s]"
     ]
    },
    {
     "name": "stdout",
     "output_type": "stream",
     "text": [
      "- batch loss and accuracy : 0.8446329\t0.3333\n",
      "- batch loss and accuracy : 0.6263358\t0.6667\n",
      "- batch loss and accuracy : 0.5382500\t1.0000\n",
      "- batch loss and accuracy : 1.8563259\t0.0000\n",
      "- batch loss and accuracy : 1.4774289\t0.0000\n"
     ]
    },
    {
     "name": "stderr",
     "output_type": "stream",
     "text": [
      "epoch 28 - train: 241it [00:04, 52.64it/s]"
     ]
    },
    {
     "name": "stdout",
     "output_type": "stream",
     "text": [
      "- batch loss and accuracy : 0.3281851\t1.0000\n",
      "- batch loss and accuracy : 1.3908262\t0.0000\n",
      "- batch loss and accuracy : 1.1719614\t0.3333\n",
      "- batch loss and accuracy : 0.6881689\t0.6667\n",
      "- batch loss and accuracy : 0.5173000\t0.6667\n",
      "- batch loss and accuracy : 0.1913898\t1.0000\n"
     ]
    },
    {
     "name": "stderr",
     "output_type": "stream",
     "text": [
      "epoch 28 - train: 247it [00:04, 53.22it/s]"
     ]
    },
    {
     "name": "stdout",
     "output_type": "stream",
     "text": [
      "- batch loss and accuracy : 0.1578934\t1.0000\n",
      "- batch loss and accuracy : 0.1050028\t1.0000\n",
      "- batch loss and accuracy : 0.0542955\t1.0000\n",
      "- batch loss and accuracy : 0.0260371\t1.0000\n",
      "- batch loss and accuracy : 0.0150594\t1.0000\n"
     ]
    },
    {
     "name": "stderr",
     "output_type": "stream",
     "text": [
      "epoch 28 - train: 249it [00:04, 53.53it/s]\n",
      "epoch 28 - validation: 100%|██████████| 63/63 [00:00<00:00, 74.32it/s]"
     ]
    },
    {
     "name": "stdout",
     "output_type": "stream",
     "text": [
      "Validation loss and accuracy : 1.3322725\t0.7143\n",
      "EPOCH 29\n"
     ]
    },
    {
     "name": "stderr",
     "output_type": "stream",
     "text": [
      "\n",
      "epoch 29 - train: 4it [00:00, 35.00it/s]"
     ]
    },
    {
     "name": "stdout",
     "output_type": "stream",
     "text": [
      "- batch loss and accuracy : 0.0122082\t1.0000\n",
      "- batch loss and accuracy : 0.0086276\t1.0000\n",
      "- batch loss and accuracy : 6.0592437\t0.0000\n",
      "- batch loss and accuracy : 0.0038183\t1.0000\n",
      "- batch loss and accuracy : 0.0022682\t1.0000\n",
      "- batch loss and accuracy : 0.0025684\t1.0000\n",
      "- batch loss and accuracy : 0.0033290\t1.0000\n"
     ]
    },
    {
     "name": "stderr",
     "output_type": "stream",
     "text": [
      "epoch 29 - train: 12it [00:00, 57.60it/s]"
     ]
    },
    {
     "name": "stdout",
     "output_type": "stream",
     "text": [
      "- batch loss and accuracy : 5.5754499\t0.0000\n",
      "- batch loss and accuracy : 0.0033974\t1.0000\n",
      "- batch loss and accuracy : 0.0035592\t1.0000\n",
      "- batch loss and accuracy : 0.0096500\t1.0000\n",
      "- batch loss and accuracy : 0.0153194\t1.0000\n",
      "- batch loss and accuracy : 0.0129918\t1.0000\n",
      "- batch loss and accuracy : 0.0115528\t1.0000\n",
      "- batch loss and accuracy : 0.0266139\t1.0000\n"
     ]
    },
    {
     "name": "stderr",
     "output_type": "stream",
     "text": [
      "epoch 29 - train: 19it [00:00, 60.33it/s]"
     ]
    },
    {
     "name": "stdout",
     "output_type": "stream",
     "text": [
      "- batch loss and accuracy : 0.0157564\t1.0000\n",
      "- batch loss and accuracy : 3.9000831\t0.0000\n",
      "- batch loss and accuracy : 3.8948905\t0.0000\n",
      "- batch loss and accuracy : 0.1377311\t1.0000\n",
      "- batch loss and accuracy : 2.4710832\t0.0000\n",
      "- batch loss and accuracy : 0.3318471\t1.0000\n"
     ]
    },
    {
     "name": "stderr",
     "output_type": "stream",
     "text": [
      "epoch 29 - train: 26it [00:00, 59.67it/s]"
     ]
    },
    {
     "name": "stdout",
     "output_type": "stream",
     "text": [
      "- batch loss and accuracy : 0.4944474\t0.6667\n",
      "- batch loss and accuracy : 0.6174085\t0.6667\n",
      "- batch loss and accuracy : 1.1522014\t0.3333\n",
      "- batch loss and accuracy : 1.6448212\t0.0000\n",
      "- batch loss and accuracy : 1.5796039\t0.0000\n",
      "- batch loss and accuracy : 1.1923693\t0.0000\n"
     ]
    },
    {
     "name": "stderr",
     "output_type": "stream",
     "text": [
      "epoch 29 - train: 33it [00:00, 60.10it/s]"
     ]
    },
    {
     "name": "stdout",
     "output_type": "stream",
     "text": [
      "- batch loss and accuracy : 0.7348954\t0.3333\n",
      "- batch loss and accuracy : 0.3663110\t1.0000\n",
      "- batch loss and accuracy : 0.5151539\t0.6667\n",
      "- batch loss and accuracy : 0.3089441\t1.0000\n",
      "- batch loss and accuracy : 1.9429166\t0.0000\n",
      "- batch loss and accuracy : 0.0533206\t1.0000\n",
      "- batch loss and accuracy : 0.0575965\t1.0000\n"
     ]
    },
    {
     "name": "stderr",
     "output_type": "stream",
     "text": [
      "epoch 29 - train: 40it [00:00, 62.05it/s]"
     ]
    },
    {
     "name": "stdout",
     "output_type": "stream",
     "text": [
      "- batch loss and accuracy : 0.0197260\t1.0000\n",
      "- batch loss and accuracy : 0.0309304\t1.0000\n",
      "- batch loss and accuracy : 4.4797597\t0.0000\n",
      "- batch loss and accuracy : 0.0152308\t1.0000\n",
      "- batch loss and accuracy : 4.0779762\t0.0000\n",
      "- batch loss and accuracy : 0.0327447\t1.0000\n",
      "- batch loss and accuracy : 0.0219134\t1.0000\n"
     ]
    },
    {
     "name": "stderr",
     "output_type": "stream",
     "text": [
      "epoch 29 - train: 47it [00:00, 60.45it/s]"
     ]
    },
    {
     "name": "stdout",
     "output_type": "stream",
     "text": [
      "- batch loss and accuracy : 2.9755654\t0.0000\n",
      "- batch loss and accuracy : 0.1064796\t1.0000\n",
      "- batch loss and accuracy : 0.1102490\t1.0000\n",
      "- batch loss and accuracy : 0.1768820\t1.0000\n",
      "- batch loss and accuracy : 0.2893907\t1.0000\n",
      "- batch loss and accuracy : 0.2740358\t1.0000\n",
      "- batch loss and accuracy : 0.3635350\t1.0000\n",
      "- batch loss and accuracy : 0.3736607\t1.0000\n",
      "- batch loss and accuracy : 0.3795227\t1.0000\n",
      "- batch loss and accuracy : 0.2243687\t1.0000\n",
      "- batch loss and accuracy : 0.3498621\t1.0000\n"
     ]
    },
    {
     "name": "stderr",
     "output_type": "stream",
     "text": [
      "epoch 29 - train: 54it [00:00, 52.67it/s]"
     ]
    },
    {
     "name": "stdout",
     "output_type": "stream",
     "text": [
      "- batch loss and accuracy : 1.7225614\t0.0000\n",
      "- batch loss and accuracy : 0.1800537\t1.0000\n",
      "- batch loss and accuracy : 2.2033794\t0.0000\n",
      "- batch loss and accuracy : 1.9678805\t0.0000\n"
     ]
    },
    {
     "name": "stderr",
     "output_type": "stream",
     "text": [
      "epoch 29 - train: 60it [00:01, 51.13it/s]"
     ]
    },
    {
     "name": "stdout",
     "output_type": "stream",
     "text": [
      "- batch loss and accuracy : 0.3264207\t1.0000\n",
      "- batch loss and accuracy : 0.6387430\t0.6667\n",
      "- batch loss and accuracy : 0.8303628\t0.3333\n",
      "- batch loss and accuracy : 0.5511059\t0.6667\n",
      "- batch loss and accuracy : 0.8382168\t0.3333\n",
      "- batch loss and accuracy : 0.6368170\t0.3333\n",
      "- batch loss and accuracy : 0.4629696\t1.0000\n"
     ]
    },
    {
     "name": "stderr",
     "output_type": "stream",
     "text": [
      "epoch 29 - train: 66it [00:01, 53.02it/s]"
     ]
    },
    {
     "name": "stdout",
     "output_type": "stream",
     "text": [
      "- batch loss and accuracy : 0.5041367\t0.6667\n",
      "- batch loss and accuracy : 0.4214407\t1.0000\n",
      "- batch loss and accuracy : 1.5879965\t0.0000\n",
      "- batch loss and accuracy : 1.9469235\t0.0000\n",
      "- batch loss and accuracy : 0.2661303\t1.0000\n"
     ]
    },
    {
     "name": "stderr",
     "output_type": "stream",
     "text": [
      "epoch 29 - train: 72it [00:01, 53.76it/s]"
     ]
    },
    {
     "name": "stdout",
     "output_type": "stream",
     "text": [
      "- batch loss and accuracy : 0.3798501\t0.6667\n",
      "- batch loss and accuracy : 0.2009940\t1.0000\n",
      "- batch loss and accuracy : 1.5014690\t0.0000\n",
      "- batch loss and accuracy : 0.2410016\t1.0000\n",
      "- batch loss and accuracy : 1.5476125\t0.0000\n",
      "- batch loss and accuracy : 0.5563020\t0.3333\n",
      "- batch loss and accuracy : 1.2629256\t0.3333\n"
     ]
    },
    {
     "name": "stderr",
     "output_type": "stream",
     "text": [
      "epoch 29 - train: 78it [00:01, 54.93it/s]"
     ]
    },
    {
     "name": "stdout",
     "output_type": "stream",
     "text": [
      "- batch loss and accuracy : 1.2943881\t0.0000\n",
      "- batch loss and accuracy : 0.8180020\t0.3333\n",
      "- batch loss and accuracy : 0.4662481\t1.0000\n",
      "- batch loss and accuracy : 1.0158293\t0.0000\n",
      "- batch loss and accuracy : 1.4554948\t0.0000\n"
     ]
    },
    {
     "name": "stderr",
     "output_type": "stream",
     "text": [
      "epoch 29 - train: 85it [00:01, 58.61it/s]"
     ]
    },
    {
     "name": "stdout",
     "output_type": "stream",
     "text": [
      "- batch loss and accuracy : 1.3455102\t0.0000\n",
      "- batch loss and accuracy : 0.9692254\t0.0000\n",
      "- batch loss and accuracy : 1.0945814\t0.0000\n",
      "- batch loss and accuracy : 0.4463472\t0.6667\n",
      "- batch loss and accuracy : 0.2129155\t1.0000\n",
      "- batch loss and accuracy : 0.1105273\t1.0000\n",
      "- batch loss and accuracy : 0.0616155\t1.0000\n",
      "- batch loss and accuracy : 3.9525456\t0.0000\n"
     ]
    },
    {
     "name": "stderr",
     "output_type": "stream",
     "text": [
      "epoch 29 - train: 91it [00:01, 57.81it/s]"
     ]
    },
    {
     "name": "stdout",
     "output_type": "stream",
     "text": [
      "- batch loss and accuracy : 3.6480880\t0.0000\n",
      "- batch loss and accuracy : 0.0300895\t1.0000\n",
      "- batch loss and accuracy : 0.0259446\t1.0000\n",
      "- batch loss and accuracy : 0.0276457\t1.0000\n",
      "- batch loss and accuracy : 0.0264763\t1.0000\n"
     ]
    },
    {
     "name": "stderr",
     "output_type": "stream",
     "text": [
      "epoch 29 - train: 98it [00:01, 59.82it/s]"
     ]
    },
    {
     "name": "stdout",
     "output_type": "stream",
     "text": [
      "- batch loss and accuracy : 0.0306471\t1.0000\n",
      "- batch loss and accuracy : 3.0160828\t0.0000\n",
      "- batch loss and accuracy : 0.0844628\t1.0000\n",
      "- batch loss and accuracy : 0.0680144\t1.0000\n",
      "- batch loss and accuracy : 2.2452946\t0.0000\n",
      "- batch loss and accuracy : 0.1421820\t1.0000\n",
      "- batch loss and accuracy : 1.5852890\t0.0000\n",
      "- batch loss and accuracy : 0.5056639\t0.6667\n"
     ]
    },
    {
     "name": "stderr",
     "output_type": "stream",
     "text": [
      "epoch 29 - train: 105it [00:01, 59.56it/s]"
     ]
    },
    {
     "name": "stdout",
     "output_type": "stream",
     "text": [
      "- batch loss and accuracy : 0.9070292\t0.6667\n",
      "- batch loss and accuracy : 0.5136633\t0.6667\n",
      "- batch loss and accuracy : 0.3394892\t1.0000\n",
      "- batch loss and accuracy : 1.6461076\t0.0000\n",
      "- batch loss and accuracy : 0.1845609\t1.0000\n"
     ]
    },
    {
     "name": "stderr",
     "output_type": "stream",
     "text": [
      "epoch 29 - train: 112it [00:01, 61.21it/s]"
     ]
    },
    {
     "name": "stdout",
     "output_type": "stream",
     "text": [
      "- batch loss and accuracy : 2.3179016\t0.0000\n",
      "- batch loss and accuracy : 2.4011493\t0.0000\n",
      "- batch loss and accuracy : 2.2082477\t0.0000\n",
      "- batch loss and accuracy : 0.1317563\t1.0000\n",
      "- batch loss and accuracy : 1.7668002\t0.0000\n",
      "- batch loss and accuracy : 1.0051184\t0.3333\n",
      "- batch loss and accuracy : 0.8948911\t0.0000\n",
      "- batch loss and accuracy : 0.3360190\t1.0000\n",
      "- batch loss and accuracy : 0.1118847\t1.0000\n",
      "- batch loss and accuracy : 0.2048949\t1.0000\n",
      "- batch loss and accuracy : 0.0517691\t1.0000\n",
      "- batch loss and accuracy : 3.0488639\t0.0000\n"
     ]
    },
    {
     "name": "stderr",
     "output_type": "stream",
     "text": [
      "epoch 29 - train: 119it [00:02, 55.45it/s]"
     ]
    },
    {
     "name": "stdout",
     "output_type": "stream",
     "text": [
      "- batch loss and accuracy : 0.0258923\t1.0000\n",
      "- batch loss and accuracy : 0.0720582\t1.0000\n",
      "- batch loss and accuracy : 0.0216356\t1.0000\n",
      "- batch loss and accuracy : 0.0139299\t1.0000\n",
      "- batch loss and accuracy : 0.0140784\t1.0000\n",
      "- batch loss and accuracy : 3.4051266\t0.0000\n"
     ]
    },
    {
     "name": "stderr",
     "output_type": "stream",
     "text": [
      "epoch 29 - train: 125it [00:02, 54.31it/s]"
     ]
    },
    {
     "name": "stdout",
     "output_type": "stream",
     "text": [
      "- batch loss and accuracy : 4.4099627\t0.0000\n",
      "- batch loss and accuracy : 0.0289487\t1.0000\n",
      "- batch loss and accuracy : 0.0687038\t1.0000\n",
      "- batch loss and accuracy : 2.4027653\t0.0000\n",
      "- batch loss and accuracy : 0.2472622\t1.0000\n",
      "- batch loss and accuracy : 0.2509559\t1.0000\n"
     ]
    },
    {
     "name": "stderr",
     "output_type": "stream",
     "text": [
      "epoch 29 - train: 132it [00:02, 56.16it/s]"
     ]
    },
    {
     "name": "stdout",
     "output_type": "stream",
     "text": [
      "- batch loss and accuracy : 0.8397588\t0.3333\n",
      "- batch loss and accuracy : 0.6916921\t0.6667\n",
      "- batch loss and accuracy : 0.6277930\t0.6667\n",
      "- batch loss and accuracy : 0.7772681\t0.3333\n",
      "- batch loss and accuracy : 0.5501497\t0.6667\n",
      "- batch loss and accuracy : 0.6226503\t0.6667\n",
      "- batch loss and accuracy : 0.5475351\t0.6667\n"
     ]
    },
    {
     "name": "stderr",
     "output_type": "stream",
     "text": [
      "epoch 29 - train: 139it [00:02, 57.56it/s]"
     ]
    },
    {
     "name": "stdout",
     "output_type": "stream",
     "text": [
      "- batch loss and accuracy : 0.7210249\t0.3333\n",
      "- batch loss and accuracy : 0.5696277\t0.6667\n",
      "- batch loss and accuracy : 0.9475831\t0.3333\n",
      "- batch loss and accuracy : 0.8201162\t0.3333\n",
      "- batch loss and accuracy : 0.5851721\t0.6667\n"
     ]
    },
    {
     "name": "stderr",
     "output_type": "stream",
     "text": [
      "epoch 29 - train: 145it [00:02, 56.68it/s]"
     ]
    },
    {
     "name": "stdout",
     "output_type": "stream",
     "text": [
      "- batch loss and accuracy : 0.4444654\t1.0000\n",
      "- batch loss and accuracy : 1.1360763\t0.3333\n",
      "- batch loss and accuracy : 0.1399484\t1.0000\n",
      "- batch loss and accuracy : 0.1581792\t1.0000\n",
      "- batch loss and accuracy : 0.1183182\t1.0000\n",
      "- batch loss and accuracy : 0.1414500\t1.0000\n"
     ]
    },
    {
     "name": "stderr",
     "output_type": "stream",
     "text": [
      "epoch 29 - train: 151it [00:02, 52.42it/s]"
     ]
    },
    {
     "name": "stdout",
     "output_type": "stream",
     "text": [
      "- batch loss and accuracy : 3.4112613\t0.0000\n",
      "- batch loss and accuracy : 0.0517036\t1.0000\n",
      "- batch loss and accuracy : 0.0878121\t1.0000\n",
      "- batch loss and accuracy : 0.0827771\t1.0000\n",
      "- batch loss and accuracy : 3.3301010\t0.0000\n"
     ]
    },
    {
     "name": "stderr",
     "output_type": "stream",
     "text": [
      "epoch 29 - train: 157it [00:02, 53.74it/s]"
     ]
    },
    {
     "name": "stdout",
     "output_type": "stream",
     "text": [
      "- batch loss and accuracy : 0.0958760\t1.0000\n",
      "- batch loss and accuracy : 0.1487273\t1.0000\n",
      "- batch loss and accuracy : 0.1821536\t1.0000\n",
      "- batch loss and accuracy : 0.3073773\t1.0000\n",
      "- batch loss and accuracy : 2.3256693\t0.0000\n",
      "- batch loss and accuracy : 1.7517192\t0.0000\n",
      "- batch loss and accuracy : 1.2730958\t0.0000\n"
     ]
    },
    {
     "name": "stderr",
     "output_type": "stream",
     "text": [
      "epoch 29 - train: 164it [00:02, 55.92it/s]"
     ]
    },
    {
     "name": "stdout",
     "output_type": "stream",
     "text": [
      "- batch loss and accuracy : 0.5329568\t1.0000\n",
      "- batch loss and accuracy : 0.7717209\t0.6667\n",
      "- batch loss and accuracy : 1.1334081\t0.6667\n",
      "- batch loss and accuracy : 0.4081962\t1.0000\n",
      "- batch loss and accuracy : 0.9945273\t0.0000\n"
     ]
    },
    {
     "name": "stderr",
     "output_type": "stream",
     "text": [
      "epoch 29 - train: 170it [00:03, 53.64it/s]"
     ]
    },
    {
     "name": "stdout",
     "output_type": "stream",
     "text": [
      "- batch loss and accuracy : 1.0545588\t0.3333\n",
      "- batch loss and accuracy : 0.5020901\t1.0000\n",
      "- batch loss and accuracy : 0.9591526\t0.3333\n",
      "- batch loss and accuracy : 0.6832637\t0.3333\n",
      "- batch loss and accuracy : 0.8912470\t0.3333\n",
      "- batch loss and accuracy : 0.8264341\t0.3333\n"
     ]
    },
    {
     "name": "stderr",
     "output_type": "stream",
     "text": [
      "epoch 29 - train: 176it [00:03, 54.25it/s]"
     ]
    },
    {
     "name": "stdout",
     "output_type": "stream",
     "text": [
      "- batch loss and accuracy : 0.7555053\t0.6667\n",
      "- batch loss and accuracy : 1.3194897\t0.0000\n",
      "- batch loss and accuracy : 0.3488888\t1.0000\n",
      "- batch loss and accuracy : 1.2426913\t0.0000\n",
      "- batch loss and accuracy : 0.4748687\t0.6667\n"
     ]
    },
    {
     "name": "stderr",
     "output_type": "stream",
     "text": [
      "epoch 29 - train: 182it [00:03, 52.18it/s]"
     ]
    },
    {
     "name": "stdout",
     "output_type": "stream",
     "text": [
      "- batch loss and accuracy : 0.3988915\t1.0000\n",
      "- batch loss and accuracy : 0.6186196\t1.0000\n",
      "- batch loss and accuracy : 0.2962305\t1.0000\n",
      "- batch loss and accuracy : 0.3441026\t1.0000\n",
      "- batch loss and accuracy : 2.0732930\t0.0000\n",
      "- batch loss and accuracy : 1.6458349\t0.0000\n",
      "- batch loss and accuracy : 0.2463211\t1.0000\n",
      "- batch loss and accuracy : 1.6724720\t0.0000\n",
      "- batch loss and accuracy : 0.3021283\t1.0000\n",
      "- batch loss and accuracy : 0.3208531\t1.0000\n",
      "- batch loss and accuracy : 0.8032160\t0.3333\n"
     ]
    },
    {
     "name": "stderr",
     "output_type": "stream",
     "text": [
      "epoch 29 - train: 188it [00:03, 52.50it/s]"
     ]
    },
    {
     "name": "stdout",
     "output_type": "stream",
     "text": [
      "- batch loss and accuracy : 0.7589623\t0.3333\n",
      "- batch loss and accuracy : 0.5143246\t0.6667\n",
      "- batch loss and accuracy : 0.4159151\t1.0000\n",
      "- batch loss and accuracy : 0.7979824\t0.6667\n",
      "- batch loss and accuracy : 0.4071784\t1.0000\n",
      "- batch loss and accuracy : 1.6195836\t0.0000\n",
      "- batch loss and accuracy : 0.3094821\t1.0000\n"
     ]
    },
    {
     "name": "stderr",
     "output_type": "stream",
     "text": [
      "epoch 29 - train: 195it [00:03, 54.99it/s]"
     ]
    },
    {
     "name": "stdout",
     "output_type": "stream",
     "text": [
      "- batch loss and accuracy : 0.3463924\t1.0000\n",
      "- batch loss and accuracy : 0.2624479\t1.0000\n",
      "- batch loss and accuracy : 0.1466083\t1.0000\n",
      "- batch loss and accuracy : 0.1844299\t1.0000\n",
      "- batch loss and accuracy : 0.0650016\t1.0000\n",
      "- batch loss and accuracy : 0.0424872\t1.0000\n"
     ]
    },
    {
     "name": "stderr",
     "output_type": "stream",
     "text": [
      "epoch 29 - train: 202it [00:03, 57.60it/s]"
     ]
    },
    {
     "name": "stdout",
     "output_type": "stream",
     "text": [
      "- batch loss and accuracy : 0.0527918\t1.0000\n",
      "- batch loss and accuracy : 0.0356797\t1.0000\n",
      "- batch loss and accuracy : 3.9401627\t0.0000\n",
      "- batch loss and accuracy : 3.5085011\t0.0000\n",
      "- batch loss and accuracy : 2.9859235\t0.0000\n",
      "- batch loss and accuracy : 2.6527905\t0.0000\n",
      "- batch loss and accuracy : 0.1515807\t1.0000\n"
     ]
    },
    {
     "name": "stderr",
     "output_type": "stream",
     "text": [
      "epoch 29 - train: 209it [00:03, 59.38it/s]"
     ]
    },
    {
     "name": "stdout",
     "output_type": "stream",
     "text": [
      "- batch loss and accuracy : 1.2048223\t0.3333\n",
      "- batch loss and accuracy : 0.7812998\t0.6667\n",
      "- batch loss and accuracy : 1.5562563\t0.0000\n",
      "- batch loss and accuracy : 2.4792595\t0.0000\n",
      "- batch loss and accuracy : 0.0848635\t1.0000\n",
      "- batch loss and accuracy : 2.7672813\t0.0000\n"
     ]
    },
    {
     "name": "stderr",
     "output_type": "stream",
     "text": [
      "epoch 29 - train: 216it [00:03, 58.83it/s]"
     ]
    },
    {
     "name": "stdout",
     "output_type": "stream",
     "text": [
      "- batch loss and accuracy : 0.0809105\t1.0000\n",
      "- batch loss and accuracy : 2.8660965\t0.0000\n",
      "- batch loss and accuracy : 0.1234367\t1.0000\n",
      "- batch loss and accuracy : 2.6293020\t0.0000\n",
      "- batch loss and accuracy : 1.5589607\t0.0000\n",
      "- batch loss and accuracy : 1.2517613\t0.0000\n",
      "- batch loss and accuracy : 0.5386969\t1.0000\n"
     ]
    },
    {
     "name": "stderr",
     "output_type": "stream",
     "text": [
      "epoch 29 - train: 222it [00:03, 58.00it/s]"
     ]
    },
    {
     "name": "stdout",
     "output_type": "stream",
     "text": [
      "- batch loss and accuracy : 1.7015556\t0.0000\n",
      "- batch loss and accuracy : 2.1603632\t0.0000\n",
      "- batch loss and accuracy : 0.0617409\t1.0000\n",
      "- batch loss and accuracy : 2.8374104\t0.0000\n"
     ]
    },
    {
     "name": "stderr",
     "output_type": "stream",
     "text": [
      "epoch 29 - train: 228it [00:04, 52.88it/s]"
     ]
    },
    {
     "name": "stdout",
     "output_type": "stream",
     "text": [
      "- batch loss and accuracy : 2.5592546\t0.0000\n",
      "- batch loss and accuracy : 0.2048577\t1.0000\n",
      "- batch loss and accuracy : 0.1547421\t1.0000\n",
      "- batch loss and accuracy : 0.3726663\t1.0000\n",
      "- batch loss and accuracy : 0.2566503\t1.0000\n",
      "- batch loss and accuracy : 0.1893725\t1.0000\n"
     ]
    },
    {
     "name": "stderr",
     "output_type": "stream",
     "text": [
      "epoch 29 - train: 234it [00:04, 52.88it/s]"
     ]
    },
    {
     "name": "stdout",
     "output_type": "stream",
     "text": [
      "- batch loss and accuracy : 1.4512055\t0.0000\n",
      "- batch loss and accuracy : 0.4016835\t0.6667\n",
      "- batch loss and accuracy : 0.3543298\t1.0000\n",
      "- batch loss and accuracy : 1.2243416\t0.0000\n"
     ]
    },
    {
     "name": "stderr",
     "output_type": "stream",
     "text": [
      "epoch 29 - train: 240it [00:04, 51.12it/s]"
     ]
    },
    {
     "name": "stdout",
     "output_type": "stream",
     "text": [
      "- batch loss and accuracy : 0.3094335\t1.0000\n",
      "- batch loss and accuracy : 0.4472550\t0.6667\n",
      "- batch loss and accuracy : 0.5141158\t0.6667\n",
      "- batch loss and accuracy : 0.4219703\t1.0000\n",
      "- batch loss and accuracy : 1.1320207\t0.0000\n",
      "- batch loss and accuracy : 0.2405256\t1.0000\n",
      "- batch loss and accuracy : 1.2722402\t0.0000\n",
      "- batch loss and accuracy : 0.4431840\t1.0000\n",
      "- batch loss and accuracy : 0.4254848\t1.0000\n",
      "- batch loss and accuracy : 0.4173232\t1.0000\n",
      "- batch loss and accuracy : 0.2863571\t1.0000\n"
     ]
    },
    {
     "name": "stderr",
     "output_type": "stream",
     "text": [
      "epoch 29 - train: 249it [00:04, 54.91it/s]\n"
     ]
    },
    {
     "name": "stdout",
     "output_type": "stream",
     "text": [
      "- batch loss and accuracy : 0.2920402\t1.0000\n",
      "- batch loss and accuracy : 0.1485542\t1.0000\n",
      "- batch loss and accuracy : 0.1333430\t1.0000\n",
      "- batch loss and accuracy : 2.5901322\t0.0000\n"
     ]
    },
    {
     "name": "stderr",
     "output_type": "stream",
     "text": [
      "epoch 29 - validation: 100%|██████████| 63/63 [00:00<00:00, 87.08it/s]"
     ]
    },
    {
     "name": "stdout",
     "output_type": "stream",
     "text": [
      "Validation loss and accuracy : 0.7365849\t0.7143\n",
      "EPOCH 30\n"
     ]
    },
    {
     "name": "stderr",
     "output_type": "stream",
     "text": [
      "\n",
      "epoch 30 - train: 2it [00:00, 18.60it/s]"
     ]
    },
    {
     "name": "stdout",
     "output_type": "stream",
     "text": [
      "- batch loss and accuracy : 2.5349243\t0.0000\n",
      "- batch loss and accuracy : 2.2321939\t0.0000\n",
      "- batch loss and accuracy : 0.2693709\t1.0000\n",
      "- batch loss and accuracy : 0.2734815\t1.0000\n",
      "- batch loss and accuracy : 0.5178528\t1.0000\n"
     ]
    },
    {
     "name": "stderr",
     "output_type": "stream",
     "text": [
      "epoch 30 - train: 8it [00:00, 42.10it/s]"
     ]
    },
    {
     "name": "stdout",
     "output_type": "stream",
     "text": [
      "- batch loss and accuracy : 0.6605862\t0.3333\n",
      "- batch loss and accuracy : 0.3592581\t1.0000\n",
      "- batch loss and accuracy : 0.4303104\t1.0000\n",
      "- batch loss and accuracy : 0.3840387\t1.0000\n",
      "- batch loss and accuracy : 0.2347638\t1.0000\n",
      "- batch loss and accuracy : 1.6133356\t0.0000\n",
      "- batch loss and accuracy : 1.9347200\t0.0000\n",
      "- batch loss and accuracy : 1.5723985\t0.0000\n"
     ]
    },
    {
     "name": "stderr",
     "output_type": "stream",
     "text": [
      "epoch 30 - train: 15it [00:00, 52.48it/s]"
     ]
    },
    {
     "name": "stdout",
     "output_type": "stream",
     "text": [
      "- batch loss and accuracy : 0.3048394\t1.0000\n",
      "- batch loss and accuracy : 0.7798089\t0.3333\n",
      "- batch loss and accuracy : 0.9201183\t0.3333\n",
      "- batch loss and accuracy : 0.7370254\t0.3333\n",
      "- batch loss and accuracy : 1.4083357\t0.0000\n",
      "- batch loss and accuracy : 0.9418105\t0.3333\n"
     ]
    },
    {
     "name": "stderr",
     "output_type": "stream",
     "text": [
      "epoch 30 - train: 22it [00:00, 59.01it/s]"
     ]
    },
    {
     "name": "stdout",
     "output_type": "stream",
     "text": [
      "- batch loss and accuracy : 1.3517864\t0.0000\n",
      "- batch loss and accuracy : 0.8463148\t0.3333\n",
      "- batch loss and accuracy : 1.0531359\t0.0000\n",
      "- batch loss and accuracy : 0.7431595\t0.6667\n",
      "- batch loss and accuracy : 0.3894626\t1.0000\n",
      "- batch loss and accuracy : 0.3087015\t1.0000\n",
      "- batch loss and accuracy : 0.1999983\t1.0000\n"
     ]
    },
    {
     "name": "stderr",
     "output_type": "stream",
     "text": [
      "epoch 30 - train: 28it [00:00, 58.86it/s]"
     ]
    },
    {
     "name": "stdout",
     "output_type": "stream",
     "text": [
      "- batch loss and accuracy : 3.0025661\t0.0000\n",
      "- batch loss and accuracy : 0.0674919\t1.0000\n",
      "- batch loss and accuracy : 0.0487616\t1.0000\n",
      "- batch loss and accuracy : 2.8155842\t0.0000\n",
      "- batch loss and accuracy : 0.0945833\t1.0000\n"
     ]
    },
    {
     "name": "stderr",
     "output_type": "stream",
     "text": [
      "epoch 30 - train: 34it [00:00, 53.83it/s]"
     ]
    },
    {
     "name": "stdout",
     "output_type": "stream",
     "text": [
      "- batch loss and accuracy : 2.5494971\t0.0000\n",
      "- batch loss and accuracy : 0.1255758\t1.0000\n",
      "- batch loss and accuracy : 0.1891310\t1.0000\n",
      "- batch loss and accuracy : 0.1960560\t1.0000\n",
      "- batch loss and accuracy : 0.2495024\t1.0000\n",
      "- batch loss and accuracy : 1.5810611\t0.0000\n",
      "- batch loss and accuracy : 0.9304277\t0.3333\n"
     ]
    },
    {
     "name": "stderr",
     "output_type": "stream",
     "text": [
      "epoch 30 - train: 40it [00:00, 54.42it/s]"
     ]
    },
    {
     "name": "stdout",
     "output_type": "stream",
     "text": [
      "- batch loss and accuracy : 0.6656502\t0.6667\n",
      "- batch loss and accuracy : 0.6982821\t0.6667\n",
      "- batch loss and accuracy : 0.7420763\t0.6667\n",
      "- batch loss and accuracy : 0.6185914\t0.6667\n"
     ]
    },
    {
     "name": "stderr",
     "output_type": "stream",
     "text": [
      "epoch 30 - train: 46it [00:00, 54.04it/s]"
     ]
    },
    {
     "name": "stdout",
     "output_type": "stream",
     "text": [
      "- batch loss and accuracy : 0.8994605\t0.3333\n",
      "- batch loss and accuracy : 0.4741186\t1.0000\n",
      "- batch loss and accuracy : 0.7052444\t0.3333\n",
      "- batch loss and accuracy : 0.6766817\t0.6667\n",
      "- batch loss and accuracy : 0.3933746\t0.6667\n",
      "- batch loss and accuracy : 0.5123771\t0.6667\n",
      "- batch loss and accuracy : 0.4600618\t0.6667\n"
     ]
    },
    {
     "name": "stderr",
     "output_type": "stream",
     "text": [
      "epoch 30 - train: 52it [00:00, 55.00it/s]"
     ]
    },
    {
     "name": "stdout",
     "output_type": "stream",
     "text": [
      "- batch loss and accuracy : 2.0002327\t0.0000\n",
      "- batch loss and accuracy : 0.2501339\t1.0000\n",
      "- batch loss and accuracy : 2.1632771\t0.0000\n",
      "- batch loss and accuracy : 2.0450306\t0.0000\n",
      "- batch loss and accuracy : 0.2425126\t1.0000\n"
     ]
    },
    {
     "name": "stderr",
     "output_type": "stream",
     "text": [
      "epoch 30 - train: 58it [00:01, 54.72it/s]"
     ]
    },
    {
     "name": "stdout",
     "output_type": "stream",
     "text": [
      "- batch loss and accuracy : 0.3329301\t1.0000\n",
      "- batch loss and accuracy : 0.3553171\t1.0000\n",
      "- batch loss and accuracy : 0.3168982\t1.0000\n",
      "- batch loss and accuracy : 1.1764762\t0.0000\n",
      "- batch loss and accuracy : 1.1599003\t0.0000\n",
      "- batch loss and accuracy : 0.7305868\t0.6667\n",
      "- batch loss and accuracy : 0.9140625\t0.3333\n"
     ]
    },
    {
     "name": "stderr",
     "output_type": "stream",
     "text": [
      "epoch 30 - train: 64it [00:01, 54.37it/s]"
     ]
    },
    {
     "name": "stdout",
     "output_type": "stream",
     "text": [
      "- batch loss and accuracy : 1.1016427\t0.0000\n",
      "- batch loss and accuracy : 1.1288080\t0.0000\n",
      "- batch loss and accuracy : 0.9799153\t0.0000\n",
      "- batch loss and accuracy : 0.4581974\t1.0000\n",
      "- batch loss and accuracy : 0.6103409\t0.6667\n",
      "- batch loss and accuracy : 0.6751778\t0.6667\n"
     ]
    },
    {
     "name": "stderr",
     "output_type": "stream",
     "text": [
      "epoch 30 - train: 71it [00:01, 56.85it/s]"
     ]
    },
    {
     "name": "stdout",
     "output_type": "stream",
     "text": [
      "- batch loss and accuracy : 1.6194401\t0.0000\n",
      "- batch loss and accuracy : 0.3043815\t1.0000\n",
      "- batch loss and accuracy : 0.2316956\t1.0000\n",
      "- batch loss and accuracy : 0.1546563\t1.0000\n",
      "- batch loss and accuracy : 1.9827316\t0.0000\n",
      "- batch loss and accuracy : 0.1631297\t1.0000\n"
     ]
    },
    {
     "name": "stderr",
     "output_type": "stream",
     "text": [
      "epoch 30 - train: 78it [00:01, 57.93it/s]"
     ]
    },
    {
     "name": "stdout",
     "output_type": "stream",
     "text": [
      "- batch loss and accuracy : 0.1284842\t1.0000\n",
      "- batch loss and accuracy : 2.3249736\t0.0000\n",
      "- batch loss and accuracy : 1.9420598\t0.0000\n",
      "- batch loss and accuracy : 0.3074021\t1.0000\n",
      "- batch loss and accuracy : 0.6377424\t0.6667\n",
      "- batch loss and accuracy : 0.8132858\t0.3333\n",
      "- batch loss and accuracy : 0.4863923\t0.6667\n"
     ]
    },
    {
     "name": "stderr",
     "output_type": "stream",
     "text": [
      "epoch 30 - train: 84it [00:01, 58.43it/s]"
     ]
    },
    {
     "name": "stdout",
     "output_type": "stream",
     "text": [
      "- batch loss and accuracy : 1.0158067\t0.0000\n",
      "- batch loss and accuracy : 0.7368466\t0.3333\n",
      "- batch loss and accuracy : 1.2754424\t0.0000\n",
      "- batch loss and accuracy : 1.3316119\t0.0000\n",
      "- batch loss and accuracy : 1.7297943\t0.0000\n"
     ]
    },
    {
     "name": "stderr",
     "output_type": "stream",
     "text": [
      "epoch 30 - train: 90it [00:01, 56.28it/s]"
     ]
    },
    {
     "name": "stdout",
     "output_type": "stream",
     "text": [
      "- batch loss and accuracy : 0.4822643\t1.0000\n",
      "- batch loss and accuracy : 0.4551954\t1.0000\n",
      "- batch loss and accuracy : 0.3928412\t1.0000\n",
      "- batch loss and accuracy : 1.0582840\t0.3333\n",
      "- batch loss and accuracy : 0.8928638\t0.3333\n",
      "- batch loss and accuracy : 1.2229640\t0.0000\n"
     ]
    },
    {
     "name": "stderr",
     "output_type": "stream",
     "text": [
      "epoch 30 - train: 97it [00:01, 58.26it/s]"
     ]
    },
    {
     "name": "stdout",
     "output_type": "stream",
     "text": [
      "- batch loss and accuracy : 0.9638891\t0.3333\n",
      "- batch loss and accuracy : 0.5973956\t0.6667\n",
      "- batch loss and accuracy : 0.1905172\t1.0000\n",
      "- batch loss and accuracy : 1.7760172\t0.0000\n",
      "- batch loss and accuracy : 0.3244715\t1.0000\n",
      "- batch loss and accuracy : 1.7168835\t0.0000\n",
      "- batch loss and accuracy : 1.5972717\t0.0000\n"
     ]
    },
    {
     "name": "stderr",
     "output_type": "stream",
     "text": [
      "epoch 30 - train: 103it [00:01, 55.77it/s]"
     ]
    },
    {
     "name": "stdout",
     "output_type": "stream",
     "text": [
      "- batch loss and accuracy : 0.3915951\t1.0000\n",
      "- batch loss and accuracy : 0.2460787\t1.0000\n",
      "- batch loss and accuracy : 0.1694111\t1.0000\n",
      "- batch loss and accuracy : 0.4136308\t1.0000\n",
      "- batch loss and accuracy : 0.3795798\t1.0000\n",
      "- batch loss and accuracy : 0.3090794\t1.0000\n",
      "- batch loss and accuracy : 0.3189084\t1.0000\n",
      "- batch loss and accuracy : 0.1826847\t1.0000\n",
      "- batch loss and accuracy : 1.7263668\t0.0000\n",
      "- batch loss and accuracy : 2.3877335\t0.0000\n"
     ]
    },
    {
     "name": "stderr",
     "output_type": "stream",
     "text": [
      "epoch 30 - train: 109it [00:01, 53.34it/s]"
     ]
    },
    {
     "name": "stdout",
     "output_type": "stream",
     "text": [
      "- batch loss and accuracy : 0.3082691\t1.0000\n",
      "- batch loss and accuracy : 0.2095029\t1.0000\n",
      "- batch loss and accuracy : 0.1938882\t1.0000\n",
      "- batch loss and accuracy : 0.3148129\t1.0000\n",
      "- batch loss and accuracy : 0.3347686\t1.0000\n"
     ]
    },
    {
     "name": "stderr",
     "output_type": "stream",
     "text": [
      "epoch 30 - train: 115it [00:02, 49.96it/s]"
     ]
    },
    {
     "name": "stdout",
     "output_type": "stream",
     "text": [
      "- batch loss and accuracy : 0.3098606\t1.0000\n",
      "- batch loss and accuracy : 0.2298150\t1.0000\n",
      "- batch loss and accuracy : 2.4448271\t0.0000\n",
      "- batch loss and accuracy : 0.3243871\t1.0000\n",
      "- batch loss and accuracy : 2.0744233\t0.0000\n"
     ]
    },
    {
     "name": "stderr",
     "output_type": "stream",
     "text": [
      "epoch 30 - train: 121it [00:02, 49.56it/s]"
     ]
    },
    {
     "name": "stdout",
     "output_type": "stream",
     "text": [
      "- batch loss and accuracy : 1.5225389\t0.0000\n",
      "- batch loss and accuracy : 0.4154811\t1.0000\n",
      "- batch loss and accuracy : 0.6650987\t0.6667\n",
      "- batch loss and accuracy : 0.5189250\t1.0000\n",
      "- batch loss and accuracy : 0.5139372\t1.0000\n",
      "- batch loss and accuracy : 1.1140187\t0.3333\n"
     ]
    },
    {
     "name": "stderr",
     "output_type": "stream",
     "text": [
      "epoch 30 - train: 126it [00:02, 47.04it/s]"
     ]
    },
    {
     "name": "stdout",
     "output_type": "stream",
     "text": [
      "- batch loss and accuracy : 0.4800205\t1.0000\n",
      "- batch loss and accuracy : 0.8518950\t0.3333\n",
      "- batch loss and accuracy : 0.8556432\t0.0000\n",
      "- batch loss and accuracy : 0.5990822\t1.0000\n"
     ]
    },
    {
     "name": "stderr",
     "output_type": "stream",
     "text": [
      "epoch 30 - train: 132it [00:02, 49.11it/s]"
     ]
    },
    {
     "name": "stdout",
     "output_type": "stream",
     "text": [
      "- batch loss and accuracy : 0.4599376\t1.0000\n",
      "- batch loss and accuracy : 0.3582568\t1.0000\n",
      "- batch loss and accuracy : 0.6235329\t0.6667\n",
      "- batch loss and accuracy : 2.0778761\t0.0000\n",
      "- batch loss and accuracy : 1.9502141\t0.0000\n"
     ]
    },
    {
     "name": "stderr",
     "output_type": "stream",
     "text": [
      "epoch 30 - train: 137it [00:02, 48.26it/s]"
     ]
    },
    {
     "name": "stdout",
     "output_type": "stream",
     "text": [
      "- batch loss and accuracy : 0.2305708\t1.0000\n",
      "- batch loss and accuracy : 1.3030446\t0.0000\n",
      "- batch loss and accuracy : 0.3208811\t1.0000\n",
      "- batch loss and accuracy : 1.1849160\t0.0000\n",
      "- batch loss and accuracy : 0.5687481\t1.0000\n",
      "- batch loss and accuracy : 0.7727486\t0.3333\n"
     ]
    },
    {
     "name": "stderr",
     "output_type": "stream",
     "text": [
      "epoch 30 - train: 142it [00:02, 46.47it/s]"
     ]
    },
    {
     "name": "stdout",
     "output_type": "stream",
     "text": [
      "- batch loss and accuracy : 0.3952797\t1.0000\n",
      "- batch loss and accuracy : 0.1793326\t1.0000\n",
      "- batch loss and accuracy : 1.6871471\t0.0000\n"
     ]
    },
    {
     "name": "stderr",
     "output_type": "stream",
     "text": [
      "epoch 30 - train: 147it [00:02, 47.17it/s]"
     ]
    },
    {
     "name": "stdout",
     "output_type": "stream",
     "text": [
      "- batch loss and accuracy : 1.8252996\t0.0000\n",
      "- batch loss and accuracy : 0.2224111\t1.0000\n",
      "- batch loss and accuracy : 0.2459307\t1.0000\n",
      "- batch loss and accuracy : 0.2230152\t1.0000\n",
      "- batch loss and accuracy : 1.7473835\t0.0000\n",
      "- batch loss and accuracy : 0.1979721\t1.0000\n",
      "- batch loss and accuracy : 0.1984174\t1.0000\n"
     ]
    },
    {
     "name": "stderr",
     "output_type": "stream",
     "text": [
      "epoch 30 - train: 154it [00:02, 51.05it/s]"
     ]
    },
    {
     "name": "stdout",
     "output_type": "stream",
     "text": [
      "- batch loss and accuracy : 0.3308492\t1.0000\n",
      "- batch loss and accuracy : 0.2133758\t1.0000\n",
      "- batch loss and accuracy : 0.4014338\t1.0000\n",
      "- batch loss and accuracy : 0.2184519\t1.0000\n",
      "- batch loss and accuracy : 0.2148781\t1.0000\n"
     ]
    },
    {
     "name": "stderr",
     "output_type": "stream",
     "text": [
      "epoch 30 - train: 161it [00:03, 53.75it/s]"
     ]
    },
    {
     "name": "stdout",
     "output_type": "stream",
     "text": [
      "- batch loss and accuracy : 1.8960813\t0.0000\n",
      "- batch loss and accuracy : 0.1507425\t1.0000\n",
      "- batch loss and accuracy : 0.2161859\t1.0000\n",
      "- batch loss and accuracy : 0.0584628\t1.0000\n",
      "- batch loss and accuracy : 0.0728807\t1.0000\n",
      "- batch loss and accuracy : 0.1736858\t1.0000\n",
      "- batch loss and accuracy : 2.5182705\t0.0000\n",
      "- batch loss and accuracy : 0.0814251\t1.0000\n",
      "- batch loss and accuracy : 0.0743028\t1.0000\n",
      "- batch loss and accuracy : 0.1758971\t1.0000\n",
      "- batch loss and accuracy : 0.1598858\t1.0000\n",
      "- batch loss and accuracy : 0.1352225\t1.0000\n"
     ]
    },
    {
     "name": "stderr",
     "output_type": "stream",
     "text": [
      "epoch 30 - train: 167it [00:03, 53.20it/s]"
     ]
    },
    {
     "name": "stdout",
     "output_type": "stream",
     "text": [
      "- batch loss and accuracy : 0.0748503\t1.0000\n",
      "- batch loss and accuracy : 0.1249624\t1.0000\n",
      "- batch loss and accuracy : 0.1704071\t1.0000\n",
      "- batch loss and accuracy : 0.0563675\t1.0000\n",
      "- batch loss and accuracy : 2.7867982\t0.0000\n",
      "- batch loss and accuracy : 0.0985016\t1.0000\n"
     ]
    },
    {
     "name": "stderr",
     "output_type": "stream",
     "text": [
      "epoch 30 - train: 173it [00:03, 51.92it/s]"
     ]
    },
    {
     "name": "stdout",
     "output_type": "stream",
     "text": [
      "- batch loss and accuracy : 0.0459962\t1.0000\n",
      "- batch loss and accuracy : 0.1675947\t1.0000\n",
      "- batch loss and accuracy : 2.3311872\t0.0000\n",
      "- batch loss and accuracy : 2.3217773\t0.0000\n",
      "- batch loss and accuracy : 0.2667183\t1.0000\n"
     ]
    },
    {
     "name": "stderr",
     "output_type": "stream",
     "text": [
      "epoch 30 - train: 180it [00:03, 55.22it/s]"
     ]
    },
    {
     "name": "stdout",
     "output_type": "stream",
     "text": [
      "- batch loss and accuracy : 0.2178876\t1.0000\n",
      "- batch loss and accuracy : 0.8823146\t0.3333\n",
      "- batch loss and accuracy : 0.9461576\t0.0000\n",
      "- batch loss and accuracy : 0.7037448\t0.3333\n",
      "- batch loss and accuracy : 0.5183963\t0.6667\n",
      "- batch loss and accuracy : 0.5381336\t0.6667\n",
      "- batch loss and accuracy : 1.8412999\t0.0000\n"
     ]
    },
    {
     "name": "stderr",
     "output_type": "stream",
     "text": [
      "epoch 30 - train: 186it [00:03, 54.09it/s]"
     ]
    },
    {
     "name": "stdout",
     "output_type": "stream",
     "text": [
      "- batch loss and accuracy : 1.2302065\t0.0000\n",
      "- batch loss and accuracy : 0.9744260\t0.0000\n",
      "- batch loss and accuracy : 0.5405957\t1.0000\n",
      "- batch loss and accuracy : 0.4944227\t1.0000\n",
      "- batch loss and accuracy : 1.3227257\t0.0000\n"
     ]
    },
    {
     "name": "stderr",
     "output_type": "stream",
     "text": [
      "epoch 30 - train: 192it [00:03, 53.58it/s]"
     ]
    },
    {
     "name": "stdout",
     "output_type": "stream",
     "text": [
      "- batch loss and accuracy : 0.2514157\t1.0000\n",
      "- batch loss and accuracy : 0.1257026\t1.0000\n",
      "- batch loss and accuracy : 0.1715213\t1.0000\n",
      "- batch loss and accuracy : 0.0689867\t1.0000\n",
      "- batch loss and accuracy : 2.8774047\t0.0000\n",
      "- batch loss and accuracy : 0.0754969\t1.0000\n",
      "- batch loss and accuracy : 2.9537911\t0.0000\n"
     ]
    },
    {
     "name": "stderr",
     "output_type": "stream",
     "text": [
      "epoch 30 - train: 199it [00:03, 55.75it/s]"
     ]
    },
    {
     "name": "stdout",
     "output_type": "stream",
     "text": [
      "- batch loss and accuracy : 0.1007574\t1.0000\n",
      "- batch loss and accuracy : 1.8951191\t0.0000\n",
      "- batch loss and accuracy : 1.9591329\t0.0000\n",
      "- batch loss and accuracy : 0.3573169\t1.0000\n",
      "- batch loss and accuracy : 0.4644748\t0.6667\n"
     ]
    },
    {
     "name": "stderr",
     "output_type": "stream",
     "text": [
      "epoch 30 - train: 205it [00:03, 54.33it/s]"
     ]
    },
    {
     "name": "stdout",
     "output_type": "stream",
     "text": [
      "- batch loss and accuracy : 0.9196230\t0.3333\n",
      "- batch loss and accuracy : 0.7706857\t0.3333\n",
      "- batch loss and accuracy : 0.8774168\t0.0000\n",
      "- batch loss and accuracy : 0.4983558\t0.6667\n",
      "- batch loss and accuracy : 0.7795865\t0.6667\n",
      "- batch loss and accuracy : 0.5452433\t0.6667\n"
     ]
    },
    {
     "name": "stderr",
     "output_type": "stream",
     "text": [
      "epoch 30 - train: 212it [00:03, 56.48it/s]"
     ]
    },
    {
     "name": "stdout",
     "output_type": "stream",
     "text": [
      "- batch loss and accuracy : 0.1971115\t1.0000\n",
      "- batch loss and accuracy : 0.1275961\t1.0000\n",
      "- batch loss and accuracy : 0.0993623\t1.0000\n",
      "- batch loss and accuracy : 0.0392172\t1.0000\n",
      "- batch loss and accuracy : 4.2025805\t0.0000\n",
      "- batch loss and accuracy : 0.0184230\t1.0000\n",
      "- batch loss and accuracy : 3.8425317\t0.0000\n"
     ]
    },
    {
     "name": "stderr",
     "output_type": "stream",
     "text": [
      "epoch 30 - train: 218it [00:04, 54.64it/s]"
     ]
    },
    {
     "name": "stdout",
     "output_type": "stream",
     "text": [
      "- batch loss and accuracy : 0.0134740\t1.0000\n",
      "- batch loss and accuracy : 0.0234041\t1.0000\n",
      "- batch loss and accuracy : 0.0330611\t1.0000\n",
      "- batch loss and accuracy : 3.3178740\t0.0000\n",
      "- batch loss and accuracy : 0.0816380\t1.0000\n"
     ]
    },
    {
     "name": "stderr",
     "output_type": "stream",
     "text": [
      "epoch 30 - train: 224it [00:04, 55.12it/s]"
     ]
    },
    {
     "name": "stdout",
     "output_type": "stream",
     "text": [
      "- batch loss and accuracy : 0.1100027\t1.0000\n",
      "- batch loss and accuracy : 0.2269954\t1.0000\n",
      "- batch loss and accuracy : 1.8943770\t0.0000\n",
      "- batch loss and accuracy : 1.6211547\t0.0000\n",
      "- batch loss and accuracy : 0.5214348\t0.6667\n",
      "- batch loss and accuracy : 0.9494207\t0.3333\n",
      "- batch loss and accuracy : 0.9507099\t0.3333\n",
      "- batch loss and accuracy : 1.0012398\t0.3333\n",
      "- batch loss and accuracy : 1.0715879\t0.3333\n",
      "- batch loss and accuracy : 0.8365445\t0.6667\n"
     ]
    },
    {
     "name": "stderr",
     "output_type": "stream",
     "text": [
      "epoch 30 - train: 230it [00:04, 51.83it/s]"
     ]
    },
    {
     "name": "stdout",
     "output_type": "stream",
     "text": [
      "- batch loss and accuracy : 1.4035912\t0.0000\n",
      "- batch loss and accuracy : 0.2309787\t1.0000\n",
      "- batch loss and accuracy : 0.2000257\t1.0000\n",
      "- batch loss and accuracy : 0.1778944\t1.0000\n",
      "- batch loss and accuracy : 2.3476255\t0.0000\n",
      "- batch loss and accuracy : 0.1344670\t1.0000\n",
      "- batch loss and accuracy : 0.1161950\t1.0000\n",
      "- batch loss and accuracy : 0.1432732\t1.0000\n"
     ]
    },
    {
     "name": "stderr",
     "output_type": "stream",
     "text": [
      "epoch 30 - train: 237it [00:04, 55.11it/s]"
     ]
    },
    {
     "name": "stdout",
     "output_type": "stream",
     "text": [
      "- batch loss and accuracy : 0.1487218\t1.0000\n",
      "- batch loss and accuracy : 0.1852740\t1.0000\n",
      "- batch loss and accuracy : 0.1150708\t1.0000\n",
      "- batch loss and accuracy : 0.0611720\t1.0000\n",
      "- batch loss and accuracy : 3.1466587\t0.0000\n"
     ]
    },
    {
     "name": "stderr",
     "output_type": "stream",
     "text": [
      "epoch 30 - train: 244it [00:04, 57.77it/s]"
     ]
    },
    {
     "name": "stdout",
     "output_type": "stream",
     "text": [
      "- batch loss and accuracy : 2.7886744\t0.0000\n",
      "- batch loss and accuracy : 0.1322228\t1.0000\n",
      "- batch loss and accuracy : 0.1359721\t1.0000\n",
      "- batch loss and accuracy : 0.1494981\t1.0000\n",
      "- batch loss and accuracy : 0.1493036\t1.0000\n",
      "- batch loss and accuracy : 0.2935934\t1.0000\n",
      "- batch loss and accuracy : 0.2754672\t1.0000\n"
     ]
    },
    {
     "name": "stderr",
     "output_type": "stream",
     "text": [
      "epoch 30 - train: 249it [00:04, 53.26it/s]\n",
      "epoch 30 - validation: 100%|██████████| 63/63 [00:00<00:00, 80.53it/s]"
     ]
    },
    {
     "name": "stdout",
     "output_type": "stream",
     "text": [
      "Validation loss and accuracy : 0.5845772\t0.7143\n",
      "EPOCH 31\n"
     ]
    },
    {
     "name": "stderr",
     "output_type": "stream",
     "text": [
      "\n",
      "epoch 31 - train: 1it [00:00,  9.68it/s]"
     ]
    },
    {
     "name": "stdout",
     "output_type": "stream",
     "text": [
      "- batch loss and accuracy : 1.4728330\t0.0000\n",
      "- batch loss and accuracy : 0.2647730\t1.0000\n",
      "- batch loss and accuracy : 0.3009993\t1.0000\n",
      "- batch loss and accuracy : 0.3933451\t1.0000\n",
      "- batch loss and accuracy : 1.3689280\t0.0000\n"
     ]
    },
    {
     "name": "stderr",
     "output_type": "stream",
     "text": [
      "epoch 31 - train: 8it [00:00, 44.42it/s]"
     ]
    },
    {
     "name": "stdout",
     "output_type": "stream",
     "text": [
      "- batch loss and accuracy : 0.3533475\t1.0000\n",
      "- batch loss and accuracy : 0.3494098\t1.0000\n",
      "- batch loss and accuracy : 1.3511002\t0.0000\n",
      "- batch loss and accuracy : 0.6440457\t0.6667\n",
      "- batch loss and accuracy : 0.5608012\t0.6667\n",
      "- batch loss and accuracy : 1.3467516\t0.0000\n",
      "- batch loss and accuracy : 0.4795370\t0.6667\n",
      "- batch loss and accuracy : 0.4109408\t1.0000\n",
      "- batch loss and accuracy : 0.3319540\t1.0000\n",
      "- batch loss and accuracy : 0.4634810\t1.0000\n"
     ]
    },
    {
     "name": "stderr",
     "output_type": "stream",
     "text": [
      "epoch 31 - train: 16it [00:00, 56.09it/s]"
     ]
    },
    {
     "name": "stdout",
     "output_type": "stream",
     "text": [
      "- batch loss and accuracy : 1.4340848\t0.3333\n",
      "- batch loss and accuracy : 0.2428930\t1.0000\n"
     ]
    },
    {
     "name": "stderr",
     "output_type": "stream",
     "text": [
      "epoch 31 - train: 22it [00:00, 54.55it/s]"
     ]
    },
    {
     "name": "stdout",
     "output_type": "stream",
     "text": [
      "- batch loss and accuracy : 0.3334546\t1.0000\n",
      "- batch loss and accuracy : 0.2150476\t1.0000\n",
      "- batch loss and accuracy : 2.1076121\t0.0000\n",
      "- batch loss and accuracy : 0.2436062\t1.0000\n",
      "- batch loss and accuracy : 0.2174108\t1.0000\n",
      "- batch loss and accuracy : 0.1306317\t1.0000\n",
      "- batch loss and accuracy : 0.1470784\t1.0000\n",
      "- batch loss and accuracy : 0.1282511\t1.0000\n",
      "- batch loss and accuracy : 2.2300062\t0.0000\n",
      "- batch loss and accuracy : 0.1161557\t1.0000\n"
     ]
    },
    {
     "name": "stderr",
     "output_type": "stream",
     "text": [
      "epoch 31 - train: 28it [00:00, 55.95it/s]"
     ]
    },
    {
     "name": "stdout",
     "output_type": "stream",
     "text": [
      "- batch loss and accuracy : 1.7637355\t0.0000\n",
      "- batch loss and accuracy : 0.3828059\t1.0000\n",
      "- batch loss and accuracy : 0.1771364\t1.0000\n"
     ]
    },
    {
     "name": "stderr",
     "output_type": "stream",
     "text": [
      "epoch 31 - train: 34it [00:00, 52.28it/s]"
     ]
    },
    {
     "name": "stdout",
     "output_type": "stream",
     "text": [
      "- batch loss and accuracy : 0.2693897\t1.0000\n",
      "- batch loss and accuracy : 0.1993143\t1.0000\n",
      "- batch loss and accuracy : 0.3776599\t1.0000\n",
      "- batch loss and accuracy : 1.5678681\t0.0000\n",
      "- batch loss and accuracy : 0.2863976\t1.0000\n",
      "- batch loss and accuracy : 0.2846834\t1.0000\n"
     ]
    },
    {
     "name": "stderr",
     "output_type": "stream",
     "text": [
      "epoch 31 - train: 40it [00:00, 51.01it/s]"
     ]
    },
    {
     "name": "stdout",
     "output_type": "stream",
     "text": [
      "- batch loss and accuracy : 0.2868634\t1.0000\n",
      "- batch loss and accuracy : 1.5601351\t0.0000\n",
      "- batch loss and accuracy : 0.9721898\t0.3333\n",
      "- batch loss and accuracy : 0.4045759\t1.0000\n"
     ]
    },
    {
     "name": "stderr",
     "output_type": "stream",
     "text": [
      "epoch 31 - train: 46it [00:00, 50.20it/s]"
     ]
    },
    {
     "name": "stdout",
     "output_type": "stream",
     "text": [
      "- batch loss and accuracy : 0.8927116\t0.0000\n",
      "- batch loss and accuracy : 0.6839453\t0.3333\n",
      "- batch loss and accuracy : 0.4719691\t1.0000\n",
      "- batch loss and accuracy : 0.4920058\t0.6667\n",
      "- batch loss and accuracy : 1.2181545\t0.0000\n",
      "- batch loss and accuracy : 0.4670172\t1.0000\n",
      "- batch loss and accuracy : 0.1872557\t1.0000\n",
      "- batch loss and accuracy : 0.2092970\t1.0000\n",
      "- batch loss and accuracy : 0.0937306\t1.0000\n"
     ]
    },
    {
     "name": "stderr",
     "output_type": "stream",
     "text": [
      "epoch 31 - train: 52it [00:01, 47.26it/s]"
     ]
    },
    {
     "name": "stdout",
     "output_type": "stream",
     "text": [
      "- batch loss and accuracy : 0.0963791\t1.0000\n",
      "- batch loss and accuracy : 3.5059907\t0.0000\n",
      "- batch loss and accuracy : 0.1044026\t1.0000\n",
      "- batch loss and accuracy : 2.3320107\t0.0000\n",
      "- batch loss and accuracy : 0.1343025\t1.0000\n",
      "- batch loss and accuracy : 0.1341905\t1.0000\n",
      "- batch loss and accuracy : 0.1323458\t1.0000\n"
     ]
    },
    {
     "name": "stderr",
     "output_type": "stream",
     "text": [
      "epoch 31 - train: 57it [00:01, 45.17it/s]"
     ]
    },
    {
     "name": "stdout",
     "output_type": "stream",
     "text": [
      "- batch loss and accuracy : 2.4922643\t0.0000\n",
      "- batch loss and accuracy : 0.3498728\t1.0000\n"
     ]
    },
    {
     "name": "stderr",
     "output_type": "stream",
     "text": [
      "epoch 31 - train: 62it [00:01, 45.30it/s]"
     ]
    },
    {
     "name": "stdout",
     "output_type": "stream",
     "text": [
      "- batch loss and accuracy : 1.3945343\t0.0000\n",
      "- batch loss and accuracy : 0.9407213\t0.3333\n",
      "- batch loss and accuracy : 0.4929153\t0.6667\n",
      "- batch loss and accuracy : 1.4839838\t0.0000\n",
      "- batch loss and accuracy : 1.8130503\t0.0000\n",
      "- batch loss and accuracy : 1.3549011\t0.0000\n",
      "- batch loss and accuracy : 0.1000252\t1.0000\n",
      "- batch loss and accuracy : 0.3735480\t1.0000\n"
     ]
    },
    {
     "name": "stderr",
     "output_type": "stream",
     "text": [
      "epoch 31 - train: 67it [00:01, 39.08it/s]"
     ]
    },
    {
     "name": "stdout",
     "output_type": "stream",
     "text": [
      "- batch loss and accuracy : 1.2902657\t0.0000\n",
      "- batch loss and accuracy : 0.9729924\t0.6667\n",
      "- batch loss and accuracy : 0.7714469\t0.3333\n",
      "- batch loss and accuracy : 0.6918468\t0.3333\n",
      "- batch loss and accuracy : 1.1910750\t0.0000\n"
     ]
    },
    {
     "name": "stderr",
     "output_type": "stream",
     "text": [
      "epoch 31 - train: 72it [00:01, 36.84it/s]"
     ]
    },
    {
     "name": "stdout",
     "output_type": "stream",
     "text": [
      "- batch loss and accuracy : 0.2323109\t1.0000\n",
      "- batch loss and accuracy : 0.1331360\t1.0000\n",
      "- batch loss and accuracy : 0.0713286\t1.0000\n"
     ]
    },
    {
     "name": "stderr",
     "output_type": "stream",
     "text": [
      "epoch 31 - train: 77it [00:01, 38.23it/s]"
     ]
    },
    {
     "name": "stdout",
     "output_type": "stream",
     "text": [
      "- batch loss and accuracy : 0.0703099\t1.0000\n",
      "- batch loss and accuracy : 0.0380444\t1.0000\n",
      "- batch loss and accuracy : 0.0305354\t1.0000\n",
      "- batch loss and accuracy : 3.2892165\t0.0000\n",
      "- batch loss and accuracy : 4.0248432\t0.0000\n",
      "- batch loss and accuracy : 0.0304253\t1.0000\n"
     ]
    },
    {
     "name": "stderr",
     "output_type": "stream",
     "text": [
      "epoch 31 - train: 82it [00:01, 38.68it/s]"
     ]
    },
    {
     "name": "stdout",
     "output_type": "stream",
     "text": [
      "- batch loss and accuracy : 0.0562828\t1.0000\n",
      "- batch loss and accuracy : 0.0780831\t1.0000\n"
     ]
    },
    {
     "name": "stderr",
     "output_type": "stream",
     "text": [
      "epoch 31 - train: 87it [00:01, 38.53it/s]"
     ]
    },
    {
     "name": "stdout",
     "output_type": "stream",
     "text": [
      "- batch loss and accuracy : 0.1618528\t1.0000\n",
      "- batch loss and accuracy : 0.0877118\t1.0000\n",
      "- batch loss and accuracy : 1.8761044\t0.0000\n",
      "- batch loss and accuracy : 0.1432418\t1.0000\n",
      "- batch loss and accuracy : 0.2709776\t1.0000\n",
      "- batch loss and accuracy : 0.3777748\t1.0000\n",
      "- batch loss and accuracy : 0.2949099\t1.0000\n",
      "- batch loss and accuracy : 0.3978049\t1.0000\n"
     ]
    },
    {
     "name": "stderr",
     "output_type": "stream",
     "text": [
      "epoch 31 - train: 95it [00:02, 35.33it/s]"
     ]
    },
    {
     "name": "stdout",
     "output_type": "stream",
     "text": [
      "- batch loss and accuracy : 0.3050510\t1.0000\n",
      "- batch loss and accuracy : 0.2717341\t1.0000\n",
      "- batch loss and accuracy : 0.1748577\t1.0000\n",
      "- batch loss and accuracy : 1.9325641\t0.0000\n",
      "- batch loss and accuracy : 2.1576593\t0.0000\n",
      "- batch loss and accuracy : 1.4258385\t0.0000\n",
      "- batch loss and accuracy : 0.2916555\t1.0000\n",
      "- batch loss and accuracy : 1.2725180\t0.3333\n"
     ]
    },
    {
     "name": "stderr",
     "output_type": "stream",
     "text": [
      "epoch 31 - train: 105it [00:02, 40.88it/s]"
     ]
    },
    {
     "name": "stdout",
     "output_type": "stream",
     "text": [
      "- batch loss and accuracy : 0.6243094\t0.6667\n",
      "- batch loss and accuracy : 0.7947396\t0.3333\n",
      "- batch loss and accuracy : 0.9935834\t0.0000\n",
      "- batch loss and accuracy : 1.0188942\t0.3333\n",
      "- batch loss and accuracy : 0.8358833\t0.3333\n",
      "- batch loss and accuracy : 1.1547859\t0.0000\n",
      "- batch loss and accuracy : 0.3911904\t1.0000\n",
      "- batch loss and accuracy : 1.0611680\t0.3333\n",
      "- batch loss and accuracy : 0.3937037\t1.0000\n",
      "- batch loss and accuracy : 0.2589578\t1.0000\n",
      "- batch loss and accuracy : 0.2293522\t1.0000\n",
      "- batch loss and accuracy : 2.0186944\t0.0000\n"
     ]
    },
    {
     "name": "stderr",
     "output_type": "stream",
     "text": [
      "epoch 31 - train: 111it [00:02, 43.29it/s]"
     ]
    },
    {
     "name": "stdout",
     "output_type": "stream",
     "text": [
      "- batch loss and accuracy : 0.2156464\t1.0000\n",
      "- batch loss and accuracy : 0.1869708\t1.0000\n",
      "- batch loss and accuracy : 0.2955639\t1.0000\n",
      "- batch loss and accuracy : 0.2031130\t1.0000\n"
     ]
    },
    {
     "name": "stderr",
     "output_type": "stream",
     "text": [
      "epoch 31 - train: 116it [00:02, 41.06it/s]"
     ]
    },
    {
     "name": "stdout",
     "output_type": "stream",
     "text": [
      "- batch loss and accuracy : 1.8673390\t0.0000\n",
      "- batch loss and accuracy : 2.1591501\t0.0000\n",
      "- batch loss and accuracy : 0.2994784\t1.0000\n",
      "- batch loss and accuracy : 0.3059638\t1.0000\n"
     ]
    },
    {
     "name": "stderr",
     "output_type": "stream",
     "text": [
      "epoch 31 - train: 121it [00:02, 38.05it/s]"
     ]
    },
    {
     "name": "stdout",
     "output_type": "stream",
     "text": [
      "- batch loss and accuracy : 0.4880410\t1.0000\n",
      "- batch loss and accuracy : 0.5165529\t0.6667\n",
      "- batch loss and accuracy : 0.4756258\t0.6667\n",
      "- batch loss and accuracy : 0.2290652\t1.0000\n"
     ]
    },
    {
     "name": "stderr",
     "output_type": "stream",
     "text": [
      "epoch 31 - train: 125it [00:02, 38.48it/s]"
     ]
    },
    {
     "name": "stdout",
     "output_type": "stream",
     "text": [
      "- batch loss and accuracy : 0.2362803\t1.0000\n",
      "- batch loss and accuracy : 1.6795211\t0.0000\n",
      "- batch loss and accuracy : 1.8319759\t0.0000\n",
      "- batch loss and accuracy : 0.2627896\t1.0000\n"
     ]
    },
    {
     "name": "stderr",
     "output_type": "stream",
     "text": [
      "epoch 31 - train: 129it [00:03, 37.00it/s]"
     ]
    },
    {
     "name": "stdout",
     "output_type": "stream",
     "text": [
      "- batch loss and accuracy : 0.3598517\t1.0000\n",
      "- batch loss and accuracy : 1.3770789\t0.0000\n",
      "- batch loss and accuracy : 0.3134770\t1.0000\n"
     ]
    },
    {
     "name": "stderr",
     "output_type": "stream",
     "text": [
      "epoch 31 - train: 133it [00:03, 36.41it/s]"
     ]
    },
    {
     "name": "stdout",
     "output_type": "stream",
     "text": [
      "- batch loss and accuracy : 0.4062988\t1.0000\n",
      "- batch loss and accuracy : 0.2877109\t1.0000\n",
      "- batch loss and accuracy : 1.0518683\t0.0000\n",
      "- batch loss and accuracy : 0.8677306\t0.3333\n",
      "- batch loss and accuracy : 0.6574740\t0.3333\n"
     ]
    },
    {
     "name": "stderr",
     "output_type": "stream",
     "text": [
      "epoch 31 - train: 137it [00:03, 37.32it/s]"
     ]
    },
    {
     "name": "stdout",
     "output_type": "stream",
     "text": [
      "- batch loss and accuracy : 0.7099634\t0.3333\n",
      "- batch loss and accuracy : 1.0047238\t0.0000\n",
      "- batch loss and accuracy : 0.9027989\t0.6667\n"
     ]
    },
    {
     "name": "stderr",
     "output_type": "stream",
     "text": [
      "epoch 31 - train: 141it [00:03, 38.04it/s]"
     ]
    },
    {
     "name": "stdout",
     "output_type": "stream",
     "text": [
      "- batch loss and accuracy : 0.8467101\t0.3333\n",
      "- batch loss and accuracy : 0.7766807\t0.3333\n",
      "- batch loss and accuracy : 0.7616448\t0.3333\n",
      "- batch loss and accuracy : 1.0743754\t0.6667\n",
      "- batch loss and accuracy : 0.9928329\t0.3333\n",
      "- batch loss and accuracy : 1.6840223\t0.0000\n"
     ]
    },
    {
     "name": "stderr",
     "output_type": "stream",
     "text": [
      "epoch 31 - train: 146it [00:03, 39.39it/s]"
     ]
    },
    {
     "name": "stdout",
     "output_type": "stream",
     "text": [
      "- batch loss and accuracy : 0.3869078\t1.0000\n",
      "- batch loss and accuracy : 0.8059802\t0.3333\n",
      "- batch loss and accuracy : 0.4938039\t0.6667\n"
     ]
    },
    {
     "name": "stderr",
     "output_type": "stream",
     "text": [
      "epoch 31 - train: 150it [00:03, 37.56it/s]"
     ]
    },
    {
     "name": "stdout",
     "output_type": "stream",
     "text": [
      "- batch loss and accuracy : 0.3702818\t1.0000\n",
      "- batch loss and accuracy : 0.6659840\t0.6667\n",
      "- batch loss and accuracy : 0.4797828\t1.0000\n",
      "- batch loss and accuracy : 0.4098729\t1.0000\n",
      "- batch loss and accuracy : 0.2443907\t1.0000\n",
      "- batch loss and accuracy : 2.5744796\t0.0000\n",
      "- batch loss and accuracy : 0.0767525\t1.0000\n"
     ]
    },
    {
     "name": "stderr",
     "output_type": "stream",
     "text": [
      "epoch 31 - train: 154it [00:03, 35.24it/s]"
     ]
    },
    {
     "name": "stdout",
     "output_type": "stream",
     "text": [
      "- batch loss and accuracy : 1.8394592\t0.0000\n",
      "- batch loss and accuracy : 0.0942909\t1.0000\n",
      "- batch loss and accuracy : 0.0887330\t1.0000\n",
      "- batch loss and accuracy : 2.5732584\t0.0000\n"
     ]
    },
    {
     "name": "stderr",
     "output_type": "stream",
     "text": [
      "epoch 31 - train: 158it [00:03, 34.34it/s]"
     ]
    },
    {
     "name": "stdout",
     "output_type": "stream",
     "text": [
      "- batch loss and accuracy : 0.1079182\t1.0000\n",
      "- batch loss and accuracy : 2.2970204\t0.0000\n",
      "- batch loss and accuracy : 1.2189734\t0.0000\n"
     ]
    },
    {
     "name": "stderr",
     "output_type": "stream",
     "text": [
      "epoch 31 - train: 162it [00:04, 34.61it/s]"
     ]
    },
    {
     "name": "stdout",
     "output_type": "stream",
     "text": [
      "- batch loss and accuracy : 0.4272008\t1.0000\n",
      "- batch loss and accuracy : 0.6289996\t0.6667\n",
      "- batch loss and accuracy : 1.1606131\t0.0000\n",
      "- batch loss and accuracy : 1.0565917\t0.3333\n",
      "- batch loss and accuracy : 1.0474986\t0.0000\n"
     ]
    },
    {
     "name": "stderr",
     "output_type": "stream",
     "text": [
      "epoch 31 - train: 166it [00:04, 34.34it/s]"
     ]
    },
    {
     "name": "stdout",
     "output_type": "stream",
     "text": [
      "- batch loss and accuracy : 0.7478406\t0.3333\n",
      "- batch loss and accuracy : 0.7828984\t0.3333\n"
     ]
    },
    {
     "name": "stderr",
     "output_type": "stream",
     "text": [
      "epoch 31 - train: 170it [00:04, 34.99it/s]"
     ]
    },
    {
     "name": "stdout",
     "output_type": "stream",
     "text": [
      "- batch loss and accuracy : 1.0912869\t0.3333\n",
      "- batch loss and accuracy : 0.3852874\t1.0000\n",
      "- batch loss and accuracy : 1.6341627\t0.0000\n",
      "- batch loss and accuracy : 0.4460810\t1.0000\n",
      "- batch loss and accuracy : 1.1197503\t0.0000\n",
      "- batch loss and accuracy : 0.6937868\t0.6667\n"
     ]
    },
    {
     "name": "stderr",
     "output_type": "stream",
     "text": [
      "epoch 31 - train: 174it [00:04, 35.41it/s]"
     ]
    },
    {
     "name": "stdout",
     "output_type": "stream",
     "text": [
      "- batch loss and accuracy : 0.9199905\t0.3333\n",
      "- batch loss and accuracy : 0.8710134\t0.3333\n"
     ]
    },
    {
     "name": "stderr",
     "output_type": "stream",
     "text": [
      "epoch 31 - train: 178it [00:04, 33.11it/s]"
     ]
    },
    {
     "name": "stdout",
     "output_type": "stream",
     "text": [
      "- batch loss and accuracy : 0.9776992\t0.0000\n",
      "- batch loss and accuracy : 0.5276355\t0.6667\n",
      "- batch loss and accuracy : 1.3984699\t0.0000\n",
      "- batch loss and accuracy : 1.5869788\t0.0000\n",
      "- batch loss and accuracy : 0.3430806\t1.0000\n",
      "- batch loss and accuracy : 0.9110563\t0.3333\n"
     ]
    },
    {
     "name": "stderr",
     "output_type": "stream",
     "text": [
      "epoch 31 - train: 186it [00:04, 33.27it/s]"
     ]
    },
    {
     "name": "stdout",
     "output_type": "stream",
     "text": [
      "- batch loss and accuracy : 0.8252453\t0.3333\n",
      "- batch loss and accuracy : 0.8619940\t0.0000\n",
      "- batch loss and accuracy : 0.4076606\t1.0000\n",
      "- batch loss and accuracy : 0.5904559\t0.6667\n",
      "- batch loss and accuracy : 0.2167877\t1.0000\n",
      "- batch loss and accuracy : 0.3192738\t1.0000\n",
      "- batch loss and accuracy : 0.1580229\t1.0000\n",
      "- batch loss and accuracy : 0.0350346\t1.0000\n",
      "- batch loss and accuracy : 0.0349349\t1.0000\n"
     ]
    },
    {
     "name": "stderr",
     "output_type": "stream",
     "text": [
      "epoch 31 - train: 196it [00:04, 38.91it/s]"
     ]
    },
    {
     "name": "stdout",
     "output_type": "stream",
     "text": [
      "- batch loss and accuracy : 0.0197785\t1.0000\n",
      "- batch loss and accuracy : 0.0129806\t1.0000\n",
      "- batch loss and accuracy : 0.0107063\t1.0000\n",
      "- batch loss and accuracy : 5.0351405\t0.0000\n",
      "- batch loss and accuracy : 0.0074933\t1.0000\n",
      "- batch loss and accuracy : 0.0122790\t1.0000\n",
      "- batch loss and accuracy : 0.0074333\t1.0000\n",
      "- batch loss and accuracy : 0.0064805\t1.0000\n",
      "- batch loss and accuracy : 5.3619399\t0.0000\n"
     ]
    },
    {
     "name": "stderr",
     "output_type": "stream",
     "text": [
      "epoch 31 - train: 206it [00:05, 41.74it/s]"
     ]
    },
    {
     "name": "stdout",
     "output_type": "stream",
     "text": [
      "- batch loss and accuracy : 0.0123730\t1.0000\n",
      "- batch loss and accuracy : 4.1220646\t0.0000\n",
      "- batch loss and accuracy : 3.4163492\t0.0000\n",
      "- batch loss and accuracy : 2.7657275\t0.0000\n",
      "- batch loss and accuracy : 0.1523872\t1.0000\n",
      "- batch loss and accuracy : 0.5608085\t0.6667\n",
      "- batch loss and accuracy : 0.7657027\t0.3333\n",
      "- batch loss and accuracy : 0.3385346\t1.0000\n",
      "- batch loss and accuracy : 0.2490278\t1.0000\n",
      "- batch loss and accuracy : 0.1726684\t1.0000\n"
     ]
    },
    {
     "name": "stderr",
     "output_type": "stream",
     "text": [
      "epoch 31 - train: 216it [00:05, 44.41it/s]"
     ]
    },
    {
     "name": "stdout",
     "output_type": "stream",
     "text": [
      "- batch loss and accuracy : 2.1113088\t0.0000\n",
      "- batch loss and accuracy : 0.0754885\t1.0000\n",
      "- batch loss and accuracy : 2.5781035\t0.0000\n",
      "- batch loss and accuracy : 0.0855782\t1.0000\n",
      "- batch loss and accuracy : 2.5020721\t0.0000\n",
      "- batch loss and accuracy : 2.1413405\t0.0000\n",
      "- batch loss and accuracy : 1.3926780\t0.0000\n",
      "- batch loss and accuracy : 1.0397810\t0.0000\n",
      "- batch loss and accuracy : 0.2753600\t1.0000\n",
      "- batch loss and accuracy : 1.7518148\t0.0000\n"
     ]
    },
    {
     "name": "stderr",
     "output_type": "stream",
     "text": [
      "epoch 31 - train: 226it [00:05, 43.76it/s]"
     ]
    },
    {
     "name": "stdout",
     "output_type": "stream",
     "text": [
      "- batch loss and accuracy : 0.1017567\t1.0000\n",
      "- batch loss and accuracy : 0.0341662\t1.0000\n",
      "- batch loss and accuracy : 0.0258693\t1.0000\n",
      "- batch loss and accuracy : 3.6698987\t0.0000\n",
      "- batch loss and accuracy : 0.0203748\t1.0000\n",
      "- batch loss and accuracy : 0.0195686\t1.0000\n",
      "- batch loss and accuracy : 3.8117568\t0.0000\n",
      "- batch loss and accuracy : 0.0295941\t1.0000\n",
      "- batch loss and accuracy : 0.0333823\t1.0000\n",
      "- batch loss and accuracy : 3.2500205\t0.0000\n"
     ]
    },
    {
     "name": "stderr",
     "output_type": "stream",
     "text": [
      "epoch 31 - train: 236it [00:05, 44.75it/s]"
     ]
    },
    {
     "name": "stdout",
     "output_type": "stream",
     "text": [
      "- batch loss and accuracy : 0.0486669\t1.0000\n",
      "- batch loss and accuracy : 0.1105170\t1.0000\n",
      "- batch loss and accuracy : 0.1194417\t1.0000\n",
      "- batch loss and accuracy : 0.2633557\t1.0000\n",
      "- batch loss and accuracy : 0.1154317\t1.0000\n",
      "- batch loss and accuracy : 0.3181372\t1.0000\n",
      "- batch loss and accuracy : 0.1681610\t1.0000\n",
      "- batch loss and accuracy : 0.1820199\t1.0000\n",
      "- batch loss and accuracy : 0.2082230\t1.0000\n"
     ]
    },
    {
     "name": "stderr",
     "output_type": "stream",
     "text": [
      "epoch 31 - train: 246it [00:06, 45.92it/s]"
     ]
    },
    {
     "name": "stdout",
     "output_type": "stream",
     "text": [
      "- batch loss and accuracy : 1.3981392\t0.0000\n",
      "- batch loss and accuracy : 0.1707186\t1.0000\n",
      "- batch loss and accuracy : 0.1809132\t1.0000\n",
      "- batch loss and accuracy : 0.2358630\t1.0000\n",
      "- batch loss and accuracy : 0.1223771\t1.0000\n",
      "- batch loss and accuracy : 0.1496099\t1.0000\n",
      "- batch loss and accuracy : 1.8969054\t0.0000\n",
      "- batch loss and accuracy : 0.1766526\t1.0000\n",
      "- batch loss and accuracy : 0.2970201\t1.0000\n",
      "- batch loss and accuracy : 0.2434236\t1.0000\n",
      "- batch loss and accuracy : 1.9251602\t0.0000\n"
     ]
    },
    {
     "name": "stderr",
     "output_type": "stream",
     "text": [
      "epoch 31 - train: 249it [00:06, 40.45it/s]\n",
      "epoch 31 - validation: 100%|██████████| 63/63 [00:00<00:00, 67.20it/s]"
     ]
    },
    {
     "name": "stdout",
     "output_type": "stream",
     "text": [
      "Validation loss and accuracy : 0.6118770\t0.6984\n",
      "EPOCH 32\n"
     ]
    },
    {
     "name": "stderr",
     "output_type": "stream",
     "text": [
      "\n",
      "epoch 32 - train: 1it [00:00,  6.39it/s]"
     ]
    },
    {
     "name": "stdout",
     "output_type": "stream",
     "text": [
      "- batch loss and accuracy : 0.3810173\t1.0000\n"
     ]
    },
    {
     "name": "stderr",
     "output_type": "stream",
     "text": [
      "epoch 32 - train: 7it [00:00, 29.92it/s]"
     ]
    },
    {
     "name": "stdout",
     "output_type": "stream",
     "text": [
      "- batch loss and accuracy : 2.1913373\t0.0000\n",
      "- batch loss and accuracy : 1.1828592\t0.0000\n",
      "- batch loss and accuracy : 1.0422378\t0.0000\n",
      "- batch loss and accuracy : 0.4529370\t1.0000\n",
      "- batch loss and accuracy : 1.3702700\t0.3333\n",
      "- batch loss and accuracy : 2.0386484\t0.0000\n",
      "- batch loss and accuracy : 2.0431480\t0.0000\n",
      "- batch loss and accuracy : 2.0068870\t0.0000\n",
      "- batch loss and accuracy : 1.2730420\t0.0000\n",
      "- batch loss and accuracy : 0.8866243\t0.3333\n",
      "- batch loss and accuracy : 0.8056632\t0.3333\n"
     ]
    },
    {
     "name": "stderr",
     "output_type": "stream",
     "text": [
      "epoch 32 - train: 18it [00:00, 42.17it/s]"
     ]
    },
    {
     "name": "stdout",
     "output_type": "stream",
     "text": [
      "- batch loss and accuracy : 0.3477181\t1.0000\n",
      "- batch loss and accuracy : 0.1220799\t1.0000\n",
      "- batch loss and accuracy : 0.0722608\t1.0000\n",
      "- batch loss and accuracy : 0.0195987\t1.0000\n",
      "- batch loss and accuracy : 0.0169117\t1.0000\n",
      "- batch loss and accuracy : 0.0102898\t1.0000\n",
      "- batch loss and accuracy : 0.0032429\t1.0000\n",
      "- batch loss and accuracy : 5.9987669\t0.0000\n",
      "- batch loss and accuracy : 0.0021619\t1.0000\n",
      "- batch loss and accuracy : 0.0016588\t1.0000\n"
     ]
    },
    {
     "name": "stderr",
     "output_type": "stream",
     "text": [
      "epoch 32 - train: 28it [00:00, 43.76it/s]"
     ]
    },
    {
     "name": "stdout",
     "output_type": "stream",
     "text": [
      "- batch loss and accuracy : 6.5668349\t0.0000\n",
      "- batch loss and accuracy : 0.0033347\t1.0000\n",
      "- batch loss and accuracy : 5.8475027\t0.0000\n",
      "- batch loss and accuracy : 5.8212047\t0.0000\n",
      "- batch loss and accuracy : 0.0095226\t1.0000\n",
      "- batch loss and accuracy : 4.1724567\t0.0000\n",
      "- batch loss and accuracy : 0.0506108\t1.0000\n",
      "- batch loss and accuracy : 1.8955431\t0.0000\n",
      "- batch loss and accuracy : 0.4198089\t1.0000\n",
      "- batch loss and accuracy : 0.7187155\t0.6667\n",
      "- batch loss and accuracy : 1.1611159\t0.0000\n",
      "- batch loss and accuracy : 0.1940289\t1.0000\n"
     ]
    },
    {
     "name": "stderr",
     "output_type": "stream",
     "text": [
      "epoch 32 - train: 41it [00:00, 50.64it/s]"
     ]
    },
    {
     "name": "stdout",
     "output_type": "stream",
     "text": [
      "- batch loss and accuracy : 2.3547904\t0.0000\n",
      "- batch loss and accuracy : 0.0782901\t1.0000\n",
      "- batch loss and accuracy : 3.0320415\t0.0000\n",
      "- batch loss and accuracy : 2.8441935\t0.0000\n",
      "- batch loss and accuracy : 2.6740234\t0.0000\n",
      "- batch loss and accuracy : 1.5373025\t0.0000\n",
      "- batch loss and accuracy : 0.6638352\t0.6667\n",
      "- batch loss and accuracy : 0.6725754\t0.3333\n",
      "- batch loss and accuracy : 0.2852173\t1.0000\n",
      "- batch loss and accuracy : 0.1808767\t1.0000\n",
      "- batch loss and accuracy : 2.7051551\t0.0000\n"
     ]
    },
    {
     "name": "stderr",
     "output_type": "stream",
     "text": [
      "epoch 32 - train: 54it [00:01, 55.61it/s]"
     ]
    },
    {
     "name": "stdout",
     "output_type": "stream",
     "text": [
      "- batch loss and accuracy : 2.9130695\t0.0000\n",
      "- batch loss and accuracy : 0.0797058\t1.0000\n",
      "- batch loss and accuracy : 0.1055750\t1.0000\n",
      "- batch loss and accuracy : 0.0484570\t1.0000\n",
      "- batch loss and accuracy : 3.0717456\t0.0000\n",
      "- batch loss and accuracy : 0.0562156\t1.0000\n",
      "- batch loss and accuracy : 0.1278045\t1.0000\n",
      "- batch loss and accuracy : 0.0681049\t1.0000\n",
      "- batch loss and accuracy : 2.1056466\t0.0000\n",
      "- batch loss and accuracy : 0.2303104\t1.0000\n",
      "- batch loss and accuracy : 0.2417236\t1.0000\n",
      "- batch loss and accuracy : 0.2277611\t1.0000\n",
      "- batch loss and accuracy : 0.3628474\t1.0000\n"
     ]
    },
    {
     "name": "stderr",
     "output_type": "stream",
     "text": [
      "epoch 32 - train: 68it [00:01, 58.54it/s]"
     ]
    },
    {
     "name": "stdout",
     "output_type": "stream",
     "text": [
      "- batch loss and accuracy : 0.3386117\t1.0000\n",
      "- batch loss and accuracy : 0.2501346\t1.0000\n",
      "- batch loss and accuracy : 0.3675957\t0.6667\n",
      "- batch loss and accuracy : 1.7633026\t0.0000\n",
      "- batch loss and accuracy : 0.2548883\t1.0000\n",
      "- batch loss and accuracy : 0.3308759\t1.0000\n",
      "- batch loss and accuracy : 1.8242296\t0.0000\n",
      "- batch loss and accuracy : 0.3679877\t1.0000\n",
      "- batch loss and accuracy : 0.2462107\t1.0000\n",
      "- batch loss and accuracy : 0.2513099\t1.0000\n",
      "- batch loss and accuracy : 1.8405998\t0.0000\n",
      "- batch loss and accuracy : 1.2580171\t0.0000\n",
      "- batch loss and accuracy : 0.4022602\t1.0000\n"
     ]
    },
    {
     "name": "stderr",
     "output_type": "stream",
     "text": [
      "epoch 32 - train: 82it [00:01, 63.37it/s]"
     ]
    },
    {
     "name": "stdout",
     "output_type": "stream",
     "text": [
      "- batch loss and accuracy : 0.4082668\t1.0000\n",
      "- batch loss and accuracy : 0.8832854\t0.0000\n",
      "- batch loss and accuracy : 0.6920357\t0.3333\n",
      "- batch loss and accuracy : 0.9308750\t0.3333\n",
      "- batch loss and accuracy : 0.8315179\t0.3333\n",
      "- batch loss and accuracy : 0.7477807\t0.3333\n",
      "- batch loss and accuracy : 0.6746185\t0.3333\n",
      "- batch loss and accuracy : 0.4700035\t1.0000\n",
      "- batch loss and accuracy : 0.4012114\t0.6667\n",
      "- batch loss and accuracy : 1.6871710\t0.0000\n",
      "- batch loss and accuracy : 0.3043365\t1.0000\n",
      "- batch loss and accuracy : 1.6491525\t0.0000\n",
      "- batch loss and accuracy : 0.2490996\t1.0000\n",
      "- batch loss and accuracy : 1.8337272\t0.0000\n"
     ]
    },
    {
     "name": "stderr",
     "output_type": "stream",
     "text": [
      "epoch 32 - train: 96it [00:01, 60.07it/s]"
     ]
    },
    {
     "name": "stdout",
     "output_type": "stream",
     "text": [
      "- batch loss and accuracy : 1.6000055\t0.0000\n",
      "- batch loss and accuracy : 0.4765877\t0.6667\n",
      "- batch loss and accuracy : 0.7195999\t0.6667\n",
      "- batch loss and accuracy : 0.9588699\t0.3333\n",
      "- batch loss and accuracy : 0.8616428\t0.3333\n",
      "- batch loss and accuracy : 0.7894092\t0.3333\n",
      "- batch loss and accuracy : 0.5403706\t1.0000\n",
      "- batch loss and accuracy : 0.2985912\t1.0000\n",
      "- batch loss and accuracy : 0.5468377\t0.6667\n",
      "- batch loss and accuracy : 1.3413271\t0.0000\n",
      "- batch loss and accuracy : 0.1947778\t1.0000\n",
      "- batch loss and accuracy : 0.2644071\t1.0000\n"
     ]
    },
    {
     "name": "stderr",
     "output_type": "stream",
     "text": [
      "epoch 32 - train: 103it [00:01, 61.03it/s]"
     ]
    },
    {
     "name": "stdout",
     "output_type": "stream",
     "text": [
      "- batch loss and accuracy : 0.1219143\t1.0000\n",
      "- batch loss and accuracy : 0.1285758\t1.0000\n",
      "- batch loss and accuracy : 0.2300541\t1.0000\n",
      "- batch loss and accuracy : 1.9376075\t0.0000\n",
      "- batch loss and accuracy : 2.2229605\t0.0000\n",
      "- batch loss and accuracy : 0.1254968\t1.0000\n",
      "- batch loss and accuracy : 0.1594523\t1.0000\n",
      "- batch loss and accuracy : 0.3176627\t1.0000\n",
      "- batch loss and accuracy : 0.2241276\t1.0000\n",
      "- batch loss and accuracy : 0.1859100\t1.0000\n",
      "- batch loss and accuracy : 0.3050332\t1.0000\n",
      "- batch loss and accuracy : 0.1952262\t1.0000\n"
     ]
    },
    {
     "name": "stderr",
     "output_type": "stream",
     "text": [
      "epoch 32 - train: 116it [00:02, 57.65it/s]"
     ]
    },
    {
     "name": "stdout",
     "output_type": "stream",
     "text": [
      "- batch loss and accuracy : 1.3973960\t0.0000\n",
      "- batch loss and accuracy : 0.1388329\t1.0000\n",
      "- batch loss and accuracy : 0.1914428\t1.0000\n",
      "- batch loss and accuracy : 1.8025368\t0.0000\n",
      "- batch loss and accuracy : 0.1278927\t1.0000\n",
      "- batch loss and accuracy : 0.2275870\t1.0000\n",
      "- batch loss and accuracy : 0.1842267\t1.0000\n",
      "- batch loss and accuracy : 1.1892350\t0.0000\n",
      "- batch loss and accuracy : 0.4325631\t1.0000\n",
      "- batch loss and accuracy : 0.3169759\t1.0000\n",
      "- batch loss and accuracy : 0.9456471\t0.3333\n",
      "- batch loss and accuracy : 0.7706560\t0.3333\n",
      "- batch loss and accuracy : 0.4570349\t1.0000\n"
     ]
    },
    {
     "name": "stderr",
     "output_type": "stream",
     "text": [
      "epoch 32 - train: 129it [00:02, 56.89it/s]"
     ]
    },
    {
     "name": "stdout",
     "output_type": "stream",
     "text": [
      "- batch loss and accuracy : 0.5100801\t0.6667\n",
      "- batch loss and accuracy : 0.8802101\t0.3333\n",
      "- batch loss and accuracy : 0.3880661\t1.0000\n",
      "- batch loss and accuracy : 0.3438012\t1.0000\n",
      "- batch loss and accuracy : 0.2126195\t1.0000\n",
      "- batch loss and accuracy : 1.6064595\t0.0000\n",
      "- batch loss and accuracy : 0.2720054\t1.0000\n",
      "- batch loss and accuracy : 0.1923247\t1.0000\n",
      "- batch loss and accuracy : 2.2142632\t0.0000\n",
      "- batch loss and accuracy : 0.3931143\t0.6667\n",
      "- batch loss and accuracy : 0.2949766\t1.0000\n",
      "- batch loss and accuracy : 0.5362072\t0.6667\n"
     ]
    },
    {
     "name": "stderr",
     "output_type": "stream",
     "text": [
      "epoch 32 - train: 141it [00:02, 52.70it/s]"
     ]
    },
    {
     "name": "stdout",
     "output_type": "stream",
     "text": [
      "- batch loss and accuracy : 0.3692467\t1.0000\n",
      "- batch loss and accuracy : 0.1584719\t1.0000\n",
      "- batch loss and accuracy : 2.0780978\t0.0000\n",
      "- batch loss and accuracy : 0.1723084\t1.0000\n",
      "- batch loss and accuracy : 1.9061626\t0.0000\n",
      "- batch loss and accuracy : 0.2522832\t1.0000\n",
      "- batch loss and accuracy : 0.3448052\t1.0000\n",
      "- batch loss and accuracy : 0.5168546\t1.0000\n",
      "- batch loss and accuracy : 0.3747021\t1.0000\n",
      "- batch loss and accuracy : 0.3014982\t1.0000\n"
     ]
    },
    {
     "name": "stderr",
     "output_type": "stream",
     "text": [
      "epoch 32 - train: 153it [00:02, 52.35it/s]"
     ]
    },
    {
     "name": "stdout",
     "output_type": "stream",
     "text": [
      "- batch loss and accuracy : 0.1845394\t1.0000\n",
      "- batch loss and accuracy : 0.1132978\t1.0000\n",
      "- batch loss and accuracy : 2.2004952\t0.0000\n",
      "- batch loss and accuracy : 0.1831543\t1.0000\n",
      "- batch loss and accuracy : 2.5238204\t0.0000\n",
      "- batch loss and accuracy : 0.1775638\t1.0000\n",
      "- batch loss and accuracy : 0.2230056\t1.0000\n",
      "- batch loss and accuracy : 0.3314742\t1.0000\n",
      "- batch loss and accuracy : 0.2706229\t1.0000\n",
      "- batch loss and accuracy : 0.3468849\t1.0000\n",
      "- batch loss and accuracy : 1.5977380\t0.0000\n",
      "- batch loss and accuracy : 1.9686941\t0.0000\n"
     ]
    },
    {
     "name": "stderr",
     "output_type": "stream",
     "text": [
      "epoch 32 - train: 165it [00:03, 51.75it/s]"
     ]
    },
    {
     "name": "stdout",
     "output_type": "stream",
     "text": [
      "- batch loss and accuracy : 0.4739369\t0.6667\n",
      "- batch loss and accuracy : 0.3663713\t1.0000\n",
      "- batch loss and accuracy : 0.4961390\t1.0000\n",
      "- batch loss and accuracy : 0.4670375\t0.6667\n",
      "- batch loss and accuracy : 0.4268343\t1.0000\n",
      "- batch loss and accuracy : 1.4589375\t0.0000\n",
      "- batch loss and accuracy : 0.9042459\t0.3333\n",
      "- batch loss and accuracy : 1.0248955\t0.3333\n",
      "- batch loss and accuracy : 0.6082004\t0.6667\n",
      "- batch loss and accuracy : 0.6278602\t0.6667\n"
     ]
    },
    {
     "name": "stderr",
     "output_type": "stream",
     "text": [
      "epoch 32 - train: 177it [00:03, 51.27it/s]"
     ]
    },
    {
     "name": "stdout",
     "output_type": "stream",
     "text": [
      "- batch loss and accuracy : 0.7517256\t0.3333\n",
      "- batch loss and accuracy : 0.6727555\t0.6667\n",
      "- batch loss and accuracy : 1.0644498\t0.3333\n",
      "- batch loss and accuracy : 0.5839200\t0.6667\n",
      "- batch loss and accuracy : 0.6660368\t0.6667\n",
      "- batch loss and accuracy : 0.4572514\t1.0000\n",
      "- batch loss and accuracy : 0.2027035\t1.0000\n",
      "- batch loss and accuracy : 0.1354474\t1.0000\n",
      "- batch loss and accuracy : 0.1167910\t1.0000\n",
      "- batch loss and accuracy : 0.0589408\t1.0000\n",
      "- batch loss and accuracy : 0.0368019\t1.0000\n"
     ]
    },
    {
     "name": "stderr",
     "output_type": "stream",
     "text": [
      "epoch 32 - train: 183it [00:03, 50.16it/s]"
     ]
    },
    {
     "name": "stdout",
     "output_type": "stream",
     "text": [
      "- batch loss and accuracy : 0.0392353\t1.0000\n",
      "- batch loss and accuracy : 4.1341443\t0.0000\n",
      "- batch loss and accuracy : 4.9158497\t0.0000\n",
      "- batch loss and accuracy : 0.0273200\t1.0000\n",
      "- batch loss and accuracy : 4.3822079\t0.0000\n",
      "- batch loss and accuracy : 0.0318804\t1.0000\n",
      "- batch loss and accuracy : 0.0758699\t1.0000\n",
      "- batch loss and accuracy : 0.0893558\t1.0000\n",
      "- batch loss and accuracy : 0.2430661\t1.0000\n",
      "- batch loss and accuracy : 0.1634478\t1.0000\n",
      "- batch loss and accuracy : 1.8045964\t0.0000\n"
     ]
    },
    {
     "name": "stderr",
     "output_type": "stream",
     "text": [
      "epoch 32 - train: 195it [00:03, 47.75it/s]"
     ]
    },
    {
     "name": "stdout",
     "output_type": "stream",
     "text": [
      "- batch loss and accuracy : 0.4501663\t1.0000\n",
      "- batch loss and accuracy : 0.5910594\t0.6667\n",
      "- batch loss and accuracy : 1.0188210\t0.0000\n",
      "- batch loss and accuracy : 0.6487815\t0.6667\n",
      "- batch loss and accuracy : 0.6512343\t0.6667\n",
      "- batch loss and accuracy : 0.4929801\t1.0000\n",
      "- batch loss and accuracy : 1.1549095\t0.0000\n",
      "- batch loss and accuracy : 0.5140979\t0.6667\n",
      "- batch loss and accuracy : 1.5849928\t0.0000\n",
      "- batch loss and accuracy : 1.2892588\t0.0000\n"
     ]
    },
    {
     "name": "stderr",
     "output_type": "stream",
     "text": [
      "epoch 32 - train: 206it [00:04, 45.34it/s]"
     ]
    },
    {
     "name": "stdout",
     "output_type": "stream",
     "text": [
      "- batch loss and accuracy : 0.9736665\t0.0000\n",
      "- batch loss and accuracy : 0.6472043\t0.6667\n",
      "- batch loss and accuracy : 0.4292748\t1.0000\n",
      "- batch loss and accuracy : 0.2300752\t1.0000\n",
      "- batch loss and accuracy : 1.9160373\t0.0000\n",
      "- batch loss and accuracy : 2.5054443\t0.0000\n",
      "- batch loss and accuracy : 0.1747008\t1.0000\n",
      "- batch loss and accuracy : 0.1394242\t1.0000\n",
      "- batch loss and accuracy : 2.2213314\t0.0000\n"
     ]
    },
    {
     "name": "stderr",
     "output_type": "stream",
     "text": [
      "epoch 32 - train: 218it [00:04, 50.20it/s]"
     ]
    },
    {
     "name": "stdout",
     "output_type": "stream",
     "text": [
      "- batch loss and accuracy : 1.5996836\t0.0000\n",
      "- batch loss and accuracy : 1.4443216\t0.0000\n",
      "- batch loss and accuracy : 0.4834374\t0.6667\n",
      "- batch loss and accuracy : 0.5440930\t0.6667\n",
      "- batch loss and accuracy : 0.5112674\t0.6667\n",
      "- batch loss and accuracy : 0.9951023\t0.0000\n",
      "- batch loss and accuracy : 0.3991420\t1.0000\n",
      "- batch loss and accuracy : 0.9957907\t0.0000\n",
      "- batch loss and accuracy : 1.1868180\t0.0000\n",
      "- batch loss and accuracy : 1.6493678\t0.0000\n",
      "- batch loss and accuracy : 0.5568600\t1.0000\n",
      "- batch loss and accuracy : 0.7410604\t0.3333\n"
     ]
    },
    {
     "name": "stderr",
     "output_type": "stream",
     "text": [
      "epoch 32 - train: 231it [00:04, 54.72it/s]"
     ]
    },
    {
     "name": "stdout",
     "output_type": "stream",
     "text": [
      "- batch loss and accuracy : 0.6225569\t0.6667\n",
      "- batch loss and accuracy : 0.3802759\t1.0000\n",
      "- batch loss and accuracy : 1.4413202\t0.0000\n",
      "- batch loss and accuracy : 0.1774434\t1.0000\n",
      "- batch loss and accuracy : 2.2515597\t0.0000\n",
      "- batch loss and accuracy : 0.1161668\t1.0000\n",
      "- batch loss and accuracy : 2.0194168\t0.0000\n",
      "- batch loss and accuracy : 0.1295000\t1.0000\n",
      "- batch loss and accuracy : 1.8988001\t0.0000\n",
      "- batch loss and accuracy : 1.1510288\t0.0000\n",
      "- batch loss and accuracy : 0.4566415\t1.0000\n",
      "- batch loss and accuracy : 0.5452774\t0.6667\n"
     ]
    },
    {
     "name": "stderr",
     "output_type": "stream",
     "text": [
      "epoch 32 - train: 243it [00:04, 56.10it/s]"
     ]
    },
    {
     "name": "stdout",
     "output_type": "stream",
     "text": [
      "- batch loss and accuracy : 0.6080481\t0.6667\n",
      "- batch loss and accuracy : 0.2943329\t1.0000\n",
      "- batch loss and accuracy : 1.4224632\t0.0000\n",
      "- batch loss and accuracy : 1.6138468\t0.0000\n",
      "- batch loss and accuracy : 1.4400413\t0.0000\n",
      "- batch loss and accuracy : 1.0486238\t0.0000\n",
      "- batch loss and accuracy : 1.0331573\t0.3333\n",
      "- batch loss and accuracy : 0.5634752\t0.6667\n",
      "- batch loss and accuracy : 0.1780307\t1.0000\n",
      "- batch loss and accuracy : 0.1052659\t1.0000\n",
      "- batch loss and accuracy : 0.0544976\t1.0000\n",
      "- batch loss and accuracy : 0.0360172\t1.0000\n",
      "- batch loss and accuracy : 0.0121556\t1.0000\n"
     ]
    },
    {
     "name": "stderr",
     "output_type": "stream",
     "text": [
      "epoch 32 - train: 249it [00:04, 52.06it/s]\n"
     ]
    },
    {
     "name": "stdout",
     "output_type": "stream",
     "text": [
      "- batch loss and accuracy : 4.7411737\t0.0000\n",
      "- batch loss and accuracy : 0.0083578\t1.0000\n",
      "- batch loss and accuracy : 5.2455492\t0.0000\n",
      "- batch loss and accuracy : 4.8727689\t0.0000\n",
      "- batch loss and accuracy : 0.0154640\t1.0000\n"
     ]
    },
    {
     "name": "stderr",
     "output_type": "stream",
     "text": [
      "epoch 32 - validation: 100%|██████████| 63/63 [00:00<00:00, 64.85it/s]"
     ]
    },
    {
     "name": "stdout",
     "output_type": "stream",
     "text": [
      "Validation loss and accuracy : 1.0586963\t0.7143\n",
      "EPOCH 33\n"
     ]
    },
    {
     "name": "stderr",
     "output_type": "stream",
     "text": [
      "\n",
      "epoch 33 - train: 4it [00:00, 37.20it/s]"
     ]
    },
    {
     "name": "stdout",
     "output_type": "stream",
     "text": [
      "- batch loss and accuracy : 0.0236115\t1.0000\n",
      "- batch loss and accuracy : 0.0246515\t1.0000\n",
      "- batch loss and accuracy : 0.0480086\t1.0000\n",
      "- batch loss and accuracy : 0.0491576\t1.0000\n",
      "- batch loss and accuracy : 0.0523564\t1.0000\n",
      "- batch loss and accuracy : 0.1073225\t1.0000\n"
     ]
    },
    {
     "name": "stderr",
     "output_type": "stream",
     "text": [
      "epoch 33 - train: 10it [00:00, 48.87it/s]"
     ]
    },
    {
     "name": "stdout",
     "output_type": "stream",
     "text": [
      "- batch loss and accuracy : 0.1622179\t1.0000\n",
      "- batch loss and accuracy : 0.0885496\t1.0000\n",
      "- batch loss and accuracy : 0.1625992\t1.0000\n",
      "- batch loss and accuracy : 0.1221603\t1.0000\n",
      "- batch loss and accuracy : 0.1432216\t1.0000\n",
      "- batch loss and accuracy : 0.0968277\t1.0000\n"
     ]
    },
    {
     "name": "stderr",
     "output_type": "stream",
     "text": [
      "epoch 33 - train: 16it [00:00, 51.54it/s]"
     ]
    },
    {
     "name": "stdout",
     "output_type": "stream",
     "text": [
      "- batch loss and accuracy : 0.1398721\t1.0000\n",
      "- batch loss and accuracy : 2.2943673\t0.0000\n",
      "- batch loss and accuracy : 0.0827343\t1.0000\n",
      "- batch loss and accuracy : 0.1656432\t1.0000\n",
      "- batch loss and accuracy : 2.2111685\t0.0000\n",
      "- batch loss and accuracy : 1.3622742\t0.0000\n"
     ]
    },
    {
     "name": "stderr",
     "output_type": "stream",
     "text": [
      "epoch 33 - train: 22it [00:00, 54.59it/s]"
     ]
    },
    {
     "name": "stdout",
     "output_type": "stream",
     "text": [
      "- batch loss and accuracy : 0.4715967\t1.0000\n",
      "- batch loss and accuracy : 0.9521039\t0.6667\n",
      "- batch loss and accuracy : 0.8360833\t0.3333\n",
      "- batch loss and accuracy : 1.0131670\t0.3333\n",
      "- batch loss and accuracy : 0.8152530\t0.3333\n",
      "- batch loss and accuracy : 0.8071491\t0.6667\n"
     ]
    },
    {
     "name": "stderr",
     "output_type": "stream",
     "text": [
      "epoch 33 - train: 28it [00:00, 53.93it/s]"
     ]
    },
    {
     "name": "stdout",
     "output_type": "stream",
     "text": [
      "- batch loss and accuracy : 0.8094866\t0.3333\n",
      "- batch loss and accuracy : 0.7485623\t0.6667\n",
      "- batch loss and accuracy : 0.4344126\t1.0000\n",
      "- batch loss and accuracy : 0.1955232\t1.0000\n",
      "- batch loss and accuracy : 0.1014537\t1.0000\n",
      "- batch loss and accuracy : 0.0484464\t1.0000\n"
     ]
    },
    {
     "name": "stderr",
     "output_type": "stream",
     "text": [
      "epoch 33 - train: 34it [00:00, 53.15it/s]"
     ]
    },
    {
     "name": "stdout",
     "output_type": "stream",
     "text": [
      "- batch loss and accuracy : 0.0359297\t1.0000\n",
      "- batch loss and accuracy : 4.2665939\t0.0000\n",
      "- batch loss and accuracy : 0.0216264\t1.0000\n",
      "- batch loss and accuracy : 4.6341434\t0.0000\n",
      "- batch loss and accuracy : 3.6843269\t0.0000\n"
     ]
    },
    {
     "name": "stderr",
     "output_type": "stream",
     "text": [
      "epoch 33 - train: 41it [00:00, 56.52it/s]"
     ]
    },
    {
     "name": "stdout",
     "output_type": "stream",
     "text": [
      "- batch loss and accuracy : 0.0337205\t1.0000\n",
      "- batch loss and accuracy : 0.0710858\t1.0000\n",
      "- batch loss and accuracy : 0.0947628\t1.0000\n",
      "- batch loss and accuracy : 0.1088342\t1.0000\n",
      "- batch loss and accuracy : 0.1542709\t1.0000\n",
      "- batch loss and accuracy : 0.2588140\t1.0000\n",
      "- batch loss and accuracy : 0.2044607\t1.0000\n",
      "- batch loss and accuracy : 0.0923378\t1.0000\n",
      "- batch loss and accuracy : 0.1255861\t1.0000\n",
      "- batch loss and accuracy : 2.4729278\t0.0000\n",
      "- batch loss and accuracy : 1.5983189\t0.0000\n"
     ]
    },
    {
     "name": "stderr",
     "output_type": "stream",
     "text": [
      "epoch 33 - train: 47it [00:00, 51.66it/s]"
     ]
    },
    {
     "name": "stdout",
     "output_type": "stream",
     "text": [
      "- batch loss and accuracy : 0.9232708\t0.0000\n",
      "- batch loss and accuracy : 0.6131921\t0.6667\n",
      "- batch loss and accuracy : 0.7357219\t0.3333\n",
      "- batch loss and accuracy : 1.0843389\t0.0000\n",
      "- batch loss and accuracy : 1.0440733\t0.3333\n",
      "- batch loss and accuracy : 0.4246112\t1.0000\n"
     ]
    },
    {
     "name": "stderr",
     "output_type": "stream",
     "text": [
      "epoch 33 - train: 53it [00:01, 50.12it/s]"
     ]
    },
    {
     "name": "stdout",
     "output_type": "stream",
     "text": [
      "- batch loss and accuracy : 0.5666564\t1.0000\n",
      "- batch loss and accuracy : 0.7552309\t0.3333\n",
      "- batch loss and accuracy : 1.0324751\t0.0000\n",
      "- batch loss and accuracy : 0.6548567\t0.6667\n"
     ]
    },
    {
     "name": "stderr",
     "output_type": "stream",
     "text": [
      "epoch 33 - train: 59it [00:01, 49.45it/s]"
     ]
    },
    {
     "name": "stdout",
     "output_type": "stream",
     "text": [
      "- batch loss and accuracy : 1.2542772\t0.0000\n",
      "- batch loss and accuracy : 1.1731626\t0.0000\n",
      "- batch loss and accuracy : 1.0901095\t0.0000\n",
      "- batch loss and accuracy : 0.7336215\t0.3333\n",
      "- batch loss and accuracy : 0.4414769\t1.0000\n",
      "- batch loss and accuracy : 0.3587394\t1.0000\n",
      "- batch loss and accuracy : 1.5170827\t0.0000\n"
     ]
    },
    {
     "name": "stderr",
     "output_type": "stream",
     "text": [
      "epoch 33 - train: 65it [00:01, 48.72it/s]"
     ]
    },
    {
     "name": "stdout",
     "output_type": "stream",
     "text": [
      "- batch loss and accuracy : 2.2676163\t0.0000\n",
      "- batch loss and accuracy : 1.6291263\t0.0000\n"
     ]
    },
    {
     "name": "stderr",
     "output_type": "stream",
     "text": [
      "epoch 33 - train: 70it [00:01, 47.94it/s]"
     ]
    },
    {
     "name": "stdout",
     "output_type": "stream",
     "text": [
      "- batch loss and accuracy : 1.2185946\t0.3333\n",
      "- batch loss and accuracy : 0.6537185\t0.6667\n",
      "- batch loss and accuracy : 0.5582281\t0.6667\n",
      "- batch loss and accuracy : 0.2741520\t1.0000\n",
      "- batch loss and accuracy : 2.1307211\t0.0000\n",
      "- batch loss and accuracy : 2.6550822\t0.0000\n",
      "- batch loss and accuracy : 0.0839328\t1.0000\n",
      "- batch loss and accuracy : 2.7069669\t0.0000\n"
     ]
    },
    {
     "name": "stderr",
     "output_type": "stream",
     "text": [
      "epoch 33 - train: 76it [00:01, 49.13it/s]"
     ]
    },
    {
     "name": "stdout",
     "output_type": "stream",
     "text": [
      "- batch loss and accuracy : 2.8096225\t0.0000\n",
      "- batch loss and accuracy : 0.1739716\t1.0000\n",
      "- batch loss and accuracy : 2.0507538\t0.0000\n"
     ]
    },
    {
     "name": "stderr",
     "output_type": "stream",
     "text": [
      "epoch 33 - train: 82it [00:01, 50.18it/s]"
     ]
    },
    {
     "name": "stdout",
     "output_type": "stream",
     "text": [
      "- batch loss and accuracy : 1.1321028\t0.0000\n",
      "- batch loss and accuracy : 0.8589529\t0.3333\n",
      "- batch loss and accuracy : 1.1032604\t0.0000\n",
      "- batch loss and accuracy : 0.3107371\t1.0000\n",
      "- batch loss and accuracy : 1.8538851\t0.0000\n",
      "- batch loss and accuracy : 0.2079980\t1.0000\n",
      "- batch loss and accuracy : 0.1880209\t1.0000\n",
      "- batch loss and accuracy : 2.1773276\t0.0000\n",
      "- batch loss and accuracy : 0.2241481\t1.0000\n",
      "- batch loss and accuracy : 0.2253693\t1.0000\n"
     ]
    },
    {
     "name": "stderr",
     "output_type": "stream",
     "text": [
      "epoch 33 - train: 94it [00:01, 49.95it/s]"
     ]
    },
    {
     "name": "stdout",
     "output_type": "stream",
     "text": [
      "- batch loss and accuracy : 1.6882223\t0.0000\n",
      "- batch loss and accuracy : 1.6425383\t0.0000\n",
      "- batch loss and accuracy : 0.4200322\t1.0000\n",
      "- batch loss and accuracy : 0.5866649\t0.6667\n",
      "- batch loss and accuracy : 0.8063089\t0.3333\n",
      "- batch loss and accuracy : 0.7383165\t0.6667\n",
      "- batch loss and accuracy : 0.8365559\t0.3333\n",
      "- batch loss and accuracy : 0.3476160\t1.0000\n",
      "- batch loss and accuracy : 0.3127953\t1.0000\n",
      "- batch loss and accuracy : 0.1559295\t1.0000\n",
      "- batch loss and accuracy : 0.0659398\t1.0000\n",
      "- batch loss and accuracy : 2.8862362\t0.0000\n"
     ]
    },
    {
     "name": "stderr",
     "output_type": "stream",
     "text": [
      "epoch 33 - train: 100it [00:01, 50.25it/s]"
     ]
    },
    {
     "name": "stdout",
     "output_type": "stream",
     "text": [
      "- batch loss and accuracy : 2.7950606\t0.0000\n",
      "- batch loss and accuracy : 0.0558695\t1.0000\n",
      "- batch loss and accuracy : 0.0803255\t1.0000\n",
      "- batch loss and accuracy : 0.1193884\t1.0000\n",
      "- batch loss and accuracy : 0.0999470\t1.0000\n",
      "- batch loss and accuracy : 1.7593656\t0.0000\n",
      "- batch loss and accuracy : 0.1243777\t1.0000\n",
      "- batch loss and accuracy : 0.1653739\t1.0000\n"
     ]
    },
    {
     "name": "stderr",
     "output_type": "stream",
     "text": [
      "epoch 33 - train: 107it [00:02, 52.46it/s]"
     ]
    },
    {
     "name": "stdout",
     "output_type": "stream",
     "text": [
      "- batch loss and accuracy : 0.2053885\t1.0000\n",
      "- batch loss and accuracy : 1.8389492\t0.0000\n",
      "- batch loss and accuracy : 0.4610826\t1.0000\n"
     ]
    },
    {
     "name": "stderr",
     "output_type": "stream",
     "text": [
      "epoch 33 - train: 113it [00:02, 48.96it/s]"
     ]
    },
    {
     "name": "stdout",
     "output_type": "stream",
     "text": [
      "- batch loss and accuracy : 1.3988206\t0.0000\n",
      "- batch loss and accuracy : 0.9458730\t0.0000\n",
      "- batch loss and accuracy : 0.4297837\t0.6667\n",
      "- batch loss and accuracy : 0.9363557\t0.3333\n",
      "- batch loss and accuracy : 0.4131525\t1.0000\n",
      "- batch loss and accuracy : 1.0691116\t0.3333\n",
      "- batch loss and accuracy : 0.3195913\t1.0000\n"
     ]
    },
    {
     "name": "stderr",
     "output_type": "stream",
     "text": [
      "epoch 33 - train: 119it [00:02, 50.92it/s]"
     ]
    },
    {
     "name": "stdout",
     "output_type": "stream",
     "text": [
      "- batch loss and accuracy : 1.2887852\t0.0000\n",
      "- batch loss and accuracy : 1.6714371\t0.0000\n",
      "- batch loss and accuracy : 0.4534199\t1.0000\n",
      "- batch loss and accuracy : 0.5948839\t0.6667\n"
     ]
    },
    {
     "name": "stderr",
     "output_type": "stream",
     "text": [
      "epoch 33 - train: 125it [00:02, 47.97it/s]"
     ]
    },
    {
     "name": "stdout",
     "output_type": "stream",
     "text": [
      "- batch loss and accuracy : 0.4321385\t0.6667\n",
      "- batch loss and accuracy : 0.4639799\t0.6667\n",
      "- batch loss and accuracy : 0.3036872\t1.0000\n",
      "- batch loss and accuracy : 2.6804905\t0.0000\n",
      "- batch loss and accuracy : 2.2264786\t0.0000\n"
     ]
    },
    {
     "name": "stderr",
     "output_type": "stream",
     "text": [
      "epoch 33 - train: 130it [00:02, 47.38it/s]"
     ]
    },
    {
     "name": "stdout",
     "output_type": "stream",
     "text": [
      "- batch loss and accuracy : 2.7193973\t0.0000\n",
      "- batch loss and accuracy : 1.7856777\t0.0000\n",
      "- batch loss and accuracy : 0.3476087\t1.0000\n",
      "- batch loss and accuracy : 0.4489478\t1.0000\n",
      "- batch loss and accuracy : 0.6306573\t0.6667\n"
     ]
    },
    {
     "name": "stderr",
     "output_type": "stream",
     "text": [
      "epoch 33 - train: 136it [00:02, 50.55it/s]"
     ]
    },
    {
     "name": "stdout",
     "output_type": "stream",
     "text": [
      "- batch loss and accuracy : 0.7431237\t0.3333\n",
      "- batch loss and accuracy : 0.6605792\t0.6667\n",
      "- batch loss and accuracy : 0.9532077\t0.0000\n",
      "- batch loss and accuracy : 1.3216152\t0.0000\n",
      "- batch loss and accuracy : 1.5498967\t0.0000\n",
      "- batch loss and accuracy : 0.9643867\t0.0000\n",
      "- batch loss and accuracy : 0.5758201\t1.0000\n",
      "- batch loss and accuracy : 1.3996787\t0.0000\n",
      "- batch loss and accuracy : 0.4769044\t0.6667\n",
      "- batch loss and accuracy : 1.4128244\t0.0000\n",
      "- batch loss and accuracy : 0.2159576\t1.0000\n"
     ]
    },
    {
     "name": "stderr",
     "output_type": "stream",
     "text": [
      "epoch 33 - train: 142it [00:02, 48.40it/s]"
     ]
    },
    {
     "name": "stdout",
     "output_type": "stream",
     "text": [
      "- batch loss and accuracy : 2.1861892\t0.0000\n",
      "- batch loss and accuracy : 0.1440387\t1.0000\n",
      "- batch loss and accuracy : 0.2273822\t1.0000\n",
      "- batch loss and accuracy : 2.0180616\t0.0000\n",
      "- batch loss and accuracy : 1.4212668\t0.0000\n",
      "- batch loss and accuracy : 1.1521859\t0.0000\n",
      "- batch loss and accuracy : 0.9561107\t0.0000\n"
     ]
    },
    {
     "name": "stderr",
     "output_type": "stream",
     "text": [
      "epoch 33 - train: 149it [00:02, 51.87it/s]"
     ]
    },
    {
     "name": "stdout",
     "output_type": "stream",
     "text": [
      "- batch loss and accuracy : 0.3649337\t1.0000\n",
      "- batch loss and accuracy : 0.3348935\t1.0000\n",
      "- batch loss and accuracy : 1.3918618\t0.0000\n",
      "- batch loss and accuracy : 2.0680485\t0.0000\n",
      "- batch loss and accuracy : 1.6494644\t0.0000\n"
     ]
    },
    {
     "name": "stderr",
     "output_type": "stream",
     "text": [
      "epoch 33 - train: 155it [00:03, 51.42it/s]"
     ]
    },
    {
     "name": "stdout",
     "output_type": "stream",
     "text": [
      "- batch loss and accuracy : 1.5372252\t0.0000\n",
      "- batch loss and accuracy : 1.4251871\t0.0000\n",
      "- batch loss and accuracy : 0.6240413\t0.6667\n",
      "- batch loss and accuracy : 1.5397909\t0.0000\n"
     ]
    },
    {
     "name": "stderr",
     "output_type": "stream",
     "text": [
      "epoch 33 - train: 161it [00:03, 48.17it/s]"
     ]
    },
    {
     "name": "stdout",
     "output_type": "stream",
     "text": [
      "- batch loss and accuracy : 1.4589949\t0.3333\n",
      "- batch loss and accuracy : 0.0923374\t1.0000\n",
      "- batch loss and accuracy : 2.1236737\t0.0000\n",
      "- batch loss and accuracy : 1.8567961\t0.0000\n",
      "- batch loss and accuracy : 0.1953084\t1.0000\n"
     ]
    },
    {
     "name": "stderr",
     "output_type": "stream",
     "text": [
      "epoch 33 - train: 166it [00:03, 47.07it/s]"
     ]
    },
    {
     "name": "stdout",
     "output_type": "stream",
     "text": [
      "- batch loss and accuracy : 0.1829112\t1.0000\n",
      "- batch loss and accuracy : 0.3818185\t1.0000\n",
      "- batch loss and accuracy : 1.0551697\t0.0000\n",
      "- batch loss and accuracy : 0.4830399\t0.6667\n",
      "- batch loss and accuracy : 0.5281577\t1.0000\n"
     ]
    },
    {
     "name": "stderr",
     "output_type": "stream",
     "text": [
      "epoch 33 - train: 171it [00:03, 47.39it/s]"
     ]
    },
    {
     "name": "stdout",
     "output_type": "stream",
     "text": [
      "- batch loss and accuracy : 0.4762344\t1.0000\n",
      "- batch loss and accuracy : 0.8789734\t0.3333\n",
      "- batch loss and accuracy : 0.3210463\t1.0000\n",
      "- batch loss and accuracy : 1.0346715\t0.3333\n",
      "- batch loss and accuracy : 0.3840664\t1.0000\n",
      "- batch loss and accuracy : 0.5066652\t1.0000\n",
      "- batch loss and accuracy : 0.4071061\t1.0000\n",
      "- batch loss and accuracy : 0.3024595\t1.0000\n"
     ]
    },
    {
     "name": "stderr",
     "output_type": "stream",
     "text": [
      "epoch 33 - train: 176it [00:03, 39.94it/s]"
     ]
    },
    {
     "name": "stdout",
     "output_type": "stream",
     "text": [
      "- batch loss and accuracy : 1.5233705\t0.0000\n",
      "- batch loss and accuracy : 0.3131311\t1.0000\n"
     ]
    },
    {
     "name": "stderr",
     "output_type": "stream",
     "text": [
      "epoch 33 - train: 181it [00:03, 37.04it/s]"
     ]
    },
    {
     "name": "stdout",
     "output_type": "stream",
     "text": [
      "- batch loss and accuracy : 0.2388997\t1.0000\n",
      "- batch loss and accuracy : 0.1862541\t1.0000\n",
      "- batch loss and accuracy : 0.1414910\t1.0000\n",
      "- batch loss and accuracy : 0.1960615\t1.0000\n",
      "- batch loss and accuracy : 0.1697281\t1.0000\n"
     ]
    },
    {
     "name": "stderr",
     "output_type": "stream",
     "text": [
      "epoch 33 - train: 185it [00:03, 36.67it/s]"
     ]
    },
    {
     "name": "stdout",
     "output_type": "stream",
     "text": [
      "- batch loss and accuracy : 0.1076932\t1.0000\n",
      "- batch loss and accuracy : 0.1127019\t1.0000\n",
      "- batch loss and accuracy : 0.0682151\t1.0000\n"
     ]
    },
    {
     "name": "stderr",
     "output_type": "stream",
     "text": [
      "epoch 33 - train: 189it [00:04, 34.39it/s]"
     ]
    },
    {
     "name": "stdout",
     "output_type": "stream",
     "text": [
      "- batch loss and accuracy : 0.0350972\t1.0000\n",
      "- batch loss and accuracy : 0.0365503\t1.0000\n",
      "- batch loss and accuracy : 0.0265059\t1.0000\n",
      "- batch loss and accuracy : 3.6199291\t0.0000\n",
      "- batch loss and accuracy : 0.0158570\t1.0000\n",
      "- batch loss and accuracy : 0.0268886\t1.0000\n",
      "- batch loss and accuracy : 0.0281800\t1.0000\n"
     ]
    },
    {
     "name": "stderr",
     "output_type": "stream",
     "text": [
      "epoch 33 - train: 193it [00:04, 33.67it/s]"
     ]
    },
    {
     "name": "stdout",
     "output_type": "stream",
     "text": [
      "- batch loss and accuracy : 0.0357628\t1.0000\n",
      "- batch loss and accuracy : 0.0228834\t1.0000\n",
      "- batch loss and accuracy : 0.0219459\t1.0000\n",
      "- batch loss and accuracy : 0.0388887\t1.0000\n"
     ]
    },
    {
     "name": "stderr",
     "output_type": "stream",
     "text": [
      "epoch 33 - train: 197it [00:04, 32.74it/s]"
     ]
    },
    {
     "name": "stdout",
     "output_type": "stream",
     "text": [
      "- batch loss and accuracy : 0.0628430\t1.0000\n",
      "- batch loss and accuracy : 3.3622892\t0.0000\n",
      "- batch loss and accuracy : 0.0607207\t1.0000\n"
     ]
    },
    {
     "name": "stderr",
     "output_type": "stream",
     "text": [
      "epoch 33 - train: 201it [00:04, 31.38it/s]"
     ]
    },
    {
     "name": "stdout",
     "output_type": "stream",
     "text": [
      "- batch loss and accuracy : 3.3219867\t0.0000\n",
      "- batch loss and accuracy : 1.7990646\t0.0000\n",
      "- batch loss and accuracy : 0.2320149\t1.0000\n",
      "- batch loss and accuracy : 1.1376054\t0.0000\n",
      "- batch loss and accuracy : 0.9143664\t0.3333\n"
     ]
    },
    {
     "name": "stderr",
     "output_type": "stream",
     "text": [
      "epoch 33 - train: 205it [00:04, 28.59it/s]"
     ]
    },
    {
     "name": "stdout",
     "output_type": "stream",
     "text": [
      "- batch loss and accuracy : 1.6755418\t0.0000\n",
      "- batch loss and accuracy : 0.2919002\t1.0000\n"
     ]
    },
    {
     "name": "stderr",
     "output_type": "stream",
     "text": [
      "epoch 33 - train: 208it [00:04, 25.19it/s]"
     ]
    },
    {
     "name": "stdout",
     "output_type": "stream",
     "text": [
      "- batch loss and accuracy : 0.1173798\t1.0000\n",
      "- batch loss and accuracy : 2.9560440\t0.0000\n",
      "- batch loss and accuracy : 3.1416936\t0.0000\n",
      "- batch loss and accuracy : 3.2338235\t0.0000\n"
     ]
    },
    {
     "name": "stderr",
     "output_type": "stream",
     "text": [
      "epoch 33 - train: 211it [00:04, 21.49it/s]"
     ]
    },
    {
     "name": "stdout",
     "output_type": "stream",
     "text": [
      "- batch loss and accuracy : 2.3931072\t0.0000\n",
      "- batch loss and accuracy : 1.5702827\t0.0000\n",
      "- batch loss and accuracy : 0.7192011\t0.3333\n"
     ]
    },
    {
     "name": "stderr",
     "output_type": "stream",
     "text": [
      "epoch 33 - train: 215it [00:05, 23.63it/s]"
     ]
    },
    {
     "name": "stdout",
     "output_type": "stream",
     "text": [
      "- batch loss and accuracy : 0.5305142\t0.6667\n",
      "- batch loss and accuracy : 2.0011604\t0.0000\n",
      "- batch loss and accuracy : 0.0912131\t1.0000\n"
     ]
    },
    {
     "name": "stderr",
     "output_type": "stream",
     "text": [
      "epoch 33 - train: 218it [00:05, 24.42it/s]"
     ]
    },
    {
     "name": "stdout",
     "output_type": "stream",
     "text": [
      "- batch loss and accuracy : 0.0502946\t1.0000\n",
      "- batch loss and accuracy : 0.0214601\t1.0000\n",
      "- batch loss and accuracy : 0.0166598\t1.0000\n"
     ]
    },
    {
     "name": "stderr",
     "output_type": "stream",
     "text": [
      "epoch 33 - train: 221it [00:05, 24.74it/s]"
     ]
    },
    {
     "name": "stdout",
     "output_type": "stream",
     "text": [
      "- batch loss and accuracy : 0.0140019\t1.0000\n",
      "- batch loss and accuracy : 0.0086592\t1.0000\n",
      "- batch loss and accuracy : 0.0038103\t1.0000\n"
     ]
    },
    {
     "name": "stderr",
     "output_type": "stream",
     "text": [
      "epoch 33 - train: 224it [00:05, 24.61it/s]"
     ]
    },
    {
     "name": "stdout",
     "output_type": "stream",
     "text": [
      "- batch loss and accuracy : 0.0044866\t1.0000\n",
      "- batch loss and accuracy : 0.0036985\t1.0000\n"
     ]
    },
    {
     "name": "stderr",
     "output_type": "stream",
     "text": [
      "epoch 33 - train: 227it [00:05, 24.08it/s]"
     ]
    },
    {
     "name": "stdout",
     "output_type": "stream",
     "text": [
      "- batch loss and accuracy : 0.0020900\t1.0000\n",
      "- batch loss and accuracy : 0.0036575\t1.0000\n",
      "- batch loss and accuracy : 0.0010960\t1.0000\n",
      "- batch loss and accuracy : 0.0008040\t1.0000\n",
      "- batch loss and accuracy : 0.0010960\t1.0000\n"
     ]
    },
    {
     "name": "stderr",
     "output_type": "stream",
     "text": [
      "epoch 33 - train: 230it [00:05, 22.75it/s]"
     ]
    },
    {
     "name": "stdout",
     "output_type": "stream",
     "text": [
      "- batch loss and accuracy : 0.0005986\t1.0000\n",
      "- batch loss and accuracy : 0.0012638\t1.0000\n"
     ]
    },
    {
     "name": "stderr",
     "output_type": "stream",
     "text": [
      "epoch 33 - train: 233it [00:05, 22.14it/s]"
     ]
    },
    {
     "name": "stdout",
     "output_type": "stream",
     "text": [
      "- batch loss and accuracy : 0.0002928\t1.0000\n",
      "- batch loss and accuracy : 0.0002184\t1.0000\n",
      "- batch loss and accuracy : 8.0717535\t0.0000\n"
     ]
    },
    {
     "name": "stderr",
     "output_type": "stream",
     "text": [
      "epoch 33 - train: 236it [00:05, 23.45it/s]"
     ]
    },
    {
     "name": "stdout",
     "output_type": "stream",
     "text": [
      "- batch loss and accuracy : 7.8235645\t0.0000\n",
      "- batch loss and accuracy : 7.3636889\t0.0000\n",
      "- batch loss and accuracy : 0.0023522\t1.0000\n"
     ]
    },
    {
     "name": "stderr",
     "output_type": "stream",
     "text": [
      "epoch 33 - train: 239it [00:06, 23.68it/s]"
     ]
    },
    {
     "name": "stdout",
     "output_type": "stream",
     "text": [
      "- batch loss and accuracy : 5.5511031\t0.0000\n",
      "- batch loss and accuracy : 4.4267306\t0.0000\n"
     ]
    },
    {
     "name": "stderr",
     "output_type": "stream",
     "text": [
      "epoch 33 - train: 242it [00:06, 23.82it/s]"
     ]
    },
    {
     "name": "stdout",
     "output_type": "stream",
     "text": [
      "- batch loss and accuracy : 0.0725982\t1.0000\n",
      "- batch loss and accuracy : 0.0891817\t1.0000\n",
      "- batch loss and accuracy : 0.4792557\t0.6667\n",
      "- batch loss and accuracy : 0.7436949\t0.6667\n"
     ]
    },
    {
     "name": "stderr",
     "output_type": "stream",
     "text": [
      "epoch 33 - train: 246it [00:06, 26.62it/s]"
     ]
    },
    {
     "name": "stdout",
     "output_type": "stream",
     "text": [
      "- batch loss and accuracy : 0.5473616\t1.0000\n",
      "- batch loss and accuracy : 1.6170828\t0.0000\n",
      "- batch loss and accuracy : 0.7985908\t0.0000\n"
     ]
    },
    {
     "name": "stderr",
     "output_type": "stream",
     "text": [
      "epoch 33 - train: 249it [00:06, 38.40it/s]\n"
     ]
    },
    {
     "name": "stdout",
     "output_type": "stream",
     "text": [
      "- batch loss and accuracy : 0.9915067\t0.0000\n",
      "- batch loss and accuracy : 0.5509665\t0.6667\n",
      "- batch loss and accuracy : 0.3774148\t1.0000\n"
     ]
    },
    {
     "name": "stderr",
     "output_type": "stream",
     "text": [
      "epoch 33 - validation: 100%|██████████| 63/63 [00:01<00:00, 61.49it/s]"
     ]
    },
    {
     "name": "stdout",
     "output_type": "stream",
     "text": [
      "Validation loss and accuracy : 0.5859423\t0.6508\n",
      "EPOCH 34\n"
     ]
    },
    {
     "name": "stderr",
     "output_type": "stream",
     "text": [
      "\n",
      "epoch 34 - train: 1it [00:00,  8.87it/s]"
     ]
    },
    {
     "name": "stdout",
     "output_type": "stream",
     "text": [
      "- batch loss and accuracy : 0.3306831\t1.0000\n",
      "- batch loss and accuracy : 0.1787404\t1.0000\n",
      "- batch loss and accuracy : 0.1353757\t1.0000\n",
      "- batch loss and accuracy : 0.0683019\t1.0000\n",
      "- batch loss and accuracy : 0.0283018\t1.0000\n"
     ]
    },
    {
     "name": "stderr",
     "output_type": "stream",
     "text": [
      "epoch 34 - train: 8it [00:00, 41.33it/s]"
     ]
    },
    {
     "name": "stdout",
     "output_type": "stream",
     "text": [
      "- batch loss and accuracy : 3.8172016\t0.0000\n",
      "- batch loss and accuracy : 0.0330355\t1.0000\n",
      "- batch loss and accuracy : 0.0259832\t1.0000\n",
      "- batch loss and accuracy : 0.0315305\t1.0000\n",
      "- batch loss and accuracy : 4.1944771\t0.0000\n",
      "- batch loss and accuracy : 3.6383665\t0.0000\n",
      "- batch loss and accuracy : 0.0613003\t1.0000\n",
      "- batch loss and accuracy : 0.0959585\t1.0000\n",
      "- batch loss and accuracy : 2.3993378\t0.0000\n"
     ]
    },
    {
     "name": "stderr",
     "output_type": "stream",
     "text": [
      "epoch 34 - train: 16it [00:00, 56.29it/s]"
     ]
    },
    {
     "name": "stdout",
     "output_type": "stream",
     "text": [
      "- batch loss and accuracy : 0.2494114\t1.0000\n",
      "- batch loss and accuracy : 0.2687552\t1.0000\n",
      "- batch loss and accuracy : 0.3130373\t1.0000\n",
      "- batch loss and accuracy : 0.4327409\t1.0000\n",
      "- batch loss and accuracy : 1.1253257\t0.0000\n",
      "- batch loss and accuracy : 0.5150238\t0.6667\n"
     ]
    },
    {
     "name": "stderr",
     "output_type": "stream",
     "text": [
      "epoch 34 - train: 23it [00:00, 60.90it/s]"
     ]
    },
    {
     "name": "stdout",
     "output_type": "stream",
     "text": [
      "- batch loss and accuracy : 1.1438442\t0.0000\n",
      "- batch loss and accuracy : 1.0005665\t0.0000\n",
      "- batch loss and accuracy : 0.6233399\t0.6667\n",
      "- batch loss and accuracy : 0.5460178\t0.6667\n",
      "- batch loss and accuracy : 0.5014936\t1.0000\n",
      "- batch loss and accuracy : 0.8984897\t0.3333\n",
      "- batch loss and accuracy : 0.8145865\t0.3333\n",
      "- batch loss and accuracy : 0.9333799\t0.0000\n",
      "- batch loss and accuracy : 0.5095673\t0.6667\n"
     ]
    },
    {
     "name": "stderr",
     "output_type": "stream",
     "text": [
      "epoch 34 - train: 31it [00:00, 62.58it/s]"
     ]
    },
    {
     "name": "stdout",
     "output_type": "stream",
     "text": [
      "- batch loss and accuracy : 0.3287317\t1.0000\n",
      "- batch loss and accuracy : 0.1371333\t1.0000\n",
      "- batch loss and accuracy : 0.0597803\t1.0000\n",
      "- batch loss and accuracy : 0.0368109\t1.0000\n",
      "- batch loss and accuracy : 0.0420095\t1.0000\n"
     ]
    },
    {
     "name": "stderr",
     "output_type": "stream",
     "text": [
      "epoch 34 - train: 39it [00:00, 65.79it/s]"
     ]
    },
    {
     "name": "stdout",
     "output_type": "stream",
     "text": [
      "- batch loss and accuracy : 0.0106616\t1.0000\n",
      "- batch loss and accuracy : 4.9884601\t0.0000\n",
      "- batch loss and accuracy : 0.0073169\t1.0000\n",
      "- batch loss and accuracy : 4.6644025\t0.0000\n",
      "- batch loss and accuracy : 0.0156765\t1.0000\n",
      "- batch loss and accuracy : 0.0381839\t1.0000\n",
      "- batch loss and accuracy : 0.0321713\t1.0000\n",
      "- batch loss and accuracy : 0.0359852\t1.0000\n"
     ]
    },
    {
     "name": "stderr",
     "output_type": "stream",
     "text": [
      "epoch 34 - train: 46it [00:00, 60.99it/s]"
     ]
    },
    {
     "name": "stdout",
     "output_type": "stream",
     "text": [
      "- batch loss and accuracy : 0.0286161\t1.0000\n",
      "- batch loss and accuracy : 0.0490010\t1.0000\n",
      "- batch loss and accuracy : 0.0270385\t1.0000\n",
      "- batch loss and accuracy : 0.0729297\t1.0000\n"
     ]
    },
    {
     "name": "stderr",
     "output_type": "stream",
     "text": [
      "epoch 34 - train: 53it [00:00, 58.73it/s]"
     ]
    },
    {
     "name": "stdout",
     "output_type": "stream",
     "text": [
      "- batch loss and accuracy : 0.0715611\t1.0000\n",
      "- batch loss and accuracy : 0.0373348\t1.0000\n",
      "- batch loss and accuracy : 0.0573954\t1.0000\n",
      "- batch loss and accuracy : 0.0448454\t1.0000\n",
      "- batch loss and accuracy : 0.0510322\t1.0000\n",
      "- batch loss and accuracy : 2.9771488\t0.0000\n",
      "- batch loss and accuracy : 0.0620991\t1.0000\n",
      "- batch loss and accuracy : 0.0517741\t1.0000\n",
      "- batch loss and accuracy : 0.1698557\t1.0000\n",
      "- batch loss and accuracy : 0.0687419\t1.0000\n",
      "- batch loss and accuracy : 2.7579360\t0.0000\n",
      "- batch loss and accuracy : 0.3431952\t1.0000\n"
     ]
    },
    {
     "name": "stderr",
     "output_type": "stream",
     "text": [
      "epoch 34 - train: 66it [00:01, 60.69it/s]"
     ]
    },
    {
     "name": "stdout",
     "output_type": "stream",
     "text": [
      "- batch loss and accuracy : 1.4280808\t0.0000\n",
      "- batch loss and accuracy : 0.3672164\t1.0000\n",
      "- batch loss and accuracy : 0.3998169\t1.0000\n",
      "- batch loss and accuracy : 1.1250689\t0.0000\n",
      "- batch loss and accuracy : 0.9100932\t0.3333\n",
      "- batch loss and accuracy : 0.3987113\t1.0000\n",
      "- batch loss and accuracy : 1.0126910\t0.3333\n",
      "- batch loss and accuracy : 0.8107626\t0.3333\n",
      "- batch loss and accuracy : 0.7603539\t0.3333\n",
      "- batch loss and accuracy : 0.6942031\t0.6667\n",
      "- batch loss and accuracy : 1.0401057\t0.0000\n",
      "- batch loss and accuracy : 0.6165584\t0.6667\n",
      "- batch loss and accuracy : 0.7739156\t0.3333\n"
     ]
    },
    {
     "name": "stderr",
     "output_type": "stream",
     "text": [
      "epoch 34 - train: 79it [00:01, 58.59it/s]"
     ]
    },
    {
     "name": "stdout",
     "output_type": "stream",
     "text": [
      "- batch loss and accuracy : 0.4323749\t1.0000\n",
      "- batch loss and accuracy : 0.2540431\t1.0000\n",
      "- batch loss and accuracy : 1.5043585\t0.0000\n",
      "- batch loss and accuracy : 0.1729608\t1.0000\n",
      "- batch loss and accuracy : 1.7051523\t0.0000\n",
      "- batch loss and accuracy : 0.3186783\t1.0000\n",
      "- batch loss and accuracy : 0.2468675\t1.0000\n",
      "- batch loss and accuracy : 0.4879347\t0.6667\n",
      "- batch loss and accuracy : 0.1676537\t1.0000\n",
      "- batch loss and accuracy : 0.2285543\t1.0000\n",
      "- batch loss and accuracy : 2.0370688\t0.0000\n",
      "- batch loss and accuracy : 1.4259140\t0.0000\n"
     ]
    },
    {
     "name": "stderr",
     "output_type": "stream",
     "text": [
      "epoch 34 - train: 85it [00:01, 57.11it/s]"
     ]
    },
    {
     "name": "stdout",
     "output_type": "stream",
     "text": [
      "- batch loss and accuracy : 0.2179832\t1.0000\n",
      "- batch loss and accuracy : 0.2349544\t1.0000\n",
      "- batch loss and accuracy : 0.4137668\t1.0000\n",
      "- batch loss and accuracy : 1.1007323\t0.0000\n",
      "- batch loss and accuracy : 0.1938926\t1.0000\n",
      "- batch loss and accuracy : 1.2838039\t0.0000\n",
      "- batch loss and accuracy : 1.3042612\t0.0000\n"
     ]
    },
    {
     "name": "stderr",
     "output_type": "stream",
     "text": [
      "epoch 34 - train: 91it [00:01, 54.67it/s]"
     ]
    },
    {
     "name": "stdout",
     "output_type": "stream",
     "text": [
      "- batch loss and accuracy : 0.6837469\t0.6667\n",
      "- batch loss and accuracy : 1.5354137\t0.0000\n",
      "- batch loss and accuracy : 1.8518095\t0.0000\n",
      "- batch loss and accuracy : 1.8881077\t0.0000\n"
     ]
    },
    {
     "name": "stderr",
     "output_type": "stream",
     "text": [
      "epoch 34 - train: 97it [00:01, 55.28it/s]"
     ]
    },
    {
     "name": "stdout",
     "output_type": "stream",
     "text": [
      "- batch loss and accuracy : 1.0332904\t0.0000\n",
      "- batch loss and accuracy : 1.2762909\t0.0000\n",
      "- batch loss and accuracy : 0.8286644\t0.0000\n",
      "- batch loss and accuracy : 0.8933741\t0.3333\n",
      "- batch loss and accuracy : 0.3218878\t1.0000\n",
      "- batch loss and accuracy : 0.1587046\t1.0000\n",
      "- batch loss and accuracy : 0.0907121\t1.0000\n"
     ]
    },
    {
     "name": "stderr",
     "output_type": "stream",
     "text": [
      "epoch 34 - train: 103it [00:01, 50.78it/s]"
     ]
    },
    {
     "name": "stdout",
     "output_type": "stream",
     "text": [
      "- batch loss and accuracy : 3.0643358\t0.0000\n",
      "- batch loss and accuracy : 0.0517623\t1.0000\n",
      "- batch loss and accuracy : 3.7599945\t0.0000\n"
     ]
    },
    {
     "name": "stderr",
     "output_type": "stream",
     "text": [
      "epoch 34 - train: 109it [00:01, 49.70it/s]"
     ]
    },
    {
     "name": "stdout",
     "output_type": "stream",
     "text": [
      "- batch loss and accuracy : 0.0752940\t1.0000\n",
      "- batch loss and accuracy : 0.0745527\t1.0000\n",
      "- batch loss and accuracy : 0.0671500\t1.0000\n",
      "- batch loss and accuracy : 0.1435208\t1.0000\n",
      "- batch loss and accuracy : 0.0848208\t1.0000\n",
      "- batch loss and accuracy : 2.4876158\t0.0000\n",
      "- batch loss and accuracy : 0.0860812\t1.0000\n",
      "- batch loss and accuracy : 0.2141125\t1.0000\n",
      "- batch loss and accuracy : 1.5965118\t0.3333\n",
      "- batch loss and accuracy : 0.3042569\t1.0000\n"
     ]
    },
    {
     "name": "stderr",
     "output_type": "stream",
     "text": [
      "epoch 34 - train: 121it [00:02, 49.77it/s]"
     ]
    },
    {
     "name": "stdout",
     "output_type": "stream",
     "text": [
      "- batch loss and accuracy : 0.3432959\t1.0000\n",
      "- batch loss and accuracy : 0.4165736\t1.0000\n",
      "- batch loss and accuracy : 0.3573492\t1.0000\n",
      "- batch loss and accuracy : 0.2779253\t1.0000\n",
      "- batch loss and accuracy : 0.3598174\t1.0000\n",
      "- batch loss and accuracy : 0.2485051\t1.0000\n",
      "- batch loss and accuracy : 0.2003956\t1.0000\n",
      "- batch loss and accuracy : 1.7392142\t0.0000\n",
      "- batch loss and accuracy : 0.2802232\t1.0000\n",
      "- batch loss and accuracy : 0.1100669\t1.0000\n"
     ]
    },
    {
     "name": "stderr",
     "output_type": "stream",
     "text": [
      "epoch 34 - train: 127it [00:02, 47.38it/s]"
     ]
    },
    {
     "name": "stdout",
     "output_type": "stream",
     "text": [
      "- batch loss and accuracy : 0.2017551\t1.0000\n",
      "- batch loss and accuracy : 2.0281017\t0.0000\n",
      "- batch loss and accuracy : 0.1233045\t1.0000\n",
      "- batch loss and accuracy : 0.2870588\t1.0000\n",
      "- batch loss and accuracy : 0.1318007\t1.0000\n",
      "- batch loss and accuracy : 0.1161208\t1.0000\n",
      "- batch loss and accuracy : 2.7519202\t0.0000\n",
      "- batch loss and accuracy : 0.2016887\t1.0000\n"
     ]
    },
    {
     "name": "stderr",
     "output_type": "stream",
     "text": [
      "epoch 34 - train: 133it [00:02, 48.48it/s]"
     ]
    },
    {
     "name": "stdout",
     "output_type": "stream",
     "text": [
      "- batch loss and accuracy : 0.1309396\t1.0000\n",
      "- batch loss and accuracy : 1.5150783\t0.0000\n"
     ]
    },
    {
     "name": "stderr",
     "output_type": "stream",
     "text": [
      "epoch 34 - train: 139it [00:02, 51.08it/s]"
     ]
    },
    {
     "name": "stdout",
     "output_type": "stream",
     "text": [
      "- batch loss and accuracy : 1.1820714\t0.0000\n",
      "- batch loss and accuracy : 0.5754592\t0.6667\n",
      "- batch loss and accuracy : 0.6472230\t0.6667\n",
      "- batch loss and accuracy : 0.7192605\t0.3333\n",
      "- batch loss and accuracy : 0.7173518\t0.3333\n",
      "- batch loss and accuracy : 0.4295293\t1.0000\n",
      "- batch loss and accuracy : 0.8746891\t0.6667\n",
      "- batch loss and accuracy : 1.3814782\t0.0000\n",
      "- batch loss and accuracy : 1.1080709\t0.0000\n",
      "- batch loss and accuracy : 0.9792002\t0.3333\n"
     ]
    },
    {
     "name": "stderr",
     "output_type": "stream",
     "text": [
      "epoch 34 - train: 145it [00:02, 52.13it/s]"
     ]
    },
    {
     "name": "stdout",
     "output_type": "stream",
     "text": [
      "- batch loss and accuracy : 0.4243159\t1.0000\n",
      "- batch loss and accuracy : 0.3471533\t1.0000\n"
     ]
    },
    {
     "name": "stderr",
     "output_type": "stream",
     "text": [
      "epoch 34 - train: 151it [00:02, 50.91it/s]"
     ]
    },
    {
     "name": "stdout",
     "output_type": "stream",
     "text": [
      "- batch loss and accuracy : 0.1657805\t1.0000\n",
      "- batch loss and accuracy : 2.3863778\t0.0000\n",
      "- batch loss and accuracy : 0.0357820\t1.0000\n",
      "- batch loss and accuracy : 0.0406958\t1.0000\n",
      "- batch loss and accuracy : 0.0229810\t1.0000\n",
      "- batch loss and accuracy : 0.0267387\t1.0000\n",
      "- batch loss and accuracy : 4.2997494\t0.0000\n",
      "- batch loss and accuracy : 3.7918296\t0.0000\n",
      "- batch loss and accuracy : 3.5227985\t0.0000\n",
      "- batch loss and accuracy : 2.6788063\t0.0000\n",
      "- batch loss and accuracy : 0.1869597\t1.0000\n",
      "- batch loss and accuracy : 0.4742680\t1.0000\n"
     ]
    },
    {
     "name": "stderr",
     "output_type": "stream",
     "text": [
      "epoch 34 - train: 164it [00:03, 55.55it/s]"
     ]
    },
    {
     "name": "stdout",
     "output_type": "stream",
     "text": [
      "- batch loss and accuracy : 0.6426362\t0.6667\n",
      "- batch loss and accuracy : 0.4229715\t1.0000\n",
      "- batch loss and accuracy : 0.9241190\t0.3333\n",
      "- batch loss and accuracy : 1.3059956\t0.0000\n",
      "- batch loss and accuracy : 0.3555191\t1.0000\n",
      "- batch loss and accuracy : 0.6324055\t0.3333\n",
      "- batch loss and accuracy : 0.2441446\t1.0000\n",
      "- batch loss and accuracy : 1.1540903\t0.0000\n",
      "- batch loss and accuracy : 1.7510766\t0.0000\n"
     ]
    },
    {
     "name": "stderr",
     "output_type": "stream",
     "text": [
      "epoch 34 - train: 170it [00:03, 55.03it/s]"
     ]
    },
    {
     "name": "stdout",
     "output_type": "stream",
     "text": [
      "- batch loss and accuracy : 0.2961420\t1.0000\n",
      "- batch loss and accuracy : 1.3756435\t0.0000\n",
      "- batch loss and accuracy : 0.7525327\t0.3333\n"
     ]
    },
    {
     "name": "stderr",
     "output_type": "stream",
     "text": [
      "epoch 34 - train: 176it [00:03, 54.63it/s]"
     ]
    },
    {
     "name": "stdout",
     "output_type": "stream",
     "text": [
      "- batch loss and accuracy : 1.1799923\t0.0000\n",
      "- batch loss and accuracy : 0.6271198\t0.6667\n",
      "- batch loss and accuracy : 0.3682025\t1.0000\n",
      "- batch loss and accuracy : 1.6112412\t0.0000\n",
      "- batch loss and accuracy : 0.2878805\t1.0000\n",
      "- batch loss and accuracy : 0.1389357\t1.0000\n",
      "- batch loss and accuracy : 0.1516412\t1.0000\n",
      "- batch loss and accuracy : 0.0856873\t1.0000\n",
      "- batch loss and accuracy : 0.1100128\t1.0000\n",
      "- batch loss and accuracy : 0.0940999\t1.0000\n",
      "- batch loss and accuracy : 2.7662351\t0.0000\n"
     ]
    },
    {
     "name": "stderr",
     "output_type": "stream",
     "text": [
      "epoch 34 - train: 189it [00:03, 54.81it/s]"
     ]
    },
    {
     "name": "stdout",
     "output_type": "stream",
     "text": [
      "- batch loss and accuracy : 2.6850650\t0.0000\n",
      "- batch loss and accuracy : 0.0807981\t1.0000\n",
      "- batch loss and accuracy : 0.2323583\t1.0000\n",
      "- batch loss and accuracy : 0.1194360\t1.0000\n",
      "- batch loss and accuracy : 0.2473333\t1.0000\n",
      "- batch loss and accuracy : 0.1811326\t1.0000\n",
      "- batch loss and accuracy : 2.0292430\t0.0000\n",
      "- batch loss and accuracy : 0.4147260\t1.0000\n",
      "- batch loss and accuracy : 1.0073656\t0.3333\n",
      "- batch loss and accuracy : 0.4897431\t0.6667\n",
      "- batch loss and accuracy : 0.5786505\t0.6667\n",
      "- batch loss and accuracy : 0.5165614\t0.6667\n"
     ]
    },
    {
     "name": "stderr",
     "output_type": "stream",
     "text": [
      "epoch 34 - train: 202it [00:03, 57.18it/s]"
     ]
    },
    {
     "name": "stdout",
     "output_type": "stream",
     "text": [
      "- batch loss and accuracy : 0.9694355\t0.3333\n",
      "- batch loss and accuracy : 0.8575727\t0.3333\n",
      "- batch loss and accuracy : 0.5403314\t0.6667\n",
      "- batch loss and accuracy : 0.5053962\t1.0000\n",
      "- batch loss and accuracy : 1.3862531\t0.0000\n",
      "- batch loss and accuracy : 1.4510025\t0.0000\n",
      "- batch loss and accuracy : 0.2741231\t1.0000\n",
      "- batch loss and accuracy : 0.4154390\t1.0000\n",
      "- batch loss and accuracy : 0.3811557\t1.0000\n",
      "- batch loss and accuracy : 0.4947985\t1.0000\n",
      "- batch loss and accuracy : 1.4046135\t0.0000\n",
      "- batch loss and accuracy : 0.5348495\t0.3333\n"
     ]
    },
    {
     "name": "stderr",
     "output_type": "stream",
     "text": [
      "epoch 34 - train: 215it [00:03, 60.40it/s]"
     ]
    },
    {
     "name": "stdout",
     "output_type": "stream",
     "text": [
      "- batch loss and accuracy : 0.3240354\t1.0000\n",
      "- batch loss and accuracy : 0.2310772\t1.0000\n",
      "- batch loss and accuracy : 0.1386724\t1.0000\n",
      "- batch loss and accuracy : 1.7545416\t0.0000\n",
      "- batch loss and accuracy : 0.2084344\t1.0000\n",
      "- batch loss and accuracy : 0.2159829\t1.0000\n",
      "- batch loss and accuracy : 0.1304263\t1.0000\n",
      "- batch loss and accuracy : 2.2044082\t0.0000\n",
      "- batch loss and accuracy : 1.6271169\t0.0000\n",
      "- batch loss and accuracy : 0.2876770\t1.0000\n",
      "- batch loss and accuracy : 0.3300806\t1.0000\n",
      "- batch loss and accuracy : 1.3245423\t0.0000\n",
      "- batch loss and accuracy : 0.8169484\t0.3333\n"
     ]
    },
    {
     "name": "stderr",
     "output_type": "stream",
     "text": [
      "epoch 34 - train: 229it [00:04, 61.57it/s]"
     ]
    },
    {
     "name": "stdout",
     "output_type": "stream",
     "text": [
      "- batch loss and accuracy : 1.0134315\t0.0000\n",
      "- batch loss and accuracy : 0.4793177\t0.6667\n",
      "- batch loss and accuracy : 1.9178143\t0.0000\n",
      "- batch loss and accuracy : 0.2260221\t1.0000\n",
      "- batch loss and accuracy : 1.7297552\t0.0000\n",
      "- batch loss and accuracy : 1.3975885\t0.0000\n",
      "- batch loss and accuracy : 0.3687750\t1.0000\n",
      "- batch loss and accuracy : 1.1472886\t0.0000\n",
      "- batch loss and accuracy : 0.7393329\t0.3333\n",
      "- batch loss and accuracy : 0.3932001\t1.0000\n",
      "- batch loss and accuracy : 1.0713495\t0.3333\n",
      "- batch loss and accuracy : 1.9793186\t0.0000\n",
      "- batch loss and accuracy : 1.9667734\t0.0000\n",
      "- batch loss and accuracy : 0.1940313\t1.0000\n"
     ]
    },
    {
     "name": "stderr",
     "output_type": "stream",
     "text": [
      "epoch 34 - train: 243it [00:04, 62.84it/s]"
     ]
    },
    {
     "name": "stdout",
     "output_type": "stream",
     "text": [
      "- batch loss and accuracy : 0.2232480\t1.0000\n",
      "- batch loss and accuracy : 1.6334919\t0.0000\n",
      "- batch loss and accuracy : 0.3369594\t1.0000\n",
      "- batch loss and accuracy : 0.5901499\t1.0000\n",
      "- batch loss and accuracy : 0.9972358\t0.3333\n",
      "- batch loss and accuracy : 1.4175953\t0.0000\n",
      "- batch loss and accuracy : 0.5813901\t1.0000\n",
      "- batch loss and accuracy : 0.4574739\t1.0000\n",
      "- batch loss and accuracy : 1.8539938\t0.0000\n",
      "- batch loss and accuracy : 1.4501753\t0.0000\n",
      "- batch loss and accuracy : 2.3186955\t0.0000\n",
      "- batch loss and accuracy : 0.4978519\t0.6667\n",
      "- batch loss and accuracy : 1.6441412\t0.0000\n"
     ]
    },
    {
     "name": "stderr",
     "output_type": "stream",
     "text": [
      "epoch 34 - train: 249it [00:04, 55.53it/s]\n"
     ]
    },
    {
     "name": "stdout",
     "output_type": "stream",
     "text": [
      "- batch loss and accuracy : 0.7868640\t0.3333\n",
      "- batch loss and accuracy : 0.9172200\t0.3333\n",
      "- batch loss and accuracy : 0.5673849\t0.6667\n",
      "- batch loss and accuracy : 0.2632377\t1.0000\n"
     ]
    },
    {
     "name": "stderr",
     "output_type": "stream",
     "text": [
      "epoch 34 - validation: 100%|██████████| 63/63 [00:00<00:00, 69.62it/s]"
     ]
    },
    {
     "name": "stdout",
     "output_type": "stream",
     "text": [
      "Validation loss and accuracy : 0.6701126\t0.7037\n",
      "EPOCH 35\n"
     ]
    },
    {
     "name": "stderr",
     "output_type": "stream",
     "text": [
      "\n",
      "epoch 35 - train: 3it [00:00, 29.80it/s]"
     ]
    },
    {
     "name": "stdout",
     "output_type": "stream",
     "text": [
      "- batch loss and accuracy : 0.2999787\t0.6667\n",
      "- batch loss and accuracy : 2.0906682\t0.0000\n",
      "- batch loss and accuracy : 0.1033195\t1.0000\n",
      "- batch loss and accuracy : 0.0703280\t1.0000\n",
      "- batch loss and accuracy : 2.5293155\t0.0000\n",
      "- batch loss and accuracy : 0.1236490\t1.0000\n"
     ]
    },
    {
     "name": "stderr",
     "output_type": "stream",
     "text": [
      "epoch 35 - train: 8it [00:00, 41.35it/s]"
     ]
    },
    {
     "name": "stdout",
     "output_type": "stream",
     "text": [
      "- batch loss and accuracy : 0.1002704\t1.0000\n",
      "- batch loss and accuracy : 0.1264716\t1.0000\n",
      "- batch loss and accuracy : 0.1584773\t1.0000\n",
      "- batch loss and accuracy : 0.0904037\t1.0000\n",
      "- batch loss and accuracy : 0.2403964\t1.0000\n"
     ]
    },
    {
     "name": "stderr",
     "output_type": "stream",
     "text": [
      "epoch 35 - train: 14it [00:00, 47.76it/s]"
     ]
    },
    {
     "name": "stdout",
     "output_type": "stream",
     "text": [
      "- batch loss and accuracy : 0.1483350\t1.0000\n",
      "- batch loss and accuracy : 0.1139323\t1.0000\n",
      "- batch loss and accuracy : 2.6479061\t0.0000\n",
      "- batch loss and accuracy : 3.0842357\t0.0000\n",
      "- batch loss and accuracy : 2.2145519\t0.0000\n",
      "- batch loss and accuracy : 0.3417015\t1.0000\n"
     ]
    },
    {
     "name": "stderr",
     "output_type": "stream",
     "text": [
      "epoch 35 - train: 20it [00:00, 47.97it/s]"
     ]
    },
    {
     "name": "stdout",
     "output_type": "stream",
     "text": [
      "- batch loss and accuracy : 0.8370194\t0.3333\n",
      "- batch loss and accuracy : 1.0088339\t0.3333\n",
      "- batch loss and accuracy : 1.2470489\t0.0000\n",
      "- batch loss and accuracy : 1.6652955\t0.0000\n",
      "- batch loss and accuracy : 1.6559312\t0.0000\n"
     ]
    },
    {
     "name": "stderr",
     "output_type": "stream",
     "text": [
      "epoch 35 - train: 25it [00:00, 48.64it/s]"
     ]
    },
    {
     "name": "stdout",
     "output_type": "stream",
     "text": [
      "- batch loss and accuracy : 1.7230949\t0.0000\n",
      "- batch loss and accuracy : 0.3560967\t1.0000\n",
      "- batch loss and accuracy : 1.4841446\t0.0000\n",
      "- batch loss and accuracy : 0.7243952\t0.3333\n",
      "- batch loss and accuracy : 0.8223375\t0.0000\n",
      "- batch loss and accuracy : 0.8011492\t0.6667\n"
     ]
    },
    {
     "name": "stderr",
     "output_type": "stream",
     "text": [
      "epoch 35 - train: 31it [00:00, 50.57it/s]"
     ]
    },
    {
     "name": "stdout",
     "output_type": "stream",
     "text": [
      "- batch loss and accuracy : 0.5383881\t0.6667\n",
      "- batch loss and accuracy : 0.2719103\t1.0000\n",
      "- batch loss and accuracy : 2.5362689\t0.0000\n",
      "- batch loss and accuracy : 0.1330642\t1.0000\n"
     ]
    },
    {
     "name": "stderr",
     "output_type": "stream",
     "text": [
      "epoch 35 - train: 37it [00:00, 48.58it/s]"
     ]
    },
    {
     "name": "stdout",
     "output_type": "stream",
     "text": [
      "- batch loss and accuracy : 0.0931818\t1.0000\n",
      "- batch loss and accuracy : 3.2680135\t0.0000\n",
      "- batch loss and accuracy : 0.0997487\t1.0000\n",
      "- batch loss and accuracy : 2.5020971\t0.0000\n",
      "- batch loss and accuracy : 2.8940883\t0.0000\n",
      "- batch loss and accuracy : 1.7217007\t0.0000\n"
     ]
    },
    {
     "name": "stderr",
     "output_type": "stream",
     "text": [
      "epoch 35 - train: 43it [00:00, 50.48it/s]"
     ]
    },
    {
     "name": "stdout",
     "output_type": "stream",
     "text": [
      "- batch loss and accuracy : 0.2894168\t1.0000\n",
      "- batch loss and accuracy : 0.6924807\t0.6667\n",
      "- batch loss and accuracy : 0.8944334\t0.3333\n",
      "- batch loss and accuracy : 0.4274228\t1.0000\n",
      "- batch loss and accuracy : 0.5080011\t0.6667\n"
     ]
    },
    {
     "name": "stderr",
     "output_type": "stream",
     "text": [
      "epoch 35 - train: 49it [00:01, 50.98it/s]"
     ]
    },
    {
     "name": "stdout",
     "output_type": "stream",
     "text": [
      "- batch loss and accuracy : 0.2380093\t1.0000\n",
      "- batch loss and accuracy : 2.1795082\t0.0000\n",
      "- batch loss and accuracy : 0.1876157\t1.0000\n",
      "- batch loss and accuracy : 1.8283813\t0.0000\n",
      "- batch loss and accuracy : 1.7904199\t0.0000\n",
      "- batch loss and accuracy : 1.6161909\t0.0000\n",
      "- batch loss and accuracy : 0.5843801\t0.6667\n",
      "- batch loss and accuracy : 0.6849713\t0.6667\n",
      "- batch loss and accuracy : 1.2480682\t0.0000\n",
      "- batch loss and accuracy : 1.2923989\t0.0000\n",
      "- batch loss and accuracy : 1.6679844\t0.0000\n"
     ]
    },
    {
     "name": "stderr",
     "output_type": "stream",
     "text": [
      "epoch 35 - train: 61it [00:01, 53.27it/s]"
     ]
    },
    {
     "name": "stdout",
     "output_type": "stream",
     "text": [
      "- batch loss and accuracy : 0.5853655\t0.6667\n",
      "- batch loss and accuracy : 0.8646917\t0.3333\n",
      "- batch loss and accuracy : 0.6211181\t0.6667\n",
      "- batch loss and accuracy : 0.3506528\t1.0000\n",
      "- batch loss and accuracy : 0.2099861\t1.0000\n",
      "- batch loss and accuracy : 0.3584395\t1.0000\n",
      "- batch loss and accuracy : 2.1682487\t0.0000\n",
      "- batch loss and accuracy : 0.1894266\t1.0000\n",
      "- batch loss and accuracy : 0.0913250\t1.0000\n",
      "- batch loss and accuracy : 0.0872974\t1.0000\n",
      "- batch loss and accuracy : 0.0838862\t1.0000\n"
     ]
    },
    {
     "name": "stderr",
     "output_type": "stream",
     "text": [
      "epoch 35 - train: 67it [00:01, 49.74it/s]"
     ]
    },
    {
     "name": "stdout",
     "output_type": "stream",
     "text": [
      "- batch loss and accuracy : 0.0877758\t1.0000\n",
      "- batch loss and accuracy : 0.1099753\t1.0000\n",
      "- batch loss and accuracy : 0.0606090\t1.0000\n",
      "- batch loss and accuracy : 0.0526112\t1.0000\n",
      "- batch loss and accuracy : 3.9118729\t0.0000\n",
      "- batch loss and accuracy : 0.0641330\t1.0000\n",
      "- batch loss and accuracy : 0.0439617\t1.0000\n"
     ]
    },
    {
     "name": "stderr",
     "output_type": "stream",
     "text": [
      "epoch 35 - train: 73it [00:01, 51.82it/s]"
     ]
    },
    {
     "name": "stdout",
     "output_type": "stream",
     "text": [
      "- batch loss and accuracy : 0.0451296\t1.0000\n",
      "- batch loss and accuracy : 0.0638940\t1.0000\n",
      "- batch loss and accuracy : 0.0889070\t1.0000\n",
      "- batch loss and accuracy : 0.0476532\t1.0000\n"
     ]
    },
    {
     "name": "stderr",
     "output_type": "stream",
     "text": [
      "epoch 35 - train: 79it [00:01, 50.31it/s]"
     ]
    },
    {
     "name": "stdout",
     "output_type": "stream",
     "text": [
      "- batch loss and accuracy : 0.1264573\t1.0000\n",
      "- batch loss and accuracy : 0.0411996\t1.0000\n",
      "- batch loss and accuracy : 0.0351343\t1.0000\n",
      "- batch loss and accuracy : 0.0626131\t1.0000\n",
      "- batch loss and accuracy : 3.1068416\t0.0000\n",
      "- batch loss and accuracy : 0.0553442\t1.0000\n",
      "- batch loss and accuracy : 2.1372247\t0.0000\n"
     ]
    },
    {
     "name": "stderr",
     "output_type": "stream",
     "text": [
      "epoch 35 - train: 85it [00:01, 51.53it/s]"
     ]
    },
    {
     "name": "stdout",
     "output_type": "stream",
     "text": [
      "- batch loss and accuracy : 0.1016498\t1.0000\n",
      "- batch loss and accuracy : 0.1332818\t1.0000\n",
      "- batch loss and accuracy : 0.3607506\t1.0000\n",
      "- batch loss and accuracy : 1.0507522\t0.0000\n"
     ]
    },
    {
     "name": "stderr",
     "output_type": "stream",
     "text": [
      "epoch 35 - train: 91it [00:01, 51.07it/s]"
     ]
    },
    {
     "name": "stdout",
     "output_type": "stream",
     "text": [
      "- batch loss and accuracy : 0.3784951\t1.0000\n",
      "- batch loss and accuracy : 0.7788019\t0.6667\n",
      "- batch loss and accuracy : 0.8919784\t0.0000\n",
      "- batch loss and accuracy : 1.0206208\t0.3333\n",
      "- batch loss and accuracy : 0.5781562\t0.6667\n",
      "- batch loss and accuracy : 0.6213698\t0.6667\n",
      "- batch loss and accuracy : 0.4958047\t1.0000\n"
     ]
    },
    {
     "name": "stderr",
     "output_type": "stream",
     "text": [
      "epoch 35 - train: 97it [00:01, 48.31it/s]"
     ]
    },
    {
     "name": "stdout",
     "output_type": "stream",
     "text": [
      "- batch loss and accuracy : 0.5424321\t0.6667\n",
      "- batch loss and accuracy : 1.4708393\t0.0000\n",
      "- batch loss and accuracy : 1.7836384\t0.0000\n"
     ]
    },
    {
     "name": "stderr",
     "output_type": "stream",
     "text": [
      "epoch 35 - train: 103it [00:02, 50.02it/s]"
     ]
    },
    {
     "name": "stdout",
     "output_type": "stream",
     "text": [
      "- batch loss and accuracy : 0.2043078\t1.0000\n",
      "- batch loss and accuracy : 0.1949832\t1.0000\n",
      "- batch loss and accuracy : 0.3070154\t1.0000\n",
      "- batch loss and accuracy : 0.1808912\t1.0000\n",
      "- batch loss and accuracy : 0.1248239\t1.0000\n",
      "- batch loss and accuracy : 0.1212865\t1.0000\n",
      "- batch loss and accuracy : 0.1032130\t1.0000\n"
     ]
    },
    {
     "name": "stderr",
     "output_type": "stream",
     "text": [
      "epoch 35 - train: 109it [00:02, 51.92it/s]"
     ]
    },
    {
     "name": "stdout",
     "output_type": "stream",
     "text": [
      "- batch loss and accuracy : 0.0643478\t1.0000\n",
      "- batch loss and accuracy : 0.1043360\t1.0000\n",
      "- batch loss and accuracy : 3.2572207\t0.0000\n",
      "- batch loss and accuracy : 0.0590811\t1.0000\n",
      "- batch loss and accuracy : 0.0313203\t1.0000\n",
      "- batch loss and accuracy : 0.0873681\t1.0000\n"
     ]
    },
    {
     "name": "stderr",
     "output_type": "stream",
     "text": [
      "epoch 35 - train: 115it [00:02, 51.27it/s]"
     ]
    },
    {
     "name": "stdout",
     "output_type": "stream",
     "text": [
      "- batch loss and accuracy : 3.1362190\t0.0000\n",
      "- batch loss and accuracy : 2.7390876\t0.0000\n",
      "- batch loss and accuracy : 0.1508989\t1.0000\n",
      "- batch loss and accuracy : 1.3044817\t0.0000\n",
      "- batch loss and accuracy : 0.5457451\t0.6667\n",
      "- batch loss and accuracy : 0.7770293\t0.6667\n",
      "- batch loss and accuracy : 1.1076274\t0.0000\n",
      "- batch loss and accuracy : 0.3277865\t1.0000\n",
      "- batch loss and accuracy : 1.6539531\t0.0000\n",
      "- batch loss and accuracy : 0.2935655\t1.0000\n"
     ]
    },
    {
     "name": "stderr",
     "output_type": "stream",
     "text": [
      "epoch 35 - train: 121it [00:02, 50.56it/s]"
     ]
    },
    {
     "name": "stdout",
     "output_type": "stream",
     "text": [
      "- batch loss and accuracy : 0.2578399\t1.0000\n",
      "- batch loss and accuracy : 2.5772264\t0.0000\n",
      "- batch loss and accuracy : 1.9766592\t0.0000\n",
      "- batch loss and accuracy : 2.2249923\t0.0000\n",
      "- batch loss and accuracy : 1.1280921\t0.0000\n",
      "- batch loss and accuracy : 0.7995510\t0.6667\n"
     ]
    },
    {
     "name": "stderr",
     "output_type": "stream",
     "text": [
      "epoch 35 - train: 127it [00:02, 50.72it/s]"
     ]
    },
    {
     "name": "stdout",
     "output_type": "stream",
     "text": [
      "- batch loss and accuracy : 1.1256239\t0.0000\n",
      "- batch loss and accuracy : 1.3301294\t0.0000\n",
      "- batch loss and accuracy : 0.3394895\t0.6667\n",
      "- batch loss and accuracy : 0.4098161\t1.0000\n",
      "- batch loss and accuracy : 0.3306548\t1.0000\n"
     ]
    },
    {
     "name": "stderr",
     "output_type": "stream",
     "text": [
      "epoch 35 - train: 133it [00:02, 52.78it/s]"
     ]
    },
    {
     "name": "stdout",
     "output_type": "stream",
     "text": [
      "- batch loss and accuracy : 0.1461099\t1.0000\n",
      "- batch loss and accuracy : 0.1891549\t1.0000\n",
      "- batch loss and accuracy : 0.1372154\t1.0000\n",
      "- batch loss and accuracy : 0.1263686\t1.0000\n",
      "- batch loss and accuracy : 0.0517176\t1.0000\n",
      "- batch loss and accuracy : 0.0565261\t1.0000\n",
      "- batch loss and accuracy : 3.9460073\t0.0000\n"
     ]
    },
    {
     "name": "stderr",
     "output_type": "stream",
     "text": [
      "epoch 35 - train: 139it [00:02, 54.09it/s]"
     ]
    },
    {
     "name": "stdout",
     "output_type": "stream",
     "text": [
      "- batch loss and accuracy : 0.0901987\t1.0000\n",
      "- batch loss and accuracy : 3.4489989\t0.0000\n",
      "- batch loss and accuracy : 0.0541376\t1.0000\n",
      "- batch loss and accuracy : 0.0735363\t1.0000\n",
      "- batch loss and accuracy : 0.0480627\t1.0000\n"
     ]
    },
    {
     "name": "stderr",
     "output_type": "stream",
     "text": [
      "epoch 35 - train: 145it [00:02, 54.50it/s]"
     ]
    },
    {
     "name": "stdout",
     "output_type": "stream",
     "text": [
      "- batch loss and accuracy : 0.1125352\t1.0000\n",
      "- batch loss and accuracy : 2.1487787\t0.0000\n",
      "- batch loss and accuracy : 0.1732949\t1.0000\n",
      "- batch loss and accuracy : 0.2530414\t1.0000\n",
      "- batch loss and accuracy : 0.3352391\t1.0000\n",
      "- batch loss and accuracy : 1.4648573\t0.3333\n",
      "- batch loss and accuracy : 0.5066863\t0.6667\n",
      "- batch loss and accuracy : 0.8759694\t0.6667\n"
     ]
    },
    {
     "name": "stderr",
     "output_type": "stream",
     "text": [
      "epoch 35 - train: 152it [00:02, 57.87it/s]"
     ]
    },
    {
     "name": "stdout",
     "output_type": "stream",
     "text": [
      "- batch loss and accuracy : 0.7135241\t0.6667\n",
      "- batch loss and accuracy : 1.0774095\t0.3333\n",
      "- batch loss and accuracy : 0.3999962\t1.0000\n",
      "- batch loss and accuracy : 0.4256042\t1.0000\n",
      "- batch loss and accuracy : 0.3944368\t1.0000\n"
     ]
    },
    {
     "name": "stderr",
     "output_type": "stream",
     "text": [
      "epoch 35 - train: 158it [00:03, 54.19it/s]"
     ]
    },
    {
     "name": "stdout",
     "output_type": "stream",
     "text": [
      "- batch loss and accuracy : 0.2735232\t1.0000\n",
      "- batch loss and accuracy : 1.4319719\t0.0000\n",
      "- batch loss and accuracy : 0.3624189\t1.0000\n",
      "- batch loss and accuracy : 0.1932837\t1.0000\n",
      "- batch loss and accuracy : 0.1902554\t1.0000\n"
     ]
    },
    {
     "name": "stderr",
     "output_type": "stream",
     "text": [
      "epoch 35 - train: 164it [00:03, 55.32it/s]"
     ]
    },
    {
     "name": "stdout",
     "output_type": "stream",
     "text": [
      "- batch loss and accuracy : 0.1170540\t1.0000\n",
      "- batch loss and accuracy : 0.0922460\t1.0000\n",
      "- batch loss and accuracy : 2.2347994\t0.0000\n",
      "- batch loss and accuracy : 0.0649459\t1.0000\n",
      "- batch loss and accuracy : 0.0991156\t1.0000\n",
      "- batch loss and accuracy : 2.6558084\t0.0000\n"
     ]
    },
    {
     "name": "stderr",
     "output_type": "stream",
     "text": [
      "epoch 35 - train: 170it [00:03, 55.20it/s]"
     ]
    },
    {
     "name": "stdout",
     "output_type": "stream",
     "text": [
      "- batch loss and accuracy : 2.3250139\t0.0000\n",
      "- batch loss and accuracy : 1.9051092\t0.0000\n",
      "- batch loss and accuracy : 0.4240442\t1.0000\n",
      "- batch loss and accuracy : 0.6274619\t0.6667\n",
      "- batch loss and accuracy : 0.5886135\t0.6667\n",
      "- batch loss and accuracy : 1.0144660\t0.3333\n"
     ]
    },
    {
     "name": "stderr",
     "output_type": "stream",
     "text": [
      "epoch 35 - train: 176it [00:03, 56.51it/s]"
     ]
    },
    {
     "name": "stdout",
     "output_type": "stream",
     "text": [
      "- batch loss and accuracy : 1.7591250\t0.0000\n",
      "- batch loss and accuracy : 1.5842584\t0.0000\n",
      "- batch loss and accuracy : 0.2940224\t1.0000\n",
      "- batch loss and accuracy : 0.3761042\t1.0000\n",
      "- batch loss and accuracy : 0.9585625\t0.0000\n",
      "- batch loss and accuracy : 0.5481595\t0.6667\n"
     ]
    },
    {
     "name": "stderr",
     "output_type": "stream",
     "text": [
      "epoch 35 - train: 182it [00:03, 52.23it/s]"
     ]
    },
    {
     "name": "stdout",
     "output_type": "stream",
     "text": [
      "- batch loss and accuracy : 0.5507261\t1.0000\n",
      "- batch loss and accuracy : 0.6705644\t0.3333\n",
      "- batch loss and accuracy : 0.7159717\t0.6667\n",
      "- batch loss and accuracy : 0.6282905\t0.6667\n",
      "- batch loss and accuracy : 0.6423807\t0.6667\n"
     ]
    },
    {
     "name": "stderr",
     "output_type": "stream",
     "text": [
      "epoch 35 - train: 188it [00:03, 53.75it/s]"
     ]
    },
    {
     "name": "stdout",
     "output_type": "stream",
     "text": [
      "- batch loss and accuracy : 0.2764956\t1.0000\n",
      "- batch loss and accuracy : 0.2923147\t1.0000\n",
      "- batch loss and accuracy : 0.1057284\t1.0000\n",
      "- batch loss and accuracy : 3.1615360\t0.0000\n",
      "- batch loss and accuracy : 0.0619323\t1.0000\n",
      "- batch loss and accuracy : 0.0324672\t1.0000\n",
      "- batch loss and accuracy : 0.0283490\t1.0000\n"
     ]
    },
    {
     "name": "stderr",
     "output_type": "stream",
     "text": [
      "epoch 35 - train: 194it [00:03, 54.34it/s]"
     ]
    },
    {
     "name": "stdout",
     "output_type": "stream",
     "text": [
      "- batch loss and accuracy : 0.0302601\t1.0000\n",
      "- batch loss and accuracy : 0.0201646\t1.0000\n",
      "- batch loss and accuracy : 0.0134771\t1.0000\n",
      "- batch loss and accuracy : 0.0146218\t1.0000\n"
     ]
    },
    {
     "name": "stderr",
     "output_type": "stream",
     "text": [
      "epoch 35 - train: 200it [00:03, 52.26it/s]"
     ]
    },
    {
     "name": "stdout",
     "output_type": "stream",
     "text": [
      "- batch loss and accuracy : 4.6225157\t0.0000\n",
      "- batch loss and accuracy : 4.2743425\t0.0000\n",
      "- batch loss and accuracy : 3.0852809\t0.0000\n",
      "- batch loss and accuracy : 0.0723364\t1.0000\n",
      "- batch loss and accuracy : 1.9305300\t0.0000\n",
      "- batch loss and accuracy : 0.3587875\t1.0000\n"
     ]
    },
    {
     "name": "stderr",
     "output_type": "stream",
     "text": [
      "epoch 35 - train: 206it [00:04, 50.28it/s]"
     ]
    },
    {
     "name": "stdout",
     "output_type": "stream",
     "text": [
      "- batch loss and accuracy : 0.6917686\t0.6667\n",
      "- batch loss and accuracy : 1.2651242\t0.0000\n",
      "- batch loss and accuracy : 1.2995309\t0.0000\n",
      "- batch loss and accuracy : 0.8550262\t0.3333\n",
      "- batch loss and accuracy : 0.6609445\t0.6667\n",
      "- batch loss and accuracy : 0.5863938\t1.0000\n",
      "- batch loss and accuracy : 0.4871026\t0.6667\n",
      "- batch loss and accuracy : 0.2256213\t1.0000\n",
      "- batch loss and accuracy : 0.1372708\t1.0000\n",
      "- batch loss and accuracy : 0.1202196\t1.0000\n"
     ]
    },
    {
     "name": "stderr",
     "output_type": "stream",
     "text": [
      "epoch 35 - train: 212it [00:04, 46.04it/s]"
     ]
    },
    {
     "name": "stdout",
     "output_type": "stream",
     "text": [
      "- batch loss and accuracy : 0.0318775\t1.0000\n",
      "- batch loss and accuracy : 3.4462156\t0.0000\n",
      "- batch loss and accuracy : 0.0371110\t1.0000\n",
      "- batch loss and accuracy : 0.0170853\t1.0000\n"
     ]
    },
    {
     "name": "stderr",
     "output_type": "stream",
     "text": [
      "epoch 35 - train: 217it [00:04, 46.25it/s]"
     ]
    },
    {
     "name": "stdout",
     "output_type": "stream",
     "text": [
      "- batch loss and accuracy : 0.0275104\t1.0000\n",
      "- batch loss and accuracy : 0.0205480\t1.0000\n",
      "- batch loss and accuracy : 4.0079813\t0.0000\n",
      "- batch loss and accuracy : 0.0200379\t1.0000\n",
      "- batch loss and accuracy : 3.8618875\t0.0000\n",
      "- batch loss and accuracy : 3.4192407\t0.0000\n"
     ]
    },
    {
     "name": "stderr",
     "output_type": "stream",
     "text": [
      "epoch 35 - train: 222it [00:04, 44.83it/s]"
     ]
    },
    {
     "name": "stdout",
     "output_type": "stream",
     "text": [
      "- batch loss and accuracy : 2.6921825\t0.0000\n",
      "- batch loss and accuracy : 0.1881769\t1.0000\n"
     ]
    },
    {
     "name": "stderr",
     "output_type": "stream",
     "text": [
      "epoch 35 - train: 227it [00:04, 41.43it/s]"
     ]
    },
    {
     "name": "stdout",
     "output_type": "stream",
     "text": [
      "- batch loss and accuracy : 0.5152869\t0.6667\n",
      "- batch loss and accuracy : 0.7802569\t0.3333\n",
      "- batch loss and accuracy : 1.4278053\t0.0000\n",
      "- batch loss and accuracy : 0.3861710\t1.0000\n",
      "- batch loss and accuracy : 1.1916215\t0.0000\n",
      "- batch loss and accuracy : 0.9973558\t0.3333\n",
      "- batch loss and accuracy : 1.4078047\t0.0000\n",
      "- batch loss and accuracy : 0.4964866\t0.6667\n"
     ]
    },
    {
     "name": "stderr",
     "output_type": "stream",
     "text": [
      "epoch 35 - train: 237it [00:04, 41.75it/s]"
     ]
    },
    {
     "name": "stdout",
     "output_type": "stream",
     "text": [
      "- batch loss and accuracy : 0.6131911\t0.6667\n",
      "- batch loss and accuracy : 0.6622654\t0.6667\n",
      "- batch loss and accuracy : 1.1916336\t0.3333\n",
      "- batch loss and accuracy : 0.6736371\t0.3333\n",
      "- batch loss and accuracy : 1.6545873\t0.0000\n",
      "- batch loss and accuracy : 0.7398015\t0.6667\n",
      "- batch loss and accuracy : 0.2741078\t1.0000\n",
      "- batch loss and accuracy : 1.2372822\t0.0000\n",
      "- batch loss and accuracy : 0.2639012\t1.0000\n",
      "- batch loss and accuracy : 0.3227752\t1.0000\n"
     ]
    },
    {
     "name": "stderr",
     "output_type": "stream",
     "text": [
      "epoch 35 - train: 247it [00:05, 41.94it/s]"
     ]
    },
    {
     "name": "stdout",
     "output_type": "stream",
     "text": [
      "- batch loss and accuracy : 1.7230978\t0.0000\n",
      "- batch loss and accuracy : 0.2861799\t1.0000\n",
      "- batch loss and accuracy : 1.1999058\t0.0000\n",
      "- batch loss and accuracy : 1.1661028\t0.3333\n",
      "- batch loss and accuracy : 0.8655062\t0.3333\n",
      "- batch loss and accuracy : 0.6476232\t0.6667\n",
      "- batch loss and accuracy : 0.7141289\t0.6667\n",
      "- batch loss and accuracy : 0.7455459\t0.3333\n"
     ]
    },
    {
     "name": "stderr",
     "output_type": "stream",
     "text": [
      "epoch 35 - train: 249it [00:05, 48.95it/s]\n",
      "epoch 35 - validation: 100%|██████████| 63/63 [00:01<00:00, 61.11it/s]"
     ]
    },
    {
     "name": "stdout",
     "output_type": "stream",
     "text": [
      "Validation loss and accuracy : 0.5915648\t0.6667\n",
      "EPOCH 36\n"
     ]
    },
    {
     "name": "stderr",
     "output_type": "stream",
     "text": [
      "\n",
      "epoch 36 - train: 2it [00:00, 19.86it/s]"
     ]
    },
    {
     "name": "stdout",
     "output_type": "stream",
     "text": [
      "- batch loss and accuracy : 0.6515379\t0.6667\n",
      "- batch loss and accuracy : 0.2155495\t1.0000\n",
      "- batch loss and accuracy : 0.1122769\t1.0000\n",
      "- batch loss and accuracy : 0.1687540\t1.0000\n",
      "- batch loss and accuracy : 0.1244409\t1.0000\n"
     ]
    },
    {
     "name": "stderr",
     "output_type": "stream",
     "text": [
      "epoch 36 - train: 8it [00:00, 41.30it/s]"
     ]
    },
    {
     "name": "stdout",
     "output_type": "stream",
     "text": [
      "- batch loss and accuracy : 0.0712575\t1.0000\n",
      "- batch loss and accuracy : 3.2219894\t0.0000\n",
      "- batch loss and accuracy : 3.2764974\t0.0000\n",
      "- batch loss and accuracy : 0.0303111\t1.0000\n",
      "- batch loss and accuracy : 2.9134769\t0.0000\n",
      "- batch loss and accuracy : 0.1310108\t1.0000\n",
      "- batch loss and accuracy : 0.2215080\t1.0000\n"
     ]
    },
    {
     "name": "stderr",
     "output_type": "stream",
     "text": [
      "epoch 36 - train: 14it [00:00, 44.61it/s]"
     ]
    },
    {
     "name": "stdout",
     "output_type": "stream",
     "text": [
      "- batch loss and accuracy : 0.1875550\t1.0000\n",
      "- batch loss and accuracy : 1.4850863\t0.0000\n",
      "- batch loss and accuracy : 0.5957393\t0.6667\n"
     ]
    },
    {
     "name": "stderr",
     "output_type": "stream",
     "text": [
      "epoch 36 - train: 19it [00:00, 45.28it/s]"
     ]
    },
    {
     "name": "stdout",
     "output_type": "stream",
     "text": [
      "- batch loss and accuracy : 0.5370102\t0.6667\n",
      "- batch loss and accuracy : 0.8324127\t0.6667\n",
      "- batch loss and accuracy : 0.7414844\t0.3333\n",
      "- batch loss and accuracy : 0.5858938\t1.0000\n",
      "- batch loss and accuracy : 0.4061304\t1.0000\n",
      "- batch loss and accuracy : 0.3306785\t1.0000\n",
      "- batch loss and accuracy : 0.1929954\t1.0000\n"
     ]
    },
    {
     "name": "stderr",
     "output_type": "stream",
     "text": [
      "epoch 36 - train: 24it [00:00, 46.70it/s]"
     ]
    },
    {
     "name": "stdout",
     "output_type": "stream",
     "text": [
      "- batch loss and accuracy : 2.5576420\t0.0000\n",
      "- batch loss and accuracy : 0.0797722\t1.0000\n",
      "- batch loss and accuracy : 0.0909140\t1.0000\n",
      "- batch loss and accuracy : 0.0800056\t1.0000\n"
     ]
    },
    {
     "name": "stderr",
     "output_type": "stream",
     "text": [
      "epoch 36 - train: 30it [00:00, 47.07it/s]"
     ]
    },
    {
     "name": "stdout",
     "output_type": "stream",
     "text": [
      "- batch loss and accuracy : 3.4400153\t0.0000\n",
      "- batch loss and accuracy : 0.0460297\t1.0000\n",
      "- batch loss and accuracy : 0.0674099\t1.0000\n",
      "- batch loss and accuracy : 0.0964568\t1.0000\n",
      "- batch loss and accuracy : 2.3682158\t0.0000\n",
      "- batch loss and accuracy : 2.2077150\t0.0000\n",
      "- batch loss and accuracy : 0.2057813\t1.0000\n"
     ]
    },
    {
     "name": "stderr",
     "output_type": "stream",
     "text": [
      "epoch 36 - train: 35it [00:00, 46.12it/s]"
     ]
    },
    {
     "name": "stdout",
     "output_type": "stream",
     "text": [
      "- batch loss and accuracy : 1.6085075\t0.0000\n",
      "- batch loss and accuracy : 0.6091601\t0.3333\n"
     ]
    },
    {
     "name": "stderr",
     "output_type": "stream",
     "text": [
      "epoch 36 - train: 40it [00:00, 45.55it/s]"
     ]
    },
    {
     "name": "stdout",
     "output_type": "stream",
     "text": [
      "- batch loss and accuracy : 1.0029293\t0.0000\n",
      "- batch loss and accuracy : 0.9366539\t0.0000\n",
      "- batch loss and accuracy : 0.8946072\t0.6667\n",
      "- batch loss and accuracy : 0.4602615\t1.0000\n",
      "- batch loss and accuracy : 0.7005857\t0.3333\n",
      "- batch loss and accuracy : 0.9411519\t0.0000\n",
      "- batch loss and accuracy : 0.7715973\t0.6667\n",
      "- batch loss and accuracy : 0.7362672\t0.3333\n"
     ]
    },
    {
     "name": "stderr",
     "output_type": "stream",
     "text": [
      "epoch 36 - train: 51it [00:01, 43.84it/s]"
     ]
    },
    {
     "name": "stdout",
     "output_type": "stream",
     "text": [
      "- batch loss and accuracy : 0.7874750\t0.3333\n",
      "- batch loss and accuracy : 0.6292021\t0.6667\n",
      "- batch loss and accuracy : 0.6423955\t0.6667\n",
      "- batch loss and accuracy : 0.8437700\t0.6667\n",
      "- batch loss and accuracy : 0.6303617\t0.6667\n",
      "- batch loss and accuracy : 0.9664611\t0.6667\n",
      "- batch loss and accuracy : 0.4537796\t0.6667\n",
      "- batch loss and accuracy : 0.4345133\t1.0000\n",
      "- batch loss and accuracy : 0.3207253\t1.0000\n",
      "- batch loss and accuracy : 0.2266989\t1.0000\n"
     ]
    },
    {
     "name": "stderr",
     "output_type": "stream",
     "text": [
      "epoch 36 - train: 61it [00:01, 43.81it/s]"
     ]
    },
    {
     "name": "stdout",
     "output_type": "stream",
     "text": [
      "- batch loss and accuracy : 0.1742729\t1.0000\n",
      "- batch loss and accuracy : 2.7218921\t0.0000\n",
      "- batch loss and accuracy : 0.1520976\t1.0000\n",
      "- batch loss and accuracy : 2.0751524\t0.0000\n",
      "- batch loss and accuracy : 0.1328378\t1.0000\n",
      "- batch loss and accuracy : 0.1329540\t1.0000\n",
      "- batch loss and accuracy : 1.8411176\t0.0000\n",
      "- batch loss and accuracy : 0.3272711\t1.0000\n",
      "- batch loss and accuracy : 0.3353749\t1.0000\n",
      "- batch loss and accuracy : 0.4796286\t0.6667\n"
     ]
    },
    {
     "name": "stderr",
     "output_type": "stream",
     "text": [
      "epoch 36 - train: 66it [00:01, 42.40it/s]"
     ]
    },
    {
     "name": "stdout",
     "output_type": "stream",
     "text": [
      "- batch loss and accuracy : 0.3233667\t1.0000\n",
      "- batch loss and accuracy : 1.4270556\t0.0000\n",
      "- batch loss and accuracy : 1.2372092\t0.0000\n",
      "- batch loss and accuracy : 0.4521148\t1.0000\n",
      "- batch loss and accuracy : 0.6612787\t0.3333\n",
      "- batch loss and accuracy : 0.7002530\t0.6667\n",
      "- batch loss and accuracy : 0.7867850\t0.3333\n",
      "- batch loss and accuracy : 0.5025276\t0.6667\n"
     ]
    },
    {
     "name": "stderr",
     "output_type": "stream",
     "text": [
      "epoch 36 - train: 72it [00:01, 44.79it/s]"
     ]
    },
    {
     "name": "stdout",
     "output_type": "stream",
     "text": [
      "- batch loss and accuracy : 0.7547829\t0.0000\n",
      "- batch loss and accuracy : 0.4620582\t1.0000\n"
     ]
    },
    {
     "name": "stderr",
     "output_type": "stream",
     "text": [
      "epoch 36 - train: 77it [00:01, 42.68it/s]"
     ]
    },
    {
     "name": "stdout",
     "output_type": "stream",
     "text": [
      "- batch loss and accuracy : 1.4011673\t0.0000\n",
      "- batch loss and accuracy : 1.4532570\t0.0000\n",
      "- batch loss and accuracy : 0.4119449\t1.0000\n",
      "- batch loss and accuracy : 0.5889363\t0.6667\n",
      "- batch loss and accuracy : 0.5021834\t0.6667\n",
      "- batch loss and accuracy : 1.1650268\t0.3333\n",
      "- batch loss and accuracy : 0.3992997\t1.0000\n"
     ]
    },
    {
     "name": "stderr",
     "output_type": "stream",
     "text": [
      "epoch 36 - train: 83it [00:01, 45.35it/s]"
     ]
    },
    {
     "name": "stdout",
     "output_type": "stream",
     "text": [
      "- batch loss and accuracy : 0.3056507\t1.0000\n",
      "- batch loss and accuracy : 0.2782941\t1.0000\n",
      "- batch loss and accuracy : 1.7727637\t0.0000\n"
     ]
    },
    {
     "name": "stderr",
     "output_type": "stream",
     "text": [
      "epoch 36 - train: 88it [00:02, 40.50it/s]"
     ]
    },
    {
     "name": "stdout",
     "output_type": "stream",
     "text": [
      "- batch loss and accuracy : 0.1863843\t1.0000\n",
      "- batch loss and accuracy : 0.1502164\t1.0000\n",
      "- batch loss and accuracy : 1.9326217\t0.0000\n",
      "- batch loss and accuracy : 0.2424378\t1.0000\n",
      "- batch loss and accuracy : 0.2685716\t1.0000\n",
      "- batch loss and accuracy : 0.3814776\t1.0000\n",
      "- batch loss and accuracy : 0.3138322\t1.0000\n"
     ]
    },
    {
     "name": "stderr",
     "output_type": "stream",
     "text": [
      "epoch 36 - train: 93it [00:02, 39.94it/s]"
     ]
    },
    {
     "name": "stdout",
     "output_type": "stream",
     "text": [
      "- batch loss and accuracy : 0.2314309\t1.0000\n",
      "- batch loss and accuracy : 0.2673562\t1.0000\n",
      "- batch loss and accuracy : 0.1244277\t1.0000\n",
      "- batch loss and accuracy : 2.1493206\t0.0000\n",
      "- batch loss and accuracy : 0.1402862\t1.0000\n",
      "- batch loss and accuracy : 2.1094980\t0.0000\n",
      "- batch loss and accuracy : 1.3186851\t0.0000\n"
     ]
    },
    {
     "name": "stderr",
     "output_type": "stream",
     "text": [
      "epoch 36 - train: 98it [00:02, 41.29it/s]"
     ]
    },
    {
     "name": "stdout",
     "output_type": "stream",
     "text": [
      "- batch loss and accuracy : 0.4792345\t1.0000\n",
      "- batch loss and accuracy : 0.2557808\t1.0000\n"
     ]
    },
    {
     "name": "stderr",
     "output_type": "stream",
     "text": [
      "epoch 36 - train: 103it [00:02, 41.48it/s]"
     ]
    },
    {
     "name": "stdout",
     "output_type": "stream",
     "text": [
      "- batch loss and accuracy : 0.6402237\t0.6667\n",
      "- batch loss and accuracy : 0.5949442\t0.6667\n",
      "- batch loss and accuracy : 0.8511176\t0.3333\n",
      "- batch loss and accuracy : 0.4309235\t1.0000\n",
      "- batch loss and accuracy : 0.3546121\t1.0000\n",
      "- batch loss and accuracy : 1.8405418\t0.0000\n",
      "- batch loss and accuracy : 0.3023919\t1.0000\n"
     ]
    },
    {
     "name": "stderr",
     "output_type": "stream",
     "text": [
      "epoch 36 - train: 108it [00:02, 42.25it/s]"
     ]
    },
    {
     "name": "stdout",
     "output_type": "stream",
     "text": [
      "- batch loss and accuracy : 1.9061522\t0.0000\n",
      "- batch loss and accuracy : 0.1941788\t1.0000\n",
      "- batch loss and accuracy : 0.2326837\t1.0000\n"
     ]
    },
    {
     "name": "stderr",
     "output_type": "stream",
     "text": [
      "epoch 36 - train: 113it [00:02, 42.55it/s]"
     ]
    },
    {
     "name": "stdout",
     "output_type": "stream",
     "text": [
      "- batch loss and accuracy : 0.2610403\t1.0000\n",
      "- batch loss and accuracy : 0.1226638\t1.0000\n",
      "- batch loss and accuracy : 1.9939899\t0.0000\n",
      "- batch loss and accuracy : 1.5208300\t0.0000\n",
      "- batch loss and accuracy : 0.3059646\t1.0000\n",
      "- batch loss and accuracy : 0.4631419\t1.0000\n",
      "- batch loss and accuracy : 0.3613440\t0.6667\n"
     ]
    },
    {
     "name": "stderr",
     "output_type": "stream",
     "text": [
      "epoch 36 - train: 118it [00:02, 43.76it/s]"
     ]
    },
    {
     "name": "stdout",
     "output_type": "stream",
     "text": [
      "- batch loss and accuracy : 0.3315330\t1.0000\n",
      "- batch loss and accuracy : 0.5123916\t0.6667\n",
      "- batch loss and accuracy : 1.7711328\t0.0000\n"
     ]
    },
    {
     "name": "stderr",
     "output_type": "stream",
     "text": [
      "epoch 36 - train: 123it [00:02, 44.73it/s]"
     ]
    },
    {
     "name": "stdout",
     "output_type": "stream",
     "text": [
      "- batch loss and accuracy : 0.4237895\t0.6667\n",
      "- batch loss and accuracy : 1.3809512\t0.0000\n",
      "- batch loss and accuracy : 0.3604216\t1.0000\n",
      "- batch loss and accuracy : 1.0868864\t0.3333\n",
      "- batch loss and accuracy : 0.4532380\t0.6667\n",
      "- batch loss and accuracy : 0.6077635\t0.6667\n",
      "- batch loss and accuracy : 0.7930830\t0.3333\n"
     ]
    },
    {
     "name": "stderr",
     "output_type": "stream",
     "text": [
      "epoch 36 - train: 128it [00:02, 45.25it/s]"
     ]
    },
    {
     "name": "stdout",
     "output_type": "stream",
     "text": [
      "- batch loss and accuracy : 0.8347709\t0.3333\n",
      "- batch loss and accuracy : 0.9097595\t0.3333\n",
      "- batch loss and accuracy : 1.2182449\t0.0000\n"
     ]
    },
    {
     "name": "stderr",
     "output_type": "stream",
     "text": [
      "epoch 36 - train: 133it [00:03, 43.23it/s]"
     ]
    },
    {
     "name": "stdout",
     "output_type": "stream",
     "text": [
      "- batch loss and accuracy : 0.8410565\t0.3333\n",
      "- batch loss and accuracy : 1.0213608\t0.0000\n",
      "- batch loss and accuracy : 0.6061237\t0.3333\n",
      "- batch loss and accuracy : 0.6424087\t0.6667\n",
      "- batch loss and accuracy : 1.0015343\t0.0000\n",
      "- batch loss and accuracy : 0.9340891\t0.3333\n"
     ]
    },
    {
     "name": "stderr",
     "output_type": "stream",
     "text": [
      "epoch 36 - train: 138it [00:03, 42.78it/s]"
     ]
    },
    {
     "name": "stdout",
     "output_type": "stream",
     "text": [
      "- batch loss and accuracy : 0.3610672\t1.0000\n",
      "- batch loss and accuracy : 1.1001182\t0.0000\n",
      "- batch loss and accuracy : 0.2886180\t1.0000\n"
     ]
    },
    {
     "name": "stderr",
     "output_type": "stream",
     "text": [
      "epoch 36 - train: 143it [00:03, 44.49it/s]"
     ]
    },
    {
     "name": "stdout",
     "output_type": "stream",
     "text": [
      "- batch loss and accuracy : 1.6207303\t0.0000\n",
      "- batch loss and accuracy : 0.2718235\t1.0000\n",
      "- batch loss and accuracy : 0.3138404\t1.0000\n",
      "- batch loss and accuracy : 0.1262944\t1.0000\n",
      "- batch loss and accuracy : 0.1992773\t1.0000\n",
      "- batch loss and accuracy : 0.0853672\t1.0000\n",
      "- batch loss and accuracy : 0.1463630\t1.0000\n"
     ]
    },
    {
     "name": "stderr",
     "output_type": "stream",
     "text": [
      "epoch 36 - train: 148it [00:03, 44.78it/s]"
     ]
    },
    {
     "name": "stdout",
     "output_type": "stream",
     "text": [
      "- batch loss and accuracy : 0.0877593\t1.0000\n",
      "- batch loss and accuracy : 2.8455105\t0.0000\n",
      "- batch loss and accuracy : 0.1186874\t1.0000\n"
     ]
    },
    {
     "name": "stderr",
     "output_type": "stream",
     "text": [
      "epoch 36 - train: 154it [00:03, 47.30it/s]"
     ]
    },
    {
     "name": "stdout",
     "output_type": "stream",
     "text": [
      "- batch loss and accuracy : 2.6039810\t0.0000\n",
      "- batch loss and accuracy : 2.4164510\t0.0000\n",
      "- batch loss and accuracy : 1.9248412\t0.0000\n",
      "- batch loss and accuracy : 0.4552109\t1.0000\n",
      "- batch loss and accuracy : 0.7892448\t0.3333\n",
      "- batch loss and accuracy : 0.9148498\t0.3333\n",
      "- batch loss and accuracy : 1.3259704\t0.0000\n",
      "- batch loss and accuracy : 0.3734711\t1.0000\n",
      "- batch loss and accuracy : 0.3515665\t1.0000\n",
      "- batch loss and accuracy : 0.8665632\t0.3333\n"
     ]
    },
    {
     "name": "stderr",
     "output_type": "stream",
     "text": [
      "epoch 36 - train: 164it [00:03, 45.80it/s]"
     ]
    },
    {
     "name": "stdout",
     "output_type": "stream",
     "text": [
      "- batch loss and accuracy : 0.3515918\t1.0000\n",
      "- batch loss and accuracy : 0.3277015\t1.0000\n",
      "- batch loss and accuracy : 1.2458510\t0.0000\n",
      "- batch loss and accuracy : 0.9266316\t0.3333\n",
      "- batch loss and accuracy : 1.0146475\t0.0000\n",
      "- batch loss and accuracy : 0.6731123\t0.3333\n",
      "- batch loss and accuracy : 0.2519772\t1.0000\n",
      "- batch loss and accuracy : 0.2017107\t1.0000\n",
      "- batch loss and accuracy : 2.0836017\t0.0000\n",
      "- batch loss and accuracy : 0.0662747\t1.0000\n"
     ]
    },
    {
     "name": "stderr",
     "output_type": "stream",
     "text": [
      "epoch 36 - train: 174it [00:03, 45.70it/s]"
     ]
    },
    {
     "name": "stdout",
     "output_type": "stream",
     "text": [
      "- batch loss and accuracy : 0.0602000\t1.0000\n",
      "- batch loss and accuracy : 0.0427939\t1.0000\n",
      "- batch loss and accuracy : 4.0237064\t0.0000\n",
      "- batch loss and accuracy : 3.1449528\t0.0000\n",
      "- batch loss and accuracy : 0.0751555\t1.0000\n",
      "- batch loss and accuracy : 0.1179743\t1.0000\n",
      "- batch loss and accuracy : 2.1926885\t0.0000\n",
      "- batch loss and accuracy : 0.2654322\t1.0000\n",
      "- batch loss and accuracy : 1.3731416\t0.0000\n",
      "- batch loss and accuracy : 0.8544036\t0.3333\n"
     ]
    },
    {
     "name": "stderr",
     "output_type": "stream",
     "text": [
      "epoch 36 - train: 186it [00:04, 49.20it/s]"
     ]
    },
    {
     "name": "stdout",
     "output_type": "stream",
     "text": [
      "- batch loss and accuracy : 0.9168134\t0.0000\n",
      "- batch loss and accuracy : 0.7223964\t0.6667\n",
      "- batch loss and accuracy : 0.6192739\t0.6667\n",
      "- batch loss and accuracy : 0.9463953\t0.0000\n",
      "- batch loss and accuracy : 0.9405107\t0.0000\n",
      "- batch loss and accuracy : 0.5247049\t0.6667\n",
      "- batch loss and accuracy : 0.3177382\t1.0000\n",
      "- batch loss and accuracy : 0.3499033\t0.6667\n",
      "- batch loss and accuracy : 0.2680130\t1.0000\n",
      "- batch loss and accuracy : 0.1387318\t1.0000\n"
     ]
    },
    {
     "name": "stderr",
     "output_type": "stream",
     "text": [
      "epoch 36 - train: 197it [00:04, 50.11it/s]"
     ]
    },
    {
     "name": "stdout",
     "output_type": "stream",
     "text": [
      "- batch loss and accuracy : 0.0771593\t1.0000\n",
      "- batch loss and accuracy : 0.0371571\t1.0000\n",
      "- batch loss and accuracy : 4.2880392\t0.0000\n",
      "- batch loss and accuracy : 0.0213594\t1.0000\n",
      "- batch loss and accuracy : 0.0195061\t1.0000\n",
      "- batch loss and accuracy : 0.0297108\t1.0000\n",
      "- batch loss and accuracy : 0.0104834\t1.0000\n",
      "- batch loss and accuracy : 4.5959888\t0.0000\n",
      "- batch loss and accuracy : 0.0246014\t1.0000\n",
      "- batch loss and accuracy : 0.0409026\t1.0000\n",
      "- batch loss and accuracy : 0.0262224\t1.0000\n"
     ]
    },
    {
     "name": "stderr",
     "output_type": "stream",
     "text": [
      "epoch 36 - train: 209it [00:04, 52.82it/s]"
     ]
    },
    {
     "name": "stdout",
     "output_type": "stream",
     "text": [
      "- batch loss and accuracy : 0.0350657\t1.0000\n",
      "- batch loss and accuracy : 2.7146108\t0.0000\n",
      "- batch loss and accuracy : 2.7313037\t0.0000\n",
      "- batch loss and accuracy : 0.1339307\t1.0000\n",
      "- batch loss and accuracy : 1.4212282\t0.0000\n",
      "- batch loss and accuracy : 0.8107445\t0.3333\n",
      "- batch loss and accuracy : 1.0283951\t0.0000\n",
      "- batch loss and accuracy : 1.6170452\t0.0000\n",
      "- batch loss and accuracy : 1.5096655\t0.0000\n",
      "- batch loss and accuracy : 1.8366287\t0.0000\n",
      "- batch loss and accuracy : 1.7187784\t0.0000\n"
     ]
    },
    {
     "name": "stderr",
     "output_type": "stream",
     "text": [
      "epoch 36 - train: 215it [00:04, 51.97it/s]"
     ]
    },
    {
     "name": "stdout",
     "output_type": "stream",
     "text": [
      "- batch loss and accuracy : 1.0254514\t0.3333\n",
      "- batch loss and accuracy : 0.9551341\t0.6667\n",
      "- batch loss and accuracy : 1.3019093\t0.0000\n",
      "- batch loss and accuracy : 0.3743823\t1.0000\n",
      "- batch loss and accuracy : 1.9760625\t0.0000\n",
      "- batch loss and accuracy : 0.0710749\t1.0000\n",
      "- batch loss and accuracy : 0.1342161\t1.0000\n",
      "- batch loss and accuracy : 0.1061007\t1.0000\n",
      "- batch loss and accuracy : 0.0952273\t1.0000\n",
      "- batch loss and accuracy : 0.0552648\t1.0000\n",
      "- batch loss and accuracy : 0.0241704\t1.0000\n",
      "- batch loss and accuracy : 0.0234559\t1.0000\n"
     ]
    },
    {
     "name": "stderr",
     "output_type": "stream",
     "text": [
      "epoch 36 - train: 222it [00:04, 55.59it/s]"
     ]
    },
    {
     "name": "stdout",
     "output_type": "stream",
     "text": [
      "- batch loss and accuracy : 0.0301391\t1.0000\n"
     ]
    },
    {
     "name": "stderr",
     "output_type": "stream",
     "text": [
      "epoch 36 - train: 234it [00:05, 55.72it/s]"
     ]
    },
    {
     "name": "stdout",
     "output_type": "stream",
     "text": [
      "- batch loss and accuracy : 0.0117501\t1.0000\n",
      "- batch loss and accuracy : 0.0200634\t1.0000\n",
      "- batch loss and accuracy : 0.0156207\t1.0000\n",
      "- batch loss and accuracy : 0.0170553\t1.0000\n",
      "- batch loss and accuracy : 4.5448127\t0.0000\n",
      "- batch loss and accuracy : 0.0099555\t1.0000\n",
      "- batch loss and accuracy : 4.1565194\t0.0000\n",
      "- batch loss and accuracy : 0.0164767\t1.0000\n",
      "- batch loss and accuracy : 0.0244204\t1.0000\n",
      "- batch loss and accuracy : 0.0418281\t1.0000\n",
      "- batch loss and accuracy : 0.0878248\t1.0000\n",
      "- batch loss and accuracy : 2.0752439\t0.0000\n"
     ]
    },
    {
     "name": "stderr",
     "output_type": "stream",
     "text": [
      "epoch 36 - train: 240it [00:05, 55.11it/s]"
     ]
    },
    {
     "name": "stdout",
     "output_type": "stream",
     "text": [
      "- batch loss and accuracy : 1.8316565\t0.0000\n",
      "- batch loss and accuracy : 1.2685063\t0.0000\n",
      "- batch loss and accuracy : 0.4902161\t1.0000\n",
      "- batch loss and accuracy : 0.2646543\t1.0000\n",
      "- batch loss and accuracy : 0.1066945\t1.0000\n",
      "- batch loss and accuracy : 3.5566936\t0.0000\n",
      "- batch loss and accuracy : 0.0149856\t1.0000\n",
      "- batch loss and accuracy : 4.2624702\t0.0000\n",
      "- batch loss and accuracy : 4.5262127\t0.0000\n",
      "- batch loss and accuracy : 0.0258758\t1.0000\n",
      "- batch loss and accuracy : 3.3810089\t0.0000\n"
     ]
    },
    {
     "name": "stderr",
     "output_type": "stream",
     "text": [
      "epoch 36 - train: 247it [00:05, 57.40it/s]"
     ]
    },
    {
     "name": "stdout",
     "output_type": "stream",
     "text": [
      "- batch loss and accuracy : 2.8899655\t0.0000\n",
      "- batch loss and accuracy : 0.1162359\t1.0000\n"
     ]
    },
    {
     "name": "stderr",
     "output_type": "stream",
     "text": [
      "epoch 36 - train: 249it [00:05, 46.45it/s]\n"
     ]
    },
    {
     "name": "stdout",
     "output_type": "stream",
     "text": [
      "- batch loss and accuracy : 1.7410488\t0.0000\n"
     ]
    },
    {
     "name": "stderr",
     "output_type": "stream",
     "text": [
      "epoch 36 - validation: 100%|██████████| 63/63 [00:01<00:00, 61.25it/s]"
     ]
    },
    {
     "name": "stdout",
     "output_type": "stream",
     "text": [
      "Validation loss and accuracy : 0.7924159\t0.4444\n",
      "EPOCH 37\n"
     ]
    },
    {
     "name": "stderr",
     "output_type": "stream",
     "text": [
      "\n",
      "epoch 37 - train: 1it [00:00,  8.47it/s]"
     ]
    },
    {
     "name": "stdout",
     "output_type": "stream",
     "text": [
      "- batch loss and accuracy : 1.2480559\t0.0000\n",
      "- batch loss and accuracy : 0.4931079\t1.0000\n"
     ]
    },
    {
     "name": "stderr",
     "output_type": "stream",
     "text": [
      "epoch 37 - train: 4it [00:00, 19.65it/s]"
     ]
    },
    {
     "name": "stdout",
     "output_type": "stream",
     "text": [
      "- batch loss and accuracy : 1.7315030\t0.3333\n",
      "- batch loss and accuracy : 0.1525238\t1.0000\n",
      "- batch loss and accuracy : 3.0770831\t0.0000\n",
      "- batch loss and accuracy : 0.0529491\t1.0000\n"
     ]
    },
    {
     "name": "stderr",
     "output_type": "stream",
     "text": [
      "epoch 37 - train: 7it [00:00, 21.71it/s]"
     ]
    },
    {
     "name": "stdout",
     "output_type": "stream",
     "text": [
      "- batch loss and accuracy : 3.6313922\t0.0000\n"
     ]
    },
    {
     "name": "stderr",
     "output_type": "stream",
     "text": [
      "epoch 37 - train: 10it [00:00, 21.25it/s]"
     ]
    },
    {
     "name": "stdout",
     "output_type": "stream",
     "text": [
      "- batch loss and accuracy : 3.2826023\t0.0000\n",
      "- batch loss and accuracy : 3.5759506\t0.0000\n",
      "- batch loss and accuracy : 0.0353434\t1.0000\n",
      "- batch loss and accuracy : 1.9409746\t0.0000\n"
     ]
    },
    {
     "name": "stderr",
     "output_type": "stream",
     "text": [
      "epoch 37 - train: 13it [00:00, 17.61it/s]"
     ]
    },
    {
     "name": "stdout",
     "output_type": "stream",
     "text": [
      "- batch loss and accuracy : 0.3291847\t1.0000\n",
      "- batch loss and accuracy : 0.3725482\t1.0000\n",
      "- batch loss and accuracy : 0.7747327\t0.3333\n"
     ]
    },
    {
     "name": "stderr",
     "output_type": "stream",
     "text": [
      "epoch 37 - train: 15it [00:00, 18.15it/s]"
     ]
    },
    {
     "name": "stdout",
     "output_type": "stream",
     "text": [
      "- batch loss and accuracy : 1.1873753\t0.3333\n",
      "- batch loss and accuracy : 1.1535393\t0.0000\n"
     ]
    },
    {
     "name": "stderr",
     "output_type": "stream",
     "text": [
      "epoch 37 - train: 18it [00:00, 20.19it/s]"
     ]
    },
    {
     "name": "stdout",
     "output_type": "stream",
     "text": [
      "- batch loss and accuracy : 0.2884755\t1.0000\n",
      "- batch loss and accuracy : 1.5602754\t0.0000\n",
      "- batch loss and accuracy : 1.1182818\t0.3333\n",
      "- batch loss and accuracy : 1.1251363\t0.0000\n"
     ]
    },
    {
     "name": "stderr",
     "output_type": "stream",
     "text": [
      "epoch 37 - train: 21it [00:01, 21.21it/s]"
     ]
    },
    {
     "name": "stdout",
     "output_type": "stream",
     "text": [
      "- batch loss and accuracy : 0.8935034\t0.0000\n"
     ]
    },
    {
     "name": "stderr",
     "output_type": "stream",
     "text": [
      "epoch 37 - train: 24it [00:01, 21.34it/s]"
     ]
    },
    {
     "name": "stdout",
     "output_type": "stream",
     "text": [
      "- batch loss and accuracy : 0.8393995\t0.6667\n",
      "- batch loss and accuracy : 0.6098042\t0.6667\n",
      "- batch loss and accuracy : 0.3308588\t1.0000\n",
      "- batch loss and accuracy : 0.3707317\t1.0000\n"
     ]
    },
    {
     "name": "stderr",
     "output_type": "stream",
     "text": [
      "epoch 37 - train: 27it [00:01, 23.22it/s]"
     ]
    },
    {
     "name": "stdout",
     "output_type": "stream",
     "text": [
      "- batch loss and accuracy : 0.3038064\t1.0000\n",
      "- batch loss and accuracy : 0.1169575\t1.0000\n",
      "- batch loss and accuracy : 2.3705375\t0.0000\n"
     ]
    },
    {
     "name": "stderr",
     "output_type": "stream",
     "text": [
      "epoch 37 - train: 31it [00:01, 26.63it/s]"
     ]
    },
    {
     "name": "stdout",
     "output_type": "stream",
     "text": [
      "- batch loss and accuracy : 0.0558627\t1.0000\n",
      "- batch loss and accuracy : 0.1748721\t1.0000\n",
      "- batch loss and accuracy : 2.9497967\t0.0000\n",
      "- batch loss and accuracy : 0.0762817\t1.0000\n"
     ]
    },
    {
     "name": "stderr",
     "output_type": "stream",
     "text": [
      "epoch 37 - train: 34it [00:01, 25.55it/s]"
     ]
    },
    {
     "name": "stdout",
     "output_type": "stream",
     "text": [
      "- batch loss and accuracy : 0.1980489\t1.0000\n",
      "- batch loss and accuracy : 2.5148878\t0.0000\n"
     ]
    },
    {
     "name": "stderr",
     "output_type": "stream",
     "text": [
      "epoch 37 - train: 37it [00:01, 25.55it/s]"
     ]
    },
    {
     "name": "stdout",
     "output_type": "stream",
     "text": [
      "- batch loss and accuracy : 1.6483854\t0.0000\n",
      "- batch loss and accuracy : 1.6837230\t0.0000\n",
      "- batch loss and accuracy : 0.6809687\t0.3333\n",
      "- batch loss and accuracy : 0.7838563\t0.3333\n",
      "- batch loss and accuracy : 1.2693673\t0.0000\n",
      "- batch loss and accuracy : 1.3787111\t0.0000\n"
     ]
    },
    {
     "name": "stderr",
     "output_type": "stream",
     "text": [
      "epoch 37 - train: 46it [00:01, 30.16it/s]"
     ]
    },
    {
     "name": "stdout",
     "output_type": "stream",
     "text": [
      "- batch loss and accuracy : 0.6660275\t0.6667\n",
      "- batch loss and accuracy : 0.8697447\t0.3333\n",
      "- batch loss and accuracy : 0.5364124\t0.6667\n",
      "- batch loss and accuracy : 0.2680269\t1.0000\n",
      "- batch loss and accuracy : 0.2004201\t1.0000\n",
      "- batch loss and accuracy : 0.1281600\t1.0000\n",
      "- batch loss and accuracy : 0.1047228\t1.0000\n"
     ]
    },
    {
     "name": "stderr",
     "output_type": "stream",
     "text": [
      "epoch 37 - train: 50it [00:02, 30.06it/s]"
     ]
    },
    {
     "name": "stdout",
     "output_type": "stream",
     "text": [
      "- batch loss and accuracy : 0.0428859\t1.0000\n",
      "- batch loss and accuracy : 0.0311488\t1.0000\n",
      "- batch loss and accuracy : 0.0089924\t1.0000\n",
      "- batch loss and accuracy : 4.7848473\t0.0000\n",
      "- batch loss and accuracy : 4.5358500\t0.0000\n",
      "- batch loss and accuracy : 4.5972433\t0.0000\n",
      "- batch loss and accuracy : 0.0400135\t1.0000\n"
     ]
    },
    {
     "name": "stderr",
     "output_type": "stream",
     "text": [
      "epoch 37 - train: 54it [00:02, 31.70it/s]"
     ]
    },
    {
     "name": "stdout",
     "output_type": "stream",
     "text": [
      "- batch loss and accuracy : 0.0189953\t1.0000\n"
     ]
    },
    {
     "name": "stderr",
     "output_type": "stream",
     "text": [
      "epoch 37 - train: 62it [00:02, 33.68it/s]"
     ]
    },
    {
     "name": "stdout",
     "output_type": "stream",
     "text": [
      "- batch loss and accuracy : 0.0478794\t1.0000\n",
      "- batch loss and accuracy : 2.4426742\t0.0000\n",
      "- batch loss and accuracy : 0.1453170\t1.0000\n",
      "- batch loss and accuracy : 0.3282481\t1.0000\n",
      "- batch loss and accuracy : 0.5270771\t1.0000\n",
      "- batch loss and accuracy : 0.5564989\t0.6667\n",
      "- batch loss and accuracy : 0.7287130\t0.6667\n"
     ]
    },
    {
     "name": "stderr",
     "output_type": "stream",
     "text": [
      "epoch 37 - train: 70it [00:02, 34.65it/s]"
     ]
    },
    {
     "name": "stdout",
     "output_type": "stream",
     "text": [
      "- batch loss and accuracy : 0.3244850\t1.0000\n",
      "- batch loss and accuracy : 0.4729187\t1.0000\n",
      "- batch loss and accuracy : 0.3199131\t1.0000\n",
      "- batch loss and accuracy : 0.1724312\t1.0000\n",
      "- batch loss and accuracy : 0.1627017\t1.0000\n",
      "- batch loss and accuracy : 0.0991870\t1.0000\n",
      "- batch loss and accuracy : 0.0641891\t1.0000\n",
      "- batch loss and accuracy : 2.5354261\t0.0000\n"
     ]
    },
    {
     "name": "stderr",
     "output_type": "stream",
     "text": [
      "epoch 37 - train: 78it [00:02, 35.19it/s]"
     ]
    },
    {
     "name": "stdout",
     "output_type": "stream",
     "text": [
      "- batch loss and accuracy : 0.0480759\t1.0000\n",
      "- batch loss and accuracy : 0.0492661\t1.0000\n",
      "- batch loss and accuracy : 3.7483459\t0.0000\n",
      "- batch loss and accuracy : 0.0701593\t1.0000\n",
      "- batch loss and accuracy : 2.1555822\t0.0000\n",
      "- batch loss and accuracy : 0.1498688\t1.0000\n",
      "- batch loss and accuracy : 0.1409696\t1.0000\n",
      "- batch loss and accuracy : 0.2175284\t1.0000\n"
     ]
    },
    {
     "name": "stderr",
     "output_type": "stream",
     "text": [
      "epoch 37 - train: 87it [00:03, 37.87it/s]"
     ]
    },
    {
     "name": "stdout",
     "output_type": "stream",
     "text": [
      "- batch loss and accuracy : 0.3652204\t1.0000\n",
      "- batch loss and accuracy : 0.2819827\t1.0000\n",
      "- batch loss and accuracy : 0.4868688\t0.6667\n",
      "- batch loss and accuracy : 0.2718804\t1.0000\n",
      "- batch loss and accuracy : 1.2675445\t0.3333\n",
      "- batch loss and accuracy : 1.6179810\t0.0000\n",
      "- batch loss and accuracy : 0.3245343\t1.0000\n",
      "- batch loss and accuracy : 1.0594414\t0.0000\n",
      "- batch loss and accuracy : 0.4913247\t1.0000\n"
     ]
    },
    {
     "name": "stderr",
     "output_type": "stream",
     "text": [
      "epoch 37 - train: 96it [00:03, 39.16it/s]"
     ]
    },
    {
     "name": "stdout",
     "output_type": "stream",
     "text": [
      "- batch loss and accuracy : 0.9119434\t0.3333\n",
      "- batch loss and accuracy : 0.9573666\t0.0000\n",
      "- batch loss and accuracy : 0.6099396\t0.6667\n",
      "- batch loss and accuracy : 0.8056609\t0.3333\n",
      "- batch loss and accuracy : 0.7265859\t0.3333\n",
      "- batch loss and accuracy : 0.9381137\t0.3333\n",
      "- batch loss and accuracy : 0.5064731\t0.6667\n",
      "- batch loss and accuracy : 0.4353920\t1.0000\n",
      "- batch loss and accuracy : 0.6855102\t0.6667\n"
     ]
    },
    {
     "name": "stderr",
     "output_type": "stream",
     "text": [
      "epoch 37 - train: 108it [00:03, 47.59it/s]"
     ]
    },
    {
     "name": "stdout",
     "output_type": "stream",
     "text": [
      "- batch loss and accuracy : 0.8074065\t0.0000\n",
      "- batch loss and accuracy : 0.7975614\t0.3333\n",
      "- batch loss and accuracy : 0.3951699\t1.0000\n",
      "- batch loss and accuracy : 0.7916923\t0.3333\n",
      "- batch loss and accuracy : 1.2082982\t0.3333\n",
      "- batch loss and accuracy : 0.7634984\t0.3333\n",
      "- batch loss and accuracy : 0.6008633\t0.6667\n",
      "- batch loss and accuracy : 0.6232598\t0.6667\n",
      "- batch loss and accuracy : 0.6669828\t0.6667\n",
      "- batch loss and accuracy : 1.6191953\t0.0000\n",
      "- batch loss and accuracy : 1.5605530\t0.0000\n",
      "- batch loss and accuracy : 1.3466053\t0.0000\n"
     ]
    },
    {
     "name": "stderr",
     "output_type": "stream",
     "text": [
      "epoch 37 - train: 113it [00:03, 46.64it/s]"
     ]
    },
    {
     "name": "stdout",
     "output_type": "stream",
     "text": [
      "- batch loss and accuracy : 0.3958551\t0.6667\n",
      "- batch loss and accuracy : 0.8954580\t0.3333\n",
      "- batch loss and accuracy : 0.8825271\t0.3333\n",
      "- batch loss and accuracy : 1.1348927\t0.3333\n",
      "- batch loss and accuracy : 1.0414441\t0.3333\n",
      "- batch loss and accuracy : 0.8821309\t0.3333\n",
      "- batch loss and accuracy : 0.5173109\t1.0000\n",
      "- batch loss and accuracy : 0.3878026\t1.0000\n"
     ]
    },
    {
     "name": "stderr",
     "output_type": "stream",
     "text": [
      "epoch 37 - train: 123it [00:03, 40.00it/s]"
     ]
    },
    {
     "name": "stdout",
     "output_type": "stream",
     "text": [
      "- batch loss and accuracy : 0.2802980\t1.0000\n",
      "- batch loss and accuracy : 0.1408907\t1.0000\n",
      "- batch loss and accuracy : 2.7582955\t0.0000\n",
      "- batch loss and accuracy : 0.1006799\t1.0000\n",
      "- batch loss and accuracy : 0.0507898\t1.0000\n",
      "- batch loss and accuracy : 2.7107396\t0.0000\n",
      "- batch loss and accuracy : 3.0573025\t0.0000\n",
      "- batch loss and accuracy : 0.0743492\t1.0000\n"
     ]
    },
    {
     "name": "stderr",
     "output_type": "stream",
     "text": [
      "epoch 37 - train: 128it [00:04, 40.68it/s]"
     ]
    },
    {
     "name": "stdout",
     "output_type": "stream",
     "text": [
      "- batch loss and accuracy : 0.1617218\t1.0000\n",
      "- batch loss and accuracy : 1.7882538\t0.0000\n",
      "- batch loss and accuracy : 0.2587297\t1.0000\n",
      "- batch loss and accuracy : 0.2600234\t1.0000\n",
      "- batch loss and accuracy : 0.5419824\t0.6667\n",
      "- batch loss and accuracy : 0.7110927\t0.3333\n",
      "- batch loss and accuracy : 0.6307625\t0.6667\n",
      "- batch loss and accuracy : 1.0801930\t0.0000\n",
      "- batch loss and accuracy : 0.5455177\t1.0000\n"
     ]
    },
    {
     "name": "stderr",
     "output_type": "stream",
     "text": [
      "epoch 37 - train: 138it [00:04, 35.30it/s]"
     ]
    },
    {
     "name": "stdout",
     "output_type": "stream",
     "text": [
      "- batch loss and accuracy : 1.0195197\t0.3333\n",
      "- batch loss and accuracy : 0.6194935\t0.6667\n",
      "- batch loss and accuracy : 0.3276445\t1.0000\n",
      "- batch loss and accuracy : 1.5866984\t0.0000\n",
      "- batch loss and accuracy : 0.5001724\t0.6667\n",
      "- batch loss and accuracy : 0.5019296\t1.0000\n",
      "- batch loss and accuracy : 0.6096317\t0.6667\n"
     ]
    },
    {
     "name": "stderr",
     "output_type": "stream",
     "text": [
      "epoch 37 - train: 148it [00:04, 38.11it/s]"
     ]
    },
    {
     "name": "stdout",
     "output_type": "stream",
     "text": [
      "- batch loss and accuracy : 0.3214071\t1.0000\n",
      "- batch loss and accuracy : 2.0048656\t0.0000\n",
      "- batch loss and accuracy : 0.1502482\t1.0000\n",
      "- batch loss and accuracy : 1.5198793\t0.0000\n",
      "- batch loss and accuracy : 0.2331330\t1.0000\n",
      "- batch loss and accuracy : 1.9268459\t0.0000\n",
      "- batch loss and accuracy : 0.4500111\t1.0000\n",
      "- batch loss and accuracy : 0.4928300\t0.6667\n"
     ]
    },
    {
     "name": "stderr",
     "output_type": "stream",
     "text": [
      "epoch 37 - train: 152it [00:04, 35.19it/s]"
     ]
    },
    {
     "name": "stdout",
     "output_type": "stream",
     "text": [
      "- batch loss and accuracy : 0.8317458\t0.6667\n",
      "- batch loss and accuracy : 0.5033506\t1.0000\n",
      "- batch loss and accuracy : 0.3013290\t1.0000\n",
      "- batch loss and accuracy : 0.2957689\t1.0000\n",
      "- batch loss and accuracy : 0.2068888\t1.0000\n",
      "- batch loss and accuracy : 1.5273027\t0.0000\n",
      "- batch loss and accuracy : 1.9569854\t0.0000\n"
     ]
    },
    {
     "name": "stderr",
     "output_type": "stream",
     "text": [
      "epoch 37 - train: 160it [00:04, 34.35it/s]"
     ]
    },
    {
     "name": "stdout",
     "output_type": "stream",
     "text": [
      "- batch loss and accuracy : 2.2299776\t0.0000\n",
      "- batch loss and accuracy : 0.3223926\t1.0000\n",
      "- batch loss and accuracy : 1.1551514\t0.0000\n",
      "- batch loss and accuracy : 0.5761199\t0.6667\n",
      "- batch loss and accuracy : 1.0716847\t0.6667\n",
      "- batch loss and accuracy : 0.7026047\t0.3333\n",
      "- batch loss and accuracy : 1.0120053\t0.0000\n"
     ]
    },
    {
     "name": "stderr",
     "output_type": "stream",
     "text": [
      "epoch 37 - train: 168it [00:05, 34.33it/s]"
     ]
    },
    {
     "name": "stdout",
     "output_type": "stream",
     "text": [
      "- batch loss and accuracy : 0.9702799\t0.3333\n",
      "- batch loss and accuracy : 0.6148669\t0.3333\n",
      "- batch loss and accuracy : 0.7299420\t0.6667\n",
      "- batch loss and accuracy : 0.8762691\t0.3333\n",
      "- batch loss and accuracy : 0.7030096\t0.3333\n",
      "- batch loss and accuracy : 0.5215895\t0.6667\n",
      "- batch loss and accuracy : 1.6345358\t0.0000\n",
      "- batch loss and accuracy : 0.2853859\t1.0000\n"
     ]
    },
    {
     "name": "stderr",
     "output_type": "stream",
     "text": [
      "epoch 37 - train: 177it [00:05, 36.44it/s]"
     ]
    },
    {
     "name": "stdout",
     "output_type": "stream",
     "text": [
      "- batch loss and accuracy : 0.1575053\t1.0000\n",
      "- batch loss and accuracy : 2.4435582\t0.0000\n",
      "- batch loss and accuracy : 0.1539948\t1.0000\n",
      "- batch loss and accuracy : 0.0839220\t1.0000\n",
      "- batch loss and accuracy : 0.2270300\t1.0000\n",
      "- batch loss and accuracy : 0.0833901\t1.0000\n",
      "- batch loss and accuracy : 0.0890677\t1.0000\n",
      "- batch loss and accuracy : 0.0576792\t1.0000\n"
     ]
    },
    {
     "name": "stderr",
     "output_type": "stream",
     "text": [
      "epoch 37 - train: 185it [00:05, 37.52it/s]"
     ]
    },
    {
     "name": "stdout",
     "output_type": "stream",
     "text": [
      "- batch loss and accuracy : 2.6832986\t0.0000\n",
      "- batch loss and accuracy : 0.1379151\t1.0000\n",
      "- batch loss and accuracy : 0.0689268\t1.0000\n",
      "- batch loss and accuracy : 0.0595244\t1.0000\n",
      "- batch loss and accuracy : 0.1106786\t1.0000\n",
      "- batch loss and accuracy : 0.0929862\t1.0000\n",
      "- batch loss and accuracy : 0.1351493\t1.0000\n",
      "- batch loss and accuracy : 2.1109664\t0.0000\n",
      "- batch loss and accuracy : 0.1138352\t1.0000\n"
     ]
    },
    {
     "name": "stderr",
     "output_type": "stream",
     "text": [
      "epoch 37 - train: 195it [00:05, 39.18it/s]"
     ]
    },
    {
     "name": "stdout",
     "output_type": "stream",
     "text": [
      "- batch loss and accuracy : 0.2129900\t1.0000\n",
      "- batch loss and accuracy : 1.7360170\t0.0000\n",
      "- batch loss and accuracy : 1.1094990\t0.0000\n",
      "- batch loss and accuracy : 1.0519046\t0.0000\n",
      "- batch loss and accuracy : 0.6096004\t0.6667\n",
      "- batch loss and accuracy : 0.3272977\t1.0000\n",
      "- batch loss and accuracy : 1.9192088\t0.0000\n",
      "- batch loss and accuracy : 1.7637714\t0.0000\n"
     ]
    },
    {
     "name": "stderr",
     "output_type": "stream",
     "text": [
      "epoch 37 - train: 200it [00:05, 40.42it/s]"
     ]
    },
    {
     "name": "stdout",
     "output_type": "stream",
     "text": [
      "- batch loss and accuracy : 0.1081848\t1.0000\n",
      "- batch loss and accuracy : 2.9318566\t0.0000\n",
      "- batch loss and accuracy : 2.2871284\t0.0000\n",
      "- batch loss and accuracy : 1.8595791\t0.0000\n",
      "- batch loss and accuracy : 1.3804401\t0.0000\n",
      "- batch loss and accuracy : 0.7389445\t0.6667\n",
      "- batch loss and accuracy : 1.9476786\t0.0000\n",
      "- batch loss and accuracy : 0.2173956\t1.0000\n",
      "- batch loss and accuracy : 0.0997032\t1.0000\n",
      "- batch loss and accuracy : 0.0318040\t1.0000\n"
     ]
    },
    {
     "name": "stderr",
     "output_type": "stream",
     "text": [
      "epoch 37 - train: 211it [00:06, 41.05it/s]"
     ]
    },
    {
     "name": "stdout",
     "output_type": "stream",
     "text": [
      "- batch loss and accuracy : 0.0433859\t1.0000\n",
      "- batch loss and accuracy : 0.0252422\t1.0000\n",
      "- batch loss and accuracy : 0.0133916\t1.0000\n",
      "- batch loss and accuracy : 0.0132865\t1.0000\n",
      "- batch loss and accuracy : 0.0060138\t1.0000\n",
      "- batch loss and accuracy : 0.0041630\t1.0000\n",
      "- batch loss and accuracy : 0.0024184\t1.0000\n",
      "- batch loss and accuracy : 5.8213377\t0.0000\n"
     ]
    },
    {
     "name": "stderr",
     "output_type": "stream",
     "text": [
      "epoch 37 - train: 216it [00:06, 39.96it/s]"
     ]
    },
    {
     "name": "stdout",
     "output_type": "stream",
     "text": [
      "- batch loss and accuracy : 6.8696785\t0.0000\n",
      "- batch loss and accuracy : 0.0033218\t1.0000\n",
      "- batch loss and accuracy : 0.0067176\t1.0000\n",
      "- batch loss and accuracy : 0.0080826\t1.0000\n",
      "- batch loss and accuracy : 4.5326996\t0.0000\n",
      "- batch loss and accuracy : 0.0254254\t1.0000\n",
      "- batch loss and accuracy : 3.2476375\t0.0000\n"
     ]
    },
    {
     "name": "stderr",
     "output_type": "stream",
     "text": [
      "epoch 37 - train: 227it [00:06, 42.16it/s]"
     ]
    },
    {
     "name": "stdout",
     "output_type": "stream",
     "text": [
      "- batch loss and accuracy : 2.6620290\t0.0000\n",
      "- batch loss and accuracy : 0.3323317\t1.0000\n",
      "- batch loss and accuracy : 0.6442014\t0.3333\n",
      "- batch loss and accuracy : 0.9523791\t0.3333\n",
      "- batch loss and accuracy : 0.6370388\t0.3333\n",
      "- batch loss and accuracy : 1.8217262\t0.0000\n",
      "- batch loss and accuracy : 0.3872842\t1.0000\n",
      "- batch loss and accuracy : 0.1692769\t1.0000\n",
      "- batch loss and accuracy : 1.9531479\t0.0000\n",
      "- batch loss and accuracy : 2.1507480\t0.0000\n"
     ]
    },
    {
     "name": "stderr",
     "output_type": "stream",
     "text": [
      "epoch 37 - train: 237it [00:06, 41.23it/s]"
     ]
    },
    {
     "name": "stdout",
     "output_type": "stream",
     "text": [
      "- batch loss and accuracy : 1.3350334\t0.0000\n",
      "- batch loss and accuracy : 1.3587459\t0.0000\n",
      "- batch loss and accuracy : 0.7504231\t0.6667\n",
      "- batch loss and accuracy : 1.1477919\t0.3333\n",
      "- batch loss and accuracy : 1.9388323\t0.0000\n",
      "- batch loss and accuracy : 2.1915464\t0.0000\n",
      "- batch loss and accuracy : 1.8855299\t0.0000\n",
      "- batch loss and accuracy : 0.2456588\t1.0000\n",
      "- batch loss and accuracy : 0.4917350\t0.6667\n"
     ]
    },
    {
     "name": "stderr",
     "output_type": "stream",
     "text": [
      "epoch 37 - train: 247it [00:07, 43.89it/s]"
     ]
    },
    {
     "name": "stdout",
     "output_type": "stream",
     "text": [
      "- batch loss and accuracy : 0.3996893\t1.0000\n",
      "- batch loss and accuracy : 0.4081714\t0.6667\n",
      "- batch loss and accuracy : 0.3992720\t1.0000\n",
      "- batch loss and accuracy : 0.3254571\t1.0000\n",
      "- batch loss and accuracy : 0.2279733\t1.0000\n",
      "- batch loss and accuracy : 0.2160825\t1.0000\n",
      "- batch loss and accuracy : 0.0898540\t1.0000\n",
      "- batch loss and accuracy : 0.1179242\t1.0000\n",
      "- batch loss and accuracy : 0.0411514\t1.0000\n",
      "- batch loss and accuracy : 0.0649692\t1.0000\n"
     ]
    },
    {
     "name": "stderr",
     "output_type": "stream",
     "text": [
      "epoch 37 - train: 249it [00:07, 34.66it/s]\n",
      "epoch 37 - validation: 100%|██████████| 63/63 [00:01<00:00, 57.41it/s]\n"
     ]
    },
    {
     "name": "stdout",
     "output_type": "stream",
     "text": [
      "Validation loss and accuracy : 1.2464064\t0.7143\n",
      "EPOCH 38\n"
     ]
    },
    {
     "name": "stderr",
     "output_type": "stream",
     "text": [
      "epoch 38 - train: 2it [00:00, 19.04it/s]"
     ]
    },
    {
     "name": "stdout",
     "output_type": "stream",
     "text": [
      "- batch loss and accuracy : 0.0519577\t1.0000\n",
      "- batch loss and accuracy : 0.0179408\t1.0000\n",
      "- batch loss and accuracy : 4.0468321\t0.0000\n",
      "- batch loss and accuracy : 0.0131992\t1.0000\n"
     ]
    },
    {
     "name": "stderr",
     "output_type": "stream",
     "text": [
      "epoch 38 - train: 7it [00:00, 35.86it/s]"
     ]
    },
    {
     "name": "stdout",
     "output_type": "stream",
     "text": [
      "- batch loss and accuracy : 0.0179592\t1.0000\n",
      "- batch loss and accuracy : 0.0149870\t1.0000\n",
      "- batch loss and accuracy : 4.0788918\t0.0000\n",
      "- batch loss and accuracy : 0.0365947\t1.0000\n",
      "- batch loss and accuracy : 0.0851603\t1.0000\n",
      "- batch loss and accuracy : 0.0613150\t1.0000\n",
      "- batch loss and accuracy : 0.0721553\t1.0000\n"
     ]
    },
    {
     "name": "stderr",
     "output_type": "stream",
     "text": [
      "epoch 38 - train: 12it [00:00, 41.74it/s]"
     ]
    },
    {
     "name": "stdout",
     "output_type": "stream",
     "text": [
      "- batch loss and accuracy : 2.8714476\t0.0000\n",
      "- batch loss and accuracy : 0.1810561\t1.0000\n",
      "- batch loss and accuracy : 0.2221922\t1.0000\n",
      "- batch loss and accuracy : 0.2805221\t1.0000\n"
     ]
    },
    {
     "name": "stderr",
     "output_type": "stream",
     "text": [
      "epoch 38 - train: 18it [00:00, 48.00it/s]"
     ]
    },
    {
     "name": "stdout",
     "output_type": "stream",
     "text": [
      "- batch loss and accuracy : 1.4188404\t0.0000\n",
      "- batch loss and accuracy : 0.3462858\t1.0000\n",
      "- batch loss and accuracy : 1.0402193\t0.3333\n",
      "- batch loss and accuracy : 0.9442707\t0.3333\n",
      "- batch loss and accuracy : 1.3138949\t0.0000\n",
      "- batch loss and accuracy : 0.6431838\t0.6667\n",
      "- batch loss and accuracy : 0.6257898\t0.6667\n",
      "- batch loss and accuracy : 1.2080944\t0.0000\n"
     ]
    },
    {
     "name": "stderr",
     "output_type": "stream",
     "text": [
      "epoch 38 - train: 24it [00:00, 51.79it/s]"
     ]
    },
    {
     "name": "stdout",
     "output_type": "stream",
     "text": [
      "- batch loss and accuracy : 0.5498972\t0.6667\n",
      "- batch loss and accuracy : 1.4821413\t0.3333\n",
      "- batch loss and accuracy : 0.4846532\t1.0000\n",
      "- batch loss and accuracy : 0.2732282\t1.0000\n"
     ]
    },
    {
     "name": "stderr",
     "output_type": "stream",
     "text": [
      "epoch 38 - train: 30it [00:00, 48.46it/s]"
     ]
    },
    {
     "name": "stdout",
     "output_type": "stream",
     "text": [
      "- batch loss and accuracy : 0.2931099\t1.0000\n",
      "- batch loss and accuracy : 1.8445613\t0.0000\n",
      "- batch loss and accuracy : 0.9810487\t0.0000\n",
      "- batch loss and accuracy : 0.3908648\t1.0000\n",
      "- batch loss and accuracy : 0.7540876\t0.3333\n",
      "- batch loss and accuracy : 0.4278881\t1.0000\n"
     ]
    },
    {
     "name": "stderr",
     "output_type": "stream",
     "text": [
      "epoch 38 - train: 36it [00:00, 48.69it/s]"
     ]
    },
    {
     "name": "stdout",
     "output_type": "stream",
     "text": [
      "- batch loss and accuracy : 0.4690418\t1.0000\n",
      "- batch loss and accuracy : 1.7521110\t0.0000\n",
      "- batch loss and accuracy : 1.5724878\t0.0000\n",
      "- batch loss and accuracy : 0.4130557\t1.0000\n"
     ]
    },
    {
     "name": "stderr",
     "output_type": "stream",
     "text": [
      "epoch 38 - train: 41it [00:00, 48.81it/s]"
     ]
    },
    {
     "name": "stdout",
     "output_type": "stream",
     "text": [
      "- batch loss and accuracy : 0.3861434\t1.0000\n",
      "- batch loss and accuracy : 0.3299286\t1.0000\n",
      "- batch loss and accuracy : 0.4354774\t1.0000\n",
      "- batch loss and accuracy : 0.3909829\t0.6667\n",
      "- batch loss and accuracy : 0.3023858\t1.0000\n",
      "- batch loss and accuracy : 0.2206318\t1.0000\n",
      "- batch loss and accuracy : 2.1755857\t0.0000\n"
     ]
    },
    {
     "name": "stderr",
     "output_type": "stream",
     "text": [
      "epoch 38 - train: 46it [00:00, 46.91it/s]"
     ]
    },
    {
     "name": "stdout",
     "output_type": "stream",
     "text": [
      "- batch loss and accuracy : 1.3468435\t0.0000\n",
      "- batch loss and accuracy : 1.7371254\t0.0000\n",
      "- batch loss and accuracy : 0.9859788\t0.3333\n"
     ]
    },
    {
     "name": "stderr",
     "output_type": "stream",
     "text": [
      "epoch 38 - train: 52it [00:01, 49.11it/s]"
     ]
    },
    {
     "name": "stdout",
     "output_type": "stream",
     "text": [
      "- batch loss and accuracy : 0.6585705\t0.6667\n",
      "- batch loss and accuracy : 0.8791496\t0.3333\n",
      "- batch loss and accuracy : 1.1529144\t0.0000\n",
      "- batch loss and accuracy : 1.5208194\t0.0000\n",
      "- batch loss and accuracy : 1.4122474\t0.0000\n",
      "- batch loss and accuracy : 0.5632737\t0.6667\n",
      "- batch loss and accuracy : 0.4520412\t1.0000\n",
      "- batch loss and accuracy : 0.3389208\t1.0000\n",
      "- batch loss and accuracy : 1.3638614\t0.0000\n"
     ]
    },
    {
     "name": "stderr",
     "output_type": "stream",
     "text": [
      "epoch 38 - train: 65it [00:01, 51.45it/s]"
     ]
    },
    {
     "name": "stdout",
     "output_type": "stream",
     "text": [
      "- batch loss and accuracy : 0.7996793\t0.3333\n",
      "- batch loss and accuracy : 0.9365749\t0.3333\n",
      "- batch loss and accuracy : 0.8613440\t0.6667\n",
      "- batch loss and accuracy : 0.3098928\t1.0000\n",
      "- batch loss and accuracy : 0.1443055\t1.0000\n",
      "- batch loss and accuracy : 0.1742682\t1.0000\n",
      "- batch loss and accuracy : 2.8400812\t0.0000\n",
      "- batch loss and accuracy : 0.0571795\t1.0000\n",
      "- batch loss and accuracy : 0.0510659\t1.0000\n",
      "- batch loss and accuracy : 0.0174465\t1.0000\n",
      "- batch loss and accuracy : 0.0600490\t1.0000\n",
      "- batch loss and accuracy : 0.0148331\t1.0000\n",
      "- batch loss and accuracy : 4.2367983\t0.0000\n"
     ]
    },
    {
     "name": "stderr",
     "output_type": "stream",
     "text": [
      "epoch 38 - train: 78it [00:01, 53.02it/s]"
     ]
    },
    {
     "name": "stdout",
     "output_type": "stream",
     "text": [
      "- batch loss and accuracy : 4.4493141\t0.0000\n",
      "- batch loss and accuracy : 3.8867195\t0.0000\n",
      "- batch loss and accuracy : 0.0472347\t1.0000\n",
      "- batch loss and accuracy : 0.1748604\t1.0000\n",
      "- batch loss and accuracy : 0.1866522\t1.0000\n",
      "- batch loss and accuracy : 0.3637748\t1.0000\n",
      "- batch loss and accuracy : 1.4740222\t0.3333\n",
      "- batch loss and accuracy : 0.7021847\t0.6667\n",
      "- batch loss and accuracy : 0.9040798\t0.0000\n",
      "- batch loss and accuracy : 0.3202044\t1.0000\n",
      "- batch loss and accuracy : 1.4445517\t0.0000\n"
     ]
    },
    {
     "name": "stderr",
     "output_type": "stream",
     "text": [
      "epoch 38 - train: 84it [00:01, 51.35it/s]"
     ]
    },
    {
     "name": "stdout",
     "output_type": "stream",
     "text": [
      "- batch loss and accuracy : 0.2326744\t1.0000\n",
      "- batch loss and accuracy : 0.2901803\t1.0000\n",
      "- batch loss and accuracy : 0.1331213\t1.0000\n",
      "- batch loss and accuracy : 2.0540748\t0.0000\n",
      "- batch loss and accuracy : 2.5481129\t0.0000\n",
      "- batch loss and accuracy : 2.2030511\t0.0000\n",
      "- batch loss and accuracy : 0.3334637\t1.0000\n",
      "- batch loss and accuracy : 0.5247810\t1.0000\n",
      "- batch loss and accuracy : 0.5442161\t1.0000\n",
      "- batch loss and accuracy : 0.8426378\t0.3333\n"
     ]
    },
    {
     "name": "stderr",
     "output_type": "stream",
     "text": [
      "epoch 38 - train: 90it [00:01, 53.19it/s]"
     ]
    },
    {
     "name": "stdout",
     "output_type": "stream",
     "text": [
      "- batch loss and accuracy : 1.0574589\t0.3333\n",
      "- batch loss and accuracy : 0.4433663\t0.6667\n"
     ]
    },
    {
     "name": "stderr",
     "output_type": "stream",
     "text": [
      "epoch 38 - train: 97it [00:01, 55.65it/s]"
     ]
    },
    {
     "name": "stdout",
     "output_type": "stream",
     "text": [
      "- batch loss and accuracy : 0.7820393\t0.3333\n",
      "- batch loss and accuracy : 1.2980627\t0.0000\n",
      "- batch loss and accuracy : 1.1963025\t0.0000\n",
      "- batch loss and accuracy : 0.4752625\t1.0000\n",
      "- batch loss and accuracy : 0.3328213\t1.0000\n",
      "- batch loss and accuracy : 0.2073879\t1.0000\n",
      "- batch loss and accuracy : 1.2836860\t0.0000\n",
      "- batch loss and accuracy : 0.5371692\t0.6667\n",
      "- batch loss and accuracy : 0.4048128\t1.0000\n",
      "- batch loss and accuracy : 0.3845890\t1.0000\n",
      "- batch loss and accuracy : 0.3144599\t1.0000\n"
     ]
    },
    {
     "name": "stderr",
     "output_type": "stream",
     "text": [
      "epoch 38 - train: 104it [00:02, 58.84it/s]"
     ]
    },
    {
     "name": "stdout",
     "output_type": "stream",
     "text": [
      "- batch loss and accuracy : 0.2301680\t1.0000\n",
      "- batch loss and accuracy : 0.1934595\t1.0000\n"
     ]
    },
    {
     "name": "stderr",
     "output_type": "stream",
     "text": [
      "epoch 38 - train: 110it [00:02, 57.42it/s]"
     ]
    },
    {
     "name": "stdout",
     "output_type": "stream",
     "text": [
      "- batch loss and accuracy : 0.1120558\t1.0000\n",
      "- batch loss and accuracy : 0.0739225\t1.0000\n",
      "- batch loss and accuracy : 3.0255899\t0.0000\n",
      "- batch loss and accuracy : 0.0446015\t1.0000\n",
      "- batch loss and accuracy : 3.5545785\t0.0000\n",
      "- batch loss and accuracy : 0.0676150\t1.0000\n",
      "- batch loss and accuracy : 0.1469180\t1.0000\n",
      "- batch loss and accuracy : 0.1010554\t1.0000\n",
      "- batch loss and accuracy : 0.1211368\t1.0000\n"
     ]
    },
    {
     "name": "stderr",
     "output_type": "stream",
     "text": [
      "epoch 38 - train: 116it [00:02, 56.67it/s]"
     ]
    },
    {
     "name": "stdout",
     "output_type": "stream",
     "text": [
      "- batch loss and accuracy : 0.1631035\t1.0000\n",
      "- batch loss and accuracy : 0.1347296\t1.0000\n",
      "- batch loss and accuracy : 0.1692071\t1.0000\n"
     ]
    },
    {
     "name": "stderr",
     "output_type": "stream",
     "text": [
      "epoch 38 - train: 122it [00:02, 50.82it/s]"
     ]
    },
    {
     "name": "stdout",
     "output_type": "stream",
     "text": [
      "- batch loss and accuracy : 2.6759498\t0.0000\n",
      "- batch loss and accuracy : 0.1760908\t1.0000\n",
      "- batch loss and accuracy : 1.7266996\t0.0000\n",
      "- batch loss and accuracy : 0.2909441\t1.0000\n",
      "- batch loss and accuracy : 1.6395402\t0.3333\n",
      "- batch loss and accuracy : 0.6225202\t0.6667\n",
      "- batch loss and accuracy : 0.7738250\t0.3333\n",
      "- batch loss and accuracy : 1.3543835\t0.0000\n",
      "- batch loss and accuracy : 1.5693192\t0.3333\n",
      "- batch loss and accuracy : 0.8479950\t0.6667\n"
     ]
    },
    {
     "name": "stderr",
     "output_type": "stream",
     "text": [
      "epoch 38 - train: 135it [00:02, 56.41it/s]"
     ]
    },
    {
     "name": "stdout",
     "output_type": "stream",
     "text": [
      "- batch loss and accuracy : 0.8597672\t0.3333\n",
      "- batch loss and accuracy : 0.9595560\t0.3333\n",
      "- batch loss and accuracy : 0.7163428\t0.3333\n",
      "- batch loss and accuracy : 0.9391469\t0.0000\n",
      "- batch loss and accuracy : 1.1415765\t0.0000\n",
      "- batch loss and accuracy : 0.7257813\t0.3333\n",
      "- batch loss and accuracy : 0.5318501\t0.6667\n",
      "- batch loss and accuracy : 0.9024832\t0.3333\n",
      "- batch loss and accuracy : 1.6148146\t0.0000\n",
      "- batch loss and accuracy : 1.4000777\t0.0000\n",
      "- batch loss and accuracy : 0.7336475\t0.3333\n",
      "- batch loss and accuracy : 0.7604351\t0.6667\n",
      "- batch loss and accuracy : 0.4472377\t1.0000\n"
     ]
    },
    {
     "name": "stderr",
     "output_type": "stream",
     "text": [
      "epoch 38 - train: 147it [00:02, 55.14it/s]"
     ]
    },
    {
     "name": "stdout",
     "output_type": "stream",
     "text": [
      "- batch loss and accuracy : 0.1816685\t1.0000\n",
      "- batch loss and accuracy : 0.0922193\t1.0000\n",
      "- batch loss and accuracy : 0.0905912\t1.0000\n",
      "- batch loss and accuracy : 0.0278471\t1.0000\n",
      "- batch loss and accuracy : 0.0200872\t1.0000\n",
      "- batch loss and accuracy : 0.0110604\t1.0000\n",
      "- batch loss and accuracy : 5.5183849\t0.0000\n",
      "- batch loss and accuracy : 0.0041626\t1.0000\n",
      "- batch loss and accuracy : 5.2092323\t0.0000\n",
      "- batch loss and accuracy : 0.0056092\t1.0000\n",
      "- batch loss and accuracy : 4.8711863\t0.0000\n",
      "- batch loss and accuracy : 4.1522493\t0.0000\n"
     ]
    },
    {
     "name": "stderr",
     "output_type": "stream",
     "text": [
      "epoch 38 - train: 160it [00:03, 59.67it/s]"
     ]
    },
    {
     "name": "stdout",
     "output_type": "stream",
     "text": [
      "- batch loss and accuracy : 0.0356517\t1.0000\n",
      "- batch loss and accuracy : 0.0603011\t1.0000\n",
      "- batch loss and accuracy : 0.1442844\t1.0000\n",
      "- batch loss and accuracy : 2.0423660\t0.0000\n",
      "- batch loss and accuracy : 0.3953266\t1.0000\n",
      "- batch loss and accuracy : 0.4758514\t1.0000\n",
      "- batch loss and accuracy : 0.5072295\t1.0000\n",
      "- batch loss and accuracy : 0.9006886\t0.0000\n",
      "- batch loss and accuracy : 0.5206089\t0.6667\n",
      "- batch loss and accuracy : 1.8997955\t0.0000\n",
      "- batch loss and accuracy : 1.5809906\t0.0000\n",
      "- batch loss and accuracy : 1.5296822\t0.0000\n"
     ]
    },
    {
     "name": "stderr",
     "output_type": "stream",
     "text": [
      "epoch 38 - train: 167it [00:03, 55.96it/s]"
     ]
    },
    {
     "name": "stdout",
     "output_type": "stream",
     "text": [
      "- batch loss and accuracy : 1.0148082\t0.0000\n",
      "- batch loss and accuracy : 0.6830270\t0.3333\n",
      "- batch loss and accuracy : 0.6334677\t0.6667\n",
      "- batch loss and accuracy : 0.1368384\t1.0000\n",
      "- batch loss and accuracy : 0.0707875\t1.0000\n",
      "- batch loss and accuracy : 0.0369296\t1.0000\n",
      "- batch loss and accuracy : 0.0134943\t1.0000\n",
      "- batch loss and accuracy : 4.1205955\t0.0000\n",
      "- batch loss and accuracy : 4.5321321\t0.0000\n",
      "- batch loss and accuracy : 4.9721880\t0.0000\n"
     ]
    },
    {
     "name": "stderr",
     "output_type": "stream",
     "text": [
      "epoch 38 - train: 174it [00:03, 58.52it/s]"
     ]
    },
    {
     "name": "stdout",
     "output_type": "stream",
     "text": [
      "- batch loss and accuracy : 0.0177899\t1.0000\n",
      "- batch loss and accuracy : 3.7768800\t0.0000\n",
      "- batch loss and accuracy : 2.9010291\t0.0000\n"
     ]
    },
    {
     "name": "stderr",
     "output_type": "stream",
     "text": [
      "epoch 38 - train: 181it [00:03, 59.56it/s]"
     ]
    },
    {
     "name": "stdout",
     "output_type": "stream",
     "text": [
      "- batch loss and accuracy : 0.0760236\t1.0000\n",
      "- batch loss and accuracy : 0.5810650\t0.6667\n",
      "- batch loss and accuracy : 0.9833910\t0.0000\n",
      "- batch loss and accuracy : 1.1078479\t0.3333\n",
      "- batch loss and accuracy : 1.7168059\t0.0000\n",
      "- batch loss and accuracy : 0.2653258\t1.0000\n",
      "- batch loss and accuracy : 1.4632137\t0.0000\n",
      "- batch loss and accuracy : 1.7683580\t0.0000\n",
      "- batch loss and accuracy : 1.3184775\t0.0000\n",
      "- batch loss and accuracy : 1.0803336\t0.0000\n"
     ]
    },
    {
     "name": "stderr",
     "output_type": "stream",
     "text": [
      "epoch 38 - train: 188it [00:03, 59.71it/s]"
     ]
    },
    {
     "name": "stdout",
     "output_type": "stream",
     "text": [
      "- batch loss and accuracy : 0.5295770\t0.6667\n",
      "- batch loss and accuracy : 0.2723415\t1.0000\n"
     ]
    },
    {
     "name": "stderr",
     "output_type": "stream",
     "text": [
      "epoch 38 - train: 195it [00:03, 56.65it/s]"
     ]
    },
    {
     "name": "stdout",
     "output_type": "stream",
     "text": [
      "- batch loss and accuracy : 2.0848777\t0.0000\n",
      "- batch loss and accuracy : 0.0793194\t1.0000\n",
      "- batch loss and accuracy : 0.0579983\t1.0000\n",
      "- batch loss and accuracy : 3.0640659\t0.0000\n",
      "- batch loss and accuracy : 3.4640522\t0.0000\n",
      "- batch loss and accuracy : 0.0366619\t1.0000\n",
      "- batch loss and accuracy : 0.0934243\t1.0000\n",
      "- batch loss and accuracy : 0.0596228\t1.0000\n",
      "- batch loss and accuracy : 0.1221470\t1.0000\n",
      "- batch loss and accuracy : 0.1109028\t1.0000\n"
     ]
    },
    {
     "name": "stderr",
     "output_type": "stream",
     "text": [
      "epoch 38 - train: 208it [00:03, 55.23it/s]"
     ]
    },
    {
     "name": "stdout",
     "output_type": "stream",
     "text": [
      "- batch loss and accuracy : 2.1492324\t0.0000\n",
      "- batch loss and accuracy : 0.1423804\t1.0000\n",
      "- batch loss and accuracy : 0.1872604\t1.0000\n",
      "- batch loss and accuracy : 0.2723785\t1.0000\n",
      "- batch loss and accuracy : 1.6428192\t0.0000\n",
      "- batch loss and accuracy : 1.0913653\t0.3333\n",
      "- batch loss and accuracy : 0.6215666\t0.6667\n",
      "- batch loss and accuracy : 0.6070313\t0.6667\n",
      "- batch loss and accuracy : 1.4775246\t0.0000\n",
      "- batch loss and accuracy : 0.5534348\t1.0000\n",
      "- batch loss and accuracy : 1.6097893\t0.0000\n",
      "- batch loss and accuracy : 1.0768799\t0.0000\n",
      "- batch loss and accuracy : 0.9949598\t0.0000\n"
     ]
    },
    {
     "name": "stderr",
     "output_type": "stream",
     "text": [
      "epoch 38 - train: 223it [00:04, 61.04it/s]"
     ]
    },
    {
     "name": "stdout",
     "output_type": "stream",
     "text": [
      "- batch loss and accuracy : 0.9714371\t0.3333\n",
      "- batch loss and accuracy : 0.4597969\t1.0000\n",
      "- batch loss and accuracy : 0.1739005\t1.0000\n",
      "- batch loss and accuracy : 0.2010762\t1.0000\n",
      "- batch loss and accuracy : 0.0739290\t1.0000\n",
      "- batch loss and accuracy : 0.0406987\t1.0000\n",
      "- batch loss and accuracy : 3.9797895\t0.0000\n",
      "- batch loss and accuracy : 0.0220901\t1.0000\n",
      "- batch loss and accuracy : 4.5779529\t0.0000\n",
      "- batch loss and accuracy : 0.0188446\t1.0000\n",
      "- batch loss and accuracy : 0.0257006\t1.0000\n",
      "- batch loss and accuracy : 0.0185764\t1.0000\n",
      "- batch loss and accuracy : 0.0417956\t1.0000\n",
      "- batch loss and accuracy : 0.0505821\t1.0000\n",
      "- batch loss and accuracy : 3.7986648\t0.0000\n"
     ]
    },
    {
     "name": "stderr",
     "output_type": "stream",
     "text": [
      "epoch 38 - train: 237it [00:04, 60.54it/s]"
     ]
    },
    {
     "name": "stdout",
     "output_type": "stream",
     "text": [
      "- batch loss and accuracy : 0.0505998\t1.0000\n",
      "- batch loss and accuracy : 2.5879054\t0.0000\n",
      "- batch loss and accuracy : 0.1036787\t1.0000\n",
      "- batch loss and accuracy : 0.2247201\t1.0000\n",
      "- batch loss and accuracy : 0.3165464\t1.0000\n",
      "- batch loss and accuracy : 0.5954691\t0.6667\n",
      "- batch loss and accuracy : 0.4476728\t1.0000\n",
      "- batch loss and accuracy : 1.2540021\t0.0000\n",
      "- batch loss and accuracy : 0.5350834\t0.6667\n",
      "- batch loss and accuracy : 0.5713217\t0.6667\n",
      "- batch loss and accuracy : 0.4400083\t1.0000\n",
      "- batch loss and accuracy : 0.4915923\t1.0000\n"
     ]
    },
    {
     "name": "stderr",
     "output_type": "stream",
     "text": [
      "epoch 38 - train: 244it [00:04, 60.25it/s]"
     ]
    },
    {
     "name": "stdout",
     "output_type": "stream",
     "text": [
      "- batch loss and accuracy : 0.3390524\t1.0000\n",
      "- batch loss and accuracy : 0.2167297\t1.0000\n",
      "- batch loss and accuracy : 1.8425001\t0.0000\n",
      "- batch loss and accuracy : 0.1273392\t1.0000\n",
      "- batch loss and accuracy : 0.0972709\t1.0000\n",
      "- batch loss and accuracy : 0.1070454\t1.0000\n",
      "- batch loss and accuracy : 0.1527159\t1.0000\n",
      "- batch loss and accuracy : 0.0726694\t1.0000\n",
      "- batch loss and accuracy : 0.0484518\t1.0000\n",
      "- batch loss and accuracy : 0.0350265\t1.0000\n"
     ]
    },
    {
     "name": "stderr",
     "output_type": "stream",
     "text": [
      "epoch 38 - train: 249it [00:04, 53.84it/s]\n",
      "epoch 38 - validation: 100%|██████████| 63/63 [00:00<00:00, 72.39it/s]"
     ]
    },
    {
     "name": "stdout",
     "output_type": "stream",
     "text": [
      "Validation loss and accuracy : 1.0925767\t0.7143\n",
      "EPOCH 39\n"
     ]
    },
    {
     "name": "stderr",
     "output_type": "stream",
     "text": [
      "\n",
      "epoch 39 - train: 4it [00:00, 36.68it/s]"
     ]
    },
    {
     "name": "stdout",
     "output_type": "stream",
     "text": [
      "- batch loss and accuracy : 3.6579225\t0.0000\n",
      "- batch loss and accuracy : 3.0230498\t0.0000\n",
      "- batch loss and accuracy : 2.6025522\t0.0000\n",
      "- batch loss and accuracy : 0.1169774\t1.0000\n",
      "- batch loss and accuracy : 0.4123746\t0.6667\n",
      "- batch loss and accuracy : 1.1539165\t0.0000\n",
      "- batch loss and accuracy : 0.6496991\t0.3333\n",
      "- batch loss and accuracy : 0.8562244\t0.3333\n"
     ]
    },
    {
     "name": "stderr",
     "output_type": "stream",
     "text": [
      "epoch 39 - train: 11it [00:00, 54.53it/s]"
     ]
    },
    {
     "name": "stdout",
     "output_type": "stream",
     "text": [
      "- batch loss and accuracy : 1.0553701\t0.0000\n",
      "- batch loss and accuracy : 1.2118402\t0.0000\n",
      "- batch loss and accuracy : 0.2914187\t1.0000\n",
      "- batch loss and accuracy : 0.9395904\t0.0000\n",
      "- batch loss and accuracy : 0.9305949\t0.3333\n"
     ]
    },
    {
     "name": "stderr",
     "output_type": "stream",
     "text": [
      "epoch 39 - train: 17it [00:00, 47.76it/s]"
     ]
    },
    {
     "name": "stdout",
     "output_type": "stream",
     "text": [
      "- batch loss and accuracy : 1.2047547\t0.0000\n",
      "- batch loss and accuracy : 0.9510883\t0.3333\n",
      "- batch loss and accuracy : 0.6064197\t0.6667\n",
      "- batch loss and accuracy : 1.2964071\t0.0000\n",
      "- batch loss and accuracy : 1.6543388\t0.0000\n"
     ]
    },
    {
     "name": "stderr",
     "output_type": "stream",
     "text": [
      "epoch 39 - train: 22it [00:00, 46.44it/s]"
     ]
    },
    {
     "name": "stdout",
     "output_type": "stream",
     "text": [
      "- batch loss and accuracy : 1.7764874\t0.0000\n",
      "- batch loss and accuracy : 0.2124867\t1.0000\n",
      "- batch loss and accuracy : 0.3261282\t1.0000\n",
      "- batch loss and accuracy : 0.1519920\t1.0000\n"
     ]
    },
    {
     "name": "stderr",
     "output_type": "stream",
     "text": [
      "epoch 39 - train: 29it [00:00, 53.40it/s]"
     ]
    },
    {
     "name": "stdout",
     "output_type": "stream",
     "text": [
      "- batch loss and accuracy : 0.2295023\t1.0000\n",
      "- batch loss and accuracy : 2.0335281\t0.0000\n",
      "- batch loss and accuracy : 0.3022134\t1.0000\n",
      "- batch loss and accuracy : 0.1590472\t1.0000\n",
      "- batch loss and accuracy : 0.2007835\t1.0000\n",
      "- batch loss and accuracy : 1.6996264\t0.0000\n",
      "- batch loss and accuracy : 1.9537346\t0.0000\n",
      "- batch loss and accuracy : 0.3762132\t1.0000\n",
      "- batch loss and accuracy : 1.0533737\t0.0000\n",
      "- batch loss and accuracy : 0.8599914\t0.3333\n",
      "- batch loss and accuracy : 0.4412735\t1.0000\n",
      "- batch loss and accuracy : 0.5287035\t0.6667\n"
     ]
    },
    {
     "name": "stderr",
     "output_type": "stream",
     "text": [
      "epoch 39 - train: 42it [00:00, 55.78it/s]"
     ]
    },
    {
     "name": "stdout",
     "output_type": "stream",
     "text": [
      "- batch loss and accuracy : 1.6228698\t0.0000\n",
      "- batch loss and accuracy : 2.0308847\t0.0000\n",
      "- batch loss and accuracy : 1.6694101\t0.0000\n",
      "- batch loss and accuracy : 1.6605982\t0.0000\n",
      "- batch loss and accuracy : 0.7495353\t0.6667\n",
      "- batch loss and accuracy : 0.8349050\t0.6667\n",
      "- batch loss and accuracy : 1.4279064\t0.0000\n",
      "- batch loss and accuracy : 0.3856926\t1.0000\n",
      "- batch loss and accuracy : 0.2694650\t1.0000\n",
      "- batch loss and accuracy : 0.2000410\t1.0000\n",
      "- batch loss and accuracy : 0.1445640\t1.0000\n",
      "- batch loss and accuracy : 2.4171140\t0.0000\n",
      "- batch loss and accuracy : 0.1166167\t1.0000\n"
     ]
    },
    {
     "name": "stderr",
     "output_type": "stream",
     "text": [
      "epoch 39 - train: 55it [00:01, 58.42it/s]"
     ]
    },
    {
     "name": "stdout",
     "output_type": "stream",
     "text": [
      "- batch loss and accuracy : 2.8701522\t0.0000\n",
      "- batch loss and accuracy : 0.1418062\t1.0000\n",
      "- batch loss and accuracy : 0.1735050\t1.0000\n",
      "- batch loss and accuracy : 1.9313797\t0.0000\n",
      "- batch loss and accuracy : 1.1966712\t0.3333\n",
      "- batch loss and accuracy : 0.4871701\t0.6667\n",
      "- batch loss and accuracy : 0.8543781\t0.6667\n",
      "- batch loss and accuracy : 0.5432712\t1.0000\n",
      "- batch loss and accuracy : 0.6845062\t0.3333\n",
      "- batch loss and accuracy : 1.0272908\t0.3333\n",
      "- batch loss and accuracy : 0.6064049\t0.6667\n",
      "- batch loss and accuracy : 0.4607927\t1.0000\n",
      "- batch loss and accuracy : 1.1041093\t0.3333\n",
      "- batch loss and accuracy : 0.4626740\t1.0000\n"
     ]
    },
    {
     "name": "stderr",
     "output_type": "stream",
     "text": [
      "epoch 39 - train: 69it [00:01, 61.14it/s]"
     ]
    },
    {
     "name": "stdout",
     "output_type": "stream",
     "text": [
      "- batch loss and accuracy : 0.5166655\t1.0000\n",
      "- batch loss and accuracy : 1.1435344\t0.3333\n",
      "- batch loss and accuracy : 0.4248242\t0.6667\n",
      "- batch loss and accuracy : 0.2470728\t1.0000\n",
      "- batch loss and accuracy : 0.3465321\t1.0000\n",
      "- batch loss and accuracy : 0.1898644\t1.0000\n",
      "- batch loss and accuracy : 1.7494323\t0.0000\n",
      "- batch loss and accuracy : 1.8288106\t0.0000\n",
      "- batch loss and accuracy : 2.0376098\t0.0000\n",
      "- batch loss and accuracy : 1.1738371\t0.0000\n",
      "- batch loss and accuracy : 0.7237381\t0.3333\n",
      "- batch loss and accuracy : 0.4010575\t1.0000\n"
     ]
    },
    {
     "name": "stderr",
     "output_type": "stream",
     "text": [
      "epoch 39 - train: 76it [00:01, 56.76it/s]"
     ]
    },
    {
     "name": "stdout",
     "output_type": "stream",
     "text": [
      "- batch loss and accuracy : 1.9540308\t0.0000\n",
      "- batch loss and accuracy : 0.1064806\t1.0000\n",
      "- batch loss and accuracy : 3.2798305\t0.0000\n",
      "- batch loss and accuracy : 2.6438522\t0.0000\n",
      "- batch loss and accuracy : 2.6066203\t0.0000\n",
      "- batch loss and accuracy : 2.2907872\t0.0000\n"
     ]
    },
    {
     "name": "stderr",
     "output_type": "stream",
     "text": [
      "epoch 39 - train: 82it [00:01, 52.15it/s]"
     ]
    },
    {
     "name": "stdout",
     "output_type": "stream",
     "text": [
      "- batch loss and accuracy : 2.0876629\t0.0000\n",
      "- batch loss and accuracy : 0.7983643\t0.6667\n",
      "- batch loss and accuracy : 0.4658632\t1.0000\n"
     ]
    },
    {
     "name": "stderr",
     "output_type": "stream",
     "text": [
      "epoch 39 - train: 88it [00:01, 53.75it/s]"
     ]
    },
    {
     "name": "stdout",
     "output_type": "stream",
     "text": [
      "- batch loss and accuracy : 0.1967278\t1.0000\n",
      "- batch loss and accuracy : 2.6615539\t0.0000\n",
      "- batch loss and accuracy : 0.0210681\t1.0000\n",
      "- batch loss and accuracy : 3.7138450\t0.0000\n",
      "- batch loss and accuracy : 3.9794643\t0.0000\n",
      "- batch loss and accuracy : 0.0049237\t1.0000\n",
      "- batch loss and accuracy : 0.0193963\t1.0000\n",
      "- batch loss and accuracy : 3.4605379\t0.0000\n",
      "- batch loss and accuracy : 0.0298611\t1.0000\n"
     ]
    },
    {
     "name": "stderr",
     "output_type": "stream",
     "text": [
      "epoch 39 - train: 94it [00:01, 55.15it/s]"
     ]
    },
    {
     "name": "stdout",
     "output_type": "stream",
     "text": [
      "- batch loss and accuracy : 0.0351047\t1.0000\n",
      "- batch loss and accuracy : 0.1483227\t1.0000\n",
      "- batch loss and accuracy : 1.9515092\t0.0000\n",
      "- batch loss and accuracy : 0.1958144\t1.0000\n"
     ]
    },
    {
     "name": "stderr",
     "output_type": "stream",
     "text": [
      "epoch 39 - train: 100it [00:01, 53.87it/s]"
     ]
    },
    {
     "name": "stdout",
     "output_type": "stream",
     "text": [
      "- batch loss and accuracy : 0.1895461\t1.0000\n",
      "- batch loss and accuracy : 1.1557837\t0.0000\n",
      "- batch loss and accuracy : 0.5976879\t0.6667\n",
      "- batch loss and accuracy : 0.7065650\t0.3333\n",
      "- batch loss and accuracy : 0.9095187\t0.0000\n",
      "- batch loss and accuracy : 0.6839597\t0.6667\n",
      "- batch loss and accuracy : 0.4208022\t1.0000\n"
     ]
    },
    {
     "name": "stderr",
     "output_type": "stream",
     "text": [
      "epoch 39 - train: 106it [00:01, 54.75it/s]"
     ]
    },
    {
     "name": "stdout",
     "output_type": "stream",
     "text": [
      "- batch loss and accuracy : 0.8286716\t0.3333\n",
      "- batch loss and accuracy : 0.8874299\t0.3333\n",
      "- batch loss and accuracy : 0.5792139\t0.6667\n",
      "- batch loss and accuracy : 0.5604100\t0.6667\n"
     ]
    },
    {
     "name": "stderr",
     "output_type": "stream",
     "text": [
      "epoch 39 - train: 113it [00:02, 57.91it/s]"
     ]
    },
    {
     "name": "stdout",
     "output_type": "stream",
     "text": [
      "- batch loss and accuracy : 0.4747123\t1.0000\n",
      "- batch loss and accuracy : 0.2332271\t1.0000\n",
      "- batch loss and accuracy : 1.8859830\t0.0000\n",
      "- batch loss and accuracy : 0.2615672\t1.0000\n",
      "- batch loss and accuracy : 1.8758621\t0.0000\n",
      "- batch loss and accuracy : 0.3353184\t1.0000\n",
      "- batch loss and accuracy : 0.1592537\t1.0000\n",
      "- batch loss and accuracy : 0.1445502\t1.0000\n",
      "- batch loss and accuracy : 0.2522856\t1.0000\n",
      "- batch loss and accuracy : 0.1908649\t1.0000\n",
      "- batch loss and accuracy : 2.0237217\t0.0000\n",
      "- batch loss and accuracy : 0.3212560\t1.0000\n",
      "- batch loss and accuracy : 0.2332087\t1.0000\n",
      "- batch loss and accuracy : 1.3683939\t0.0000\n"
     ]
    },
    {
     "name": "stderr",
     "output_type": "stream",
     "text": [
      "epoch 39 - train: 126it [00:02, 58.42it/s]"
     ]
    },
    {
     "name": "stdout",
     "output_type": "stream",
     "text": [
      "- batch loss and accuracy : 1.7870438\t0.0000\n",
      "- batch loss and accuracy : 1.3401408\t0.0000\n",
      "- batch loss and accuracy : 0.8411684\t0.6667\n",
      "- batch loss and accuracy : 0.5656288\t0.6667\n",
      "- batch loss and accuracy : 1.5500755\t0.0000\n",
      "- batch loss and accuracy : 2.3970697\t0.0000\n",
      "- batch loss and accuracy : 2.6043243\t0.0000\n",
      "- batch loss and accuracy : 2.4411590\t0.0000\n"
     ]
    },
    {
     "name": "stderr",
     "output_type": "stream",
     "text": [
      "epoch 39 - train: 132it [00:02, 58.13it/s]"
     ]
    },
    {
     "name": "stdout",
     "output_type": "stream",
     "text": [
      "- batch loss and accuracy : 0.1845673\t1.0000\n",
      "- batch loss and accuracy : 1.3872020\t0.0000\n",
      "- batch loss and accuracy : 1.4098448\t0.0000\n",
      "- batch loss and accuracy : 0.4235916\t1.0000\n"
     ]
    },
    {
     "name": "stderr",
     "output_type": "stream",
     "text": [
      "epoch 39 - train: 138it [00:02, 54.66it/s]"
     ]
    },
    {
     "name": "stdout",
     "output_type": "stream",
     "text": [
      "- batch loss and accuracy : 0.3447737\t1.0000\n",
      "- batch loss and accuracy : 0.2200226\t1.0000\n",
      "- batch loss and accuracy : 0.0673954\t1.0000\n",
      "- batch loss and accuracy : 0.0161457\t1.0000\n",
      "- batch loss and accuracy : 0.0163588\t1.0000\n",
      "- batch loss and accuracy : 0.0106680\t1.0000\n",
      "- batch loss and accuracy : 0.0057629\t1.0000\n",
      "- batch loss and accuracy : 0.0020901\t1.0000\n",
      "- batch loss and accuracy : 0.0028267\t1.0000\n",
      "- batch loss and accuracy : 0.0008271\t1.0000\n"
     ]
    },
    {
     "name": "stderr",
     "output_type": "stream",
     "text": [
      "epoch 39 - train: 144it [00:02, 50.11it/s]"
     ]
    },
    {
     "name": "stdout",
     "output_type": "stream",
     "text": [
      "- batch loss and accuracy : 0.0006147\t1.0000\n",
      "- batch loss and accuracy : 0.0006332\t1.0000\n",
      "- batch loss and accuracy : 0.0004192\t1.0000\n",
      "- batch loss and accuracy : 8.6637096\t0.0000\n",
      "- batch loss and accuracy : 0.0001438\t1.0000\n",
      "- batch loss and accuracy : 0.0002429\t1.0000\n",
      "- batch loss and accuracy : 0.0006484\t1.0000\n",
      "- batch loss and accuracy : 8.8030043\t0.0000\n"
     ]
    },
    {
     "name": "stderr",
     "output_type": "stream",
     "text": [
      "epoch 39 - train: 151it [00:02, 53.54it/s]"
     ]
    },
    {
     "name": "stdout",
     "output_type": "stream",
     "text": [
      "- batch loss and accuracy : 0.0010536\t1.0000\n",
      "- batch loss and accuracy : 0.0009429\t1.0000\n",
      "- batch loss and accuracy : 0.0011182\t1.0000\n",
      "- batch loss and accuracy : 0.0020678\t1.0000\n",
      "- batch loss and accuracy : 0.0017618\t1.0000\n"
     ]
    },
    {
     "name": "stderr",
     "output_type": "stream",
     "text": [
      "epoch 39 - train: 158it [00:02, 56.44it/s]"
     ]
    },
    {
     "name": "stdout",
     "output_type": "stream",
     "text": [
      "- batch loss and accuracy : 6.6153002\t0.0000\n",
      "- batch loss and accuracy : 0.0050844\t1.0000\n",
      "- batch loss and accuracy : 5.4019141\t0.0000\n",
      "- batch loss and accuracy : 0.0169455\t1.0000\n",
      "- batch loss and accuracy : 3.6504555\t0.0000\n",
      "- batch loss and accuracy : 0.0679975\t1.0000\n",
      "- batch loss and accuracy : 1.3800381\t0.0000\n",
      "- batch loss and accuracy : 0.4833874\t1.0000\n"
     ]
    },
    {
     "name": "stderr",
     "output_type": "stream",
     "text": [
      "epoch 39 - train: 165it [00:02, 58.84it/s]"
     ]
    },
    {
     "name": "stdout",
     "output_type": "stream",
     "text": [
      "- batch loss and accuracy : 0.4969670\t0.6667\n",
      "- batch loss and accuracy : 1.6971582\t0.0000\n",
      "- batch loss and accuracy : 0.1545126\t1.0000\n",
      "- batch loss and accuracy : 2.5542841\t0.0000\n",
      "- batch loss and accuracy : 0.0964576\t1.0000\n",
      "- batch loss and accuracy : 2.1916921\t0.0000\n"
     ]
    },
    {
     "name": "stderr",
     "output_type": "stream",
     "text": [
      "epoch 39 - train: 171it [00:03, 56.84it/s]"
     ]
    },
    {
     "name": "stdout",
     "output_type": "stream",
     "text": [
      "- batch loss and accuracy : 0.1611918\t1.0000\n",
      "- batch loss and accuracy : 2.2276986\t0.0000\n",
      "- batch loss and accuracy : 1.7358310\t0.0000\n",
      "- batch loss and accuracy : 1.3229146\t0.0000\n",
      "- batch loss and accuracy : 0.5706358\t0.6667\n",
      "- batch loss and accuracy : 0.6424167\t0.6667\n"
     ]
    },
    {
     "name": "stderr",
     "output_type": "stream",
     "text": [
      "epoch 39 - train: 178it [00:03, 58.77it/s]"
     ]
    },
    {
     "name": "stdout",
     "output_type": "stream",
     "text": [
      "- batch loss and accuracy : 0.9083487\t0.0000\n",
      "- batch loss and accuracy : 0.4186561\t1.0000\n",
      "- batch loss and accuracy : 0.2434817\t1.0000\n",
      "- batch loss and accuracy : 0.0618612\t1.0000\n",
      "- batch loss and accuracy : 0.0548007\t1.0000\n",
      "- batch loss and accuracy : 0.0236302\t1.0000\n",
      "- batch loss and accuracy : 3.4989564\t0.0000\n"
     ]
    },
    {
     "name": "stderr",
     "output_type": "stream",
     "text": [
      "epoch 39 - train: 185it [00:03, 59.15it/s]"
     ]
    },
    {
     "name": "stdout",
     "output_type": "stream",
     "text": [
      "- batch loss and accuracy : 0.0574508\t1.0000\n",
      "- batch loss and accuracy : 0.0277050\t1.0000\n",
      "- batch loss and accuracy : 0.0148329\t1.0000\n",
      "- batch loss and accuracy : 0.0243434\t1.0000\n",
      "- batch loss and accuracy : 0.0410304\t1.0000\n",
      "- batch loss and accuracy : 0.0133432\t1.0000\n"
     ]
    },
    {
     "name": "stderr",
     "output_type": "stream",
     "text": [
      "epoch 39 - train: 191it [00:03, 57.80it/s]"
     ]
    },
    {
     "name": "stdout",
     "output_type": "stream",
     "text": [
      "- batch loss and accuracy : 0.0391172\t1.0000\n",
      "- batch loss and accuracy : 0.0292298\t1.0000\n",
      "- batch loss and accuracy : 0.0123382\t1.0000\n",
      "- batch loss and accuracy : 0.0267980\t1.0000\n",
      "- batch loss and accuracy : 0.0136929\t1.0000\n",
      "- batch loss and accuracy : 4.2619557\t0.0000\n"
     ]
    },
    {
     "name": "stderr",
     "output_type": "stream",
     "text": [
      "epoch 39 - train: 198it [00:03, 59.07it/s]"
     ]
    },
    {
     "name": "stdout",
     "output_type": "stream",
     "text": [
      "- batch loss and accuracy : 0.0255525\t1.0000\n",
      "- batch loss and accuracy : 4.3626342\t0.0000\n",
      "- batch loss and accuracy : 0.0365872\t1.0000\n",
      "- batch loss and accuracy : 0.0712243\t1.0000\n",
      "- batch loss and accuracy : 2.4211211\t0.0000\n",
      "- batch loss and accuracy : 0.1706767\t1.0000\n",
      "- batch loss and accuracy : 0.3572444\t1.0000\n"
     ]
    },
    {
     "name": "stderr",
     "output_type": "stream",
     "text": [
      "epoch 39 - train: 205it [00:03, 61.21it/s]"
     ]
    },
    {
     "name": "stdout",
     "output_type": "stream",
     "text": [
      "- batch loss and accuracy : 0.6155832\t0.3333\n",
      "- batch loss and accuracy : 0.8820293\t0.3333\n",
      "- batch loss and accuracy : 0.9169361\t0.3333\n",
      "- batch loss and accuracy : 0.7536219\t0.3333\n",
      "- batch loss and accuracy : 0.5463049\t0.6667\n",
      "- batch loss and accuracy : 0.7039551\t0.3333\n"
     ]
    },
    {
     "name": "stderr",
     "output_type": "stream",
     "text": [
      "epoch 39 - train: 212it [00:03, 60.48it/s]"
     ]
    },
    {
     "name": "stdout",
     "output_type": "stream",
     "text": [
      "- batch loss and accuracy : 0.3653083\t1.0000\n",
      "- batch loss and accuracy : 0.2723620\t1.0000\n",
      "- batch loss and accuracy : 0.2655257\t1.0000\n",
      "- batch loss and accuracy : 0.1572843\t1.0000\n",
      "- batch loss and accuracy : 0.1119214\t1.0000\n",
      "- batch loss and accuracy : 0.0557614\t1.0000\n"
     ]
    },
    {
     "name": "stderr",
     "output_type": "stream",
     "text": [
      "epoch 39 - train: 219it [00:03, 60.49it/s]"
     ]
    },
    {
     "name": "stdout",
     "output_type": "stream",
     "text": [
      "- batch loss and accuracy : 3.4465671\t0.0000\n",
      "- batch loss and accuracy : 0.0200455\t1.0000\n",
      "- batch loss and accuracy : 3.3513973\t0.0000\n",
      "- batch loss and accuracy : 0.0471218\t1.0000\n",
      "- batch loss and accuracy : 0.0794470\t1.0000\n",
      "- batch loss and accuracy : 2.8193526\t0.0000\n",
      "- batch loss and accuracy : 0.1656935\t1.0000\n"
     ]
    },
    {
     "name": "stderr",
     "output_type": "stream",
     "text": [
      "epoch 39 - train: 226it [00:04, 58.72it/s]"
     ]
    },
    {
     "name": "stdout",
     "output_type": "stream",
     "text": [
      "- batch loss and accuracy : 0.1771933\t1.0000\n",
      "- batch loss and accuracy : 0.3193626\t1.0000\n",
      "- batch loss and accuracy : 0.2132556\t1.0000\n",
      "- batch loss and accuracy : 0.4224628\t0.6667\n",
      "- batch loss and accuracy : 0.1905963\t1.0000\n",
      "- batch loss and accuracy : 0.2140803\t1.0000\n",
      "- batch loss and accuracy : 0.2456682\t1.0000\n",
      "- batch loss and accuracy : 0.1754044\t1.0000\n",
      "- batch loss and accuracy : 0.1382261\t1.0000\n",
      "- batch loss and accuracy : 2.3646264\t0.0000\n",
      "- batch loss and accuracy : 0.1369634\t1.0000\n",
      "- batch loss and accuracy : 0.1166865\t1.0000\n",
      "- batch loss and accuracy : 0.1065258\t1.0000\n"
     ]
    },
    {
     "name": "stderr",
     "output_type": "stream",
     "text": [
      "epoch 39 - train: 234it [00:04, 62.47it/s]"
     ]
    },
    {
     "name": "stdout",
     "output_type": "stream",
     "text": [
      "- batch loss and accuracy : 1.7712053\t0.0000\n",
      "- batch loss and accuracy : 0.2102524\t1.0000\n",
      "- batch loss and accuracy : 1.8173409\t0.0000\n",
      "- batch loss and accuracy : 1.8305200\t0.0000\n",
      "- batch loss and accuracy : 0.9248469\t0.3333\n",
      "- batch loss and accuracy : 0.9593009\t0.3333\n",
      "- batch loss and accuracy : 1.6771625\t0.0000\n"
     ]
    },
    {
     "name": "stderr",
     "output_type": "stream",
     "text": [
      "epoch 39 - train: 241it [00:04, 61.63it/s]"
     ]
    },
    {
     "name": "stdout",
     "output_type": "stream",
     "text": [
      "- batch loss and accuracy : 1.3380105\t0.0000\n",
      "- batch loss and accuracy : 0.2152781\t1.0000\n",
      "- batch loss and accuracy : 1.4633368\t0.0000\n",
      "- batch loss and accuracy : 0.9637830\t0.3333\n",
      "- batch loss and accuracy : 0.5791582\t0.6667\n",
      "- batch loss and accuracy : 0.7777140\t0.3333\n",
      "- batch loss and accuracy : 0.7487197\t0.3333\n"
     ]
    },
    {
     "name": "stderr",
     "output_type": "stream",
     "text": [
      "epoch 39 - train: 249it [00:04, 56.67it/s]\n"
     ]
    },
    {
     "name": "stdout",
     "output_type": "stream",
     "text": [
      "- batch loss and accuracy : 0.2059211\t1.0000\n",
      "- batch loss and accuracy : 0.1699461\t1.0000\n"
     ]
    },
    {
     "name": "stderr",
     "output_type": "stream",
     "text": [
      "epoch 39 - validation: 100%|██████████| 63/63 [00:00<00:00, 82.70it/s]"
     ]
    },
    {
     "name": "stdout",
     "output_type": "stream",
     "text": [
      "Validation loss and accuracy : 0.7053048\t0.7090\n",
      "EPOCH 40\n"
     ]
    },
    {
     "name": "stderr",
     "output_type": "stream",
     "text": [
      "\n",
      "epoch 40 - train: 3it [00:00, 28.47it/s]"
     ]
    },
    {
     "name": "stdout",
     "output_type": "stream",
     "text": [
      "- batch loss and accuracy : 2.5700004\t0.0000\n",
      "- batch loss and accuracy : 0.1022321\t1.0000\n",
      "- batch loss and accuracy : 0.0584309\t1.0000\n",
      "- batch loss and accuracy : 0.0594213\t1.0000\n",
      "- batch loss and accuracy : 0.1491769\t1.0000\n",
      "- batch loss and accuracy : 0.0217827\t1.0000\n",
      "- batch loss and accuracy : 3.1886916\t0.0000\n"
     ]
    },
    {
     "name": "stderr",
     "output_type": "stream",
     "text": [
      "epoch 40 - train: 10it [00:00, 49.34it/s]"
     ]
    },
    {
     "name": "stdout",
     "output_type": "stream",
     "text": [
      "- batch loss and accuracy : 0.0396106\t1.0000\n",
      "- batch loss and accuracy : 0.0329336\t1.0000\n",
      "- batch loss and accuracy : 3.3090322\t0.0000\n",
      "- batch loss and accuracy : 0.0553647\t1.0000\n",
      "- batch loss and accuracy : 0.1041752\t1.0000\n",
      "- batch loss and accuracy : 0.1568520\t1.0000\n",
      "- batch loss and accuracy : 0.1589476\t1.0000\n"
     ]
    },
    {
     "name": "stderr",
     "output_type": "stream",
     "text": [
      "epoch 40 - train: 17it [00:00, 55.11it/s]"
     ]
    },
    {
     "name": "stdout",
     "output_type": "stream",
     "text": [
      "- batch loss and accuracy : 0.2001776\t1.0000\n",
      "- batch loss and accuracy : 0.1804698\t1.0000\n",
      "- batch loss and accuracy : 1.8692188\t0.0000\n",
      "- batch loss and accuracy : 1.5574195\t0.0000\n",
      "- batch loss and accuracy : 0.2542467\t1.0000\n"
     ]
    },
    {
     "name": "stderr",
     "output_type": "stream",
     "text": [
      "epoch 40 - train: 23it [00:00, 53.55it/s]"
     ]
    },
    {
     "name": "stdout",
     "output_type": "stream",
     "text": [
      "- batch loss and accuracy : 0.5720762\t1.0000\n",
      "- batch loss and accuracy : 0.6069081\t0.6667\n",
      "- batch loss and accuracy : 0.7782171\t0.3333\n",
      "- batch loss and accuracy : 0.7100026\t0.6667\n",
      "- batch loss and accuracy : 0.7533895\t0.6667\n",
      "- batch loss and accuracy : 0.4382453\t1.0000\n"
     ]
    },
    {
     "name": "stderr",
     "output_type": "stream",
     "text": [
      "epoch 40 - train: 29it [00:00, 51.38it/s]"
     ]
    },
    {
     "name": "stdout",
     "output_type": "stream",
     "text": [
      "- batch loss and accuracy : 0.4794009\t1.0000\n",
      "- batch loss and accuracy : 0.2424279\t1.0000\n",
      "- batch loss and accuracy : 1.5492815\t0.0000\n",
      "- batch loss and accuracy : 2.1614213\t0.0000\n",
      "- batch loss and accuracy : 1.2099370\t0.0000\n"
     ]
    },
    {
     "name": "stderr",
     "output_type": "stream",
     "text": [
      "epoch 40 - train: 36it [00:00, 55.52it/s]"
     ]
    },
    {
     "name": "stdout",
     "output_type": "stream",
     "text": [
      "- batch loss and accuracy : 1.1951354\t0.0000\n",
      "- batch loss and accuracy : 0.9468176\t0.3333\n",
      "- batch loss and accuracy : 0.9919256\t0.3333\n",
      "- batch loss and accuracy : 1.3638487\t0.0000\n",
      "- batch loss and accuracy : 0.1891434\t1.0000\n",
      "- batch loss and accuracy : 0.2870767\t1.0000\n",
      "- batch loss and accuracy : 2.0335214\t0.0000\n"
     ]
    },
    {
     "name": "stderr",
     "output_type": "stream",
     "text": [
      "epoch 40 - train: 42it [00:00, 54.29it/s]"
     ]
    },
    {
     "name": "stdout",
     "output_type": "stream",
     "text": [
      "- batch loss and accuracy : 0.1633607\t1.0000\n",
      "- batch loss and accuracy : 0.1914080\t1.0000\n",
      "- batch loss and accuracy : 2.5072784\t0.0000\n",
      "- batch loss and accuracy : 1.4883897\t0.0000\n",
      "- batch loss and accuracy : 0.4978509\t0.6667\n"
     ]
    },
    {
     "name": "stderr",
     "output_type": "stream",
     "text": [
      "epoch 40 - train: 50it [00:00, 59.75it/s]"
     ]
    },
    {
     "name": "stdout",
     "output_type": "stream",
     "text": [
      "- batch loss and accuracy : 0.8776808\t0.3333\n",
      "- batch loss and accuracy : 1.0002413\t0.6667\n",
      "- batch loss and accuracy : 0.5324196\t0.6667\n",
      "- batch loss and accuracy : 0.8178730\t0.0000\n",
      "- batch loss and accuracy : 1.1158885\t0.0000\n",
      "- batch loss and accuracy : 1.4275793\t0.0000\n",
      "- batch loss and accuracy : 0.7037849\t0.6667\n",
      "- batch loss and accuracy : 1.0318532\t0.3333\n"
     ]
    },
    {
     "name": "stderr",
     "output_type": "stream",
     "text": [
      "epoch 40 - train: 57it [00:01, 62.51it/s]"
     ]
    },
    {
     "name": "stdout",
     "output_type": "stream",
     "text": [
      "- batch loss and accuracy : 0.8128394\t0.6667\n",
      "- batch loss and accuracy : 1.0931997\t0.0000\n",
      "- batch loss and accuracy : 0.4175351\t0.6667\n",
      "- batch loss and accuracy : 0.3729307\t1.0000\n",
      "- batch loss and accuracy : 0.2006383\t1.0000\n",
      "- batch loss and accuracy : 0.1629577\t1.0000\n",
      "- batch loss and accuracy : 0.1232513\t1.0000\n"
     ]
    },
    {
     "name": "stderr",
     "output_type": "stream",
     "text": [
      "epoch 40 - train: 64it [00:01, 63.53it/s]"
     ]
    },
    {
     "name": "stdout",
     "output_type": "stream",
     "text": [
      "- batch loss and accuracy : 0.0955678\t1.0000\n",
      "- batch loss and accuracy : 0.0542108\t1.0000\n",
      "- batch loss and accuracy : 0.0422573\t1.0000\n",
      "- batch loss and accuracy : 0.0361259\t1.0000\n",
      "- batch loss and accuracy : 4.0918479\t0.0000\n",
      "- batch loss and accuracy : 0.0189871\t1.0000\n",
      "- batch loss and accuracy : 3.7081497\t0.0000\n",
      "- batch loss and accuracy : 0.0229347\t1.0000\n",
      "- batch loss and accuracy : 0.0446280\t1.0000\n",
      "- batch loss and accuracy : 0.0944829\t1.0000\n",
      "- batch loss and accuracy : 0.0425286\t1.0000\n",
      "- batch loss and accuracy : 0.0773968\t1.0000\n",
      "- batch loss and accuracy : 0.1817031\t1.0000\n",
      "- batch loss and accuracy : 0.0888501\t1.0000\n"
     ]
    },
    {
     "name": "stderr",
     "output_type": "stream",
     "text": [
      "epoch 40 - train: 71it [00:01, 62.94it/s]"
     ]
    },
    {
     "name": "stdout",
     "output_type": "stream",
     "text": [
      "- batch loss and accuracy : 0.1327194\t1.0000\n",
      "- batch loss and accuracy : 2.0164897\t0.0000\n",
      "- batch loss and accuracy : 1.9942278\t0.0000\n",
      "- batch loss and accuracy : 0.2603249\t1.0000\n",
      "- batch loss and accuracy : 0.4313172\t1.0000\n",
      "- batch loss and accuracy : 0.2636586\t1.0000\n"
     ]
    },
    {
     "name": "stderr",
     "output_type": "stream",
     "text": [
      "epoch 40 - train: 78it [00:01, 62.96it/s]"
     ]
    },
    {
     "name": "stdout",
     "output_type": "stream",
     "text": [
      "- batch loss and accuracy : 0.5704862\t0.6667\n",
      "- batch loss and accuracy : 0.3961134\t1.0000\n",
      "- batch loss and accuracy : 0.5969738\t0.6667\n",
      "- batch loss and accuracy : 0.4049842\t1.0000\n",
      "- batch loss and accuracy : 0.2468883\t1.0000\n",
      "- batch loss and accuracy : 1.8720036\t0.0000\n",
      "- batch loss and accuracy : 0.2409551\t1.0000\n"
     ]
    },
    {
     "name": "stderr",
     "output_type": "stream",
     "text": [
      "epoch 40 - train: 85it [00:01, 60.81it/s]"
     ]
    },
    {
     "name": "stdout",
     "output_type": "stream",
     "text": [
      "- batch loss and accuracy : 0.2075565\t1.0000\n",
      "- batch loss and accuracy : 2.2426896\t0.0000\n",
      "- batch loss and accuracy : 0.1983408\t1.0000\n",
      "- batch loss and accuracy : 2.1807384\t0.0000\n",
      "- batch loss and accuracy : 0.3328207\t1.0000\n",
      "- batch loss and accuracy : 0.4256624\t1.0000\n"
     ]
    },
    {
     "name": "stderr",
     "output_type": "stream",
     "text": [
      "epoch 40 - train: 92it [00:01, 62.43it/s]"
     ]
    },
    {
     "name": "stdout",
     "output_type": "stream",
     "text": [
      "- batch loss and accuracy : 0.4532914\t0.6667\n",
      "- batch loss and accuracy : 0.2813401\t1.0000\n",
      "- batch loss and accuracy : 0.3719490\t1.0000\n",
      "- batch loss and accuracy : 0.1434565\t1.0000\n",
      "- batch loss and accuracy : 0.2433632\t1.0000\n",
      "- batch loss and accuracy : 0.1654083\t1.0000\n",
      "- batch loss and accuracy : 2.3165417\t0.0000\n"
     ]
    },
    {
     "name": "stderr",
     "output_type": "stream",
     "text": [
      "epoch 40 - train: 99it [00:01, 60.03it/s]"
     ]
    },
    {
     "name": "stdout",
     "output_type": "stream",
     "text": [
      "- batch loss and accuracy : 0.0761491\t1.0000\n",
      "- batch loss and accuracy : 0.1235248\t1.0000\n",
      "- batch loss and accuracy : 0.1053987\t1.0000\n",
      "- batch loss and accuracy : 2.3411148\t0.0000\n",
      "- batch loss and accuracy : 1.6696873\t0.0000\n"
     ]
    },
    {
     "name": "stderr",
     "output_type": "stream",
     "text": [
      "epoch 40 - train: 106it [00:01, 61.13it/s]"
     ]
    },
    {
     "name": "stdout",
     "output_type": "stream",
     "text": [
      "- batch loss and accuracy : 0.2004180\t1.0000\n",
      "- batch loss and accuracy : 0.3936056\t1.0000\n",
      "- batch loss and accuracy : 0.3624334\t1.0000\n",
      "- batch loss and accuracy : 0.4219376\t1.0000\n",
      "- batch loss and accuracy : 0.5525087\t0.6667\n",
      "- batch loss and accuracy : 1.0151917\t0.3333\n",
      "- batch loss and accuracy : 1.0287157\t0.0000\n"
     ]
    },
    {
     "name": "stderr",
     "output_type": "stream",
     "text": [
      "epoch 40 - train: 113it [00:01, 58.47it/s]"
     ]
    },
    {
     "name": "stdout",
     "output_type": "stream",
     "text": [
      "- batch loss and accuracy : 0.5074650\t0.6667\n",
      "- batch loss and accuracy : 0.7597973\t0.3333\n",
      "- batch loss and accuracy : 0.3406473\t1.0000\n",
      "- batch loss and accuracy : 0.5867720\t1.0000\n",
      "- batch loss and accuracy : 0.4555243\t1.0000\n"
     ]
    },
    {
     "name": "stderr",
     "output_type": "stream",
     "text": [
      "epoch 40 - train: 119it [00:02, 56.66it/s]"
     ]
    },
    {
     "name": "stdout",
     "output_type": "stream",
     "text": [
      "- batch loss and accuracy : 0.2595897\t1.0000\n",
      "- batch loss and accuracy : 0.1185143\t1.0000\n",
      "- batch loss and accuracy : 0.1116235\t1.0000\n",
      "- batch loss and accuracy : 0.0428561\t1.0000\n",
      "- batch loss and accuracy : 2.9637585\t0.0000\n",
      "- batch loss and accuracy : 3.1233492\t0.0000\n",
      "- batch loss and accuracy : 0.0609487\t1.0000\n"
     ]
    },
    {
     "name": "stderr",
     "output_type": "stream",
     "text": [
      "epoch 40 - train: 125it [00:02, 55.81it/s]"
     ]
    },
    {
     "name": "stdout",
     "output_type": "stream",
     "text": [
      "- batch loss and accuracy : 0.0693555\t1.0000\n",
      "- batch loss and accuracy : 0.0478064\t1.0000\n",
      "- batch loss and accuracy : 1.5903218\t0.0000\n",
      "- batch loss and accuracy : 1.7130750\t0.0000\n",
      "- batch loss and accuracy : 0.5551338\t0.6667\n",
      "- batch loss and accuracy : 0.5361128\t0.6667\n",
      "- batch loss and accuracy : 0.5445567\t0.6667\n",
      "- batch loss and accuracy : 0.8740517\t0.6667\n",
      "- batch loss and accuracy : 0.8562225\t0.3333\n"
     ]
    },
    {
     "name": "stderr",
     "output_type": "stream",
     "text": [
      "epoch 40 - train: 131it [00:02, 49.58it/s]"
     ]
    },
    {
     "name": "stdout",
     "output_type": "stream",
     "text": [
      "- batch loss and accuracy : 1.0025299\t0.3333\n",
      "- batch loss and accuracy : 1.1822226\t0.0000\n",
      "- batch loss and accuracy : 0.8193135\t0.3333\n",
      "- batch loss and accuracy : 0.3622658\t1.0000\n"
     ]
    },
    {
     "name": "stderr",
     "output_type": "stream",
     "text": [
      "epoch 40 - train: 137it [00:02, 46.73it/s]"
     ]
    },
    {
     "name": "stdout",
     "output_type": "stream",
     "text": [
      "- batch loss and accuracy : 0.2846579\t1.0000\n",
      "- batch loss and accuracy : 2.1330857\t0.0000\n",
      "- batch loss and accuracy : 0.1093095\t1.0000\n",
      "- batch loss and accuracy : 0.0619417\t1.0000\n",
      "- batch loss and accuracy : 0.0632922\t1.0000\n"
     ]
    },
    {
     "name": "stderr",
     "output_type": "stream",
     "text": [
      "epoch 40 - train: 142it [00:02, 46.78it/s]"
     ]
    },
    {
     "name": "stdout",
     "output_type": "stream",
     "text": [
      "- batch loss and accuracy : 0.0401933\t1.0000\n",
      "- batch loss and accuracy : 0.0567694\t1.0000\n",
      "- batch loss and accuracy : 0.0244617\t1.0000\n",
      "- batch loss and accuracy : 0.0303951\t1.0000\n",
      "- batch loss and accuracy : 4.2327657\t0.0000\n"
     ]
    },
    {
     "name": "stderr",
     "output_type": "stream",
     "text": [
      "epoch 40 - train: 147it [00:02, 47.21it/s]"
     ]
    },
    {
     "name": "stdout",
     "output_type": "stream",
     "text": [
      "- batch loss and accuracy : 0.0256524\t1.0000\n",
      "- batch loss and accuracy : 0.0176751\t1.0000\n",
      "- batch loss and accuracy : 0.0194681\t1.0000\n",
      "- batch loss and accuracy : 3.7965031\t0.0000\n",
      "- batch loss and accuracy : 3.0660553\t0.0000\n"
     ]
    },
    {
     "name": "stderr",
     "output_type": "stream",
     "text": [
      "epoch 40 - train: 152it [00:02, 46.05it/s]"
     ]
    },
    {
     "name": "stdout",
     "output_type": "stream",
     "text": [
      "- batch loss and accuracy : 0.0708113\t1.0000\n",
      "- batch loss and accuracy : 0.2653729\t1.0000\n",
      "- batch loss and accuracy : 1.8457341\t0.0000\n",
      "- batch loss and accuracy : 0.3552495\t1.0000\n",
      "- batch loss and accuracy : 0.7346885\t0.0000\n"
     ]
    },
    {
     "name": "stderr",
     "output_type": "stream",
     "text": [
      "epoch 40 - train: 157it [00:02, 45.11it/s]"
     ]
    },
    {
     "name": "stdout",
     "output_type": "stream",
     "text": [
      "- batch loss and accuracy : 0.8696789\t0.3333\n",
      "- batch loss and accuracy : 1.1523883\t0.3333\n",
      "- batch loss and accuracy : 0.8982055\t0.3333\n"
     ]
    },
    {
     "name": "stderr",
     "output_type": "stream",
     "text": [
      "epoch 40 - train: 162it [00:03, 42.85it/s]"
     ]
    },
    {
     "name": "stdout",
     "output_type": "stream",
     "text": [
      "- batch loss and accuracy : 0.9887112\t0.6667\n",
      "- batch loss and accuracy : 0.6151070\t0.6667\n",
      "- batch loss and accuracy : 0.1977363\t1.0000\n",
      "- batch loss and accuracy : 1.4990461\t0.0000\n",
      "- batch loss and accuracy : 0.1766376\t1.0000\n",
      "- batch loss and accuracy : 0.1304531\t1.0000\n",
      "- batch loss and accuracy : 0.0520081\t1.0000\n",
      "- batch loss and accuracy : 2.8256137\t0.0000\n"
     ]
    },
    {
     "name": "stderr",
     "output_type": "stream",
     "text": [
      "epoch 40 - train: 167it [00:03, 37.43it/s]"
     ]
    },
    {
     "name": "stdout",
     "output_type": "stream",
     "text": [
      "- batch loss and accuracy : 2.9292183\t0.0000\n",
      "- batch loss and accuracy : 0.1073108\t1.0000\n",
      "- batch loss and accuracy : 2.5831823\t0.0000\n"
     ]
    },
    {
     "name": "stderr",
     "output_type": "stream",
     "text": [
      "epoch 40 - train: 171it [00:03, 34.48it/s]"
     ]
    },
    {
     "name": "stdout",
     "output_type": "stream",
     "text": [
      "- batch loss and accuracy : 0.1857724\t1.0000\n",
      "- batch loss and accuracy : 0.4442552\t0.6667\n",
      "- batch loss and accuracy : 0.2191866\t1.0000\n"
     ]
    },
    {
     "name": "stderr",
     "output_type": "stream",
     "text": [
      "epoch 40 - train: 175it [00:03, 33.26it/s]"
     ]
    },
    {
     "name": "stdout",
     "output_type": "stream",
     "text": [
      "- batch loss and accuracy : 0.5928349\t0.6667\n",
      "- batch loss and accuracy : 0.9540801\t0.3333\n",
      "- batch loss and accuracy : 0.8791324\t0.0000\n",
      "- batch loss and accuracy : 0.7267498\t0.3333\n",
      "- batch loss and accuracy : 0.4174879\t1.0000\n",
      "- batch loss and accuracy : 0.2352269\t1.0000\n",
      "- batch loss and accuracy : 1.8047490\t0.0000\n"
     ]
    },
    {
     "name": "stderr",
     "output_type": "stream",
     "text": [
      "epoch 40 - train: 179it [00:03, 32.82it/s]"
     ]
    },
    {
     "name": "stdout",
     "output_type": "stream",
     "text": [
      "- batch loss and accuracy : 2.0846996\t0.0000\n",
      "- batch loss and accuracy : 2.3783987\t0.0000\n",
      "- batch loss and accuracy : 2.1050420\t0.0000\n",
      "- batch loss and accuracy : 1.2665312\t0.0000\n"
     ]
    },
    {
     "name": "stderr",
     "output_type": "stream",
     "text": [
      "epoch 40 - train: 183it [00:03, 32.89it/s]"
     ]
    },
    {
     "name": "stdout",
     "output_type": "stream",
     "text": [
      "- batch loss and accuracy : 0.5596034\t1.0000\n",
      "- batch loss and accuracy : 1.3453321\t0.0000\n",
      "- batch loss and accuracy : 1.3188789\t0.0000\n"
     ]
    },
    {
     "name": "stderr",
     "output_type": "stream",
     "text": [
      "epoch 40 - train: 187it [00:03, 32.00it/s]"
     ]
    },
    {
     "name": "stdout",
     "output_type": "stream",
     "text": [
      "- batch loss and accuracy : 1.0462182\t0.0000\n",
      "- batch loss and accuracy : 0.5002195\t0.6667\n",
      "- batch loss and accuracy : 0.3786237\t1.0000\n",
      "- batch loss and accuracy : 0.8723156\t0.3333\n",
      "- batch loss and accuracy : 0.5527303\t0.6667\n"
     ]
    },
    {
     "name": "stderr",
     "output_type": "stream",
     "text": [
      "epoch 40 - train: 191it [00:04, 28.91it/s]"
     ]
    },
    {
     "name": "stdout",
     "output_type": "stream",
     "text": [
      "- batch loss and accuracy : 0.4494923\t1.0000\n",
      "- batch loss and accuracy : 0.7892062\t0.6667\n",
      "- batch loss and accuracy : 1.5065645\t0.0000\n"
     ]
    },
    {
     "name": "stderr",
     "output_type": "stream",
     "text": [
      "epoch 40 - train: 194it [00:04, 26.93it/s]"
     ]
    },
    {
     "name": "stdout",
     "output_type": "stream",
     "text": [
      "- batch loss and accuracy : 0.4542996\t1.0000\n",
      "- batch loss and accuracy : 0.5250571\t1.0000\n",
      "- batch loss and accuracy : 0.3943158\t1.0000\n"
     ]
    },
    {
     "name": "stderr",
     "output_type": "stream",
     "text": [
      "epoch 40 - train: 197it [00:04, 22.24it/s]"
     ]
    },
    {
     "name": "stdout",
     "output_type": "stream",
     "text": [
      "- batch loss and accuracy : 1.6559808\t0.0000\n",
      "- batch loss and accuracy : 0.3193343\t1.0000\n",
      "- batch loss and accuracy : 0.3902167\t0.6667\n"
     ]
    },
    {
     "name": "stderr",
     "output_type": "stream",
     "text": [
      "epoch 40 - train: 203it [00:04, 19.61it/s]"
     ]
    },
    {
     "name": "stdout",
     "output_type": "stream",
     "text": [
      "- batch loss and accuracy : 0.1680434\t1.0000\n",
      "- batch loss and accuracy : 1.9315828\t0.0000\n",
      "- batch loss and accuracy : 1.9027500\t0.0000\n",
      "- batch loss and accuracy : 0.2422258\t1.0000\n"
     ]
    },
    {
     "name": "stderr",
     "output_type": "stream",
     "text": [
      "epoch 40 - train: 206it [00:04, 19.19it/s]"
     ]
    },
    {
     "name": "stdout",
     "output_type": "stream",
     "text": [
      "- batch loss and accuracy : 0.3315016\t1.0000\n",
      "- batch loss and accuracy : 1.1039360\t0.0000\n",
      "- batch loss and accuracy : 0.4093828\t1.0000\n",
      "- batch loss and accuracy : 0.7239229\t0.3333\n"
     ]
    },
    {
     "name": "stderr",
     "output_type": "stream",
     "text": [
      "epoch 40 - train: 211it [00:05, 20.96it/s]"
     ]
    },
    {
     "name": "stdout",
     "output_type": "stream",
     "text": [
      "- batch loss and accuracy : 0.6605659\t0.6667\n",
      "- batch loss and accuracy : 1.1469567\t0.3333\n",
      "- batch loss and accuracy : 0.4627255\t0.6667\n",
      "- batch loss and accuracy : 0.5877219\t0.6667\n",
      "- batch loss and accuracy : 1.0521152\t0.0000\n"
     ]
    },
    {
     "name": "stderr",
     "output_type": "stream",
     "text": [
      "epoch 40 - train: 217it [00:05, 22.58it/s]"
     ]
    },
    {
     "name": "stdout",
     "output_type": "stream",
     "text": [
      "- batch loss and accuracy : 0.4364407\t1.0000\n",
      "- batch loss and accuracy : 0.9150553\t0.3333\n",
      "- batch loss and accuracy : 0.5707172\t0.6667\n",
      "- batch loss and accuracy : 1.0118994\t0.3333\n",
      "- batch loss and accuracy : 0.9211973\t0.3333\n",
      "- batch loss and accuracy : 0.6825619\t0.6667\n"
     ]
    },
    {
     "name": "stderr",
     "output_type": "stream",
     "text": [
      "epoch 40 - train: 224it [00:05, 27.94it/s]"
     ]
    },
    {
     "name": "stdout",
     "output_type": "stream",
     "text": [
      "- batch loss and accuracy : 0.9335864\t0.3333\n",
      "- batch loss and accuracy : 0.5587846\t0.6667\n",
      "- batch loss and accuracy : 0.9811386\t0.3333\n",
      "- batch loss and accuracy : 1.0597367\t0.0000\n",
      "- batch loss and accuracy : 0.8298351\t0.3333\n",
      "- batch loss and accuracy : 1.2101135\t0.0000\n",
      "- batch loss and accuracy : 1.2705445\t0.0000\n",
      "- batch loss and accuracy : 0.4936379\t1.0000\n"
     ]
    },
    {
     "name": "stderr",
     "output_type": "stream",
     "text": [
      "epoch 40 - train: 232it [00:05, 31.71it/s]"
     ]
    },
    {
     "name": "stdout",
     "output_type": "stream",
     "text": [
      "- batch loss and accuracy : 0.2952412\t1.0000\n",
      "- batch loss and accuracy : 1.3428857\t0.0000\n",
      "- batch loss and accuracy : 0.3423148\t1.0000\n",
      "- batch loss and accuracy : 0.3546780\t1.0000\n",
      "- batch loss and accuracy : 0.3885114\t1.0000\n",
      "- batch loss and accuracy : 0.2717271\t1.0000\n",
      "- batch loss and accuracy : 0.1441809\t1.0000\n",
      "- batch loss and accuracy : 0.1636746\t1.0000\n"
     ]
    },
    {
     "name": "stderr",
     "output_type": "stream",
     "text": [
      "epoch 40 - train: 240it [00:06, 31.86it/s]"
     ]
    },
    {
     "name": "stdout",
     "output_type": "stream",
     "text": [
      "- batch loss and accuracy : 2.3909993\t0.0000\n",
      "- batch loss and accuracy : 0.1141971\t1.0000\n",
      "- batch loss and accuracy : 1.8926098\t0.0000\n",
      "- batch loss and accuracy : 0.1534506\t1.0000\n",
      "- batch loss and accuracy : 1.9812831\t0.0000\n",
      "- batch loss and accuracy : 0.2082174\t1.0000\n",
      "- batch loss and accuracy : 1.1356282\t0.3333\n"
     ]
    },
    {
     "name": "stderr",
     "output_type": "stream",
     "text": [
      "epoch 40 - train: 248it [00:06, 34.60it/s]"
     ]
    },
    {
     "name": "stdout",
     "output_type": "stream",
     "text": [
      "- batch loss and accuracy : 0.7122568\t0.3333\n",
      "- batch loss and accuracy : 1.0683779\t0.0000\n",
      "- batch loss and accuracy : 1.8794620\t0.0000\n",
      "- batch loss and accuracy : 1.1796569\t0.0000\n",
      "- batch loss and accuracy : 0.9549865\t0.3333\n",
      "- batch loss and accuracy : 0.7490131\t0.3333\n",
      "- batch loss and accuracy : 0.4345077\t1.0000\n",
      "- batch loss and accuracy : 0.5396191\t1.0000\n"
     ]
    },
    {
     "name": "stderr",
     "output_type": "stream",
     "text": [
      "epoch 40 - train: 249it [00:06, 39.21it/s]\n",
      "epoch 40 - validation: 100%|██████████| 63/63 [00:01<00:00, 60.92it/s]"
     ]
    },
    {
     "name": "stdout",
     "output_type": "stream",
     "text": [
      "Validation loss and accuracy : 0.5991743\t0.6825\n",
      "EPOCH 41\n"
     ]
    },
    {
     "name": "stderr",
     "output_type": "stream",
     "text": [
      "\n",
      "epoch 41 - train: 4it [00:00, 37.38it/s]"
     ]
    },
    {
     "name": "stdout",
     "output_type": "stream",
     "text": [
      "- batch loss and accuracy : 0.1408437\t1.0000\n",
      "- batch loss and accuracy : 0.2303613\t1.0000\n",
      "- batch loss and accuracy : 0.2241191\t1.0000\n",
      "- batch loss and accuracy : 0.1689138\t1.0000\n",
      "- batch loss and accuracy : 0.0528609\t1.0000\n",
      "- batch loss and accuracy : 3.5817595\t0.0000\n",
      "- batch loss and accuracy : 0.0223976\t1.0000\n",
      "- batch loss and accuracy : 0.0281519\t1.0000\n"
     ]
    },
    {
     "name": "stderr",
     "output_type": "stream",
     "text": [
      "epoch 41 - train: 11it [00:00, 54.67it/s]"
     ]
    },
    {
     "name": "stdout",
     "output_type": "stream",
     "text": [
      "- batch loss and accuracy : 0.0302629\t1.0000\n",
      "- batch loss and accuracy : 0.0229216\t1.0000\n",
      "- batch loss and accuracy : 0.0161170\t1.0000\n",
      "- batch loss and accuracy : 0.0356985\t1.0000\n",
      "- batch loss and accuracy : 4.3314910\t0.0000\n",
      "- batch loss and accuracy : 3.9567676\t0.0000\n"
     ]
    },
    {
     "name": "stderr",
     "output_type": "stream",
     "text": [
      "epoch 41 - train: 17it [00:00, 54.57it/s]"
     ]
    },
    {
     "name": "stdout",
     "output_type": "stream",
     "text": [
      "- batch loss and accuracy : 3.0802550\t0.0000\n",
      "- batch loss and accuracy : 0.1107469\t1.0000\n",
      "- batch loss and accuracy : 1.9396342\t0.0000\n",
      "- batch loss and accuracy : 1.1160519\t0.0000\n",
      "- batch loss and accuracy : 0.5281090\t0.6667\n"
     ]
    },
    {
     "name": "stderr",
     "output_type": "stream",
     "text": [
      "epoch 41 - train: 23it [00:00, 53.67it/s]"
     ]
    },
    {
     "name": "stdout",
     "output_type": "stream",
     "text": [
      "- batch loss and accuracy : 1.7313030\t0.0000\n",
      "- batch loss and accuracy : 2.6362789\t0.0000\n",
      "- batch loss and accuracy : 2.8574386\t0.0000\n",
      "- batch loss and accuracy : 2.8969274\t0.0000\n",
      "- batch loss and accuracy : 2.5225613\t0.0000\n",
      "- batch loss and accuracy : 1.9201014\t0.0000\n"
     ]
    },
    {
     "name": "stderr",
     "output_type": "stream",
     "text": [
      "epoch 41 - train: 30it [00:00, 55.57it/s]"
     ]
    },
    {
     "name": "stdout",
     "output_type": "stream",
     "text": [
      "- batch loss and accuracy : 0.3644179\t1.0000\n",
      "- batch loss and accuracy : 0.9978431\t0.3333\n",
      "- batch loss and accuracy : 0.2962363\t1.0000\n",
      "- batch loss and accuracy : 1.7503152\t0.0000\n",
      "- batch loss and accuracy : 0.0994595\t1.0000\n",
      "- batch loss and accuracy : 2.6612630\t0.0000\n"
     ]
    },
    {
     "name": "stderr",
     "output_type": "stream",
     "text": [
      "epoch 41 - train: 36it [00:00, 54.82it/s]"
     ]
    },
    {
     "name": "stdout",
     "output_type": "stream",
     "text": [
      "- batch loss and accuracy : 0.1275882\t1.0000\n",
      "- batch loss and accuracy : 0.1057798\t1.0000\n",
      "- batch loss and accuracy : 0.0610668\t1.0000\n",
      "- batch loss and accuracy : 0.0422404\t1.0000\n",
      "- batch loss and accuracy : 0.0548718\t1.0000\n",
      "- batch loss and accuracy : 0.0293487\t1.0000\n"
     ]
    },
    {
     "name": "stderr",
     "output_type": "stream",
     "text": [
      "epoch 41 - train: 42it [00:00, 54.55it/s]"
     ]
    },
    {
     "name": "stdout",
     "output_type": "stream",
     "text": [
      "- batch loss and accuracy : 0.0343481\t1.0000\n",
      "- batch loss and accuracy : 0.0199484\t1.0000\n",
      "- batch loss and accuracy : 0.0191273\t1.0000\n",
      "- batch loss and accuracy : 0.0094264\t1.0000\n",
      "- batch loss and accuracy : 4.7715836\t0.0000\n"
     ]
    },
    {
     "name": "stderr",
     "output_type": "stream",
     "text": [
      "epoch 41 - train: 48it [00:00, 54.49it/s]"
     ]
    },
    {
     "name": "stdout",
     "output_type": "stream",
     "text": [
      "- batch loss and accuracy : 3.4828346\t0.0000\n",
      "- batch loss and accuracy : 0.0437874\t1.0000\n",
      "- batch loss and accuracy : 3.0798402\t0.0000\n",
      "- batch loss and accuracy : 2.2062032\t0.0000\n",
      "- batch loss and accuracy : 1.2259175\t0.0000\n",
      "- batch loss and accuracy : 0.6089418\t0.6667\n",
      "- batch loss and accuracy : 1.5123129\t0.0000\n",
      "- batch loss and accuracy : 1.7508506\t0.0000\n",
      "- batch loss and accuracy : 1.6896315\t0.0000\n",
      "- batch loss and accuracy : 1.7498682\t0.0000\n"
     ]
    },
    {
     "name": "stderr",
     "output_type": "stream",
     "text": [
      "epoch 41 - train: 60it [00:01, 53.43it/s]"
     ]
    },
    {
     "name": "stdout",
     "output_type": "stream",
     "text": [
      "- batch loss and accuracy : 2.0521975\t0.0000\n",
      "- batch loss and accuracy : 0.3502536\t0.6667\n",
      "- batch loss and accuracy : 0.8147082\t0.3333\n",
      "- batch loss and accuracy : 0.5499848\t0.6667\n",
      "- batch loss and accuracy : 0.1695410\t1.0000\n",
      "- batch loss and accuracy : 0.1556410\t1.0000\n",
      "- batch loss and accuracy : 2.1574266\t0.0000\n",
      "- batch loss and accuracy : 0.1017784\t1.0000\n",
      "- batch loss and accuracy : 3.1083755\t0.0000\n",
      "- batch loss and accuracy : 0.0687209\t1.0000\n",
      "- batch loss and accuracy : 0.1003773\t1.0000\n",
      "- batch loss and accuracy : 0.0595182\t1.0000\n"
     ]
    },
    {
     "name": "stderr",
     "output_type": "stream",
     "text": [
      "epoch 41 - train: 73it [00:01, 57.33it/s]"
     ]
    },
    {
     "name": "stdout",
     "output_type": "stream",
     "text": [
      "- batch loss and accuracy : 2.8269119\t0.0000\n",
      "- batch loss and accuracy : 3.3903918\t0.0000\n",
      "- batch loss and accuracy : 0.0897767\t1.0000\n",
      "- batch loss and accuracy : 0.2296873\t1.0000\n",
      "- batch loss and accuracy : 0.4353625\t1.0000\n",
      "- batch loss and accuracy : 1.6018199\t0.0000\n",
      "- batch loss and accuracy : 0.4785202\t0.6667\n",
      "- batch loss and accuracy : 0.4953418\t1.0000\n",
      "- batch loss and accuracy : 0.9016807\t0.3333\n",
      "- batch loss and accuracy : 1.0784366\t0.3333\n",
      "- batch loss and accuracy : 0.5925893\t0.6667\n",
      "- batch loss and accuracy : 0.9277980\t0.3333\n"
     ]
    },
    {
     "name": "stderr",
     "output_type": "stream",
     "text": [
      "epoch 41 - train: 79it [00:01, 53.15it/s]"
     ]
    },
    {
     "name": "stdout",
     "output_type": "stream",
     "text": [
      "- batch loss and accuracy : 0.5110412\t1.0000\n",
      "- batch loss and accuracy : 0.7896290\t0.6667\n",
      "- batch loss and accuracy : 0.8549931\t0.3333\n",
      "- batch loss and accuracy : 0.6841426\t0.6667\n",
      "- batch loss and accuracy : 0.5459025\t0.6667\n",
      "- batch loss and accuracy : 1.4406548\t0.0000\n",
      "- batch loss and accuracy : 1.4353657\t0.0000\n",
      "- batch loss and accuracy : 0.4421477\t0.6667\n"
     ]
    },
    {
     "name": "stderr",
     "output_type": "stream",
     "text": [
      "epoch 41 - train: 86it [00:01, 55.62it/s]"
     ]
    },
    {
     "name": "stdout",
     "output_type": "stream",
     "text": [
      "- batch loss and accuracy : 0.5395062\t0.6667\n",
      "- batch loss and accuracy : 1.2871580\t0.0000\n",
      "- batch loss and accuracy : 0.4048187\t1.0000\n",
      "- batch loss and accuracy : 0.5483631\t1.0000\n"
     ]
    },
    {
     "name": "stderr",
     "output_type": "stream",
     "text": [
      "epoch 41 - train: 92it [00:01, 55.21it/s]"
     ]
    },
    {
     "name": "stdout",
     "output_type": "stream",
     "text": [
      "- batch loss and accuracy : 0.3376299\t1.0000\n",
      "- batch loss and accuracy : 1.6623390\t0.0000\n",
      "- batch loss and accuracy : 0.4183497\t0.6667\n",
      "- batch loss and accuracy : 0.6233343\t0.6667\n",
      "- batch loss and accuracy : 0.3428954\t1.0000\n",
      "- batch loss and accuracy : 0.2596211\t1.0000\n",
      "- batch loss and accuracy : 1.7211077\t0.0000\n"
     ]
    },
    {
     "name": "stderr",
     "output_type": "stream",
     "text": [
      "epoch 41 - train: 98it [00:01, 52.27it/s]"
     ]
    },
    {
     "name": "stdout",
     "output_type": "stream",
     "text": [
      "- batch loss and accuracy : 0.1734407\t1.0000\n",
      "- batch loss and accuracy : 0.2182243\t1.0000\n",
      "- batch loss and accuracy : 0.1667147\t1.0000\n",
      "- batch loss and accuracy : 0.1757639\t1.0000\n"
     ]
    },
    {
     "name": "stderr",
     "output_type": "stream",
     "text": [
      "epoch 41 - train: 104it [00:01, 50.27it/s]"
     ]
    },
    {
     "name": "stdout",
     "output_type": "stream",
     "text": [
      "- batch loss and accuracy : 0.1684808\t1.0000\n",
      "- batch loss and accuracy : 0.0582980\t1.0000\n",
      "- batch loss and accuracy : 2.6681218\t0.0000\n",
      "- batch loss and accuracy : 0.0789979\t1.0000\n",
      "- batch loss and accuracy : 0.0505477\t1.0000\n",
      "- batch loss and accuracy : 2.4204335\t0.0000\n",
      "- batch loss and accuracy : 0.1088879\t1.0000\n",
      "- batch loss and accuracy : 0.2083387\t1.0000\n",
      "- batch loss and accuracy : 1.6531819\t0.0000\n",
      "- batch loss and accuracy : 0.1939932\t1.0000\n"
     ]
    },
    {
     "name": "stderr",
     "output_type": "stream",
     "text": [
      "epoch 41 - train: 116it [00:02, 50.12it/s]"
     ]
    },
    {
     "name": "stdout",
     "output_type": "stream",
     "text": [
      "- batch loss and accuracy : 0.3897545\t1.0000\n",
      "- batch loss and accuracy : 1.0749733\t0.0000\n",
      "- batch loss and accuracy : 0.8816230\t0.0000\n",
      "- batch loss and accuracy : 0.3434089\t1.0000\n",
      "- batch loss and accuracy : 0.7841815\t0.3333\n",
      "- batch loss and accuracy : 1.1331394\t0.3333\n",
      "- batch loss and accuracy : 0.4801861\t1.0000\n",
      "- batch loss and accuracy : 0.9560379\t0.6667\n",
      "- batch loss and accuracy : 0.6926519\t0.6667\n",
      "- batch loss and accuracy : 0.8526525\t0.3333\n",
      "- batch loss and accuracy : 0.7486292\t0.3333\n"
     ]
    },
    {
     "name": "stderr",
     "output_type": "stream",
     "text": [
      "epoch 41 - train: 128it [00:02, 52.07it/s]"
     ]
    },
    {
     "name": "stdout",
     "output_type": "stream",
     "text": [
      "- batch loss and accuracy : 1.1341307\t0.0000\n",
      "- batch loss and accuracy : 0.7395620\t0.3333\n",
      "- batch loss and accuracy : 0.7935804\t0.0000\n",
      "- batch loss and accuracy : 0.4977663\t0.6667\n",
      "- batch loss and accuracy : 0.7738935\t0.3333\n",
      "- batch loss and accuracy : 0.3869658\t1.0000\n",
      "- batch loss and accuracy : 0.3824136\t1.0000\n",
      "- batch loss and accuracy : 0.1487204\t1.0000\n",
      "- batch loss and accuracy : 0.0872106\t1.0000\n",
      "- batch loss and accuracy : 0.0613405\t1.0000\n",
      "- batch loss and accuracy : 0.0484177\t1.0000\n"
     ]
    },
    {
     "name": "stderr",
     "output_type": "stream",
     "text": [
      "epoch 41 - train: 134it [00:02, 52.95it/s]"
     ]
    },
    {
     "name": "stdout",
     "output_type": "stream",
     "text": [
      "- batch loss and accuracy : 0.0355673\t1.0000\n",
      "- batch loss and accuracy : 0.0235108\t1.0000\n",
      "- batch loss and accuracy : 0.0088357\t1.0000\n",
      "- batch loss and accuracy : 0.0102222\t1.0000\n",
      "- batch loss and accuracy : 5.6666727\t0.0000\n",
      "- batch loss and accuracy : 4.9285917\t0.0000\n",
      "- batch loss and accuracy : 4.5677061\t0.0000\n"
     ]
    },
    {
     "name": "stderr",
     "output_type": "stream",
     "text": [
      "epoch 41 - train: 140it [00:02, 50.12it/s]"
     ]
    },
    {
     "name": "stdout",
     "output_type": "stream",
     "text": [
      "- batch loss and accuracy : 0.0197158\t1.0000\n",
      "- batch loss and accuracy : 0.0286711\t1.0000\n",
      "- batch loss and accuracy : 0.0418393\t1.0000\n",
      "- batch loss and accuracy : 2.2584372\t0.0000\n",
      "- batch loss and accuracy : 1.3105779\t0.0000\n",
      "- batch loss and accuracy : 0.6050191\t1.0000\n"
     ]
    },
    {
     "name": "stderr",
     "output_type": "stream",
     "text": [
      "epoch 41 - train: 144it [00:02, 50.61it/s]\n"
     ]
    },
    {
     "name": "stdout",
     "output_type": "stream",
     "text": [
      "- batch loss and accuracy : 0.4816725\t0.6667\n"
     ]
    },
    {
     "ename": "KeyboardInterrupt",
     "evalue": "",
     "output_type": "error",
     "traceback": [
      "\u001b[0;31m---------------------------------------------------------------------------\u001b[0m",
      "\u001b[0;31mKeyboardInterrupt\u001b[0m                         Traceback (most recent call last)",
      "Cell \u001b[0;32mIn[11], line 16\u001b[0m\n\u001b[1;32m     14\u001b[0m \u001b[39mprint\u001b[39m(\u001b[39m\"\u001b[39m\u001b[39mEPOCH \u001b[39m\u001b[39m{}\u001b[39;00m\u001b[39m\"\u001b[39m\u001b[39m.\u001b[39mformat(e))\n\u001b[1;32m     15\u001b[0m \u001b[39m############val_loss, val_accuracy = one_epoch(model, lossFunction, output_activation, optimizer, train_loader, val_loader, writer, e)\u001b[39;00m\n\u001b[0;32m---> 16\u001b[0m val_loss, val_accuracy \u001b[39m=\u001b[39m one_epoch(model, lossFunction, output_activation, optimizer, dataloader_train, dataloader_validation, writer, e)\n\u001b[1;32m     18\u001b[0m \u001b[39m# store the validation metrics\u001b[39;00m\n\u001b[1;32m     19\u001b[0m val_losses[e] \u001b[39m=\u001b[39m val_loss\n",
      "Cell \u001b[0;32mIn[9], line 39\u001b[0m, in \u001b[0;36mone_epoch\u001b[0;34m(model, lossFunction, output_activation, optimizer, train_loader, val_loader, writer, epoch_num)\u001b[0m\n\u001b[1;32m     37\u001b[0m   \u001b[39mprint\u001b[39m(\u001b[39m\"\u001b[39m\u001b[39m- batch loss and accuracy : \u001b[39m\u001b[39m{:.7f}\u001b[39;00m\u001b[39m\\t\u001b[39;00m\u001b[39m{:.4f}\u001b[39;00m\u001b[39m\"\u001b[39m\u001b[39m.\u001b[39mformat(l\u001b[39m.\u001b[39mdetach()\u001b[39m.\u001b[39mitem(), acc))\n\u001b[1;32m     38\u001b[0m   writer\u001b[39m.\u001b[39madd_scalar(\u001b[39m'\u001b[39m\u001b[39mtrain/loss\u001b[39m\u001b[39m'\u001b[39m, l\u001b[39m.\u001b[39mdetach()\u001b[39m.\u001b[39mitem(), i_start\u001b[39m+\u001b[39mi)\n\u001b[0;32m---> 39\u001b[0m   writer\u001b[39m.\u001b[39;49madd_scalar(\u001b[39m'\u001b[39;49m\u001b[39mtrain/acc\u001b[39;49m\u001b[39m'\u001b[39;49m, acc, i_start\u001b[39m+\u001b[39;49mi)\n\u001b[1;32m     41\u001b[0m model\u001b[39m.\u001b[39meval()\n\u001b[1;32m     42\u001b[0m \u001b[39mwith\u001b[39;00m torch\u001b[39m.\u001b[39mno_grad():\n",
      "File \u001b[0;32m~/.local/lib/python3.10/site-packages/torch/utils/tensorboard/writer.py:388\u001b[0m, in \u001b[0;36mSummaryWriter.add_scalar\u001b[0;34m(self, tag, scalar_value, global_step, walltime, new_style, double_precision)\u001b[0m\n\u001b[1;32m    384\u001b[0m     \u001b[39mfrom\u001b[39;00m \u001b[39mcaffe2\u001b[39;00m\u001b[39m.\u001b[39;00m\u001b[39mpython\u001b[39;00m \u001b[39mimport\u001b[39;00m workspace\n\u001b[1;32m    386\u001b[0m     scalar_value \u001b[39m=\u001b[39m workspace\u001b[39m.\u001b[39mFetchBlob(scalar_value)\n\u001b[0;32m--> 388\u001b[0m summary \u001b[39m=\u001b[39m scalar(\n\u001b[1;32m    389\u001b[0m     tag, scalar_value, new_style\u001b[39m=\u001b[39;49mnew_style, double_precision\u001b[39m=\u001b[39;49mdouble_precision\n\u001b[1;32m    390\u001b[0m )\n\u001b[1;32m    391\u001b[0m \u001b[39mself\u001b[39m\u001b[39m.\u001b[39m_get_file_writer()\u001b[39m.\u001b[39madd_summary(summary, global_step, walltime)\n",
      "File \u001b[0;32m~/.local/lib/python3.10/site-packages/torch/utils/tensorboard/summary.py:280\u001b[0m, in \u001b[0;36mscalar\u001b[0;34m(name, tensor, collections, new_style, double_precision)\u001b[0m\n\u001b[1;32m    264\u001b[0m \u001b[39mdef\u001b[39;00m \u001b[39mscalar\u001b[39m(name, tensor, collections\u001b[39m=\u001b[39m\u001b[39mNone\u001b[39;00m, new_style\u001b[39m=\u001b[39m\u001b[39mFalse\u001b[39;00m, double_precision\u001b[39m=\u001b[39m\u001b[39mFalse\u001b[39;00m):\n\u001b[1;32m    265\u001b[0m \u001b[39m    \u001b[39m\u001b[39m\"\"\"Outputs a `Summary` protocol buffer containing a single scalar value.\u001b[39;00m\n\u001b[1;32m    266\u001b[0m \u001b[39m    The generated Summary has a Tensor.proto containing the input Tensor.\u001b[39;00m\n\u001b[1;32m    267\u001b[0m \u001b[39m    Args:\u001b[39;00m\n\u001b[0;32m   (...)\u001b[0m\n\u001b[1;32m    278\u001b[0m \u001b[39m      ValueError: If tensor has the wrong shape or type.\u001b[39;00m\n\u001b[1;32m    279\u001b[0m \u001b[39m    \"\"\"\u001b[39;00m\n\u001b[0;32m--> 280\u001b[0m     tensor \u001b[39m=\u001b[39m make_np(tensor)\u001b[39m.\u001b[39msqueeze()\n\u001b[1;32m    281\u001b[0m     \u001b[39massert\u001b[39;00m (\n\u001b[1;32m    282\u001b[0m         tensor\u001b[39m.\u001b[39mndim \u001b[39m==\u001b[39m \u001b[39m0\u001b[39m\n\u001b[1;32m    283\u001b[0m     ), \u001b[39mf\u001b[39m\u001b[39m\"\u001b[39m\u001b[39mTensor should contain one element (0 dimensions). Was given size: \u001b[39m\u001b[39m{\u001b[39;00mtensor\u001b[39m.\u001b[39msize\u001b[39m}\u001b[39;00m\u001b[39m and \u001b[39m\u001b[39m{\u001b[39;00mtensor\u001b[39m.\u001b[39mndim\u001b[39m}\u001b[39;00m\u001b[39m dimensions.\u001b[39m\u001b[39m\"\u001b[39m\n\u001b[1;32m    284\u001b[0m     \u001b[39m# python float is double precision in numpy\u001b[39;00m\n",
      "File \u001b[0;32m~/.local/lib/python3.10/site-packages/torch/utils/tensorboard/_convert_np.py:23\u001b[0m, in \u001b[0;36mmake_np\u001b[0;34m(x)\u001b[0m\n\u001b[1;32m     21\u001b[0m     \u001b[39mreturn\u001b[39;00m np\u001b[39m.\u001b[39marray([x])\n\u001b[1;32m     22\u001b[0m \u001b[39mif\u001b[39;00m \u001b[39misinstance\u001b[39m(x, torch\u001b[39m.\u001b[39mTensor):\n\u001b[0;32m---> 23\u001b[0m     \u001b[39mreturn\u001b[39;00m _prepare_pytorch(x)\n\u001b[1;32m     24\u001b[0m \u001b[39mraise\u001b[39;00m \u001b[39mNotImplementedError\u001b[39;00m(\n\u001b[1;32m     25\u001b[0m     \u001b[39m\"\u001b[39m\u001b[39mGot \u001b[39m\u001b[39m{}\u001b[39;00m\u001b[39m, but numpy array, torch tensor, or caffe2 blob name are expected.\u001b[39m\u001b[39m\"\u001b[39m\u001b[39m.\u001b[39mformat(\n\u001b[1;32m     26\u001b[0m         \u001b[39mtype\u001b[39m(x)\n\u001b[1;32m     27\u001b[0m     )\n\u001b[1;32m     28\u001b[0m )\n",
      "File \u001b[0;32m~/.local/lib/python3.10/site-packages/torch/utils/tensorboard/_convert_np.py:32\u001b[0m, in \u001b[0;36m_prepare_pytorch\u001b[0;34m(x)\u001b[0m\n\u001b[1;32m     31\u001b[0m \u001b[39mdef\u001b[39;00m \u001b[39m_prepare_pytorch\u001b[39m(x):\n\u001b[0;32m---> 32\u001b[0m     x \u001b[39m=\u001b[39m x\u001b[39m.\u001b[39;49mdetach()\u001b[39m.\u001b[39;49mcpu()\u001b[39m.\u001b[39mnumpy()\n\u001b[1;32m     33\u001b[0m     \u001b[39mreturn\u001b[39;00m x\n",
      "\u001b[0;31mKeyboardInterrupt\u001b[0m: "
     ]
    }
   ],
   "source": [
    "from torch.utils.data import DataLoader\n",
    "#######dataloader_params = {\"batch_size\": batch_size, \"num_workers\": 2, \"pin_memory\": True}\n",
    "#######train_loader = DataLoader(train_dataset, shuffle=True, **dataloader_params)\n",
    "######val_loader = DataLoader(val_dataset, shuffle=False, **dataloader_params)\n",
    "\n",
    "# early stopping and best model saving\n",
    "early_stopping_counter = early_stopping_patience\n",
    "min_val_loss = 1e10\n",
    "\n",
    "# training and validation\n",
    "val_losses = torch.zeros(epochs)\n",
    "val_accuracies = torch.zeros(epochs)\n",
    "for e in range(epochs):\n",
    "  print(\"EPOCH {}\".format(e))\n",
    "  ############val_loss, val_accuracy = one_epoch(model, lossFunction, output_activation, optimizer, train_loader, val_loader, writer, e)\n",
    "  val_loss, val_accuracy = one_epoch(model, lossFunction, output_activation, optimizer, dataloader_train, dataloader_validation, writer, e)\n",
    "\n",
    "  # store the validation metrics\n",
    "  val_losses[e] = val_loss\n",
    "  val_accuracies[e] = val_accuracy\n",
    "  torch.save(val_losses, os.path.join(experiment_name,'val_losses.pth'))\n",
    "  torch.save(val_accuracies, os.path.join(experiment_name,'val_accuracies.pth'))\n",
    "\n",
    "  # save the best model and check the early stopping criteria\n",
    "  if val_loss < min_val_loss: # save the best model\n",
    "    min_val_loss = val_loss\n",
    "    early_stopping_counter = early_stopping_patience # reset early stopping counter\n",
    "    torch.save(model.state_dict(), os.path.join(experiment_name,'best_model.pth'))\n",
    "    print(\"- saved best model: val_loss =\", val_loss, \"val_accuracy =\", val_accuracy)\n",
    "\n",
    "  if e>0: # early stopping counter update\n",
    "    if val_losses[e] > val_losses[e-1]:\n",
    "        early_stopping_counter -= 1 # update early stopping counter\n",
    "    else:\n",
    "        early_stopping_counter = early_stopping_patience # reset early stopping counter\n",
    "  if early_stopping_counter == 0: # early stopping\n",
    "      break"
   ]
  },
  {
   "cell_type": "code",
   "execution_count": null,
   "metadata": {},
   "outputs": [],
   "source": [
    "from torch.utils.data import DataLoader\n",
    "#dataloader_params = {\"batch_size\": batch_size, \"num_workers\": 2, \"pin_memory\": True}\n",
    "#val_loader = DataLoader(val_dataset, shuffle=False, **dataloader_params)\n",
    "\n",
    "#model = build_AlexNet(1).cuda()\n",
    "#model.load_state_dict(torch.load(os.path.join(experiment_name,'best_model.pth')))\n",
    "\n",
    "Y, Y_hat = [], []\n",
    "with torch.no_grad():\n",
    "  model.eval()\n",
    "  for X, y in dataloader_validation:\n",
    "    Y.append(y)\n",
    "    Y_hat.append((output_activation(model(X.cuda())) > .5).squeeze().cpu())\n",
    "\n",
    "Y = torch.concatenate(Y)\n",
    "Y_hat = torch.concatenate(Y_hat)\n",
    "print(\"Validation accuracy:\", (Y==Y_hat).float().mean().item())\n",
    "from sklearn.metrics import confusion_matrix\n",
    "confusion_matrix(Y, Y_hat)"
   ]
  }
 ],
 "metadata": {
  "kernelspec": {
   "display_name": "base",
   "language": "python",
   "name": "python3"
  },
  "language_info": {
   "codemirror_mode": {
    "name": "ipython",
    "version": 3
   },
   "file_extension": ".py",
   "mimetype": "text/x-python",
   "name": "python",
   "nbconvert_exporter": "python",
   "pygments_lexer": "ipython3",
   "version": "3.10.6"
  },
  "orig_nbformat": 4
 },
 "nbformat": 4,
 "nbformat_minor": 2
}
